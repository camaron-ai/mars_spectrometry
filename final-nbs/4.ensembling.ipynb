{
 "cells": [
  {
   "cell_type": "code",
   "execution_count": 1,
   "id": "2356f65b",
   "metadata": {
    "ExecuteTime": {
     "end_time": "2022-04-17T22:13:00.339778Z",
     "start_time": "2022-04-17T22:13:00.275095Z"
    }
   },
   "outputs": [],
   "source": [
    "%load_ext autoreload\n",
    "%autoreload 2"
   ]
  },
  {
   "cell_type": "code",
   "execution_count": 2,
   "id": "09d5bff1",
   "metadata": {
    "ExecuteTime": {
     "end_time": "2022-04-17T22:13:03.297471Z",
     "start_time": "2022-04-17T22:13:00.353016Z"
    }
   },
   "outputs": [],
   "source": [
    "from pathlib import Path\n",
    "import pandas as pd\n",
    "import numpy as np\n",
    "from matplotlib import pyplot as plt\n",
    "import seaborn as sns\n",
    "import os"
   ]
  },
  {
   "cell_type": "code",
   "execution_count": 3,
   "id": "875d884c",
   "metadata": {
    "ExecuteTime": {
     "end_time": "2022-04-17T22:13:03.335608Z",
     "start_time": "2022-04-17T22:13:03.301229Z"
    }
   },
   "outputs": [],
   "source": [
    "PROJECT_DIR = os.path.abspath('.')\n",
    "if PROJECT_DIR.endswith('final-nbs'):\n",
    "    PROJECT_DIR = os.path.abspath('../')\n",
    "    os.chdir(PROJECT_DIR)"
   ]
  },
  {
   "cell_type": "code",
   "execution_count": 4,
   "id": "97271405",
   "metadata": {
    "ExecuteTime": {
     "end_time": "2022-04-17T22:13:03.443376Z",
     "start_time": "2022-04-17T22:13:03.340435Z"
    }
   },
   "outputs": [],
   "source": [
    "import cfg\n",
    "from src.data import get_features_path_from_metadata, join_dataframe_columns\n",
    "from src import util\n",
    "from src.data import setup_directories\n",
    "util.setup_logging()\n",
    "\n",
    "dirs = setup_directories(cfg.DATA_DIR, create_dirs=True)"
   ]
  },
  {
   "cell_type": "code",
   "execution_count": 5,
   "id": "9eb14b97",
   "metadata": {
    "ExecuteTime": {
     "end_time": "2022-04-17T22:13:03.470445Z",
     "start_time": "2022-04-17T22:13:03.447474Z"
    }
   },
   "outputs": [],
   "source": [
    "raw_dir = Path(dirs['raw'])\n",
    "train_dir = Path(dirs['train'])\n",
    "cv_dir = Path(dirs['cv']['final-validation'])"
   ]
  },
  {
   "cell_type": "code",
   "execution_count": 6,
   "id": "97f13502",
   "metadata": {
    "ExecuteTime": {
     "end_time": "2022-04-17T22:13:03.517733Z",
     "start_time": "2022-04-17T22:13:03.473590Z"
    }
   },
   "outputs": [
    {
     "data": {
      "text/html": [
       "<div>\n",
       "<style scoped>\n",
       "    .dataframe tbody tr th:only-of-type {\n",
       "        vertical-align: middle;\n",
       "    }\n",
       "\n",
       "    .dataframe tbody tr th {\n",
       "        vertical-align: top;\n",
       "    }\n",
       "\n",
       "    .dataframe thead th {\n",
       "        text-align: right;\n",
       "    }\n",
       "</style>\n",
       "<table border=\"1\" class=\"dataframe\">\n",
       "  <thead>\n",
       "    <tr style=\"text-align: right;\">\n",
       "      <th></th>\n",
       "      <th>split</th>\n",
       "      <th>instrument_type</th>\n",
       "      <th>features_path</th>\n",
       "      <th>features_md5_hash</th>\n",
       "    </tr>\n",
       "    <tr>\n",
       "      <th>sample_id</th>\n",
       "      <th></th>\n",
       "      <th></th>\n",
       "      <th></th>\n",
       "      <th></th>\n",
       "    </tr>\n",
       "  </thead>\n",
       "  <tbody>\n",
       "    <tr>\n",
       "      <th>S0000</th>\n",
       "      <td>train</td>\n",
       "      <td>commercial</td>\n",
       "      <td>train_features/S0000.csv</td>\n",
       "      <td>017b9a71a702e81a828e6242aa15f049</td>\n",
       "    </tr>\n",
       "    <tr>\n",
       "      <th>S0001</th>\n",
       "      <td>train</td>\n",
       "      <td>commercial</td>\n",
       "      <td>train_features/S0001.csv</td>\n",
       "      <td>0d09840214054d254bd49436c6a6f315</td>\n",
       "    </tr>\n",
       "    <tr>\n",
       "      <th>S0002</th>\n",
       "      <td>train</td>\n",
       "      <td>commercial</td>\n",
       "      <td>train_features/S0002.csv</td>\n",
       "      <td>3f58b3c9b001bfed6ed4e4f757083e09</td>\n",
       "    </tr>\n",
       "    <tr>\n",
       "      <th>S0003</th>\n",
       "      <td>train</td>\n",
       "      <td>commercial</td>\n",
       "      <td>train_features/S0003.csv</td>\n",
       "      <td>e9a12f96114a2fda60b36f4c0f513fb1</td>\n",
       "    </tr>\n",
       "    <tr>\n",
       "      <th>S0004</th>\n",
       "      <td>train</td>\n",
       "      <td>commercial</td>\n",
       "      <td>train_features/S0004.csv</td>\n",
       "      <td>b67603d3931897bfa796ac42cc16de78</td>\n",
       "    </tr>\n",
       "  </tbody>\n",
       "</table>\n",
       "</div>"
      ],
      "text/plain": [
       "           split instrument_type             features_path  \\\n",
       "sample_id                                                    \n",
       "S0000      train      commercial  train_features/S0000.csv   \n",
       "S0001      train      commercial  train_features/S0001.csv   \n",
       "S0002      train      commercial  train_features/S0002.csv   \n",
       "S0003      train      commercial  train_features/S0003.csv   \n",
       "S0004      train      commercial  train_features/S0004.csv   \n",
       "\n",
       "                          features_md5_hash  \n",
       "sample_id                                    \n",
       "S0000      017b9a71a702e81a828e6242aa15f049  \n",
       "S0001      0d09840214054d254bd49436c6a6f315  \n",
       "S0002      3f58b3c9b001bfed6ed4e4f757083e09  \n",
       "S0003      e9a12f96114a2fda60b36f4c0f513fb1  \n",
       "S0004      b67603d3931897bfa796ac42cc16de78  "
      ]
     },
     "execution_count": 6,
     "metadata": {},
     "output_type": "execute_result"
    }
   ],
   "source": [
    "# read metadata\n",
    "pd_metadata = pd.read_csv(raw_dir / \"metadata.csv\", index_col=\"sample_id\")\n",
    "pd_metadata.head()"
   ]
  },
  {
   "cell_type": "code",
   "execution_count": 7,
   "id": "f426d36d",
   "metadata": {
    "ExecuteTime": {
     "end_time": "2022-04-17T22:13:03.541000Z",
     "start_time": "2022-04-17T22:13:03.521401Z"
    }
   },
   "outputs": [],
   "source": [
    "sub_dir = Path(dirs['submission'])"
   ]
  },
  {
   "cell_type": "code",
   "execution_count": 8,
   "id": "a73f284a",
   "metadata": {
    "ExecuteTime": {
     "end_time": "2022-04-17T22:13:03.585293Z",
     "start_time": "2022-04-17T22:13:03.544980Z"
    }
   },
   "outputs": [],
   "source": [
    "train_target = pd.read_csv(raw_dir / 'train_labels.csv', index_col='sample_id')"
   ]
  },
  {
   "cell_type": "code",
   "execution_count": 9,
   "id": "445b87cd",
   "metadata": {
    "ExecuteTime": {
     "end_time": "2022-04-17T22:13:03.623627Z",
     "start_time": "2022-04-17T22:13:03.588731Z"
    }
   },
   "outputs": [],
   "source": [
    "train_lgbm = pd.read_csv(sub_dir.joinpath('lgbm', 'validation', 'train.csv'), index_col='sample_id')\n"
   ]
  },
  {
   "cell_type": "code",
   "execution_count": 10,
   "id": "75cc379c",
   "metadata": {
    "ExecuteTime": {
     "end_time": "2022-04-17T22:13:03.675207Z",
     "start_time": "2022-04-17T22:13:03.629788Z"
    }
   },
   "outputs": [],
   "source": [
    "train_opt_lgbm = pd.read_csv(sub_dir.joinpath('optimized-iteration-lgbm', 'validation', 'train.csv'), index_col='sample_id')"
   ]
  },
  {
   "cell_type": "code",
   "execution_count": 11,
   "id": "16f2096f",
   "metadata": {
    "ExecuteTime": {
     "end_time": "2022-04-17T22:13:03.735459Z",
     "start_time": "2022-04-17T22:13:03.679391Z"
    }
   },
   "outputs": [],
   "source": [
    "train_svm = pd.read_csv(sub_dir.joinpath('svm', 'validation', 'train.csv'), index_col='sample_id')"
   ]
  },
  {
   "cell_type": "code",
   "execution_count": 12,
   "id": "d14294aa",
   "metadata": {
    "ExecuteTime": {
     "end_time": "2022-04-17T22:13:03.777288Z",
     "start_time": "2022-04-17T22:13:03.739295Z"
    }
   },
   "outputs": [],
   "source": [
    "train_preds = {'lgbm': train_lgbm, 'svm': train_svm, 'lgbm_opt': train_opt_lgbm}"
   ]
  },
  {
   "cell_type": "code",
   "execution_count": 13,
   "id": "e8296eee",
   "metadata": {
    "ExecuteTime": {
     "end_time": "2022-04-17T22:13:03.996535Z",
     "start_time": "2022-04-17T22:13:03.783268Z"
    }
   },
   "outputs": [],
   "source": [
    "from src.metrics import compute_scores"
   ]
  },
  {
   "cell_type": "code",
   "execution_count": 14,
   "id": "65ca48c9",
   "metadata": {
    "ExecuteTime": {
     "end_time": "2022-04-17T22:13:04.047967Z",
     "start_time": "2022-04-17T22:13:04.000777Z"
    }
   },
   "outputs": [],
   "source": [
    "valid_target = pd.read_csv(raw_dir / 'val_labels.csv', index_col='sample_id')"
   ]
  },
  {
   "cell_type": "code",
   "execution_count": 15,
   "id": "f2b60409",
   "metadata": {
    "ExecuteTime": {
     "end_time": "2022-04-17T22:13:04.087017Z",
     "start_time": "2022-04-17T22:13:04.052637Z"
    }
   },
   "outputs": [],
   "source": [
    "valid_lgbm = pd.read_csv(sub_dir.joinpath('lgbm', 'validation', 'submission.csv'), index_col='sample_id')\n",
    "valid_lgbm = valid_lgbm.loc[valid_target.index]"
   ]
  },
  {
   "cell_type": "code",
   "execution_count": 16,
   "id": "2c5fe11e",
   "metadata": {
    "ExecuteTime": {
     "end_time": "2022-04-17T22:13:04.124792Z",
     "start_time": "2022-04-17T22:13:04.091757Z"
    }
   },
   "outputs": [],
   "source": [
    "valid_svm = pd.read_csv(sub_dir.joinpath('svm', 'validation', 'submission.csv'), index_col='sample_id')\n",
    "valid_svm = valid_svm.loc[valid_target.index]"
   ]
  },
  {
   "cell_type": "code",
   "execution_count": 17,
   "id": "109c00ba",
   "metadata": {
    "ExecuteTime": {
     "end_time": "2022-04-17T22:13:04.168079Z",
     "start_time": "2022-04-17T22:13:04.129060Z"
    }
   },
   "outputs": [],
   "source": [
    "valid_opt_lgbm = pd.read_csv(sub_dir.joinpath('optimized-iteration-lgbm', 'validation', 'submission.csv'), index_col='sample_id')\n",
    "valid_opt_lgbm = valid_opt_lgbm.loc[valid_target.index]"
   ]
  },
  {
   "cell_type": "code",
   "execution_count": 18,
   "id": "54b01b05",
   "metadata": {
    "ExecuteTime": {
     "end_time": "2022-04-17T22:13:04.206137Z",
     "start_time": "2022-04-17T22:13:04.171161Z"
    }
   },
   "outputs": [],
   "source": [
    "valid_lgbm_raw_target = pd.read_csv(sub_dir.joinpath('lgbm-raw-target', 'validation', 'submission.csv'), index_col='sample_id')\n",
    "valid_lgbm_raw_target = valid_lgbm_raw_target.loc[valid_target.index]"
   ]
  },
  {
   "cell_type": "code",
   "execution_count": 19,
   "id": "18c0f9b8",
   "metadata": {
    "ExecuteTime": {
     "end_time": "2022-04-17T22:13:04.238513Z",
     "start_time": "2022-04-17T22:13:04.209085Z"
    }
   },
   "outputs": [],
   "source": [
    "valid_preds = {'lgbm': valid_lgbm, 'svm': valid_svm, 'lgbm_opt': valid_opt_lgbm}"
   ]
  },
  {
   "cell_type": "code",
   "execution_count": 20,
   "id": "491f25c8",
   "metadata": {
    "ExecuteTime": {
     "end_time": "2022-04-17T22:13:04.325972Z",
     "start_time": "2022-04-17T22:13:04.242628Z"
    }
   },
   "outputs": [],
   "source": [
    "train_scores = {model: compute_scores(train_target.loc[pred.index], pred) for model, pred in train_preds.items()}\n",
    "train_scores = pd.DataFrame(train_scores).T.sort_values(by=['avg_loss'])"
   ]
  },
  {
   "cell_type": "code",
   "execution_count": 21,
   "id": "6e8f9707",
   "metadata": {
    "ExecuteTime": {
     "end_time": "2022-04-17T22:13:04.404857Z",
     "start_time": "2022-04-17T22:13:04.330961Z"
    }
   },
   "outputs": [],
   "source": [
    "valid_scores = {model: compute_scores(valid_target, pred) for model, pred in valid_preds.items()}\n",
    "valid_scores = pd.DataFrame(valid_scores).T.sort_values(by=['avg_loss'])"
   ]
  },
  {
   "cell_type": "code",
   "execution_count": 22,
   "id": "8c7044f0",
   "metadata": {
    "ExecuteTime": {
     "end_time": "2022-04-17T22:13:04.458654Z",
     "start_time": "2022-04-17T22:13:04.408678Z"
    }
   },
   "outputs": [
    {
     "data": {
      "text/html": [
       "<div>\n",
       "<style scoped>\n",
       "    .dataframe tbody tr th:only-of-type {\n",
       "        vertical-align: middle;\n",
       "    }\n",
       "\n",
       "    .dataframe tbody tr th {\n",
       "        vertical-align: top;\n",
       "    }\n",
       "\n",
       "    .dataframe thead th {\n",
       "        text-align: right;\n",
       "    }\n",
       "</style>\n",
       "<table border=\"1\" class=\"dataframe\">\n",
       "  <thead>\n",
       "    <tr style=\"text-align: right;\">\n",
       "      <th></th>\n",
       "      <th>avg_loss</th>\n",
       "      <th>basalt</th>\n",
       "      <th>carbonate</th>\n",
       "      <th>chloride</th>\n",
       "      <th>iron_oxide</th>\n",
       "      <th>oxalate</th>\n",
       "      <th>oxychlorine</th>\n",
       "      <th>phyllosilicate</th>\n",
       "      <th>silicate</th>\n",
       "      <th>sulfate</th>\n",
       "      <th>sulfide</th>\n",
       "    </tr>\n",
       "  </thead>\n",
       "  <tbody>\n",
       "    <tr>\n",
       "      <th>lgbm</th>\n",
       "      <td>0.148647</td>\n",
       "      <td>0.148160</td>\n",
       "      <td>0.105470</td>\n",
       "      <td>0.165768</td>\n",
       "      <td>0.194717</td>\n",
       "      <td>0.028971</td>\n",
       "      <td>0.155453</td>\n",
       "      <td>0.253595</td>\n",
       "      <td>0.182050</td>\n",
       "      <td>0.189172</td>\n",
       "      <td>0.063119</td>\n",
       "    </tr>\n",
       "    <tr>\n",
       "      <th>lgbm_opt</th>\n",
       "      <td>0.149679</td>\n",
       "      <td>0.152719</td>\n",
       "      <td>0.107892</td>\n",
       "      <td>0.168116</td>\n",
       "      <td>0.201856</td>\n",
       "      <td>0.027791</td>\n",
       "      <td>0.157189</td>\n",
       "      <td>0.256627</td>\n",
       "      <td>0.179267</td>\n",
       "      <td>0.186433</td>\n",
       "      <td>0.058901</td>\n",
       "    </tr>\n",
       "    <tr>\n",
       "      <th>svm</th>\n",
       "      <td>0.154184</td>\n",
       "      <td>0.147894</td>\n",
       "      <td>0.101944</td>\n",
       "      <td>0.170994</td>\n",
       "      <td>0.202152</td>\n",
       "      <td>0.028129</td>\n",
       "      <td>0.169677</td>\n",
       "      <td>0.273264</td>\n",
       "      <td>0.191609</td>\n",
       "      <td>0.190642</td>\n",
       "      <td>0.065532</td>\n",
       "    </tr>\n",
       "  </tbody>\n",
       "</table>\n",
       "</div>"
      ],
      "text/plain": [
       "          avg_loss    basalt  carbonate  chloride  iron_oxide   oxalate  \\\n",
       "lgbm      0.148647  0.148160   0.105470  0.165768    0.194717  0.028971   \n",
       "lgbm_opt  0.149679  0.152719   0.107892  0.168116    0.201856  0.027791   \n",
       "svm       0.154184  0.147894   0.101944  0.170994    0.202152  0.028129   \n",
       "\n",
       "          oxychlorine  phyllosilicate  silicate   sulfate   sulfide  \n",
       "lgbm         0.155453        0.253595  0.182050  0.189172  0.063119  \n",
       "lgbm_opt     0.157189        0.256627  0.179267  0.186433  0.058901  \n",
       "svm          0.169677        0.273264  0.191609  0.190642  0.065532  "
      ]
     },
     "execution_count": 22,
     "metadata": {},
     "output_type": "execute_result"
    }
   ],
   "source": [
    "train_scores"
   ]
  },
  {
   "cell_type": "code",
   "execution_count": 23,
   "id": "4d9dbc5f",
   "metadata": {
    "ExecuteTime": {
     "end_time": "2022-04-17T22:13:04.504375Z",
     "start_time": "2022-04-17T22:13:04.464025Z"
    }
   },
   "outputs": [
    {
     "data": {
      "text/html": [
       "<div>\n",
       "<style scoped>\n",
       "    .dataframe tbody tr th:only-of-type {\n",
       "        vertical-align: middle;\n",
       "    }\n",
       "\n",
       "    .dataframe tbody tr th {\n",
       "        vertical-align: top;\n",
       "    }\n",
       "\n",
       "    .dataframe thead th {\n",
       "        text-align: right;\n",
       "    }\n",
       "</style>\n",
       "<table border=\"1\" class=\"dataframe\">\n",
       "  <thead>\n",
       "    <tr style=\"text-align: right;\">\n",
       "      <th></th>\n",
       "      <th>avg_loss</th>\n",
       "      <th>basalt</th>\n",
       "      <th>carbonate</th>\n",
       "      <th>chloride</th>\n",
       "      <th>iron_oxide</th>\n",
       "      <th>oxalate</th>\n",
       "      <th>oxychlorine</th>\n",
       "      <th>phyllosilicate</th>\n",
       "      <th>silicate</th>\n",
       "      <th>sulfate</th>\n",
       "      <th>sulfide</th>\n",
       "    </tr>\n",
       "  </thead>\n",
       "  <tbody>\n",
       "    <tr>\n",
       "      <th>lgbm_opt</th>\n",
       "      <td>0.139441</td>\n",
       "      <td>0.122080</td>\n",
       "      <td>0.114622</td>\n",
       "      <td>0.160589</td>\n",
       "      <td>0.220167</td>\n",
       "      <td>0.018175</td>\n",
       "      <td>0.155199</td>\n",
       "      <td>0.212064</td>\n",
       "      <td>0.177936</td>\n",
       "      <td>0.169067</td>\n",
       "      <td>0.044511</td>\n",
       "    </tr>\n",
       "    <tr>\n",
       "      <th>lgbm</th>\n",
       "      <td>0.139668</td>\n",
       "      <td>0.119528</td>\n",
       "      <td>0.119755</td>\n",
       "      <td>0.159714</td>\n",
       "      <td>0.223741</td>\n",
       "      <td>0.021868</td>\n",
       "      <td>0.154865</td>\n",
       "      <td>0.208771</td>\n",
       "      <td>0.178920</td>\n",
       "      <td>0.165185</td>\n",
       "      <td>0.044332</td>\n",
       "    </tr>\n",
       "    <tr>\n",
       "      <th>svm</th>\n",
       "      <td>0.158643</td>\n",
       "      <td>0.130487</td>\n",
       "      <td>0.123351</td>\n",
       "      <td>0.170053</td>\n",
       "      <td>0.244879</td>\n",
       "      <td>0.021972</td>\n",
       "      <td>0.198306</td>\n",
       "      <td>0.258428</td>\n",
       "      <td>0.183300</td>\n",
       "      <td>0.207186</td>\n",
       "      <td>0.048464</td>\n",
       "    </tr>\n",
       "  </tbody>\n",
       "</table>\n",
       "</div>"
      ],
      "text/plain": [
       "          avg_loss    basalt  carbonate  chloride  iron_oxide   oxalate  \\\n",
       "lgbm_opt  0.139441  0.122080   0.114622  0.160589    0.220167  0.018175   \n",
       "lgbm      0.139668  0.119528   0.119755  0.159714    0.223741  0.021868   \n",
       "svm       0.158643  0.130487   0.123351  0.170053    0.244879  0.021972   \n",
       "\n",
       "          oxychlorine  phyllosilicate  silicate   sulfate   sulfide  \n",
       "lgbm_opt     0.155199        0.212064  0.177936  0.169067  0.044511  \n",
       "lgbm         0.154865        0.208771  0.178920  0.165185  0.044332  \n",
       "svm          0.198306        0.258428  0.183300  0.207186  0.048464  "
      ]
     },
     "execution_count": 23,
     "metadata": {},
     "output_type": "execute_result"
    }
   ],
   "source": [
    "valid_scores"
   ]
  },
  {
   "cell_type": "code",
   "execution_count": 24,
   "id": "c1b850d7",
   "metadata": {
    "ExecuteTime": {
     "end_time": "2022-04-17T22:13:04.555621Z",
     "start_time": "2022-04-17T22:13:04.509160Z"
    }
   },
   "outputs": [],
   "source": [
    "joined_scores = train_scores.assign(set_type='train').append(valid_scores.assign(set_type='valid'))\n",
    "\n",
    "joined_scores = (\n",
    "    joined_scores\n",
    "    .reset_index()\n",
    "    .rename(columns={'index': 'model'})\n",
    "    .pivot('model', 'set_type')\n",
    ")"
   ]
  },
  {
   "cell_type": "code",
   "execution_count": 25,
   "id": "6b23c56c",
   "metadata": {
    "ExecuteTime": {
     "end_time": "2022-04-17T22:13:04.606542Z",
     "start_time": "2022-04-17T22:13:04.559240Z"
    }
   },
   "outputs": [
    {
     "data": {
      "text/html": [
       "<div>\n",
       "<style scoped>\n",
       "    .dataframe tbody tr th:only-of-type {\n",
       "        vertical-align: middle;\n",
       "    }\n",
       "\n",
       "    .dataframe tbody tr th {\n",
       "        vertical-align: top;\n",
       "    }\n",
       "\n",
       "    .dataframe thead th {\n",
       "        text-align: right;\n",
       "    }\n",
       "</style>\n",
       "<table border=\"1\" class=\"dataframe\">\n",
       "  <thead>\n",
       "    <tr style=\"text-align: right;\">\n",
       "      <th></th>\n",
       "      <th>model</th>\n",
       "      <th>lgbm</th>\n",
       "      <th>lgbm_opt</th>\n",
       "      <th>svm</th>\n",
       "    </tr>\n",
       "    <tr>\n",
       "      <th></th>\n",
       "      <th>set_type</th>\n",
       "      <th></th>\n",
       "      <th></th>\n",
       "      <th></th>\n",
       "    </tr>\n",
       "  </thead>\n",
       "  <tbody>\n",
       "    <tr>\n",
       "      <th rowspan=\"2\" valign=\"top\">avg_loss</th>\n",
       "      <th>train</th>\n",
       "      <td>0.148647</td>\n",
       "      <td>0.149679</td>\n",
       "      <td>0.154184</td>\n",
       "    </tr>\n",
       "    <tr>\n",
       "      <th>valid</th>\n",
       "      <td>0.139668</td>\n",
       "      <td>0.139441</td>\n",
       "      <td>0.158643</td>\n",
       "    </tr>\n",
       "    <tr>\n",
       "      <th rowspan=\"2\" valign=\"top\">basalt</th>\n",
       "      <th>train</th>\n",
       "      <td>0.148160</td>\n",
       "      <td>0.152719</td>\n",
       "      <td>0.147894</td>\n",
       "    </tr>\n",
       "    <tr>\n",
       "      <th>valid</th>\n",
       "      <td>0.119528</td>\n",
       "      <td>0.122080</td>\n",
       "      <td>0.130487</td>\n",
       "    </tr>\n",
       "    <tr>\n",
       "      <th rowspan=\"2\" valign=\"top\">carbonate</th>\n",
       "      <th>train</th>\n",
       "      <td>0.105470</td>\n",
       "      <td>0.107892</td>\n",
       "      <td>0.101944</td>\n",
       "    </tr>\n",
       "    <tr>\n",
       "      <th>valid</th>\n",
       "      <td>0.119755</td>\n",
       "      <td>0.114622</td>\n",
       "      <td>0.123351</td>\n",
       "    </tr>\n",
       "    <tr>\n",
       "      <th rowspan=\"2\" valign=\"top\">chloride</th>\n",
       "      <th>train</th>\n",
       "      <td>0.165768</td>\n",
       "      <td>0.168116</td>\n",
       "      <td>0.170994</td>\n",
       "    </tr>\n",
       "    <tr>\n",
       "      <th>valid</th>\n",
       "      <td>0.159714</td>\n",
       "      <td>0.160589</td>\n",
       "      <td>0.170053</td>\n",
       "    </tr>\n",
       "    <tr>\n",
       "      <th rowspan=\"2\" valign=\"top\">iron_oxide</th>\n",
       "      <th>train</th>\n",
       "      <td>0.194717</td>\n",
       "      <td>0.201856</td>\n",
       "      <td>0.202152</td>\n",
       "    </tr>\n",
       "    <tr>\n",
       "      <th>valid</th>\n",
       "      <td>0.223741</td>\n",
       "      <td>0.220167</td>\n",
       "      <td>0.244879</td>\n",
       "    </tr>\n",
       "    <tr>\n",
       "      <th rowspan=\"2\" valign=\"top\">oxalate</th>\n",
       "      <th>train</th>\n",
       "      <td>0.028971</td>\n",
       "      <td>0.027791</td>\n",
       "      <td>0.028129</td>\n",
       "    </tr>\n",
       "    <tr>\n",
       "      <th>valid</th>\n",
       "      <td>0.021868</td>\n",
       "      <td>0.018175</td>\n",
       "      <td>0.021972</td>\n",
       "    </tr>\n",
       "    <tr>\n",
       "      <th rowspan=\"2\" valign=\"top\">oxychlorine</th>\n",
       "      <th>train</th>\n",
       "      <td>0.155453</td>\n",
       "      <td>0.157189</td>\n",
       "      <td>0.169677</td>\n",
       "    </tr>\n",
       "    <tr>\n",
       "      <th>valid</th>\n",
       "      <td>0.154865</td>\n",
       "      <td>0.155199</td>\n",
       "      <td>0.198306</td>\n",
       "    </tr>\n",
       "    <tr>\n",
       "      <th rowspan=\"2\" valign=\"top\">phyllosilicate</th>\n",
       "      <th>train</th>\n",
       "      <td>0.253595</td>\n",
       "      <td>0.256627</td>\n",
       "      <td>0.273264</td>\n",
       "    </tr>\n",
       "    <tr>\n",
       "      <th>valid</th>\n",
       "      <td>0.208771</td>\n",
       "      <td>0.212064</td>\n",
       "      <td>0.258428</td>\n",
       "    </tr>\n",
       "    <tr>\n",
       "      <th rowspan=\"2\" valign=\"top\">silicate</th>\n",
       "      <th>train</th>\n",
       "      <td>0.182050</td>\n",
       "      <td>0.179267</td>\n",
       "      <td>0.191609</td>\n",
       "    </tr>\n",
       "    <tr>\n",
       "      <th>valid</th>\n",
       "      <td>0.178920</td>\n",
       "      <td>0.177936</td>\n",
       "      <td>0.183300</td>\n",
       "    </tr>\n",
       "    <tr>\n",
       "      <th rowspan=\"2\" valign=\"top\">sulfate</th>\n",
       "      <th>train</th>\n",
       "      <td>0.189172</td>\n",
       "      <td>0.186433</td>\n",
       "      <td>0.190642</td>\n",
       "    </tr>\n",
       "    <tr>\n",
       "      <th>valid</th>\n",
       "      <td>0.165185</td>\n",
       "      <td>0.169067</td>\n",
       "      <td>0.207186</td>\n",
       "    </tr>\n",
       "    <tr>\n",
       "      <th rowspan=\"2\" valign=\"top\">sulfide</th>\n",
       "      <th>train</th>\n",
       "      <td>0.063119</td>\n",
       "      <td>0.058901</td>\n",
       "      <td>0.065532</td>\n",
       "    </tr>\n",
       "    <tr>\n",
       "      <th>valid</th>\n",
       "      <td>0.044332</td>\n",
       "      <td>0.044511</td>\n",
       "      <td>0.048464</td>\n",
       "    </tr>\n",
       "  </tbody>\n",
       "</table>\n",
       "</div>"
      ],
      "text/plain": [
       "model                        lgbm  lgbm_opt       svm\n",
       "               set_type                              \n",
       "avg_loss       train     0.148647  0.149679  0.154184\n",
       "               valid     0.139668  0.139441  0.158643\n",
       "basalt         train     0.148160  0.152719  0.147894\n",
       "               valid     0.119528  0.122080  0.130487\n",
       "carbonate      train     0.105470  0.107892  0.101944\n",
       "               valid     0.119755  0.114622  0.123351\n",
       "chloride       train     0.165768  0.168116  0.170994\n",
       "               valid     0.159714  0.160589  0.170053\n",
       "iron_oxide     train     0.194717  0.201856  0.202152\n",
       "               valid     0.223741  0.220167  0.244879\n",
       "oxalate        train     0.028971  0.027791  0.028129\n",
       "               valid     0.021868  0.018175  0.021972\n",
       "oxychlorine    train     0.155453  0.157189  0.169677\n",
       "               valid     0.154865  0.155199  0.198306\n",
       "phyllosilicate train     0.253595  0.256627  0.273264\n",
       "               valid     0.208771  0.212064  0.258428\n",
       "silicate       train     0.182050  0.179267  0.191609\n",
       "               valid     0.178920  0.177936  0.183300\n",
       "sulfate        train     0.189172  0.186433  0.190642\n",
       "               valid     0.165185  0.169067  0.207186\n",
       "sulfide        train     0.063119  0.058901  0.065532\n",
       "               valid     0.044332  0.044511  0.048464"
      ]
     },
     "execution_count": 25,
     "metadata": {},
     "output_type": "execute_result"
    }
   ],
   "source": [
    "joined_scores.T"
   ]
  },
  {
   "cell_type": "markdown",
   "id": "78a24cc1",
   "metadata": {},
   "source": [
    "opt model makes to much overfit, lets drop it"
   ]
  },
  {
   "cell_type": "code",
   "execution_count": 26,
   "id": "dd665812",
   "metadata": {
    "ExecuteTime": {
     "end_time": "2022-04-17T22:13:04.670620Z",
     "start_time": "2022-04-17T22:13:04.612942Z"
    }
   },
   "outputs": [
    {
     "data": {
      "text/html": [
       "<div>\n",
       "<style scoped>\n",
       "    .dataframe tbody tr th:only-of-type {\n",
       "        vertical-align: middle;\n",
       "    }\n",
       "\n",
       "    .dataframe tbody tr th {\n",
       "        vertical-align: top;\n",
       "    }\n",
       "\n",
       "    .dataframe thead th {\n",
       "        text-align: right;\n",
       "    }\n",
       "</style>\n",
       "<table border=\"1\" class=\"dataframe\">\n",
       "  <thead>\n",
       "    <tr style=\"text-align: right;\">\n",
       "      <th></th>\n",
       "      <th>avg_loss</th>\n",
       "      <th>basalt</th>\n",
       "      <th>carbonate</th>\n",
       "      <th>chloride</th>\n",
       "      <th>iron_oxide</th>\n",
       "      <th>oxalate</th>\n",
       "      <th>oxychlorine</th>\n",
       "      <th>phyllosilicate</th>\n",
       "      <th>silicate</th>\n",
       "      <th>sulfate</th>\n",
       "      <th>sulfide</th>\n",
       "    </tr>\n",
       "  </thead>\n",
       "  <tbody>\n",
       "    <tr>\n",
       "      <th>lgbm</th>\n",
       "      <td>0.148647</td>\n",
       "      <td>0.148160</td>\n",
       "      <td>0.105470</td>\n",
       "      <td>0.165768</td>\n",
       "      <td>0.194717</td>\n",
       "      <td>0.028971</td>\n",
       "      <td>0.155453</td>\n",
       "      <td>0.253595</td>\n",
       "      <td>0.182050</td>\n",
       "      <td>0.189172</td>\n",
       "      <td>0.063119</td>\n",
       "    </tr>\n",
       "    <tr>\n",
       "      <th>lgbm_opt</th>\n",
       "      <td>0.149679</td>\n",
       "      <td>0.152719</td>\n",
       "      <td>0.107892</td>\n",
       "      <td>0.168116</td>\n",
       "      <td>0.201856</td>\n",
       "      <td>0.027791</td>\n",
       "      <td>0.157189</td>\n",
       "      <td>0.256627</td>\n",
       "      <td>0.179267</td>\n",
       "      <td>0.186433</td>\n",
       "      <td>0.058901</td>\n",
       "    </tr>\n",
       "    <tr>\n",
       "      <th>svm</th>\n",
       "      <td>0.154184</td>\n",
       "      <td>0.147894</td>\n",
       "      <td>0.101944</td>\n",
       "      <td>0.170994</td>\n",
       "      <td>0.202152</td>\n",
       "      <td>0.028129</td>\n",
       "      <td>0.169677</td>\n",
       "      <td>0.273264</td>\n",
       "      <td>0.191609</td>\n",
       "      <td>0.190642</td>\n",
       "      <td>0.065532</td>\n",
       "    </tr>\n",
       "  </tbody>\n",
       "</table>\n",
       "</div>"
      ],
      "text/plain": [
       "          avg_loss    basalt  carbonate  chloride  iron_oxide   oxalate  \\\n",
       "lgbm      0.148647  0.148160   0.105470  0.165768    0.194717  0.028971   \n",
       "lgbm_opt  0.149679  0.152719   0.107892  0.168116    0.201856  0.027791   \n",
       "svm       0.154184  0.147894   0.101944  0.170994    0.202152  0.028129   \n",
       "\n",
       "          oxychlorine  phyllosilicate  silicate   sulfate   sulfide  \n",
       "lgbm         0.155453        0.253595  0.182050  0.189172  0.063119  \n",
       "lgbm_opt     0.157189        0.256627  0.179267  0.186433  0.058901  \n",
       "svm          0.169677        0.273264  0.191609  0.190642  0.065532  "
      ]
     },
     "execution_count": 26,
     "metadata": {},
     "output_type": "execute_result"
    }
   ],
   "source": [
    "train_scores"
   ]
  },
  {
   "cell_type": "code",
   "execution_count": 27,
   "id": "ab4beeb2",
   "metadata": {
    "ExecuteTime": {
     "end_time": "2022-04-17T22:13:04.707446Z",
     "start_time": "2022-04-17T22:13:04.676319Z"
    }
   },
   "outputs": [],
   "source": [
    "def ensemble_prediction(preds, weights):\n",
    "    yhat = np.zeros(preds[0].shape)\n",
    "    \n",
    "    for i in range(len(preds)):\n",
    "        yhat += preds[i] * weights[i]\n",
    "    \n",
    "    return yhat"
   ]
  },
  {
   "cell_type": "code",
   "execution_count": 28,
   "id": "9c9cb1bd",
   "metadata": {
    "ExecuteTime": {
     "end_time": "2022-04-17T22:13:04.742107Z",
     "start_time": "2022-04-17T22:13:04.715770Z"
    }
   },
   "outputs": [],
   "source": [
    "ensembles = {\n",
    "    'lgbm_45_lgbm_opt_45_svm_10': [0.45, 0.45, 0.1],\n",
    "    'lgbm_40_lgbm_opt_40_svm_20': [0.4, 0.4, 0.2],\n",
    "    'lgbm_70_svm_30': [0.7, 0., 0.3],\n",
    "    \n",
    "    \n",
    "}"
   ]
  },
  {
   "cell_type": "code",
   "execution_count": 29,
   "id": "855d06dd",
   "metadata": {
    "ExecuteTime": {
     "end_time": "2022-04-17T22:13:04.802842Z",
     "start_time": "2022-04-17T22:13:04.750712Z"
    }
   },
   "outputs": [],
   "source": [
    "for ensemble_name, weights in ensembles.items():\n",
    "    train_preds[ensemble_name] = ensemble_prediction([train_lgbm, train_opt_lgbm, train_svm], weights)\n",
    "    valid_preds[ensemble_name] = ensemble_prediction([valid_lgbm, valid_opt_lgbm, valid_svm], weights)"
   ]
  },
  {
   "cell_type": "code",
   "execution_count": 30,
   "id": "121729bb",
   "metadata": {
    "ExecuteTime": {
     "end_time": "2022-04-17T22:13:04.955677Z",
     "start_time": "2022-04-17T22:13:04.806579Z"
    }
   },
   "outputs": [],
   "source": [
    "train_scores = {model: compute_scores(train_target.loc[pred.index], pred) for model, pred in train_preds.items()}\n",
    "train_scores = pd.DataFrame(train_scores).T.sort_values(by=['avg_loss'])"
   ]
  },
  {
   "cell_type": "code",
   "execution_count": 31,
   "id": "8f6dbc87",
   "metadata": {
    "ExecuteTime": {
     "end_time": "2022-04-17T22:13:05.075635Z",
     "start_time": "2022-04-17T22:13:04.958800Z"
    }
   },
   "outputs": [],
   "source": [
    "valid_scores = {model: compute_scores(valid_target, pred) for model, pred in valid_preds.items()}\n",
    "valid_scores = pd.DataFrame(valid_scores).T.sort_values(by=['avg_loss'])"
   ]
  },
  {
   "cell_type": "code",
   "execution_count": 32,
   "id": "ec69266b",
   "metadata": {
    "ExecuteTime": {
     "end_time": "2022-04-17T22:13:05.127632Z",
     "start_time": "2022-04-17T22:13:05.080393Z"
    }
   },
   "outputs": [
    {
     "data": {
      "text/html": [
       "<div>\n",
       "<style scoped>\n",
       "    .dataframe tbody tr th:only-of-type {\n",
       "        vertical-align: middle;\n",
       "    }\n",
       "\n",
       "    .dataframe tbody tr th {\n",
       "        vertical-align: top;\n",
       "    }\n",
       "\n",
       "    .dataframe thead th {\n",
       "        text-align: right;\n",
       "    }\n",
       "</style>\n",
       "<table border=\"1\" class=\"dataframe\">\n",
       "  <thead>\n",
       "    <tr style=\"text-align: right;\">\n",
       "      <th></th>\n",
       "      <th>avg_loss</th>\n",
       "      <th>basalt</th>\n",
       "      <th>carbonate</th>\n",
       "      <th>chloride</th>\n",
       "      <th>iron_oxide</th>\n",
       "      <th>oxalate</th>\n",
       "      <th>oxychlorine</th>\n",
       "      <th>phyllosilicate</th>\n",
       "      <th>silicate</th>\n",
       "      <th>sulfate</th>\n",
       "      <th>sulfide</th>\n",
       "    </tr>\n",
       "  </thead>\n",
       "  <tbody>\n",
       "    <tr>\n",
       "      <th>lgbm_70_svm_30</th>\n",
       "      <td>0.141015</td>\n",
       "      <td>0.140186</td>\n",
       "      <td>0.097320</td>\n",
       "      <td>0.156298</td>\n",
       "      <td>0.182813</td>\n",
       "      <td>0.027061</td>\n",
       "      <td>0.150257</td>\n",
       "      <td>0.246832</td>\n",
       "      <td>0.169664</td>\n",
       "      <td>0.180741</td>\n",
       "      <td>0.058979</td>\n",
       "    </tr>\n",
       "    <tr>\n",
       "      <th>lgbm_40_lgbm_opt_40_svm_20</th>\n",
       "      <td>0.141288</td>\n",
       "      <td>0.142722</td>\n",
       "      <td>0.098602</td>\n",
       "      <td>0.157287</td>\n",
       "      <td>0.185224</td>\n",
       "      <td>0.026788</td>\n",
       "      <td>0.150388</td>\n",
       "      <td>0.245847</td>\n",
       "      <td>0.168312</td>\n",
       "      <td>0.179997</td>\n",
       "      <td>0.057717</td>\n",
       "    </tr>\n",
       "    <tr>\n",
       "      <th>lgbm_45_lgbm_opt_45_svm_10</th>\n",
       "      <td>0.142797</td>\n",
       "      <td>0.144455</td>\n",
       "      <td>0.100743</td>\n",
       "      <td>0.159298</td>\n",
       "      <td>0.187978</td>\n",
       "      <td>0.027151</td>\n",
       "      <td>0.151137</td>\n",
       "      <td>0.247089</td>\n",
       "      <td>0.170506</td>\n",
       "      <td>0.181651</td>\n",
       "      <td>0.057966</td>\n",
       "    </tr>\n",
       "    <tr>\n",
       "      <th>lgbm</th>\n",
       "      <td>0.148647</td>\n",
       "      <td>0.148160</td>\n",
       "      <td>0.105470</td>\n",
       "      <td>0.165768</td>\n",
       "      <td>0.194717</td>\n",
       "      <td>0.028971</td>\n",
       "      <td>0.155453</td>\n",
       "      <td>0.253595</td>\n",
       "      <td>0.182050</td>\n",
       "      <td>0.189172</td>\n",
       "      <td>0.063119</td>\n",
       "    </tr>\n",
       "    <tr>\n",
       "      <th>lgbm_opt</th>\n",
       "      <td>0.149679</td>\n",
       "      <td>0.152719</td>\n",
       "      <td>0.107892</td>\n",
       "      <td>0.168116</td>\n",
       "      <td>0.201856</td>\n",
       "      <td>0.027791</td>\n",
       "      <td>0.157189</td>\n",
       "      <td>0.256627</td>\n",
       "      <td>0.179267</td>\n",
       "      <td>0.186433</td>\n",
       "      <td>0.058901</td>\n",
       "    </tr>\n",
       "    <tr>\n",
       "      <th>svm</th>\n",
       "      <td>0.154184</td>\n",
       "      <td>0.147894</td>\n",
       "      <td>0.101944</td>\n",
       "      <td>0.170994</td>\n",
       "      <td>0.202152</td>\n",
       "      <td>0.028129</td>\n",
       "      <td>0.169677</td>\n",
       "      <td>0.273264</td>\n",
       "      <td>0.191609</td>\n",
       "      <td>0.190642</td>\n",
       "      <td>0.065532</td>\n",
       "    </tr>\n",
       "  </tbody>\n",
       "</table>\n",
       "</div>"
      ],
      "text/plain": [
       "                            avg_loss    basalt  carbonate  chloride  \\\n",
       "lgbm_70_svm_30              0.141015  0.140186   0.097320  0.156298   \n",
       "lgbm_40_lgbm_opt_40_svm_20  0.141288  0.142722   0.098602  0.157287   \n",
       "lgbm_45_lgbm_opt_45_svm_10  0.142797  0.144455   0.100743  0.159298   \n",
       "lgbm                        0.148647  0.148160   0.105470  0.165768   \n",
       "lgbm_opt                    0.149679  0.152719   0.107892  0.168116   \n",
       "svm                         0.154184  0.147894   0.101944  0.170994   \n",
       "\n",
       "                            iron_oxide   oxalate  oxychlorine  phyllosilicate  \\\n",
       "lgbm_70_svm_30                0.182813  0.027061     0.150257        0.246832   \n",
       "lgbm_40_lgbm_opt_40_svm_20    0.185224  0.026788     0.150388        0.245847   \n",
       "lgbm_45_lgbm_opt_45_svm_10    0.187978  0.027151     0.151137        0.247089   \n",
       "lgbm                          0.194717  0.028971     0.155453        0.253595   \n",
       "lgbm_opt                      0.201856  0.027791     0.157189        0.256627   \n",
       "svm                           0.202152  0.028129     0.169677        0.273264   \n",
       "\n",
       "                            silicate   sulfate   sulfide  \n",
       "lgbm_70_svm_30              0.169664  0.180741  0.058979  \n",
       "lgbm_40_lgbm_opt_40_svm_20  0.168312  0.179997  0.057717  \n",
       "lgbm_45_lgbm_opt_45_svm_10  0.170506  0.181651  0.057966  \n",
       "lgbm                        0.182050  0.189172  0.063119  \n",
       "lgbm_opt                    0.179267  0.186433  0.058901  \n",
       "svm                         0.191609  0.190642  0.065532  "
      ]
     },
     "execution_count": 32,
     "metadata": {},
     "output_type": "execute_result"
    }
   ],
   "source": [
    "train_scores"
   ]
  },
  {
   "cell_type": "code",
   "execution_count": 33,
   "id": "590606ec",
   "metadata": {
    "ExecuteTime": {
     "end_time": "2022-04-17T22:13:05.174303Z",
     "start_time": "2022-04-17T22:13:05.132879Z"
    }
   },
   "outputs": [
    {
     "data": {
      "text/html": [
       "<div>\n",
       "<style scoped>\n",
       "    .dataframe tbody tr th:only-of-type {\n",
       "        vertical-align: middle;\n",
       "    }\n",
       "\n",
       "    .dataframe tbody tr th {\n",
       "        vertical-align: top;\n",
       "    }\n",
       "\n",
       "    .dataframe thead th {\n",
       "        text-align: right;\n",
       "    }\n",
       "</style>\n",
       "<table border=\"1\" class=\"dataframe\">\n",
       "  <thead>\n",
       "    <tr style=\"text-align: right;\">\n",
       "      <th></th>\n",
       "      <th>avg_loss</th>\n",
       "      <th>basalt</th>\n",
       "      <th>carbonate</th>\n",
       "      <th>chloride</th>\n",
       "      <th>iron_oxide</th>\n",
       "      <th>oxalate</th>\n",
       "      <th>oxychlorine</th>\n",
       "      <th>phyllosilicate</th>\n",
       "      <th>silicate</th>\n",
       "      <th>sulfate</th>\n",
       "      <th>sulfide</th>\n",
       "    </tr>\n",
       "  </thead>\n",
       "  <tbody>\n",
       "    <tr>\n",
       "      <th>lgbm_45_lgbm_opt_45_svm_10</th>\n",
       "      <td>0.138635</td>\n",
       "      <td>0.119516</td>\n",
       "      <td>0.116523</td>\n",
       "      <td>0.157850</td>\n",
       "      <td>0.217738</td>\n",
       "      <td>0.019959</td>\n",
       "      <td>0.157223</td>\n",
       "      <td>0.212850</td>\n",
       "      <td>0.171576</td>\n",
       "      <td>0.169129</td>\n",
       "      <td>0.043986</td>\n",
       "    </tr>\n",
       "    <tr>\n",
       "      <th>lgbm_40_lgbm_opt_40_svm_20</th>\n",
       "      <td>0.139018</td>\n",
       "      <td>0.119362</td>\n",
       "      <td>0.116325</td>\n",
       "      <td>0.157078</td>\n",
       "      <td>0.216469</td>\n",
       "      <td>0.020025</td>\n",
       "      <td>0.160121</td>\n",
       "      <td>0.216147</td>\n",
       "      <td>0.168748</td>\n",
       "      <td>0.171840</td>\n",
       "      <td>0.044066</td>\n",
       "    </tr>\n",
       "    <tr>\n",
       "      <th>lgbm_opt</th>\n",
       "      <td>0.139441</td>\n",
       "      <td>0.122080</td>\n",
       "      <td>0.114622</td>\n",
       "      <td>0.160589</td>\n",
       "      <td>0.220167</td>\n",
       "      <td>0.018175</td>\n",
       "      <td>0.155199</td>\n",
       "      <td>0.212064</td>\n",
       "      <td>0.177936</td>\n",
       "      <td>0.169067</td>\n",
       "      <td>0.044511</td>\n",
       "    </tr>\n",
       "    <tr>\n",
       "      <th>lgbm</th>\n",
       "      <td>0.139668</td>\n",
       "      <td>0.119528</td>\n",
       "      <td>0.119755</td>\n",
       "      <td>0.159714</td>\n",
       "      <td>0.223741</td>\n",
       "      <td>0.021868</td>\n",
       "      <td>0.154865</td>\n",
       "      <td>0.208771</td>\n",
       "      <td>0.178920</td>\n",
       "      <td>0.165185</td>\n",
       "      <td>0.044332</td>\n",
       "    </tr>\n",
       "    <tr>\n",
       "      <th>lgbm_70_svm_30</th>\n",
       "      <td>0.140098</td>\n",
       "      <td>0.118466</td>\n",
       "      <td>0.118278</td>\n",
       "      <td>0.156976</td>\n",
       "      <td>0.217388</td>\n",
       "      <td>0.021443</td>\n",
       "      <td>0.163817</td>\n",
       "      <td>0.219003</td>\n",
       "      <td>0.167865</td>\n",
       "      <td>0.173325</td>\n",
       "      <td>0.044420</td>\n",
       "    </tr>\n",
       "    <tr>\n",
       "      <th>svm</th>\n",
       "      <td>0.158643</td>\n",
       "      <td>0.130487</td>\n",
       "      <td>0.123351</td>\n",
       "      <td>0.170053</td>\n",
       "      <td>0.244879</td>\n",
       "      <td>0.021972</td>\n",
       "      <td>0.198306</td>\n",
       "      <td>0.258428</td>\n",
       "      <td>0.183300</td>\n",
       "      <td>0.207186</td>\n",
       "      <td>0.048464</td>\n",
       "    </tr>\n",
       "  </tbody>\n",
       "</table>\n",
       "</div>"
      ],
      "text/plain": [
       "                            avg_loss    basalt  carbonate  chloride  \\\n",
       "lgbm_45_lgbm_opt_45_svm_10  0.138635  0.119516   0.116523  0.157850   \n",
       "lgbm_40_lgbm_opt_40_svm_20  0.139018  0.119362   0.116325  0.157078   \n",
       "lgbm_opt                    0.139441  0.122080   0.114622  0.160589   \n",
       "lgbm                        0.139668  0.119528   0.119755  0.159714   \n",
       "lgbm_70_svm_30              0.140098  0.118466   0.118278  0.156976   \n",
       "svm                         0.158643  0.130487   0.123351  0.170053   \n",
       "\n",
       "                            iron_oxide   oxalate  oxychlorine  phyllosilicate  \\\n",
       "lgbm_45_lgbm_opt_45_svm_10    0.217738  0.019959     0.157223        0.212850   \n",
       "lgbm_40_lgbm_opt_40_svm_20    0.216469  0.020025     0.160121        0.216147   \n",
       "lgbm_opt                      0.220167  0.018175     0.155199        0.212064   \n",
       "lgbm                          0.223741  0.021868     0.154865        0.208771   \n",
       "lgbm_70_svm_30                0.217388  0.021443     0.163817        0.219003   \n",
       "svm                           0.244879  0.021972     0.198306        0.258428   \n",
       "\n",
       "                            silicate   sulfate   sulfide  \n",
       "lgbm_45_lgbm_opt_45_svm_10  0.171576  0.169129  0.043986  \n",
       "lgbm_40_lgbm_opt_40_svm_20  0.168748  0.171840  0.044066  \n",
       "lgbm_opt                    0.177936  0.169067  0.044511  \n",
       "lgbm                        0.178920  0.165185  0.044332  \n",
       "lgbm_70_svm_30              0.167865  0.173325  0.044420  \n",
       "svm                         0.183300  0.207186  0.048464  "
      ]
     },
     "execution_count": 33,
     "metadata": {},
     "output_type": "execute_result"
    }
   ],
   "source": [
    "valid_scores"
   ]
  },
  {
   "cell_type": "code",
   "execution_count": 34,
   "id": "9ea92db5",
   "metadata": {
    "ExecuteTime": {
     "end_time": "2022-04-17T22:13:44.661302Z",
     "start_time": "2022-04-17T22:13:44.622220Z"
    }
   },
   "outputs": [],
   "source": [
    "test_lgbm = pd.read_csv(sub_dir.joinpath('lgbm', 'validation', 'submission.csv'), index_col='sample_id')\n",
    "\n",
    "test_svm = pd.read_csv(sub_dir.joinpath('svm', 'validation', 'submission.csv'), index_col='sample_id')\n",
    "\n",
    "test_opt_lgbm = pd.read_csv(sub_dir.joinpath('optimized-iteration-lgbm', 'validation', 'submission.csv'), index_col='sample_id')"
   ]
  },
  {
   "cell_type": "code",
   "execution_count": 35,
   "id": "d157ea69",
   "metadata": {
    "ExecuteTime": {
     "end_time": "2022-04-17T22:13:45.869775Z",
     "start_time": "2022-04-17T22:13:45.850376Z"
    }
   },
   "outputs": [],
   "source": [
    "assert len(np.unique(map(len, [test_lgbm, test_svm, test_opt_lgbm]))) == 1\n",
    "\n",
    "assert all(test_lgbm.index == test_svm.index)\n",
    "assert all(test_lgbm.index == test_opt_lgbm.index)"
   ]
  },
  {
   "cell_type": "code",
   "execution_count": 36,
   "id": "03a1fbcb",
   "metadata": {
    "ExecuteTime": {
     "end_time": "2022-04-17T22:13:48.168588Z",
     "start_time": "2022-04-17T22:13:48.154015Z"
    }
   },
   "outputs": [],
   "source": [
    "test_preds = {'lgbm': test_lgbm, 'svm': test_svm, 'lgbm_opt': test_opt_lgbm}"
   ]
  },
  {
   "cell_type": "code",
   "execution_count": 37,
   "id": "625f776e",
   "metadata": {
    "ExecuteTime": {
     "end_time": "2022-04-17T22:13:49.892677Z",
     "start_time": "2022-04-17T22:13:49.871635Z"
    }
   },
   "outputs": [],
   "source": [
    "for ensemble_name, weights in ensembles.items():\n",
    "    test_preds[ensemble_name] = ensemble_prediction([test_lgbm, test_opt_lgbm, test_svm], weights)"
   ]
  },
  {
   "cell_type": "code",
   "execution_count": 38,
   "id": "0d5d6e60",
   "metadata": {
    "ExecuteTime": {
     "end_time": "2022-04-17T22:13:51.391287Z",
     "start_time": "2022-04-17T22:13:51.368947Z"
    }
   },
   "outputs": [
    {
     "data": {
      "text/plain": [
       "{'lgbm_45_lgbm_opt_45_svm_10': [0.45, 0.45, 0.1],\n",
       " 'lgbm_40_lgbm_opt_40_svm_20': [0.4, 0.4, 0.2],\n",
       " 'lgbm_70_svm_30': [0.7, 0.0, 0.3]}"
      ]
     },
     "execution_count": 38,
     "metadata": {},
     "output_type": "execute_result"
    }
   ],
   "source": [
    "ensembles"
   ]
  },
  {
   "cell_type": "code",
   "execution_count": 39,
   "id": "0720f5bf",
   "metadata": {
    "ExecuteTime": {
     "end_time": "2022-04-17T22:13:53.667226Z",
     "start_time": "2022-04-17T22:13:53.626174Z"
    }
   },
   "outputs": [],
   "source": [
    "ensemble_dir = sub_dir.joinpath('ensembles-no-validation')\n",
    "ensemble_dir.mkdir(exist_ok=True, parents=True)"
   ]
  },
  {
   "cell_type": "code",
   "execution_count": 40,
   "id": "ee947506",
   "metadata": {
    "ExecuteTime": {
     "end_time": "2022-04-17T22:13:54.970753Z",
     "start_time": "2022-04-17T22:13:54.882608Z"
    }
   },
   "outputs": [],
   "source": [
    "for ensemble_name in ensembles.keys():\n",
    "    ensemble_pred = test_preds[ensemble_name]\n",
    "    ensemble_pred.to_csv(ensemble_dir / f'{ensemble_name}.csv', index=True)"
   ]
  },
  {
   "cell_type": "code",
   "execution_count": 41,
   "id": "afc8cb1a",
   "metadata": {
    "ExecuteTime": {
     "end_time": "2022-04-17T22:13:55.642642Z",
     "start_time": "2022-04-17T22:13:55.502930Z"
    }
   },
   "outputs": [
    {
     "name": "stdout",
     "output_type": "stream",
     "text": [
      "lgbm_40_lgbm_opt_40_svm_20.csv\tlgbm_70_svm_30.csv\r\n",
      "lgbm_45_lgbm_opt_45_svm_10.csv\r\n"
     ]
    }
   ],
   "source": [
    "!ls {ensemble_dir}"
   ]
  },
  {
   "cell_type": "code",
   "execution_count": null,
   "id": "7d81850a",
   "metadata": {},
   "outputs": [],
   "source": []
  }
 ],
 "metadata": {
  "kernelspec": {
   "display_name": "Python 3 (ipykernel)",
   "language": "python",
   "name": "python3"
  },
  "language_info": {
   "codemirror_mode": {
    "name": "ipython",
    "version": 3
   },
   "file_extension": ".py",
   "mimetype": "text/x-python",
   "name": "python",
   "nbconvert_exporter": "python",
   "pygments_lexer": "ipython3",
   "version": "3.8.8"
  },
  "toc": {
   "base_numbering": 1,
   "nav_menu": {},
   "number_sections": true,
   "sideBar": true,
   "skip_h1_title": false,
   "title_cell": "Table of Contents",
   "title_sidebar": "Contents",
   "toc_cell": false,
   "toc_position": {},
   "toc_section_display": true,
   "toc_window_display": false
  }
 },
 "nbformat": 4,
 "nbformat_minor": 5
}
