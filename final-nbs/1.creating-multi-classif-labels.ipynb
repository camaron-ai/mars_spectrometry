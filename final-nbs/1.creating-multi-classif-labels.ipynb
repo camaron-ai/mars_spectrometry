{
 "cells": [
  {
   "cell_type": "code",
   "execution_count": 1,
   "id": "2356f65b",
   "metadata": {
    "ExecuteTime": {
     "end_time": "2022-04-15T16:27:31.043554Z",
     "start_time": "2022-04-15T16:27:31.023674Z"
    }
   },
   "outputs": [],
   "source": [
    "%load_ext autoreload\n",
    "%autoreload 2"
   ]
  },
  {
   "cell_type": "code",
   "execution_count": 2,
   "id": "09d5bff1",
   "metadata": {
    "ExecuteTime": {
     "end_time": "2022-04-15T16:27:32.205537Z",
     "start_time": "2022-04-15T16:27:31.187717Z"
    }
   },
   "outputs": [],
   "source": [
    "from pathlib import Path\n",
    "import pandas as pd\n",
    "import numpy as np\n",
    "from matplotlib import pyplot as plt\n",
    "import seaborn as sns\n",
    "import os"
   ]
  },
  {
   "cell_type": "code",
   "execution_count": 3,
   "id": "875d884c",
   "metadata": {
    "ExecuteTime": {
     "end_time": "2022-04-15T16:27:32.222912Z",
     "start_time": "2022-04-15T16:27:32.208035Z"
    }
   },
   "outputs": [],
   "source": [
    "PROJECT_DIR = os.path.abspath('.')\n",
    "if PROJECT_DIR.endswith('final-nbs'):\n",
    "    PROJECT_DIR = os.path.abspath('../')\n",
    "    os.chdir(PROJECT_DIR)"
   ]
  },
  {
   "cell_type": "code",
   "execution_count": 4,
   "id": "97271405",
   "metadata": {
    "ExecuteTime": {
     "end_time": "2022-04-15T16:27:32.276681Z",
     "start_time": "2022-04-15T16:27:32.225475Z"
    }
   },
   "outputs": [],
   "source": [
    "import cfg\n",
    "from src.data import get_features_path_from_metadata, join_dataframe_columns\n",
    "from src import util\n",
    "from src.data import setup_directories\n",
    "\n",
    "util.setup_logging()\n",
    "\n",
    "dirs = setup_directories(cfg.DATA_DIR, create_dirs=True)"
   ]
  },
  {
   "cell_type": "code",
   "execution_count": 5,
   "id": "1cf9a77c",
   "metadata": {
    "ExecuteTime": {
     "end_time": "2022-04-15T16:27:32.297995Z",
     "start_time": "2022-04-15T16:27:32.279184Z"
    }
   },
   "outputs": [],
   "source": [
    "def build_multiclassifcation_target(data: pd.DataFrame, target_name: str) -> pd.Series:\n",
    "    n_act_targets = data[cfg.TARGETS].sum(axis=1)\n",
    "    only_target = (n_act_targets == 1) & (data[target_name] == 1)\n",
    "    multiple_targets = (n_act_targets > 1) & (data[target_name] == 1)\n",
    "    other_targets = (n_act_targets > 0) & (data[target_name] == 0)\n",
    "    none_targets = (n_act_targets  == 0) & (data[target_name] == 0)\n",
    "    \n",
    "    assert (only_target & multiple_targets).sum() == 0\n",
    "    assert (only_target & other_targets).sum() == 0\n",
    "    assert (only_target & none_targets).sum() == 0\n",
    "    \n",
    "    multiclass_target = np.full(len(data), np.nan)\n",
    "    multiclass_target[none_targets] = 0\n",
    "    multiclass_target[other_targets] = 1\n",
    "    multiclass_target[only_target] = 2\n",
    "    multiclass_target[multiple_targets] = 3\n",
    "    \n",
    "    assert np.isnan(multiclass_target).sum() == 0\n",
    "    \n",
    "    return multiclass_target.astype(np.int64)"
   ]
  },
  {
   "cell_type": "code",
   "execution_count": 6,
   "id": "c8877684",
   "metadata": {
    "ExecuteTime": {
     "end_time": "2022-04-15T16:27:33.158923Z",
     "start_time": "2022-04-15T16:27:33.139838Z"
    }
   },
   "outputs": [],
   "source": [
    "raw_dir = Path(dirs['raw'])"
   ]
  },
  {
   "cell_type": "code",
   "execution_count": 7,
   "id": "9eb14b97",
   "metadata": {
    "ExecuteTime": {
     "end_time": "2022-04-15T16:27:33.478344Z",
     "start_time": "2022-04-15T16:27:33.449062Z"
    }
   },
   "outputs": [],
   "source": [
    "pd_train_data = pd.read_csv(raw_dir / 'train_labels.csv', index_col='sample_id')\n",
    "pd_valid_data = pd.read_csv(raw_dir / 'val_labels.csv', index_col='sample_id')"
   ]
  },
  {
   "cell_type": "code",
   "execution_count": 8,
   "id": "64096e2c",
   "metadata": {
    "ExecuteTime": {
     "end_time": "2022-04-15T16:27:33.969017Z",
     "start_time": "2022-04-15T16:27:33.934712Z"
    }
   },
   "outputs": [
    {
     "data": {
      "text/html": [
       "<div>\n",
       "<style scoped>\n",
       "    .dataframe tbody tr th:only-of-type {\n",
       "        vertical-align: middle;\n",
       "    }\n",
       "\n",
       "    .dataframe tbody tr th {\n",
       "        vertical-align: top;\n",
       "    }\n",
       "\n",
       "    .dataframe thead th {\n",
       "        text-align: right;\n",
       "    }\n",
       "</style>\n",
       "<table border=\"1\" class=\"dataframe\">\n",
       "  <thead>\n",
       "    <tr style=\"text-align: right;\">\n",
       "      <th></th>\n",
       "      <th>basalt</th>\n",
       "      <th>carbonate</th>\n",
       "      <th>chloride</th>\n",
       "      <th>iron_oxide</th>\n",
       "      <th>oxalate</th>\n",
       "      <th>oxychlorine</th>\n",
       "      <th>phyllosilicate</th>\n",
       "      <th>silicate</th>\n",
       "      <th>sulfate</th>\n",
       "      <th>sulfide</th>\n",
       "    </tr>\n",
       "    <tr>\n",
       "      <th>sample_id</th>\n",
       "      <th></th>\n",
       "      <th></th>\n",
       "      <th></th>\n",
       "      <th></th>\n",
       "      <th></th>\n",
       "      <th></th>\n",
       "      <th></th>\n",
       "      <th></th>\n",
       "      <th></th>\n",
       "      <th></th>\n",
       "    </tr>\n",
       "  </thead>\n",
       "  <tbody>\n",
       "    <tr>\n",
       "      <th>S0000</th>\n",
       "      <td>0</td>\n",
       "      <td>0</td>\n",
       "      <td>0</td>\n",
       "      <td>0</td>\n",
       "      <td>0</td>\n",
       "      <td>0</td>\n",
       "      <td>0</td>\n",
       "      <td>0</td>\n",
       "      <td>1</td>\n",
       "      <td>0</td>\n",
       "    </tr>\n",
       "    <tr>\n",
       "      <th>S0001</th>\n",
       "      <td>0</td>\n",
       "      <td>1</td>\n",
       "      <td>0</td>\n",
       "      <td>0</td>\n",
       "      <td>0</td>\n",
       "      <td>0</td>\n",
       "      <td>0</td>\n",
       "      <td>0</td>\n",
       "      <td>0</td>\n",
       "      <td>0</td>\n",
       "    </tr>\n",
       "    <tr>\n",
       "      <th>S0002</th>\n",
       "      <td>0</td>\n",
       "      <td>0</td>\n",
       "      <td>0</td>\n",
       "      <td>0</td>\n",
       "      <td>0</td>\n",
       "      <td>1</td>\n",
       "      <td>0</td>\n",
       "      <td>0</td>\n",
       "      <td>0</td>\n",
       "      <td>0</td>\n",
       "    </tr>\n",
       "    <tr>\n",
       "      <th>S0003</th>\n",
       "      <td>0</td>\n",
       "      <td>1</td>\n",
       "      <td>0</td>\n",
       "      <td>1</td>\n",
       "      <td>0</td>\n",
       "      <td>0</td>\n",
       "      <td>0</td>\n",
       "      <td>0</td>\n",
       "      <td>1</td>\n",
       "      <td>0</td>\n",
       "    </tr>\n",
       "    <tr>\n",
       "      <th>S0004</th>\n",
       "      <td>0</td>\n",
       "      <td>0</td>\n",
       "      <td>0</td>\n",
       "      <td>1</td>\n",
       "      <td>0</td>\n",
       "      <td>1</td>\n",
       "      <td>1</td>\n",
       "      <td>0</td>\n",
       "      <td>0</td>\n",
       "      <td>0</td>\n",
       "    </tr>\n",
       "  </tbody>\n",
       "</table>\n",
       "</div>"
      ],
      "text/plain": [
       "           basalt  carbonate  chloride  iron_oxide  oxalate  oxychlorine  \\\n",
       "sample_id                                                                  \n",
       "S0000           0          0         0           0        0            0   \n",
       "S0001           0          1         0           0        0            0   \n",
       "S0002           0          0         0           0        0            1   \n",
       "S0003           0          1         0           1        0            0   \n",
       "S0004           0          0         0           1        0            1   \n",
       "\n",
       "           phyllosilicate  silicate  sulfate  sulfide  \n",
       "sample_id                                              \n",
       "S0000                   0         0        1        0  \n",
       "S0001                   0         0        0        0  \n",
       "S0002                   0         0        0        0  \n",
       "S0003                   0         0        1        0  \n",
       "S0004                   1         0        0        0  "
      ]
     },
     "execution_count": 8,
     "metadata": {},
     "output_type": "execute_result"
    }
   ],
   "source": [
    "pd_train_data.head()"
   ]
  },
  {
   "cell_type": "code",
   "execution_count": 9,
   "id": "85c494bb",
   "metadata": {
    "ExecuteTime": {
     "end_time": "2022-04-15T16:27:35.284610Z",
     "start_time": "2022-04-15T16:27:35.256561Z"
    }
   },
   "outputs": [],
   "source": [
    "multiclass_targets = pd.DataFrame(index=pd_train_data.index, columns=pd_train_data.columns)#.add_suffix('_mutliclass')"
   ]
  },
  {
   "cell_type": "code",
   "execution_count": 10,
   "id": "5f570cb4",
   "metadata": {
    "ExecuteTime": {
     "end_time": "2022-04-15T16:27:35.921485Z",
     "start_time": "2022-04-15T16:27:35.858703Z"
    }
   },
   "outputs": [],
   "source": [
    "for target_name in cfg.TARGETS:\n",
    "    multiclass_targets[target_name] = build_multiclassifcation_target(pd_train_data, target_name)"
   ]
  },
  {
   "cell_type": "code",
   "execution_count": 11,
   "id": "bdff9a16",
   "metadata": {
    "ExecuteTime": {
     "end_time": "2022-04-15T16:27:36.401805Z",
     "start_time": "2022-04-15T16:27:36.381360Z"
    }
   },
   "outputs": [],
   "source": [
    "multiclass_targets = multiclass_targets.add_suffix('_multiclass')"
   ]
  },
  {
   "cell_type": "code",
   "execution_count": 12,
   "id": "2828dda4",
   "metadata": {
    "ExecuteTime": {
     "end_time": "2022-04-15T16:27:44.185508Z",
     "start_time": "2022-04-15T16:27:44.127122Z"
    }
   },
   "outputs": [],
   "source": [
    "valid_multiclass_targets = pd.DataFrame(index=pd_valid_data.index, columns=pd_valid_data.columns)#.add_suffix('_mutliclass')\n",
    "\n",
    "for target_name in cfg.TARGETS:\n",
    "    valid_multiclass_targets[target_name] = build_multiclassifcation_target(pd_valid_data, target_name)\n",
    "\n",
    "valid_multiclass_targets = valid_multiclass_targets.add_suffix('_multiclass')"
   ]
  },
  {
   "cell_type": "code",
   "execution_count": 13,
   "id": "b8dfe56d",
   "metadata": {
    "ExecuteTime": {
     "end_time": "2022-04-15T16:27:44.444655Z",
     "start_time": "2022-04-15T16:27:44.421095Z"
    }
   },
   "outputs": [
    {
     "data": {
      "text/plain": [
       "basalt_multiclass            4\n",
       "carbonate_multiclass         4\n",
       "chloride_multiclass          4\n",
       "iron_oxide_multiclass        4\n",
       "oxalate_multiclass           3\n",
       "oxychlorine_multiclass       4\n",
       "phyllosilicate_multiclass    4\n",
       "silicate_multiclass          4\n",
       "sulfate_multiclass           4\n",
       "sulfide_multiclass           4\n",
       "dtype: int64"
      ]
     },
     "execution_count": 13,
     "metadata": {},
     "output_type": "execute_result"
    }
   ],
   "source": [
    "multiclass_targets.nunique()"
   ]
  },
  {
   "cell_type": "code",
   "execution_count": 16,
   "id": "bd8e7131",
   "metadata": {
    "ExecuteTime": {
     "end_time": "2022-04-15T16:27:53.884454Z",
     "start_time": "2022-04-15T16:27:53.859266Z"
    }
   },
   "outputs": [
    {
     "data": {
      "text/plain": [
       "basalt_multiclass            4\n",
       "carbonate_multiclass         4\n",
       "chloride_multiclass          4\n",
       "iron_oxide_multiclass        4\n",
       "oxalate_multiclass           3\n",
       "oxychlorine_multiclass       4\n",
       "phyllosilicate_multiclass    4\n",
       "silicate_multiclass          4\n",
       "sulfate_multiclass           4\n",
       "sulfide_multiclass           4\n",
       "dtype: int64"
      ]
     },
     "execution_count": 16,
     "metadata": {},
     "output_type": "execute_result"
    }
   ],
   "source": [
    "valid_multiclass_targets.nunique()"
   ]
  },
  {
   "cell_type": "code",
   "execution_count": 17,
   "id": "a1639c09",
   "metadata": {
    "ExecuteTime": {
     "end_time": "2022-04-15T16:27:54.370655Z",
     "start_time": "2022-04-15T16:27:54.347998Z"
    }
   },
   "outputs": [],
   "source": [
    "train_dir = Path(dirs['train'])"
   ]
  },
  {
   "cell_type": "code",
   "execution_count": 18,
   "id": "1778cf75",
   "metadata": {
    "ExecuteTime": {
     "end_time": "2022-04-15T16:27:54.680196Z",
     "start_time": "2022-04-15T16:27:54.656609Z"
    }
   },
   "outputs": [],
   "source": [
    "multiclass_targets.to_csv(train_dir / 'multiclass.csv', index=True)"
   ]
  },
  {
   "cell_type": "code",
   "execution_count": 19,
   "id": "0f476844",
   "metadata": {
    "ExecuteTime": {
     "end_time": "2022-04-15T16:27:55.069994Z",
     "start_time": "2022-04-15T16:27:55.040351Z"
    }
   },
   "outputs": [],
   "source": [
    "valid_dir = Path(dirs['valid'])\n",
    "\n",
    "valid_multiclass_targets.to_csv(valid_dir / 'multiclass.csv', index=True)"
   ]
  },
  {
   "cell_type": "code",
   "execution_count": null,
   "id": "ca044091",
   "metadata": {},
   "outputs": [],
   "source": []
  }
 ],
 "metadata": {
  "kernelspec": {
   "display_name": "Python 3 (ipykernel)",
   "language": "python",
   "name": "python3"
  },
  "language_info": {
   "codemirror_mode": {
    "name": "ipython",
    "version": 3
   },
   "file_extension": ".py",
   "mimetype": "text/x-python",
   "name": "python",
   "nbconvert_exporter": "python",
   "pygments_lexer": "ipython3",
   "version": "3.8.8"
  },
  "toc": {
   "base_numbering": 1,
   "nav_menu": {},
   "number_sections": true,
   "sideBar": true,
   "skip_h1_title": false,
   "title_cell": "Table of Contents",
   "title_sidebar": "Contents",
   "toc_cell": false,
   "toc_position": {},
   "toc_section_display": true,
   "toc_window_display": false
  }
 },
 "nbformat": 4,
 "nbformat_minor": 5
}
