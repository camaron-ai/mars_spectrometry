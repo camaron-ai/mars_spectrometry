{
 "cells": [
  {
   "cell_type": "code",
   "execution_count": 1,
   "id": "2356f65b",
   "metadata": {
    "ExecuteTime": {
     "end_time": "2022-04-17T15:29:22.383051Z",
     "start_time": "2022-04-17T15:29:22.357742Z"
    }
   },
   "outputs": [],
   "source": [
    "%load_ext autoreload\n",
    "%autoreload 2"
   ]
  },
  {
   "cell_type": "code",
   "execution_count": 2,
   "id": "09d5bff1",
   "metadata": {
    "ExecuteTime": {
     "end_time": "2022-04-17T15:29:23.436304Z",
     "start_time": "2022-04-17T15:29:22.386735Z"
    }
   },
   "outputs": [],
   "source": [
    "from pathlib import Path\n",
    "import pandas as pd\n",
    "import numpy as np\n",
    "from matplotlib import pyplot as plt\n",
    "import seaborn as sns\n",
    "import os"
   ]
  },
  {
   "cell_type": "code",
   "execution_count": 3,
   "id": "875d884c",
   "metadata": {
    "ExecuteTime": {
     "end_time": "2022-04-17T15:29:23.454961Z",
     "start_time": "2022-04-17T15:29:23.438565Z"
    }
   },
   "outputs": [],
   "source": [
    "PROJECT_DIR = os.path.abspath('.')\n",
    "if PROJECT_DIR.endswith('final-nbs'):\n",
    "    PROJECT_DIR = os.path.abspath('../')\n",
    "    os.chdir(PROJECT_DIR)"
   ]
  },
  {
   "cell_type": "code",
   "execution_count": 4,
   "id": "97271405",
   "metadata": {
    "ExecuteTime": {
     "end_time": "2022-04-17T15:29:23.518563Z",
     "start_time": "2022-04-17T15:29:23.457418Z"
    }
   },
   "outputs": [],
   "source": [
    "import cfg\n",
    "from src.data import get_features_path_from_metadata, join_dataframe_columns\n",
    "from src import util\n",
    "from src.data import setup_directories\n",
    "util.setup_logging()\n",
    "\n",
    "dirs = setup_directories(cfg.DATA_DIR, create_dirs=True)"
   ]
  },
  {
   "cell_type": "code",
   "execution_count": 5,
   "id": "9eb14b97",
   "metadata": {
    "ExecuteTime": {
     "end_time": "2022-04-17T15:29:23.538375Z",
     "start_time": "2022-04-17T15:29:23.522007Z"
    }
   },
   "outputs": [],
   "source": [
    "raw_dir = Path(dirs['raw'])\n",
    "train_dir = Path(dirs['train'])\n",
    "cv_dir = Path(dirs['cv']['test'])"
   ]
  },
  {
   "cell_type": "code",
   "execution_count": 6,
   "id": "97f13502",
   "metadata": {
    "ExecuteTime": {
     "end_time": "2022-04-17T15:29:23.576357Z",
     "start_time": "2022-04-17T15:29:23.541119Z"
    }
   },
   "outputs": [
    {
     "data": {
      "text/html": [
       "<div>\n",
       "<style scoped>\n",
       "    .dataframe tbody tr th:only-of-type {\n",
       "        vertical-align: middle;\n",
       "    }\n",
       "\n",
       "    .dataframe tbody tr th {\n",
       "        vertical-align: top;\n",
       "    }\n",
       "\n",
       "    .dataframe thead th {\n",
       "        text-align: right;\n",
       "    }\n",
       "</style>\n",
       "<table border=\"1\" class=\"dataframe\">\n",
       "  <thead>\n",
       "    <tr style=\"text-align: right;\">\n",
       "      <th></th>\n",
       "      <th>split</th>\n",
       "      <th>instrument_type</th>\n",
       "      <th>features_path</th>\n",
       "      <th>features_md5_hash</th>\n",
       "    </tr>\n",
       "    <tr>\n",
       "      <th>sample_id</th>\n",
       "      <th></th>\n",
       "      <th></th>\n",
       "      <th></th>\n",
       "      <th></th>\n",
       "    </tr>\n",
       "  </thead>\n",
       "  <tbody>\n",
       "    <tr>\n",
       "      <th>S0000</th>\n",
       "      <td>train</td>\n",
       "      <td>commercial</td>\n",
       "      <td>train_features/S0000.csv</td>\n",
       "      <td>017b9a71a702e81a828e6242aa15f049</td>\n",
       "    </tr>\n",
       "    <tr>\n",
       "      <th>S0001</th>\n",
       "      <td>train</td>\n",
       "      <td>commercial</td>\n",
       "      <td>train_features/S0001.csv</td>\n",
       "      <td>0d09840214054d254bd49436c6a6f315</td>\n",
       "    </tr>\n",
       "    <tr>\n",
       "      <th>S0002</th>\n",
       "      <td>train</td>\n",
       "      <td>commercial</td>\n",
       "      <td>train_features/S0002.csv</td>\n",
       "      <td>3f58b3c9b001bfed6ed4e4f757083e09</td>\n",
       "    </tr>\n",
       "    <tr>\n",
       "      <th>S0003</th>\n",
       "      <td>train</td>\n",
       "      <td>commercial</td>\n",
       "      <td>train_features/S0003.csv</td>\n",
       "      <td>e9a12f96114a2fda60b36f4c0f513fb1</td>\n",
       "    </tr>\n",
       "    <tr>\n",
       "      <th>S0004</th>\n",
       "      <td>train</td>\n",
       "      <td>commercial</td>\n",
       "      <td>train_features/S0004.csv</td>\n",
       "      <td>b67603d3931897bfa796ac42cc16de78</td>\n",
       "    </tr>\n",
       "  </tbody>\n",
       "</table>\n",
       "</div>"
      ],
      "text/plain": [
       "           split instrument_type             features_path  \\\n",
       "sample_id                                                    \n",
       "S0000      train      commercial  train_features/S0000.csv   \n",
       "S0001      train      commercial  train_features/S0001.csv   \n",
       "S0002      train      commercial  train_features/S0002.csv   \n",
       "S0003      train      commercial  train_features/S0003.csv   \n",
       "S0004      train      commercial  train_features/S0004.csv   \n",
       "\n",
       "                          features_md5_hash  \n",
       "sample_id                                    \n",
       "S0000      017b9a71a702e81a828e6242aa15f049  \n",
       "S0001      0d09840214054d254bd49436c6a6f315  \n",
       "S0002      3f58b3c9b001bfed6ed4e4f757083e09  \n",
       "S0003      e9a12f96114a2fda60b36f4c0f513fb1  \n",
       "S0004      b67603d3931897bfa796ac42cc16de78  "
      ]
     },
     "execution_count": 6,
     "metadata": {},
     "output_type": "execute_result"
    }
   ],
   "source": [
    "# read metadata\n",
    "pd_metadata = pd.read_csv(raw_dir / \"metadata.csv\", index_col=\"sample_id\")\n",
    "pd_metadata.head()"
   ]
  },
  {
   "cell_type": "code",
   "execution_count": 7,
   "id": "cf736ffc",
   "metadata": {
    "ExecuteTime": {
     "end_time": "2022-04-17T15:29:23.607119Z",
     "start_time": "2022-04-17T15:29:23.580856Z"
    }
   },
   "outputs": [],
   "source": [
    "# read train labels\n",
    "pd_train_target = pd.read_csv(raw_dir / 'train_labels.csv', index_col='sample_id')\n",
    "# read train labels\n",
    "pd_valid_target = pd.read_csv(raw_dir / 'val_labels.csv', index_col='sample_id')"
   ]
  },
  {
   "cell_type": "code",
   "execution_count": 8,
   "id": "e47bfe1e",
   "metadata": {
    "ExecuteTime": {
     "end_time": "2022-04-17T15:29:23.728137Z",
     "start_time": "2022-04-17T15:29:23.611776Z"
    }
   },
   "outputs": [],
   "source": [
    "# read train labels\n",
    "pd_multclass_target = pd.read_csv(train_dir / 'multiclass.csv', index_col='sample_id')\n",
    "pd_agg_features = pd.read_csv(train_dir / 'mz_agg_features_drop_correlated.csv', index_col='sample_id')\n",
    "pd_cluster_features = pd.read_csv(train_dir / 'ae_clusters.csv', index_col='sample_id')\n",
    "pd_sample_features = pd.read_csv(train_dir / 'sample_features.csv', index_col='sample_id')\n",
    "pd_features = pd.concat((pd_sample_features, pd_agg_features, pd_cluster_features), axis=1)"
   ]
  },
  {
   "cell_type": "code",
   "execution_count": 9,
   "id": "43eafa44",
   "metadata": {
    "ExecuteTime": {
     "end_time": "2022-04-17T15:29:23.800204Z",
     "start_time": "2022-04-17T15:29:23.732507Z"
    }
   },
   "outputs": [],
   "source": [
    "valid_dir = Path(dirs['valid'])\n",
    "# read train labels\n",
    "pd_valid_multclass_target = pd.read_csv(valid_dir / 'multiclass.csv', index_col='sample_id')\n",
    "pd_valid_agg_features = pd.read_csv(valid_dir / 'mz_agg_features_drop_correlated.csv', index_col='sample_id')\n",
    "pd_valid_cluster_features = pd.read_csv(valid_dir / 'ae_clusters.csv', index_col='sample_id')\n",
    "pd_valid_sample_features = pd.read_csv(valid_dir / 'sample_features.csv', index_col='sample_id')\n",
    "pd_valid_features = pd.concat((pd_valid_sample_features, pd_valid_agg_features, pd_valid_cluster_features), axis=1)"
   ]
  },
  {
   "cell_type": "code",
   "execution_count": 10,
   "id": "c9308c49",
   "metadata": {
    "ExecuteTime": {
     "end_time": "2022-04-17T15:29:23.826278Z",
     "start_time": "2022-04-17T15:29:23.805698Z"
    }
   },
   "outputs": [],
   "source": [
    "pd_features = pd_features.append(pd_valid_features)"
   ]
  },
  {
   "cell_type": "code",
   "execution_count": 11,
   "id": "45fd4197",
   "metadata": {
    "ExecuteTime": {
     "end_time": "2022-04-17T15:29:23.850195Z",
     "start_time": "2022-04-17T15:29:23.828747Z"
    }
   },
   "outputs": [],
   "source": [
    "pd_train_target = pd_train_target.append(pd_valid_target)"
   ]
  },
  {
   "cell_type": "code",
   "execution_count": 12,
   "id": "58746014",
   "metadata": {
    "ExecuteTime": {
     "end_time": "2022-04-17T15:29:23.872974Z",
     "start_time": "2022-04-17T15:29:23.853693Z"
    }
   },
   "outputs": [],
   "source": [
    "pd_multclass_target = pd_multclass_target.append(pd_valid_multclass_target)"
   ]
  },
  {
   "cell_type": "code",
   "execution_count": 13,
   "id": "fa376cc7",
   "metadata": {
    "ExecuteTime": {
     "end_time": "2022-04-17T15:29:23.892107Z",
     "start_time": "2022-04-17T15:29:23.874643Z"
    }
   },
   "outputs": [],
   "source": [
    "feature_names = pd_features.columns.to_list()"
   ]
  },
  {
   "cell_type": "code",
   "execution_count": 14,
   "id": "5ea78c4a",
   "metadata": {
    "ExecuteTime": {
     "end_time": "2022-04-17T15:29:23.911224Z",
     "start_time": "2022-04-17T15:29:23.894659Z"
    }
   },
   "outputs": [],
   "source": [
    "from src import util"
   ]
  },
  {
   "cell_type": "code",
   "execution_count": 15,
   "id": "a0dac217",
   "metadata": {
    "ExecuteTime": {
     "end_time": "2022-04-17T15:29:23.933975Z",
     "start_time": "2022-04-17T15:29:23.915232Z"
    }
   },
   "outputs": [],
   "source": [
    "data = pd.concat((pd_train_target, pd_multclass_target, pd_features), axis=1)"
   ]
  },
  {
   "cell_type": "code",
   "execution_count": 16,
   "id": "98f2e6f8",
   "metadata": {
    "ExecuteTime": {
     "end_time": "2022-04-17T15:29:23.978720Z",
     "start_time": "2022-04-17T15:29:23.937755Z"
    }
   },
   "outputs": [
    {
     "data": {
      "text/html": [
       "<div>\n",
       "<style scoped>\n",
       "    .dataframe tbody tr th:only-of-type {\n",
       "        vertical-align: middle;\n",
       "    }\n",
       "\n",
       "    .dataframe tbody tr th {\n",
       "        vertical-align: top;\n",
       "    }\n",
       "\n",
       "    .dataframe thead th {\n",
       "        text-align: right;\n",
       "    }\n",
       "</style>\n",
       "<table border=\"1\" class=\"dataframe\">\n",
       "  <thead>\n",
       "    <tr style=\"text-align: right;\">\n",
       "      <th></th>\n",
       "      <th>basalt</th>\n",
       "      <th>carbonate</th>\n",
       "      <th>chloride</th>\n",
       "      <th>iron_oxide</th>\n",
       "      <th>oxalate</th>\n",
       "      <th>oxychlorine</th>\n",
       "      <th>phyllosilicate</th>\n",
       "      <th>silicate</th>\n",
       "      <th>sulfate</th>\n",
       "      <th>sulfide</th>\n",
       "      <th>...</th>\n",
       "      <th>cluster_mz90</th>\n",
       "      <th>cluster_mz91</th>\n",
       "      <th>cluster_mz92</th>\n",
       "      <th>cluster_mz93</th>\n",
       "      <th>cluster_mz94</th>\n",
       "      <th>cluster_mz95</th>\n",
       "      <th>cluster_mz96</th>\n",
       "      <th>cluster_mz97</th>\n",
       "      <th>cluster_mz98</th>\n",
       "      <th>cluster_mz99</th>\n",
       "    </tr>\n",
       "    <tr>\n",
       "      <th>sample_id</th>\n",
       "      <th></th>\n",
       "      <th></th>\n",
       "      <th></th>\n",
       "      <th></th>\n",
       "      <th></th>\n",
       "      <th></th>\n",
       "      <th></th>\n",
       "      <th></th>\n",
       "      <th></th>\n",
       "      <th></th>\n",
       "      <th></th>\n",
       "      <th></th>\n",
       "      <th></th>\n",
       "      <th></th>\n",
       "      <th></th>\n",
       "      <th></th>\n",
       "      <th></th>\n",
       "      <th></th>\n",
       "      <th></th>\n",
       "      <th></th>\n",
       "      <th></th>\n",
       "    </tr>\n",
       "  </thead>\n",
       "  <tbody>\n",
       "    <tr>\n",
       "      <th>S0000</th>\n",
       "      <td>0</td>\n",
       "      <td>0</td>\n",
       "      <td>0</td>\n",
       "      <td>0</td>\n",
       "      <td>0</td>\n",
       "      <td>0</td>\n",
       "      <td>0</td>\n",
       "      <td>0</td>\n",
       "      <td>1</td>\n",
       "      <td>0</td>\n",
       "      <td>...</td>\n",
       "      <td>9.0</td>\n",
       "      <td>7.0</td>\n",
       "      <td>4.0</td>\n",
       "      <td>9.0</td>\n",
       "      <td>9.0</td>\n",
       "      <td>9.0</td>\n",
       "      <td>9.0</td>\n",
       "      <td>7.0</td>\n",
       "      <td>7.0</td>\n",
       "      <td>9.0</td>\n",
       "    </tr>\n",
       "    <tr>\n",
       "      <th>S0001</th>\n",
       "      <td>0</td>\n",
       "      <td>1</td>\n",
       "      <td>0</td>\n",
       "      <td>0</td>\n",
       "      <td>0</td>\n",
       "      <td>0</td>\n",
       "      <td>0</td>\n",
       "      <td>0</td>\n",
       "      <td>0</td>\n",
       "      <td>0</td>\n",
       "      <td>...</td>\n",
       "      <td>-1.0</td>\n",
       "      <td>-1.0</td>\n",
       "      <td>-1.0</td>\n",
       "      <td>-1.0</td>\n",
       "      <td>-1.0</td>\n",
       "      <td>-1.0</td>\n",
       "      <td>-1.0</td>\n",
       "      <td>-1.0</td>\n",
       "      <td>-1.0</td>\n",
       "      <td>-1.0</td>\n",
       "    </tr>\n",
       "    <tr>\n",
       "      <th>S0002</th>\n",
       "      <td>0</td>\n",
       "      <td>0</td>\n",
       "      <td>0</td>\n",
       "      <td>0</td>\n",
       "      <td>0</td>\n",
       "      <td>1</td>\n",
       "      <td>0</td>\n",
       "      <td>0</td>\n",
       "      <td>0</td>\n",
       "      <td>0</td>\n",
       "      <td>...</td>\n",
       "      <td>6.0</td>\n",
       "      <td>7.0</td>\n",
       "      <td>6.0</td>\n",
       "      <td>7.0</td>\n",
       "      <td>6.0</td>\n",
       "      <td>6.0</td>\n",
       "      <td>7.0</td>\n",
       "      <td>8.0</td>\n",
       "      <td>8.0</td>\n",
       "      <td>1.0</td>\n",
       "    </tr>\n",
       "    <tr>\n",
       "      <th>S0003</th>\n",
       "      <td>0</td>\n",
       "      <td>1</td>\n",
       "      <td>0</td>\n",
       "      <td>1</td>\n",
       "      <td>0</td>\n",
       "      <td>0</td>\n",
       "      <td>0</td>\n",
       "      <td>0</td>\n",
       "      <td>1</td>\n",
       "      <td>0</td>\n",
       "      <td>...</td>\n",
       "      <td>6.0</td>\n",
       "      <td>6.0</td>\n",
       "      <td>8.0</td>\n",
       "      <td>6.0</td>\n",
       "      <td>0.0</td>\n",
       "      <td>7.0</td>\n",
       "      <td>8.0</td>\n",
       "      <td>7.0</td>\n",
       "      <td>7.0</td>\n",
       "      <td>8.0</td>\n",
       "    </tr>\n",
       "    <tr>\n",
       "      <th>S0004</th>\n",
       "      <td>0</td>\n",
       "      <td>0</td>\n",
       "      <td>0</td>\n",
       "      <td>1</td>\n",
       "      <td>0</td>\n",
       "      <td>1</td>\n",
       "      <td>1</td>\n",
       "      <td>0</td>\n",
       "      <td>0</td>\n",
       "      <td>0</td>\n",
       "      <td>...</td>\n",
       "      <td>7.0</td>\n",
       "      <td>7.0</td>\n",
       "      <td>7.0</td>\n",
       "      <td>6.0</td>\n",
       "      <td>7.0</td>\n",
       "      <td>7.0</td>\n",
       "      <td>6.0</td>\n",
       "      <td>8.0</td>\n",
       "      <td>6.0</td>\n",
       "      <td>8.0</td>\n",
       "    </tr>\n",
       "  </tbody>\n",
       "</table>\n",
       "<p>5 rows × 475 columns</p>\n",
       "</div>"
      ],
      "text/plain": [
       "           basalt  carbonate  chloride  iron_oxide  oxalate  oxychlorine  \\\n",
       "sample_id                                                                  \n",
       "S0000           0          0         0           0        0            0   \n",
       "S0001           0          1         0           0        0            0   \n",
       "S0002           0          0         0           0        0            1   \n",
       "S0003           0          1         0           1        0            0   \n",
       "S0004           0          0         0           1        0            1   \n",
       "\n",
       "           phyllosilicate  silicate  sulfate  sulfide  ...  cluster_mz90  \\\n",
       "sample_id                                              ...                 \n",
       "S0000                   0         0        1        0  ...           9.0   \n",
       "S0001                   0         0        0        0  ...          -1.0   \n",
       "S0002                   0         0        0        0  ...           6.0   \n",
       "S0003                   0         0        1        0  ...           6.0   \n",
       "S0004                   1         0        0        0  ...           7.0   \n",
       "\n",
       "           cluster_mz91  cluster_mz92  cluster_mz93  cluster_mz94  \\\n",
       "sample_id                                                           \n",
       "S0000               7.0           4.0           9.0           9.0   \n",
       "S0001              -1.0          -1.0          -1.0          -1.0   \n",
       "S0002               7.0           6.0           7.0           6.0   \n",
       "S0003               6.0           8.0           6.0           0.0   \n",
       "S0004               7.0           7.0           6.0           7.0   \n",
       "\n",
       "           cluster_mz95  cluster_mz96  cluster_mz97  cluster_mz98  \\\n",
       "sample_id                                                           \n",
       "S0000               9.0           9.0           7.0           7.0   \n",
       "S0001              -1.0          -1.0          -1.0          -1.0   \n",
       "S0002               6.0           7.0           8.0           8.0   \n",
       "S0003               7.0           8.0           7.0           7.0   \n",
       "S0004               7.0           6.0           8.0           6.0   \n",
       "\n",
       "           cluster_mz99  \n",
       "sample_id                \n",
       "S0000               9.0  \n",
       "S0001              -1.0  \n",
       "S0002               1.0  \n",
       "S0003               8.0  \n",
       "S0004               8.0  \n",
       "\n",
       "[5 rows x 475 columns]"
      ]
     },
     "execution_count": 16,
     "metadata": {},
     "output_type": "execute_result"
    }
   ],
   "source": [
    "data.head()"
   ]
  },
  {
   "cell_type": "code",
   "execution_count": 17,
   "id": "4dacfbda",
   "metadata": {
    "ExecuteTime": {
     "end_time": "2022-04-17T15:29:24.163890Z",
     "start_time": "2022-04-17T15:29:23.982425Z"
    },
    "scrolled": true
   },
   "outputs": [],
   "source": [
    "from src.model_selection import get_train_test_tuple_from_split\n",
    "from src.data import get_cv_paths\n",
    "from sklearn.linear_model import LogisticRegression\n",
    "from xgboost import XGBRFClassifier\n",
    "from lightgbm import LGBMClassifier\n",
    "from sklearn.svm import SVC"
   ]
  },
  {
   "cell_type": "code",
   "execution_count": 18,
   "id": "6dff9e63",
   "metadata": {
    "ExecuteTime": {
     "end_time": "2022-04-17T15:29:24.185542Z",
     "start_time": "2022-04-17T15:29:24.166742Z"
    }
   },
   "outputs": [],
   "source": [
    "model_config = {'model': 'lgbm',\n",
    "                'parameters':\n",
    "               {'class_weight': 'balanced',\n",
    "                'num_leaves': 16,\n",
    "                'min_split_gain': 1e-3,\n",
    "                'subsample_for_bin': 100,\n",
    "                'n_estimators': 200,\n",
    "                'colsample_bytree': 0.3,\n",
    "                'reg_lambda': 0.1, \n",
    "                'reg_alpha': 0.1}}"
   ]
  },
  {
   "cell_type": "code",
   "execution_count": 19,
   "id": "500ce4b7",
   "metadata": {
    "ExecuteTime": {
     "end_time": "2022-04-17T15:29:24.251022Z",
     "start_time": "2022-04-17T15:29:24.189007Z"
    }
   },
   "outputs": [],
   "source": [
    "from src import train, inference"
   ]
  },
  {
   "cell_type": "code",
   "execution_count": 20,
   "id": "43297953",
   "metadata": {
    "ExecuteTime": {
     "end_time": "2022-04-17T15:29:24.273208Z",
     "start_time": "2022-04-17T15:29:24.253556Z"
    }
   },
   "outputs": [],
   "source": [
    "from copy import deepcopy"
   ]
  },
  {
   "cell_type": "code",
   "execution_count": 21,
   "id": "d4a589e2",
   "metadata": {
    "ExecuteTime": {
     "end_time": "2022-04-17T15:29:24.303082Z",
     "start_time": "2022-04-17T15:29:24.275202Z"
    }
   },
   "outputs": [],
   "source": [
    "def train_one_vs_the_rest(data: pd.DataFrame, model_config, feature_names):\n",
    "    \n",
    "    models = {}\n",
    "    \n",
    "    for target_name in cfg.TARGETS:\n",
    "        cv_paths = get_cv_paths(cv_dir, target_name)\n",
    "        multiclass_target_name = f'{target_name}_multiclass'\n",
    "        opt_tree_models = train.train_cv_from_config(data, model_config,\n",
    "                                    feature_names,\n",
    "                                    multiclass_target_name,\n",
    "                                    cv_paths=cv_paths,\n",
    "                                    train_model_fn=train.train_lgbm,\n",
    "                                    use_early_stopping=True\n",
    "                                )\n",
    "        opt_model_config = deepcopy(model_config)\n",
    "        avg_estimators = int(np.mean([model['model'].best_iteration_ for model in opt_tree_models]))\n",
    "        opt_model_config['parameters']['n_estimators'] = avg_estimators\n",
    "        \n",
    "        print(avg_estimators)\n",
    "        models[target_name] = train.train_cv_from_config(data, opt_model_config, feature_names, multiclass_target_name, cv_paths=cv_paths)\n",
    "    return models"
   ]
  },
  {
   "cell_type": "code",
   "execution_count": 22,
   "id": "5e1a5c64",
   "metadata": {
    "ExecuteTime": {
     "end_time": "2022-04-17T15:37:40.213898Z",
     "start_time": "2022-04-17T15:29:24.305134Z"
    },
    "scrolled": true
   },
   "outputs": [
    {
     "name": "stderr",
     "output_type": "stream",
     "text": [
      "2022-04-17 11:29:24 - src.train - INFO     [train.py:62] fold=1/33\n",
      "2022-04-17 11:29:24 - src.train - INFO     [train.py:63] reading cv index from data/cv_index/cv-model-test/basalt/fold_0.csv\n"
     ]
    },
    {
     "name": "stdout",
     "output_type": "stream",
     "text": [
      "Training until validation scores don't improve for 20 rounds\n"
     ]
    },
    {
     "name": "stderr",
     "output_type": "stream",
     "text": [
      "2022-04-17 11:29:25 - src.train - INFO     [train.py:133] elapsed training time: 0.010 min\n",
      "2022-04-17 11:29:25 - src.train - INFO     [train.py:62] fold=2/33\n",
      "2022-04-17 11:29:25 - src.train - INFO     [train.py:63] reading cv index from data/cv_index/cv-model-test/basalt/fold_1.csv\n"
     ]
    },
    {
     "name": "stdout",
     "output_type": "stream",
     "text": [
      "[20]\ttrain's multi_logloss: 0.21751\tvalid's multi_logloss: 0.451068\n",
      "[40]\ttrain's multi_logloss: 0.0535488\tvalid's multi_logloss: 0.336621\n",
      "[60]\ttrain's multi_logloss: 0.0178473\tvalid's multi_logloss: 0.325702\n",
      "Early stopping, best iteration is:\n",
      "[53]\ttrain's multi_logloss: 0.025028\tvalid's multi_logloss: 0.322077\n",
      "Training until validation scores don't improve for 20 rounds\n",
      "[20]\ttrain's multi_logloss: 0.221882\tvalid's multi_logloss: 0.422808\n",
      "[40]\ttrain's multi_logloss: 0.0539672\tvalid's multi_logloss: 0.30641\n",
      "[60]\ttrain's multi_logloss: 0.017892\tvalid's multi_logloss: 0.299292\n"
     ]
    },
    {
     "name": "stderr",
     "output_type": "stream",
     "text": [
      "2022-04-17 11:29:25 - src.train - INFO     [train.py:133] elapsed training time: 0.013 min\n",
      "2022-04-17 11:29:25 - src.train - INFO     [train.py:62] fold=3/33\n",
      "2022-04-17 11:29:25 - src.train - INFO     [train.py:63] reading cv index from data/cv_index/cv-model-test/basalt/fold_10.csv\n"
     ]
    },
    {
     "name": "stdout",
     "output_type": "stream",
     "text": [
      "Early stopping, best iteration is:\n",
      "[53]\ttrain's multi_logloss: 0.0251592\tvalid's multi_logloss: 0.295872\n",
      "Training until validation scores don't improve for 20 rounds\n",
      "[20]\ttrain's multi_logloss: 0.221128\tvalid's multi_logloss: 0.468544\n",
      "[40]\ttrain's multi_logloss: 0.0547964\tvalid's multi_logloss: 0.380776\n"
     ]
    },
    {
     "name": "stderr",
     "output_type": "stream",
     "text": [
      "2022-04-17 11:29:26 - src.train - INFO     [train.py:133] elapsed training time: 0.007 min\n",
      "2022-04-17 11:29:26 - src.train - INFO     [train.py:62] fold=4/33\n",
      "2022-04-17 11:29:26 - src.train - INFO     [train.py:63] reading cv index from data/cv_index/cv-model-test/basalt/fold_11.csv\n"
     ]
    },
    {
     "name": "stdout",
     "output_type": "stream",
     "text": [
      "[60]\ttrain's multi_logloss: 0.0184311\tvalid's multi_logloss: 0.385425\n",
      "Early stopping, best iteration is:\n",
      "[45]\ttrain's multi_logloss: 0.0402968\tvalid's multi_logloss: 0.372504\n",
      "Training until validation scores don't improve for 20 rounds\n",
      "[20]\ttrain's multi_logloss: 0.221532\tvalid's multi_logloss: 0.402202\n",
      "[40]\ttrain's multi_logloss: 0.0539625\tvalid's multi_logloss: 0.262974\n",
      "[60]\ttrain's multi_logloss: 0.0175963\tvalid's multi_logloss: 0.224316\n",
      "[80]\ttrain's multi_logloss: 0.00871103\tvalid's multi_logloss: 0.214978\n"
     ]
    },
    {
     "name": "stderr",
     "output_type": "stream",
     "text": [
      "2022-04-17 11:29:26 - src.train - INFO     [train.py:133] elapsed training time: 0.007 min\n",
      "2022-04-17 11:29:26 - src.train - INFO     [train.py:62] fold=5/33\n",
      "2022-04-17 11:29:26 - src.train - INFO     [train.py:63] reading cv index from data/cv_index/cv-model-test/basalt/fold_12.csv\n"
     ]
    },
    {
     "name": "stdout",
     "output_type": "stream",
     "text": [
      "[100]\ttrain's multi_logloss: 0.00589661\tvalid's multi_logloss: 0.212799\n",
      "Early stopping, best iteration is:\n",
      "[89]\ttrain's multi_logloss: 0.00708617\tvalid's multi_logloss: 0.211292\n",
      "Training until validation scores don't improve for 20 rounds\n",
      "[20]\ttrain's multi_logloss: 0.22375\tvalid's multi_logloss: 0.337543\n"
     ]
    },
    {
     "name": "stderr",
     "output_type": "stream",
     "text": [
      "2022-04-17 11:29:27 - src.train - INFO     [train.py:133] elapsed training time: 0.010 min\n",
      "2022-04-17 11:29:27 - src.train - INFO     [train.py:62] fold=6/33\n",
      "2022-04-17 11:29:27 - src.train - INFO     [train.py:63] reading cv index from data/cv_index/cv-model-test/basalt/fold_13.csv\n"
     ]
    },
    {
     "name": "stdout",
     "output_type": "stream",
     "text": [
      "[40]\ttrain's multi_logloss: 0.0554774\tvalid's multi_logloss: 0.231609\n",
      "[60]\ttrain's multi_logloss: 0.0181849\tvalid's multi_logloss: 0.208704\n",
      "[80]\ttrain's multi_logloss: 0.00892521\tvalid's multi_logloss: 0.219758\n",
      "Early stopping, best iteration is:\n",
      "[62]\ttrain's multi_logloss: 0.0167187\tvalid's multi_logloss: 0.206903\n",
      "Training until validation scores don't improve for 20 rounds\n",
      "[20]\ttrain's multi_logloss: 0.221421\tvalid's multi_logloss: 0.417855\n",
      "[40]\ttrain's multi_logloss: 0.0541088\tvalid's multi_logloss: 0.313456\n"
     ]
    },
    {
     "name": "stderr",
     "output_type": "stream",
     "text": [
      "2022-04-17 11:29:28 - src.train - INFO     [train.py:133] elapsed training time: 0.007 min\n",
      "2022-04-17 11:29:28 - src.train - INFO     [train.py:62] fold=7/33\n",
      "2022-04-17 11:29:28 - src.train - INFO     [train.py:63] reading cv index from data/cv_index/cv-model-test/basalt/fold_14.csv\n"
     ]
    },
    {
     "name": "stdout",
     "output_type": "stream",
     "text": [
      "[60]\ttrain's multi_logloss: 0.0177611\tvalid's multi_logloss: 0.319859\n",
      "Early stopping, best iteration is:\n",
      "[48]\ttrain's multi_logloss: 0.0328928\tvalid's multi_logloss: 0.305404\n",
      "Training until validation scores don't improve for 20 rounds\n",
      "[20]\ttrain's multi_logloss: 0.217588\tvalid's multi_logloss: 0.433052\n",
      "[40]\ttrain's multi_logloss: 0.053701\tvalid's multi_logloss: 0.315308\n"
     ]
    },
    {
     "name": "stderr",
     "output_type": "stream",
     "text": [
      "2022-04-17 11:29:28 - src.train - INFO     [train.py:133] elapsed training time: 0.008 min\n",
      "2022-04-17 11:29:28 - src.train - INFO     [train.py:62] fold=8/33\n",
      "2022-04-17 11:29:28 - src.train - INFO     [train.py:63] reading cv index from data/cv_index/cv-model-test/basalt/fold_15.csv\n"
     ]
    },
    {
     "name": "stdout",
     "output_type": "stream",
     "text": [
      "[60]\ttrain's multi_logloss: 0.017708\tvalid's multi_logloss: 0.307516\n",
      "[80]\ttrain's multi_logloss: 0.00881452\tvalid's multi_logloss: 0.308585\n",
      "Early stopping, best iteration is:\n",
      "[70]\ttrain's multi_logloss: 0.0119126\tvalid's multi_logloss: 0.300022\n",
      "Training until validation scores don't improve for 20 rounds\n",
      "[20]\ttrain's multi_logloss: 0.229569\tvalid's multi_logloss: 0.350859\n",
      "[40]\ttrain's multi_logloss: 0.0571069\tvalid's multi_logloss: 0.211173\n",
      "[60]\ttrain's multi_logloss: 0.0188967\tvalid's multi_logloss: 0.188868\n",
      "[80]\ttrain's multi_logloss: 0.00911614\tvalid's multi_logloss: 0.179472\n",
      "[100]\ttrain's multi_logloss: 0.00611521\tvalid's multi_logloss: 0.177257\n"
     ]
    },
    {
     "name": "stderr",
     "output_type": "stream",
     "text": [
      "2022-04-17 11:29:30 - src.train - INFO     [train.py:133] elapsed training time: 0.021 min\n",
      "2022-04-17 11:29:30 - src.train - INFO     [train.py:62] fold=9/33\n",
      "2022-04-17 11:29:30 - src.train - INFO     [train.py:63] reading cv index from data/cv_index/cv-model-test/basalt/fold_16.csv\n"
     ]
    },
    {
     "name": "stdout",
     "output_type": "stream",
     "text": [
      "[120]\ttrain's multi_logloss: 0.00515429\tvalid's multi_logloss: 0.176413\n",
      "[140]\ttrain's multi_logloss: 0.00483805\tvalid's multi_logloss: 0.174909\n",
      "[160]\ttrain's multi_logloss: 0.00476546\tvalid's multi_logloss: 0.174617\n",
      "[180]\ttrain's multi_logloss: 0.0047594\tvalid's multi_logloss: 0.174582\n",
      "Early stopping, best iteration is:\n",
      "[166]\ttrain's multi_logloss: 0.0047594\tvalid's multi_logloss: 0.174582\n",
      "Training until validation scores don't improve for 20 rounds\n",
      "[20]\ttrain's multi_logloss: 0.218814\tvalid's multi_logloss: 0.416636\n",
      "[40]\ttrain's multi_logloss: 0.0538807\tvalid's multi_logloss: 0.335199\n"
     ]
    },
    {
     "name": "stderr",
     "output_type": "stream",
     "text": [
      "2022-04-17 11:29:30 - src.train - INFO     [train.py:133] elapsed training time: 0.007 min\n",
      "2022-04-17 11:29:30 - src.train - INFO     [train.py:62] fold=10/33\n",
      "2022-04-17 11:29:30 - src.train - INFO     [train.py:63] reading cv index from data/cv_index/cv-model-test/basalt/fold_17.csv\n"
     ]
    },
    {
     "name": "stdout",
     "output_type": "stream",
     "text": [
      "[60]\ttrain's multi_logloss: 0.0180574\tvalid's multi_logloss: 0.339849\n",
      "Early stopping, best iteration is:\n",
      "[47]\ttrain's multi_logloss: 0.0349401\tvalid's multi_logloss: 0.334239\n",
      "Training until validation scores don't improve for 20 rounds\n",
      "[20]\ttrain's multi_logloss: 0.222236\tvalid's multi_logloss: 0.454914\n"
     ]
    },
    {
     "name": "stderr",
     "output_type": "stream",
     "text": [
      "2022-04-17 11:29:31 - src.train - INFO     [train.py:133] elapsed training time: 0.008 min\n",
      "2022-04-17 11:29:31 - src.train - INFO     [train.py:62] fold=11/33\n",
      "2022-04-17 11:29:31 - src.train - INFO     [train.py:63] reading cv index from data/cv_index/cv-model-test/basalt/fold_18.csv\n"
     ]
    },
    {
     "name": "stdout",
     "output_type": "stream",
     "text": [
      "[40]\ttrain's multi_logloss: 0.0547043\tvalid's multi_logloss: 0.341902\n",
      "[60]\ttrain's multi_logloss: 0.0180561\tvalid's multi_logloss: 0.346925\n",
      "Early stopping, best iteration is:\n",
      "[43]\ttrain's multi_logloss: 0.0452635\tvalid's multi_logloss: 0.336375\n",
      "Training until validation scores don't improve for 20 rounds\n",
      "[20]\ttrain's multi_logloss: 0.222842\tvalid's multi_logloss: 0.48414\n",
      "[40]\ttrain's multi_logloss: 0.053061\tvalid's multi_logloss: 0.328862\n",
      "[60]\ttrain's multi_logloss: 0.0173357\tvalid's multi_logloss: 0.305811\n"
     ]
    },
    {
     "name": "stderr",
     "output_type": "stream",
     "text": [
      "2022-04-17 11:29:31 - src.train - INFO     [train.py:133] elapsed training time: 0.007 min\n",
      "2022-04-17 11:29:31 - src.train - INFO     [train.py:62] fold=12/33\n",
      "2022-04-17 11:29:31 - src.train - INFO     [train.py:63] reading cv index from data/cv_index/cv-model-test/basalt/fold_19.csv\n"
     ]
    },
    {
     "name": "stdout",
     "output_type": "stream",
     "text": [
      "[80]\ttrain's multi_logloss: 0.00867801\tvalid's multi_logloss: 0.303699\n",
      "Early stopping, best iteration is:\n",
      "[76]\ttrain's multi_logloss: 0.00973911\tvalid's multi_logloss: 0.302506\n",
      "Training until validation scores don't improve for 20 rounds\n",
      "[20]\ttrain's multi_logloss: 0.221949\tvalid's multi_logloss: 0.357395\n",
      "[40]\ttrain's multi_logloss: 0.0537705\tvalid's multi_logloss: 0.246395\n"
     ]
    },
    {
     "name": "stderr",
     "output_type": "stream",
     "text": [
      "2022-04-17 11:29:32 - src.train - INFO     [train.py:133] elapsed training time: 0.009 min\n",
      "2022-04-17 11:29:32 - src.train - INFO     [train.py:62] fold=13/33\n",
      "2022-04-17 11:29:32 - src.train - INFO     [train.py:63] reading cv index from data/cv_index/cv-model-test/basalt/fold_2.csv\n"
     ]
    },
    {
     "name": "stdout",
     "output_type": "stream",
     "text": [
      "[60]\ttrain's multi_logloss: 0.0176777\tvalid's multi_logloss: 0.245578\n",
      "Early stopping, best iteration is:\n",
      "[50]\ttrain's multi_logloss: 0.0292121\tvalid's multi_logloss: 0.239622\n",
      "Training until validation scores don't improve for 20 rounds\n",
      "[20]\ttrain's multi_logloss: 0.220979\tvalid's multi_logloss: 0.470267\n",
      "[40]\ttrain's multi_logloss: 0.0526939\tvalid's multi_logloss: 0.386162\n"
     ]
    },
    {
     "name": "stderr",
     "output_type": "stream",
     "text": [
      "2022-04-17 11:29:32 - src.train - INFO     [train.py:133] elapsed training time: 0.006 min\n",
      "2022-04-17 11:29:32 - src.train - INFO     [train.py:62] fold=14/33\n",
      "2022-04-17 11:29:32 - src.train - INFO     [train.py:63] reading cv index from data/cv_index/cv-model-test/basalt/fold_20.csv\n"
     ]
    },
    {
     "name": "stdout",
     "output_type": "stream",
     "text": [
      "[60]\ttrain's multi_logloss: 0.017524\tvalid's multi_logloss: 0.390178\n",
      "Early stopping, best iteration is:\n",
      "[40]\ttrain's multi_logloss: 0.0526939\tvalid's multi_logloss: 0.386162\n",
      "Training until validation scores don't improve for 20 rounds\n",
      "[20]\ttrain's multi_logloss: 0.225622\tvalid's multi_logloss: 0.431257\n",
      "[40]\ttrain's multi_logloss: 0.0557565\tvalid's multi_logloss: 0.297007\n",
      "[60]\ttrain's multi_logloss: 0.0183138\tvalid's multi_logloss: 0.275862\n"
     ]
    },
    {
     "name": "stderr",
     "output_type": "stream",
     "text": [
      "2022-04-17 11:29:33 - src.train - INFO     [train.py:133] elapsed training time: 0.008 min\n",
      "2022-04-17 11:29:33 - src.train - INFO     [train.py:62] fold=15/33\n",
      "2022-04-17 11:29:33 - src.train - INFO     [train.py:63] reading cv index from data/cv_index/cv-model-test/basalt/fold_21.csv\n"
     ]
    },
    {
     "name": "stdout",
     "output_type": "stream",
     "text": [
      "[80]\ttrain's multi_logloss: 0.0088951\tvalid's multi_logloss: 0.274418\n",
      "Early stopping, best iteration is:\n",
      "[71]\ttrain's multi_logloss: 0.0118068\tvalid's multi_logloss: 0.270409\n",
      "Training until validation scores don't improve for 20 rounds\n",
      "[20]\ttrain's multi_logloss: 0.220268\tvalid's multi_logloss: 0.39093\n",
      "[40]\ttrain's multi_logloss: 0.0548298\tvalid's multi_logloss: 0.294951\n",
      "[60]\ttrain's multi_logloss: 0.0182626\tvalid's multi_logloss: 0.271333\n"
     ]
    },
    {
     "name": "stderr",
     "output_type": "stream",
     "text": [
      "2022-04-17 11:29:34 - src.train - INFO     [train.py:133] elapsed training time: 0.015 min\n",
      "2022-04-17 11:29:34 - src.train - INFO     [train.py:62] fold=16/33\n",
      "2022-04-17 11:29:34 - src.train - INFO     [train.py:63] reading cv index from data/cv_index/cv-model-test/basalt/fold_22.csv\n"
     ]
    },
    {
     "name": "stdout",
     "output_type": "stream",
     "text": [
      "[80]\ttrain's multi_logloss: 0.00895731\tvalid's multi_logloss: 0.269678\n",
      "Early stopping, best iteration is:\n",
      "[77]\ttrain's multi_logloss: 0.00974697\tvalid's multi_logloss: 0.267878\n",
      "Training until validation scores don't improve for 20 rounds\n",
      "[20]\ttrain's multi_logloss: 0.217394\tvalid's multi_logloss: 0.468484\n",
      "[40]\ttrain's multi_logloss: 0.0527113\tvalid's multi_logloss: 0.361282\n"
     ]
    },
    {
     "name": "stderr",
     "output_type": "stream",
     "text": [
      "2022-04-17 11:29:34 - src.train - INFO     [train.py:133] elapsed training time: 0.006 min\n",
      "2022-04-17 11:29:35 - src.train - INFO     [train.py:62] fold=17/33\n",
      "2022-04-17 11:29:35 - src.train - INFO     [train.py:63] reading cv index from data/cv_index/cv-model-test/basalt/fold_23.csv\n"
     ]
    },
    {
     "name": "stdout",
     "output_type": "stream",
     "text": [
      "[60]\ttrain's multi_logloss: 0.0173456\tvalid's multi_logloss: 0.362619\n",
      "Early stopping, best iteration is:\n",
      "[46]\ttrain's multi_logloss: 0.0364487\tvalid's multi_logloss: 0.354016\n",
      "Training until validation scores don't improve for 20 rounds\n",
      "[20]\ttrain's multi_logloss: 0.220953\tvalid's multi_logloss: 0.329708\n",
      "[40]\ttrain's multi_logloss: 0.0538006\tvalid's multi_logloss: 0.229432\n"
     ]
    },
    {
     "name": "stderr",
     "output_type": "stream",
     "text": [
      "2022-04-17 11:29:35 - src.train - INFO     [train.py:133] elapsed training time: 0.006 min\n",
      "2022-04-17 11:29:35 - src.train - INFO     [train.py:62] fold=18/33\n",
      "2022-04-17 11:29:35 - src.train - INFO     [train.py:63] reading cv index from data/cv_index/cv-model-test/basalt/fold_24.csv\n"
     ]
    },
    {
     "name": "stdout",
     "output_type": "stream",
     "text": [
      "[60]\ttrain's multi_logloss: 0.0178338\tvalid's multi_logloss: 0.229677\n",
      "Early stopping, best iteration is:\n",
      "[44]\ttrain's multi_logloss: 0.0417011\tvalid's multi_logloss: 0.225845\n",
      "Training until validation scores don't improve for 20 rounds\n",
      "[20]\ttrain's multi_logloss: 0.220617\tvalid's multi_logloss: 0.365274\n",
      "[40]\ttrain's multi_logloss: 0.0535826\tvalid's multi_logloss: 0.226777\n",
      "[60]\ttrain's multi_logloss: 0.0175382\tvalid's multi_logloss: 0.191114\n",
      "[80]\ttrain's multi_logloss: 0.00870191\tvalid's multi_logloss: 0.174168\n"
     ]
    },
    {
     "name": "stderr",
     "output_type": "stream",
     "text": [
      "2022-04-17 11:29:36 - src.train - INFO     [train.py:133] elapsed training time: 0.012 min\n",
      "2022-04-17 11:29:36 - src.train - INFO     [train.py:62] fold=19/33\n",
      "2022-04-17 11:29:36 - src.train - INFO     [train.py:63] reading cv index from data/cv_index/cv-model-test/basalt/fold_25.csv\n"
     ]
    },
    {
     "name": "stdout",
     "output_type": "stream",
     "text": [
      "[100]\ttrain's multi_logloss: 0.00585268\tvalid's multi_logloss: 0.167104\n",
      "[120]\ttrain's multi_logloss: 0.00501551\tvalid's multi_logloss: 0.164778\n",
      "Early stopping, best iteration is:\n",
      "[114]\ttrain's multi_logloss: 0.00515398\tvalid's multi_logloss: 0.163955\n",
      "Training until validation scores don't improve for 20 rounds\n",
      "[20]\ttrain's multi_logloss: 0.223548\tvalid's multi_logloss: 0.321485\n",
      "[40]\ttrain's multi_logloss: 0.055589\tvalid's multi_logloss: 0.207528\n",
      "[60]\ttrain's multi_logloss: 0.0182237\tvalid's multi_logloss: 0.189792\n"
     ]
    },
    {
     "name": "stderr",
     "output_type": "stream",
     "text": [
      "2022-04-17 11:29:36 - src.train - INFO     [train.py:133] elapsed training time: 0.007 min\n",
      "2022-04-17 11:29:36 - src.train - INFO     [train.py:62] fold=20/33\n",
      "2022-04-17 11:29:36 - src.train - INFO     [train.py:63] reading cv index from data/cv_index/cv-model-test/basalt/fold_26.csv\n"
     ]
    },
    {
     "name": "stdout",
     "output_type": "stream",
     "text": [
      "[80]\ttrain's multi_logloss: 0.00897353\tvalid's multi_logloss: 0.188139\n",
      "Early stopping, best iteration is:\n",
      "[78]\ttrain's multi_logloss: 0.00947178\tvalid's multi_logloss: 0.187716\n",
      "Training until validation scores don't improve for 20 rounds\n",
      "[20]\ttrain's multi_logloss: 0.22484\tvalid's multi_logloss: 0.484619\n",
      "[40]\ttrain's multi_logloss: 0.0566508\tvalid's multi_logloss: 0.30277\n",
      "[60]\ttrain's multi_logloss: 0.0187506\tvalid's multi_logloss: 0.273962\n",
      "[80]\ttrain's multi_logloss: 0.00901955\tvalid's multi_logloss: 0.251101\n",
      "[100]\ttrain's multi_logloss: 0.00595696\tvalid's multi_logloss: 0.249154\n",
      "[120]\ttrain's multi_logloss: 0.00505951\tvalid's multi_logloss: 0.249077\n",
      "Early stopping, best iteration is:\n",
      "[104]\ttrain's multi_logloss: 0.00566782\tvalid's multi_logloss: 0.247422"
     ]
    },
    {
     "name": "stderr",
     "output_type": "stream",
     "text": [
      "2022-04-17 11:29:37 - src.train - INFO     [train.py:133] elapsed training time: 0.010 min\n",
      "2022-04-17 11:29:37 - src.train - INFO     [train.py:62] fold=21/33\n",
      "2022-04-17 11:29:37 - src.train - INFO     [train.py:63] reading cv index from data/cv_index/cv-model-test/basalt/fold_27.csv\n"
     ]
    },
    {
     "name": "stdout",
     "output_type": "stream",
     "text": [
      "\n",
      "Training until validation scores don't improve for 20 rounds\n",
      "[20]\ttrain's multi_logloss: 0.213227\tvalid's multi_logloss: 0.444946\n"
     ]
    },
    {
     "name": "stderr",
     "output_type": "stream",
     "text": [
      "2022-04-17 11:29:38 - src.train - INFO     [train.py:133] elapsed training time: 0.009 min\n",
      "2022-04-17 11:29:38 - src.train - INFO     [train.py:62] fold=22/33\n",
      "2022-04-17 11:29:38 - src.train - INFO     [train.py:63] reading cv index from data/cv_index/cv-model-test/basalt/fold_28.csv\n"
     ]
    },
    {
     "name": "stdout",
     "output_type": "stream",
     "text": [
      "[40]\ttrain's multi_logloss: 0.0516882\tvalid's multi_logloss: 0.370867\n",
      "[60]\ttrain's multi_logloss: 0.0171863\tvalid's multi_logloss: 0.395925\n",
      "Early stopping, best iteration is:\n",
      "[41]\ttrain's multi_logloss: 0.0485338\tvalid's multi_logloss: 0.369474\n",
      "Training until validation scores don't improve for 20 rounds\n",
      "[20]\ttrain's multi_logloss: 0.221199\tvalid's multi_logloss: 0.35011\n",
      "[40]\ttrain's multi_logloss: 0.0550151\tvalid's multi_logloss: 0.227149\n"
     ]
    },
    {
     "name": "stderr",
     "output_type": "stream",
     "text": [
      "2022-04-17 11:29:38 - src.train - INFO     [train.py:133] elapsed training time: 0.009 min\n",
      "2022-04-17 11:29:38 - src.train - INFO     [train.py:62] fold=23/33\n",
      "2022-04-17 11:29:38 - src.train - INFO     [train.py:63] reading cv index from data/cv_index/cv-model-test/basalt/fold_29.csv\n"
     ]
    },
    {
     "name": "stdout",
     "output_type": "stream",
     "text": [
      "[60]\ttrain's multi_logloss: 0.0183447\tvalid's multi_logloss: 0.192647\n",
      "[80]\ttrain's multi_logloss: 0.00907773\tvalid's multi_logloss: 0.196099\n",
      "Early stopping, best iteration is:\n",
      "[65]\ttrain's multi_logloss: 0.0148174\tvalid's multi_logloss: 0.191005\n",
      "Training until validation scores don't improve for 20 rounds\n",
      "[20]\ttrain's multi_logloss: 0.219631\tvalid's multi_logloss: 0.356174\n",
      "[40]\ttrain's multi_logloss: 0.0543904\tvalid's multi_logloss: 0.218955\n"
     ]
    },
    {
     "name": "stderr",
     "output_type": "stream",
     "text": [
      "2022-04-17 11:29:39 - src.train - INFO     [train.py:133] elapsed training time: 0.007 min\n",
      "2022-04-17 11:29:39 - src.train - INFO     [train.py:62] fold=24/33\n",
      "2022-04-17 11:29:39 - src.train - INFO     [train.py:63] reading cv index from data/cv_index/cv-model-test/basalt/fold_3.csv\n"
     ]
    },
    {
     "name": "stdout",
     "output_type": "stream",
     "text": [
      "[60]\ttrain's multi_logloss: 0.0180404\tvalid's multi_logloss: 0.181811\n",
      "[80]\ttrain's multi_logloss: 0.00884427\tvalid's multi_logloss: 0.176066\n",
      "Early stopping, best iteration is:\n",
      "[69]\ttrain's multi_logloss: 0.0125683\tvalid's multi_logloss: 0.17368\n",
      "Training until validation scores don't improve for 20 rounds\n",
      "[20]\ttrain's multi_logloss: 0.222904\tvalid's multi_logloss: 0.355223\n",
      "[40]\ttrain's multi_logloss: 0.0558134\tvalid's multi_logloss: 0.228646\n"
     ]
    },
    {
     "name": "stderr",
     "output_type": "stream",
     "text": [
      "2022-04-17 11:29:39 - src.train - INFO     [train.py:133] elapsed training time: 0.008 min\n",
      "2022-04-17 11:29:39 - src.train - INFO     [train.py:62] fold=25/33\n",
      "2022-04-17 11:29:39 - src.train - INFO     [train.py:63] reading cv index from data/cv_index/cv-model-test/basalt/fold_30.csv\n"
     ]
    },
    {
     "name": "stdout",
     "output_type": "stream",
     "text": [
      "[60]\ttrain's multi_logloss: 0.0184954\tvalid's multi_logloss: 0.189104\n",
      "[80]\ttrain's multi_logloss: 0.00904774\tvalid's multi_logloss: 0.181096\n",
      "[100]\ttrain's multi_logloss: 0.00599685\tvalid's multi_logloss: 0.178002\n",
      "Early stopping, best iteration is:\n",
      "[92]\ttrain's multi_logloss: 0.0068024\tvalid's multi_logloss: 0.177144\n",
      "Training until validation scores don't improve for 20 rounds\n",
      "[20]\ttrain's multi_logloss: 0.222365\tvalid's multi_logloss: 0.373935\n",
      "[40]\ttrain's multi_logloss: 0.0554651\tvalid's multi_logloss: 0.221912\n",
      "[60]\ttrain's multi_logloss: 0.0185635\tvalid's multi_logloss: 0.192246\n",
      "[80]\ttrain's multi_logloss: 0.0090117\tvalid's multi_logloss: 0.189506\n"
     ]
    },
    {
     "name": "stderr",
     "output_type": "stream",
     "text": [
      "2022-04-17 11:29:40 - src.train - INFO     [train.py:133] elapsed training time: 0.011 min\n",
      "2022-04-17 11:29:40 - src.train - INFO     [train.py:62] fold=26/33\n",
      "2022-04-17 11:29:40 - src.train - INFO     [train.py:63] reading cv index from data/cv_index/cv-model-test/basalt/fold_31.csv\n"
     ]
    },
    {
     "name": "stdout",
     "output_type": "stream",
     "text": [
      "Early stopping, best iteration is:\n",
      "[71]\ttrain's multi_logloss: 0.0117917\tvalid's multi_logloss: 0.186608\n",
      "Training until validation scores don't improve for 20 rounds\n",
      "[20]\ttrain's multi_logloss: 0.22247\tvalid's multi_logloss: 0.398012\n"
     ]
    },
    {
     "name": "stderr",
     "output_type": "stream",
     "text": [
      "2022-04-17 11:29:41 - src.train - INFO     [train.py:133] elapsed training time: 0.010 min\n",
      "2022-04-17 11:29:41 - src.train - INFO     [train.py:62] fold=27/33\n"
     ]
    },
    {
     "name": "stdout",
     "output_type": "stream",
     "text": [
      "[40]\ttrain's multi_logloss: 0.0540322\tvalid's multi_logloss: 0.292805\n",
      "[60]\ttrain's multi_logloss: 0.018145\tvalid's multi_logloss: 0.283059\n",
      "[80]\ttrain's multi_logloss: 0.00891032\tvalid's multi_logloss: 0.280811\n",
      "Early stopping, best iteration is:\n",
      "[71]\ttrain's multi_logloss: 0.0117884\tvalid's multi_logloss: 0.279868\n"
     ]
    },
    {
     "name": "stderr",
     "output_type": "stream",
     "text": [
      "2022-04-17 11:29:41 - src.train - INFO     [train.py:63] reading cv index from data/cv_index/cv-model-test/basalt/fold_32.csv\n"
     ]
    },
    {
     "name": "stdout",
     "output_type": "stream",
     "text": [
      "Training until validation scores don't improve for 20 rounds\n",
      "[20]\ttrain's multi_logloss: 0.220201\tvalid's multi_logloss: 0.458747\n"
     ]
    },
    {
     "name": "stderr",
     "output_type": "stream",
     "text": [
      "2022-04-17 11:29:42 - src.train - INFO     [train.py:133] elapsed training time: 0.008 min\n",
      "2022-04-17 11:29:42 - src.train - INFO     [train.py:62] fold=28/33\n",
      "2022-04-17 11:29:42 - src.train - INFO     [train.py:63] reading cv index from data/cv_index/cv-model-test/basalt/fold_4.csv\n"
     ]
    },
    {
     "name": "stdout",
     "output_type": "stream",
     "text": [
      "[40]\ttrain's multi_logloss: 0.0546877\tvalid's multi_logloss: 0.381817\n",
      "[60]\ttrain's multi_logloss: 0.0184317\tvalid's multi_logloss: 0.394739\n",
      "Early stopping, best iteration is:\n",
      "[43]\ttrain's multi_logloss: 0.0453779\tvalid's multi_logloss: 0.377019\n",
      "Training until validation scores don't improve for 20 rounds\n",
      "[20]\ttrain's multi_logloss: 0.227157\tvalid's multi_logloss: 0.349168\n",
      "[40]\ttrain's multi_logloss: 0.0562482\tvalid's multi_logloss: 0.21628\n",
      "[60]\ttrain's multi_logloss: 0.0187157\tvalid's multi_logloss: 0.187082\n",
      "[80]\ttrain's multi_logloss: 0.00913854\tvalid's multi_logloss: 0.189904\n",
      "Early stopping, best iteration is:\n",
      "[67]\ttrain's multi_logloss: 0.0140796\tvalid's multi_logloss: 0.185579\n"
     ]
    },
    {
     "name": "stderr",
     "output_type": "stream",
     "text": [
      "2022-04-17 11:29:42 - src.train - INFO     [train.py:133] elapsed training time: 0.011 min\n",
      "2022-04-17 11:29:42 - src.train - INFO     [train.py:62] fold=29/33\n",
      "2022-04-17 11:29:42 - src.train - INFO     [train.py:63] reading cv index from data/cv_index/cv-model-test/basalt/fold_5.csv\n"
     ]
    },
    {
     "name": "stdout",
     "output_type": "stream",
     "text": [
      "Training until validation scores don't improve for 20 rounds\n",
      "[20]\ttrain's multi_logloss: 0.219955\tvalid's multi_logloss: 0.402136\n",
      "[40]\ttrain's multi_logloss: 0.0551485\tvalid's multi_logloss: 0.263284\n",
      "[60]\ttrain's multi_logloss: 0.0179839\tvalid's multi_logloss: 0.249164\n",
      "[80]\ttrain's multi_logloss: 0.00883543\tvalid's multi_logloss: 0.241624\n"
     ]
    },
    {
     "name": "stderr",
     "output_type": "stream",
     "text": [
      "2022-04-17 11:29:43 - src.train - INFO     [train.py:133] elapsed training time: 0.012 min\n",
      "2022-04-17 11:29:43 - src.train - INFO     [train.py:62] fold=30/33\n",
      "2022-04-17 11:29:43 - src.train - INFO     [train.py:63] reading cv index from data/cv_index/cv-model-test/basalt/fold_6.csv\n"
     ]
    },
    {
     "name": "stdout",
     "output_type": "stream",
     "text": [
      "[100]\ttrain's multi_logloss: 0.00605499\tvalid's multi_logloss: 0.248604\n",
      "Early stopping, best iteration is:\n",
      "[80]\ttrain's multi_logloss: 0.00883543\tvalid's multi_logloss: 0.241624\n",
      "Training until validation scores don't improve for 20 rounds\n",
      "[20]\ttrain's multi_logloss: 0.22126\tvalid's multi_logloss: 0.456686\n",
      "[40]\ttrain's multi_logloss: 0.0535274\tvalid's multi_logloss: 0.361024\n"
     ]
    },
    {
     "name": "stderr",
     "output_type": "stream",
     "text": [
      "2022-04-17 11:29:44 - src.train - INFO     [train.py:133] elapsed training time: 0.007 min\n",
      "2022-04-17 11:29:44 - src.train - INFO     [train.py:62] fold=31/33\n",
      "2022-04-17 11:29:44 - src.train - INFO     [train.py:63] reading cv index from data/cv_index/cv-model-test/basalt/fold_7.csv\n"
     ]
    },
    {
     "name": "stdout",
     "output_type": "stream",
     "text": [
      "[60]\ttrain's multi_logloss: 0.0171551\tvalid's multi_logloss: 0.358894\n",
      "Early stopping, best iteration is:\n",
      "[53]\ttrain's multi_logloss: 0.024241\tvalid's multi_logloss: 0.34953\n",
      "Training until validation scores don't improve for 20 rounds\n",
      "[20]\ttrain's multi_logloss: 0.22089\tvalid's multi_logloss: 0.382939\n",
      "[40]\ttrain's multi_logloss: 0.0547417\tvalid's multi_logloss: 0.261527\n",
      "[60]\ttrain's multi_logloss: 0.0177919\tvalid's multi_logloss: 0.232431\n"
     ]
    },
    {
     "name": "stderr",
     "output_type": "stream",
     "text": [
      "2022-04-17 11:29:44 - src.train - INFO     [train.py:133] elapsed training time: 0.009 min\n",
      "2022-04-17 11:29:44 - src.train - INFO     [train.py:62] fold=32/33\n",
      "2022-04-17 11:29:44 - src.train - INFO     [train.py:63] reading cv index from data/cv_index/cv-model-test/basalt/fold_8.csv\n"
     ]
    },
    {
     "name": "stdout",
     "output_type": "stream",
     "text": [
      "[80]\ttrain's multi_logloss: 0.00880325\tvalid's multi_logloss: 0.23177\n",
      "[100]\ttrain's multi_logloss: 0.00606287\tvalid's multi_logloss: 0.231179\n",
      "[120]\ttrain's multi_logloss: 0.00510385\tvalid's multi_logloss: 0.230318\n",
      "[140]\ttrain's multi_logloss: 0.00484271\tvalid's multi_logloss: 0.228721\n",
      "[160]\ttrain's multi_logloss: 0.00479617\tvalid's multi_logloss: 0.229132\n",
      "Early stopping, best iteration is:\n",
      "[142]\ttrain's multi_logloss: 0.00483598\tvalid's multi_logloss: 0.228646\n",
      "Training until validation scores don't improve for 20 rounds\n",
      "[20]\ttrain's multi_logloss: 0.222188\tvalid's multi_logloss: 0.37916\n",
      "[40]\ttrain's multi_logloss: 0.0549194\tvalid's multi_logloss: 0.264572\n"
     ]
    },
    {
     "name": "stderr",
     "output_type": "stream",
     "text": [
      "2022-04-17 11:29:45 - src.train - INFO     [train.py:133] elapsed training time: 0.007 min\n",
      "2022-04-17 11:29:45 - src.train - INFO     [train.py:62] fold=33/33\n",
      "2022-04-17 11:29:45 - src.train - INFO     [train.py:63] reading cv index from data/cv_index/cv-model-test/basalt/fold_9.csv\n"
     ]
    },
    {
     "name": "stdout",
     "output_type": "stream",
     "text": [
      "[60]\ttrain's multi_logloss: 0.0182195\tvalid's multi_logloss: 0.259297\n",
      "Early stopping, best iteration is:\n",
      "[58]\ttrain's multi_logloss: 0.0199047\tvalid's multi_logloss: 0.256096\n",
      "Training until validation scores don't improve for 20 rounds\n",
      "[20]\ttrain's multi_logloss: 0.218383\tvalid's multi_logloss: 0.303355\n"
     ]
    },
    {
     "name": "stderr",
     "output_type": "stream",
     "text": [
      "2022-04-17 11:29:46 - src.train - INFO     [train.py:133] elapsed training time: 0.009 min\n",
      "2022-04-17 11:29:46 - src.train - INFO     [train.py:62] fold=1/33\n",
      "2022-04-17 11:29:46 - src.train - INFO     [train.py:63] reading cv index from data/cv_index/cv-model-test/basalt/fold_0.csv\n"
     ]
    },
    {
     "name": "stdout",
     "output_type": "stream",
     "text": [
      "[40]\ttrain's multi_logloss: 0.0545088\tvalid's multi_logloss: 0.189669\n",
      "[60]\ttrain's multi_logloss: 0.0181815\tvalid's multi_logloss: 0.191676\n",
      "Early stopping, best iteration is:\n",
      "[51]\ttrain's multi_logloss: 0.0281625\tvalid's multi_logloss: 0.18149\n",
      "69\n"
     ]
    },
    {
     "name": "stderr",
     "output_type": "stream",
     "text": [
      "2022-04-17 11:29:46 - src.train - INFO     [train.py:28] elapsed training time: 0.005 min\n",
      "2022-04-17 11:29:46 - src.train - INFO     [train.py:62] fold=2/33\n",
      "2022-04-17 11:29:46 - src.train - INFO     [train.py:63] reading cv index from data/cv_index/cv-model-test/basalt/fold_1.csv\n",
      "2022-04-17 11:29:46 - src.train - INFO     [train.py:28] elapsed training time: 0.005 min\n",
      "2022-04-17 11:29:46 - src.train - INFO     [train.py:62] fold=3/33\n",
      "2022-04-17 11:29:46 - src.train - INFO     [train.py:63] reading cv index from data/cv_index/cv-model-test/basalt/fold_10.csv\n",
      "2022-04-17 11:29:47 - src.train - INFO     [train.py:28] elapsed training time: 0.008 min\n",
      "2022-04-17 11:29:47 - src.train - INFO     [train.py:62] fold=4/33\n",
      "2022-04-17 11:29:47 - src.train - INFO     [train.py:63] reading cv index from data/cv_index/cv-model-test/basalt/fold_11.csv\n",
      "2022-04-17 11:29:48 - src.train - INFO     [train.py:28] elapsed training time: 0.008 min\n",
      "2022-04-17 11:29:48 - src.train - INFO     [train.py:62] fold=5/33\n",
      "2022-04-17 11:29:48 - src.train - INFO     [train.py:63] reading cv index from data/cv_index/cv-model-test/basalt/fold_12.csv\n",
      "2022-04-17 11:29:48 - src.train - INFO     [train.py:28] elapsed training time: 0.014 min\n",
      "2022-04-17 11:29:48 - src.train - INFO     [train.py:62] fold=6/33\n",
      "2022-04-17 11:29:48 - src.train - INFO     [train.py:63] reading cv index from data/cv_index/cv-model-test/basalt/fold_13.csv\n",
      "2022-04-17 11:29:49 - src.train - INFO     [train.py:28] elapsed training time: 0.007 min\n",
      "2022-04-17 11:29:49 - src.train - INFO     [train.py:62] fold=7/33\n",
      "2022-04-17 11:29:49 - src.train - INFO     [train.py:63] reading cv index from data/cv_index/cv-model-test/basalt/fold_14.csv\n",
      "2022-04-17 11:29:50 - src.train - INFO     [train.py:28] elapsed training time: 0.007 min\n",
      "2022-04-17 11:29:50 - src.train - INFO     [train.py:62] fold=8/33\n",
      "2022-04-17 11:29:50 - src.train - INFO     [train.py:63] reading cv index from data/cv_index/cv-model-test/basalt/fold_15.csv\n",
      "2022-04-17 11:29:50 - src.train - INFO     [train.py:28] elapsed training time: 0.008 min\n",
      "2022-04-17 11:29:50 - src.train - INFO     [train.py:62] fold=9/33\n",
      "2022-04-17 11:29:50 - src.train - INFO     [train.py:63] reading cv index from data/cv_index/cv-model-test/basalt/fold_16.csv\n",
      "2022-04-17 11:29:51 - src.train - INFO     [train.py:28] elapsed training time: 0.007 min\n",
      "2022-04-17 11:29:51 - src.train - INFO     [train.py:62] fold=10/33\n",
      "2022-04-17 11:29:51 - src.train - INFO     [train.py:63] reading cv index from data/cv_index/cv-model-test/basalt/fold_17.csv\n",
      "2022-04-17 11:29:51 - src.train - INFO     [train.py:28] elapsed training time: 0.010 min\n",
      "2022-04-17 11:29:51 - src.train - INFO     [train.py:62] fold=11/33\n",
      "2022-04-17 11:29:51 - src.train - INFO     [train.py:63] reading cv index from data/cv_index/cv-model-test/basalt/fold_18.csv\n",
      "2022-04-17 11:29:52 - src.train - INFO     [train.py:28] elapsed training time: 0.006 min\n",
      "2022-04-17 11:29:52 - src.train - INFO     [train.py:62] fold=12/33\n",
      "2022-04-17 11:29:52 - src.train - INFO     [train.py:63] reading cv index from data/cv_index/cv-model-test/basalt/fold_19.csv\n",
      "2022-04-17 11:29:52 - src.train - INFO     [train.py:28] elapsed training time: 0.007 min\n",
      "2022-04-17 11:29:52 - src.train - INFO     [train.py:62] fold=13/33\n",
      "2022-04-17 11:29:52 - src.train - INFO     [train.py:63] reading cv index from data/cv_index/cv-model-test/basalt/fold_2.csv\n",
      "2022-04-17 11:29:53 - src.train - INFO     [train.py:28] elapsed training time: 0.007 min\n",
      "2022-04-17 11:29:53 - src.train - INFO     [train.py:62] fold=14/33\n",
      "2022-04-17 11:29:53 - src.train - INFO     [train.py:63] reading cv index from data/cv_index/cv-model-test/basalt/fold_20.csv\n",
      "2022-04-17 11:29:53 - src.train - INFO     [train.py:28] elapsed training time: 0.005 min\n",
      "2022-04-17 11:29:53 - src.train - INFO     [train.py:62] fold=15/33\n",
      "2022-04-17 11:29:53 - src.train - INFO     [train.py:63] reading cv index from data/cv_index/cv-model-test/basalt/fold_21.csv\n",
      "2022-04-17 11:29:54 - src.train - INFO     [train.py:28] elapsed training time: 0.004 min\n",
      "2022-04-17 11:29:54 - src.train - INFO     [train.py:62] fold=16/33\n",
      "2022-04-17 11:29:54 - src.train - INFO     [train.py:63] reading cv index from data/cv_index/cv-model-test/basalt/fold_22.csv\n",
      "2022-04-17 11:29:54 - src.train - INFO     [train.py:28] elapsed training time: 0.006 min\n",
      "2022-04-17 11:29:54 - src.train - INFO     [train.py:62] fold=17/33\n",
      "2022-04-17 11:29:54 - src.train - INFO     [train.py:63] reading cv index from data/cv_index/cv-model-test/basalt/fold_23.csv\n",
      "2022-04-17 11:29:55 - src.train - INFO     [train.py:28] elapsed training time: 0.005 min\n",
      "2022-04-17 11:29:55 - src.train - INFO     [train.py:62] fold=18/33\n",
      "2022-04-17 11:29:55 - src.train - INFO     [train.py:63] reading cv index from data/cv_index/cv-model-test/basalt/fold_24.csv\n",
      "2022-04-17 11:29:55 - src.train - INFO     [train.py:28] elapsed training time: 0.005 min\n",
      "2022-04-17 11:29:55 - src.train - INFO     [train.py:62] fold=19/33\n",
      "2022-04-17 11:29:55 - src.train - INFO     [train.py:63] reading cv index from data/cv_index/cv-model-test/basalt/fold_25.csv\n",
      "2022-04-17 11:29:55 - src.train - INFO     [train.py:28] elapsed training time: 0.005 min\n",
      "2022-04-17 11:29:55 - src.train - INFO     [train.py:62] fold=20/33\n",
      "2022-04-17 11:29:56 - src.train - INFO     [train.py:63] reading cv index from data/cv_index/cv-model-test/basalt/fold_26.csv\n",
      "2022-04-17 11:29:56 - src.train - INFO     [train.py:28] elapsed training time: 0.005 min\n",
      "2022-04-17 11:29:56 - src.train - INFO     [train.py:62] fold=21/33\n",
      "2022-04-17 11:29:56 - src.train - INFO     [train.py:63] reading cv index from data/cv_index/cv-model-test/basalt/fold_27.csv\n",
      "2022-04-17 11:29:56 - src.train - INFO     [train.py:28] elapsed training time: 0.005 min\n",
      "2022-04-17 11:29:56 - src.train - INFO     [train.py:62] fold=22/33\n",
      "2022-04-17 11:29:56 - src.train - INFO     [train.py:63] reading cv index from data/cv_index/cv-model-test/basalt/fold_28.csv\n",
      "2022-04-17 11:29:57 - src.train - INFO     [train.py:28] elapsed training time: 0.005 min\n",
      "2022-04-17 11:29:57 - src.train - INFO     [train.py:62] fold=23/33\n",
      "2022-04-17 11:29:57 - src.train - INFO     [train.py:63] reading cv index from data/cv_index/cv-model-test/basalt/fold_29.csv\n",
      "2022-04-17 11:29:57 - src.train - INFO     [train.py:28] elapsed training time: 0.005 min\n",
      "2022-04-17 11:29:57 - src.train - INFO     [train.py:62] fold=24/33\n",
      "2022-04-17 11:29:57 - src.train - INFO     [train.py:63] reading cv index from data/cv_index/cv-model-test/basalt/fold_3.csv\n",
      "2022-04-17 11:29:58 - src.train - INFO     [train.py:28] elapsed training time: 0.009 min\n",
      "2022-04-17 11:29:58 - src.train - INFO     [train.py:62] fold=25/33\n",
      "2022-04-17 11:29:58 - src.train - INFO     [train.py:63] reading cv index from data/cv_index/cv-model-test/basalt/fold_30.csv\n",
      "2022-04-17 11:29:58 - src.train - INFO     [train.py:28] elapsed training time: 0.006 min\n",
      "2022-04-17 11:29:58 - src.train - INFO     [train.py:62] fold=26/33\n",
      "2022-04-17 11:29:58 - src.train - INFO     [train.py:63] reading cv index from data/cv_index/cv-model-test/basalt/fold_31.csv\n",
      "2022-04-17 11:29:59 - src.train - INFO     [train.py:28] elapsed training time: 0.005 min\n",
      "2022-04-17 11:29:59 - src.train - INFO     [train.py:62] fold=27/33\n",
      "2022-04-17 11:29:59 - src.train - INFO     [train.py:63] reading cv index from data/cv_index/cv-model-test/basalt/fold_32.csv\n",
      "2022-04-17 11:29:59 - src.train - INFO     [train.py:28] elapsed training time: 0.005 min\n",
      "2022-04-17 11:29:59 - src.train - INFO     [train.py:62] fold=28/33\n",
      "2022-04-17 11:29:59 - src.train - INFO     [train.py:63] reading cv index from data/cv_index/cv-model-test/basalt/fold_4.csv\n",
      "2022-04-17 11:30:00 - src.train - INFO     [train.py:28] elapsed training time: 0.006 min\n",
      "2022-04-17 11:30:00 - src.train - INFO     [train.py:62] fold=29/33\n",
      "2022-04-17 11:30:00 - src.train - INFO     [train.py:63] reading cv index from data/cv_index/cv-model-test/basalt/fold_5.csv\n",
      "2022-04-17 11:30:00 - src.train - INFO     [train.py:28] elapsed training time: 0.005 min\n",
      "2022-04-17 11:30:00 - src.train - INFO     [train.py:62] fold=30/33\n",
      "2022-04-17 11:30:00 - src.train - INFO     [train.py:63] reading cv index from data/cv_index/cv-model-test/basalt/fold_6.csv\n"
     ]
    },
    {
     "name": "stderr",
     "output_type": "stream",
     "text": [
      "2022-04-17 11:30:00 - src.train - INFO     [train.py:28] elapsed training time: 0.005 min\n",
      "2022-04-17 11:30:00 - src.train - INFO     [train.py:62] fold=31/33\n",
      "2022-04-17 11:30:00 - src.train - INFO     [train.py:63] reading cv index from data/cv_index/cv-model-test/basalt/fold_7.csv\n",
      "2022-04-17 11:30:01 - src.train - INFO     [train.py:28] elapsed training time: 0.005 min\n",
      "2022-04-17 11:30:01 - src.train - INFO     [train.py:62] fold=32/33\n",
      "2022-04-17 11:30:01 - src.train - INFO     [train.py:63] reading cv index from data/cv_index/cv-model-test/basalt/fold_8.csv\n",
      "2022-04-17 11:30:01 - src.train - INFO     [train.py:28] elapsed training time: 0.005 min\n",
      "2022-04-17 11:30:01 - src.train - INFO     [train.py:62] fold=33/33\n",
      "2022-04-17 11:30:01 - src.train - INFO     [train.py:63] reading cv index from data/cv_index/cv-model-test/basalt/fold_9.csv\n",
      "2022-04-17 11:30:02 - src.train - INFO     [train.py:28] elapsed training time: 0.005 min\n",
      "2022-04-17 11:30:02 - src.train - INFO     [train.py:62] fold=1/33\n",
      "2022-04-17 11:30:02 - src.train - INFO     [train.py:63] reading cv index from data/cv_index/cv-model-test/carbonate/fold_0.csv\n"
     ]
    },
    {
     "name": "stdout",
     "output_type": "stream",
     "text": [
      "Training until validation scores don't improve for 20 rounds\n",
      "[20]\ttrain's multi_logloss: 0.213484\tvalid's multi_logloss: 0.409809\n",
      "[40]\ttrain's multi_logloss: 0.0504744\tvalid's multi_logloss: 0.302427\n"
     ]
    },
    {
     "name": "stderr",
     "output_type": "stream",
     "text": [
      "2022-04-17 11:30:02 - src.train - INFO     [train.py:133] elapsed training time: 0.007 min\n",
      "2022-04-17 11:30:02 - src.train - INFO     [train.py:62] fold=2/33\n",
      "2022-04-17 11:30:02 - src.train - INFO     [train.py:63] reading cv index from data/cv_index/cv-model-test/carbonate/fold_1.csv\n"
     ]
    },
    {
     "name": "stdout",
     "output_type": "stream",
     "text": [
      "[60]\ttrain's multi_logloss: 0.0166544\tvalid's multi_logloss: 0.289256\n",
      "Early stopping, best iteration is:\n",
      "[58]\ttrain's multi_logloss: 0.0183142\tvalid's multi_logloss: 0.287381\n",
      "Training until validation scores don't improve for 20 rounds\n",
      "[20]\ttrain's multi_logloss: 0.216264\tvalid's multi_logloss: 0.385615\n",
      "[40]\ttrain's multi_logloss: 0.0505677\tvalid's multi_logloss: 0.246276\n"
     ]
    },
    {
     "name": "stderr",
     "output_type": "stream",
     "text": [
      "2022-04-17 11:30:03 - src.train - INFO     [train.py:133] elapsed training time: 0.008 min\n",
      "2022-04-17 11:30:03 - src.train - INFO     [train.py:62] fold=3/33\n",
      "2022-04-17 11:30:03 - src.train - INFO     [train.py:63] reading cv index from data/cv_index/cv-model-test/carbonate/fold_10.csv\n"
     ]
    },
    {
     "name": "stdout",
     "output_type": "stream",
     "text": [
      "[60]\ttrain's multi_logloss: 0.0165039\tvalid's multi_logloss: 0.230935\n",
      "[80]\ttrain's multi_logloss: 0.00820361\tvalid's multi_logloss: 0.223041\n",
      "[100]\ttrain's multi_logloss: 0.00574451\tvalid's multi_logloss: 0.22386\n",
      "Early stopping, best iteration is:\n",
      "[80]\ttrain's multi_logloss: 0.00820361\tvalid's multi_logloss: 0.223041\n",
      "Training until validation scores don't improve for 20 rounds\n",
      "[20]\ttrain's multi_logloss: 0.211298\tvalid's multi_logloss: 0.483628\n",
      "[40]\ttrain's multi_logloss: 0.0510522\tvalid's multi_logloss: 0.390235\n"
     ]
    },
    {
     "name": "stderr",
     "output_type": "stream",
     "text": [
      "2022-04-17 11:30:03 - src.train - INFO     [train.py:133] elapsed training time: 0.007 min\n",
      "2022-04-17 11:30:03 - src.train - INFO     [train.py:62] fold=4/33\n",
      "2022-04-17 11:30:03 - src.train - INFO     [train.py:63] reading cv index from data/cv_index/cv-model-test/carbonate/fold_11.csv\n"
     ]
    },
    {
     "name": "stdout",
     "output_type": "stream",
     "text": [
      "[60]\ttrain's multi_logloss: 0.0167719\tvalid's multi_logloss: 0.392924\n",
      "Early stopping, best iteration is:\n",
      "[51]\ttrain's multi_logloss: 0.0261883\tvalid's multi_logloss: 0.382001\n",
      "Training until validation scores don't improve for 20 rounds\n",
      "[20]\ttrain's multi_logloss: 0.212771\tvalid's multi_logloss: 0.340148\n",
      "[40]\ttrain's multi_logloss: 0.0504428\tvalid's multi_logloss: 0.230916\n",
      "[60]\ttrain's multi_logloss: 0.0162836\tvalid's multi_logloss: 0.217292\n"
     ]
    },
    {
     "name": "stderr",
     "output_type": "stream",
     "text": [
      "2022-04-17 11:30:04 - src.train - INFO     [train.py:133] elapsed training time: 0.015 min\n",
      "2022-04-17 11:30:04 - src.train - INFO     [train.py:62] fold=5/33\n",
      "2022-04-17 11:30:04 - src.train - INFO     [train.py:63] reading cv index from data/cv_index/cv-model-test/carbonate/fold_12.csv\n"
     ]
    },
    {
     "name": "stdout",
     "output_type": "stream",
     "text": [
      "[80]\ttrain's multi_logloss: 0.00809924\tvalid's multi_logloss: 0.217421\n",
      "Early stopping, best iteration is:\n",
      "[60]\ttrain's multi_logloss: 0.0162836\tvalid's multi_logloss: 0.217292\n",
      "Training until validation scores don't improve for 20 rounds\n",
      "[20]\ttrain's multi_logloss: 0.217784\tvalid's multi_logloss: 0.369345\n",
      "[40]\ttrain's multi_logloss: 0.0519618\tvalid's multi_logloss: 0.267944\n"
     ]
    },
    {
     "name": "stderr",
     "output_type": "stream",
     "text": [
      "2022-04-17 11:30:05 - src.train - INFO     [train.py:133] elapsed training time: 0.007 min\n",
      "2022-04-17 11:30:05 - src.train - INFO     [train.py:62] fold=6/33\n",
      "2022-04-17 11:30:05 - src.train - INFO     [train.py:63] reading cv index from data/cv_index/cv-model-test/carbonate/fold_13.csv\n"
     ]
    },
    {
     "name": "stdout",
     "output_type": "stream",
     "text": [
      "[60]\ttrain's multi_logloss: 0.0170734\tvalid's multi_logloss: 0.252038\n",
      "Early stopping, best iteration is:\n",
      "[54]\ttrain's multi_logloss: 0.0228598\tvalid's multi_logloss: 0.24967\n",
      "Training until validation scores don't improve for 20 rounds\n",
      "[20]\ttrain's multi_logloss: 0.213242\tvalid's multi_logloss: 0.355329\n",
      "[40]\ttrain's multi_logloss: 0.0510142\tvalid's multi_logloss: 0.239992\n"
     ]
    },
    {
     "name": "stderr",
     "output_type": "stream",
     "text": [
      "2022-04-17 11:30:05 - src.train - INFO     [train.py:133] elapsed training time: 0.007 min\n",
      "2022-04-17 11:30:05 - src.train - INFO     [train.py:62] fold=7/33\n",
      "2022-04-17 11:30:05 - src.train - INFO     [train.py:63] reading cv index from data/cv_index/cv-model-test/carbonate/fold_14.csv\n"
     ]
    },
    {
     "name": "stdout",
     "output_type": "stream",
     "text": [
      "[60]\ttrain's multi_logloss: 0.016807\tvalid's multi_logloss: 0.234511\n",
      "[80]\ttrain's multi_logloss: 0.00827291\tvalid's multi_logloss: 0.235006\n",
      "Early stopping, best iteration is:\n",
      "[67]\ttrain's multi_logloss: 0.0124847\tvalid's multi_logloss: 0.231442\n",
      "Training until validation scores don't improve for 20 rounds\n",
      "[20]\ttrain's multi_logloss: 0.211207\tvalid's multi_logloss: 0.428374\n",
      "[40]\ttrain's multi_logloss: 0.0497913\tvalid's multi_logloss: 0.296274\n"
     ]
    },
    {
     "name": "stderr",
     "output_type": "stream",
     "text": [
      "2022-04-17 11:30:06 - src.train - INFO     [train.py:133] elapsed training time: 0.008 min\n",
      "2022-04-17 11:30:06 - src.train - INFO     [train.py:62] fold=8/33\n",
      "2022-04-17 11:30:06 - src.train - INFO     [train.py:63] reading cv index from data/cv_index/cv-model-test/carbonate/fold_15.csv\n"
     ]
    },
    {
     "name": "stdout",
     "output_type": "stream",
     "text": [
      "[60]\ttrain's multi_logloss: 0.0161358\tvalid's multi_logloss: 0.25991\n",
      "[80]\ttrain's multi_logloss: 0.00800265\tvalid's multi_logloss: 0.258668\n",
      "Early stopping, best iteration is:\n",
      "[72]\ttrain's multi_logloss: 0.0100674\tvalid's multi_logloss: 0.256662\n",
      "Training until validation scores don't improve for 20 rounds\n",
      "[20]\ttrain's multi_logloss: 0.215841\tvalid's multi_logloss: 0.427789\n",
      "[40]\ttrain's multi_logloss: 0.0523941\tvalid's multi_logloss: 0.289383\n"
     ]
    },
    {
     "name": "stderr",
     "output_type": "stream",
     "text": [
      "2022-04-17 11:30:07 - src.train - INFO     [train.py:133] elapsed training time: 0.007 min\n",
      "2022-04-17 11:30:07 - src.train - INFO     [train.py:62] fold=9/33\n",
      "2022-04-17 11:30:07 - src.train - INFO     [train.py:63] reading cv index from data/cv_index/cv-model-test/carbonate/fold_16.csv\n"
     ]
    },
    {
     "name": "stdout",
     "output_type": "stream",
     "text": [
      "[60]\ttrain's multi_logloss: 0.0171294\tvalid's multi_logloss: 0.270357\n",
      "Early stopping, best iteration is:\n",
      "[49]\ttrain's multi_logloss: 0.0301674\tvalid's multi_logloss: 0.268916\n",
      "Training until validation scores don't improve for 20 rounds\n",
      "[20]\ttrain's multi_logloss: 0.22065\tvalid's multi_logloss: 0.314921\n",
      "[40]\ttrain's multi_logloss: 0.0527459\tvalid's multi_logloss: 0.17365\n"
     ]
    },
    {
     "name": "stderr",
     "output_type": "stream",
     "text": [
      "2022-04-17 11:30:07 - src.train - INFO     [train.py:133] elapsed training time: 0.008 min\n",
      "2022-04-17 11:30:07 - src.train - INFO     [train.py:62] fold=10/33\n",
      "2022-04-17 11:30:07 - src.train - INFO     [train.py:63] reading cv index from data/cv_index/cv-model-test/carbonate/fold_17.csv\n"
     ]
    },
    {
     "name": "stdout",
     "output_type": "stream",
     "text": [
      "[60]\ttrain's multi_logloss: 0.0172914\tvalid's multi_logloss: 0.136073\n",
      "[80]\ttrain's multi_logloss: 0.0086513\tvalid's multi_logloss: 0.128793\n",
      "Early stopping, best iteration is:\n",
      "[77]\ttrain's multi_logloss: 0.00937441\tvalid's multi_logloss: 0.127279\n",
      "Training until validation scores don't improve for 20 rounds\n",
      "[20]\ttrain's multi_logloss: 0.211808\tvalid's multi_logloss: 0.411489\n",
      "[40]\ttrain's multi_logloss: 0.0511154\tvalid's multi_logloss: 0.305374\n"
     ]
    },
    {
     "name": "stderr",
     "output_type": "stream",
     "text": [
      "2022-04-17 11:30:08 - src.train - INFO     [train.py:133] elapsed training time: 0.007 min\n",
      "2022-04-17 11:30:08 - src.train - INFO     [train.py:62] fold=11/33\n",
      "2022-04-17 11:30:08 - src.train - INFO     [train.py:63] reading cv index from data/cv_index/cv-model-test/carbonate/fold_18.csv\n"
     ]
    },
    {
     "name": "stdout",
     "output_type": "stream",
     "text": [
      "[60]\ttrain's multi_logloss: 0.0168329\tvalid's multi_logloss: 0.296957\n",
      "[80]\ttrain's multi_logloss: 0.00827404\tvalid's multi_logloss: 0.310826\n",
      "Early stopping, best iteration is:\n",
      "[61]\ttrain's multi_logloss: 0.0161311\tvalid's multi_logloss: 0.296311\n",
      "Training until validation scores don't improve for 20 rounds\n",
      "[20]\ttrain's multi_logloss: 0.210231\tvalid's multi_logloss: 0.457815\n",
      "[40]\ttrain's multi_logloss: 0.0501506\tvalid's multi_logloss: 0.333139\n",
      "[60]\ttrain's multi_logloss: 0.0162396\tvalid's multi_logloss: 0.290181\n"
     ]
    },
    {
     "name": "stderr",
     "output_type": "stream",
     "text": [
      "2022-04-17 11:30:09 - src.train - INFO     [train.py:133] elapsed training time: 0.013 min\n",
      "2022-04-17 11:30:09 - src.train - INFO     [train.py:62] fold=12/33\n",
      "2022-04-17 11:30:09 - src.train - INFO     [train.py:63] reading cv index from data/cv_index/cv-model-test/carbonate/fold_19.csv\n"
     ]
    },
    {
     "name": "stdout",
     "output_type": "stream",
     "text": [
      "[80]\ttrain's multi_logloss: 0.00808845\tvalid's multi_logloss: 0.292211\n",
      "Early stopping, best iteration is:\n",
      "[60]\ttrain's multi_logloss: 0.0162396\tvalid's multi_logloss: 0.290181\n",
      "Training until validation scores don't improve for 20 rounds\n",
      "[20]\ttrain's multi_logloss: 0.216963\tvalid's multi_logloss: 0.353914\n",
      "[40]\ttrain's multi_logloss: 0.0509612\tvalid's multi_logloss: 0.222895\n",
      "[60]\ttrain's multi_logloss: 0.0166007\tvalid's multi_logloss: 0.202913\n"
     ]
    },
    {
     "name": "stderr",
     "output_type": "stream",
     "text": [
      "2022-04-17 11:30:10 - src.train - INFO     [train.py:133] elapsed training time: 0.014 min\n",
      "2022-04-17 11:30:10 - src.train - INFO     [train.py:62] fold=13/33\n",
      "2022-04-17 11:30:10 - src.train - INFO     [train.py:63] reading cv index from data/cv_index/cv-model-test/carbonate/fold_2.csv\n"
     ]
    },
    {
     "name": "stdout",
     "output_type": "stream",
     "text": [
      "[80]\ttrain's multi_logloss: 0.00815876\tvalid's multi_logloss: 0.198074\n",
      "[100]\ttrain's multi_logloss: 0.00560779\tvalid's multi_logloss: 0.198125\n",
      "Early stopping, best iteration is:\n",
      "[84]\ttrain's multi_logloss: 0.00742466\tvalid's multi_logloss: 0.196226\n",
      "Training until validation scores don't improve for 20 rounds\n",
      "[20]\ttrain's multi_logloss: 0.213016\tvalid's multi_logloss: 0.467361\n",
      "[40]\ttrain's multi_logloss: 0.0496941\tvalid's multi_logloss: 0.35402\n"
     ]
    },
    {
     "name": "stderr",
     "output_type": "stream",
     "text": [
      "2022-04-17 11:30:10 - src.train - INFO     [train.py:133] elapsed training time: 0.006 min\n",
      "2022-04-17 11:30:10 - src.train - INFO     [train.py:62] fold=14/33\n",
      "2022-04-17 11:30:10 - src.train - INFO     [train.py:63] reading cv index from data/cv_index/cv-model-test/carbonate/fold_20.csv\n"
     ]
    },
    {
     "name": "stdout",
     "output_type": "stream",
     "text": [
      "[60]\ttrain's multi_logloss: 0.0160168\tvalid's multi_logloss: 0.337234\n",
      "Early stopping, best iteration is:\n",
      "[57]\ttrain's multi_logloss: 0.018548\tvalid's multi_logloss: 0.334825\n",
      "Training until validation scores don't improve for 20 rounds\n",
      "[20]\ttrain's multi_logloss: 0.217895\tvalid's multi_logloss: 0.361492\n",
      "[40]\ttrain's multi_logloss: 0.0521252\tvalid's multi_logloss: 0.245825\n"
     ]
    },
    {
     "name": "stderr",
     "output_type": "stream",
     "text": [
      "2022-04-17 11:30:11 - src.train - INFO     [train.py:133] elapsed training time: 0.009 min\n",
      "2022-04-17 11:30:11 - src.train - INFO     [train.py:62] fold=15/33\n",
      "2022-04-17 11:30:11 - src.train - INFO     [train.py:63] reading cv index from data/cv_index/cv-model-test/carbonate/fold_21.csv\n"
     ]
    },
    {
     "name": "stdout",
     "output_type": "stream",
     "text": [
      "[60]\ttrain's multi_logloss: 0.0170137\tvalid's multi_logloss: 0.219773\n",
      "[80]\ttrain's multi_logloss: 0.00838643\tvalid's multi_logloss: 0.21571\n",
      "[100]\ttrain's multi_logloss: 0.00570307\tvalid's multi_logloss: 0.214695\n",
      "[120]\ttrain's multi_logloss: 0.00493346\tvalid's multi_logloss: 0.215087\n",
      "Early stopping, best iteration is:\n",
      "[104]\ttrain's multi_logloss: 0.0054244\tvalid's multi_logloss: 0.212753\n",
      "Training until validation scores don't improve for 20 rounds\n",
      "[20]\ttrain's multi_logloss: 0.215424\tvalid's multi_logloss: 0.38488\n",
      "[40]\ttrain's multi_logloss: 0.0518538\tvalid's multi_logloss: 0.251997\n",
      "[60]\ttrain's multi_logloss: 0.0167795\tvalid's multi_logloss: 0.231467\n"
     ]
    },
    {
     "name": "stderr",
     "output_type": "stream",
     "text": [
      "2022-04-17 11:30:11 - src.train - INFO     [train.py:133] elapsed training time: 0.007 min\n",
      "2022-04-17 11:30:11 - src.train - INFO     [train.py:62] fold=16/33\n",
      "2022-04-17 11:30:11 - src.train - INFO     [train.py:63] reading cv index from data/cv_index/cv-model-test/carbonate/fold_22.csv\n"
     ]
    },
    {
     "name": "stdout",
     "output_type": "stream",
     "text": [
      "[80]\ttrain's multi_logloss: 0.00831928\tvalid's multi_logloss: 0.229562\n",
      "Early stopping, best iteration is:\n",
      "[68]\ttrain's multi_logloss: 0.0121326\tvalid's multi_logloss: 0.223758\n",
      "Training until validation scores don't improve for 20 rounds\n",
      "[20]\ttrain's multi_logloss: 0.21562\tvalid's multi_logloss: 0.43989\n",
      "[40]\ttrain's multi_logloss: 0.0517006\tvalid's multi_logloss: 0.323453\n"
     ]
    },
    {
     "name": "stderr",
     "output_type": "stream",
     "text": [
      "2022-04-17 11:30:12 - src.train - INFO     [train.py:133] elapsed training time: 0.008 min\n",
      "2022-04-17 11:30:12 - src.train - INFO     [train.py:62] fold=17/33\n",
      "2022-04-17 11:30:12 - src.train - INFO     [train.py:63] reading cv index from data/cv_index/cv-model-test/carbonate/fold_23.csv\n"
     ]
    },
    {
     "name": "stdout",
     "output_type": "stream",
     "text": [
      "[60]\ttrain's multi_logloss: 0.0171296\tvalid's multi_logloss: 0.304488\n",
      "[80]\ttrain's multi_logloss: 0.00837821\tvalid's multi_logloss: 0.312025\n",
      "Early stopping, best iteration is:\n",
      "[61]\ttrain's multi_logloss: 0.016414\tvalid's multi_logloss: 0.302912\n",
      "Training until validation scores don't improve for 20 rounds\n",
      "[20]\ttrain's multi_logloss: 0.213839\tvalid's multi_logloss: 0.358722\n",
      "[40]\ttrain's multi_logloss: 0.050939\tvalid's multi_logloss: 0.281035\n"
     ]
    },
    {
     "name": "stderr",
     "output_type": "stream",
     "text": [
      "2022-04-17 11:30:12 - src.train - INFO     [train.py:133] elapsed training time: 0.007 min\n",
      "2022-04-17 11:30:12 - src.train - INFO     [train.py:62] fold=18/33\n",
      "2022-04-17 11:30:12 - src.train - INFO     [train.py:63] reading cv index from data/cv_index/cv-model-test/carbonate/fold_24.csv\n"
     ]
    },
    {
     "name": "stdout",
     "output_type": "stream",
     "text": [
      "[60]\ttrain's multi_logloss: 0.0164058\tvalid's multi_logloss: 0.28251\n",
      "Early stopping, best iteration is:\n",
      "[53]\ttrain's multi_logloss: 0.023269\tvalid's multi_logloss: 0.272043\n",
      "Training until validation scores don't improve for 20 rounds\n",
      "[20]\ttrain's multi_logloss: 0.218453\tvalid's multi_logloss: 0.365256\n",
      "[40]\ttrain's multi_logloss: 0.0510709\tvalid's multi_logloss: 0.21802\n"
     ]
    },
    {
     "name": "stderr",
     "output_type": "stream",
     "text": [
      "2022-04-17 11:30:13 - src.train - INFO     [train.py:133] elapsed training time: 0.010 min\n",
      "2022-04-17 11:30:13 - src.train - INFO     [train.py:62] fold=19/33\n",
      "2022-04-17 11:30:13 - src.train - INFO     [train.py:63] reading cv index from data/cv_index/cv-model-test/carbonate/fold_25.csv\n"
     ]
    },
    {
     "name": "stdout",
     "output_type": "stream",
     "text": [
      "[60]\ttrain's multi_logloss: 0.0166967\tvalid's multi_logloss: 0.192031\n",
      "[80]\ttrain's multi_logloss: 0.00824607\tvalid's multi_logloss: 0.185346\n",
      "[100]\ttrain's multi_logloss: 0.00570586\tvalid's multi_logloss: 0.18333\n",
      "[120]\ttrain's multi_logloss: 0.00489214\tvalid's multi_logloss: 0.182299\n",
      "Early stopping, best iteration is:\n",
      "[112]\ttrain's multi_logloss: 0.00513052\tvalid's multi_logloss: 0.18054\n",
      "Training until validation scores don't improve for 20 rounds\n",
      "[20]\ttrain's multi_logloss: 0.217358\tvalid's multi_logloss: 0.330438\n",
      "[40]\ttrain's multi_logloss: 0.0521328\tvalid's multi_logloss: 0.225801\n"
     ]
    },
    {
     "name": "stderr",
     "output_type": "stream",
     "text": [
      "2022-04-17 11:30:14 - src.train - INFO     [train.py:133] elapsed training time: 0.008 min\n",
      "2022-04-17 11:30:14 - src.train - INFO     [train.py:62] fold=20/33\n",
      "2022-04-17 11:30:14 - src.train - INFO     [train.py:63] reading cv index from data/cv_index/cv-model-test/carbonate/fold_26.csv\n"
     ]
    },
    {
     "name": "stdout",
     "output_type": "stream",
     "text": [
      "[60]\ttrain's multi_logloss: 0.0169518\tvalid's multi_logloss: 0.210071\n",
      "[80]\ttrain's multi_logloss: 0.00829593\tvalid's multi_logloss: 0.199417\n",
      "[100]\ttrain's multi_logloss: 0.00568453\tvalid's multi_logloss: 0.200456\n",
      "Early stopping, best iteration is:\n",
      "[81]\ttrain's multi_logloss: 0.00809733\tvalid's multi_logloss: 0.198948\n",
      "Training until validation scores don't improve for 20 rounds\n",
      "[20]\ttrain's multi_logloss: 0.212605\tvalid's multi_logloss: 0.478593\n",
      "[40]\ttrain's multi_logloss: 0.0512268\tvalid's multi_logloss: 0.32771\n"
     ]
    },
    {
     "name": "stderr",
     "output_type": "stream",
     "text": [
      "2022-04-17 11:30:14 - src.train - INFO     [train.py:133] elapsed training time: 0.007 min\n",
      "2022-04-17 11:30:14 - src.train - INFO     [train.py:62] fold=21/33\n",
      "2022-04-17 11:30:14 - src.train - INFO     [train.py:63] reading cv index from data/cv_index/cv-model-test/carbonate/fold_27.csv\n"
     ]
    },
    {
     "name": "stdout",
     "output_type": "stream",
     "text": [
      "[60]\ttrain's multi_logloss: 0.016587\tvalid's multi_logloss: 0.296726\n",
      "[80]\ttrain's multi_logloss: 0.00818326\tvalid's multi_logloss: 0.298472\n",
      "Early stopping, best iteration is:\n",
      "[67]\ttrain's multi_logloss: 0.0123959\tvalid's multi_logloss: 0.293467\n",
      "Training until validation scores don't improve for 20 rounds\n",
      "[20]\ttrain's multi_logloss: 0.212892\tvalid's multi_logloss: 0.399522\n",
      "[40]\ttrain's multi_logloss: 0.0512896\tvalid's multi_logloss: 0.282899\n"
     ]
    },
    {
     "name": "stderr",
     "output_type": "stream",
     "text": [
      "2022-04-17 11:30:15 - src.train - INFO     [train.py:133] elapsed training time: 0.009 min\n",
      "2022-04-17 11:30:15 - src.train - INFO     [train.py:62] fold=22/33\n",
      "2022-04-17 11:30:15 - src.train - INFO     [train.py:63] reading cv index from data/cv_index/cv-model-test/carbonate/fold_28.csv\n"
     ]
    },
    {
     "name": "stdout",
     "output_type": "stream",
     "text": [
      "[60]\ttrain's multi_logloss: 0.0167569\tvalid's multi_logloss: 0.263778\n",
      "[80]\ttrain's multi_logloss: 0.00832343\tvalid's multi_logloss: 0.259147\n",
      "Early stopping, best iteration is:\n",
      "[73]\ttrain's multi_logloss: 0.0101014\tvalid's multi_logloss: 0.254356\n",
      "Training until validation scores don't improve for 20 rounds\n",
      "[20]\ttrain's multi_logloss: 0.213319\tvalid's multi_logloss: 0.370787\n",
      "[40]\ttrain's multi_logloss: 0.0519414\tvalid's multi_logloss: 0.252163\n"
     ]
    },
    {
     "name": "stderr",
     "output_type": "stream",
     "text": [
      "2022-04-17 11:30:15 - src.train - INFO     [train.py:133] elapsed training time: 0.007 min\n",
      "2022-04-17 11:30:15 - src.train - INFO     [train.py:62] fold=23/33\n",
      "2022-04-17 11:30:15 - src.train - INFO     [train.py:63] reading cv index from data/cv_index/cv-model-test/carbonate/fold_29.csv\n"
     ]
    },
    {
     "name": "stdout",
     "output_type": "stream",
     "text": [
      "[60]\ttrain's multi_logloss: 0.0167021\tvalid's multi_logloss: 0.226165\n",
      "[80]\ttrain's multi_logloss: 0.00820933\tvalid's multi_logloss: 0.21404\n",
      "Early stopping, best iteration is:\n",
      "[72]\ttrain's multi_logloss: 0.010348\tvalid's multi_logloss: 0.213724\n",
      "Training until validation scores don't improve for 20 rounds\n",
      "[20]\ttrain's multi_logloss: 0.215417\tvalid's multi_logloss: 0.324369\n",
      "[40]\ttrain's multi_logloss: 0.0494559\tvalid's multi_logloss: 0.217474\n"
     ]
    },
    {
     "name": "stderr",
     "output_type": "stream",
     "text": [
      "2022-04-17 11:30:16 - src.train - INFO     [train.py:133] elapsed training time: 0.008 min\n",
      "2022-04-17 11:30:16 - src.train - INFO     [train.py:62] fold=24/33\n",
      "2022-04-17 11:30:16 - src.train - INFO     [train.py:63] reading cv index from data/cv_index/cv-model-test/carbonate/fold_3.csv\n"
     ]
    },
    {
     "name": "stdout",
     "output_type": "stream",
     "text": [
      "[60]\ttrain's multi_logloss: 0.0160098\tvalid's multi_logloss: 0.203895\n",
      "[80]\ttrain's multi_logloss: 0.00809536\tvalid's multi_logloss: 0.196225\n",
      "[100]\ttrain's multi_logloss: 0.00568634\tvalid's multi_logloss: 0.204248\n",
      "Early stopping, best iteration is:\n",
      "[81]\ttrain's multi_logloss: 0.00792266\tvalid's multi_logloss: 0.195943\n",
      "Training until validation scores don't improve for 20 rounds\n",
      "[20]\ttrain's multi_logloss: 0.216312\tvalid's multi_logloss: 0.377075\n",
      "[40]\ttrain's multi_logloss: 0.0523485\tvalid's multi_logloss: 0.227388\n"
     ]
    },
    {
     "name": "stderr",
     "output_type": "stream",
     "text": [
      "2022-04-17 11:30:16 - src.train - INFO     [train.py:133] elapsed training time: 0.007 min\n",
      "2022-04-17 11:30:16 - src.train - INFO     [train.py:62] fold=25/33\n",
      "2022-04-17 11:30:16 - src.train - INFO     [train.py:63] reading cv index from data/cv_index/cv-model-test/carbonate/fold_30.csv\n"
     ]
    },
    {
     "name": "stdout",
     "output_type": "stream",
     "text": [
      "[60]\ttrain's multi_logloss: 0.0173368\tvalid's multi_logloss: 0.189902\n",
      "[80]\ttrain's multi_logloss: 0.00837304\tvalid's multi_logloss: 0.180226\n",
      "Early stopping, best iteration is:\n",
      "[70]\ttrain's multi_logloss: 0.0114881\tvalid's multi_logloss: 0.177832\n",
      "Training until validation scores don't improve for 20 rounds\n",
      "[20]\ttrain's multi_logloss: 0.218874\tvalid's multi_logloss: 0.340629\n",
      "[40]\ttrain's multi_logloss: 0.0526969\tvalid's multi_logloss: 0.201651\n"
     ]
    },
    {
     "name": "stderr",
     "output_type": "stream",
     "text": [
      "2022-04-17 11:30:17 - src.train - INFO     [train.py:133] elapsed training time: 0.008 min\n",
      "2022-04-17 11:30:17 - src.train - INFO     [train.py:62] fold=26/33\n",
      "2022-04-17 11:30:17 - src.train - INFO     [train.py:63] reading cv index from data/cv_index/cv-model-test/carbonate/fold_31.csv\n"
     ]
    },
    {
     "name": "stdout",
     "output_type": "stream",
     "text": [
      "[60]\ttrain's multi_logloss: 0.0172408\tvalid's multi_logloss: 0.175718\n",
      "[80]\ttrain's multi_logloss: 0.00852374\tvalid's multi_logloss: 0.175082\n",
      "Early stopping, best iteration is:\n",
      "[69]\ttrain's multi_logloss: 0.011836\tvalid's multi_logloss: 0.172527\n",
      "Training until validation scores don't improve for 20 rounds\n",
      "[20]\ttrain's multi_logloss: 0.21732\tvalid's multi_logloss: 0.427596\n",
      "[40]\ttrain's multi_logloss: 0.0521919\tvalid's multi_logloss: 0.327368\n"
     ]
    },
    {
     "name": "stderr",
     "output_type": "stream",
     "text": [
      "2022-04-17 11:30:18 - src.train - INFO     [train.py:133] elapsed training time: 0.007 min\n",
      "2022-04-17 11:30:18 - src.train - INFO     [train.py:62] fold=27/33\n",
      "2022-04-17 11:30:18 - src.train - INFO     [train.py:63] reading cv index from data/cv_index/cv-model-test/carbonate/fold_32.csv\n"
     ]
    },
    {
     "name": "stdout",
     "output_type": "stream",
     "text": [
      "[60]\ttrain's multi_logloss: 0.0171511\tvalid's multi_logloss: 0.321951\n",
      "Early stopping, best iteration is:\n",
      "[48]\ttrain's multi_logloss: 0.0318686\tvalid's multi_logloss: 0.312994\n",
      "Training until validation scores don't improve for 20 rounds\n",
      "[20]\ttrain's multi_logloss: 0.2175\tvalid's multi_logloss: 0.390022\n",
      "[40]\ttrain's multi_logloss: 0.0532105\tvalid's multi_logloss: 0.240761\n"
     ]
    },
    {
     "name": "stderr",
     "output_type": "stream",
     "text": [
      "2022-04-17 11:30:18 - src.train - INFO     [train.py:133] elapsed training time: 0.008 min\n",
      "2022-04-17 11:30:18 - src.train - INFO     [train.py:62] fold=28/33\n",
      "2022-04-17 11:30:18 - src.train - INFO     [train.py:63] reading cv index from data/cv_index/cv-model-test/carbonate/fold_4.csv\n"
     ]
    },
    {
     "name": "stdout",
     "output_type": "stream",
     "text": [
      "[60]\ttrain's multi_logloss: 0.0173327\tvalid's multi_logloss: 0.215633\n",
      "[80]\ttrain's multi_logloss: 0.00848223\tvalid's multi_logloss: 0.217359\n",
      "Early stopping, best iteration is:\n",
      "[77]\ttrain's multi_logloss: 0.00922457\tvalid's multi_logloss: 0.214832\n",
      "Training until validation scores don't improve for 20 rounds\n",
      "[20]\ttrain's multi_logloss: 0.219085\tvalid's multi_logloss: 0.347595\n",
      "[40]\ttrain's multi_logloss: 0.0537054\tvalid's multi_logloss: 0.232294\n"
     ]
    },
    {
     "name": "stderr",
     "output_type": "stream",
     "text": [
      "2022-04-17 11:30:19 - src.train - INFO     [train.py:133] elapsed training time: 0.009 min\n"
     ]
    },
    {
     "name": "stdout",
     "output_type": "stream",
     "text": [
      "[60]\ttrain's multi_logloss: 0.0174882\tvalid's multi_logloss: 0.223681\n",
      "[80]\ttrain's multi_logloss: 0.00869728\tvalid's multi_logloss: 0.220917\n",
      "[100]\ttrain's multi_logloss: 0.00589669\tvalid's multi_logloss: 0.216396\n",
      "[120]\ttrain's multi_logloss: 0.00505924\tvalid's multi_logloss: 0.214922\n",
      "[140]\ttrain's multi_logloss: 0.00469565\tvalid's multi_logloss: 0.216964\n",
      "Early stopping, best iteration is:\n",
      "[120]\ttrain's multi_logloss: 0.00505924\tvalid's multi_logloss: 0.214922\n"
     ]
    },
    {
     "name": "stderr",
     "output_type": "stream",
     "text": [
      "2022-04-17 11:30:19 - src.train - INFO     [train.py:62] fold=29/33\n",
      "2022-04-17 11:30:19 - src.train - INFO     [train.py:63] reading cv index from data/cv_index/cv-model-test/carbonate/fold_5.csv\n"
     ]
    },
    {
     "name": "stdout",
     "output_type": "stream",
     "text": [
      "Training until validation scores don't improve for 20 rounds\n",
      "[20]\ttrain's multi_logloss: 0.21279\tvalid's multi_logloss: 0.372625\n",
      "[40]\ttrain's multi_logloss: 0.0500407\tvalid's multi_logloss: 0.245342\n"
     ]
    },
    {
     "name": "stderr",
     "output_type": "stream",
     "text": [
      "2022-04-17 11:30:19 - src.train - INFO     [train.py:133] elapsed training time: 0.007 min\n",
      "2022-04-17 11:30:19 - src.train - INFO     [train.py:62] fold=30/33\n",
      "2022-04-17 11:30:19 - src.train - INFO     [train.py:63] reading cv index from data/cv_index/cv-model-test/carbonate/fold_6.csv\n"
     ]
    },
    {
     "name": "stdout",
     "output_type": "stream",
     "text": [
      "[60]\ttrain's multi_logloss: 0.01612\tvalid's multi_logloss: 0.241435\n",
      "[80]\ttrain's multi_logloss: 0.00795276\tvalid's multi_logloss: 0.245473\n",
      "Early stopping, best iteration is:\n",
      "[65]\ttrain's multi_logloss: 0.0129474\tvalid's multi_logloss: 0.236362\n",
      "Training until validation scores don't improve for 20 rounds\n",
      "[20]\ttrain's multi_logloss: 0.215542\tvalid's multi_logloss: 0.43274\n",
      "[40]\ttrain's multi_logloss: 0.0505312\tvalid's multi_logloss: 0.331539\n",
      "[60]\ttrain's multi_logloss: 0.0162697\tvalid's multi_logloss: 0.316872\n"
     ]
    },
    {
     "name": "stderr",
     "output_type": "stream",
     "text": [
      "2022-04-17 11:30:20 - src.train - INFO     [train.py:133] elapsed training time: 0.012 min\n",
      "2022-04-17 11:30:20 - src.train - INFO     [train.py:62] fold=31/33\n",
      "2022-04-17 11:30:20 - src.train - INFO     [train.py:63] reading cv index from data/cv_index/cv-model-test/carbonate/fold_7.csv\n"
     ]
    },
    {
     "name": "stdout",
     "output_type": "stream",
     "text": [
      "[80]\ttrain's multi_logloss: 0.00803972\tvalid's multi_logloss: 0.322074\n",
      "Early stopping, best iteration is:\n",
      "[64]\ttrain's multi_logloss: 0.0136151\tvalid's multi_logloss: 0.314121\n",
      "Training until validation scores don't improve for 20 rounds\n",
      "[20]\ttrain's multi_logloss: 0.213767\tvalid's multi_logloss: 0.355932\n",
      "[40]\ttrain's multi_logloss: 0.0511036\tvalid's multi_logloss: 0.231002\n",
      "[60]\ttrain's multi_logloss: 0.0167458\tvalid's multi_logloss: 0.198848\n"
     ]
    },
    {
     "name": "stderr",
     "output_type": "stream",
     "text": [
      "2022-04-17 11:30:21 - src.train - INFO     [train.py:133] elapsed training time: 0.015 min\n",
      "2022-04-17 11:30:21 - src.train - INFO     [train.py:62] fold=32/33\n",
      "2022-04-17 11:30:21 - src.train - INFO     [train.py:63] reading cv index from data/cv_index/cv-model-test/carbonate/fold_8.csv\n"
     ]
    },
    {
     "name": "stdout",
     "output_type": "stream",
     "text": [
      "[80]\ttrain's multi_logloss: 0.00824626\tvalid's multi_logloss: 0.184644\n",
      "[100]\ttrain's multi_logloss: 0.00562806\tvalid's multi_logloss: 0.183612\n",
      "Early stopping, best iteration is:\n",
      "[88]\ttrain's multi_logloss: 0.00684355\tvalid's multi_logloss: 0.181137\n",
      "Training until validation scores don't improve for 20 rounds\n",
      "[20]\ttrain's multi_logloss: 0.212408\tvalid's multi_logloss: 0.322642\n",
      "[40]\ttrain's multi_logloss: 0.0506861\tvalid's multi_logloss: 0.206324\n"
     ]
    },
    {
     "name": "stderr",
     "output_type": "stream",
     "text": [
      "2022-04-17 11:30:22 - src.train - INFO     [train.py:133] elapsed training time: 0.008 min\n",
      "2022-04-17 11:30:22 - src.train - INFO     [train.py:62] fold=33/33\n",
      "2022-04-17 11:30:22 - src.train - INFO     [train.py:63] reading cv index from data/cv_index/cv-model-test/carbonate/fold_9.csv\n"
     ]
    },
    {
     "name": "stdout",
     "output_type": "stream",
     "text": [
      "[60]\ttrain's multi_logloss: 0.0164838\tvalid's multi_logloss: 0.201497\n",
      "[80]\ttrain's multi_logloss: 0.00814348\tvalid's multi_logloss: 0.204836\n",
      "Early stopping, best iteration is:\n",
      "[68]\ttrain's multi_logloss: 0.0118585\tvalid's multi_logloss: 0.197574\n",
      "Training until validation scores don't improve for 20 rounds\n",
      "[20]\ttrain's multi_logloss: 0.212656\tvalid's multi_logloss: 0.319475\n",
      "[40]\ttrain's multi_logloss: 0.051061\tvalid's multi_logloss: 0.197824\n"
     ]
    },
    {
     "name": "stderr",
     "output_type": "stream",
     "text": [
      "2022-04-17 11:30:22 - src.train - INFO     [train.py:133] elapsed training time: 0.007 min\n",
      "2022-04-17 11:30:22 - src.train - INFO     [train.py:62] fold=1/33\n",
      "2022-04-17 11:30:22 - src.train - INFO     [train.py:63] reading cv index from data/cv_index/cv-model-test/carbonate/fold_0.csv\n"
     ]
    },
    {
     "name": "stdout",
     "output_type": "stream",
     "text": [
      "[60]\ttrain's multi_logloss: 0.0166485\tvalid's multi_logloss: 0.186411\n",
      "[80]\ttrain's multi_logloss: 0.00813988\tvalid's multi_logloss: 0.187645\n",
      "Early stopping, best iteration is:\n",
      "[63]\ttrain's multi_logloss: 0.0145897\tvalid's multi_logloss: 0.183141\n",
      "70\n"
     ]
    },
    {
     "name": "stderr",
     "output_type": "stream",
     "text": [
      "2022-04-17 11:30:23 - src.train - INFO     [train.py:28] elapsed training time: 0.006 min\n",
      "2022-04-17 11:30:23 - src.train - INFO     [train.py:62] fold=2/33\n",
      "2022-04-17 11:30:23 - src.train - INFO     [train.py:63] reading cv index from data/cv_index/cv-model-test/carbonate/fold_1.csv\n",
      "2022-04-17 11:30:23 - src.train - INFO     [train.py:28] elapsed training time: 0.006 min\n",
      "2022-04-17 11:30:23 - src.train - INFO     [train.py:62] fold=3/33\n",
      "2022-04-17 11:30:23 - src.train - INFO     [train.py:63] reading cv index from data/cv_index/cv-model-test/carbonate/fold_10.csv\n",
      "2022-04-17 11:30:24 - src.train - INFO     [train.py:28] elapsed training time: 0.005 min\n",
      "2022-04-17 11:30:24 - src.train - INFO     [train.py:62] fold=4/33\n",
      "2022-04-17 11:30:24 - src.train - INFO     [train.py:63] reading cv index from data/cv_index/cv-model-test/carbonate/fold_11.csv\n",
      "2022-04-17 11:30:24 - src.train - INFO     [train.py:28] elapsed training time: 0.005 min\n",
      "2022-04-17 11:30:24 - src.train - INFO     [train.py:62] fold=5/33\n",
      "2022-04-17 11:30:24 - src.train - INFO     [train.py:63] reading cv index from data/cv_index/cv-model-test/carbonate/fold_12.csv\n",
      "2022-04-17 11:30:25 - src.train - INFO     [train.py:28] elapsed training time: 0.005 min\n",
      "2022-04-17 11:30:25 - src.train - INFO     [train.py:62] fold=6/33\n",
      "2022-04-17 11:30:25 - src.train - INFO     [train.py:63] reading cv index from data/cv_index/cv-model-test/carbonate/fold_13.csv\n",
      "2022-04-17 11:30:25 - src.train - INFO     [train.py:28] elapsed training time: 0.005 min\n",
      "2022-04-17 11:30:25 - src.train - INFO     [train.py:62] fold=7/33\n",
      "2022-04-17 11:30:25 - src.train - INFO     [train.py:63] reading cv index from data/cv_index/cv-model-test/carbonate/fold_14.csv\n",
      "2022-04-17 11:30:25 - src.train - INFO     [train.py:28] elapsed training time: 0.005 min\n",
      "2022-04-17 11:30:25 - src.train - INFO     [train.py:62] fold=8/33\n",
      "2022-04-17 11:30:25 - src.train - INFO     [train.py:63] reading cv index from data/cv_index/cv-model-test/carbonate/fold_15.csv\n",
      "2022-04-17 11:30:26 - src.train - INFO     [train.py:28] elapsed training time: 0.005 min\n",
      "2022-04-17 11:30:26 - src.train - INFO     [train.py:62] fold=9/33\n",
      "2022-04-17 11:30:26 - src.train - INFO     [train.py:63] reading cv index from data/cv_index/cv-model-test/carbonate/fold_16.csv\n",
      "2022-04-17 11:30:26 - src.train - INFO     [train.py:28] elapsed training time: 0.008 min\n",
      "2022-04-17 11:30:26 - src.train - INFO     [train.py:62] fold=10/33\n",
      "2022-04-17 11:30:26 - src.train - INFO     [train.py:63] reading cv index from data/cv_index/cv-model-test/carbonate/fold_17.csv\n",
      "2022-04-17 11:30:27 - src.train - INFO     [train.py:28] elapsed training time: 0.005 min\n",
      "2022-04-17 11:30:27 - src.train - INFO     [train.py:62] fold=11/33\n",
      "2022-04-17 11:30:27 - src.train - INFO     [train.py:63] reading cv index from data/cv_index/cv-model-test/carbonate/fold_18.csv\n",
      "2022-04-17 11:30:27 - src.train - INFO     [train.py:28] elapsed training time: 0.005 min\n",
      "2022-04-17 11:30:27 - src.train - INFO     [train.py:62] fold=12/33\n",
      "2022-04-17 11:30:27 - src.train - INFO     [train.py:63] reading cv index from data/cv_index/cv-model-test/carbonate/fold_19.csv\n",
      "2022-04-17 11:30:28 - src.train - INFO     [train.py:28] elapsed training time: 0.006 min\n",
      "2022-04-17 11:30:28 - src.train - INFO     [train.py:62] fold=13/33\n",
      "2022-04-17 11:30:28 - src.train - INFO     [train.py:63] reading cv index from data/cv_index/cv-model-test/carbonate/fold_2.csv\n",
      "2022-04-17 11:30:28 - src.train - INFO     [train.py:28] elapsed training time: 0.005 min\n",
      "2022-04-17 11:30:28 - src.train - INFO     [train.py:62] fold=14/33\n",
      "2022-04-17 11:30:28 - src.train - INFO     [train.py:63] reading cv index from data/cv_index/cv-model-test/carbonate/fold_20.csv\n",
      "2022-04-17 11:30:29 - src.train - INFO     [train.py:28] elapsed training time: 0.005 min\n",
      "2022-04-17 11:30:29 - src.train - INFO     [train.py:62] fold=15/33\n",
      "2022-04-17 11:30:29 - src.train - INFO     [train.py:63] reading cv index from data/cv_index/cv-model-test/carbonate/fold_21.csv\n",
      "2022-04-17 11:30:29 - src.train - INFO     [train.py:28] elapsed training time: 0.005 min\n",
      "2022-04-17 11:30:29 - src.train - INFO     [train.py:62] fold=16/33\n",
      "2022-04-17 11:30:29 - src.train - INFO     [train.py:63] reading cv index from data/cv_index/cv-model-test/carbonate/fold_22.csv\n",
      "2022-04-17 11:30:29 - src.train - INFO     [train.py:28] elapsed training time: 0.005 min\n",
      "2022-04-17 11:30:29 - src.train - INFO     [train.py:62] fold=17/33\n",
      "2022-04-17 11:30:29 - src.train - INFO     [train.py:63] reading cv index from data/cv_index/cv-model-test/carbonate/fold_23.csv\n",
      "2022-04-17 11:30:30 - src.train - INFO     [train.py:28] elapsed training time: 0.005 min\n",
      "2022-04-17 11:30:30 - src.train - INFO     [train.py:62] fold=18/33\n",
      "2022-04-17 11:30:30 - src.train - INFO     [train.py:63] reading cv index from data/cv_index/cv-model-test/carbonate/fold_24.csv\n",
      "2022-04-17 11:30:30 - src.train - INFO     [train.py:28] elapsed training time: 0.006 min\n",
      "2022-04-17 11:30:30 - src.train - INFO     [train.py:62] fold=19/33\n",
      "2022-04-17 11:30:30 - src.train - INFO     [train.py:63] reading cv index from data/cv_index/cv-model-test/carbonate/fold_25.csv\n",
      "2022-04-17 11:30:31 - src.train - INFO     [train.py:28] elapsed training time: 0.005 min\n",
      "2022-04-17 11:30:31 - src.train - INFO     [train.py:62] fold=20/33\n",
      "2022-04-17 11:30:31 - src.train - INFO     [train.py:63] reading cv index from data/cv_index/cv-model-test/carbonate/fold_26.csv\n",
      "2022-04-17 11:30:31 - src.train - INFO     [train.py:28] elapsed training time: 0.005 min\n",
      "2022-04-17 11:30:31 - src.train - INFO     [train.py:62] fold=21/33\n",
      "2022-04-17 11:30:31 - src.train - INFO     [train.py:63] reading cv index from data/cv_index/cv-model-test/carbonate/fold_27.csv\n",
      "2022-04-17 11:30:32 - src.train - INFO     [train.py:28] elapsed training time: 0.006 min\n",
      "2022-04-17 11:30:32 - src.train - INFO     [train.py:62] fold=22/33\n",
      "2022-04-17 11:30:32 - src.train - INFO     [train.py:63] reading cv index from data/cv_index/cv-model-test/carbonate/fold_28.csv\n",
      "2022-04-17 11:30:32 - src.train - INFO     [train.py:28] elapsed training time: 0.006 min\n",
      "2022-04-17 11:30:32 - src.train - INFO     [train.py:62] fold=23/33\n",
      "2022-04-17 11:30:32 - src.train - INFO     [train.py:63] reading cv index from data/cv_index/cv-model-test/carbonate/fold_29.csv\n",
      "2022-04-17 11:30:33 - src.train - INFO     [train.py:28] elapsed training time: 0.010 min\n",
      "2022-04-17 11:30:33 - src.train - INFO     [train.py:62] fold=24/33\n",
      "2022-04-17 11:30:33 - src.train - INFO     [train.py:63] reading cv index from data/cv_index/cv-model-test/carbonate/fold_3.csv\n",
      "2022-04-17 11:30:34 - src.train - INFO     [train.py:28] elapsed training time: 0.011 min\n",
      "2022-04-17 11:30:34 - src.train - INFO     [train.py:62] fold=25/33\n",
      "2022-04-17 11:30:34 - src.train - INFO     [train.py:63] reading cv index from data/cv_index/cv-model-test/carbonate/fold_30.csv\n",
      "2022-04-17 11:30:34 - src.train - INFO     [train.py:28] elapsed training time: 0.007 min\n",
      "2022-04-17 11:30:34 - src.train - INFO     [train.py:62] fold=26/33\n",
      "2022-04-17 11:30:34 - src.train - INFO     [train.py:63] reading cv index from data/cv_index/cv-model-test/carbonate/fold_31.csv\n",
      "2022-04-17 11:30:35 - src.train - INFO     [train.py:28] elapsed training time: 0.010 min\n",
      "2022-04-17 11:30:35 - src.train - INFO     [train.py:62] fold=27/33\n",
      "2022-04-17 11:30:35 - src.train - INFO     [train.py:63] reading cv index from data/cv_index/cv-model-test/carbonate/fold_32.csv\n",
      "2022-04-17 11:30:36 - src.train - INFO     [train.py:28] elapsed training time: 0.011 min\n",
      "2022-04-17 11:30:36 - src.train - INFO     [train.py:62] fold=28/33\n",
      "2022-04-17 11:30:36 - src.train - INFO     [train.py:63] reading cv index from data/cv_index/cv-model-test/carbonate/fold_4.csv\n",
      "2022-04-17 11:30:36 - src.train - INFO     [train.py:28] elapsed training time: 0.009 min\n",
      "2022-04-17 11:30:36 - src.train - INFO     [train.py:62] fold=29/33\n",
      "2022-04-17 11:30:36 - src.train - INFO     [train.py:63] reading cv index from data/cv_index/cv-model-test/carbonate/fold_5.csv\n",
      "2022-04-17 11:30:37 - src.train - INFO     [train.py:28] elapsed training time: 0.009 min\n",
      "2022-04-17 11:30:37 - src.train - INFO     [train.py:62] fold=30/33\n",
      "2022-04-17 11:30:37 - src.train - INFO     [train.py:63] reading cv index from data/cv_index/cv-model-test/carbonate/fold_6.csv\n"
     ]
    },
    {
     "name": "stderr",
     "output_type": "stream",
     "text": [
      "2022-04-17 11:30:38 - src.train - INFO     [train.py:28] elapsed training time: 0.007 min\n",
      "2022-04-17 11:30:38 - src.train - INFO     [train.py:62] fold=31/33\n",
      "2022-04-17 11:30:38 - src.train - INFO     [train.py:63] reading cv index from data/cv_index/cv-model-test/carbonate/fold_7.csv\n",
      "2022-04-17 11:30:38 - src.train - INFO     [train.py:28] elapsed training time: 0.008 min\n",
      "2022-04-17 11:30:38 - src.train - INFO     [train.py:62] fold=32/33\n",
      "2022-04-17 11:30:38 - src.train - INFO     [train.py:63] reading cv index from data/cv_index/cv-model-test/carbonate/fold_8.csv\n",
      "2022-04-17 11:30:39 - src.train - INFO     [train.py:28] elapsed training time: 0.005 min\n",
      "2022-04-17 11:30:39 - src.train - INFO     [train.py:62] fold=33/33\n",
      "2022-04-17 11:30:39 - src.train - INFO     [train.py:63] reading cv index from data/cv_index/cv-model-test/carbonate/fold_9.csv\n",
      "2022-04-17 11:30:39 - src.train - INFO     [train.py:28] elapsed training time: 0.007 min\n",
      "2022-04-17 11:30:39 - src.train - INFO     [train.py:62] fold=1/33\n",
      "2022-04-17 11:30:39 - src.train - INFO     [train.py:63] reading cv index from data/cv_index/cv-model-test/chloride/fold_0.csv\n"
     ]
    },
    {
     "name": "stdout",
     "output_type": "stream",
     "text": [
      "Training until validation scores don't improve for 20 rounds\n",
      "[20]\ttrain's multi_logloss: 0.256509\tvalid's multi_logloss: 0.485673\n",
      "[40]\ttrain's multi_logloss: 0.065203\tvalid's multi_logloss: 0.3443\n",
      "[60]\ttrain's multi_logloss: 0.0222403\tvalid's multi_logloss: 0.32035\n"
     ]
    },
    {
     "name": "stderr",
     "output_type": "stream",
     "text": [
      "2022-04-17 11:30:56 - src.train - INFO     [train.py:133] elapsed training time: 0.276 min\n",
      "2022-04-17 11:30:56 - src.train - INFO     [train.py:62] fold=2/33\n",
      "2022-04-17 11:30:56 - src.train - INFO     [train.py:63] reading cv index from data/cv_index/cv-model-test/chloride/fold_1.csv\n"
     ]
    },
    {
     "name": "stdout",
     "output_type": "stream",
     "text": [
      "Early stopping, best iteration is:\n",
      "[58]\ttrain's multi_logloss: 0.0243936\tvalid's multi_logloss: 0.319182\n",
      "Training until validation scores don't improve for 20 rounds\n",
      "[20]\ttrain's multi_logloss: 0.256825\tvalid's multi_logloss: 0.465243\n",
      "[40]\ttrain's multi_logloss: 0.0646017\tvalid's multi_logloss: 0.314032\n",
      "[60]\ttrain's multi_logloss: 0.0216421\tvalid's multi_logloss: 0.294849\n"
     ]
    },
    {
     "name": "stderr",
     "output_type": "stream",
     "text": [
      "2022-04-17 11:31:05 - src.train - INFO     [train.py:133] elapsed training time: 0.144 min\n",
      "2022-04-17 11:31:05 - src.train - INFO     [train.py:62] fold=3/33\n",
      "2022-04-17 11:31:05 - src.train - INFO     [train.py:63] reading cv index from data/cv_index/cv-model-test/chloride/fold_10.csv\n"
     ]
    },
    {
     "name": "stdout",
     "output_type": "stream",
     "text": [
      "[80]\ttrain's multi_logloss: 0.0104991\tvalid's multi_logloss: 0.299814\n",
      "Early stopping, best iteration is:\n",
      "[60]\ttrain's multi_logloss: 0.0216421\tvalid's multi_logloss: 0.294849\n",
      "Training until validation scores don't improve for 20 rounds\n",
      "[20]\ttrain's multi_logloss: 0.254542\tvalid's multi_logloss: 0.459852\n",
      "[40]\ttrain's multi_logloss: 0.0650001\tvalid's multi_logloss: 0.293026\n",
      "[60]\ttrain's multi_logloss: 0.0220147\tvalid's multi_logloss: 0.26295\n",
      "[80]\ttrain's multi_logloss: 0.0107997\tvalid's multi_logloss: 0.257585\n"
     ]
    },
    {
     "name": "stderr",
     "output_type": "stream",
     "text": [
      "2022-04-17 11:31:12 - src.train - INFO     [train.py:133] elapsed training time: 0.127 min\n",
      "2022-04-17 11:31:12 - src.train - INFO     [train.py:62] fold=4/33\n",
      "2022-04-17 11:31:12 - src.train - INFO     [train.py:63] reading cv index from data/cv_index/cv-model-test/chloride/fold_11.csv\n"
     ]
    },
    {
     "name": "stdout",
     "output_type": "stream",
     "text": [
      "Early stopping, best iteration is:\n",
      "[68]\ttrain's multi_logloss: 0.0159454\tvalid's multi_logloss: 0.255977\n",
      "Training until validation scores don't improve for 20 rounds\n",
      "[20]\ttrain's multi_logloss: 0.25794\tvalid's multi_logloss: 0.457725\n",
      "[40]\ttrain's multi_logloss: 0.0662901\tvalid's multi_logloss: 0.289231\n",
      "[60]\ttrain's multi_logloss: 0.022511\tvalid's multi_logloss: 0.239044\n",
      "[80]\ttrain's multi_logloss: 0.0108299\tvalid's multi_logloss: 0.217033\n"
     ]
    },
    {
     "name": "stderr",
     "output_type": "stream",
     "text": [
      "2022-04-17 11:31:22 - src.train - INFO     [train.py:133] elapsed training time: 0.153 min\n",
      "2022-04-17 11:31:22 - src.train - INFO     [train.py:62] fold=5/33\n",
      "2022-04-17 11:31:22 - src.train - INFO     [train.py:63] reading cv index from data/cv_index/cv-model-test/chloride/fold_12.csv\n"
     ]
    },
    {
     "name": "stdout",
     "output_type": "stream",
     "text": [
      "[100]\ttrain's multi_logloss: 0.00709238\tvalid's multi_logloss: 0.216855\n",
      "Early stopping, best iteration is:\n",
      "[82]\ttrain's multi_logloss: 0.0103013\tvalid's multi_logloss: 0.215887\n",
      "Training until validation scores don't improve for 20 rounds\n",
      "[20]\ttrain's multi_logloss: 0.260692\tvalid's multi_logloss: 0.412354\n",
      "[40]\ttrain's multi_logloss: 0.0665673\tvalid's multi_logloss: 0.252128\n"
     ]
    },
    {
     "name": "stderr",
     "output_type": "stream",
     "text": [
      "2022-04-17 11:31:22 - src.train - INFO     [train.py:133] elapsed training time: 0.008 min\n",
      "2022-04-17 11:31:22 - src.train - INFO     [train.py:62] fold=6/33\n",
      "2022-04-17 11:31:22 - src.train - INFO     [train.py:63] reading cv index from data/cv_index/cv-model-test/chloride/fold_13.csv\n"
     ]
    },
    {
     "name": "stdout",
     "output_type": "stream",
     "text": [
      "[60]\ttrain's multi_logloss: 0.0222458\tvalid's multi_logloss: 0.240865\n",
      "[80]\ttrain's multi_logloss: 0.0107804\tvalid's multi_logloss: 0.245437\n",
      "Early stopping, best iteration is:\n",
      "[65]\ttrain's multi_logloss: 0.0179907\tvalid's multi_logloss: 0.23706\n",
      "Training until validation scores don't improve for 20 rounds\n",
      "[20]\ttrain's multi_logloss: 0.255981\tvalid's multi_logloss: 0.476185\n",
      "[40]\ttrain's multi_logloss: 0.064943\tvalid's multi_logloss: 0.354053\n"
     ]
    },
    {
     "name": "stderr",
     "output_type": "stream",
     "text": [
      "2022-04-17 11:31:23 - src.train - INFO     [train.py:133] elapsed training time: 0.008 min\n",
      "2022-04-17 11:31:23 - src.train - INFO     [train.py:62] fold=7/33\n",
      "2022-04-17 11:31:23 - src.train - INFO     [train.py:63] reading cv index from data/cv_index/cv-model-test/chloride/fold_14.csv\n"
     ]
    },
    {
     "name": "stdout",
     "output_type": "stream",
     "text": [
      "[60]\ttrain's multi_logloss: 0.0216126\tvalid's multi_logloss: 0.333627\n",
      "[80]\ttrain's multi_logloss: 0.010373\tvalid's multi_logloss: 0.341606\n",
      "Early stopping, best iteration is:\n",
      "[66]\ttrain's multi_logloss: 0.0167497\tvalid's multi_logloss: 0.329994\n",
      "Training until validation scores don't improve for 20 rounds\n",
      "[20]\ttrain's multi_logloss: 0.255809\tvalid's multi_logloss: 0.479694\n"
     ]
    },
    {
     "name": "stderr",
     "output_type": "stream",
     "text": [
      "2022-04-17 11:31:24 - src.train - INFO     [train.py:133] elapsed training time: 0.009 min\n",
      "2022-04-17 11:31:24 - src.train - INFO     [train.py:62] fold=8/33\n",
      "2022-04-17 11:31:24 - src.train - INFO     [train.py:63] reading cv index from data/cv_index/cv-model-test/chloride/fold_15.csv\n"
     ]
    },
    {
     "name": "stdout",
     "output_type": "stream",
     "text": [
      "[40]\ttrain's multi_logloss: 0.0652873\tvalid's multi_logloss: 0.356244\n",
      "[60]\ttrain's multi_logloss: 0.021681\tvalid's multi_logloss: 0.329501\n",
      "[80]\ttrain's multi_logloss: 0.0105046\tvalid's multi_logloss: 0.344293\n",
      "Early stopping, best iteration is:\n",
      "[60]\ttrain's multi_logloss: 0.021681\tvalid's multi_logloss: 0.329501\n",
      "Training until validation scores don't improve for 20 rounds\n",
      "[20]\ttrain's multi_logloss: 0.257688\tvalid's multi_logloss: 0.405313\n",
      "[40]\ttrain's multi_logloss: 0.0672131\tvalid's multi_logloss: 0.243876\n"
     ]
    },
    {
     "name": "stderr",
     "output_type": "stream",
     "text": [
      "2022-04-17 11:31:24 - src.train - INFO     [train.py:133] elapsed training time: 0.009 min\n",
      "2022-04-17 11:31:24 - src.train - INFO     [train.py:62] fold=9/33\n",
      "2022-04-17 11:31:24 - src.train - INFO     [train.py:63] reading cv index from data/cv_index/cv-model-test/chloride/fold_16.csv\n"
     ]
    },
    {
     "name": "stdout",
     "output_type": "stream",
     "text": [
      "[60]\ttrain's multi_logloss: 0.0227338\tvalid's multi_logloss: 0.214867\n",
      "[80]\ttrain's multi_logloss: 0.0110454\tvalid's multi_logloss: 0.20017\n",
      "[100]\ttrain's multi_logloss: 0.00722768\tvalid's multi_logloss: 0.19491\n",
      "Early stopping, best iteration is:\n",
      "[96]\ttrain's multi_logloss: 0.00773777\tvalid's multi_logloss: 0.194631\n",
      "Training until validation scores don't improve for 20 rounds\n",
      "[20]\ttrain's multi_logloss: 0.255161\tvalid's multi_logloss: 0.444841\n",
      "[40]\ttrain's multi_logloss: 0.0658605\tvalid's multi_logloss: 0.291311\n"
     ]
    },
    {
     "name": "stderr",
     "output_type": "stream",
     "text": [
      "2022-04-17 11:31:25 - src.train - INFO     [train.py:133] elapsed training time: 0.008 min\n",
      "2022-04-17 11:31:25 - src.train - INFO     [train.py:62] fold=10/33\n",
      "2022-04-17 11:31:25 - src.train - INFO     [train.py:63] reading cv index from data/cv_index/cv-model-test/chloride/fold_17.csv\n"
     ]
    },
    {
     "name": "stdout",
     "output_type": "stream",
     "text": [
      "[60]\ttrain's multi_logloss: 0.0226177\tvalid's multi_logloss: 0.261268\n",
      "[80]\ttrain's multi_logloss: 0.0109233\tvalid's multi_logloss: 0.24753\n",
      "Early stopping, best iteration is:\n",
      "[76]\ttrain's multi_logloss: 0.0122546\tvalid's multi_logloss: 0.245159\n",
      "Training until validation scores don't improve for 20 rounds\n",
      "[20]\ttrain's multi_logloss: 0.257622\tvalid's multi_logloss: 0.476364\n",
      "[40]\ttrain's multi_logloss: 0.0662695\tvalid's multi_logloss: 0.341765\n"
     ]
    },
    {
     "name": "stderr",
     "output_type": "stream",
     "text": [
      "2022-04-17 11:31:25 - src.train - INFO     [train.py:133] elapsed training time: 0.008 min\n",
      "2022-04-17 11:31:25 - src.train - INFO     [train.py:62] fold=11/33\n",
      "2022-04-17 11:31:25 - src.train - INFO     [train.py:63] reading cv index from data/cv_index/cv-model-test/chloride/fold_18.csv\n"
     ]
    },
    {
     "name": "stdout",
     "output_type": "stream",
     "text": [
      "[60]\ttrain's multi_logloss: 0.0221073\tvalid's multi_logloss: 0.331234\n",
      "[80]\ttrain's multi_logloss: 0.0107351\tvalid's multi_logloss: 0.341622\n",
      "Early stopping, best iteration is:\n",
      "[64]\ttrain's multi_logloss: 0.0184837\tvalid's multi_logloss: 0.328161\n",
      "Training until validation scores don't improve for 20 rounds\n",
      "[20]\ttrain's multi_logloss: 0.250658\tvalid's multi_logloss: 0.549109\n",
      "[40]\ttrain's multi_logloss: 0.0624009\tvalid's multi_logloss: 0.385722\n"
     ]
    },
    {
     "name": "stderr",
     "output_type": "stream",
     "text": [
      "2022-04-17 11:31:26 - src.train - INFO     [train.py:133] elapsed training time: 0.009 min\n",
      "2022-04-17 11:31:26 - src.train - INFO     [train.py:62] fold=12/33\n",
      "2022-04-17 11:31:26 - src.train - INFO     [train.py:63] reading cv index from data/cv_index/cv-model-test/chloride/fold_19.csv\n"
     ]
    },
    {
     "name": "stdout",
     "output_type": "stream",
     "text": [
      "[60]\ttrain's multi_logloss: 0.0211574\tvalid's multi_logloss: 0.359781\n",
      "[80]\ttrain's multi_logloss: 0.0103125\tvalid's multi_logloss: 0.349679\n",
      "[100]\ttrain's multi_logloss: 0.00688823\tvalid's multi_logloss: 0.339863\n",
      "Early stopping, best iteration is:\n",
      "[96]\ttrain's multi_logloss: 0.00728526\tvalid's multi_logloss: 0.339505\n",
      "Training until validation scores don't improve for 20 rounds\n",
      "[20]\ttrain's multi_logloss: 0.245908\tvalid's multi_logloss: 0.586928\n"
     ]
    },
    {
     "name": "stderr",
     "output_type": "stream",
     "text": [
      "2022-04-17 11:31:27 - src.train - INFO     [train.py:133] elapsed training time: 0.010 min\n",
      "2022-04-17 11:31:27 - src.train - INFO     [train.py:62] fold=13/33\n",
      "2022-04-17 11:31:27 - src.train - INFO     [train.py:63] reading cv index from data/cv_index/cv-model-test/chloride/fold_2.csv\n"
     ]
    },
    {
     "name": "stdout",
     "output_type": "stream",
     "text": [
      "[40]\ttrain's multi_logloss: 0.0621398\tvalid's multi_logloss: 0.50731\n",
      "[60]\ttrain's multi_logloss: 0.0210972\tvalid's multi_logloss: 0.508522\n",
      "Early stopping, best iteration is:\n",
      "[44]\ttrain's multi_logloss: 0.0486923\tvalid's multi_logloss: 0.505441\n",
      "Training until validation scores don't improve for 20 rounds\n",
      "[20]\ttrain's multi_logloss: 0.257905\tvalid's multi_logloss: 0.530623\n",
      "[40]\ttrain's multi_logloss: 0.0659909\tvalid's multi_logloss: 0.414124\n"
     ]
    },
    {
     "name": "stderr",
     "output_type": "stream",
     "text": [
      "2022-04-17 11:31:27 - src.train - INFO     [train.py:133] elapsed training time: 0.008 min\n",
      "2022-04-17 11:31:27 - src.train - INFO     [train.py:62] fold=14/33\n",
      "2022-04-17 11:31:27 - src.train - INFO     [train.py:63] reading cv index from data/cv_index/cv-model-test/chloride/fold_20.csv\n"
     ]
    },
    {
     "name": "stdout",
     "output_type": "stream",
     "text": [
      "[60]\ttrain's multi_logloss: 0.0223821\tvalid's multi_logloss: 0.391788\n",
      "[80]\ttrain's multi_logloss: 0.0107854\tvalid's multi_logloss: 0.395225\n",
      "Early stopping, best iteration is:\n",
      "[63]\ttrain's multi_logloss: 0.0197458\tvalid's multi_logloss: 0.385295\n",
      "Training until validation scores don't improve for 20 rounds\n",
      "[20]\ttrain's multi_logloss: 0.252049\tvalid's multi_logloss: 0.450029\n",
      "[40]\ttrain's multi_logloss: 0.064436\tvalid's multi_logloss: 0.297849\n"
     ]
    },
    {
     "name": "stderr",
     "output_type": "stream",
     "text": [
      "2022-04-17 11:31:28 - src.train - INFO     [train.py:133] elapsed training time: 0.007 min\n",
      "2022-04-17 11:31:28 - src.train - INFO     [train.py:62] fold=15/33\n",
      "2022-04-17 11:31:28 - src.train - INFO     [train.py:63] reading cv index from data/cv_index/cv-model-test/chloride/fold_21.csv\n"
     ]
    },
    {
     "name": "stdout",
     "output_type": "stream",
     "text": [
      "[60]\ttrain's multi_logloss: 0.0216614\tvalid's multi_logloss: 0.292582\n",
      "Early stopping, best iteration is:\n",
      "[53]\ttrain's multi_logloss: 0.0305813\tvalid's multi_logloss: 0.288884\n",
      "Training until validation scores don't improve for 20 rounds\n",
      "[20]\ttrain's multi_logloss: 0.247296\tvalid's multi_logloss: 0.510884\n",
      "[40]\ttrain's multi_logloss: 0.0650304\tvalid's multi_logloss: 0.364041\n"
     ]
    },
    {
     "name": "stderr",
     "output_type": "stream",
     "text": [
      "2022-04-17 11:31:29 - src.train - INFO     [train.py:133] elapsed training time: 0.008 min\n",
      "2022-04-17 11:31:29 - src.train - INFO     [train.py:62] fold=16/33\n",
      "2022-04-17 11:31:29 - src.train - INFO     [train.py:63] reading cv index from data/cv_index/cv-model-test/chloride/fold_22.csv\n"
     ]
    },
    {
     "name": "stdout",
     "output_type": "stream",
     "text": [
      "[60]\ttrain's multi_logloss: 0.0221046\tvalid's multi_logloss: 0.327065\n",
      "Early stopping, best iteration is:\n",
      "[59]\ttrain's multi_logloss: 0.023153\tvalid's multi_logloss: 0.325643\n",
      "Training until validation scores don't improve for 20 rounds\n",
      "[20]\ttrain's multi_logloss: 0.248759\tvalid's multi_logloss: 0.467157\n",
      "[40]\ttrain's multi_logloss: 0.0631392\tvalid's multi_logloss: 0.347596\n"
     ]
    },
    {
     "name": "stderr",
     "output_type": "stream",
     "text": [
      "2022-04-17 11:31:29 - src.train - INFO     [train.py:133] elapsed training time: 0.007 min\n",
      "2022-04-17 11:31:29 - src.train - INFO     [train.py:62] fold=17/33\n",
      "2022-04-17 11:31:29 - src.train - INFO     [train.py:63] reading cv index from data/cv_index/cv-model-test/chloride/fold_23.csv\n"
     ]
    },
    {
     "name": "stdout",
     "output_type": "stream",
     "text": [
      "[60]\ttrain's multi_logloss: 0.021454\tvalid's multi_logloss: 0.329504\n",
      "Early stopping, best iteration is:\n",
      "[50]\ttrain's multi_logloss: 0.0353822\tvalid's multi_logloss: 0.32103\n",
      "Training until validation scores don't improve for 20 rounds\n",
      "[20]\ttrain's multi_logloss: 0.251948\tvalid's multi_logloss: 0.510136\n",
      "[40]\ttrain's multi_logloss: 0.0623916\tvalid's multi_logloss: 0.379354\n"
     ]
    },
    {
     "name": "stderr",
     "output_type": "stream",
     "text": [
      "2022-04-17 11:31:30 - src.train - INFO     [train.py:133] elapsed training time: 0.008 min\n",
      "2022-04-17 11:31:30 - src.train - INFO     [train.py:62] fold=18/33\n",
      "2022-04-17 11:31:30 - src.train - INFO     [train.py:63] reading cv index from data/cv_index/cv-model-test/chloride/fold_24.csv\n"
     ]
    },
    {
     "name": "stdout",
     "output_type": "stream",
     "text": [
      "[60]\ttrain's multi_logloss: 0.0210391\tvalid's multi_logloss: 0.364468\n",
      "[80]\ttrain's multi_logloss: 0.0101041\tvalid's multi_logloss: 0.375061\n",
      "Early stopping, best iteration is:\n",
      "[63]\ttrain's multi_logloss: 0.0184775\tvalid's multi_logloss: 0.362586\n",
      "Training until validation scores don't improve for 20 rounds\n",
      "[20]\ttrain's multi_logloss: 0.256123\tvalid's multi_logloss: 0.473946\n",
      "[40]\ttrain's multi_logloss: 0.0656595\tvalid's multi_logloss: 0.335869\n",
      "[60]\ttrain's multi_logloss: 0.0222165\tvalid's multi_logloss: 0.311047\n",
      "[80]\ttrain's multi_logloss: 0.0107114\tvalid's multi_logloss: 0.305591\n",
      "[100]\ttrain's multi_logloss: 0.00701816\tvalid's multi_logloss: 0.303241\n",
      "[120]\ttrain's multi_logloss: 0.00582843\tvalid's multi_logloss: 0.301538\n",
      "[140]\ttrain's multi_logloss: 0.00539633\tvalid's multi_logloss: 0.300174\n",
      "[160]\ttrain's multi_logloss: 0.00521594\tvalid's multi_logloss: 0.299171\n",
      "[180]\ttrain's multi_logloss: 0.00514915\tvalid's multi_logloss: 0.299554\n",
      "Early stopping, best iteration is:\n",
      "[162]\ttrain's multi_logloss: 0.00521698\tvalid's multi_logloss: 0.299118\n"
     ]
    },
    {
     "name": "stderr",
     "output_type": "stream",
     "text": [
      "2022-04-17 11:31:30 - src.train - INFO     [train.py:133] elapsed training time: 0.010 min\n",
      "2022-04-17 11:31:30 - src.train - INFO     [train.py:62] fold=19/33\n",
      "2022-04-17 11:31:30 - src.train - INFO     [train.py:63] reading cv index from data/cv_index/cv-model-test/chloride/fold_25.csv\n"
     ]
    },
    {
     "name": "stdout",
     "output_type": "stream",
     "text": [
      "Training until validation scores don't improve for 20 rounds\n",
      "[20]\ttrain's multi_logloss: 0.255145\tvalid's multi_logloss: 0.465623\n",
      "[40]\ttrain's multi_logloss: 0.0646063\tvalid's multi_logloss: 0.330193\n"
     ]
    },
    {
     "name": "stderr",
     "output_type": "stream",
     "text": [
      "2022-04-17 11:31:31 - src.train - INFO     [train.py:133] elapsed training time: 0.008 min\n",
      "2022-04-17 11:31:31 - src.train - INFO     [train.py:62] fold=20/33\n",
      "2022-04-17 11:31:31 - src.train - INFO     [train.py:63] reading cv index from data/cv_index/cv-model-test/chloride/fold_26.csv\n"
     ]
    },
    {
     "name": "stdout",
     "output_type": "stream",
     "text": [
      "[60]\ttrain's multi_logloss: 0.0215124\tvalid's multi_logloss: 0.294327\n",
      "[80]\ttrain's multi_logloss: 0.0104228\tvalid's multi_logloss: 0.297043\n",
      "Early stopping, best iteration is:\n",
      "[65]\ttrain's multi_logloss: 0.0174438\tvalid's multi_logloss: 0.290324\n",
      "Training until validation scores don't improve for 20 rounds\n",
      "[20]\ttrain's multi_logloss: 0.251091\tvalid's multi_logloss: 0.468039\n",
      "[40]\ttrain's multi_logloss: 0.0639178\tvalid's multi_logloss: 0.324979\n",
      "[60]\ttrain's multi_logloss: 0.021763\tvalid's multi_logloss: 0.299427\n",
      "[80]\ttrain's multi_logloss: 0.0105367\tvalid's multi_logloss: 0.297129\n"
     ]
    },
    {
     "name": "stderr",
     "output_type": "stream",
     "text": [
      "2022-04-17 11:31:32 - src.train - INFO     [train.py:133] elapsed training time: 0.015 min\n",
      "2022-04-17 11:31:32 - src.train - INFO     [train.py:62] fold=21/33\n",
      "2022-04-17 11:31:32 - src.train - INFO     [train.py:63] reading cv index from data/cv_index/cv-model-test/chloride/fold_27.csv\n"
     ]
    },
    {
     "name": "stdout",
     "output_type": "stream",
     "text": [
      "Early stopping, best iteration is:\n",
      "[77]\ttrain's multi_logloss: 0.0114448\tvalid's multi_logloss: 0.296581\n",
      "Training until validation scores don't improve for 20 rounds\n",
      "[20]\ttrain's multi_logloss: 0.256328\tvalid's multi_logloss: 0.465815\n",
      "[40]\ttrain's multi_logloss: 0.0674084\tvalid's multi_logloss: 0.301\n"
     ]
    },
    {
     "name": "stderr",
     "output_type": "stream",
     "text": [
      "2022-04-17 11:31:32 - src.train - INFO     [train.py:133] elapsed training time: 0.007 min\n",
      "2022-04-17 11:31:32 - src.train - INFO     [train.py:62] fold=22/33\n",
      "2022-04-17 11:31:32 - src.train - INFO     [train.py:63] reading cv index from data/cv_index/cv-model-test/chloride/fold_28.csv\n"
     ]
    },
    {
     "name": "stdout",
     "output_type": "stream",
     "text": [
      "[60]\ttrain's multi_logloss: 0.0228169\tvalid's multi_logloss: 0.261498\n",
      "Early stopping, best iteration is:\n",
      "[59]\ttrain's multi_logloss: 0.0239737\tvalid's multi_logloss: 0.258871\n",
      "Training until validation scores don't improve for 20 rounds\n",
      "[20]\ttrain's multi_logloss: 0.252958\tvalid's multi_logloss: 0.428475\n",
      "[40]\ttrain's multi_logloss: 0.0649927\tvalid's multi_logloss: 0.316233\n"
     ]
    },
    {
     "name": "stderr",
     "output_type": "stream",
     "text": [
      "2022-04-17 11:31:33 - src.train - INFO     [train.py:133] elapsed training time: 0.007 min\n",
      "2022-04-17 11:31:33 - src.train - INFO     [train.py:62] fold=23/33\n",
      "2022-04-17 11:31:33 - src.train - INFO     [train.py:63] reading cv index from data/cv_index/cv-model-test/chloride/fold_29.csv\n"
     ]
    },
    {
     "name": "stdout",
     "output_type": "stream",
     "text": [
      "[60]\ttrain's multi_logloss: 0.0222557\tvalid's multi_logloss: 0.320099\n",
      "Early stopping, best iteration is:\n",
      "[48]\ttrain's multi_logloss: 0.0405479\tvalid's multi_logloss: 0.309988\n",
      "Training until validation scores don't improve for 20 rounds\n",
      "[20]\ttrain's multi_logloss: 0.260736\tvalid's multi_logloss: 0.358527\n",
      "[40]\ttrain's multi_logloss: 0.066613\tvalid's multi_logloss: 0.223662\n"
     ]
    },
    {
     "name": "stderr",
     "output_type": "stream",
     "text": [
      "2022-04-17 11:31:34 - src.train - INFO     [train.py:133] elapsed training time: 0.010 min\n",
      "2022-04-17 11:31:34 - src.train - INFO     [train.py:62] fold=24/33\n",
      "2022-04-17 11:31:34 - src.train - INFO     [train.py:63] reading cv index from data/cv_index/cv-model-test/chloride/fold_3.csv\n"
     ]
    },
    {
     "name": "stdout",
     "output_type": "stream",
     "text": [
      "[60]\ttrain's multi_logloss: 0.02239\tvalid's multi_logloss: 0.192544\n",
      "[80]\ttrain's multi_logloss: 0.0108093\tvalid's multi_logloss: 0.189605\n",
      "Early stopping, best iteration is:\n",
      "[78]\ttrain's multi_logloss: 0.0115009\tvalid's multi_logloss: 0.186307\n",
      "Training until validation scores don't improve for 20 rounds\n",
      "[20]\ttrain's multi_logloss: 0.264502\tvalid's multi_logloss: 0.395619\n",
      "[40]\ttrain's multi_logloss: 0.0684137\tvalid's multi_logloss: 0.231321\n"
     ]
    },
    {
     "name": "stderr",
     "output_type": "stream",
     "text": [
      "2022-04-17 11:31:34 - src.train - INFO     [train.py:133] elapsed training time: 0.008 min\n",
      "2022-04-17 11:31:34 - src.train - INFO     [train.py:62] fold=25/33\n",
      "2022-04-17 11:31:34 - src.train - INFO     [train.py:63] reading cv index from data/cv_index/cv-model-test/chloride/fold_30.csv\n"
     ]
    },
    {
     "name": "stdout",
     "output_type": "stream",
     "text": [
      "[60]\ttrain's multi_logloss: 0.0233528\tvalid's multi_logloss: 0.195645\n",
      "[80]\ttrain's multi_logloss: 0.0113431\tvalid's multi_logloss: 0.192199\n",
      "Early stopping, best iteration is:\n",
      "[70]\ttrain's multi_logloss: 0.0155775\tvalid's multi_logloss: 0.188348\n",
      "Training until validation scores don't improve for 20 rounds\n",
      "[20]\ttrain's multi_logloss: 0.252323\tvalid's multi_logloss: 0.548334\n",
      "[40]\ttrain's multi_logloss: 0.0646108\tvalid's multi_logloss: 0.430284\n"
     ]
    },
    {
     "name": "stderr",
     "output_type": "stream",
     "text": [
      "2022-04-17 11:31:35 - src.train - INFO     [train.py:133] elapsed training time: 0.006 min\n",
      "2022-04-17 11:31:35 - src.train - INFO     [train.py:62] fold=26/33\n",
      "2022-04-17 11:31:35 - src.train - INFO     [train.py:63] reading cv index from data/cv_index/cv-model-test/chloride/fold_31.csv\n"
     ]
    },
    {
     "name": "stdout",
     "output_type": "stream",
     "text": [
      "[60]\ttrain's multi_logloss: 0.0219698\tvalid's multi_logloss: 0.422556\n",
      "Early stopping, best iteration is:\n",
      "[44]\ttrain's multi_logloss: 0.0506964\tvalid's multi_logloss: 0.417222\n",
      "Training until validation scores don't improve for 20 rounds\n",
      "[20]\ttrain's multi_logloss: 0.254956\tvalid's multi_logloss: 0.47997\n",
      "[40]\ttrain's multi_logloss: 0.0671839\tvalid's multi_logloss: 0.320316\n",
      "[60]\ttrain's multi_logloss: 0.0227471\tvalid's multi_logloss: 0.281913\n",
      "[80]\ttrain's multi_logloss: 0.0109867\tvalid's multi_logloss: 0.280643\n"
     ]
    },
    {
     "name": "stderr",
     "output_type": "stream",
     "text": [
      "2022-04-17 11:31:36 - src.train - INFO     [train.py:133] elapsed training time: 0.013 min\n",
      "2022-04-17 11:31:36 - src.train - INFO     [train.py:62] fold=27/33\n",
      "2022-04-17 11:31:36 - src.train - INFO     [train.py:63] reading cv index from data/cv_index/cv-model-test/chloride/fold_32.csv\n"
     ]
    },
    {
     "name": "stdout",
     "output_type": "stream",
     "text": [
      "Early stopping, best iteration is:\n",
      "[74]\ttrain's multi_logloss: 0.0131361\tvalid's multi_logloss: 0.278272\n",
      "Training until validation scores don't improve for 20 rounds\n",
      "[20]\ttrain's multi_logloss: 0.253609\tvalid's multi_logloss: 0.51292\n",
      "[40]\ttrain's multi_logloss: 0.0658604\tvalid's multi_logloss: 0.339323\n"
     ]
    },
    {
     "name": "stderr",
     "output_type": "stream",
     "text": [
      "2022-04-17 11:31:36 - src.train - INFO     [train.py:133] elapsed training time: 0.009 min\n",
      "2022-04-17 11:31:36 - src.train - INFO     [train.py:62] fold=28/33\n",
      "2022-04-17 11:31:36 - src.train - INFO     [train.py:63] reading cv index from data/cv_index/cv-model-test/chloride/fold_4.csv\n"
     ]
    },
    {
     "name": "stdout",
     "output_type": "stream",
     "text": [
      "[60]\ttrain's multi_logloss: 0.0223803\tvalid's multi_logloss: 0.294423\n",
      "[80]\ttrain's multi_logloss: 0.0107902\tvalid's multi_logloss: 0.285614\n",
      "[100]\ttrain's multi_logloss: 0.00708365\tvalid's multi_logloss: 0.287102\n",
      "Early stopping, best iteration is:\n",
      "[94]\ttrain's multi_logloss: 0.0078141\tvalid's multi_logloss: 0.283395\n",
      "Training until validation scores don't improve for 20 rounds\n",
      "[20]\ttrain's multi_logloss: 0.255004\tvalid's multi_logloss: 0.457956\n",
      "[40]\ttrain's multi_logloss: 0.0648391\tvalid's multi_logloss: 0.279626\n"
     ]
    },
    {
     "name": "stderr",
     "output_type": "stream",
     "text": [
      "2022-04-17 11:31:37 - src.train - INFO     [train.py:133] elapsed training time: 0.008 min\n",
      "2022-04-17 11:31:37 - src.train - INFO     [train.py:62] fold=29/33\n",
      "2022-04-17 11:31:37 - src.train - INFO     [train.py:63] reading cv index from data/cv_index/cv-model-test/chloride/fold_5.csv\n"
     ]
    },
    {
     "name": "stdout",
     "output_type": "stream",
     "text": [
      "[60]\ttrain's multi_logloss: 0.0220829\tvalid's multi_logloss: 0.251803\n",
      "[80]\ttrain's multi_logloss: 0.0106375\tvalid's multi_logloss: 0.245043\n",
      "[100]\ttrain's multi_logloss: 0.00681431\tvalid's multi_logloss: 0.241717\n",
      "Early stopping, best iteration is:\n",
      "[94]\ttrain's multi_logloss: 0.00762094\tvalid's multi_logloss: 0.24076\n",
      "Training until validation scores don't improve for 20 rounds\n",
      "[20]\ttrain's multi_logloss: 0.253542\tvalid's multi_logloss: 0.454051\n",
      "[40]\ttrain's multi_logloss: 0.0646051\tvalid's multi_logloss: 0.333374\n"
     ]
    },
    {
     "name": "stderr",
     "output_type": "stream",
     "text": [
      "2022-04-17 11:31:38 - src.train - INFO     [train.py:133] elapsed training time: 0.009 min\n",
      "2022-04-17 11:31:38 - src.train - INFO     [train.py:62] fold=30/33\n",
      "2022-04-17 11:31:38 - src.train - INFO     [train.py:63] reading cv index from data/cv_index/cv-model-test/chloride/fold_6.csv\n"
     ]
    },
    {
     "name": "stdout",
     "output_type": "stream",
     "text": [
      "[60]\ttrain's multi_logloss: 0.0216328\tvalid's multi_logloss: 0.311667\n",
      "[80]\ttrain's multi_logloss: 0.0104259\tvalid's multi_logloss: 0.303556\n",
      "[100]\ttrain's multi_logloss: 0.006896\tvalid's multi_logloss: 0.298851\n",
      "[120]\ttrain's multi_logloss: 0.00568268\tvalid's multi_logloss: 0.302176\n",
      "Early stopping, best iteration is:\n",
      "[103]\ttrain's multi_logloss: 0.00664691\tvalid's multi_logloss: 0.297807\n",
      "Training until validation scores don't improve for 20 rounds\n",
      "[20]\ttrain's multi_logloss: 0.246819\tvalid's multi_logloss: 0.521266\n",
      "[40]\ttrain's multi_logloss: 0.0620755\tvalid's multi_logloss: 0.387487\n"
     ]
    },
    {
     "name": "stderr",
     "output_type": "stream",
     "text": [
      "2022-04-17 11:31:38 - src.train - INFO     [train.py:133] elapsed training time: 0.008 min\n",
      "2022-04-17 11:31:38 - src.train - INFO     [train.py:62] fold=31/33\n",
      "2022-04-17 11:31:38 - src.train - INFO     [train.py:63] reading cv index from data/cv_index/cv-model-test/chloride/fold_7.csv\n"
     ]
    },
    {
     "name": "stdout",
     "output_type": "stream",
     "text": [
      "[60]\ttrain's multi_logloss: 0.0207362\tvalid's multi_logloss: 0.375406\n",
      "Early stopping, best iteration is:\n",
      "[51]\ttrain's multi_logloss: 0.0320549\tvalid's multi_logloss: 0.370941\n",
      "Training until validation scores don't improve for 20 rounds\n",
      "[20]\ttrain's multi_logloss: 0.249291\tvalid's multi_logloss: 0.51238\n",
      "[40]\ttrain's multi_logloss: 0.0630948\tvalid's multi_logloss: 0.404326\n"
     ]
    },
    {
     "name": "stderr",
     "output_type": "stream",
     "text": [
      "2022-04-17 11:31:39 - src.train - INFO     [train.py:133] elapsed training time: 0.008 min\n",
      "2022-04-17 11:31:39 - src.train - INFO     [train.py:62] fold=32/33\n",
      "2022-04-17 11:31:39 - src.train - INFO     [train.py:63] reading cv index from data/cv_index/cv-model-test/chloride/fold_8.csv\n"
     ]
    },
    {
     "name": "stdout",
     "output_type": "stream",
     "text": [
      "[60]\ttrain's multi_logloss: 0.0212603\tvalid's multi_logloss: 0.389743\n",
      "Early stopping, best iteration is:\n",
      "[57]\ttrain's multi_logloss: 0.024598\tvalid's multi_logloss: 0.387606\n",
      "Training until validation scores don't improve for 20 rounds\n",
      "[20]\ttrain's multi_logloss: 0.254579\tvalid's multi_logloss: 0.490236\n",
      "[40]\ttrain's multi_logloss: 0.0654047\tvalid's multi_logloss: 0.398655\n"
     ]
    },
    {
     "name": "stderr",
     "output_type": "stream",
     "text": [
      "2022-04-17 11:31:39 - src.train - INFO     [train.py:133] elapsed training time: 0.007 min\n",
      "2022-04-17 11:31:39 - src.train - INFO     [train.py:62] fold=33/33\n",
      "2022-04-17 11:31:39 - src.train - INFO     [train.py:63] reading cv index from data/cv_index/cv-model-test/chloride/fold_9.csv\n"
     ]
    },
    {
     "name": "stdout",
     "output_type": "stream",
     "text": [
      "[60]\ttrain's multi_logloss: 0.0222811\tvalid's multi_logloss: 0.41271\n",
      "Early stopping, best iteration is:\n",
      "[48]\ttrain's multi_logloss: 0.0406801\tvalid's multi_logloss: 0.392241\n",
      "Training until validation scores don't improve for 20 rounds\n",
      "[20]\ttrain's multi_logloss: 0.256928\tvalid's multi_logloss: 0.392003\n",
      "[40]\ttrain's multi_logloss: 0.0639006\tvalid's multi_logloss: 0.289961\n"
     ]
    },
    {
     "name": "stderr",
     "output_type": "stream",
     "text": [
      "2022-04-17 11:31:40 - src.train - INFO     [train.py:133] elapsed training time: 0.007 min\n",
      "2022-04-17 11:31:40 - src.train - INFO     [train.py:62] fold=1/33\n",
      "2022-04-17 11:31:40 - src.train - INFO     [train.py:63] reading cv index from data/cv_index/cv-model-test/chloride/fold_0.csv\n"
     ]
    },
    {
     "name": "stdout",
     "output_type": "stream",
     "text": [
      "[60]\ttrain's multi_logloss: 0.02142\tvalid's multi_logloss: 0.278175\n",
      "Early stopping, best iteration is:\n",
      "[58]\ttrain's multi_logloss: 0.0236195\tvalid's multi_logloss: 0.276863\n",
      "69\n"
     ]
    },
    {
     "name": "stderr",
     "output_type": "stream",
     "text": [
      "2022-04-17 11:31:40 - src.train - INFO     [train.py:28] elapsed training time: 0.005 min\n",
      "2022-04-17 11:31:40 - src.train - INFO     [train.py:62] fold=2/33\n",
      "2022-04-17 11:31:40 - src.train - INFO     [train.py:63] reading cv index from data/cv_index/cv-model-test/chloride/fold_1.csv\n",
      "2022-04-17 11:31:41 - src.train - INFO     [train.py:28] elapsed training time: 0.007 min\n",
      "2022-04-17 11:31:41 - src.train - INFO     [train.py:62] fold=3/33\n",
      "2022-04-17 11:31:41 - src.train - INFO     [train.py:63] reading cv index from data/cv_index/cv-model-test/chloride/fold_10.csv\n",
      "2022-04-17 11:31:41 - src.train - INFO     [train.py:28] elapsed training time: 0.009 min\n",
      "2022-04-17 11:31:41 - src.train - INFO     [train.py:62] fold=4/33\n",
      "2022-04-17 11:31:41 - src.train - INFO     [train.py:63] reading cv index from data/cv_index/cv-model-test/chloride/fold_11.csv\n",
      "2022-04-17 11:31:42 - src.train - INFO     [train.py:28] elapsed training time: 0.010 min\n",
      "2022-04-17 11:31:42 - src.train - INFO     [train.py:62] fold=5/33\n",
      "2022-04-17 11:31:42 - src.train - INFO     [train.py:63] reading cv index from data/cv_index/cv-model-test/chloride/fold_12.csv\n",
      "2022-04-17 11:31:43 - src.train - INFO     [train.py:28] elapsed training time: 0.005 min\n",
      "2022-04-17 11:31:43 - src.train - INFO     [train.py:62] fold=6/33\n",
      "2022-04-17 11:31:43 - src.train - INFO     [train.py:63] reading cv index from data/cv_index/cv-model-test/chloride/fold_13.csv\n",
      "2022-04-17 11:31:43 - src.train - INFO     [train.py:28] elapsed training time: 0.006 min\n",
      "2022-04-17 11:31:43 - src.train - INFO     [train.py:62] fold=7/33\n",
      "2022-04-17 11:31:43 - src.train - INFO     [train.py:63] reading cv index from data/cv_index/cv-model-test/chloride/fold_14.csv\n",
      "2022-04-17 11:31:43 - src.train - INFO     [train.py:28] elapsed training time: 0.006 min\n",
      "2022-04-17 11:31:43 - src.train - INFO     [train.py:62] fold=8/33\n",
      "2022-04-17 11:31:43 - src.train - INFO     [train.py:63] reading cv index from data/cv_index/cv-model-test/chloride/fold_15.csv\n",
      "2022-04-17 11:31:44 - src.train - INFO     [train.py:28] elapsed training time: 0.005 min\n",
      "2022-04-17 11:31:44 - src.train - INFO     [train.py:62] fold=9/33\n",
      "2022-04-17 11:31:44 - src.train - INFO     [train.py:63] reading cv index from data/cv_index/cv-model-test/chloride/fold_16.csv\n",
      "2022-04-17 11:31:44 - src.train - INFO     [train.py:28] elapsed training time: 0.005 min\n",
      "2022-04-17 11:31:44 - src.train - INFO     [train.py:62] fold=10/33\n",
      "2022-04-17 11:31:44 - src.train - INFO     [train.py:63] reading cv index from data/cv_index/cv-model-test/chloride/fold_17.csv\n",
      "2022-04-17 11:31:45 - src.train - INFO     [train.py:28] elapsed training time: 0.005 min\n",
      "2022-04-17 11:31:45 - src.train - INFO     [train.py:62] fold=11/33\n",
      "2022-04-17 11:31:45 - src.train - INFO     [train.py:63] reading cv index from data/cv_index/cv-model-test/chloride/fold_18.csv\n",
      "2022-04-17 11:31:45 - src.train - INFO     [train.py:28] elapsed training time: 0.005 min\n",
      "2022-04-17 11:31:45 - src.train - INFO     [train.py:62] fold=12/33\n",
      "2022-04-17 11:31:45 - src.train - INFO     [train.py:63] reading cv index from data/cv_index/cv-model-test/chloride/fold_19.csv\n",
      "2022-04-17 11:31:45 - src.train - INFO     [train.py:28] elapsed training time: 0.005 min\n",
      "2022-04-17 11:31:45 - src.train - INFO     [train.py:62] fold=13/33\n",
      "2022-04-17 11:31:45 - src.train - INFO     [train.py:63] reading cv index from data/cv_index/cv-model-test/chloride/fold_2.csv\n",
      "2022-04-17 11:31:46 - src.train - INFO     [train.py:28] elapsed training time: 0.005 min\n",
      "2022-04-17 11:31:46 - src.train - INFO     [train.py:62] fold=14/33\n",
      "2022-04-17 11:31:46 - src.train - INFO     [train.py:63] reading cv index from data/cv_index/cv-model-test/chloride/fold_20.csv\n",
      "2022-04-17 11:31:46 - src.train - INFO     [train.py:28] elapsed training time: 0.005 min\n",
      "2022-04-17 11:31:46 - src.train - INFO     [train.py:62] fold=15/33\n",
      "2022-04-17 11:31:46 - src.train - INFO     [train.py:63] reading cv index from data/cv_index/cv-model-test/chloride/fold_21.csv\n",
      "2022-04-17 11:31:47 - src.train - INFO     [train.py:28] elapsed training time: 0.005 min\n",
      "2022-04-17 11:31:47 - src.train - INFO     [train.py:62] fold=16/33\n",
      "2022-04-17 11:31:47 - src.train - INFO     [train.py:63] reading cv index from data/cv_index/cv-model-test/chloride/fold_22.csv\n",
      "2022-04-17 11:31:47 - src.train - INFO     [train.py:28] elapsed training time: 0.005 min\n",
      "2022-04-17 11:31:47 - src.train - INFO     [train.py:62] fold=17/33\n",
      "2022-04-17 11:31:47 - src.train - INFO     [train.py:63] reading cv index from data/cv_index/cv-model-test/chloride/fold_23.csv\n",
      "2022-04-17 11:31:48 - src.train - INFO     [train.py:28] elapsed training time: 0.006 min\n",
      "2022-04-17 11:31:48 - src.train - INFO     [train.py:62] fold=18/33\n",
      "2022-04-17 11:31:48 - src.train - INFO     [train.py:63] reading cv index from data/cv_index/cv-model-test/chloride/fold_24.csv\n",
      "2022-04-17 11:31:48 - src.train - INFO     [train.py:28] elapsed training time: 0.006 min\n",
      "2022-04-17 11:31:48 - src.train - INFO     [train.py:62] fold=19/33\n",
      "2022-04-17 11:31:48 - src.train - INFO     [train.py:63] reading cv index from data/cv_index/cv-model-test/chloride/fold_25.csv\n",
      "2022-04-17 11:31:49 - src.train - INFO     [train.py:28] elapsed training time: 0.006 min\n",
      "2022-04-17 11:31:49 - src.train - INFO     [train.py:62] fold=20/33\n",
      "2022-04-17 11:31:49 - src.train - INFO     [train.py:63] reading cv index from data/cv_index/cv-model-test/chloride/fold_26.csv\n",
      "2022-04-17 11:31:49 - src.train - INFO     [train.py:28] elapsed training time: 0.005 min\n",
      "2022-04-17 11:31:49 - src.train - INFO     [train.py:62] fold=21/33\n",
      "2022-04-17 11:31:49 - src.train - INFO     [train.py:63] reading cv index from data/cv_index/cv-model-test/chloride/fold_27.csv\n",
      "2022-04-17 11:31:49 - src.train - INFO     [train.py:28] elapsed training time: 0.006 min\n",
      "2022-04-17 11:31:49 - src.train - INFO     [train.py:62] fold=22/33\n",
      "2022-04-17 11:31:49 - src.train - INFO     [train.py:63] reading cv index from data/cv_index/cv-model-test/chloride/fold_28.csv\n",
      "2022-04-17 11:31:50 - src.train - INFO     [train.py:28] elapsed training time: 0.005 min\n",
      "2022-04-17 11:31:50 - src.train - INFO     [train.py:62] fold=23/33\n",
      "2022-04-17 11:31:50 - src.train - INFO     [train.py:63] reading cv index from data/cv_index/cv-model-test/chloride/fold_29.csv\n",
      "2022-04-17 11:31:51 - src.train - INFO     [train.py:28] elapsed training time: 0.010 min\n",
      "2022-04-17 11:31:51 - src.train - INFO     [train.py:62] fold=24/33\n",
      "2022-04-17 11:31:51 - src.train - INFO     [train.py:63] reading cv index from data/cv_index/cv-model-test/chloride/fold_3.csv\n",
      "2022-04-17 11:31:51 - src.train - INFO     [train.py:28] elapsed training time: 0.005 min\n",
      "2022-04-17 11:31:51 - src.train - INFO     [train.py:62] fold=25/33\n",
      "2022-04-17 11:31:51 - src.train - INFO     [train.py:63] reading cv index from data/cv_index/cv-model-test/chloride/fold_30.csv\n",
      "2022-04-17 11:31:51 - src.train - INFO     [train.py:28] elapsed training time: 0.005 min\n",
      "2022-04-17 11:31:51 - src.train - INFO     [train.py:62] fold=26/33\n",
      "2022-04-17 11:31:51 - src.train - INFO     [train.py:63] reading cv index from data/cv_index/cv-model-test/chloride/fold_31.csv\n",
      "2022-04-17 11:31:52 - src.train - INFO     [train.py:28] elapsed training time: 0.005 min\n",
      "2022-04-17 11:31:52 - src.train - INFO     [train.py:62] fold=27/33\n",
      "2022-04-17 11:31:52 - src.train - INFO     [train.py:63] reading cv index from data/cv_index/cv-model-test/chloride/fold_32.csv\n",
      "2022-04-17 11:31:52 - src.train - INFO     [train.py:28] elapsed training time: 0.010 min\n",
      "2022-04-17 11:31:52 - src.train - INFO     [train.py:62] fold=28/33\n",
      "2022-04-17 11:31:52 - src.train - INFO     [train.py:63] reading cv index from data/cv_index/cv-model-test/chloride/fold_4.csv\n",
      "2022-04-17 11:31:53 - src.train - INFO     [train.py:28] elapsed training time: 0.006 min\n",
      "2022-04-17 11:31:53 - src.train - INFO     [train.py:62] fold=29/33\n",
      "2022-04-17 11:31:53 - src.train - INFO     [train.py:63] reading cv index from data/cv_index/cv-model-test/chloride/fold_5.csv\n",
      "2022-04-17 11:31:53 - src.train - INFO     [train.py:28] elapsed training time: 0.006 min\n",
      "2022-04-17 11:31:53 - src.train - INFO     [train.py:62] fold=30/33\n",
      "2022-04-17 11:31:53 - src.train - INFO     [train.py:63] reading cv index from data/cv_index/cv-model-test/chloride/fold_6.csv\n"
     ]
    },
    {
     "name": "stderr",
     "output_type": "stream",
     "text": [
      "2022-04-17 11:31:54 - src.train - INFO     [train.py:28] elapsed training time: 0.006 min\n",
      "2022-04-17 11:31:54 - src.train - INFO     [train.py:62] fold=31/33\n",
      "2022-04-17 11:31:54 - src.train - INFO     [train.py:63] reading cv index from data/cv_index/cv-model-test/chloride/fold_7.csv\n",
      "2022-04-17 11:31:54 - src.train - INFO     [train.py:28] elapsed training time: 0.005 min\n",
      "2022-04-17 11:31:54 - src.train - INFO     [train.py:62] fold=32/33\n",
      "2022-04-17 11:31:54 - src.train - INFO     [train.py:63] reading cv index from data/cv_index/cv-model-test/chloride/fold_8.csv\n",
      "2022-04-17 11:31:55 - src.train - INFO     [train.py:28] elapsed training time: 0.005 min\n",
      "2022-04-17 11:31:55 - src.train - INFO     [train.py:62] fold=33/33\n",
      "2022-04-17 11:31:55 - src.train - INFO     [train.py:63] reading cv index from data/cv_index/cv-model-test/chloride/fold_9.csv\n",
      "2022-04-17 11:31:55 - src.train - INFO     [train.py:28] elapsed training time: 0.005 min\n",
      "2022-04-17 11:31:55 - src.train - INFO     [train.py:62] fold=1/33\n",
      "2022-04-17 11:31:55 - src.train - INFO     [train.py:63] reading cv index from data/cv_index/cv-model-test/iron_oxide/fold_0.csv\n"
     ]
    },
    {
     "name": "stdout",
     "output_type": "stream",
     "text": [
      "Training until validation scores don't improve for 20 rounds\n",
      "[20]\ttrain's multi_logloss: 0.304629\tvalid's multi_logloss: 0.509863\n",
      "[40]\ttrain's multi_logloss: 0.0887251\tvalid's multi_logloss: 0.341106\n"
     ]
    },
    {
     "name": "stderr",
     "output_type": "stream",
     "text": [
      "2022-04-17 11:31:56 - src.train - INFO     [train.py:133] elapsed training time: 0.008 min\n",
      "2022-04-17 11:31:56 - src.train - INFO     [train.py:62] fold=2/33\n",
      "2022-04-17 11:31:56 - src.train - INFO     [train.py:63] reading cv index from data/cv_index/cv-model-test/iron_oxide/fold_1.csv\n"
     ]
    },
    {
     "name": "stdout",
     "output_type": "stream",
     "text": [
      "[60]\ttrain's multi_logloss: 0.0316482\tvalid's multi_logloss: 0.306608\n",
      "[80]\ttrain's multi_logloss: 0.0149737\tvalid's multi_logloss: 0.29837\n",
      "Early stopping, best iteration is:\n",
      "[76]\ttrain's multi_logloss: 0.0170285\tvalid's multi_logloss: 0.297014\n",
      "Training until validation scores don't improve for 20 rounds\n",
      "[20]\ttrain's multi_logloss: 0.289649\tvalid's multi_logloss: 0.578367\n",
      "[40]\ttrain's multi_logloss: 0.0821884\tvalid's multi_logloss: 0.46651\n"
     ]
    },
    {
     "name": "stderr",
     "output_type": "stream",
     "text": [
      "2022-04-17 11:31:56 - src.train - INFO     [train.py:133] elapsed training time: 0.007 min\n",
      "2022-04-17 11:31:56 - src.train - INFO     [train.py:62] fold=3/33\n",
      "2022-04-17 11:31:56 - src.train - INFO     [train.py:63] reading cv index from data/cv_index/cv-model-test/iron_oxide/fold_10.csv\n"
     ]
    },
    {
     "name": "stdout",
     "output_type": "stream",
     "text": [
      "[60]\ttrain's multi_logloss: 0.0294884\tvalid's multi_logloss: 0.462361\n",
      "Early stopping, best iteration is:\n",
      "[55]\ttrain's multi_logloss: 0.0370563\tvalid's multi_logloss: 0.457999\n",
      "Training until validation scores don't improve for 20 rounds\n",
      "[20]\ttrain's multi_logloss: 0.296029\tvalid's multi_logloss: 0.514441\n"
     ]
    },
    {
     "name": "stderr",
     "output_type": "stream",
     "text": [
      "2022-04-17 11:31:57 - src.train - INFO     [train.py:133] elapsed training time: 0.009 min\n",
      "2022-04-17 11:31:57 - src.train - INFO     [train.py:62] fold=4/33\n",
      "2022-04-17 11:31:57 - src.train - INFO     [train.py:63] reading cv index from data/cv_index/cv-model-test/iron_oxide/fold_11.csv\n"
     ]
    },
    {
     "name": "stdout",
     "output_type": "stream",
     "text": [
      "[40]\ttrain's multi_logloss: 0.0867673\tvalid's multi_logloss: 0.367314\n",
      "[60]\ttrain's multi_logloss: 0.0311266\tvalid's multi_logloss: 0.328469\n",
      "[80]\ttrain's multi_logloss: 0.0148624\tvalid's multi_logloss: 0.334518\n",
      "Early stopping, best iteration is:\n",
      "[66]\ttrain's multi_logloss: 0.0240933\tvalid's multi_logloss: 0.321404\n",
      "Training until validation scores don't improve for 20 rounds\n",
      "[20]\ttrain's multi_logloss: 0.293217\tvalid's multi_logloss: 0.565563\n",
      "[40]\ttrain's multi_logloss: 0.0831395\tvalid's multi_logloss: 0.431765\n"
     ]
    },
    {
     "name": "stderr",
     "output_type": "stream",
     "text": [
      "2022-04-17 11:31:57 - src.train - INFO     [train.py:133] elapsed training time: 0.008 min\n",
      "2022-04-17 11:31:57 - src.train - INFO     [train.py:62] fold=5/33\n",
      "2022-04-17 11:31:57 - src.train - INFO     [train.py:63] reading cv index from data/cv_index/cv-model-test/iron_oxide/fold_12.csv\n"
     ]
    },
    {
     "name": "stdout",
     "output_type": "stream",
     "text": [
      "[60]\ttrain's multi_logloss: 0.030098\tvalid's multi_logloss: 0.422896\n",
      "[80]\ttrain's multi_logloss: 0.0141797\tvalid's multi_logloss: 0.421836\n",
      "Early stopping, best iteration is:\n",
      "[66]\ttrain's multi_logloss: 0.0232092\tvalid's multi_logloss: 0.414914\n",
      "Training until validation scores don't improve for 20 rounds\n",
      "[20]\ttrain's multi_logloss: 0.292225\tvalid's multi_logloss: 0.489572\n",
      "[40]\ttrain's multi_logloss: 0.0844815\tvalid's multi_logloss: 0.373781\n"
     ]
    },
    {
     "name": "stderr",
     "output_type": "stream",
     "text": [
      "2022-04-17 11:31:58 - src.train - INFO     [train.py:133] elapsed training time: 0.007 min\n",
      "2022-04-17 11:31:58 - src.train - INFO     [train.py:62] fold=6/33\n",
      "2022-04-17 11:31:58 - src.train - INFO     [train.py:63] reading cv index from data/cv_index/cv-model-test/iron_oxide/fold_13.csv\n"
     ]
    },
    {
     "name": "stdout",
     "output_type": "stream",
     "text": [
      "[60]\ttrain's multi_logloss: 0.0308001\tvalid's multi_logloss: 0.358609\n",
      "Early stopping, best iteration is:\n",
      "[51]\ttrain's multi_logloss: 0.0470144\tvalid's multi_logloss: 0.354693\n",
      "Training until validation scores don't improve for 20 rounds\n",
      "[20]\ttrain's multi_logloss: 0.294602\tvalid's multi_logloss: 0.482241\n",
      "[40]\ttrain's multi_logloss: 0.0849177\tvalid's multi_logloss: 0.357031\n"
     ]
    },
    {
     "name": "stderr",
     "output_type": "stream",
     "text": [
      "2022-04-17 11:31:58 - src.train - INFO     [train.py:133] elapsed training time: 0.008 min\n",
      "2022-04-17 11:31:58 - src.train - INFO     [train.py:62] fold=7/33\n",
      "2022-04-17 11:31:58 - src.train - INFO     [train.py:63] reading cv index from data/cv_index/cv-model-test/iron_oxide/fold_14.csv\n"
     ]
    },
    {
     "name": "stdout",
     "output_type": "stream",
     "text": [
      "[60]\ttrain's multi_logloss: 0.0309576\tvalid's multi_logloss: 0.345742\n",
      "Early stopping, best iteration is:\n",
      "[55]\ttrain's multi_logloss: 0.0388979\tvalid's multi_logloss: 0.343052\n",
      "Training until validation scores don't improve for 20 rounds\n",
      "[20]\ttrain's multi_logloss: 0.29964\tvalid's multi_logloss: 0.600124\n",
      "[40]\ttrain's multi_logloss: 0.0871719\tvalid's multi_logloss: 0.459596\n"
     ]
    },
    {
     "name": "stderr",
     "output_type": "stream",
     "text": [
      "2022-04-17 11:31:59 - src.train - INFO     [train.py:133] elapsed training time: 0.008 min\n",
      "2022-04-17 11:31:59 - src.train - INFO     [train.py:62] fold=8/33\n",
      "2022-04-17 11:31:59 - src.train - INFO     [train.py:63] reading cv index from data/cv_index/cv-model-test/iron_oxide/fold_15.csv\n"
     ]
    },
    {
     "name": "stdout",
     "output_type": "stream",
     "text": [
      "[60]\ttrain's multi_logloss: 0.0312423\tvalid's multi_logloss: 0.413643\n",
      "[80]\ttrain's multi_logloss: 0.0147361\tvalid's multi_logloss: 0.403505\n",
      "[100]\ttrain's multi_logloss: 0.00905414\tvalid's multi_logloss: 0.398795\n",
      "Early stopping, best iteration is:\n",
      "[85]\ttrain's multi_logloss: 0.0127167\tvalid's multi_logloss: 0.3975\n",
      "Training until validation scores don't improve for 20 rounds\n",
      "[20]\ttrain's multi_logloss: 0.293442\tvalid's multi_logloss: 0.43739\n",
      "[40]\ttrain's multi_logloss: 0.0849547\tvalid's multi_logloss: 0.271912\n",
      "[60]\ttrain's multi_logloss: 0.0309166\tvalid's multi_logloss: 0.227321\n",
      "[80]\ttrain's multi_logloss: 0.0147889\tvalid's multi_logloss: 0.22644\n",
      "[100]\ttrain's multi_logloss: 0.00908826\tvalid's multi_logloss: 0.222374\n",
      "[120]\ttrain's multi_logloss: 0.00692035\tvalid's multi_logloss: 0.220367\n",
      "[140]\ttrain's multi_logloss: 0.00606927\tvalid's multi_logloss: 0.220193\n"
     ]
    },
    {
     "name": "stderr",
     "output_type": "stream",
     "text": [
      "2022-04-17 11:32:00 - src.train - INFO     [train.py:133] elapsed training time: 0.010 min\n",
      "2022-04-17 11:32:00 - src.train - INFO     [train.py:62] fold=9/33\n",
      "2022-04-17 11:32:00 - src.train - INFO     [train.py:63] reading cv index from data/cv_index/cv-model-test/iron_oxide/fold_16.csv\n"
     ]
    },
    {
     "name": "stdout",
     "output_type": "stream",
     "text": [
      "Early stopping, best iteration is:\n",
      "[135]\ttrain's multi_logloss: 0.00622725\tvalid's multi_logloss: 0.219551\n",
      "Training until validation scores don't improve for 20 rounds\n",
      "[20]\ttrain's multi_logloss: 0.297093\tvalid's multi_logloss: 0.452462\n",
      "[40]\ttrain's multi_logloss: 0.0862279\tvalid's multi_logloss: 0.341096\n"
     ]
    },
    {
     "name": "stderr",
     "output_type": "stream",
     "text": [
      "2022-04-17 11:32:00 - src.train - INFO     [train.py:133] elapsed training time: 0.006 min\n",
      "2022-04-17 11:32:00 - src.train - INFO     [train.py:62] fold=10/33\n",
      "2022-04-17 11:32:00 - src.train - INFO     [train.py:63] reading cv index from data/cv_index/cv-model-test/iron_oxide/fold_17.csv\n"
     ]
    },
    {
     "name": "stdout",
     "output_type": "stream",
     "text": [
      "[60]\ttrain's multi_logloss: 0.0309947\tvalid's multi_logloss: 0.343468\n",
      "Early stopping, best iteration is:\n",
      "[41]\ttrain's multi_logloss: 0.0817783\tvalid's multi_logloss: 0.339842\n",
      "Training until validation scores don't improve for 20 rounds\n",
      "[20]\ttrain's multi_logloss: 0.294816\tvalid's multi_logloss: 0.50446\n",
      "[40]\ttrain's multi_logloss: 0.0844049\tvalid's multi_logloss: 0.384673\n"
     ]
    },
    {
     "name": "stderr",
     "output_type": "stream",
     "text": [
      "2022-04-17 11:32:01 - src.train - INFO     [train.py:133] elapsed training time: 0.008 min\n",
      "2022-04-17 11:32:01 - src.train - INFO     [train.py:62] fold=11/33\n",
      "2022-04-17 11:32:01 - src.train - INFO     [train.py:63] reading cv index from data/cv_index/cv-model-test/iron_oxide/fold_18.csv\n"
     ]
    },
    {
     "name": "stdout",
     "output_type": "stream",
     "text": [
      "[60]\ttrain's multi_logloss: 0.0299181\tvalid's multi_logloss: 0.366642\n",
      "Early stopping, best iteration is:\n",
      "[53]\ttrain's multi_logloss: 0.0419409\tvalid's multi_logloss: 0.364765\n",
      "Training until validation scores don't improve for 20 rounds\n",
      "[20]\ttrain's multi_logloss: 0.289816\tvalid's multi_logloss: 0.601243\n",
      "[40]\ttrain's multi_logloss: 0.0817866\tvalid's multi_logloss: 0.46599\n"
     ]
    },
    {
     "name": "stderr",
     "output_type": "stream",
     "text": [
      "2022-04-17 11:32:02 - src.train - INFO     [train.py:133] elapsed training time: 0.010 min\n",
      "2022-04-17 11:32:02 - src.train - INFO     [train.py:62] fold=12/33\n",
      "2022-04-17 11:32:02 - src.train - INFO     [train.py:63] reading cv index from data/cv_index/cv-model-test/iron_oxide/fold_19.csv\n"
     ]
    },
    {
     "name": "stdout",
     "output_type": "stream",
     "text": [
      "[60]\ttrain's multi_logloss: 0.0295964\tvalid's multi_logloss: 0.426794\n",
      "[80]\ttrain's multi_logloss: 0.0142378\tvalid's multi_logloss: 0.407587\n",
      "Early stopping, best iteration is:\n",
      "[75]\ttrain's multi_logloss: 0.0166231\tvalid's multi_logloss: 0.40574\n",
      "Training until validation scores don't improve for 20 rounds\n",
      "[20]\ttrain's multi_logloss: 0.295055\tvalid's multi_logloss: 0.570453\n",
      "[40]\ttrain's multi_logloss: 0.0848135\tvalid's multi_logloss: 0.409476\n"
     ]
    },
    {
     "name": "stderr",
     "output_type": "stream",
     "text": [
      "2022-04-17 11:32:02 - src.train - INFO     [train.py:133] elapsed training time: 0.007 min\n",
      "2022-04-17 11:32:02 - src.train - INFO     [train.py:62] fold=13/33\n",
      "2022-04-17 11:32:02 - src.train - INFO     [train.py:63] reading cv index from data/cv_index/cv-model-test/iron_oxide/fold_2.csv\n"
     ]
    },
    {
     "name": "stdout",
     "output_type": "stream",
     "text": [
      "[60]\ttrain's multi_logloss: 0.0305443\tvalid's multi_logloss: 0.380786\n",
      "Early stopping, best iteration is:\n",
      "[58]\ttrain's multi_logloss: 0.0333918\tvalid's multi_logloss: 0.379532\n",
      "Training until validation scores don't improve for 20 rounds\n",
      "[20]\ttrain's multi_logloss: 0.291511\tvalid's multi_logloss: 0.655412\n",
      "[40]\ttrain's multi_logloss: 0.0821462\tvalid's multi_logloss: 0.518232\n"
     ]
    },
    {
     "name": "stderr",
     "output_type": "stream",
     "text": [
      "2022-04-17 11:32:03 - src.train - INFO     [train.py:133] elapsed training time: 0.008 min\n",
      "2022-04-17 11:32:03 - src.train - INFO     [train.py:62] fold=14/33\n",
      "2022-04-17 11:32:03 - src.train - INFO     [train.py:63] reading cv index from data/cv_index/cv-model-test/iron_oxide/fold_20.csv\n"
     ]
    },
    {
     "name": "stdout",
     "output_type": "stream",
     "text": [
      "[60]\ttrain's multi_logloss: 0.0295656\tvalid's multi_logloss: 0.49149\n",
      "Early stopping, best iteration is:\n",
      "[58]\ttrain's multi_logloss: 0.0324582\tvalid's multi_logloss: 0.489007\n",
      "Training until validation scores don't improve for 20 rounds\n",
      "[20]\ttrain's multi_logloss: 0.301255\tvalid's multi_logloss: 0.520433\n",
      "[40]\ttrain's multi_logloss: 0.0883054\tvalid's multi_logloss: 0.356254\n",
      "[60]\ttrain's multi_logloss: 0.0318361\tvalid's multi_logloss: 0.316243\n",
      "[80]\ttrain's multi_logloss: 0.0150377\tvalid's multi_logloss: 0.309251\n",
      "[100]\ttrain's multi_logloss: 0.00906073\tvalid's multi_logloss: 0.306535\n",
      "[120]\ttrain's multi_logloss: 0.00684065\tvalid's multi_logloss: 0.306812\n",
      "Early stopping, best iteration is:\n",
      "[110]\ttrain's multi_logloss: 0.00770904\tvalid's multi_logloss: 0.302971\n"
     ]
    },
    {
     "name": "stderr",
     "output_type": "stream",
     "text": [
      "2022-04-17 11:32:03 - src.train - INFO     [train.py:133] elapsed training time: 0.010 min\n",
      "2022-04-17 11:32:03 - src.train - INFO     [train.py:62] fold=15/33\n",
      "2022-04-17 11:32:03 - src.train - INFO     [train.py:63] reading cv index from data/cv_index/cv-model-test/iron_oxide/fold_21.csv\n"
     ]
    },
    {
     "name": "stdout",
     "output_type": "stream",
     "text": [
      "Training until validation scores don't improve for 20 rounds\n",
      "[20]\ttrain's multi_logloss: 0.298383\tvalid's multi_logloss: 0.553646\n",
      "[40]\ttrain's multi_logloss: 0.0869055\tvalid's multi_logloss: 0.341341\n",
      "[60]\ttrain's multi_logloss: 0.0316888\tvalid's multi_logloss: 0.280272\n",
      "[80]\ttrain's multi_logloss: 0.0149197\tvalid's multi_logloss: 0.258903\n",
      "[100]\ttrain's multi_logloss: 0.00910936\tvalid's multi_logloss: 0.243327\n",
      "[120]\ttrain's multi_logloss: 0.00700039\tvalid's multi_logloss: 0.241843\n",
      "[140]\ttrain's multi_logloss: 0.00620671\tvalid's multi_logloss: 0.235302\n"
     ]
    },
    {
     "name": "stderr",
     "output_type": "stream",
     "text": [
      "2022-04-17 11:32:04 - src.train - INFO     [train.py:133] elapsed training time: 0.011 min\n",
      "2022-04-17 11:32:04 - src.train - INFO     [train.py:62] fold=16/33\n",
      "2022-04-17 11:32:04 - src.train - INFO     [train.py:63] reading cv index from data/cv_index/cv-model-test/iron_oxide/fold_22.csv\n"
     ]
    },
    {
     "name": "stdout",
     "output_type": "stream",
     "text": [
      "[160]\ttrain's multi_logloss: 0.00581708\tvalid's multi_logloss: 0.234572\n",
      "[180]\ttrain's multi_logloss: 0.00572043\tvalid's multi_logloss: 0.233791\n",
      "Early stopping, best iteration is:\n",
      "[170]\ttrain's multi_logloss: 0.00575329\tvalid's multi_logloss: 0.233734\n",
      "Training until validation scores don't improve for 20 rounds\n",
      "[20]\ttrain's multi_logloss: 0.294065\tvalid's multi_logloss: 0.512467\n",
      "[40]\ttrain's multi_logloss: 0.0843522\tvalid's multi_logloss: 0.39416\n"
     ]
    },
    {
     "name": "stderr",
     "output_type": "stream",
     "text": [
      "2022-04-17 11:32:05 - src.train - INFO     [train.py:133] elapsed training time: 0.009 min\n",
      "2022-04-17 11:32:05 - src.train - INFO     [train.py:62] fold=17/33\n",
      "2022-04-17 11:32:05 - src.train - INFO     [train.py:63] reading cv index from data/cv_index/cv-model-test/iron_oxide/fold_23.csv\n"
     ]
    },
    {
     "name": "stdout",
     "output_type": "stream",
     "text": [
      "[60]\ttrain's multi_logloss: 0.03015\tvalid's multi_logloss: 0.361689\n",
      "[80]\ttrain's multi_logloss: 0.0145295\tvalid's multi_logloss: 0.36002\n",
      "[100]\ttrain's multi_logloss: 0.00900812\tvalid's multi_logloss: 0.35851\n",
      "Early stopping, best iteration is:\n",
      "[85]\ttrain's multi_logloss: 0.0125779\tvalid's multi_logloss: 0.355748\n",
      "Training until validation scores don't improve for 20 rounds\n",
      "[20]\ttrain's multi_logloss: 0.295776\tvalid's multi_logloss: 0.464372\n"
     ]
    },
    {
     "name": "stderr",
     "output_type": "stream",
     "text": [
      "2022-04-17 11:32:05 - src.train - INFO     [train.py:133] elapsed training time: 0.009 min\n",
      "2022-04-17 11:32:05 - src.train - INFO     [train.py:62] fold=18/33\n",
      "2022-04-17 11:32:05 - src.train - INFO     [train.py:63] reading cv index from data/cv_index/cv-model-test/iron_oxide/fold_24.csv\n"
     ]
    },
    {
     "name": "stdout",
     "output_type": "stream",
     "text": [
      "[40]\ttrain's multi_logloss: 0.0864466\tvalid's multi_logloss: 0.373033\n",
      "[60]\ttrain's multi_logloss: 0.0315706\tvalid's multi_logloss: 0.382818\n",
      "Early stopping, best iteration is:\n",
      "[40]\ttrain's multi_logloss: 0.0864466\tvalid's multi_logloss: 0.373033\n",
      "Training until validation scores don't improve for 20 rounds\n",
      "[20]\ttrain's multi_logloss: 0.296327\tvalid's multi_logloss: 0.44238\n",
      "[40]\ttrain's multi_logloss: 0.0868629\tvalid's multi_logloss: 0.295388\n",
      "[60]\ttrain's multi_logloss: 0.0311957\tvalid's multi_logloss: 0.264962\n",
      "[80]\ttrain's multi_logloss: 0.0145236\tvalid's multi_logloss: 0.255176\n",
      "[100]\ttrain's multi_logloss: 0.00894604\tvalid's multi_logloss: 0.243717\n",
      "[120]\ttrain's multi_logloss: 0.00686102\tvalid's multi_logloss: 0.241732\n"
     ]
    },
    {
     "name": "stderr",
     "output_type": "stream",
     "text": [
      "2022-04-17 11:32:06 - src.train - INFO     [train.py:133] elapsed training time: 0.011 min\n",
      "2022-04-17 11:32:06 - src.train - INFO     [train.py:62] fold=19/33\n",
      "2022-04-17 11:32:06 - src.train - INFO     [train.py:63] reading cv index from data/cv_index/cv-model-test/iron_oxide/fold_25.csv\n"
     ]
    },
    {
     "name": "stdout",
     "output_type": "stream",
     "text": [
      "[140]\ttrain's multi_logloss: 0.00604821\tvalid's multi_logloss: 0.239113\n",
      "Early stopping, best iteration is:\n",
      "[139]\ttrain's multi_logloss: 0.00607678\tvalid's multi_logloss: 0.239036\n",
      "Training until validation scores don't improve for 20 rounds\n",
      "[20]\ttrain's multi_logloss: 0.299044\tvalid's multi_logloss: 0.542084\n",
      "[40]\ttrain's multi_logloss: 0.0865917\tvalid's multi_logloss: 0.361524\n"
     ]
    },
    {
     "name": "stderr",
     "output_type": "stream",
     "text": [
      "2022-04-17 11:32:07 - src.train - INFO     [train.py:133] elapsed training time: 0.010 min\n",
      "2022-04-17 11:32:07 - src.train - INFO     [train.py:62] fold=20/33\n",
      "2022-04-17 11:32:07 - src.train - INFO     [train.py:63] reading cv index from data/cv_index/cv-model-test/iron_oxide/fold_26.csv\n"
     ]
    },
    {
     "name": "stdout",
     "output_type": "stream",
     "text": [
      "[60]\ttrain's multi_logloss: 0.0310208\tvalid's multi_logloss: 0.311596\n",
      "[80]\ttrain's multi_logloss: 0.0147186\tvalid's multi_logloss: 0.283931\n",
      "[100]\ttrain's multi_logloss: 0.00901475\tvalid's multi_logloss: 0.276133\n",
      "Early stopping, best iteration is:\n",
      "[98]\ttrain's multi_logloss: 0.00936144\tvalid's multi_logloss: 0.274363\n",
      "Training until validation scores don't improve for 20 rounds\n",
      "[20]\ttrain's multi_logloss: 0.298293\tvalid's multi_logloss: 0.490363\n",
      "[40]\ttrain's multi_logloss: 0.0890116\tvalid's multi_logloss: 0.347674\n",
      "[60]\ttrain's multi_logloss: 0.0322576\tvalid's multi_logloss: 0.31255\n",
      "[80]\ttrain's multi_logloss: 0.0152655\tvalid's multi_logloss: 0.301217\n",
      "[100]\ttrain's multi_logloss: 0.00924609\tvalid's multi_logloss: 0.291767\n",
      "[120]\ttrain's multi_logloss: 0.0070406\tvalid's multi_logloss: 0.286494\n",
      "Early stopping, best iteration is:\n",
      "[113]\ttrain's multi_logloss: 0.00754139\tvalid's multi_logloss: 0.285554\n"
     ]
    },
    {
     "name": "stderr",
     "output_type": "stream",
     "text": [
      "2022-04-17 11:32:08 - src.train - INFO     [train.py:133] elapsed training time: 0.010 min\n",
      "2022-04-17 11:32:08 - src.train - INFO     [train.py:62] fold=21/33\n",
      "2022-04-17 11:32:08 - src.train - INFO     [train.py:63] reading cv index from data/cv_index/cv-model-test/iron_oxide/fold_27.csv\n"
     ]
    },
    {
     "name": "stdout",
     "output_type": "stream",
     "text": [
      "Training until validation scores don't improve for 20 rounds\n",
      "[20]\ttrain's multi_logloss: 0.295396\tvalid's multi_logloss: 0.5905\n",
      "[40]\ttrain's multi_logloss: 0.084932\tvalid's multi_logloss: 0.411149\n",
      "[60]\ttrain's multi_logloss: 0.0307512\tvalid's multi_logloss: 0.371005\n",
      "[80]\ttrain's multi_logloss: 0.0147259\tvalid's multi_logloss: 0.367609\n"
     ]
    },
    {
     "name": "stderr",
     "output_type": "stream",
     "text": [
      "2022-04-17 11:32:09 - src.train - INFO     [train.py:133] elapsed training time: 0.021 min\n",
      "2022-04-17 11:32:09 - src.train - INFO     [train.py:62] fold=22/33\n",
      "2022-04-17 11:32:09 - src.train - INFO     [train.py:63] reading cv index from data/cv_index/cv-model-test/iron_oxide/fold_28.csv\n"
     ]
    },
    {
     "name": "stdout",
     "output_type": "stream",
     "text": [
      "[100]\ttrain's multi_logloss: 0.0089223\tvalid's multi_logloss: 0.358427\n",
      "[120]\ttrain's multi_logloss: 0.00693664\tvalid's multi_logloss: 0.361244\n",
      "Early stopping, best iteration is:\n",
      "[113]\ttrain's multi_logloss: 0.0074051\tvalid's multi_logloss: 0.356651\n",
      "Training until validation scores don't improve for 20 rounds\n",
      "[20]\ttrain's multi_logloss: 0.304717\tvalid's multi_logloss: 0.49243\n",
      "[40]\ttrain's multi_logloss: 0.0881387\tvalid's multi_logloss: 0.338764\n",
      "[60]\ttrain's multi_logloss: 0.0317929\tvalid's multi_logloss: 0.315109\n",
      "[80]\ttrain's multi_logloss: 0.014976\tvalid's multi_logloss: 0.300148\n"
     ]
    },
    {
     "name": "stderr",
     "output_type": "stream",
     "text": [
      "2022-04-17 11:32:11 - src.train - INFO     [train.py:133] elapsed training time: 0.032 min\n",
      "2022-04-17 11:32:11 - src.train - INFO     [train.py:62] fold=23/33\n",
      "2022-04-17 11:32:11 - src.train - INFO     [train.py:63] reading cv index from data/cv_index/cv-model-test/iron_oxide/fold_29.csv\n"
     ]
    },
    {
     "name": "stdout",
     "output_type": "stream",
     "text": [
      "[100]\ttrain's multi_logloss: 0.0091305\tvalid's multi_logloss: 0.300741\n",
      "Early stopping, best iteration is:\n",
      "[85]\ttrain's multi_logloss: 0.0128853\tvalid's multi_logloss: 0.296922\n",
      "Training until validation scores don't improve for 20 rounds\n",
      "[20]\ttrain's multi_logloss: 0.29906\tvalid's multi_logloss: 0.485661\n",
      "[40]\ttrain's multi_logloss: 0.0867025\tvalid's multi_logloss: 0.352456\n",
      "[60]\ttrain's multi_logloss: 0.0314944\tvalid's multi_logloss: 0.318736\n",
      "[80]\ttrain's multi_logloss: 0.0149441\tvalid's multi_logloss: 0.312308\n",
      "[100]\ttrain's multi_logloss: 0.00918531\tvalid's multi_logloss: 0.307143\n"
     ]
    },
    {
     "name": "stderr",
     "output_type": "stream",
     "text": [
      "2022-04-17 11:32:13 - src.train - INFO     [train.py:133] elapsed training time: 0.028 min\n",
      "2022-04-17 11:32:13 - src.train - INFO     [train.py:62] fold=24/33\n",
      "2022-04-17 11:32:13 - src.train - INFO     [train.py:63] reading cv index from data/cv_index/cv-model-test/iron_oxide/fold_3.csv\n"
     ]
    },
    {
     "name": "stdout",
     "output_type": "stream",
     "text": [
      "[120]\ttrain's multi_logloss: 0.00709588\tvalid's multi_logloss: 0.306747\n",
      "Early stopping, best iteration is:\n",
      "[107]\ttrain's multi_logloss: 0.00821181\tvalid's multi_logloss: 0.304949\n",
      "Training until validation scores don't improve for 20 rounds\n",
      "[20]\ttrain's multi_logloss: 0.295808\tvalid's multi_logloss: 0.473615\n",
      "[40]\ttrain's multi_logloss: 0.0882982\tvalid's multi_logloss: 0.320621\n"
     ]
    },
    {
     "name": "stderr",
     "output_type": "stream",
     "text": [
      "2022-04-17 11:32:14 - src.train - INFO     [train.py:133] elapsed training time: 0.013 min\n",
      "2022-04-17 11:32:14 - src.train - INFO     [train.py:62] fold=25/33\n",
      "2022-04-17 11:32:14 - src.train - INFO     [train.py:63] reading cv index from data/cv_index/cv-model-test/iron_oxide/fold_30.csv\n"
     ]
    },
    {
     "name": "stdout",
     "output_type": "stream",
     "text": [
      "[60]\ttrain's multi_logloss: 0.0321646\tvalid's multi_logloss: 0.276675\n",
      "[80]\ttrain's multi_logloss: 0.0152011\tvalid's multi_logloss: 0.267013\n",
      "Early stopping, best iteration is:\n",
      "[74]\ttrain's multi_logloss: 0.0184437\tvalid's multi_logloss: 0.263863\n",
      "Training until validation scores don't improve for 20 rounds\n",
      "[20]\ttrain's multi_logloss: 0.288319\tvalid's multi_logloss: 0.586326\n"
     ]
    },
    {
     "name": "stderr",
     "output_type": "stream",
     "text": [
      "2022-04-17 11:32:14 - src.train - INFO     [train.py:133] elapsed training time: 0.010 min\n",
      "2022-04-17 11:32:14 - src.train - INFO     [train.py:62] fold=26/33\n",
      "2022-04-17 11:32:14 - src.train - INFO     [train.py:63] reading cv index from data/cv_index/cv-model-test/iron_oxide/fold_31.csv\n"
     ]
    },
    {
     "name": "stdout",
     "output_type": "stream",
     "text": [
      "[40]\ttrain's multi_logloss: 0.0831476\tvalid's multi_logloss: 0.439185\n",
      "[60]\ttrain's multi_logloss: 0.0298059\tvalid's multi_logloss: 0.421446\n",
      "Early stopping, best iteration is:\n",
      "[53]\ttrain's multi_logloss: 0.0413945\tvalid's multi_logloss: 0.417227\n",
      "Training until validation scores don't improve for 20 rounds\n",
      "[20]\ttrain's multi_logloss: 0.296588\tvalid's multi_logloss: 0.527359\n",
      "[40]\ttrain's multi_logloss: 0.0851931\tvalid's multi_logloss: 0.373008\n"
     ]
    },
    {
     "name": "stderr",
     "output_type": "stream",
     "text": [
      "2022-04-17 11:32:15 - src.train - INFO     [train.py:133] elapsed training time: 0.007 min\n",
      "2022-04-17 11:32:15 - src.train - INFO     [train.py:62] fold=27/33\n",
      "2022-04-17 11:32:15 - src.train - INFO     [train.py:63] reading cv index from data/cv_index/cv-model-test/iron_oxide/fold_32.csv\n"
     ]
    },
    {
     "name": "stdout",
     "output_type": "stream",
     "text": [
      "[60]\ttrain's multi_logloss: 0.0310934\tvalid's multi_logloss: 0.355338\n",
      "Early stopping, best iteration is:\n",
      "[52]\ttrain's multi_logloss: 0.0449889\tvalid's multi_logloss: 0.349905\n",
      "Training until validation scores don't improve for 20 rounds\n",
      "[20]\ttrain's multi_logloss: 0.289039\tvalid's multi_logloss: 0.605865\n",
      "[40]\ttrain's multi_logloss: 0.0831176\tvalid's multi_logloss: 0.444633\n"
     ]
    },
    {
     "name": "stderr",
     "output_type": "stream",
     "text": [
      "2022-04-17 11:32:16 - src.train - INFO     [train.py:133] elapsed training time: 0.008 min\n",
      "2022-04-17 11:32:16 - src.train - INFO     [train.py:62] fold=28/33\n",
      "2022-04-17 11:32:16 - src.train - INFO     [train.py:63] reading cv index from data/cv_index/cv-model-test/iron_oxide/fold_4.csv\n"
     ]
    },
    {
     "name": "stdout",
     "output_type": "stream",
     "text": [
      "[60]\ttrain's multi_logloss: 0.0302178\tvalid's multi_logloss: 0.422471\n",
      "[80]\ttrain's multi_logloss: 0.0141828\tvalid's multi_logloss: 0.431644\n",
      "Early stopping, best iteration is:\n",
      "[64]\ttrain's multi_logloss: 0.0254102\tvalid's multi_logloss: 0.419248\n",
      "Training until validation scores don't improve for 20 rounds\n",
      "[20]\ttrain's multi_logloss: 0.297189\tvalid's multi_logloss: 0.516415\n",
      "[40]\ttrain's multi_logloss: 0.0879079\tvalid's multi_logloss: 0.39424\n",
      "[60]\ttrain's multi_logloss: 0.0317259\tvalid's multi_logloss: 0.369738\n",
      "[80]\ttrain's multi_logloss: 0.0149651\tvalid's multi_logloss: 0.366394\n",
      "[100]\ttrain's multi_logloss: 0.00911456\tvalid's multi_logloss: 0.357466\n",
      "[120]\ttrain's multi_logloss: 0.00694442\tvalid's multi_logloss: 0.35424\n"
     ]
    },
    {
     "name": "stderr",
     "output_type": "stream",
     "text": [
      "2022-04-17 11:32:16 - src.train - INFO     [train.py:133] elapsed training time: 0.011 min\n",
      "2022-04-17 11:32:16 - src.train - INFO     [train.py:62] fold=29/33\n",
      "2022-04-17 11:32:16 - src.train - INFO     [train.py:63] reading cv index from data/cv_index/cv-model-test/iron_oxide/fold_5.csv\n"
     ]
    },
    {
     "name": "stdout",
     "output_type": "stream",
     "text": [
      "Early stopping, best iteration is:\n",
      "[116]\ttrain's multi_logloss: 0.00725373\tvalid's multi_logloss: 0.353008\n",
      "Training until validation scores don't improve for 20 rounds\n",
      "[20]\ttrain's multi_logloss: 0.289072\tvalid's multi_logloss: 0.538339\n",
      "[40]\ttrain's multi_logloss: 0.0837394\tvalid's multi_logloss: 0.415113\n"
     ]
    },
    {
     "name": "stderr",
     "output_type": "stream",
     "text": [
      "2022-04-17 11:32:17 - src.train - INFO     [train.py:133] elapsed training time: 0.007 min\n",
      "2022-04-17 11:32:17 - src.train - INFO     [train.py:62] fold=30/33\n",
      "2022-04-17 11:32:17 - src.train - INFO     [train.py:63] reading cv index from data/cv_index/cv-model-test/iron_oxide/fold_6.csv\n"
     ]
    },
    {
     "name": "stdout",
     "output_type": "stream",
     "text": [
      "[60]\ttrain's multi_logloss: 0.0297781\tvalid's multi_logloss: 0.403945\n",
      "Early stopping, best iteration is:\n",
      "[53]\ttrain's multi_logloss: 0.0415293\tvalid's multi_logloss: 0.398097\n",
      "Training until validation scores don't improve for 20 rounds\n",
      "[20]\ttrain's multi_logloss: 0.291907\tvalid's multi_logloss: 0.579167\n",
      "[40]\ttrain's multi_logloss: 0.0827773\tvalid's multi_logloss: 0.491017\n",
      "[60]\ttrain's multi_logloss: 0.0297431\tvalid's multi_logloss: 0.482579\n"
     ]
    },
    {
     "name": "stderr",
     "output_type": "stream",
     "text": [
      "2022-04-17 11:32:18 - src.train - INFO     [train.py:133] elapsed training time: 0.013 min\n",
      "2022-04-17 11:32:18 - src.train - INFO     [train.py:62] fold=31/33\n",
      "2022-04-17 11:32:18 - src.train - INFO     [train.py:63] reading cv index from data/cv_index/cv-model-test/iron_oxide/fold_7.csv\n"
     ]
    },
    {
     "name": "stdout",
     "output_type": "stream",
     "text": [
      "[80]\ttrain's multi_logloss: 0.0142815\tvalid's multi_logloss: 0.489934\n",
      "Early stopping, best iteration is:\n",
      "[61]\ttrain's multi_logloss: 0.0285639\tvalid's multi_logloss: 0.482484\n",
      "Training until validation scores don't improve for 20 rounds\n",
      "[20]\ttrain's multi_logloss: 0.297809\tvalid's multi_logloss: 0.521979\n",
      "[40]\ttrain's multi_logloss: 0.0859121\tvalid's multi_logloss: 0.373272\n"
     ]
    },
    {
     "name": "stderr",
     "output_type": "stream",
     "text": [
      "2022-04-17 11:32:18 - src.train - INFO     [train.py:133] elapsed training time: 0.010 min\n",
      "2022-04-17 11:32:18 - src.train - INFO     [train.py:62] fold=32/33\n",
      "2022-04-17 11:32:18 - src.train - INFO     [train.py:63] reading cv index from data/cv_index/cv-model-test/iron_oxide/fold_8.csv\n"
     ]
    },
    {
     "name": "stdout",
     "output_type": "stream",
     "text": [
      "[60]\ttrain's multi_logloss: 0.0311812\tvalid's multi_logloss: 0.343564\n",
      "[80]\ttrain's multi_logloss: 0.0148697\tvalid's multi_logloss: 0.332594\n",
      "Early stopping, best iteration is:\n",
      "[69]\ttrain's multi_logloss: 0.0216298\tvalid's multi_logloss: 0.32932\n",
      "Training until validation scores don't improve for 20 rounds\n",
      "[20]\ttrain's multi_logloss: 0.295302\tvalid's multi_logloss: 0.426748\n",
      "[40]\ttrain's multi_logloss: 0.0878688\tvalid's multi_logloss: 0.275463\n",
      "[60]\ttrain's multi_logloss: 0.0321656\tvalid's multi_logloss: 0.22729\n",
      "[80]\ttrain's multi_logloss: 0.0152037\tvalid's multi_logloss: 0.207917\n",
      "[100]\ttrain's multi_logloss: 0.00929599\tvalid's multi_logloss: 0.204858\n",
      "[120]\ttrain's multi_logloss: 0.00707122\tvalid's multi_logloss: 0.199938\n",
      "Early stopping, best iteration is:\n",
      "[119]\ttrain's multi_logloss: 0.00714342\tvalid's multi_logloss: 0.199557\n"
     ]
    },
    {
     "name": "stderr",
     "output_type": "stream",
     "text": [
      "2022-04-17 11:32:19 - src.train - INFO     [train.py:133] elapsed training time: 0.011 min\n",
      "2022-04-17 11:32:19 - src.train - INFO     [train.py:62] fold=33/33\n",
      "2022-04-17 11:32:19 - src.train - INFO     [train.py:63] reading cv index from data/cv_index/cv-model-test/iron_oxide/fold_9.csv\n"
     ]
    },
    {
     "name": "stdout",
     "output_type": "stream",
     "text": [
      "Training until validation scores don't improve for 20 rounds\n",
      "[20]\ttrain's multi_logloss: 0.293963\tvalid's multi_logloss: 0.471092\n",
      "[40]\ttrain's multi_logloss: 0.0842542\tvalid's multi_logloss: 0.334546\n"
     ]
    },
    {
     "name": "stderr",
     "output_type": "stream",
     "text": [
      "2022-04-17 11:32:20 - src.train - INFO     [train.py:133] elapsed training time: 0.007 min\n",
      "2022-04-17 11:32:20 - src.train - INFO     [train.py:62] fold=1/33\n",
      "2022-04-17 11:32:20 - src.train - INFO     [train.py:63] reading cv index from data/cv_index/cv-model-test/iron_oxide/fold_0.csv\n"
     ]
    },
    {
     "name": "stdout",
     "output_type": "stream",
     "text": [
      "[60]\ttrain's multi_logloss: 0.0305907\tvalid's multi_logloss: 0.300721\n",
      "[80]\ttrain's multi_logloss: 0.0145907\tvalid's multi_logloss: 0.298363\n",
      "Early stopping, best iteration is:\n",
      "[65]\ttrain's multi_logloss: 0.0246021\tvalid's multi_logloss: 0.295015\n",
      "80\n"
     ]
    },
    {
     "name": "stderr",
     "output_type": "stream",
     "text": [
      "2022-04-17 11:32:20 - src.train - INFO     [train.py:28] elapsed training time: 0.006 min\n",
      "2022-04-17 11:32:20 - src.train - INFO     [train.py:62] fold=2/33\n",
      "2022-04-17 11:32:20 - src.train - INFO     [train.py:63] reading cv index from data/cv_index/cv-model-test/iron_oxide/fold_1.csv\n",
      "2022-04-17 11:32:21 - src.train - INFO     [train.py:28] elapsed training time: 0.010 min\n",
      "2022-04-17 11:32:21 - src.train - INFO     [train.py:62] fold=3/33\n",
      "2022-04-17 11:32:21 - src.train - INFO     [train.py:63] reading cv index from data/cv_index/cv-model-test/iron_oxide/fold_10.csv\n",
      "2022-04-17 11:32:21 - src.train - INFO     [train.py:28] elapsed training time: 0.006 min\n",
      "2022-04-17 11:32:21 - src.train - INFO     [train.py:62] fold=4/33\n",
      "2022-04-17 11:32:21 - src.train - INFO     [train.py:63] reading cv index from data/cv_index/cv-model-test/iron_oxide/fold_11.csv\n",
      "2022-04-17 11:32:22 - src.train - INFO     [train.py:28] elapsed training time: 0.005 min\n",
      "2022-04-17 11:32:22 - src.train - INFO     [train.py:62] fold=5/33\n",
      "2022-04-17 11:32:22 - src.train - INFO     [train.py:63] reading cv index from data/cv_index/cv-model-test/iron_oxide/fold_12.csv\n",
      "2022-04-17 11:32:22 - src.train - INFO     [train.py:28] elapsed training time: 0.006 min\n",
      "2022-04-17 11:32:22 - src.train - INFO     [train.py:62] fold=6/33\n",
      "2022-04-17 11:32:22 - src.train - INFO     [train.py:63] reading cv index from data/cv_index/cv-model-test/iron_oxide/fold_13.csv\n",
      "2022-04-17 11:32:23 - src.train - INFO     [train.py:28] elapsed training time: 0.006 min\n",
      "2022-04-17 11:32:23 - src.train - INFO     [train.py:62] fold=7/33\n",
      "2022-04-17 11:32:23 - src.train - INFO     [train.py:63] reading cv index from data/cv_index/cv-model-test/iron_oxide/fold_14.csv\n",
      "2022-04-17 11:32:23 - src.train - INFO     [train.py:28] elapsed training time: 0.007 min\n",
      "2022-04-17 11:32:23 - src.train - INFO     [train.py:62] fold=8/33\n",
      "2022-04-17 11:32:23 - src.train - INFO     [train.py:63] reading cv index from data/cv_index/cv-model-test/iron_oxide/fold_15.csv\n",
      "2022-04-17 11:32:24 - src.train - INFO     [train.py:28] elapsed training time: 0.006 min\n",
      "2022-04-17 11:32:24 - src.train - INFO     [train.py:62] fold=9/33\n",
      "2022-04-17 11:32:24 - src.train - INFO     [train.py:63] reading cv index from data/cv_index/cv-model-test/iron_oxide/fold_16.csv\n",
      "2022-04-17 11:32:24 - src.train - INFO     [train.py:28] elapsed training time: 0.006 min\n",
      "2022-04-17 11:32:24 - src.train - INFO     [train.py:62] fold=10/33\n",
      "2022-04-17 11:32:24 - src.train - INFO     [train.py:63] reading cv index from data/cv_index/cv-model-test/iron_oxide/fold_17.csv\n",
      "2022-04-17 11:32:25 - src.train - INFO     [train.py:28] elapsed training time: 0.006 min\n",
      "2022-04-17 11:32:25 - src.train - INFO     [train.py:62] fold=11/33\n",
      "2022-04-17 11:32:25 - src.train - INFO     [train.py:63] reading cv index from data/cv_index/cv-model-test/iron_oxide/fold_18.csv\n",
      "2022-04-17 11:32:25 - src.train - INFO     [train.py:28] elapsed training time: 0.006 min\n",
      "2022-04-17 11:32:25 - src.train - INFO     [train.py:62] fold=12/33\n",
      "2022-04-17 11:32:25 - src.train - INFO     [train.py:63] reading cv index from data/cv_index/cv-model-test/iron_oxide/fold_19.csv\n",
      "2022-04-17 11:32:26 - src.train - INFO     [train.py:28] elapsed training time: 0.006 min\n",
      "2022-04-17 11:32:26 - src.train - INFO     [train.py:62] fold=13/33\n",
      "2022-04-17 11:32:26 - src.train - INFO     [train.py:63] reading cv index from data/cv_index/cv-model-test/iron_oxide/fold_2.csv\n",
      "2022-04-17 11:32:26 - src.train - INFO     [train.py:28] elapsed training time: 0.006 min\n",
      "2022-04-17 11:32:26 - src.train - INFO     [train.py:62] fold=14/33\n",
      "2022-04-17 11:32:26 - src.train - INFO     [train.py:63] reading cv index from data/cv_index/cv-model-test/iron_oxide/fold_20.csv\n",
      "2022-04-17 11:32:26 - src.train - INFO     [train.py:28] elapsed training time: 0.006 min\n",
      "2022-04-17 11:32:26 - src.train - INFO     [train.py:62] fold=15/33\n",
      "2022-04-17 11:32:26 - src.train - INFO     [train.py:63] reading cv index from data/cv_index/cv-model-test/iron_oxide/fold_21.csv\n",
      "2022-04-17 11:32:27 - src.train - INFO     [train.py:28] elapsed training time: 0.006 min\n",
      "2022-04-17 11:32:27 - src.train - INFO     [train.py:62] fold=16/33\n",
      "2022-04-17 11:32:27 - src.train - INFO     [train.py:63] reading cv index from data/cv_index/cv-model-test/iron_oxide/fold_22.csv\n",
      "2022-04-17 11:32:27 - src.train - INFO     [train.py:28] elapsed training time: 0.007 min\n",
      "2022-04-17 11:32:27 - src.train - INFO     [train.py:62] fold=17/33\n",
      "2022-04-17 11:32:27 - src.train - INFO     [train.py:63] reading cv index from data/cv_index/cv-model-test/iron_oxide/fold_23.csv\n",
      "2022-04-17 11:32:28 - src.train - INFO     [train.py:28] elapsed training time: 0.007 min\n",
      "2022-04-17 11:32:28 - src.train - INFO     [train.py:62] fold=18/33\n",
      "2022-04-17 11:32:28 - src.train - INFO     [train.py:63] reading cv index from data/cv_index/cv-model-test/iron_oxide/fold_24.csv\n",
      "2022-04-17 11:32:29 - src.train - INFO     [train.py:28] elapsed training time: 0.011 min\n",
      "2022-04-17 11:32:29 - src.train - INFO     [train.py:62] fold=19/33\n",
      "2022-04-17 11:32:29 - src.train - INFO     [train.py:63] reading cv index from data/cv_index/cv-model-test/iron_oxide/fold_25.csv\n",
      "2022-04-17 11:32:29 - src.train - INFO     [train.py:28] elapsed training time: 0.006 min\n",
      "2022-04-17 11:32:29 - src.train - INFO     [train.py:62] fold=20/33\n",
      "2022-04-17 11:32:29 - src.train - INFO     [train.py:63] reading cv index from data/cv_index/cv-model-test/iron_oxide/fold_26.csv\n",
      "2022-04-17 11:32:30 - src.train - INFO     [train.py:28] elapsed training time: 0.006 min\n",
      "2022-04-17 11:32:30 - src.train - INFO     [train.py:62] fold=21/33\n",
      "2022-04-17 11:32:30 - src.train - INFO     [train.py:63] reading cv index from data/cv_index/cv-model-test/iron_oxide/fold_27.csv\n",
      "2022-04-17 11:32:30 - src.train - INFO     [train.py:28] elapsed training time: 0.006 min\n",
      "2022-04-17 11:32:30 - src.train - INFO     [train.py:62] fold=22/33\n",
      "2022-04-17 11:32:30 - src.train - INFO     [train.py:63] reading cv index from data/cv_index/cv-model-test/iron_oxide/fold_28.csv\n",
      "2022-04-17 11:32:31 - src.train - INFO     [train.py:28] elapsed training time: 0.006 min\n",
      "2022-04-17 11:32:31 - src.train - INFO     [train.py:62] fold=23/33\n",
      "2022-04-17 11:32:31 - src.train - INFO     [train.py:63] reading cv index from data/cv_index/cv-model-test/iron_oxide/fold_29.csv\n",
      "2022-04-17 11:32:31 - src.train - INFO     [train.py:28] elapsed training time: 0.006 min\n",
      "2022-04-17 11:32:31 - src.train - INFO     [train.py:62] fold=24/33\n",
      "2022-04-17 11:32:31 - src.train - INFO     [train.py:63] reading cv index from data/cv_index/cv-model-test/iron_oxide/fold_3.csv\n",
      "2022-04-17 11:32:32 - src.train - INFO     [train.py:28] elapsed training time: 0.008 min\n",
      "2022-04-17 11:32:32 - src.train - INFO     [train.py:62] fold=25/33\n",
      "2022-04-17 11:32:32 - src.train - INFO     [train.py:63] reading cv index from data/cv_index/cv-model-test/iron_oxide/fold_30.csv\n",
      "2022-04-17 11:32:32 - src.train - INFO     [train.py:28] elapsed training time: 0.005 min\n",
      "2022-04-17 11:32:32 - src.train - INFO     [train.py:62] fold=26/33\n",
      "2022-04-17 11:32:32 - src.train - INFO     [train.py:63] reading cv index from data/cv_index/cv-model-test/iron_oxide/fold_31.csv\n",
      "2022-04-17 11:32:32 - src.train - INFO     [train.py:28] elapsed training time: 0.006 min\n",
      "2022-04-17 11:32:32 - src.train - INFO     [train.py:62] fold=27/33\n",
      "2022-04-17 11:32:32 - src.train - INFO     [train.py:63] reading cv index from data/cv_index/cv-model-test/iron_oxide/fold_32.csv\n",
      "2022-04-17 11:32:33 - src.train - INFO     [train.py:28] elapsed training time: 0.006 min\n",
      "2022-04-17 11:32:33 - src.train - INFO     [train.py:62] fold=28/33\n",
      "2022-04-17 11:32:33 - src.train - INFO     [train.py:63] reading cv index from data/cv_index/cv-model-test/iron_oxide/fold_4.csv\n",
      "2022-04-17 11:32:34 - src.train - INFO     [train.py:28] elapsed training time: 0.010 min\n",
      "2022-04-17 11:32:34 - src.train - INFO     [train.py:62] fold=29/33\n",
      "2022-04-17 11:32:34 - src.train - INFO     [train.py:63] reading cv index from data/cv_index/cv-model-test/iron_oxide/fold_5.csv\n",
      "2022-04-17 11:32:34 - src.train - INFO     [train.py:28] elapsed training time: 0.006 min\n",
      "2022-04-17 11:32:34 - src.train - INFO     [train.py:62] fold=30/33\n"
     ]
    },
    {
     "name": "stderr",
     "output_type": "stream",
     "text": [
      "2022-04-17 11:32:34 - src.train - INFO     [train.py:63] reading cv index from data/cv_index/cv-model-test/iron_oxide/fold_6.csv\n",
      "2022-04-17 11:32:34 - src.train - INFO     [train.py:28] elapsed training time: 0.006 min\n",
      "2022-04-17 11:32:34 - src.train - INFO     [train.py:62] fold=31/33\n",
      "2022-04-17 11:32:34 - src.train - INFO     [train.py:63] reading cv index from data/cv_index/cv-model-test/iron_oxide/fold_7.csv\n",
      "2022-04-17 11:32:35 - src.train - INFO     [train.py:28] elapsed training time: 0.005 min\n",
      "2022-04-17 11:32:35 - src.train - INFO     [train.py:62] fold=32/33\n",
      "2022-04-17 11:32:35 - src.train - INFO     [train.py:63] reading cv index from data/cv_index/cv-model-test/iron_oxide/fold_8.csv\n",
      "2022-04-17 11:32:35 - src.train - INFO     [train.py:28] elapsed training time: 0.006 min\n",
      "2022-04-17 11:32:35 - src.train - INFO     [train.py:62] fold=33/33\n",
      "2022-04-17 11:32:35 - src.train - INFO     [train.py:63] reading cv index from data/cv_index/cv-model-test/iron_oxide/fold_9.csv\n",
      "2022-04-17 11:32:36 - src.train - INFO     [train.py:28] elapsed training time: 0.006 min\n",
      "2022-04-17 11:32:36 - src.train - INFO     [train.py:62] fold=1/33\n",
      "2022-04-17 11:32:36 - src.train - INFO     [train.py:63] reading cv index from data/cv_index/cv-model-test/oxalate/fold_0.csv\n"
     ]
    },
    {
     "name": "stdout",
     "output_type": "stream",
     "text": [
      "Training until validation scores don't improve for 20 rounds\n",
      "[20]\ttrain's multi_logloss: 0.17378\tvalid's multi_logloss: 0.302849\n",
      "[40]\ttrain's multi_logloss: 0.043201\tvalid's multi_logloss: 0.177138\n",
      "[60]\ttrain's multi_logloss: 0.0146998\tvalid's multi_logloss: 0.145841\n"
     ]
    },
    {
     "name": "stderr",
     "output_type": "stream",
     "text": [
      "2022-04-17 11:32:36 - src.train - INFO     [train.py:133] elapsed training time: 0.006 min\n",
      "2022-04-17 11:32:36 - src.train - INFO     [train.py:62] fold=2/33\n",
      "2022-04-17 11:32:36 - src.train - INFO     [train.py:63] reading cv index from data/cv_index/cv-model-test/oxalate/fold_1.csv\n"
     ]
    },
    {
     "name": "stdout",
     "output_type": "stream",
     "text": [
      "[80]\ttrain's multi_logloss: 0.00677795\tvalid's multi_logloss: 0.138345\n",
      "[100]\ttrain's multi_logloss: 0.0042755\tvalid's multi_logloss: 0.140614\n",
      "Early stopping, best iteration is:\n",
      "[83]\ttrain's multi_logloss: 0.00617114\tvalid's multi_logloss: 0.137626\n",
      "Training until validation scores don't improve for 20 rounds\n",
      "[20]\ttrain's multi_logloss: 0.169768\tvalid's multi_logloss: 0.311963\n",
      "[40]\ttrain's multi_logloss: 0.0416378\tvalid's multi_logloss: 0.215011\n",
      "[60]\ttrain's multi_logloss: 0.0137913\tvalid's multi_logloss: 0.198568\n"
     ]
    },
    {
     "name": "stderr",
     "output_type": "stream",
     "text": [
      "2022-04-17 11:32:37 - src.train - INFO     [train.py:133] elapsed training time: 0.006 min\n",
      "2022-04-17 11:32:37 - src.train - INFO     [train.py:62] fold=3/33\n",
      "2022-04-17 11:32:37 - src.train - INFO     [train.py:63] reading cv index from data/cv_index/cv-model-test/oxalate/fold_10.csv\n"
     ]
    },
    {
     "name": "stdout",
     "output_type": "stream",
     "text": [
      "[80]\ttrain's multi_logloss: 0.0063949\tvalid's multi_logloss: 0.198846\n",
      "Early stopping, best iteration is:\n",
      "[70]\ttrain's multi_logloss: 0.0090192\tvalid's multi_logloss: 0.196479\n",
      "Training until validation scores don't improve for 20 rounds\n",
      "[20]\ttrain's multi_logloss: 0.172643\tvalid's multi_logloss: 0.260285\n",
      "[40]\ttrain's multi_logloss: 0.0440078\tvalid's multi_logloss: 0.130993\n",
      "[60]\ttrain's multi_logloss: 0.0145916\tvalid's multi_logloss: 0.0983817\n"
     ]
    },
    {
     "name": "stderr",
     "output_type": "stream",
     "text": [
      "2022-04-17 11:32:37 - src.train - INFO     [train.py:133] elapsed training time: 0.008 min\n",
      "2022-04-17 11:32:37 - src.train - INFO     [train.py:62] fold=4/33\n",
      "2022-04-17 11:32:37 - src.train - INFO     [train.py:63] reading cv index from data/cv_index/cv-model-test/oxalate/fold_11.csv\n"
     ]
    },
    {
     "name": "stdout",
     "output_type": "stream",
     "text": [
      "[80]\ttrain's multi_logloss: 0.00660038\tvalid's multi_logloss: 0.0912415\n",
      "[100]\ttrain's multi_logloss: 0.00424166\tvalid's multi_logloss: 0.0857651\n",
      "[120]\ttrain's multi_logloss: 0.00343529\tvalid's multi_logloss: 0.0832902\n",
      "[140]\ttrain's multi_logloss: 0.00318106\tvalid's multi_logloss: 0.0821195\n",
      "Early stopping, best iteration is:\n",
      "[139]\ttrain's multi_logloss: 0.00318565\tvalid's multi_logloss: 0.0819584\n",
      "Training until validation scores don't improve for 20 rounds\n",
      "[20]\ttrain's multi_logloss: 0.164985\tvalid's multi_logloss: 0.295744\n",
      "[40]\ttrain's multi_logloss: 0.0402798\tvalid's multi_logloss: 0.196089\n",
      "[60]\ttrain's multi_logloss: 0.0131507\tvalid's multi_logloss: 0.167148\n"
     ]
    },
    {
     "name": "stderr",
     "output_type": "stream",
     "text": [
      "2022-04-17 11:32:38 - src.train - INFO     [train.py:133] elapsed training time: 0.007 min\n",
      "2022-04-17 11:32:38 - src.train - INFO     [train.py:62] fold=5/33\n",
      "2022-04-17 11:32:38 - src.train - INFO     [train.py:63] reading cv index from data/cv_index/cv-model-test/oxalate/fold_12.csv\n"
     ]
    },
    {
     "name": "stdout",
     "output_type": "stream",
     "text": [
      "[80]\ttrain's multi_logloss: 0.0061089\tvalid's multi_logloss: 0.165621\n",
      "[100]\ttrain's multi_logloss: 0.00400635\tvalid's multi_logloss: 0.165439\n",
      "Early stopping, best iteration is:\n",
      "[88]\ttrain's multi_logloss: 0.00499551\tvalid's multi_logloss: 0.163992\n"
     ]
    },
    {
     "name": "stderr",
     "output_type": "stream",
     "text": [
      "2022-04-17 11:32:38 - src.train - INFO     [train.py:133] elapsed training time: 0.005 min\n",
      "2022-04-17 11:32:38 - src.train - INFO     [train.py:62] fold=6/33\n",
      "2022-04-17 11:32:38 - src.train - INFO     [train.py:63] reading cv index from data/cv_index/cv-model-test/oxalate/fold_13.csv\n"
     ]
    },
    {
     "name": "stdout",
     "output_type": "stream",
     "text": [
      "Training until validation scores don't improve for 20 rounds\n",
      "[20]\ttrain's multi_logloss: 0.170826\tvalid's multi_logloss: 0.280201\n",
      "[40]\ttrain's multi_logloss: 0.0427184\tvalid's multi_logloss: 0.183899\n",
      "[60]\ttrain's multi_logloss: 0.0141695\tvalid's multi_logloss: 0.18745\n",
      "Early stopping, best iteration is:\n",
      "[44]\ttrain's multi_logloss: 0.0335823\tvalid's multi_logloss: 0.178291\n",
      "Training until validation scores don't improve for 20 rounds\n",
      "[20]\ttrain's multi_logloss: 0.173698\tvalid's multi_logloss: 0.294405\n",
      "[40]\ttrain's multi_logloss: 0.0423045\tvalid's multi_logloss: 0.19943\n",
      "[60]\ttrain's multi_logloss: 0.0139877\tvalid's multi_logloss: 0.190272\n"
     ]
    },
    {
     "name": "stderr",
     "output_type": "stream",
     "text": [
      "2022-04-17 11:32:39 - src.train - INFO     [train.py:133] elapsed training time: 0.007 min\n",
      "2022-04-17 11:32:39 - src.train - INFO     [train.py:62] fold=7/33\n",
      "2022-04-17 11:32:39 - src.train - INFO     [train.py:63] reading cv index from data/cv_index/cv-model-test/oxalate/fold_14.csv\n"
     ]
    },
    {
     "name": "stdout",
     "output_type": "stream",
     "text": [
      "[80]\ttrain's multi_logloss: 0.00641234\tvalid's multi_logloss: 0.185536\n",
      "Early stopping, best iteration is:\n",
      "[73]\ttrain's multi_logloss: 0.00817905\tvalid's multi_logloss: 0.179256\n",
      "Training until validation scores don't improve for 20 rounds\n",
      "[20]\ttrain's multi_logloss: 0.167659\tvalid's multi_logloss: 0.312963\n",
      "[40]\ttrain's multi_logloss: 0.0409265\tvalid's multi_logloss: 0.22733\n",
      "[60]\ttrain's multi_logloss: 0.0134101\tvalid's multi_logloss: 0.222204\n",
      "[80]\ttrain's multi_logloss: 0.00627243\tvalid's multi_logloss: 0.218646\n"
     ]
    },
    {
     "name": "stderr",
     "output_type": "stream",
     "text": [
      "2022-04-17 11:32:39 - src.train - INFO     [train.py:133] elapsed training time: 0.007 min\n",
      "2022-04-17 11:32:39 - src.train - INFO     [train.py:62] fold=8/33\n",
      "2022-04-17 11:32:39 - src.train - INFO     [train.py:63] reading cv index from data/cv_index/cv-model-test/oxalate/fold_15.csv\n"
     ]
    },
    {
     "name": "stdout",
     "output_type": "stream",
     "text": [
      "[100]\ttrain's multi_logloss: 0.00406296\tvalid's multi_logloss: 0.216029\n",
      "[120]\ttrain's multi_logloss: 0.00340768\tvalid's multi_logloss: 0.217463\n",
      "Early stopping, best iteration is:\n",
      "[100]\ttrain's multi_logloss: 0.00406296\tvalid's multi_logloss: 0.216029\n",
      "Training until validation scores don't improve for 20 rounds\n",
      "[20]\ttrain's multi_logloss: 0.172412\tvalid's multi_logloss: 0.249042\n",
      "[40]\ttrain's multi_logloss: 0.0432532\tvalid's multi_logloss: 0.118193\n",
      "[60]\ttrain's multi_logloss: 0.0146182\tvalid's multi_logloss: 0.089054\n",
      "[80]\ttrain's multi_logloss: 0.00680438\tvalid's multi_logloss: 0.0833119\n"
     ]
    },
    {
     "name": "stderr",
     "output_type": "stream",
     "text": [
      "2022-04-17 11:32:40 - src.train - INFO     [train.py:133] elapsed training time: 0.006 min\n",
      "2022-04-17 11:32:40 - src.train - INFO     [train.py:62] fold=9/33\n",
      "2022-04-17 11:32:40 - src.train - INFO     [train.py:63] reading cv index from data/cv_index/cv-model-test/oxalate/fold_16.csv\n"
     ]
    },
    {
     "name": "stdout",
     "output_type": "stream",
     "text": [
      "Early stopping, best iteration is:\n",
      "[74]\ttrain's multi_logloss: 0.00831909\tvalid's multi_logloss: 0.0793076\n"
     ]
    },
    {
     "name": "stderr",
     "output_type": "stream",
     "text": [
      "2022-04-17 11:32:40 - src.train - INFO     [train.py:133] elapsed training time: 0.006 min\n",
      "2022-04-17 11:32:40 - src.train - INFO     [train.py:62] fold=10/33\n",
      "2022-04-17 11:32:40 - src.train - INFO     [train.py:63] reading cv index from data/cv_index/cv-model-test/oxalate/fold_17.csv\n"
     ]
    },
    {
     "name": "stdout",
     "output_type": "stream",
     "text": [
      "Training until validation scores don't improve for 20 rounds\n",
      "[20]\ttrain's multi_logloss: 0.168609\tvalid's multi_logloss: 0.232255\n",
      "[40]\ttrain's multi_logloss: 0.0426112\tvalid's multi_logloss: 0.168681\n",
      "[60]\ttrain's multi_logloss: 0.0142381\tvalid's multi_logloss: 0.179962\n",
      "Early stopping, best iteration is:\n",
      "[40]\ttrain's multi_logloss: 0.0426112\tvalid's multi_logloss: 0.168681\n"
     ]
    },
    {
     "name": "stderr",
     "output_type": "stream",
     "text": [
      "2022-04-17 11:32:41 - src.train - INFO     [train.py:133] elapsed training time: 0.005 min\n",
      "2022-04-17 11:32:41 - src.train - INFO     [train.py:62] fold=11/33\n",
      "2022-04-17 11:32:41 - src.train - INFO     [train.py:63] reading cv index from data/cv_index/cv-model-test/oxalate/fold_18.csv\n"
     ]
    },
    {
     "name": "stdout",
     "output_type": "stream",
     "text": [
      "Training until validation scores don't improve for 20 rounds\n",
      "[20]\ttrain's multi_logloss: 0.168566\tvalid's multi_logloss: 0.274809\n",
      "[40]\ttrain's multi_logloss: 0.0410638\tvalid's multi_logloss: 0.208722\n",
      "[60]\ttrain's multi_logloss: 0.0135696\tvalid's multi_logloss: 0.218383\n",
      "Early stopping, best iteration is:\n",
      "[41]\ttrain's multi_logloss: 0.0386988\tvalid's multi_logloss: 0.206997\n",
      "Training until validation scores don't improve for 20 rounds\n",
      "[20]\ttrain's multi_logloss: 0.167441\tvalid's multi_logloss: 0.34598\n",
      "[40]\ttrain's multi_logloss: 0.04059\tvalid's multi_logloss: 0.256867\n",
      "[60]\ttrain's multi_logloss: 0.0134564\tvalid's multi_logloss: 0.244761\n"
     ]
    },
    {
     "name": "stderr",
     "output_type": "stream",
     "text": [
      "2022-04-17 11:32:41 - src.train - INFO     [train.py:133] elapsed training time: 0.007 min\n",
      "2022-04-17 11:32:41 - src.train - INFO     [train.py:62] fold=12/33\n",
      "2022-04-17 11:32:41 - src.train - INFO     [train.py:63] reading cv index from data/cv_index/cv-model-test/oxalate/fold_19.csv\n"
     ]
    },
    {
     "name": "stdout",
     "output_type": "stream",
     "text": [
      "[80]\ttrain's multi_logloss: 0.00629148\tvalid's multi_logloss: 0.240269\n",
      "[100]\ttrain's multi_logloss: 0.00399262\tvalid's multi_logloss: 0.23921\n",
      "Early stopping, best iteration is:\n",
      "[84]\ttrain's multi_logloss: 0.00553781\tvalid's multi_logloss: 0.237297\n",
      "Training until validation scores don't improve for 20 rounds\n",
      "[20]\ttrain's multi_logloss: 0.168234\tvalid's multi_logloss: 0.258699\n",
      "[40]\ttrain's multi_logloss: 0.0408562\tvalid's multi_logloss: 0.182154\n"
     ]
    },
    {
     "name": "stderr",
     "output_type": "stream",
     "text": [
      "2022-04-17 11:32:42 - src.train - INFO     [train.py:133] elapsed training time: 0.007 min\n",
      "2022-04-17 11:32:42 - src.train - INFO     [train.py:62] fold=13/33\n",
      "2022-04-17 11:32:42 - src.train - INFO     [train.py:63] reading cv index from data/cv_index/cv-model-test/oxalate/fold_2.csv\n"
     ]
    },
    {
     "name": "stdout",
     "output_type": "stream",
     "text": [
      "[60]\ttrain's multi_logloss: 0.0136202\tvalid's multi_logloss: 0.177427\n",
      "Early stopping, best iteration is:\n",
      "[53]\ttrain's multi_logloss: 0.0191082\tvalid's multi_logloss: 0.174996\n",
      "Training until validation scores don't improve for 20 rounds\n",
      "[20]\ttrain's multi_logloss: 0.170883\tvalid's multi_logloss: 0.317039\n",
      "[40]\ttrain's multi_logloss: 0.0414341\tvalid's multi_logloss: 0.217765\n",
      "[60]\ttrain's multi_logloss: 0.0135275\tvalid's multi_logloss: 0.213139\n"
     ]
    },
    {
     "name": "stderr",
     "output_type": "stream",
     "text": [
      "2022-04-17 11:32:42 - src.train - INFO     [train.py:133] elapsed training time: 0.006 min\n",
      "2022-04-17 11:32:42 - src.train - INFO     [train.py:62] fold=14/33\n",
      "2022-04-17 11:32:42 - src.train - INFO     [train.py:63] reading cv index from data/cv_index/cv-model-test/oxalate/fold_20.csv\n"
     ]
    },
    {
     "name": "stdout",
     "output_type": "stream",
     "text": [
      "Early stopping, best iteration is:\n",
      "[51]\ttrain's multi_logloss: 0.0214744\tvalid's multi_logloss: 0.206908\n",
      "Training until validation scores don't improve for 20 rounds\n",
      "[20]\ttrain's multi_logloss: 0.170955\tvalid's multi_logloss: 0.29165\n",
      "[40]\ttrain's multi_logloss: 0.0415282\tvalid's multi_logloss: 0.222733\n",
      "[60]\ttrain's multi_logloss: 0.0139554\tvalid's multi_logloss: 0.226718\n"
     ]
    },
    {
     "name": "stderr",
     "output_type": "stream",
     "text": [
      "2022-04-17 11:32:43 - src.train - INFO     [train.py:133] elapsed training time: 0.006 min\n",
      "2022-04-17 11:32:43 - src.train - INFO     [train.py:62] fold=15/33\n",
      "2022-04-17 11:32:43 - src.train - INFO     [train.py:63] reading cv index from data/cv_index/cv-model-test/oxalate/fold_21.csv\n"
     ]
    },
    {
     "name": "stdout",
     "output_type": "stream",
     "text": [
      "Early stopping, best iteration is:\n",
      "[50]\ttrain's multi_logloss: 0.02295\tvalid's multi_logloss: 0.219856\n",
      "Training until validation scores don't improve for 20 rounds\n",
      "[20]\ttrain's multi_logloss: 0.171267\tvalid's multi_logloss: 0.272473\n",
      "[40]\ttrain's multi_logloss: 0.0436753\tvalid's multi_logloss: 0.158244\n",
      "[60]\ttrain's multi_logloss: 0.0146877\tvalid's multi_logloss: 0.127756\n",
      "[80]\ttrain's multi_logloss: 0.00674242\tvalid's multi_logloss: 0.111406\n",
      "[100]\ttrain's multi_logloss: 0.0042346\tvalid's multi_logloss: 0.102989\n",
      "[120]\ttrain's multi_logloss: 0.00347426\tvalid's multi_logloss: 0.0981453\n"
     ]
    },
    {
     "name": "stderr",
     "output_type": "stream",
     "text": [
      "2022-04-17 11:32:44 - src.train - INFO     [train.py:133] elapsed training time: 0.027 min\n",
      "2022-04-17 11:32:44 - src.train - INFO     [train.py:62] fold=16/33\n",
      "2022-04-17 11:32:44 - src.train - INFO     [train.py:63] reading cv index from data/cv_index/cv-model-test/oxalate/fold_22.csv\n"
     ]
    },
    {
     "name": "stdout",
     "output_type": "stream",
     "text": [
      "[140]\ttrain's multi_logloss: 0.00329902\tvalid's multi_logloss: 0.0981842\n",
      "Early stopping, best iteration is:\n",
      "[131]\ttrain's multi_logloss: 0.00332148\tvalid's multi_logloss: 0.097935\n",
      "Training until validation scores don't improve for 20 rounds\n",
      "[20]\ttrain's multi_logloss: 0.169347\tvalid's multi_logloss: 0.278158\n",
      "[40]\ttrain's multi_logloss: 0.0420649\tvalid's multi_logloss: 0.184685\n",
      "[60]\ttrain's multi_logloss: 0.0139709\tvalid's multi_logloss: 0.175185\n"
     ]
    },
    {
     "name": "stderr",
     "output_type": "stream",
     "text": [
      "2022-04-17 11:32:46 - src.train - INFO     [train.py:133] elapsed training time: 0.018 min\n",
      "2022-04-17 11:32:46 - src.train - INFO     [train.py:62] fold=17/33\n",
      "2022-04-17 11:32:46 - src.train - INFO     [train.py:63] reading cv index from data/cv_index/cv-model-test/oxalate/fold_23.csv\n"
     ]
    },
    {
     "name": "stdout",
     "output_type": "stream",
     "text": [
      "[80]\ttrain's multi_logloss: 0.00642946\tvalid's multi_logloss: 0.177148\n",
      "Early stopping, best iteration is:\n",
      "[71]\ttrain's multi_logloss: 0.00870318\tvalid's multi_logloss: 0.171011\n",
      "Training until validation scores don't improve for 20 rounds\n",
      "[20]\ttrain's multi_logloss: 0.169522\tvalid's multi_logloss: 0.299473\n",
      "[40]\ttrain's multi_logloss: 0.0413979\tvalid's multi_logloss: 0.245952\n"
     ]
    },
    {
     "name": "stderr",
     "output_type": "stream",
     "text": [
      "2022-04-17 11:32:47 - src.train - INFO     [train.py:133] elapsed training time: 0.029 min\n",
      "2022-04-17 11:32:47 - src.train - INFO     [train.py:62] fold=18/33\n",
      "2022-04-17 11:32:47 - src.train - INFO     [train.py:63] reading cv index from data/cv_index/cv-model-test/oxalate/fold_24.csv\n"
     ]
    },
    {
     "name": "stdout",
     "output_type": "stream",
     "text": [
      "[60]\ttrain's multi_logloss: 0.0133465\tvalid's multi_logloss: 0.249886\n",
      "Early stopping, best iteration is:\n",
      "[45]\ttrain's multi_logloss: 0.029954\tvalid's multi_logloss: 0.241934\n",
      "Training until validation scores don't improve for 20 rounds\n",
      "[20]\ttrain's multi_logloss: 0.170329\tvalid's multi_logloss: 0.2739\n",
      "[40]\ttrain's multi_logloss: 0.041693\tvalid's multi_logloss: 0.17736\n",
      "[60]\ttrain's multi_logloss: 0.0136367\tvalid's multi_logloss: 0.159647\n"
     ]
    },
    {
     "name": "stderr",
     "output_type": "stream",
     "text": [
      "2022-04-17 11:32:48 - src.train - INFO     [train.py:133] elapsed training time: 0.007 min\n",
      "2022-04-17 11:32:48 - src.train - INFO     [train.py:62] fold=19/33\n",
      "2022-04-17 11:32:48 - src.train - INFO     [train.py:63] reading cv index from data/cv_index/cv-model-test/oxalate/fold_25.csv\n"
     ]
    },
    {
     "name": "stdout",
     "output_type": "stream",
     "text": [
      "[80]\ttrain's multi_logloss: 0.00623518\tvalid's multi_logloss: 0.159339\n",
      "Early stopping, best iteration is:\n",
      "[63]\ttrain's multi_logloss: 0.0118315\tvalid's multi_logloss: 0.157049\n",
      "Training until validation scores don't improve for 20 rounds\n",
      "[20]\ttrain's multi_logloss: 0.168335\tvalid's multi_logloss: 0.282079\n",
      "[40]\ttrain's multi_logloss: 0.0413105\tvalid's multi_logloss: 0.19444\n",
      "[60]\ttrain's multi_logloss: 0.0135443\tvalid's multi_logloss: 0.179468\n"
     ]
    },
    {
     "name": "stderr",
     "output_type": "stream",
     "text": [
      "2022-04-17 11:32:49 - src.train - INFO     [train.py:133] elapsed training time: 0.008 min\n",
      "2022-04-17 11:32:49 - src.train - INFO     [train.py:62] fold=20/33\n",
      "2022-04-17 11:32:49 - src.train - INFO     [train.py:63] reading cv index from data/cv_index/cv-model-test/oxalate/fold_26.csv\n"
     ]
    },
    {
     "name": "stdout",
     "output_type": "stream",
     "text": [
      "[80]\ttrain's multi_logloss: 0.00625105\tvalid's multi_logloss: 0.17552\n",
      "[100]\ttrain's multi_logloss: 0.00401293\tvalid's multi_logloss: 0.171129\n",
      "[120]\ttrain's multi_logloss: 0.00331775\tvalid's multi_logloss: 0.172431\n",
      "Early stopping, best iteration is:\n",
      "[100]\ttrain's multi_logloss: 0.00401293\tvalid's multi_logloss: 0.171129\n",
      "Training until validation scores don't improve for 20 rounds\n",
      "[20]\ttrain's multi_logloss: 0.171593\tvalid's multi_logloss: 0.293197\n",
      "[40]\ttrain's multi_logloss: 0.0421934\tvalid's multi_logloss: 0.197223\n",
      "[60]\ttrain's multi_logloss: 0.014213\tvalid's multi_logloss: 0.184641\n"
     ]
    },
    {
     "name": "stderr",
     "output_type": "stream",
     "text": [
      "2022-04-17 11:32:49 - src.train - INFO     [train.py:133] elapsed training time: 0.007 min\n",
      "2022-04-17 11:32:49 - src.train - INFO     [train.py:62] fold=21/33\n",
      "2022-04-17 11:32:49 - src.train - INFO     [train.py:63] reading cv index from data/cv_index/cv-model-test/oxalate/fold_27.csv\n"
     ]
    },
    {
     "name": "stdout",
     "output_type": "stream",
     "text": [
      "[80]\ttrain's multi_logloss: 0.00661889\tvalid's multi_logloss: 0.179329\n",
      "[100]\ttrain's multi_logloss: 0.00412892\tvalid's multi_logloss: 0.177871\n",
      "Early stopping, best iteration is:\n",
      "[87]\ttrain's multi_logloss: 0.00541637\tvalid's multi_logloss: 0.175177\n",
      "Training until validation scores don't improve for 20 rounds\n",
      "[20]\ttrain's multi_logloss: 0.173415\tvalid's multi_logloss: 0.3159\n",
      "[40]\ttrain's multi_logloss: 0.0427318\tvalid's multi_logloss: 0.215027\n",
      "[60]\ttrain's multi_logloss: 0.0142744\tvalid's multi_logloss: 0.203227\n",
      "[80]\ttrain's multi_logloss: 0.00670365\tvalid's multi_logloss: 0.191737\n"
     ]
    },
    {
     "name": "stderr",
     "output_type": "stream",
     "text": [
      "2022-04-17 11:32:50 - src.train - INFO     [train.py:133] elapsed training time: 0.007 min\n",
      "2022-04-17 11:32:50 - src.train - INFO     [train.py:62] fold=22/33\n",
      "2022-04-17 11:32:50 - src.train - INFO     [train.py:63] reading cv index from data/cv_index/cv-model-test/oxalate/fold_28.csv\n"
     ]
    },
    {
     "name": "stdout",
     "output_type": "stream",
     "text": [
      "[100]\ttrain's multi_logloss: 0.00425075\tvalid's multi_logloss: 0.195322\n",
      "Early stopping, best iteration is:\n",
      "[80]\ttrain's multi_logloss: 0.00670365\tvalid's multi_logloss: 0.191737\n",
      "Training until validation scores don't improve for 20 rounds\n",
      "[20]\ttrain's multi_logloss: 0.16754\tvalid's multi_logloss: 0.303489\n",
      "[40]\ttrain's multi_logloss: 0.041684\tvalid's multi_logloss: 0.231484\n",
      "[60]\ttrain's multi_logloss: 0.013824\tvalid's multi_logloss: 0.21237\n"
     ]
    },
    {
     "name": "stderr",
     "output_type": "stream",
     "text": [
      "2022-04-17 11:32:50 - src.train - INFO     [train.py:133] elapsed training time: 0.006 min\n",
      "2022-04-17 11:32:50 - src.train - INFO     [train.py:62] fold=23/33\n",
      "2022-04-17 11:32:50 - src.train - INFO     [train.py:63] reading cv index from data/cv_index/cv-model-test/oxalate/fold_29.csv\n"
     ]
    },
    {
     "name": "stdout",
     "output_type": "stream",
     "text": [
      "[80]\ttrain's multi_logloss: 0.0063355\tvalid's multi_logloss: 0.212638\n",
      "Early stopping, best iteration is:\n",
      "[64]\ttrain's multi_logloss: 0.0115953\tvalid's multi_logloss: 0.210724\n"
     ]
    },
    {
     "name": "stderr",
     "output_type": "stream",
     "text": [
      "2022-04-17 11:32:51 - src.train - INFO     [train.py:133] elapsed training time: 0.005 min\n",
      "2022-04-17 11:32:51 - src.train - INFO     [train.py:62] fold=24/33\n",
      "2022-04-17 11:32:51 - src.train - INFO     [train.py:63] reading cv index from data/cv_index/cv-model-test/oxalate/fold_3.csv\n"
     ]
    },
    {
     "name": "stdout",
     "output_type": "stream",
     "text": [
      "Training until validation scores don't improve for 20 rounds\n",
      "[20]\ttrain's multi_logloss: 0.165932\tvalid's multi_logloss: 0.265156\n",
      "[40]\ttrain's multi_logloss: 0.0408643\tvalid's multi_logloss: 0.171775\n",
      "[60]\ttrain's multi_logloss: 0.0138215\tvalid's multi_logloss: 0.168216\n",
      "Early stopping, best iteration is:\n",
      "[47]\ttrain's multi_logloss: 0.0270204\tvalid's multi_logloss: 0.164801\n",
      "Training until validation scores don't improve for 20 rounds\n",
      "[20]\ttrain's multi_logloss: 0.17538\tvalid's multi_logloss: 0.286796\n",
      "[40]\ttrain's multi_logloss: 0.045075\tvalid's multi_logloss: 0.166749\n",
      "[60]\ttrain's multi_logloss: 0.0151171\tvalid's multi_logloss: 0.142323\n"
     ]
    },
    {
     "name": "stderr",
     "output_type": "stream",
     "text": [
      "2022-04-17 11:32:51 - src.train - INFO     [train.py:133] elapsed training time: 0.006 min\n",
      "2022-04-17 11:32:51 - src.train - INFO     [train.py:62] fold=25/33\n",
      "2022-04-17 11:32:51 - src.train - INFO     [train.py:63] reading cv index from data/cv_index/cv-model-test/oxalate/fold_30.csv\n"
     ]
    },
    {
     "name": "stdout",
     "output_type": "stream",
     "text": [
      "[80]\ttrain's multi_logloss: 0.00692188\tvalid's multi_logloss: 0.135511\n",
      "[100]\ttrain's multi_logloss: 0.00435352\tvalid's multi_logloss: 0.138147\n",
      "Early stopping, best iteration is:\n",
      "[81]\ttrain's multi_logloss: 0.00675165\tvalid's multi_logloss: 0.135417\n",
      "Training until validation scores don't improve for 20 rounds\n",
      "[20]\ttrain's multi_logloss: 0.177738\tvalid's multi_logloss: 0.22378\n",
      "[40]\ttrain's multi_logloss: 0.0442968\tvalid's multi_logloss: 0.110893\n",
      "[60]\ttrain's multi_logloss: 0.0147341\tvalid's multi_logloss: 0.0859044\n"
     ]
    },
    {
     "name": "stderr",
     "output_type": "stream",
     "text": [
      "2022-04-17 11:32:52 - src.train - INFO     [train.py:133] elapsed training time: 0.008 min\n",
      "2022-04-17 11:32:52 - src.train - INFO     [train.py:62] fold=26/33\n",
      "2022-04-17 11:32:52 - src.train - INFO     [train.py:63] reading cv index from data/cv_index/cv-model-test/oxalate/fold_31.csv\n"
     ]
    },
    {
     "name": "stdout",
     "output_type": "stream",
     "text": [
      "[80]\ttrain's multi_logloss: 0.00683762\tvalid's multi_logloss: 0.0761048\n",
      "[100]\ttrain's multi_logloss: 0.00433838\tvalid's multi_logloss: 0.0725565\n",
      "[120]\ttrain's multi_logloss: 0.00345748\tvalid's multi_logloss: 0.0706027\n",
      "[140]\ttrain's multi_logloss: 0.00323249\tvalid's multi_logloss: 0.0702403\n",
      "Early stopping, best iteration is:\n",
      "[136]\ttrain's multi_logloss: 0.00324628\tvalid's multi_logloss: 0.0700438\n",
      "Training until validation scores don't improve for 20 rounds\n",
      "[20]\ttrain's multi_logloss: 0.173117\tvalid's multi_logloss: 0.292863\n",
      "[40]\ttrain's multi_logloss: 0.0416857\tvalid's multi_logloss: 0.204627\n",
      "[60]\ttrain's multi_logloss: 0.0140309\tvalid's multi_logloss: 0.190053\n"
     ]
    },
    {
     "name": "stderr",
     "output_type": "stream",
     "text": [
      "2022-04-17 11:32:52 - src.train - INFO     [train.py:133] elapsed training time: 0.006 min\n",
      "2022-04-17 11:32:52 - src.train - INFO     [train.py:62] fold=27/33\n",
      "2022-04-17 11:32:52 - src.train - INFO     [train.py:63] reading cv index from data/cv_index/cv-model-test/oxalate/fold_32.csv\n"
     ]
    },
    {
     "name": "stdout",
     "output_type": "stream",
     "text": [
      "[80]\ttrain's multi_logloss: 0.00649957\tvalid's multi_logloss: 0.188712\n",
      "Early stopping, best iteration is:\n",
      "[63]\ttrain's multi_logloss: 0.0122375\tvalid's multi_logloss: 0.18717\n",
      "Training until validation scores don't improve for 20 rounds\n",
      "[20]\ttrain's multi_logloss: 0.176181\tvalid's multi_logloss: 0.2795\n",
      "[40]\ttrain's multi_logloss: 0.0427648\tvalid's multi_logloss: 0.18299\n",
      "[60]\ttrain's multi_logloss: 0.0143547\tvalid's multi_logloss: 0.168088\n"
     ]
    },
    {
     "name": "stderr",
     "output_type": "stream",
     "text": [
      "2022-04-17 11:32:53 - src.train - INFO     [train.py:133] elapsed training time: 0.006 min\n",
      "2022-04-17 11:32:53 - src.train - INFO     [train.py:62] fold=28/33\n",
      "2022-04-17 11:32:53 - src.train - INFO     [train.py:63] reading cv index from data/cv_index/cv-model-test/oxalate/fold_4.csv\n"
     ]
    },
    {
     "name": "stdout",
     "output_type": "stream",
     "text": [
      "[80]\ttrain's multi_logloss: 0.00662998\tvalid's multi_logloss: 0.174398\n",
      "Early stopping, best iteration is:\n",
      "[60]\ttrain's multi_logloss: 0.0143547\tvalid's multi_logloss: 0.168088\n",
      "Training until validation scores don't improve for 20 rounds\n",
      "[20]\ttrain's multi_logloss: 0.170604\tvalid's multi_logloss: 0.237611\n",
      "[40]\ttrain's multi_logloss: 0.0433753\tvalid's multi_logloss: 0.132948\n",
      "[60]\ttrain's multi_logloss: 0.0147108\tvalid's multi_logloss: 0.106241\n"
     ]
    },
    {
     "name": "stderr",
     "output_type": "stream",
     "text": [
      "2022-04-17 11:32:53 - src.train - INFO     [train.py:133] elapsed training time: 0.007 min\n",
      "2022-04-17 11:32:53 - src.train - INFO     [train.py:62] fold=29/33\n",
      "2022-04-17 11:32:53 - src.train - INFO     [train.py:63] reading cv index from data/cv_index/cv-model-test/oxalate/fold_5.csv\n"
     ]
    },
    {
     "name": "stdout",
     "output_type": "stream",
     "text": [
      "[80]\ttrain's multi_logloss: 0.00691498\tvalid's multi_logloss: 0.100972\n",
      "[100]\ttrain's multi_logloss: 0.00429817\tvalid's multi_logloss: 0.104751\n",
      "Early stopping, best iteration is:\n",
      "[87]\ttrain's multi_logloss: 0.00561886\tvalid's multi_logloss: 0.0995948\n"
     ]
    },
    {
     "name": "stderr",
     "output_type": "stream",
     "text": [
      "2022-04-17 11:32:54 - src.train - INFO     [train.py:133] elapsed training time: 0.005 min\n",
      "2022-04-17 11:32:54 - src.train - INFO     [train.py:62] fold=30/33\n",
      "2022-04-17 11:32:54 - src.train - INFO     [train.py:63] reading cv index from data/cv_index/cv-model-test/oxalate/fold_6.csv\n"
     ]
    },
    {
     "name": "stdout",
     "output_type": "stream",
     "text": [
      "Training until validation scores don't improve for 20 rounds\n",
      "[20]\ttrain's multi_logloss: 0.169856\tvalid's multi_logloss: 0.286205\n",
      "[40]\ttrain's multi_logloss: 0.0406359\tvalid's multi_logloss: 0.218055\n",
      "Early stopping, best iteration is:\n",
      "[38]\ttrain's multi_logloss: 0.0463227\tvalid's multi_logloss: 0.215824\n"
     ]
    },
    {
     "name": "stderr",
     "output_type": "stream",
     "text": [
      "2022-04-17 11:32:54 - src.train - INFO     [train.py:133] elapsed training time: 0.005 min\n",
      "2022-04-17 11:32:54 - src.train - INFO     [train.py:62] fold=31/33\n",
      "2022-04-17 11:32:54 - src.train - INFO     [train.py:63] reading cv index from data/cv_index/cv-model-test/oxalate/fold_7.csv\n"
     ]
    },
    {
     "name": "stdout",
     "output_type": "stream",
     "text": [
      "Training until validation scores don't improve for 20 rounds\n",
      "[20]\ttrain's multi_logloss: 0.165721\tvalid's multi_logloss: 0.324484\n",
      "[40]\ttrain's multi_logloss: 0.0406508\tvalid's multi_logloss: 0.252124\n",
      "[60]\ttrain's multi_logloss: 0.0132926\tvalid's multi_logloss: 0.266193\n",
      "Early stopping, best iteration is:\n",
      "[44]\ttrain's multi_logloss: 0.0313707\tvalid's multi_logloss: 0.249404\n",
      "Training until validation scores don't improve for 20 rounds\n",
      "[20]\ttrain's multi_logloss: 0.172229\tvalid's multi_logloss: 0.299828\n",
      "[40]\ttrain's multi_logloss: 0.0421258\tvalid's multi_logloss: 0.208868\n",
      "[60]\ttrain's multi_logloss: 0.0138438\tvalid's multi_logloss: 0.185804\n"
     ]
    },
    {
     "name": "stderr",
     "output_type": "stream",
     "text": [
      "2022-04-17 11:32:54 - src.train - INFO     [train.py:133] elapsed training time: 0.006 min\n",
      "2022-04-17 11:32:54 - src.train - INFO     [train.py:62] fold=32/33\n",
      "2022-04-17 11:32:54 - src.train - INFO     [train.py:63] reading cv index from data/cv_index/cv-model-test/oxalate/fold_8.csv\n"
     ]
    },
    {
     "name": "stdout",
     "output_type": "stream",
     "text": [
      "[80]\ttrain's multi_logloss: 0.00640497\tvalid's multi_logloss: 0.187077\n",
      "Early stopping, best iteration is:\n",
      "[67]\ttrain's multi_logloss: 0.0101403\tvalid's multi_logloss: 0.180811\n",
      "Training until validation scores don't improve for 20 rounds\n",
      "[20]\ttrain's multi_logloss: 0.172509\tvalid's multi_logloss: 0.225118\n",
      "[40]\ttrain's multi_logloss: 0.0426153\tvalid's multi_logloss: 0.131045\n",
      "[60]\ttrain's multi_logloss: 0.0141059\tvalid's multi_logloss: 0.121043\n",
      "[80]\ttrain's multi_logloss: 0.00648053\tvalid's multi_logloss: 0.12119\n"
     ]
    },
    {
     "name": "stderr",
     "output_type": "stream",
     "text": [
      "2022-04-17 11:32:55 - src.train - INFO     [train.py:133] elapsed training time: 0.006 min\n",
      "2022-04-17 11:32:55 - src.train - INFO     [train.py:62] fold=33/33\n",
      "2022-04-17 11:32:55 - src.train - INFO     [train.py:63] reading cv index from data/cv_index/cv-model-test/oxalate/fold_9.csv\n"
     ]
    },
    {
     "name": "stdout",
     "output_type": "stream",
     "text": [
      "Early stopping, best iteration is:\n",
      "[65]\ttrain's multi_logloss: 0.0112916\tvalid's multi_logloss: 0.119342\n",
      "Training until validation scores don't improve for 20 rounds\n",
      "[20]\ttrain's multi_logloss: 0.167553\tvalid's multi_logloss: 0.242274\n",
      "[40]\ttrain's multi_logloss: 0.0398518\tvalid's multi_logloss: 0.189557\n",
      "[60]\ttrain's multi_logloss: 0.0130085\tvalid's multi_logloss: 0.199074\n",
      "Early stopping, best iteration is:\n",
      "[48]\ttrain's multi_logloss: 0.0242722\tvalid's multi_logloss: 0.185456\n"
     ]
    },
    {
     "name": "stderr",
     "output_type": "stream",
     "text": [
      "2022-04-17 11:32:55 - src.train - INFO     [train.py:133] elapsed training time: 0.005 min\n",
      "2022-04-17 11:32:55 - src.train - INFO     [train.py:62] fold=1/33\n",
      "2022-04-17 11:32:55 - src.train - INFO     [train.py:63] reading cv index from data/cv_index/cv-model-test/oxalate/fold_0.csv\n"
     ]
    },
    {
     "name": "stdout",
     "output_type": "stream",
     "text": [
      "71\n"
     ]
    },
    {
     "name": "stderr",
     "output_type": "stream",
     "text": [
      "2022-04-17 11:32:56 - src.train - INFO     [train.py:28] elapsed training time: 0.004 min\n",
      "2022-04-17 11:32:56 - src.train - INFO     [train.py:62] fold=2/33\n",
      "2022-04-17 11:32:56 - src.train - INFO     [train.py:63] reading cv index from data/cv_index/cv-model-test/oxalate/fold_1.csv\n",
      "2022-04-17 11:32:56 - src.train - INFO     [train.py:28] elapsed training time: 0.006 min\n",
      "2022-04-17 11:32:56 - src.train - INFO     [train.py:62] fold=3/33\n",
      "2022-04-17 11:32:56 - src.train - INFO     [train.py:63] reading cv index from data/cv_index/cv-model-test/oxalate/fold_10.csv\n",
      "2022-04-17 11:32:57 - src.train - INFO     [train.py:28] elapsed training time: 0.004 min\n",
      "2022-04-17 11:32:57 - src.train - INFO     [train.py:62] fold=4/33\n",
      "2022-04-17 11:32:57 - src.train - INFO     [train.py:63] reading cv index from data/cv_index/cv-model-test/oxalate/fold_11.csv\n",
      "2022-04-17 11:32:57 - src.train - INFO     [train.py:28] elapsed training time: 0.004 min\n",
      "2022-04-17 11:32:57 - src.train - INFO     [train.py:62] fold=5/33\n",
      "2022-04-17 11:32:57 - src.train - INFO     [train.py:63] reading cv index from data/cv_index/cv-model-test/oxalate/fold_12.csv\n",
      "2022-04-17 11:32:57 - src.train - INFO     [train.py:28] elapsed training time: 0.004 min\n",
      "2022-04-17 11:32:57 - src.train - INFO     [train.py:62] fold=6/33\n",
      "2022-04-17 11:32:57 - src.train - INFO     [train.py:63] reading cv index from data/cv_index/cv-model-test/oxalate/fold_13.csv\n",
      "2022-04-17 11:32:58 - src.train - INFO     [train.py:28] elapsed training time: 0.004 min\n",
      "2022-04-17 11:32:58 - src.train - INFO     [train.py:62] fold=7/33\n",
      "2022-04-17 11:32:58 - src.train - INFO     [train.py:63] reading cv index from data/cv_index/cv-model-test/oxalate/fold_14.csv\n",
      "2022-04-17 11:32:58 - src.train - INFO     [train.py:28] elapsed training time: 0.004 min\n",
      "2022-04-17 11:32:58 - src.train - INFO     [train.py:62] fold=8/33\n",
      "2022-04-17 11:32:58 - src.train - INFO     [train.py:63] reading cv index from data/cv_index/cv-model-test/oxalate/fold_15.csv\n",
      "2022-04-17 11:32:58 - src.train - INFO     [train.py:28] elapsed training time: 0.004 min\n",
      "2022-04-17 11:32:58 - src.train - INFO     [train.py:62] fold=9/33\n",
      "2022-04-17 11:32:58 - src.train - INFO     [train.py:63] reading cv index from data/cv_index/cv-model-test/oxalate/fold_16.csv\n",
      "2022-04-17 11:32:59 - src.train - INFO     [train.py:28] elapsed training time: 0.004 min\n",
      "2022-04-17 11:32:59 - src.train - INFO     [train.py:62] fold=10/33\n",
      "2022-04-17 11:32:59 - src.train - INFO     [train.py:63] reading cv index from data/cv_index/cv-model-test/oxalate/fold_17.csv\n",
      "2022-04-17 11:32:59 - src.train - INFO     [train.py:28] elapsed training time: 0.004 min\n",
      "2022-04-17 11:32:59 - src.train - INFO     [train.py:62] fold=11/33\n",
      "2022-04-17 11:32:59 - src.train - INFO     [train.py:63] reading cv index from data/cv_index/cv-model-test/oxalate/fold_18.csv\n",
      "2022-04-17 11:32:59 - src.train - INFO     [train.py:28] elapsed training time: 0.004 min\n",
      "2022-04-17 11:32:59 - src.train - INFO     [train.py:62] fold=12/33\n",
      "2022-04-17 11:32:59 - src.train - INFO     [train.py:63] reading cv index from data/cv_index/cv-model-test/oxalate/fold_19.csv\n",
      "2022-04-17 11:33:00 - src.train - INFO     [train.py:28] elapsed training time: 0.004 min\n",
      "2022-04-17 11:33:00 - src.train - INFO     [train.py:62] fold=13/33\n",
      "2022-04-17 11:33:00 - src.train - INFO     [train.py:63] reading cv index from data/cv_index/cv-model-test/oxalate/fold_2.csv\n",
      "2022-04-17 11:33:00 - src.train - INFO     [train.py:28] elapsed training time: 0.004 min\n",
      "2022-04-17 11:33:00 - src.train - INFO     [train.py:62] fold=14/33\n",
      "2022-04-17 11:33:00 - src.train - INFO     [train.py:63] reading cv index from data/cv_index/cv-model-test/oxalate/fold_20.csv\n",
      "2022-04-17 11:33:01 - src.train - INFO     [train.py:28] elapsed training time: 0.005 min\n",
      "2022-04-17 11:33:01 - src.train - INFO     [train.py:62] fold=15/33\n",
      "2022-04-17 11:33:01 - src.train - INFO     [train.py:63] reading cv index from data/cv_index/cv-model-test/oxalate/fold_21.csv\n",
      "2022-04-17 11:33:01 - src.train - INFO     [train.py:28] elapsed training time: 0.005 min\n",
      "2022-04-17 11:33:01 - src.train - INFO     [train.py:62] fold=16/33\n",
      "2022-04-17 11:33:01 - src.train - INFO     [train.py:63] reading cv index from data/cv_index/cv-model-test/oxalate/fold_22.csv\n",
      "2022-04-17 11:33:01 - src.train - INFO     [train.py:28] elapsed training time: 0.006 min\n",
      "2022-04-17 11:33:01 - src.train - INFO     [train.py:62] fold=17/33\n",
      "2022-04-17 11:33:01 - src.train - INFO     [train.py:63] reading cv index from data/cv_index/cv-model-test/oxalate/fold_23.csv\n",
      "2022-04-17 11:33:02 - src.train - INFO     [train.py:28] elapsed training time: 0.011 min\n",
      "2022-04-17 11:33:02 - src.train - INFO     [train.py:62] fold=18/33\n",
      "2022-04-17 11:33:02 - src.train - INFO     [train.py:63] reading cv index from data/cv_index/cv-model-test/oxalate/fold_24.csv\n",
      "2022-04-17 11:33:03 - src.train - INFO     [train.py:28] elapsed training time: 0.007 min\n",
      "2022-04-17 11:33:03 - src.train - INFO     [train.py:62] fold=19/33\n",
      "2022-04-17 11:33:03 - src.train - INFO     [train.py:63] reading cv index from data/cv_index/cv-model-test/oxalate/fold_25.csv\n",
      "2022-04-17 11:33:03 - src.train - INFO     [train.py:28] elapsed training time: 0.009 min\n",
      "2022-04-17 11:33:03 - src.train - INFO     [train.py:62] fold=20/33\n",
      "2022-04-17 11:33:03 - src.train - INFO     [train.py:63] reading cv index from data/cv_index/cv-model-test/oxalate/fold_26.csv\n",
      "2022-04-17 11:33:04 - src.train - INFO     [train.py:28] elapsed training time: 0.007 min\n",
      "2022-04-17 11:33:04 - src.train - INFO     [train.py:62] fold=21/33\n",
      "2022-04-17 11:33:04 - src.train - INFO     [train.py:63] reading cv index from data/cv_index/cv-model-test/oxalate/fold_27.csv\n",
      "2022-04-17 11:33:05 - src.train - INFO     [train.py:28] elapsed training time: 0.012 min\n",
      "2022-04-17 11:33:05 - src.train - INFO     [train.py:62] fold=22/33\n",
      "2022-04-17 11:33:05 - src.train - INFO     [train.py:63] reading cv index from data/cv_index/cv-model-test/oxalate/fold_28.csv\n",
      "2022-04-17 11:33:05 - src.train - INFO     [train.py:28] elapsed training time: 0.006 min\n",
      "2022-04-17 11:33:05 - src.train - INFO     [train.py:62] fold=23/33\n",
      "2022-04-17 11:33:05 - src.train - INFO     [train.py:63] reading cv index from data/cv_index/cv-model-test/oxalate/fold_29.csv\n",
      "2022-04-17 11:33:06 - src.train - INFO     [train.py:28] elapsed training time: 0.008 min\n",
      "2022-04-17 11:33:06 - src.train - INFO     [train.py:62] fold=24/33\n",
      "2022-04-17 11:33:06 - src.train - INFO     [train.py:63] reading cv index from data/cv_index/cv-model-test/oxalate/fold_3.csv\n",
      "2022-04-17 11:33:06 - src.train - INFO     [train.py:28] elapsed training time: 0.004 min\n",
      "2022-04-17 11:33:06 - src.train - INFO     [train.py:62] fold=25/33\n",
      "2022-04-17 11:33:06 - src.train - INFO     [train.py:63] reading cv index from data/cv_index/cv-model-test/oxalate/fold_30.csv\n",
      "2022-04-17 11:33:07 - src.train - INFO     [train.py:28] elapsed training time: 0.005 min\n",
      "2022-04-17 11:33:07 - src.train - INFO     [train.py:62] fold=26/33\n",
      "2022-04-17 11:33:07 - src.train - INFO     [train.py:63] reading cv index from data/cv_index/cv-model-test/oxalate/fold_31.csv\n",
      "2022-04-17 11:33:07 - src.train - INFO     [train.py:28] elapsed training time: 0.004 min\n",
      "2022-04-17 11:33:07 - src.train - INFO     [train.py:62] fold=27/33\n",
      "2022-04-17 11:33:07 - src.train - INFO     [train.py:63] reading cv index from data/cv_index/cv-model-test/oxalate/fold_32.csv\n",
      "2022-04-17 11:33:08 - src.train - INFO     [train.py:28] elapsed training time: 0.013 min\n",
      "2022-04-17 11:33:08 - src.train - INFO     [train.py:62] fold=28/33\n",
      "2022-04-17 11:33:08 - src.train - INFO     [train.py:63] reading cv index from data/cv_index/cv-model-test/oxalate/fold_4.csv\n",
      "2022-04-17 11:33:09 - src.train - INFO     [train.py:28] elapsed training time: 0.010 min\n",
      "2022-04-17 11:33:09 - src.train - INFO     [train.py:62] fold=29/33\n",
      "2022-04-17 11:33:09 - src.train - INFO     [train.py:63] reading cv index from data/cv_index/cv-model-test/oxalate/fold_5.csv\n",
      "2022-04-17 11:33:09 - src.train - INFO     [train.py:28] elapsed training time: 0.009 min\n",
      "2022-04-17 11:33:09 - src.train - INFO     [train.py:62] fold=30/33\n",
      "2022-04-17 11:33:09 - src.train - INFO     [train.py:63] reading cv index from data/cv_index/cv-model-test/oxalate/fold_6.csv\n"
     ]
    },
    {
     "name": "stderr",
     "output_type": "stream",
     "text": [
      "2022-04-17 11:33:10 - src.train - INFO     [train.py:28] elapsed training time: 0.008 min\n",
      "2022-04-17 11:33:10 - src.train - INFO     [train.py:62] fold=31/33\n",
      "2022-04-17 11:33:10 - src.train - INFO     [train.py:63] reading cv index from data/cv_index/cv-model-test/oxalate/fold_7.csv\n",
      "2022-04-17 11:33:11 - src.train - INFO     [train.py:28] elapsed training time: 0.009 min\n",
      "2022-04-17 11:33:11 - src.train - INFO     [train.py:62] fold=32/33\n",
      "2022-04-17 11:33:11 - src.train - INFO     [train.py:63] reading cv index from data/cv_index/cv-model-test/oxalate/fold_8.csv\n",
      "2022-04-17 11:33:11 - src.train - INFO     [train.py:28] elapsed training time: 0.005 min\n",
      "2022-04-17 11:33:11 - src.train - INFO     [train.py:62] fold=33/33\n",
      "2022-04-17 11:33:11 - src.train - INFO     [train.py:63] reading cv index from data/cv_index/cv-model-test/oxalate/fold_9.csv\n",
      "2022-04-17 11:33:11 - src.train - INFO     [train.py:28] elapsed training time: 0.005 min\n",
      "2022-04-17 11:33:11 - src.train - INFO     [train.py:62] fold=1/33\n",
      "2022-04-17 11:33:11 - src.train - INFO     [train.py:63] reading cv index from data/cv_index/cv-model-test/oxychlorine/fold_0.csv\n"
     ]
    },
    {
     "name": "stdout",
     "output_type": "stream",
     "text": [
      "Training until validation scores don't improve for 20 rounds\n",
      "[20]\ttrain's multi_logloss: 0.259485\tvalid's multi_logloss: 0.447206\n",
      "[40]\ttrain's multi_logloss: 0.0679468\tvalid's multi_logloss: 0.292919\n"
     ]
    },
    {
     "name": "stderr",
     "output_type": "stream",
     "text": [
      "2022-04-17 11:33:12 - src.train - INFO     [train.py:133] elapsed training time: 0.009 min\n",
      "2022-04-17 11:33:12 - src.train - INFO     [train.py:62] fold=2/33\n",
      "2022-04-17 11:33:12 - src.train - INFO     [train.py:63] reading cv index from data/cv_index/cv-model-test/oxychlorine/fold_1.csv\n"
     ]
    },
    {
     "name": "stdout",
     "output_type": "stream",
     "text": [
      "[60]\ttrain's multi_logloss: 0.0228988\tvalid's multi_logloss: 0.254608\n",
      "[80]\ttrain's multi_logloss: 0.0107514\tvalid's multi_logloss: 0.252028\n",
      "[100]\ttrain's multi_logloss: 0.00672098\tvalid's multi_logloss: 0.251144\n",
      "[120]\ttrain's multi_logloss: 0.00545394\tvalid's multi_logloss: 0.251359\n",
      "Early stopping, best iteration is:\n",
      "[101]\ttrain's multi_logloss: 0.00663326\tvalid's multi_logloss: 0.249973\n",
      "Training until validation scores don't improve for 20 rounds\n",
      "[20]\ttrain's multi_logloss: 0.246782\tvalid's multi_logloss: 0.58882\n",
      "[40]\ttrain's multi_logloss: 0.0653469\tvalid's multi_logloss: 0.481911\n"
     ]
    },
    {
     "name": "stderr",
     "output_type": "stream",
     "text": [
      "2022-04-17 11:33:13 - src.train - INFO     [train.py:133] elapsed training time: 0.007 min\n",
      "2022-04-17 11:33:13 - src.train - INFO     [train.py:62] fold=3/33\n",
      "2022-04-17 11:33:13 - src.train - INFO     [train.py:63] reading cv index from data/cv_index/cv-model-test/oxychlorine/fold_10.csv\n"
     ]
    },
    {
     "name": "stdout",
     "output_type": "stream",
     "text": [
      "[60]\ttrain's multi_logloss: 0.0217493\tvalid's multi_logloss: 0.480469\n",
      "Early stopping, best iteration is:\n",
      "[49]\ttrain's multi_logloss: 0.0382862\tvalid's multi_logloss: 0.470783\n",
      "Training until validation scores don't improve for 20 rounds\n",
      "[20]\ttrain's multi_logloss: 0.25903\tvalid's multi_logloss: 0.471385\n",
      "[40]\ttrain's multi_logloss: 0.0687116\tvalid's multi_logloss: 0.353501\n"
     ]
    },
    {
     "name": "stderr",
     "output_type": "stream",
     "text": [
      "2022-04-17 11:33:13 - src.train - INFO     [train.py:133] elapsed training time: 0.008 min\n",
      "2022-04-17 11:33:13 - src.train - INFO     [train.py:62] fold=4/33\n",
      "2022-04-17 11:33:13 - src.train - INFO     [train.py:63] reading cv index from data/cv_index/cv-model-test/oxychlorine/fold_11.csv\n"
     ]
    },
    {
     "name": "stdout",
     "output_type": "stream",
     "text": [
      "[60]\ttrain's multi_logloss: 0.0232132\tvalid's multi_logloss: 0.346398\n",
      "[80]\ttrain's multi_logloss: 0.0109253\tvalid's multi_logloss: 0.346006\n",
      "Early stopping, best iteration is:\n",
      "[69]\ttrain's multi_logloss: 0.0159248\tvalid's multi_logloss: 0.337541\n",
      "Training until validation scores don't improve for 20 rounds\n",
      "[20]\ttrain's multi_logloss: 0.248294\tvalid's multi_logloss: 0.419633\n",
      "[40]\ttrain's multi_logloss: 0.0663776\tvalid's multi_logloss: 0.27316\n",
      "[60]\ttrain's multi_logloss: 0.0223773\tvalid's multi_logloss: 0.2401\n",
      "[80]\ttrain's multi_logloss: 0.0105649\tvalid's multi_logloss: 0.229465\n"
     ]
    },
    {
     "name": "stderr",
     "output_type": "stream",
     "text": [
      "2022-04-17 11:33:14 - src.train - INFO     [train.py:133] elapsed training time: 0.012 min\n",
      "2022-04-17 11:33:14 - src.train - INFO     [train.py:62] fold=5/33\n",
      "2022-04-17 11:33:14 - src.train - INFO     [train.py:63] reading cv index from data/cv_index/cv-model-test/oxychlorine/fold_12.csv\n"
     ]
    },
    {
     "name": "stdout",
     "output_type": "stream",
     "text": [
      "[100]\ttrain's multi_logloss: 0.00672338\tvalid's multi_logloss: 0.231595\n",
      "Early stopping, best iteration is:\n",
      "[88]\ttrain's multi_logloss: 0.00858974\tvalid's multi_logloss: 0.228285\n",
      "Training until validation scores don't improve for 20 rounds\n",
      "[20]\ttrain's multi_logloss: 0.255038\tvalid's multi_logloss: 0.462382\n",
      "[40]\ttrain's multi_logloss: 0.0688967\tvalid's multi_logloss: 0.328629\n",
      "[60]\ttrain's multi_logloss: 0.0231205\tvalid's multi_logloss: 0.288685\n"
     ]
    },
    {
     "name": "stderr",
     "output_type": "stream",
     "text": [
      "2022-04-17 11:33:15 - src.train - INFO     [train.py:133] elapsed training time: 0.011 min\n",
      "2022-04-17 11:33:15 - src.train - INFO     [train.py:62] fold=6/33\n",
      "2022-04-17 11:33:15 - src.train - INFO     [train.py:63] reading cv index from data/cv_index/cv-model-test/oxychlorine/fold_13.csv\n"
     ]
    },
    {
     "name": "stdout",
     "output_type": "stream",
     "text": [
      "[80]\ttrain's multi_logloss: 0.0110714\tvalid's multi_logloss: 0.287808\n",
      "Early stopping, best iteration is:\n",
      "[70]\ttrain's multi_logloss: 0.0154437\tvalid's multi_logloss: 0.283957\n",
      "Training until validation scores don't improve for 20 rounds\n",
      "[20]\ttrain's multi_logloss: 0.249699\tvalid's multi_logloss: 0.485154\n"
     ]
    },
    {
     "name": "stderr",
     "output_type": "stream",
     "text": [
      "2022-04-17 11:33:15 - src.train - INFO     [train.py:133] elapsed training time: 0.008 min\n",
      "2022-04-17 11:33:15 - src.train - INFO     [train.py:62] fold=7/33\n",
      "2022-04-17 11:33:15 - src.train - INFO     [train.py:63] reading cv index from data/cv_index/cv-model-test/oxychlorine/fold_14.csv\n"
     ]
    },
    {
     "name": "stdout",
     "output_type": "stream",
     "text": [
      "[40]\ttrain's multi_logloss: 0.0658656\tvalid's multi_logloss: 0.351434\n",
      "[60]\ttrain's multi_logloss: 0.0215006\tvalid's multi_logloss: 0.353449\n",
      "Early stopping, best iteration is:\n",
      "[48]\ttrain's multi_logloss: 0.0401752\tvalid's multi_logloss: 0.33873\n",
      "Training until validation scores don't improve for 20 rounds\n",
      "[20]\ttrain's multi_logloss: 0.254864\tvalid's multi_logloss: 0.535864\n",
      "[40]\ttrain's multi_logloss: 0.0675128\tvalid's multi_logloss: 0.390635\n",
      "[60]\ttrain's multi_logloss: 0.022498\tvalid's multi_logloss: 0.357343\n",
      "[80]\ttrain's multi_logloss: 0.0105886\tvalid's multi_logloss: 0.361497\n",
      "Early stopping, best iteration is:\n",
      "[75]\ttrain's multi_logloss: 0.0123688\tvalid's multi_logloss: 0.354017\n"
     ]
    },
    {
     "name": "stderr",
     "output_type": "stream",
     "text": [
      "2022-04-17 11:33:16 - src.train - INFO     [train.py:133] elapsed training time: 0.011 min\n",
      "2022-04-17 11:33:16 - src.train - INFO     [train.py:62] fold=8/33\n",
      "2022-04-17 11:33:16 - src.train - INFO     [train.py:63] reading cv index from data/cv_index/cv-model-test/oxychlorine/fold_15.csv\n"
     ]
    },
    {
     "name": "stdout",
     "output_type": "stream",
     "text": [
      "Training until validation scores don't improve for 20 rounds\n",
      "[20]\ttrain's multi_logloss: 0.259359\tvalid's multi_logloss: 0.461453\n",
      "[40]\ttrain's multi_logloss: 0.0709167\tvalid's multi_logloss: 0.285378\n",
      "[60]\ttrain's multi_logloss: 0.0238774\tvalid's multi_logloss: 0.250025\n"
     ]
    },
    {
     "name": "stderr",
     "output_type": "stream",
     "text": [
      "2022-04-17 11:33:17 - src.train - INFO     [train.py:133] elapsed training time: 0.015 min\n",
      "2022-04-17 11:33:17 - src.train - INFO     [train.py:62] fold=9/33\n",
      "2022-04-17 11:33:17 - src.train - INFO     [train.py:63] reading cv index from data/cv_index/cv-model-test/oxychlorine/fold_16.csv\n"
     ]
    },
    {
     "name": "stdout",
     "output_type": "stream",
     "text": [
      "[80]\ttrain's multi_logloss: 0.011229\tvalid's multi_logloss: 0.252662\n",
      "Early stopping, best iteration is:\n",
      "[64]\ttrain's multi_logloss: 0.0200626\tvalid's multi_logloss: 0.245083\n",
      "Training until validation scores don't improve for 20 rounds\n",
      "[20]\ttrain's multi_logloss: 0.256809\tvalid's multi_logloss: 0.394026\n",
      "[40]\ttrain's multi_logloss: 0.0672802\tvalid's multi_logloss: 0.25869\n"
     ]
    },
    {
     "name": "stderr",
     "output_type": "stream",
     "text": [
      "2022-04-17 11:33:18 - src.train - INFO     [train.py:133] elapsed training time: 0.009 min\n",
      "2022-04-17 11:33:18 - src.train - INFO     [train.py:62] fold=10/33\n",
      "2022-04-17 11:33:18 - src.train - INFO     [train.py:63] reading cv index from data/cv_index/cv-model-test/oxychlorine/fold_17.csv\n"
     ]
    },
    {
     "name": "stdout",
     "output_type": "stream",
     "text": [
      "[60]\ttrain's multi_logloss: 0.0228096\tvalid's multi_logloss: 0.232646\n",
      "[80]\ttrain's multi_logloss: 0.0109603\tvalid's multi_logloss: 0.22636\n",
      "Early stopping, best iteration is:\n",
      "[79]\ttrain's multi_logloss: 0.011315\tvalid's multi_logloss: 0.224971\n",
      "Training until validation scores don't improve for 20 rounds\n",
      "[20]\ttrain's multi_logloss: 0.250694\tvalid's multi_logloss: 0.431175\n",
      "[40]\ttrain's multi_logloss: 0.0662898\tvalid's multi_logloss: 0.343001\n"
     ]
    },
    {
     "name": "stderr",
     "output_type": "stream",
     "text": [
      "2022-04-17 11:33:18 - src.train - INFO     [train.py:133] elapsed training time: 0.007 min\n",
      "2022-04-17 11:33:18 - src.train - INFO     [train.py:62] fold=11/33\n",
      "2022-04-17 11:33:18 - src.train - INFO     [train.py:63] reading cv index from data/cv_index/cv-model-test/oxychlorine/fold_18.csv\n"
     ]
    },
    {
     "name": "stdout",
     "output_type": "stream",
     "text": [
      "[60]\ttrain's multi_logloss: 0.0226596\tvalid's multi_logloss: 0.333156\n",
      "Early stopping, best iteration is:\n",
      "[54]\ttrain's multi_logloss: 0.0301789\tvalid's multi_logloss: 0.3286\n",
      "Training until validation scores don't improve for 20 rounds\n",
      "[20]\ttrain's multi_logloss: 0.246435\tvalid's multi_logloss: 0.589982\n",
      "[40]\ttrain's multi_logloss: 0.0632783\tvalid's multi_logloss: 0.464652\n"
     ]
    },
    {
     "name": "stderr",
     "output_type": "stream",
     "text": [
      "2022-04-17 11:33:19 - src.train - INFO     [train.py:133] elapsed training time: 0.008 min\n",
      "2022-04-17 11:33:19 - src.train - INFO     [train.py:62] fold=12/33\n",
      "2022-04-17 11:33:19 - src.train - INFO     [train.py:63] reading cv index from data/cv_index/cv-model-test/oxychlorine/fold_19.csv\n"
     ]
    },
    {
     "name": "stdout",
     "output_type": "stream",
     "text": [
      "[60]\ttrain's multi_logloss: 0.0210344\tvalid's multi_logloss: 0.45368\n",
      "Early stopping, best iteration is:\n",
      "[56]\ttrain's multi_logloss: 0.0255549\tvalid's multi_logloss: 0.449844\n",
      "Training until validation scores don't improve for 20 rounds\n",
      "[20]\ttrain's multi_logloss: 0.252286\tvalid's multi_logloss: 0.471764\n",
      "[40]\ttrain's multi_logloss: 0.0662822\tvalid's multi_logloss: 0.34605\n"
     ]
    },
    {
     "name": "stderr",
     "output_type": "stream",
     "text": [
      "2022-04-17 11:33:19 - src.train - INFO     [train.py:133] elapsed training time: 0.007 min\n",
      "2022-04-17 11:33:19 - src.train - INFO     [train.py:62] fold=13/33\n",
      "2022-04-17 11:33:19 - src.train - INFO     [train.py:63] reading cv index from data/cv_index/cv-model-test/oxychlorine/fold_2.csv\n"
     ]
    },
    {
     "name": "stdout",
     "output_type": "stream",
     "text": [
      "[60]\ttrain's multi_logloss: 0.0220908\tvalid's multi_logloss: 0.316307\n",
      "[80]\ttrain's multi_logloss: 0.0104712\tvalid's multi_logloss: 0.314498\n",
      "Early stopping, best iteration is:\n",
      "[64]\ttrain's multi_logloss: 0.0185373\tvalid's multi_logloss: 0.312199\n",
      "Training until validation scores don't improve for 20 rounds\n",
      "[20]\ttrain's multi_logloss: 0.254632\tvalid's multi_logloss: 0.450985\n",
      "[40]\ttrain's multi_logloss: 0.0669169\tvalid's multi_logloss: 0.342134\n",
      "[60]\ttrain's multi_logloss: 0.0228062\tvalid's multi_logloss: 0.30377\n",
      "[80]\ttrain's multi_logloss: 0.0108422\tvalid's multi_logloss: 0.298509\n",
      "Early stopping, best iteration is:\n",
      "[71]\ttrain's multi_logloss: 0.0145914\tvalid's multi_logloss: 0.296806\n"
     ]
    },
    {
     "name": "stderr",
     "output_type": "stream",
     "text": [
      "2022-04-17 11:33:20 - src.train - INFO     [train.py:133] elapsed training time: 0.015 min\n",
      "2022-04-17 11:33:20 - src.train - INFO     [train.py:62] fold=14/33\n",
      "2022-04-17 11:33:20 - src.train - INFO     [train.py:63] reading cv index from data/cv_index/cv-model-test/oxychlorine/fold_20.csv\n"
     ]
    },
    {
     "name": "stdout",
     "output_type": "stream",
     "text": [
      "Training until validation scores don't improve for 20 rounds\n",
      "[20]\ttrain's multi_logloss: 0.248363\tvalid's multi_logloss: 0.526379\n",
      "[40]\ttrain's multi_logloss: 0.0643085\tvalid's multi_logloss: 0.403652\n"
     ]
    },
    {
     "name": "stderr",
     "output_type": "stream",
     "text": [
      "2022-04-17 11:33:21 - src.train - INFO     [train.py:133] elapsed training time: 0.011 min\n",
      "2022-04-17 11:33:21 - src.train - INFO     [train.py:62] fold=15/33\n",
      "2022-04-17 11:33:21 - src.train - INFO     [train.py:63] reading cv index from data/cv_index/cv-model-test/oxychlorine/fold_21.csv\n"
     ]
    },
    {
     "name": "stdout",
     "output_type": "stream",
     "text": [
      "[60]\ttrain's multi_logloss: 0.0215484\tvalid's multi_logloss: 0.406147\n",
      "Early stopping, best iteration is:\n",
      "[44]\ttrain's multi_logloss: 0.0504583\tvalid's multi_logloss: 0.396706\n",
      "Training until validation scores don't improve for 20 rounds\n",
      "[20]\ttrain's multi_logloss: 0.254731\tvalid's multi_logloss: 0.439226\n",
      "[40]\ttrain's multi_logloss: 0.0688049\tvalid's multi_logloss: 0.262107\n",
      "[60]\ttrain's multi_logloss: 0.0233379\tvalid's multi_logloss: 0.217309\n"
     ]
    },
    {
     "name": "stderr",
     "output_type": "stream",
     "text": [
      "2022-04-17 11:33:22 - src.train - INFO     [train.py:133] elapsed training time: 0.015 min\n",
      "2022-04-17 11:33:22 - src.train - INFO     [train.py:62] fold=16/33\n",
      "2022-04-17 11:33:22 - src.train - INFO     [train.py:63] reading cv index from data/cv_index/cv-model-test/oxychlorine/fold_22.csv\n"
     ]
    },
    {
     "name": "stdout",
     "output_type": "stream",
     "text": [
      "[80]\ttrain's multi_logloss: 0.0111263\tvalid's multi_logloss: 0.208456\n",
      "Early stopping, best iteration is:\n",
      "[72]\ttrain's multi_logloss: 0.0146047\tvalid's multi_logloss: 0.204137\n",
      "Training until validation scores don't improve for 20 rounds\n",
      "[20]\ttrain's multi_logloss: 0.251465\tvalid's multi_logloss: 0.504401\n",
      "[40]\ttrain's multi_logloss: 0.0651231\tvalid's multi_logloss: 0.411759\n"
     ]
    },
    {
     "name": "stderr",
     "output_type": "stream",
     "text": [
      "2022-04-17 11:33:23 - src.train - INFO     [train.py:133] elapsed training time: 0.010 min\n",
      "2022-04-17 11:33:23 - src.train - INFO     [train.py:62] fold=17/33\n",
      "2022-04-17 11:33:23 - src.train - INFO     [train.py:63] reading cv index from data/cv_index/cv-model-test/oxychlorine/fold_23.csv\n"
     ]
    },
    {
     "name": "stdout",
     "output_type": "stream",
     "text": [
      "[60]\ttrain's multi_logloss: 0.0215525\tvalid's multi_logloss: 0.39397\n",
      "[80]\ttrain's multi_logloss: 0.0101792\tvalid's multi_logloss: 0.404412\n",
      "Early stopping, best iteration is:\n",
      "[60]\ttrain's multi_logloss: 0.0215525\tvalid's multi_logloss: 0.39397\n",
      "Training until validation scores don't improve for 20 rounds\n",
      "[20]\ttrain's multi_logloss: 0.250399\tvalid's multi_logloss: 0.485669\n",
      "[40]\ttrain's multi_logloss: 0.0655516\tvalid's multi_logloss: 0.374788\n"
     ]
    },
    {
     "name": "stderr",
     "output_type": "stream",
     "text": [
      "2022-04-17 11:33:24 - src.train - INFO     [train.py:133] elapsed training time: 0.009 min\n",
      "2022-04-17 11:33:24 - src.train - INFO     [train.py:62] fold=18/33\n",
      "2022-04-17 11:33:24 - src.train - INFO     [train.py:63] reading cv index from data/cv_index/cv-model-test/oxychlorine/fold_24.csv\n"
     ]
    },
    {
     "name": "stdout",
     "output_type": "stream",
     "text": [
      "[60]\ttrain's multi_logloss: 0.0223466\tvalid's multi_logloss: 0.375236\n",
      "Early stopping, best iteration is:\n",
      "[48]\ttrain's multi_logloss: 0.0406286\tvalid's multi_logloss: 0.368957\n",
      "Training until validation scores don't improve for 20 rounds\n",
      "[20]\ttrain's multi_logloss: 0.257547\tvalid's multi_logloss: 0.443916\n",
      "[40]\ttrain's multi_logloss: 0.0682371\tvalid's multi_logloss: 0.272561\n",
      "[60]\ttrain's multi_logloss: 0.022812\tvalid's multi_logloss: 0.224895\n",
      "[80]\ttrain's multi_logloss: 0.0107937\tvalid's multi_logloss: 0.210376\n",
      "[100]\ttrain's multi_logloss: 0.00679219\tvalid's multi_logloss: 0.203613\n",
      "[120]\ttrain's multi_logloss: 0.00549287\tvalid's multi_logloss: 0.19957\n",
      "[140]\ttrain's multi_logloss: 0.0050462\tvalid's multi_logloss: 0.20153\n",
      "Early stopping, best iteration is:\n",
      "[121]\ttrain's multi_logloss: 0.00544956\tvalid's multi_logloss: 0.198856\n"
     ]
    },
    {
     "name": "stderr",
     "output_type": "stream",
     "text": [
      "2022-04-17 11:33:26 - src.train - INFO     [train.py:133] elapsed training time: 0.034 min\n",
      "2022-04-17 11:33:26 - src.train - INFO     [train.py:62] fold=19/33\n",
      "2022-04-17 11:33:26 - src.train - INFO     [train.py:63] reading cv index from data/cv_index/cv-model-test/oxychlorine/fold_25.csv\n"
     ]
    },
    {
     "name": "stdout",
     "output_type": "stream",
     "text": [
      "Training until validation scores don't improve for 20 rounds\n",
      "[20]\ttrain's multi_logloss: 0.252192\tvalid's multi_logloss: 0.441473\n",
      "[40]\ttrain's multi_logloss: 0.0672232\tvalid's multi_logloss: 0.315919\n",
      "[60]\ttrain's multi_logloss: 0.02251\tvalid's multi_logloss: 0.285311\n"
     ]
    },
    {
     "name": "stderr",
     "output_type": "stream",
     "text": [
      "2022-04-17 11:33:27 - src.train - INFO     [train.py:133] elapsed training time: 0.015 min\n",
      "2022-04-17 11:33:27 - src.train - INFO     [train.py:62] fold=20/33\n",
      "2022-04-17 11:33:27 - src.train - INFO     [train.py:63] reading cv index from data/cv_index/cv-model-test/oxychlorine/fold_26.csv\n"
     ]
    },
    {
     "name": "stdout",
     "output_type": "stream",
     "text": [
      "[80]\ttrain's multi_logloss: 0.010621\tvalid's multi_logloss: 0.278298\n",
      "[100]\ttrain's multi_logloss: 0.00676777\tvalid's multi_logloss: 0.276248\n",
      "Early stopping, best iteration is:\n",
      "[89]\ttrain's multi_logloss: 0.00839877\tvalid's multi_logloss: 0.27598\n",
      "Training until validation scores don't improve for 20 rounds\n",
      "[20]\ttrain's multi_logloss: 0.24808\tvalid's multi_logloss: 0.512907\n",
      "[40]\ttrain's multi_logloss: 0.0658606\tvalid's multi_logloss: 0.347241\n",
      "[60]\ttrain's multi_logloss: 0.022185\tvalid's multi_logloss: 0.322302\n",
      "[80]\ttrain's multi_logloss: 0.0106125\tvalid's multi_logloss: 0.307315\n",
      "[100]\ttrain's multi_logloss: 0.00674715\tvalid's multi_logloss: 0.298079\n"
     ]
    },
    {
     "name": "stderr",
     "output_type": "stream",
     "text": [
      "2022-04-17 11:33:29 - src.train - INFO     [train.py:133] elapsed training time: 0.028 min\n",
      "2022-04-17 11:33:29 - src.train - INFO     [train.py:62] fold=21/33\n",
      "2022-04-17 11:33:29 - src.train - INFO     [train.py:63] reading cv index from data/cv_index/cv-model-test/oxychlorine/fold_27.csv\n"
     ]
    },
    {
     "name": "stdout",
     "output_type": "stream",
     "text": [
      "Early stopping, best iteration is:\n",
      "[96]\ttrain's multi_logloss: 0.00721382\tvalid's multi_logloss: 0.296466\n",
      "Training until validation scores don't improve for 20 rounds\n",
      "[20]\ttrain's multi_logloss: 0.2513\tvalid's multi_logloss: 0.454353\n",
      "[40]\ttrain's multi_logloss: 0.0672959\tvalid's multi_logloss: 0.327199\n",
      "[60]\ttrain's multi_logloss: 0.0223562\tvalid's multi_logloss: 0.307674\n",
      "Early stopping, best iteration is:\n",
      "[57]\ttrain's multi_logloss: 0.0257645\tvalid's multi_logloss: 0.306493\n"
     ]
    },
    {
     "name": "stderr",
     "output_type": "stream",
     "text": [
      "2022-04-17 11:33:30 - src.train - INFO     [train.py:133] elapsed training time: 0.011 min\n",
      "2022-04-17 11:33:30 - src.train - INFO     [train.py:62] fold=22/33\n",
      "2022-04-17 11:33:30 - src.train - INFO     [train.py:63] reading cv index from data/cv_index/cv-model-test/oxychlorine/fold_28.csv\n"
     ]
    },
    {
     "name": "stdout",
     "output_type": "stream",
     "text": [
      "Training until validation scores don't improve for 20 rounds\n",
      "[20]\ttrain's multi_logloss: 0.250575\tvalid's multi_logloss: 0.434848\n",
      "[40]\ttrain's multi_logloss: 0.0662021\tvalid's multi_logloss: 0.300182\n",
      "[60]\ttrain's multi_logloss: 0.0222272\tvalid's multi_logloss: 0.262505\n",
      "[80]\ttrain's multi_logloss: 0.0105861\tvalid's multi_logloss: 0.252232\n"
     ]
    },
    {
     "name": "stderr",
     "output_type": "stream",
     "text": [
      "2022-04-17 11:33:30 - src.train - INFO     [train.py:133] elapsed training time: 0.014 min\n",
      "2022-04-17 11:33:30 - src.train - INFO     [train.py:62] fold=23/33\n",
      "2022-04-17 11:33:30 - src.train - INFO     [train.py:63] reading cv index from data/cv_index/cv-model-test/oxychlorine/fold_29.csv\n"
     ]
    },
    {
     "name": "stdout",
     "output_type": "stream",
     "text": [
      "[100]\ttrain's multi_logloss: 0.00683746\tvalid's multi_logloss: 0.251189\n",
      "[120]\ttrain's multi_logloss: 0.00555112\tvalid's multi_logloss: 0.252957\n",
      "Early stopping, best iteration is:\n",
      "[107]\ttrain's multi_logloss: 0.00620892\tvalid's multi_logloss: 0.249786\n",
      "Training until validation scores don't improve for 20 rounds\n",
      "[20]\ttrain's multi_logloss: 0.255606\tvalid's multi_logloss: 0.42314\n",
      "[40]\ttrain's multi_logloss: 0.0676737\tvalid's multi_logloss: 0.29357\n",
      "[60]\ttrain's multi_logloss: 0.0227029\tvalid's multi_logloss: 0.268081\n"
     ]
    },
    {
     "name": "stderr",
     "output_type": "stream",
     "text": [
      "2022-04-17 11:33:32 - src.train - INFO     [train.py:133] elapsed training time: 0.024 min\n",
      "2022-04-17 11:33:32 - src.train - INFO     [train.py:62] fold=24/33\n",
      "2022-04-17 11:33:32 - src.train - INFO     [train.py:63] reading cv index from data/cv_index/cv-model-test/oxychlorine/fold_3.csv\n"
     ]
    },
    {
     "name": "stdout",
     "output_type": "stream",
     "text": [
      "[80]\ttrain's multi_logloss: 0.0109053\tvalid's multi_logloss: 0.26344\n",
      "Early stopping, best iteration is:\n",
      "[77]\ttrain's multi_logloss: 0.011907\tvalid's multi_logloss: 0.261499\n",
      "Training until validation scores don't improve for 20 rounds\n",
      "[20]\ttrain's multi_logloss: 0.259786\tvalid's multi_logloss: 0.464737\n",
      "[40]\ttrain's multi_logloss: 0.0697035\tvalid's multi_logloss: 0.322169\n"
     ]
    },
    {
     "name": "stderr",
     "output_type": "stream",
     "text": [
      "2022-04-17 11:33:33 - src.train - INFO     [train.py:133] elapsed training time: 0.013 min\n",
      "2022-04-17 11:33:33 - src.train - INFO     [train.py:62] fold=25/33\n",
      "2022-04-17 11:33:33 - src.train - INFO     [train.py:63] reading cv index from data/cv_index/cv-model-test/oxychlorine/fold_30.csv\n"
     ]
    },
    {
     "name": "stdout",
     "output_type": "stream",
     "text": [
      "[60]\ttrain's multi_logloss: 0.0230801\tvalid's multi_logloss: 0.284852\n",
      "[80]\ttrain's multi_logloss: 0.0109895\tvalid's multi_logloss: 0.288517\n",
      "Early stopping, best iteration is:\n",
      "[62]\ttrain's multi_logloss: 0.0211489\tvalid's multi_logloss: 0.283712\n",
      "Training until validation scores don't improve for 20 rounds\n",
      "[20]\ttrain's multi_logloss: 0.258597\tvalid's multi_logloss: 0.462976\n",
      "[40]\ttrain's multi_logloss: 0.0695215\tvalid's multi_logloss: 0.275265\n",
      "[60]\ttrain's multi_logloss: 0.0232875\tvalid's multi_logloss: 0.228071\n",
      "[80]\ttrain's multi_logloss: 0.0110315\tvalid's multi_logloss: 0.217201\n"
     ]
    },
    {
     "name": "stderr",
     "output_type": "stream",
     "text": [
      "2022-04-17 11:33:34 - src.train - INFO     [train.py:133] elapsed training time: 0.013 min\n",
      "2022-04-17 11:33:34 - src.train - INFO     [train.py:62] fold=26/33\n",
      "2022-04-17 11:33:34 - src.train - INFO     [train.py:63] reading cv index from data/cv_index/cv-model-test/oxychlorine/fold_31.csv\n"
     ]
    },
    {
     "name": "stdout",
     "output_type": "stream",
     "text": [
      "[100]\ttrain's multi_logloss: 0.00690585\tvalid's multi_logloss: 0.216276\n",
      "Early stopping, best iteration is:\n",
      "[87]\ttrain's multi_logloss: 0.00912353\tvalid's multi_logloss: 0.212563\n",
      "Training until validation scores don't improve for 20 rounds\n",
      "[20]\ttrain's multi_logloss: 0.258661\tvalid's multi_logloss: 0.530655\n",
      "[40]\ttrain's multi_logloss: 0.068042\tvalid's multi_logloss: 0.382469\n",
      "[60]\ttrain's multi_logloss: 0.0228612\tvalid's multi_logloss: 0.359628\n",
      "[80]\ttrain's multi_logloss: 0.0109935\tvalid's multi_logloss: 0.362537\n",
      "Early stopping, best iteration is:\n",
      "[65]\ttrain's multi_logloss: 0.0185215\tvalid's multi_logloss: 0.357518\n"
     ]
    },
    {
     "name": "stderr",
     "output_type": "stream",
     "text": [
      "2022-04-17 11:33:35 - src.train - INFO     [train.py:133] elapsed training time: 0.012 min\n",
      "2022-04-17 11:33:35 - src.train - INFO     [train.py:62] fold=27/33\n",
      "2022-04-17 11:33:35 - src.train - INFO     [train.py:63] reading cv index from data/cv_index/cv-model-test/oxychlorine/fold_32.csv\n"
     ]
    },
    {
     "name": "stdout",
     "output_type": "stream",
     "text": [
      "Training until validation scores don't improve for 20 rounds\n",
      "[20]\ttrain's multi_logloss: 0.256064\tvalid's multi_logloss: 0.490029\n",
      "[40]\ttrain's multi_logloss: 0.0678467\tvalid's multi_logloss: 0.372756\n",
      "[60]\ttrain's multi_logloss: 0.0227478\tvalid's multi_logloss: 0.355049\n",
      "Early stopping, best iteration is:\n",
      "[51]\ttrain's multi_logloss: 0.0357408\tvalid's multi_logloss: 0.351927\n"
     ]
    },
    {
     "name": "stderr",
     "output_type": "stream",
     "text": [
      "2022-04-17 11:33:35 - src.train - INFO     [train.py:133] elapsed training time: 0.008 min\n",
      "2022-04-17 11:33:35 - src.train - INFO     [train.py:62] fold=28/33\n",
      "2022-04-17 11:33:35 - src.train - INFO     [train.py:63] reading cv index from data/cv_index/cv-model-test/oxychlorine/fold_4.csv\n"
     ]
    },
    {
     "name": "stdout",
     "output_type": "stream",
     "text": [
      "Training until validation scores don't improve for 20 rounds\n",
      "[20]\ttrain's multi_logloss: 0.253811\tvalid's multi_logloss: 0.466517\n",
      "[40]\ttrain's multi_logloss: 0.0679003\tvalid's multi_logloss: 0.293962\n",
      "[60]\ttrain's multi_logloss: 0.0229736\tvalid's multi_logloss: 0.244882\n",
      "[80]\ttrain's multi_logloss: 0.0108267\tvalid's multi_logloss: 0.226036\n",
      "[100]\ttrain's multi_logloss: 0.00689485\tvalid's multi_logloss: 0.213717\n"
     ]
    },
    {
     "name": "stderr",
     "output_type": "stream",
     "text": [
      "2022-04-17 11:33:36 - src.train - INFO     [train.py:133] elapsed training time: 0.012 min\n",
      "2022-04-17 11:33:36 - src.train - INFO     [train.py:62] fold=29/33\n",
      "2022-04-17 11:33:36 - src.train - INFO     [train.py:63] reading cv index from data/cv_index/cv-model-test/oxychlorine/fold_5.csv\n"
     ]
    },
    {
     "name": "stdout",
     "output_type": "stream",
     "text": [
      "[120]\ttrain's multi_logloss: 0.00554379\tvalid's multi_logloss: 0.214062\n",
      "Early stopping, best iteration is:\n",
      "[110]\ttrain's multi_logloss: 0.00605282\tvalid's multi_logloss: 0.211834\n",
      "Training until validation scores don't improve for 20 rounds\n",
      "[20]\ttrain's multi_logloss: 0.250405\tvalid's multi_logloss: 0.457064\n",
      "[40]\ttrain's multi_logloss: 0.0650083\tvalid's multi_logloss: 0.328157\n",
      "[60]\ttrain's multi_logloss: 0.0218871\tvalid's multi_logloss: 0.305251\n"
     ]
    },
    {
     "name": "stderr",
     "output_type": "stream",
     "text": [
      "2022-04-17 11:33:37 - src.train - INFO     [train.py:133] elapsed training time: 0.010 min\n",
      "2022-04-17 11:33:37 - src.train - INFO     [train.py:62] fold=30/33\n",
      "2022-04-17 11:33:37 - src.train - INFO     [train.py:63] reading cv index from data/cv_index/cv-model-test/oxychlorine/fold_6.csv\n"
     ]
    },
    {
     "name": "stdout",
     "output_type": "stream",
     "text": [
      "Early stopping, best iteration is:\n",
      "[58]\ttrain's multi_logloss: 0.0239389\tvalid's multi_logloss: 0.302559\n",
      "Training until validation scores don't improve for 20 rounds\n",
      "[20]\ttrain's multi_logloss: 0.250584\tvalid's multi_logloss: 0.520192\n",
      "[40]\ttrain's multi_logloss: 0.0645531\tvalid's multi_logloss: 0.394791\n",
      "[60]\ttrain's multi_logloss: 0.0214344\tvalid's multi_logloss: 0.36519\n"
     ]
    },
    {
     "name": "stderr",
     "output_type": "stream",
     "text": [
      "2022-04-17 11:33:38 - src.train - INFO     [train.py:133] elapsed training time: 0.010 min\n",
      "2022-04-17 11:33:38 - src.train - INFO     [train.py:62] fold=31/33\n",
      "2022-04-17 11:33:38 - src.train - INFO     [train.py:63] reading cv index from data/cv_index/cv-model-test/oxychlorine/fold_7.csv\n"
     ]
    },
    {
     "name": "stdout",
     "output_type": "stream",
     "text": [
      "[80]\ttrain's multi_logloss: 0.0100984\tvalid's multi_logloss: 0.367811\n",
      "Early stopping, best iteration is:\n",
      "[64]\ttrain's multi_logloss: 0.0180129\tvalid's multi_logloss: 0.360478\n",
      "Training until validation scores don't improve for 20 rounds\n",
      "[20]\ttrain's multi_logloss: 0.2562\tvalid's multi_logloss: 0.542193\n",
      "[40]\ttrain's multi_logloss: 0.0675107\tvalid's multi_logloss: 0.430629\n",
      "[60]\ttrain's multi_logloss: 0.0225393\tvalid's multi_logloss: 0.408187\n"
     ]
    },
    {
     "name": "stderr",
     "output_type": "stream",
     "text": [
      "2022-04-17 11:33:39 - src.train - INFO     [train.py:133] elapsed training time: 0.014 min\n",
      "2022-04-17 11:33:39 - src.train - INFO     [train.py:62] fold=32/33\n",
      "2022-04-17 11:33:39 - src.train - INFO     [train.py:63] reading cv index from data/cv_index/cv-model-test/oxychlorine/fold_8.csv\n"
     ]
    },
    {
     "name": "stdout",
     "output_type": "stream",
     "text": [
      "[80]\ttrain's multi_logloss: 0.0106321\tvalid's multi_logloss: 0.406929\n",
      "Early stopping, best iteration is:\n",
      "[71]\ttrain's multi_logloss: 0.0143098\tvalid's multi_logloss: 0.400471\n",
      "Training until validation scores don't improve for 20 rounds\n",
      "[20]\ttrain's multi_logloss: 0.256334\tvalid's multi_logloss: 0.462699\n",
      "[40]\ttrain's multi_logloss: 0.0655251\tvalid's multi_logloss: 0.353038\n",
      "[60]\ttrain's multi_logloss: 0.021803\tvalid's multi_logloss: 0.349636\n"
     ]
    },
    {
     "name": "stderr",
     "output_type": "stream",
     "text": [
      "2022-04-17 11:33:40 - src.train - INFO     [train.py:133] elapsed training time: 0.016 min\n",
      "2022-04-17 11:33:40 - src.train - INFO     [train.py:62] fold=33/33\n",
      "2022-04-17 11:33:40 - src.train - INFO     [train.py:63] reading cv index from data/cv_index/cv-model-test/oxychlorine/fold_9.csv\n"
     ]
    },
    {
     "name": "stdout",
     "output_type": "stream",
     "text": [
      "[80]\ttrain's multi_logloss: 0.0104622\tvalid's multi_logloss: 0.353009\n",
      "Early stopping, best iteration is:\n",
      "[66]\ttrain's multi_logloss: 0.0169364\tvalid's multi_logloss: 0.344606\n",
      "Training until validation scores don't improve for 20 rounds\n",
      "[20]\ttrain's multi_logloss: 0.257479\tvalid's multi_logloss: 0.398104\n",
      "[40]\ttrain's multi_logloss: 0.0666707\tvalid's multi_logloss: 0.270087\n",
      "[60]\ttrain's multi_logloss: 0.0223245\tvalid's multi_logloss: 0.26105\n",
      "[80]\ttrain's multi_logloss: 0.0104106\tvalid's multi_logloss: 0.256202\n"
     ]
    },
    {
     "name": "stderr",
     "output_type": "stream",
     "text": [
      "2022-04-17 11:33:40 - src.train - INFO     [train.py:133] elapsed training time: 0.012 min\n",
      "2022-04-17 11:33:40 - src.train - INFO     [train.py:62] fold=1/33\n",
      "2022-04-17 11:33:40 - src.train - INFO     [train.py:63] reading cv index from data/cv_index/cv-model-test/oxychlorine/fold_0.csv\n"
     ]
    },
    {
     "name": "stdout",
     "output_type": "stream",
     "text": [
      "[100]\ttrain's multi_logloss: 0.00663539\tvalid's multi_logloss: 0.259395\n",
      "Early stopping, best iteration is:\n",
      "[81]\ttrain's multi_logloss: 0.0101034\tvalid's multi_logloss: 0.255906\n",
      "71\n"
     ]
    },
    {
     "name": "stderr",
     "output_type": "stream",
     "text": [
      "2022-04-17 11:33:41 - src.train - INFO     [train.py:28] elapsed training time: 0.013 min\n",
      "2022-04-17 11:33:41 - src.train - INFO     [train.py:62] fold=2/33\n",
      "2022-04-17 11:33:41 - src.train - INFO     [train.py:63] reading cv index from data/cv_index/cv-model-test/oxychlorine/fold_1.csv\n",
      "2022-04-17 11:33:42 - src.train - INFO     [train.py:28] elapsed training time: 0.011 min\n",
      "2022-04-17 11:33:42 - src.train - INFO     [train.py:62] fold=3/33\n",
      "2022-04-17 11:33:42 - src.train - INFO     [train.py:63] reading cv index from data/cv_index/cv-model-test/oxychlorine/fold_10.csv\n",
      "2022-04-17 11:33:43 - src.train - INFO     [train.py:28] elapsed training time: 0.008 min\n",
      "2022-04-17 11:33:43 - src.train - INFO     [train.py:62] fold=4/33\n",
      "2022-04-17 11:33:43 - src.train - INFO     [train.py:63] reading cv index from data/cv_index/cv-model-test/oxychlorine/fold_11.csv\n",
      "2022-04-17 11:33:43 - src.train - INFO     [train.py:28] elapsed training time: 0.008 min\n",
      "2022-04-17 11:33:43 - src.train - INFO     [train.py:62] fold=5/33\n",
      "2022-04-17 11:33:43 - src.train - INFO     [train.py:63] reading cv index from data/cv_index/cv-model-test/oxychlorine/fold_12.csv\n",
      "2022-04-17 11:33:44 - src.train - INFO     [train.py:28] elapsed training time: 0.009 min\n",
      "2022-04-17 11:33:44 - src.train - INFO     [train.py:62] fold=6/33\n",
      "2022-04-17 11:33:44 - src.train - INFO     [train.py:63] reading cv index from data/cv_index/cv-model-test/oxychlorine/fold_13.csv\n",
      "2022-04-17 11:33:45 - src.train - INFO     [train.py:28] elapsed training time: 0.010 min\n",
      "2022-04-17 11:33:45 - src.train - INFO     [train.py:62] fold=7/33\n",
      "2022-04-17 11:33:45 - src.train - INFO     [train.py:63] reading cv index from data/cv_index/cv-model-test/oxychlorine/fold_14.csv\n",
      "2022-04-17 11:33:46 - src.train - INFO     [train.py:28] elapsed training time: 0.021 min\n",
      "2022-04-17 11:33:46 - src.train - INFO     [train.py:62] fold=8/33\n",
      "2022-04-17 11:33:46 - src.train - INFO     [train.py:63] reading cv index from data/cv_index/cv-model-test/oxychlorine/fold_15.csv\n",
      "2022-04-17 11:33:47 - src.train - INFO     [train.py:28] elapsed training time: 0.010 min\n",
      "2022-04-17 11:33:47 - src.train - INFO     [train.py:62] fold=9/33\n",
      "2022-04-17 11:33:47 - src.train - INFO     [train.py:63] reading cv index from data/cv_index/cv-model-test/oxychlorine/fold_16.csv\n",
      "2022-04-17 11:33:47 - src.train - INFO     [train.py:28] elapsed training time: 0.007 min\n",
      "2022-04-17 11:33:47 - src.train - INFO     [train.py:62] fold=10/33\n",
      "2022-04-17 11:33:47 - src.train - INFO     [train.py:63] reading cv index from data/cv_index/cv-model-test/oxychlorine/fold_17.csv\n",
      "2022-04-17 11:33:48 - src.train - INFO     [train.py:28] elapsed training time: 0.017 min\n",
      "2022-04-17 11:33:48 - src.train - INFO     [train.py:62] fold=11/33\n",
      "2022-04-17 11:33:48 - src.train - INFO     [train.py:63] reading cv index from data/cv_index/cv-model-test/oxychlorine/fold_18.csv\n",
      "2022-04-17 11:33:49 - src.train - INFO     [train.py:28] elapsed training time: 0.009 min\n",
      "2022-04-17 11:33:49 - src.train - INFO     [train.py:62] fold=12/33\n",
      "2022-04-17 11:33:49 - src.train - INFO     [train.py:63] reading cv index from data/cv_index/cv-model-test/oxychlorine/fold_19.csv\n",
      "2022-04-17 11:33:50 - src.train - INFO     [train.py:28] elapsed training time: 0.008 min\n",
      "2022-04-17 11:33:50 - src.train - INFO     [train.py:62] fold=13/33\n",
      "2022-04-17 11:33:50 - src.train - INFO     [train.py:63] reading cv index from data/cv_index/cv-model-test/oxychlorine/fold_2.csv\n",
      "2022-04-17 11:33:50 - src.train - INFO     [train.py:28] elapsed training time: 0.010 min\n",
      "2022-04-17 11:33:50 - src.train - INFO     [train.py:62] fold=14/33\n",
      "2022-04-17 11:33:50 - src.train - INFO     [train.py:63] reading cv index from data/cv_index/cv-model-test/oxychlorine/fold_20.csv\n",
      "2022-04-17 11:33:51 - src.train - INFO     [train.py:28] elapsed training time: 0.008 min\n",
      "2022-04-17 11:33:51 - src.train - INFO     [train.py:62] fold=15/33\n",
      "2022-04-17 11:33:51 - src.train - INFO     [train.py:63] reading cv index from data/cv_index/cv-model-test/oxychlorine/fold_21.csv\n",
      "2022-04-17 11:33:52 - src.train - INFO     [train.py:28] elapsed training time: 0.014 min\n",
      "2022-04-17 11:33:52 - src.train - INFO     [train.py:62] fold=16/33\n",
      "2022-04-17 11:33:52 - src.train - INFO     [train.py:63] reading cv index from data/cv_index/cv-model-test/oxychlorine/fold_22.csv\n",
      "2022-04-17 11:33:53 - src.train - INFO     [train.py:28] elapsed training time: 0.009 min\n",
      "2022-04-17 11:33:53 - src.train - INFO     [train.py:62] fold=17/33\n",
      "2022-04-17 11:33:53 - src.train - INFO     [train.py:63] reading cv index from data/cv_index/cv-model-test/oxychlorine/fold_23.csv\n",
      "2022-04-17 11:33:53 - src.train - INFO     [train.py:28] elapsed training time: 0.006 min\n",
      "2022-04-17 11:33:53 - src.train - INFO     [train.py:62] fold=18/33\n",
      "2022-04-17 11:33:53 - src.train - INFO     [train.py:63] reading cv index from data/cv_index/cv-model-test/oxychlorine/fold_24.csv\n",
      "2022-04-17 11:33:54 - src.train - INFO     [train.py:28] elapsed training time: 0.006 min\n",
      "2022-04-17 11:33:54 - src.train - INFO     [train.py:62] fold=19/33\n",
      "2022-04-17 11:33:54 - src.train - INFO     [train.py:63] reading cv index from data/cv_index/cv-model-test/oxychlorine/fold_25.csv\n",
      "2022-04-17 11:33:54 - src.train - INFO     [train.py:28] elapsed training time: 0.011 min\n",
      "2022-04-17 11:33:54 - src.train - INFO     [train.py:62] fold=20/33\n",
      "2022-04-17 11:33:54 - src.train - INFO     [train.py:63] reading cv index from data/cv_index/cv-model-test/oxychlorine/fold_26.csv\n",
      "2022-04-17 11:33:55 - src.train - INFO     [train.py:28] elapsed training time: 0.007 min\n",
      "2022-04-17 11:33:55 - src.train - INFO     [train.py:62] fold=21/33\n",
      "2022-04-17 11:33:55 - src.train - INFO     [train.py:63] reading cv index from data/cv_index/cv-model-test/oxychlorine/fold_27.csv\n",
      "2022-04-17 11:33:56 - src.train - INFO     [train.py:28] elapsed training time: 0.013 min\n",
      "2022-04-17 11:33:56 - src.train - INFO     [train.py:62] fold=22/33\n",
      "2022-04-17 11:33:56 - src.train - INFO     [train.py:63] reading cv index from data/cv_index/cv-model-test/oxychlorine/fold_28.csv\n",
      "2022-04-17 11:33:57 - src.train - INFO     [train.py:28] elapsed training time: 0.011 min\n",
      "2022-04-17 11:33:57 - src.train - INFO     [train.py:62] fold=23/33\n",
      "2022-04-17 11:33:57 - src.train - INFO     [train.py:63] reading cv index from data/cv_index/cv-model-test/oxychlorine/fold_29.csv\n",
      "2022-04-17 11:33:57 - src.train - INFO     [train.py:28] elapsed training time: 0.011 min\n",
      "2022-04-17 11:33:57 - src.train - INFO     [train.py:62] fold=24/33\n",
      "2022-04-17 11:33:57 - src.train - INFO     [train.py:63] reading cv index from data/cv_index/cv-model-test/oxychlorine/fold_3.csv\n",
      "2022-04-17 11:33:59 - src.train - INFO     [train.py:28] elapsed training time: 0.018 min\n",
      "2022-04-17 11:33:59 - src.train - INFO     [train.py:62] fold=25/33\n",
      "2022-04-17 11:33:59 - src.train - INFO     [train.py:63] reading cv index from data/cv_index/cv-model-test/oxychlorine/fold_30.csv\n",
      "2022-04-17 11:33:59 - src.train - INFO     [train.py:28] elapsed training time: 0.008 min\n",
      "2022-04-17 11:33:59 - src.train - INFO     [train.py:62] fold=26/33\n",
      "2022-04-17 11:33:59 - src.train - INFO     [train.py:63] reading cv index from data/cv_index/cv-model-test/oxychlorine/fold_31.csv\n",
      "2022-04-17 11:34:00 - src.train - INFO     [train.py:28] elapsed training time: 0.007 min\n",
      "2022-04-17 11:34:00 - src.train - INFO     [train.py:62] fold=27/33\n",
      "2022-04-17 11:34:00 - src.train - INFO     [train.py:63] reading cv index from data/cv_index/cv-model-test/oxychlorine/fold_32.csv\n",
      "2022-04-17 11:34:00 - src.train - INFO     [train.py:28] elapsed training time: 0.010 min\n",
      "2022-04-17 11:34:00 - src.train - INFO     [train.py:62] fold=28/33\n",
      "2022-04-17 11:34:00 - src.train - INFO     [train.py:63] reading cv index from data/cv_index/cv-model-test/oxychlorine/fold_4.csv\n",
      "2022-04-17 11:34:01 - src.train - INFO     [train.py:28] elapsed training time: 0.009 min\n",
      "2022-04-17 11:34:01 - src.train - INFO     [train.py:62] fold=29/33\n",
      "2022-04-17 11:34:01 - src.train - INFO     [train.py:63] reading cv index from data/cv_index/cv-model-test/oxychlorine/fold_5.csv\n",
      "2022-04-17 11:34:02 - src.train - INFO     [train.py:28] elapsed training time: 0.009 min\n",
      "2022-04-17 11:34:02 - src.train - INFO     [train.py:62] fold=30/33\n"
     ]
    },
    {
     "name": "stderr",
     "output_type": "stream",
     "text": [
      "2022-04-17 11:34:02 - src.train - INFO     [train.py:63] reading cv index from data/cv_index/cv-model-test/oxychlorine/fold_6.csv\n",
      "2022-04-17 11:34:02 - src.train - INFO     [train.py:28] elapsed training time: 0.007 min\n",
      "2022-04-17 11:34:02 - src.train - INFO     [train.py:62] fold=31/33\n",
      "2022-04-17 11:34:02 - src.train - INFO     [train.py:63] reading cv index from data/cv_index/cv-model-test/oxychlorine/fold_7.csv\n",
      "2022-04-17 11:34:03 - src.train - INFO     [train.py:28] elapsed training time: 0.008 min\n",
      "2022-04-17 11:34:03 - src.train - INFO     [train.py:62] fold=32/33\n",
      "2022-04-17 11:34:03 - src.train - INFO     [train.py:63] reading cv index from data/cv_index/cv-model-test/oxychlorine/fold_8.csv\n",
      "2022-04-17 11:34:04 - src.train - INFO     [train.py:28] elapsed training time: 0.009 min\n",
      "2022-04-17 11:34:04 - src.train - INFO     [train.py:62] fold=33/33\n",
      "2022-04-17 11:34:04 - src.train - INFO     [train.py:63] reading cv index from data/cv_index/cv-model-test/oxychlorine/fold_9.csv\n",
      "2022-04-17 11:34:04 - src.train - INFO     [train.py:28] elapsed training time: 0.009 min\n",
      "2022-04-17 11:34:04 - src.train - INFO     [train.py:62] fold=1/33\n",
      "2022-04-17 11:34:04 - src.train - INFO     [train.py:63] reading cv index from data/cv_index/cv-model-test/phyllosilicate/fold_0.csv\n"
     ]
    },
    {
     "name": "stdout",
     "output_type": "stream",
     "text": [
      "Training until validation scores don't improve for 20 rounds\n",
      "[20]\ttrain's multi_logloss: 0.303912\tvalid's multi_logloss: 0.589695\n",
      "[40]\ttrain's multi_logloss: 0.0899751\tvalid's multi_logloss: 0.437419\n",
      "[60]\ttrain's multi_logloss: 0.032286\tvalid's multi_logloss: 0.384517\n",
      "[80]\ttrain's multi_logloss: 0.0149632\tvalid's multi_logloss: 0.377368\n"
     ]
    },
    {
     "name": "stderr",
     "output_type": "stream",
     "text": [
      "2022-04-17 11:34:05 - src.train - INFO     [train.py:133] elapsed training time: 0.012 min\n",
      "2022-04-17 11:34:05 - src.train - INFO     [train.py:62] fold=2/33\n",
      "2022-04-17 11:34:05 - src.train - INFO     [train.py:63] reading cv index from data/cv_index/cv-model-test/phyllosilicate/fold_1.csv\n"
     ]
    },
    {
     "name": "stdout",
     "output_type": "stream",
     "text": [
      "Early stopping, best iteration is:\n",
      "[79]\ttrain's multi_logloss: 0.0154536\tvalid's multi_logloss: 0.377329\n",
      "Training until validation scores don't improve for 20 rounds\n",
      "[20]\ttrain's multi_logloss: 0.294782\tvalid's multi_logloss: 0.577059\n",
      "[40]\ttrain's multi_logloss: 0.0871099\tvalid's multi_logloss: 0.470736\n",
      "[60]\ttrain's multi_logloss: 0.0306859\tvalid's multi_logloss: 0.474136\n"
     ]
    },
    {
     "name": "stderr",
     "output_type": "stream",
     "text": [
      "2022-04-17 11:34:06 - src.train - INFO     [train.py:133] elapsed training time: 0.014 min\n",
      "2022-04-17 11:34:06 - src.train - INFO     [train.py:62] fold=3/33\n",
      "2022-04-17 11:34:06 - src.train - INFO     [train.py:63] reading cv index from data/cv_index/cv-model-test/phyllosilicate/fold_10.csv\n"
     ]
    },
    {
     "name": "stdout",
     "output_type": "stream",
     "text": [
      "Early stopping, best iteration is:\n",
      "[48]\ttrain's multi_logloss: 0.0560645\tvalid's multi_logloss: 0.460045\n",
      "Training until validation scores don't improve for 20 rounds\n",
      "[20]\ttrain's multi_logloss: 0.300585\tvalid's multi_logloss: 0.617389\n",
      "[40]\ttrain's multi_logloss: 0.090057\tvalid's multi_logloss: 0.463576\n",
      "[60]\ttrain's multi_logloss: 0.0323749\tvalid's multi_logloss: 0.450285\n"
     ]
    },
    {
     "name": "stderr",
     "output_type": "stream",
     "text": [
      "2022-04-17 11:34:07 - src.train - INFO     [train.py:133] elapsed training time: 0.013 min\n",
      "2022-04-17 11:34:07 - src.train - INFO     [train.py:62] fold=4/33\n",
      "2022-04-17 11:34:07 - src.train - INFO     [train.py:63] reading cv index from data/cv_index/cv-model-test/phyllosilicate/fold_11.csv\n"
     ]
    },
    {
     "name": "stdout",
     "output_type": "stream",
     "text": [
      "[80]\ttrain's multi_logloss: 0.0151025\tvalid's multi_logloss: 0.456822\n",
      "Early stopping, best iteration is:\n",
      "[63]\ttrain's multi_logloss: 0.0282261\tvalid's multi_logloss: 0.448741\n",
      "Training until validation scores don't improve for 20 rounds\n",
      "[20]\ttrain's multi_logloss: 0.303923\tvalid's multi_logloss: 0.592414\n",
      "[40]\ttrain's multi_logloss: 0.0918679\tvalid's multi_logloss: 0.427348\n",
      "[60]\ttrain's multi_logloss: 0.0328957\tvalid's multi_logloss: 0.395834\n"
     ]
    },
    {
     "name": "stderr",
     "output_type": "stream",
     "text": [
      "2022-04-17 11:34:08 - src.train - INFO     [train.py:133] elapsed training time: 0.014 min\n",
      "2022-04-17 11:34:08 - src.train - INFO     [train.py:62] fold=5/33\n",
      "2022-04-17 11:34:08 - src.train - INFO     [train.py:63] reading cv index from data/cv_index/cv-model-test/phyllosilicate/fold_12.csv\n"
     ]
    },
    {
     "name": "stdout",
     "output_type": "stream",
     "text": [
      "[80]\ttrain's multi_logloss: 0.0153423\tvalid's multi_logloss: 0.389096\n",
      "[100]\ttrain's multi_logloss: 0.00917022\tvalid's multi_logloss: 0.388137\n",
      "Early stopping, best iteration is:\n",
      "[86]\ttrain's multi_logloss: 0.0129176\tvalid's multi_logloss: 0.386837\n",
      "Training until validation scores don't improve for 20 rounds\n",
      "[20]\ttrain's multi_logloss: 0.308118\tvalid's multi_logloss: 0.502812\n",
      "[40]\ttrain's multi_logloss: 0.0935926\tvalid's multi_logloss: 0.389484\n",
      "[60]\ttrain's multi_logloss: 0.0334477\tvalid's multi_logloss: 0.355856\n"
     ]
    },
    {
     "name": "stderr",
     "output_type": "stream",
     "text": [
      "2022-04-17 11:34:09 - src.train - INFO     [train.py:133] elapsed training time: 0.012 min\n",
      "2022-04-17 11:34:09 - src.train - INFO     [train.py:62] fold=6/33\n",
      "2022-04-17 11:34:09 - src.train - INFO     [train.py:63] reading cv index from data/cv_index/cv-model-test/phyllosilicate/fold_13.csv\n"
     ]
    },
    {
     "name": "stdout",
     "output_type": "stream",
     "text": [
      "[80]\ttrain's multi_logloss: 0.0156708\tvalid's multi_logloss: 0.368241\n",
      "Early stopping, best iteration is:\n",
      "[60]\ttrain's multi_logloss: 0.0334477\tvalid's multi_logloss: 0.355856\n",
      "Training until validation scores don't improve for 20 rounds\n",
      "[20]\ttrain's multi_logloss: 0.297477\tvalid's multi_logloss: 0.616707\n",
      "[40]\ttrain's multi_logloss: 0.0875799\tvalid's multi_logloss: 0.483688\n",
      "[60]\ttrain's multi_logloss: 0.0312392\tvalid's multi_logloss: 0.461422\n",
      "[80]\ttrain's multi_logloss: 0.0147408\tvalid's multi_logloss: 0.46297\n",
      "Early stopping, best iteration is:\n",
      "[66]\ttrain's multi_logloss: 0.0241159\tvalid's multi_logloss: 0.454514\n"
     ]
    },
    {
     "name": "stderr",
     "output_type": "stream",
     "text": [
      "2022-04-17 11:34:10 - src.train - INFO     [train.py:133] elapsed training time: 0.022 min\n",
      "2022-04-17 11:34:10 - src.train - INFO     [train.py:62] fold=7/33\n",
      "2022-04-17 11:34:10 - src.train - INFO     [train.py:63] reading cv index from data/cv_index/cv-model-test/phyllosilicate/fold_14.csv\n"
     ]
    },
    {
     "name": "stdout",
     "output_type": "stream",
     "text": [
      "Training until validation scores don't improve for 20 rounds\n",
      "[20]\ttrain's multi_logloss: 0.296943\tvalid's multi_logloss: 0.643974\n",
      "[40]\ttrain's multi_logloss: 0.0867424\tvalid's multi_logloss: 0.529113\n"
     ]
    },
    {
     "name": "stderr",
     "output_type": "stream",
     "text": [
      "2022-04-17 11:34:12 - src.train - INFO     [train.py:133] elapsed training time: 0.029 min\n",
      "2022-04-17 11:34:12 - src.train - INFO     [train.py:62] fold=8/33\n",
      "2022-04-17 11:34:12 - src.train - INFO     [train.py:63] reading cv index from data/cv_index/cv-model-test/phyllosilicate/fold_15.csv\n"
     ]
    },
    {
     "name": "stdout",
     "output_type": "stream",
     "text": [
      "[60]\ttrain's multi_logloss: 0.0301112\tvalid's multi_logloss: 0.534051\n",
      "Early stopping, best iteration is:\n",
      "[49]\ttrain's multi_logloss: 0.0526946\tvalid's multi_logloss: 0.521895\n",
      "Training until validation scores don't improve for 20 rounds\n",
      "[20]\ttrain's multi_logloss: 0.307455\tvalid's multi_logloss: 0.558256\n",
      "[40]\ttrain's multi_logloss: 0.0944719\tvalid's multi_logloss: 0.396803\n",
      "[60]\ttrain's multi_logloss: 0.0338469\tvalid's multi_logloss: 0.346488\n"
     ]
    },
    {
     "name": "stderr",
     "output_type": "stream",
     "text": [
      "2022-04-17 11:34:13 - src.train - INFO     [train.py:133] elapsed training time: 0.014 min\n",
      "2022-04-17 11:34:13 - src.train - INFO     [train.py:62] fold=9/33\n",
      "2022-04-17 11:34:13 - src.train - INFO     [train.py:63] reading cv index from data/cv_index/cv-model-test/phyllosilicate/fold_16.csv\n"
     ]
    },
    {
     "name": "stdout",
     "output_type": "stream",
     "text": [
      "[80]\ttrain's multi_logloss: 0.0154638\tvalid's multi_logloss: 0.343352\n",
      "Early stopping, best iteration is:\n",
      "[73]\ttrain's multi_logloss: 0.0196494\tvalid's multi_logloss: 0.339076\n",
      "Training until validation scores don't improve for 20 rounds\n",
      "[20]\ttrain's multi_logloss: 0.305799\tvalid's multi_logloss: 0.509984\n",
      "[40]\ttrain's multi_logloss: 0.0921837\tvalid's multi_logloss: 0.369436\n",
      "[60]\ttrain's multi_logloss: 0.0327918\tvalid's multi_logloss: 0.348444\n"
     ]
    },
    {
     "name": "stderr",
     "output_type": "stream",
     "text": [
      "2022-04-17 11:34:14 - src.train - INFO     [train.py:133] elapsed training time: 0.013 min\n",
      "2022-04-17 11:34:14 - src.train - INFO     [train.py:62] fold=10/33\n",
      "2022-04-17 11:34:14 - src.train - INFO     [train.py:63] reading cv index from data/cv_index/cv-model-test/phyllosilicate/fold_17.csv\n"
     ]
    },
    {
     "name": "stdout",
     "output_type": "stream",
     "text": [
      "Early stopping, best iteration is:\n",
      "[54]\ttrain's multi_logloss: 0.0438678\tvalid's multi_logloss: 0.345981\n",
      "Training until validation scores don't improve for 20 rounds\n",
      "[20]\ttrain's multi_logloss: 0.305035\tvalid's multi_logloss: 0.590155\n",
      "[40]\ttrain's multi_logloss: 0.0902925\tvalid's multi_logloss: 0.491501\n"
     ]
    },
    {
     "name": "stderr",
     "output_type": "stream",
     "text": [
      "2022-04-17 11:34:15 - src.train - INFO     [train.py:133] elapsed training time: 0.012 min\n",
      "2022-04-17 11:34:15 - src.train - INFO     [train.py:62] fold=11/33\n",
      "2022-04-17 11:34:15 - src.train - INFO     [train.py:63] reading cv index from data/cv_index/cv-model-test/phyllosilicate/fold_18.csv\n"
     ]
    },
    {
     "name": "stdout",
     "output_type": "stream",
     "text": [
      "[60]\ttrain's multi_logloss: 0.0324701\tvalid's multi_logloss: 0.504301\n",
      "Early stopping, best iteration is:\n",
      "[41]\ttrain's multi_logloss: 0.0852395\tvalid's multi_logloss: 0.489679\n",
      "Training until validation scores don't improve for 20 rounds\n",
      "[20]\ttrain's multi_logloss: 0.303094\tvalid's multi_logloss: 0.598445\n",
      "[40]\ttrain's multi_logloss: 0.0900565\tvalid's multi_logloss: 0.441809\n",
      "[60]\ttrain's multi_logloss: 0.0322638\tvalid's multi_logloss: 0.392254\n"
     ]
    },
    {
     "name": "stderr",
     "output_type": "stream",
     "text": [
      "2022-04-17 11:34:16 - src.train - INFO     [train.py:133] elapsed training time: 0.015 min\n",
      "2022-04-17 11:34:16 - src.train - INFO     [train.py:62] fold=12/33\n",
      "2022-04-17 11:34:16 - src.train - INFO     [train.py:63] reading cv index from data/cv_index/cv-model-test/phyllosilicate/fold_19.csv\n"
     ]
    },
    {
     "name": "stdout",
     "output_type": "stream",
     "text": [
      "[80]\ttrain's multi_logloss: 0.0149912\tvalid's multi_logloss: 0.370907\n",
      "[100]\ttrain's multi_logloss: 0.00895107\tvalid's multi_logloss: 0.366446\n",
      "Early stopping, best iteration is:\n",
      "[90]\ttrain's multi_logloss: 0.0112949\tvalid's multi_logloss: 0.363941\n",
      "Training until validation scores don't improve for 20 rounds\n",
      "[20]\ttrain's multi_logloss: 0.294585\tvalid's multi_logloss: 0.563199\n",
      "[40]\ttrain's multi_logloss: 0.0867625\tvalid's multi_logloss: 0.4259\n",
      "[60]\ttrain's multi_logloss: 0.0311622\tvalid's multi_logloss: 0.401598\n"
     ]
    },
    {
     "name": "stderr",
     "output_type": "stream",
     "text": [
      "2022-04-17 11:34:17 - src.train - INFO     [train.py:133] elapsed training time: 0.014 min\n",
      "2022-04-17 11:34:17 - src.train - INFO     [train.py:62] fold=13/33\n",
      "2022-04-17 11:34:17 - src.train - INFO     [train.py:63] reading cv index from data/cv_index/cv-model-test/phyllosilicate/fold_2.csv\n"
     ]
    },
    {
     "name": "stdout",
     "output_type": "stream",
     "text": [
      "[80]\ttrain's multi_logloss: 0.0146221\tvalid's multi_logloss: 0.394704\n",
      "Early stopping, best iteration is:\n",
      "[73]\ttrain's multi_logloss: 0.0185485\tvalid's multi_logloss: 0.391372\n",
      "Training until validation scores don't improve for 20 rounds\n",
      "[20]\ttrain's multi_logloss: 0.304647\tvalid's multi_logloss: 0.627684\n",
      "[40]\ttrain's multi_logloss: 0.0902472\tvalid's multi_logloss: 0.490552\n",
      "[60]\ttrain's multi_logloss: 0.0323412\tvalid's multi_logloss: 0.444434\n"
     ]
    },
    {
     "name": "stderr",
     "output_type": "stream",
     "text": [
      "2022-04-17 11:34:18 - src.train - INFO     [train.py:133] elapsed training time: 0.014 min\n",
      "2022-04-17 11:34:18 - src.train - INFO     [train.py:62] fold=14/33\n",
      "2022-04-17 11:34:18 - src.train - INFO     [train.py:63] reading cv index from data/cv_index/cv-model-test/phyllosilicate/fold_20.csv\n"
     ]
    },
    {
     "name": "stdout",
     "output_type": "stream",
     "text": [
      "[80]\ttrain's multi_logloss: 0.0149723\tvalid's multi_logloss: 0.447895\n",
      "Early stopping, best iteration is:\n",
      "[65]\ttrain's multi_logloss: 0.0259463\tvalid's multi_logloss: 0.439911\n",
      "Training until validation scores don't improve for 20 rounds\n",
      "[20]\ttrain's multi_logloss: 0.302013\tvalid's multi_logloss: 0.583292\n",
      "[40]\ttrain's multi_logloss: 0.0906198\tvalid's multi_logloss: 0.423039\n",
      "[60]\ttrain's multi_logloss: 0.0328368\tvalid's multi_logloss: 0.371064\n"
     ]
    },
    {
     "name": "stderr",
     "output_type": "stream",
     "text": [
      "2022-04-17 11:34:19 - src.train - INFO     [train.py:133] elapsed training time: 0.016 min\n",
      "2022-04-17 11:34:19 - src.train - INFO     [train.py:62] fold=15/33\n",
      "2022-04-17 11:34:19 - src.train - INFO     [train.py:63] reading cv index from data/cv_index/cv-model-test/phyllosilicate/fold_21.csv\n"
     ]
    },
    {
     "name": "stdout",
     "output_type": "stream",
     "text": [
      "[80]\ttrain's multi_logloss: 0.015223\tvalid's multi_logloss: 0.360779\n",
      "[100]\ttrain's multi_logloss: 0.00904748\tvalid's multi_logloss: 0.355532\n",
      "[120]\ttrain's multi_logloss: 0.00678135\tvalid's multi_logloss: 0.357645\n",
      "Early stopping, best iteration is:\n",
      "[100]\ttrain's multi_logloss: 0.00904748\tvalid's multi_logloss: 0.355532\n",
      "Training until validation scores don't improve for 20 rounds\n",
      "[20]\ttrain's multi_logloss: 0.307056\tvalid's multi_logloss: 0.53748\n",
      "[40]\ttrain's multi_logloss: 0.0921169\tvalid's multi_logloss: 0.35764\n",
      "[60]\ttrain's multi_logloss: 0.0327796\tvalid's multi_logloss: 0.31785\n"
     ]
    },
    {
     "name": "stderr",
     "output_type": "stream",
     "text": [
      "2022-04-17 11:34:20 - src.train - INFO     [train.py:133] elapsed training time: 0.020 min\n",
      "2022-04-17 11:34:20 - src.train - INFO     [train.py:62] fold=16/33\n",
      "2022-04-17 11:34:20 - src.train - INFO     [train.py:63] reading cv index from data/cv_index/cv-model-test/phyllosilicate/fold_22.csv\n"
     ]
    },
    {
     "name": "stdout",
     "output_type": "stream",
     "text": [
      "[80]\ttrain's multi_logloss: 0.0153059\tvalid's multi_logloss: 0.30919\n",
      "[100]\ttrain's multi_logloss: 0.00911318\tvalid's multi_logloss: 0.304976\n",
      "Early stopping, best iteration is:\n",
      "[99]\ttrain's multi_logloss: 0.00933407\tvalid's multi_logloss: 0.304451\n",
      "Training until validation scores don't improve for 20 rounds\n",
      "[20]\ttrain's multi_logloss: 0.300559\tvalid's multi_logloss: 0.567818\n",
      "[40]\ttrain's multi_logloss: 0.0886655\tvalid's multi_logloss: 0.437672\n",
      "[60]\ttrain's multi_logloss: 0.0317009\tvalid's multi_logloss: 0.387863\n",
      "[80]\ttrain's multi_logloss: 0.0148435\tvalid's multi_logloss: 0.386095\n"
     ]
    },
    {
     "name": "stderr",
     "output_type": "stream",
     "text": [
      "2022-04-17 11:34:21 - src.train - INFO     [train.py:133] elapsed training time: 0.016 min\n",
      "2022-04-17 11:34:21 - src.train - INFO     [train.py:62] fold=17/33\n",
      "2022-04-17 11:34:21 - src.train - INFO     [train.py:63] reading cv index from data/cv_index/cv-model-test/phyllosilicate/fold_23.csv\n"
     ]
    },
    {
     "name": "stdout",
     "output_type": "stream",
     "text": [
      "[100]\ttrain's multi_logloss: 0.00891739\tvalid's multi_logloss: 0.379359\n",
      "[120]\ttrain's multi_logloss: 0.00662632\tvalid's multi_logloss: 0.390051\n",
      "Early stopping, best iteration is:\n",
      "[103]\ttrain's multi_logloss: 0.00840675\tvalid's multi_logloss: 0.378266\n",
      "Training until validation scores don't improve for 20 rounds\n",
      "[20]\ttrain's multi_logloss: 0.310595\tvalid's multi_logloss: 0.51677\n",
      "[40]\ttrain's multi_logloss: 0.0937245\tvalid's multi_logloss: 0.41737\n",
      "[60]\ttrain's multi_logloss: 0.0336551\tvalid's multi_logloss: 0.407145\n"
     ]
    },
    {
     "name": "stderr",
     "output_type": "stream",
     "text": [
      "2022-04-17 11:34:22 - src.train - INFO     [train.py:133] elapsed training time: 0.012 min\n",
      "2022-04-17 11:34:22 - src.train - INFO     [train.py:62] fold=18/33\n",
      "2022-04-17 11:34:22 - src.train - INFO     [train.py:63] reading cv index from data/cv_index/cv-model-test/phyllosilicate/fold_24.csv\n"
     ]
    },
    {
     "name": "stdout",
     "output_type": "stream",
     "text": [
      "[80]\ttrain's multi_logloss: 0.0158191\tvalid's multi_logloss: 0.430974\n",
      "Early stopping, best iteration is:\n",
      "[62]\ttrain's multi_logloss: 0.0308347\tvalid's multi_logloss: 0.406784\n",
      "Training until validation scores don't improve for 20 rounds\n",
      "[20]\ttrain's multi_logloss: 0.305585\tvalid's multi_logloss: 0.574804\n",
      "[40]\ttrain's multi_logloss: 0.0930444\tvalid's multi_logloss: 0.396045\n",
      "[60]\ttrain's multi_logloss: 0.0331449\tvalid's multi_logloss: 0.337134\n",
      "[80]\ttrain's multi_logloss: 0.015144\tvalid's multi_logloss: 0.315943\n",
      "[100]\ttrain's multi_logloss: 0.00906008\tvalid's multi_logloss: 0.303866\n"
     ]
    },
    {
     "name": "stderr",
     "output_type": "stream",
     "text": [
      "2022-04-17 11:34:23 - src.train - INFO     [train.py:133] elapsed training time: 0.019 min\n",
      "2022-04-17 11:34:23 - src.train - INFO     [train.py:62] fold=19/33\n",
      "2022-04-17 11:34:23 - src.train - INFO     [train.py:63] reading cv index from data/cv_index/cv-model-test/phyllosilicate/fold_25.csv\n"
     ]
    },
    {
     "name": "stdout",
     "output_type": "stream",
     "text": [
      "[120]\ttrain's multi_logloss: 0.00673638\tvalid's multi_logloss: 0.300151\n",
      "[140]\ttrain's multi_logloss: 0.00600252\tvalid's multi_logloss: 0.303705\n",
      "Early stopping, best iteration is:\n",
      "[123]\ttrain's multi_logloss: 0.00656554\tvalid's multi_logloss: 0.29932\n",
      "Training until validation scores don't improve for 20 rounds\n",
      "[20]\ttrain's multi_logloss: 0.307495\tvalid's multi_logloss: 0.580785\n",
      "[40]\ttrain's multi_logloss: 0.0915349\tvalid's multi_logloss: 0.443502\n",
      "[60]\ttrain's multi_logloss: 0.0328536\tvalid's multi_logloss: 0.389273\n"
     ]
    },
    {
     "name": "stderr",
     "output_type": "stream",
     "text": [
      "2022-04-17 11:34:24 - src.train - INFO     [train.py:133] elapsed training time: 0.013 min\n",
      "2022-04-17 11:34:24 - src.train - INFO     [train.py:62] fold=20/33\n",
      "2022-04-17 11:34:24 - src.train - INFO     [train.py:63] reading cv index from data/cv_index/cv-model-test/phyllosilicate/fold_26.csv\n"
     ]
    },
    {
     "name": "stdout",
     "output_type": "stream",
     "text": [
      "[80]\ttrain's multi_logloss: 0.0151842\tvalid's multi_logloss: 0.378737\n",
      "Early stopping, best iteration is:\n",
      "[70]\ttrain's multi_logloss: 0.0216301\tvalid's multi_logloss: 0.377571\n",
      "Training until validation scores don't improve for 20 rounds\n",
      "[20]\ttrain's multi_logloss: 0.302347\tvalid's multi_logloss: 0.634388\n"
     ]
    },
    {
     "name": "stderr",
     "output_type": "stream",
     "text": [
      "2022-04-17 11:34:25 - src.train - INFO     [train.py:133] elapsed training time: 0.010 min\n",
      "2022-04-17 11:34:25 - src.train - INFO     [train.py:62] fold=21/33\n",
      "2022-04-17 11:34:25 - src.train - INFO     [train.py:63] reading cv index from data/cv_index/cv-model-test/phyllosilicate/fold_27.csv\n"
     ]
    },
    {
     "name": "stdout",
     "output_type": "stream",
     "text": [
      "[40]\ttrain's multi_logloss: 0.0891367\tvalid's multi_logloss: 0.516252\n",
      "[60]\ttrain's multi_logloss: 0.0321675\tvalid's multi_logloss: 0.528923\n",
      "Early stopping, best iteration is:\n",
      "[49]\ttrain's multi_logloss: 0.0549511\tvalid's multi_logloss: 0.512963\n",
      "Training until validation scores don't improve for 20 rounds\n",
      "[20]\ttrain's multi_logloss: 0.294448\tvalid's multi_logloss: 0.608501\n",
      "[40]\ttrain's multi_logloss: 0.086693\tvalid's multi_logloss: 0.465406\n",
      "[60]\ttrain's multi_logloss: 0.0314666\tvalid's multi_logloss: 0.448076\n"
     ]
    },
    {
     "name": "stderr",
     "output_type": "stream",
     "text": [
      "2022-04-17 11:34:26 - src.train - INFO     [train.py:133] elapsed training time: 0.019 min\n",
      "2022-04-17 11:34:26 - src.train - INFO     [train.py:62] fold=22/33\n",
      "2022-04-17 11:34:26 - src.train - INFO     [train.py:63] reading cv index from data/cv_index/cv-model-test/phyllosilicate/fold_28.csv\n"
     ]
    },
    {
     "name": "stdout",
     "output_type": "stream",
     "text": [
      "Early stopping, best iteration is:\n",
      "[56]\ttrain's multi_logloss: 0.0378039\tvalid's multi_logloss: 0.445545\n",
      "Training until validation scores don't improve for 20 rounds\n",
      "[20]\ttrain's multi_logloss: 0.303035\tvalid's multi_logloss: 0.567435\n",
      "[40]\ttrain's multi_logloss: 0.0896214\tvalid's multi_logloss: 0.403851\n",
      "[60]\ttrain's multi_logloss: 0.0325421\tvalid's multi_logloss: 0.364781\n",
      "[80]\ttrain's multi_logloss: 0.0151838\tvalid's multi_logloss: 0.354694\n",
      "[100]\ttrain's multi_logloss: 0.00912238\tvalid's multi_logloss: 0.34321\n",
      "Early stopping, best iteration is:\n",
      "[99]\ttrain's multi_logloss: 0.00931325\tvalid's multi_logloss: 0.342486\n"
     ]
    },
    {
     "name": "stderr",
     "output_type": "stream",
     "text": [
      "2022-04-17 11:34:28 - src.train - INFO     [train.py:133] elapsed training time: 0.028 min\n",
      "2022-04-17 11:34:28 - src.train - INFO     [train.py:62] fold=23/33\n",
      "2022-04-17 11:34:28 - src.train - INFO     [train.py:63] reading cv index from data/cv_index/cv-model-test/phyllosilicate/fold_29.csv\n"
     ]
    },
    {
     "name": "stdout",
     "output_type": "stream",
     "text": [
      "Training until validation scores don't improve for 20 rounds\n",
      "[20]\ttrain's multi_logloss: 0.30543\tvalid's multi_logloss: 0.483252\n",
      "[40]\ttrain's multi_logloss: 0.0915251\tvalid's multi_logloss: 0.310112\n",
      "[60]\ttrain's multi_logloss: 0.033236\tvalid's multi_logloss: 0.263262\n",
      "[80]\ttrain's multi_logloss: 0.0154724\tvalid's multi_logloss: 0.240616\n",
      "[100]\ttrain's multi_logloss: 0.00927676\tvalid's multi_logloss: 0.234553\n",
      "[120]\ttrain's multi_logloss: 0.00697493\tvalid's multi_logloss: 0.231349\n"
     ]
    },
    {
     "name": "stderr",
     "output_type": "stream",
     "text": [
      "2022-04-17 11:34:29 - src.train - INFO     [train.py:133] elapsed training time: 0.021 min\n",
      "2022-04-17 11:34:29 - src.train - INFO     [train.py:62] fold=24/33\n",
      "2022-04-17 11:34:29 - src.train - INFO     [train.py:63] reading cv index from data/cv_index/cv-model-test/phyllosilicate/fold_3.csv\n"
     ]
    },
    {
     "name": "stdout",
     "output_type": "stream",
     "text": [
      "[140]\ttrain's multi_logloss: 0.00615113\tvalid's multi_logloss: 0.231621\n",
      "Early stopping, best iteration is:\n",
      "[127]\ttrain's multi_logloss: 0.00659122\tvalid's multi_logloss: 0.228993\n",
      "Training until validation scores don't improve for 20 rounds\n",
      "[20]\ttrain's multi_logloss: 0.3098\tvalid's multi_logloss: 0.541862\n",
      "[40]\ttrain's multi_logloss: 0.0934184\tvalid's multi_logloss: 0.36299\n",
      "[60]\ttrain's multi_logloss: 0.0333498\tvalid's multi_logloss: 0.307672\n"
     ]
    },
    {
     "name": "stderr",
     "output_type": "stream",
     "text": [
      "2022-04-17 11:34:30 - src.train - INFO     [train.py:133] elapsed training time: 0.015 min\n",
      "2022-04-17 11:34:30 - src.train - INFO     [train.py:62] fold=25/33\n",
      "2022-04-17 11:34:30 - src.train - INFO     [train.py:63] reading cv index from data/cv_index/cv-model-test/phyllosilicate/fold_30.csv\n"
     ]
    },
    {
     "name": "stdout",
     "output_type": "stream",
     "text": [
      "[80]\ttrain's multi_logloss: 0.0154698\tvalid's multi_logloss: 0.297587\n",
      "[100]\ttrain's multi_logloss: 0.00921776\tvalid's multi_logloss: 0.299591\n",
      "Early stopping, best iteration is:\n",
      "[85]\ttrain's multi_logloss: 0.0133011\tvalid's multi_logloss: 0.292143\n",
      "Training until validation scores don't improve for 20 rounds\n",
      "[20]\ttrain's multi_logloss: 0.300845\tvalid's multi_logloss: 0.606667\n",
      "[40]\ttrain's multi_logloss: 0.0887484\tvalid's multi_logloss: 0.479913\n"
     ]
    },
    {
     "name": "stderr",
     "output_type": "stream",
     "text": [
      "2022-04-17 11:34:31 - src.train - INFO     [train.py:133] elapsed training time: 0.012 min\n",
      "2022-04-17 11:34:31 - src.train - INFO     [train.py:62] fold=26/33\n",
      "2022-04-17 11:34:31 - src.train - INFO     [train.py:63] reading cv index from data/cv_index/cv-model-test/phyllosilicate/fold_31.csv\n"
     ]
    },
    {
     "name": "stdout",
     "output_type": "stream",
     "text": [
      "[60]\ttrain's multi_logloss: 0.0314734\tvalid's multi_logloss: 0.474138\n",
      "Early stopping, best iteration is:\n",
      "[55]\ttrain's multi_logloss: 0.0399944\tvalid's multi_logloss: 0.462238\n",
      "Training until validation scores don't improve for 20 rounds\n",
      "[20]\ttrain's multi_logloss: 0.30881\tvalid's multi_logloss: 0.525817\n",
      "[40]\ttrain's multi_logloss: 0.0924489\tvalid's multi_logloss: 0.361939\n",
      "[60]\ttrain's multi_logloss: 0.0336132\tvalid's multi_logloss: 0.307828\n",
      "[80]\ttrain's multi_logloss: 0.0155824\tvalid's multi_logloss: 0.299005\n",
      "[100]\ttrain's multi_logloss: 0.00922365\tvalid's multi_logloss: 0.299662\n",
      "Early stopping, best iteration is:\n",
      "[88]\ttrain's multi_logloss: 0.0123496\tvalid's multi_logloss: 0.294368\n"
     ]
    },
    {
     "name": "stderr",
     "output_type": "stream",
     "text": [
      "2022-04-17 11:34:32 - src.train - INFO     [train.py:133] elapsed training time: 0.018 min\n",
      "2022-04-17 11:34:32 - src.train - INFO     [train.py:62] fold=27/33\n",
      "2022-04-17 11:34:32 - src.train - INFO     [train.py:63] reading cv index from data/cv_index/cv-model-test/phyllosilicate/fold_32.csv\n"
     ]
    },
    {
     "name": "stdout",
     "output_type": "stream",
     "text": [
      "Training until validation scores don't improve for 20 rounds\n",
      "[20]\ttrain's multi_logloss: 0.294054\tvalid's multi_logloss: 0.619195\n",
      "[40]\ttrain's multi_logloss: 0.0876812\tvalid's multi_logloss: 0.478514\n",
      "[60]\ttrain's multi_logloss: 0.0312439\tvalid's multi_logloss: 0.460739\n"
     ]
    },
    {
     "name": "stderr",
     "output_type": "stream",
     "text": [
      "2022-04-17 11:34:33 - src.train - INFO     [train.py:133] elapsed training time: 0.012 min\n",
      "2022-04-17 11:34:33 - src.train - INFO     [train.py:62] fold=28/33\n",
      "2022-04-17 11:34:33 - src.train - INFO     [train.py:63] reading cv index from data/cv_index/cv-model-test/phyllosilicate/fold_4.csv\n"
     ]
    },
    {
     "name": "stdout",
     "output_type": "stream",
     "text": [
      "Early stopping, best iteration is:\n",
      "[51]\ttrain's multi_logloss: 0.0481408\tvalid's multi_logloss: 0.455734\n",
      "Training until validation scores don't improve for 20 rounds\n",
      "[20]\ttrain's multi_logloss: 0.30362\tvalid's multi_logloss: 0.582683\n",
      "[40]\ttrain's multi_logloss: 0.0909263\tvalid's multi_logloss: 0.425274\n",
      "[60]\ttrain's multi_logloss: 0.0321791\tvalid's multi_logloss: 0.397672\n"
     ]
    },
    {
     "name": "stderr",
     "output_type": "stream",
     "text": [
      "2022-04-17 11:34:34 - src.train - INFO     [train.py:133] elapsed training time: 0.015 min\n",
      "2022-04-17 11:34:34 - src.train - INFO     [train.py:62] fold=29/33\n",
      "2022-04-17 11:34:34 - src.train - INFO     [train.py:63] reading cv index from data/cv_index/cv-model-test/phyllosilicate/fold_5.csv\n"
     ]
    },
    {
     "name": "stdout",
     "output_type": "stream",
     "text": [
      "[80]\ttrain's multi_logloss: 0.0149883\tvalid's multi_logloss: 0.40466\n",
      "Early stopping, best iteration is:\n",
      "[63]\ttrain's multi_logloss: 0.0281977\tvalid's multi_logloss: 0.393719\n",
      "Training until validation scores don't improve for 20 rounds\n",
      "[20]\ttrain's multi_logloss: 0.304225\tvalid's multi_logloss: 0.599414\n",
      "[40]\ttrain's multi_logloss: 0.0896635\tvalid's multi_logloss: 0.51613\n"
     ]
    },
    {
     "name": "stderr",
     "output_type": "stream",
     "text": [
      "2022-04-17 11:34:35 - src.train - INFO     [train.py:133] elapsed training time: 0.015 min\n",
      "2022-04-17 11:34:35 - src.train - INFO     [train.py:62] fold=30/33\n",
      "2022-04-17 11:34:35 - src.train - INFO     [train.py:63] reading cv index from data/cv_index/cv-model-test/phyllosilicate/fold_6.csv\n"
     ]
    },
    {
     "name": "stdout",
     "output_type": "stream",
     "text": [
      "[60]\ttrain's multi_logloss: 0.0320121\tvalid's multi_logloss: 0.521984\n",
      "Early stopping, best iteration is:\n",
      "[49]\ttrain's multi_logloss: 0.0550512\tvalid's multi_logloss: 0.510484\n",
      "Training until validation scores don't improve for 20 rounds\n",
      "[20]\ttrain's multi_logloss: 0.30589\tvalid's multi_logloss: 0.59894\n",
      "[40]\ttrain's multi_logloss: 0.0910828\tvalid's multi_logloss: 0.503578\n",
      "[60]\ttrain's multi_logloss: 0.0328159\tvalid's multi_logloss: 0.489593\n"
     ]
    },
    {
     "name": "stderr",
     "output_type": "stream",
     "text": [
      "2022-04-17 11:34:36 - src.train - INFO     [train.py:133] elapsed training time: 0.014 min\n",
      "2022-04-17 11:34:36 - src.train - INFO     [train.py:62] fold=31/33\n",
      "2022-04-17 11:34:36 - src.train - INFO     [train.py:63] reading cv index from data/cv_index/cv-model-test/phyllosilicate/fold_7.csv\n"
     ]
    },
    {
     "name": "stdout",
     "output_type": "stream",
     "text": [
      "[80]\ttrain's multi_logloss: 0.0152631\tvalid's multi_logloss: 0.492647\n",
      "Early stopping, best iteration is:\n",
      "[68]\ttrain's multi_logloss: 0.0234659\tvalid's multi_logloss: 0.484121\n",
      "Training until validation scores don't improve for 20 rounds\n",
      "[20]\ttrain's multi_logloss: 0.312436\tvalid's multi_logloss: 0.637089\n",
      "[40]\ttrain's multi_logloss: 0.0904404\tvalid's multi_logloss: 0.487121\n",
      "[60]\ttrain's multi_logloss: 0.0324226\tvalid's multi_logloss: 0.447094\n"
     ]
    },
    {
     "name": "stderr",
     "output_type": "stream",
     "text": [
      "2022-04-17 11:34:37 - src.train - INFO     [train.py:133] elapsed training time: 0.017 min\n",
      "2022-04-17 11:34:38 - src.train - INFO     [train.py:62] fold=32/33\n",
      "2022-04-17 11:34:38 - src.train - INFO     [train.py:63] reading cv index from data/cv_index/cv-model-test/phyllosilicate/fold_8.csv\n"
     ]
    },
    {
     "name": "stdout",
     "output_type": "stream",
     "text": [
      "[80]\ttrain's multi_logloss: 0.015112\tvalid's multi_logloss: 0.429806\n",
      "Early stopping, best iteration is:\n",
      "[72]\ttrain's multi_logloss: 0.0198587\tvalid's multi_logloss: 0.427167\n",
      "Training until validation scores don't improve for 20 rounds\n",
      "[20]\ttrain's multi_logloss: 0.305508\tvalid's multi_logloss: 0.591174\n",
      "[40]\ttrain's multi_logloss: 0.0930484\tvalid's multi_logloss: 0.427178\n",
      "[60]\ttrain's multi_logloss: 0.0332331\tvalid's multi_logloss: 0.377628\n",
      "[80]\ttrain's multi_logloss: 0.0153102\tvalid's multi_logloss: 0.36833\n",
      "[100]\ttrain's multi_logloss: 0.00912699\tvalid's multi_logloss: 0.361668\n",
      "[120]\ttrain's multi_logloss: 0.00678044\tvalid's multi_logloss: 0.36044\n"
     ]
    },
    {
     "name": "stderr",
     "output_type": "stream",
     "text": [
      "2022-04-17 11:34:39 - src.train - INFO     [train.py:133] elapsed training time: 0.023 min\n",
      "2022-04-17 11:34:39 - src.train - INFO     [train.py:62] fold=33/33\n",
      "2022-04-17 11:34:39 - src.train - INFO     [train.py:63] reading cv index from data/cv_index/cv-model-test/phyllosilicate/fold_9.csv\n"
     ]
    },
    {
     "name": "stdout",
     "output_type": "stream",
     "text": [
      "[140]\ttrain's multi_logloss: 0.00595049\tvalid's multi_logloss: 0.359511\n",
      "Early stopping, best iteration is:\n",
      "[134]\ttrain's multi_logloss: 0.00611183\tvalid's multi_logloss: 0.358921\n",
      "Training until validation scores don't improve for 20 rounds\n",
      "[20]\ttrain's multi_logloss: 0.303849\tvalid's multi_logloss: 0.489686\n",
      "[40]\ttrain's multi_logloss: 0.0900493\tvalid's multi_logloss: 0.342174\n",
      "[60]\ttrain's multi_logloss: 0.0324897\tvalid's multi_logloss: 0.308555\n",
      "[80]\ttrain's multi_logloss: 0.015133\tvalid's multi_logloss: 0.309024"
     ]
    },
    {
     "name": "stderr",
     "output_type": "stream",
     "text": [
      "2022-04-17 11:34:40 - src.train - INFO     [train.py:133] elapsed training time: 0.011 min\n",
      "2022-04-17 11:34:40 - src.train - INFO     [train.py:62] fold=1/33\n",
      "2022-04-17 11:34:40 - src.train - INFO     [train.py:63] reading cv index from data/cv_index/cv-model-test/phyllosilicate/fold_0.csv\n"
     ]
    },
    {
     "name": "stdout",
     "output_type": "stream",
     "text": [
      "\n",
      "Early stopping, best iteration is:\n",
      "[69]\ttrain's multi_logloss: 0.0224133\tvalid's multi_logloss: 0.299994\n",
      "74\n"
     ]
    },
    {
     "name": "stderr",
     "output_type": "stream",
     "text": [
      "2022-04-17 11:34:40 - src.train - INFO     [train.py:28] elapsed training time: 0.007 min\n",
      "2022-04-17 11:34:40 - src.train - INFO     [train.py:62] fold=2/33\n",
      "2022-04-17 11:34:40 - src.train - INFO     [train.py:63] reading cv index from data/cv_index/cv-model-test/phyllosilicate/fold_1.csv\n",
      "2022-04-17 11:34:41 - src.train - INFO     [train.py:28] elapsed training time: 0.007 min\n",
      "2022-04-17 11:34:41 - src.train - INFO     [train.py:62] fold=3/33\n",
      "2022-04-17 11:34:41 - src.train - INFO     [train.py:63] reading cv index from data/cv_index/cv-model-test/phyllosilicate/fold_10.csv\n",
      "2022-04-17 11:34:41 - src.train - INFO     [train.py:28] elapsed training time: 0.009 min\n",
      "2022-04-17 11:34:41 - src.train - INFO     [train.py:62] fold=4/33\n",
      "2022-04-17 11:34:41 - src.train - INFO     [train.py:63] reading cv index from data/cv_index/cv-model-test/phyllosilicate/fold_11.csv\n",
      "2022-04-17 11:34:42 - src.train - INFO     [train.py:28] elapsed training time: 0.007 min\n",
      "2022-04-17 11:34:42 - src.train - INFO     [train.py:62] fold=5/33\n",
      "2022-04-17 11:34:42 - src.train - INFO     [train.py:63] reading cv index from data/cv_index/cv-model-test/phyllosilicate/fold_12.csv\n",
      "2022-04-17 11:34:43 - src.train - INFO     [train.py:28] elapsed training time: 0.009 min\n",
      "2022-04-17 11:34:43 - src.train - INFO     [train.py:62] fold=6/33\n",
      "2022-04-17 11:34:43 - src.train - INFO     [train.py:63] reading cv index from data/cv_index/cv-model-test/phyllosilicate/fold_13.csv\n",
      "2022-04-17 11:34:45 - src.train - INFO     [train.py:28] elapsed training time: 0.035 min\n",
      "2022-04-17 11:34:45 - src.train - INFO     [train.py:62] fold=7/33\n",
      "2022-04-17 11:34:45 - src.train - INFO     [train.py:63] reading cv index from data/cv_index/cv-model-test/phyllosilicate/fold_14.csv\n",
      "2022-04-17 11:34:46 - src.train - INFO     [train.py:28] elapsed training time: 0.021 min\n",
      "2022-04-17 11:34:46 - src.train - INFO     [train.py:62] fold=8/33\n",
      "2022-04-17 11:34:46 - src.train - INFO     [train.py:63] reading cv index from data/cv_index/cv-model-test/phyllosilicate/fold_15.csv\n",
      "2022-04-17 11:34:50 - src.train - INFO     [train.py:28] elapsed training time: 0.055 min\n",
      "2022-04-17 11:34:50 - src.train - INFO     [train.py:62] fold=9/33\n",
      "2022-04-17 11:34:50 - src.train - INFO     [train.py:63] reading cv index from data/cv_index/cv-model-test/phyllosilicate/fold_16.csv\n",
      "2022-04-17 11:34:51 - src.train - INFO     [train.py:28] elapsed training time: 0.013 min\n",
      "2022-04-17 11:34:51 - src.train - INFO     [train.py:62] fold=10/33\n",
      "2022-04-17 11:34:51 - src.train - INFO     [train.py:63] reading cv index from data/cv_index/cv-model-test/phyllosilicate/fold_17.csv\n",
      "2022-04-17 11:34:52 - src.train - INFO     [train.py:28] elapsed training time: 0.016 min\n",
      "2022-04-17 11:34:52 - src.train - INFO     [train.py:62] fold=11/33\n",
      "2022-04-17 11:34:52 - src.train - INFO     [train.py:63] reading cv index from data/cv_index/cv-model-test/phyllosilicate/fold_18.csv\n",
      "2022-04-17 11:34:52 - src.train - INFO     [train.py:28] elapsed training time: 0.007 min\n",
      "2022-04-17 11:34:52 - src.train - INFO     [train.py:62] fold=12/33\n",
      "2022-04-17 11:34:52 - src.train - INFO     [train.py:63] reading cv index from data/cv_index/cv-model-test/phyllosilicate/fold_19.csv\n",
      "2022-04-17 11:34:53 - src.train - INFO     [train.py:28] elapsed training time: 0.007 min\n",
      "2022-04-17 11:34:53 - src.train - INFO     [train.py:62] fold=13/33\n",
      "2022-04-17 11:34:53 - src.train - INFO     [train.py:63] reading cv index from data/cv_index/cv-model-test/phyllosilicate/fold_2.csv\n",
      "2022-04-17 11:34:54 - src.train - INFO     [train.py:28] elapsed training time: 0.013 min\n",
      "2022-04-17 11:34:54 - src.train - INFO     [train.py:62] fold=14/33\n",
      "2022-04-17 11:34:54 - src.train - INFO     [train.py:63] reading cv index from data/cv_index/cv-model-test/phyllosilicate/fold_20.csv\n",
      "2022-04-17 11:34:55 - src.train - INFO     [train.py:28] elapsed training time: 0.015 min\n",
      "2022-04-17 11:34:55 - src.train - INFO     [train.py:62] fold=15/33\n",
      "2022-04-17 11:34:55 - src.train - INFO     [train.py:63] reading cv index from data/cv_index/cv-model-test/phyllosilicate/fold_21.csv\n",
      "2022-04-17 11:34:56 - src.train - INFO     [train.py:28] elapsed training time: 0.015 min\n",
      "2022-04-17 11:34:56 - src.train - INFO     [train.py:62] fold=16/33\n",
      "2022-04-17 11:34:56 - src.train - INFO     [train.py:63] reading cv index from data/cv_index/cv-model-test/phyllosilicate/fold_22.csv\n",
      "2022-04-17 11:34:56 - src.train - INFO     [train.py:28] elapsed training time: 0.012 min\n",
      "2022-04-17 11:34:56 - src.train - INFO     [train.py:62] fold=17/33\n",
      "2022-04-17 11:34:56 - src.train - INFO     [train.py:63] reading cv index from data/cv_index/cv-model-test/phyllosilicate/fold_23.csv\n",
      "2022-04-17 11:34:57 - src.train - INFO     [train.py:28] elapsed training time: 0.012 min\n",
      "2022-04-17 11:34:57 - src.train - INFO     [train.py:62] fold=18/33\n",
      "2022-04-17 11:34:57 - src.train - INFO     [train.py:63] reading cv index from data/cv_index/cv-model-test/phyllosilicate/fold_24.csv\n",
      "2022-04-17 11:34:58 - src.train - INFO     [train.py:28] elapsed training time: 0.011 min\n",
      "2022-04-17 11:34:58 - src.train - INFO     [train.py:62] fold=19/33\n",
      "2022-04-17 11:34:58 - src.train - INFO     [train.py:63] reading cv index from data/cv_index/cv-model-test/phyllosilicate/fold_25.csv\n",
      "2022-04-17 11:34:59 - src.train - INFO     [train.py:28] elapsed training time: 0.012 min\n",
      "2022-04-17 11:34:59 - src.train - INFO     [train.py:62] fold=20/33\n",
      "2022-04-17 11:34:59 - src.train - INFO     [train.py:63] reading cv index from data/cv_index/cv-model-test/phyllosilicate/fold_26.csv\n",
      "2022-04-17 11:35:00 - src.train - INFO     [train.py:28] elapsed training time: 0.023 min\n",
      "2022-04-17 11:35:00 - src.train - INFO     [train.py:62] fold=21/33\n",
      "2022-04-17 11:35:00 - src.train - INFO     [train.py:63] reading cv index from data/cv_index/cv-model-test/phyllosilicate/fold_27.csv\n",
      "2022-04-17 11:35:01 - src.train - INFO     [train.py:28] elapsed training time: 0.013 min\n",
      "2022-04-17 11:35:01 - src.train - INFO     [train.py:62] fold=22/33\n",
      "2022-04-17 11:35:01 - src.train - INFO     [train.py:63] reading cv index from data/cv_index/cv-model-test/phyllosilicate/fold_28.csv\n",
      "2022-04-17 11:35:02 - src.train - INFO     [train.py:28] elapsed training time: 0.009 min\n",
      "2022-04-17 11:35:02 - src.train - INFO     [train.py:62] fold=23/33\n",
      "2022-04-17 11:35:02 - src.train - INFO     [train.py:63] reading cv index from data/cv_index/cv-model-test/phyllosilicate/fold_29.csv\n",
      "2022-04-17 11:35:03 - src.train - INFO     [train.py:28] elapsed training time: 0.008 min\n",
      "2022-04-17 11:35:03 - src.train - INFO     [train.py:62] fold=24/33\n",
      "2022-04-17 11:35:03 - src.train - INFO     [train.py:63] reading cv index from data/cv_index/cv-model-test/phyllosilicate/fold_3.csv\n",
      "2022-04-17 11:35:04 - src.train - INFO     [train.py:28] elapsed training time: 0.015 min\n",
      "2022-04-17 11:35:04 - src.train - INFO     [train.py:62] fold=25/33\n",
      "2022-04-17 11:35:04 - src.train - INFO     [train.py:63] reading cv index from data/cv_index/cv-model-test/phyllosilicate/fold_30.csv\n",
      "2022-04-17 11:35:06 - src.train - INFO     [train.py:28] elapsed training time: 0.031 min\n",
      "2022-04-17 11:35:06 - src.train - INFO     [train.py:62] fold=26/33\n",
      "2022-04-17 11:35:06 - src.train - INFO     [train.py:63] reading cv index from data/cv_index/cv-model-test/phyllosilicate/fold_31.csv\n",
      "2022-04-17 11:35:06 - src.train - INFO     [train.py:28] elapsed training time: 0.009 min\n",
      "2022-04-17 11:35:06 - src.train - INFO     [train.py:62] fold=27/33\n",
      "2022-04-17 11:35:06 - src.train - INFO     [train.py:63] reading cv index from data/cv_index/cv-model-test/phyllosilicate/fold_32.csv\n",
      "2022-04-17 11:35:08 - src.train - INFO     [train.py:28] elapsed training time: 0.018 min\n",
      "2022-04-17 11:35:08 - src.train - INFO     [train.py:62] fold=28/33\n",
      "2022-04-17 11:35:08 - src.train - INFO     [train.py:63] reading cv index from data/cv_index/cv-model-test/phyllosilicate/fold_4.csv\n",
      "2022-04-17 11:35:08 - src.train - INFO     [train.py:28] elapsed training time: 0.009 min\n",
      "2022-04-17 11:35:08 - src.train - INFO     [train.py:62] fold=29/33\n",
      "2022-04-17 11:35:08 - src.train - INFO     [train.py:63] reading cv index from data/cv_index/cv-model-test/phyllosilicate/fold_5.csv\n",
      "2022-04-17 11:35:09 - src.train - INFO     [train.py:28] elapsed training time: 0.008 min\n"
     ]
    },
    {
     "name": "stderr",
     "output_type": "stream",
     "text": [
      "2022-04-17 11:35:09 - src.train - INFO     [train.py:62] fold=30/33\n",
      "2022-04-17 11:35:09 - src.train - INFO     [train.py:63] reading cv index from data/cv_index/cv-model-test/phyllosilicate/fold_6.csv\n",
      "2022-04-17 11:35:10 - src.train - INFO     [train.py:28] elapsed training time: 0.012 min\n",
      "2022-04-17 11:35:10 - src.train - INFO     [train.py:62] fold=31/33\n",
      "2022-04-17 11:35:10 - src.train - INFO     [train.py:63] reading cv index from data/cv_index/cv-model-test/phyllosilicate/fold_7.csv\n",
      "2022-04-17 11:35:10 - src.train - INFO     [train.py:28] elapsed training time: 0.007 min\n",
      "2022-04-17 11:35:10 - src.train - INFO     [train.py:62] fold=32/33\n",
      "2022-04-17 11:35:10 - src.train - INFO     [train.py:63] reading cv index from data/cv_index/cv-model-test/phyllosilicate/fold_8.csv\n",
      "2022-04-17 11:35:12 - src.train - INFO     [train.py:28] elapsed training time: 0.019 min\n",
      "2022-04-17 11:35:12 - src.train - INFO     [train.py:62] fold=33/33\n",
      "2022-04-17 11:35:12 - src.train - INFO     [train.py:63] reading cv index from data/cv_index/cv-model-test/phyllosilicate/fold_9.csv\n",
      "2022-04-17 11:35:12 - src.train - INFO     [train.py:28] elapsed training time: 0.009 min\n",
      "2022-04-17 11:35:12 - src.train - INFO     [train.py:62] fold=1/33\n",
      "2022-04-17 11:35:12 - src.train - INFO     [train.py:63] reading cv index from data/cv_index/cv-model-test/silicate/fold_0.csv\n"
     ]
    },
    {
     "name": "stdout",
     "output_type": "stream",
     "text": [
      "Training until validation scores don't improve for 20 rounds\n",
      "[20]\ttrain's multi_logloss: 0.234375\tvalid's multi_logloss: 0.422138\n",
      "[40]\ttrain's multi_logloss: 0.0590515\tvalid's multi_logloss: 0.324706\n"
     ]
    },
    {
     "name": "stderr",
     "output_type": "stream",
     "text": [
      "2022-04-17 11:35:13 - src.train - INFO     [train.py:133] elapsed training time: 0.008 min\n",
      "2022-04-17 11:35:13 - src.train - INFO     [train.py:62] fold=2/33\n",
      "2022-04-17 11:35:13 - src.train - INFO     [train.py:63] reading cv index from data/cv_index/cv-model-test/silicate/fold_1.csv\n"
     ]
    },
    {
     "name": "stdout",
     "output_type": "stream",
     "text": [
      "[60]\ttrain's multi_logloss: 0.0195641\tvalid's multi_logloss: 0.328592\n",
      "Early stopping, best iteration is:\n",
      "[54]\ttrain's multi_logloss: 0.0262611\tvalid's multi_logloss: 0.32274\n",
      "Training until validation scores don't improve for 20 rounds\n",
      "[20]\ttrain's multi_logloss: 0.228468\tvalid's multi_logloss: 0.46737\n",
      "[40]\ttrain's multi_logloss: 0.0563563\tvalid's multi_logloss: 0.344305\n"
     ]
    },
    {
     "name": "stderr",
     "output_type": "stream",
     "text": [
      "2022-04-17 11:35:14 - src.train - INFO     [train.py:133] elapsed training time: 0.016 min\n",
      "2022-04-17 11:35:14 - src.train - INFO     [train.py:62] fold=3/33\n",
      "2022-04-17 11:35:14 - src.train - INFO     [train.py:63] reading cv index from data/cv_index/cv-model-test/silicate/fold_10.csv\n"
     ]
    },
    {
     "name": "stdout",
     "output_type": "stream",
     "text": [
      "[60]\ttrain's multi_logloss: 0.0178392\tvalid's multi_logloss: 0.336237\n",
      "Early stopping, best iteration is:\n",
      "[51]\ttrain's multi_logloss: 0.0284204\tvalid's multi_logloss: 0.333378\n",
      "Training until validation scores don't improve for 20 rounds\n",
      "[20]\ttrain's multi_logloss: 0.23385\tvalid's multi_logloss: 0.494126\n",
      "[40]\ttrain's multi_logloss: 0.058553\tvalid's multi_logloss: 0.37682\n",
      "[60]\ttrain's multi_logloss: 0.0192231\tvalid's multi_logloss: 0.348177\n",
      "[80]\ttrain's multi_logloss: 0.00932041\tvalid's multi_logloss: 0.348597\n",
      "Early stopping, best iteration is:\n",
      "[63]\ttrain's multi_logloss: 0.016743\tvalid's multi_logloss: 0.34486\n"
     ]
    },
    {
     "name": "stderr",
     "output_type": "stream",
     "text": [
      "2022-04-17 11:35:15 - src.train - INFO     [train.py:133] elapsed training time: 0.014 min\n",
      "2022-04-17 11:35:15 - src.train - INFO     [train.py:62] fold=4/33\n",
      "2022-04-17 11:35:15 - src.train - INFO     [train.py:63] reading cv index from data/cv_index/cv-model-test/silicate/fold_11.csv\n"
     ]
    },
    {
     "name": "stdout",
     "output_type": "stream",
     "text": [
      "Training until validation scores don't improve for 20 rounds\n",
      "[20]\ttrain's multi_logloss: 0.228998\tvalid's multi_logloss: 0.451994\n",
      "[40]\ttrain's multi_logloss: 0.0574196\tvalid's multi_logloss: 0.331451\n"
     ]
    },
    {
     "name": "stderr",
     "output_type": "stream",
     "text": [
      "2022-04-17 11:35:16 - src.train - INFO     [train.py:133] elapsed training time: 0.012 min\n",
      "2022-04-17 11:35:16 - src.train - INFO     [train.py:62] fold=5/33\n",
      "2022-04-17 11:35:16 - src.train - INFO     [train.py:63] reading cv index from data/cv_index/cv-model-test/silicate/fold_12.csv\n"
     ]
    },
    {
     "name": "stdout",
     "output_type": "stream",
     "text": [
      "[60]\ttrain's multi_logloss: 0.0187624\tvalid's multi_logloss: 0.311683\n",
      "Early stopping, best iteration is:\n",
      "[56]\ttrain's multi_logloss: 0.0226267\tvalid's multi_logloss: 0.308879\n",
      "Training until validation scores don't improve for 20 rounds\n",
      "[20]\ttrain's multi_logloss: 0.234925\tvalid's multi_logloss: 0.394915\n",
      "[40]\ttrain's multi_logloss: 0.0597278\tvalid's multi_logloss: 0.289916\n"
     ]
    },
    {
     "name": "stderr",
     "output_type": "stream",
     "text": [
      "2022-04-17 11:35:16 - src.train - INFO     [train.py:133] elapsed training time: 0.009 min\n",
      "2022-04-17 11:35:16 - src.train - INFO     [train.py:62] fold=6/33\n",
      "2022-04-17 11:35:16 - src.train - INFO     [train.py:63] reading cv index from data/cv_index/cv-model-test/silicate/fold_13.csv\n"
     ]
    },
    {
     "name": "stdout",
     "output_type": "stream",
     "text": [
      "[60]\ttrain's multi_logloss: 0.0189113\tvalid's multi_logloss: 0.278857\n",
      "[80]\ttrain's multi_logloss: 0.00902458\tvalid's multi_logloss: 0.284173\n",
      "Early stopping, best iteration is:\n",
      "[65]\ttrain's multi_logloss: 0.0151506\tvalid's multi_logloss: 0.276268\n",
      "Training until validation scores don't improve for 20 rounds\n",
      "[20]\ttrain's multi_logloss: 0.236775\tvalid's multi_logloss: 0.461034\n",
      "[40]\ttrain's multi_logloss: 0.0591678\tvalid's multi_logloss: 0.32225\n",
      "[60]\ttrain's multi_logloss: 0.019172\tvalid's multi_logloss: 0.319679\n"
     ]
    },
    {
     "name": "stderr",
     "output_type": "stream",
     "text": [
      "2022-04-17 11:35:17 - src.train - INFO     [train.py:133] elapsed training time: 0.011 min\n",
      "2022-04-17 11:35:17 - src.train - INFO     [train.py:62] fold=7/33\n",
      "2022-04-17 11:35:17 - src.train - INFO     [train.py:63] reading cv index from data/cv_index/cv-model-test/silicate/fold_14.csv\n"
     ]
    },
    {
     "name": "stdout",
     "output_type": "stream",
     "text": [
      "Early stopping, best iteration is:\n",
      "[48]\ttrain's multi_logloss: 0.0358787\tvalid's multi_logloss: 0.314438\n",
      "Training until validation scores don't improve for 20 rounds\n",
      "[20]\ttrain's multi_logloss: 0.223206\tvalid's multi_logloss: 0.478534\n"
     ]
    },
    {
     "name": "stderr",
     "output_type": "stream",
     "text": [
      "2022-04-17 11:35:18 - src.train - INFO     [train.py:133] elapsed training time: 0.010 min\n",
      "2022-04-17 11:35:18 - src.train - INFO     [train.py:62] fold=8/33\n",
      "2022-04-17 11:35:18 - src.train - INFO     [train.py:63] reading cv index from data/cv_index/cv-model-test/silicate/fold_15.csv\n"
     ]
    },
    {
     "name": "stdout",
     "output_type": "stream",
     "text": [
      "[40]\ttrain's multi_logloss: 0.0557056\tvalid's multi_logloss: 0.384011\n",
      "[60]\ttrain's multi_logloss: 0.0181878\tvalid's multi_logloss: 0.377968\n",
      "Early stopping, best iteration is:\n",
      "[47]\ttrain's multi_logloss: 0.0360703\tvalid's multi_logloss: 0.373144\n",
      "Training until validation scores don't improve for 20 rounds\n",
      "[20]\ttrain's multi_logloss: 0.241282\tvalid's multi_logloss: 0.363662\n",
      "[40]\ttrain's multi_logloss: 0.0601275\tvalid's multi_logloss: 0.228423\n",
      "[60]\ttrain's multi_logloss: 0.0198571\tvalid's multi_logloss: 0.215552\n"
     ]
    },
    {
     "name": "stderr",
     "output_type": "stream",
     "text": [
      "2022-04-17 11:35:19 - src.train - INFO     [train.py:133] elapsed training time: 0.010 min\n",
      "2022-04-17 11:35:19 - src.train - INFO     [train.py:62] fold=9/33\n",
      "2022-04-17 11:35:19 - src.train - INFO     [train.py:63] reading cv index from data/cv_index/cv-model-test/silicate/fold_16.csv\n"
     ]
    },
    {
     "name": "stdout",
     "output_type": "stream",
     "text": [
      "Early stopping, best iteration is:\n",
      "[58]\ttrain's multi_logloss: 0.0217467\tvalid's multi_logloss: 0.213385\n",
      "Training until validation scores don't improve for 20 rounds\n",
      "[20]\ttrain's multi_logloss: 0.226588\tvalid's multi_logloss: 0.405066\n",
      "[40]\ttrain's multi_logloss: 0.0573324\tvalid's multi_logloss: 0.328133\n",
      "[60]\ttrain's multi_logloss: 0.0186537\tvalid's multi_logloss: 0.347833\n"
     ]
    },
    {
     "name": "stderr",
     "output_type": "stream",
     "text": [
      "2022-04-17 11:35:19 - src.train - INFO     [train.py:133] elapsed training time: 0.011 min\n",
      "2022-04-17 11:35:19 - src.train - INFO     [train.py:62] fold=10/33\n",
      "2022-04-17 11:35:19 - src.train - INFO     [train.py:63] reading cv index from data/cv_index/cv-model-test/silicate/fold_17.csv\n"
     ]
    },
    {
     "name": "stdout",
     "output_type": "stream",
     "text": [
      "Early stopping, best iteration is:\n",
      "[41]\ttrain's multi_logloss: 0.0535992\tvalid's multi_logloss: 0.325088\n",
      "Training until validation scores don't improve for 20 rounds\n",
      "[20]\ttrain's multi_logloss: 0.231277\tvalid's multi_logloss: 0.38855\n",
      "[40]\ttrain's multi_logloss: 0.0575812\tvalid's multi_logloss: 0.297947\n"
     ]
    },
    {
     "name": "stderr",
     "output_type": "stream",
     "text": [
      "2022-04-17 11:35:20 - src.train - INFO     [train.py:133] elapsed training time: 0.011 min\n",
      "2022-04-17 11:35:20 - src.train - INFO     [train.py:62] fold=11/33\n",
      "2022-04-17 11:35:20 - src.train - INFO     [train.py:63] reading cv index from data/cv_index/cv-model-test/silicate/fold_18.csv\n"
     ]
    },
    {
     "name": "stdout",
     "output_type": "stream",
     "text": [
      "[60]\ttrain's multi_logloss: 0.0189223\tvalid's multi_logloss: 0.294222\n",
      "Early stopping, best iteration is:\n",
      "[53]\ttrain's multi_logloss: 0.0264974\tvalid's multi_logloss: 0.290117\n",
      "Training until validation scores don't improve for 20 rounds\n",
      "[20]\ttrain's multi_logloss: 0.234047\tvalid's multi_logloss: 0.473211\n",
      "[40]\ttrain's multi_logloss: 0.0578893\tvalid's multi_logloss: 0.324387\n",
      "[60]\ttrain's multi_logloss: 0.0186197\tvalid's multi_logloss: 0.282474\n",
      "[80]\ttrain's multi_logloss: 0.00890888\tvalid's multi_logloss: 0.268237\n"
     ]
    },
    {
     "name": "stderr",
     "output_type": "stream",
     "text": [
      "2022-04-17 11:35:21 - src.train - INFO     [train.py:133] elapsed training time: 0.015 min\n",
      "2022-04-17 11:35:21 - src.train - INFO     [train.py:62] fold=12/33\n",
      "2022-04-17 11:35:21 - src.train - INFO     [train.py:63] reading cv index from data/cv_index/cv-model-test/silicate/fold_19.csv\n"
     ]
    },
    {
     "name": "stdout",
     "output_type": "stream",
     "text": [
      "[100]\ttrain's multi_logloss: 0.00593538\tvalid's multi_logloss: 0.264692\n",
      "Early stopping, best iteration is:\n",
      "[89]\ttrain's multi_logloss: 0.00721556\tvalid's multi_logloss: 0.26047\n",
      "Training until validation scores don't improve for 20 rounds\n",
      "[20]\ttrain's multi_logloss: 0.236236\tvalid's multi_logloss: 0.436595\n",
      "[40]\ttrain's multi_logloss: 0.0590482\tvalid's multi_logloss: 0.345387\n"
     ]
    },
    {
     "name": "stderr",
     "output_type": "stream",
     "text": [
      "2022-04-17 11:35:22 - src.train - INFO     [train.py:133] elapsed training time: 0.013 min\n",
      "2022-04-17 11:35:22 - src.train - INFO     [train.py:62] fold=13/33\n",
      "2022-04-17 11:35:22 - src.train - INFO     [train.py:63] reading cv index from data/cv_index/cv-model-test/silicate/fold_2.csv\n"
     ]
    },
    {
     "name": "stdout",
     "output_type": "stream",
     "text": [
      "[60]\ttrain's multi_logloss: 0.0192129\tvalid's multi_logloss: 0.331885\n",
      "Early stopping, best iteration is:\n",
      "[59]\ttrain's multi_logloss: 0.0200804\tvalid's multi_logloss: 0.330571\n",
      "Training until validation scores don't improve for 20 rounds\n",
      "[20]\ttrain's multi_logloss: 0.233755\tvalid's multi_logloss: 0.474627\n",
      "[40]\ttrain's multi_logloss: 0.0580709\tvalid's multi_logloss: 0.340409\n",
      "[60]\ttrain's multi_logloss: 0.0185137\tvalid's multi_logloss: 0.306827\n"
     ]
    },
    {
     "name": "stderr",
     "output_type": "stream",
     "text": [
      "2022-04-17 11:35:23 - src.train - INFO     [train.py:133] elapsed training time: 0.013 min\n",
      "2022-04-17 11:35:23 - src.train - INFO     [train.py:62] fold=14/33\n",
      "2022-04-17 11:35:23 - src.train - INFO     [train.py:63] reading cv index from data/cv_index/cv-model-test/silicate/fold_20.csv\n"
     ]
    },
    {
     "name": "stdout",
     "output_type": "stream",
     "text": [
      "[80]\ttrain's multi_logloss: 0.00892053\tvalid's multi_logloss: 0.307729\n",
      "Early stopping, best iteration is:\n",
      "[63]\ttrain's multi_logloss: 0.0161364\tvalid's multi_logloss: 0.300215\n",
      "Training until validation scores don't improve for 20 rounds\n",
      "[20]\ttrain's multi_logloss: 0.231361\tvalid's multi_logloss: 0.452255\n",
      "[40]\ttrain's multi_logloss: 0.0573599\tvalid's multi_logloss: 0.333248\n"
     ]
    },
    {
     "name": "stderr",
     "output_type": "stream",
     "text": [
      "2022-04-17 11:35:24 - src.train - INFO     [train.py:133] elapsed training time: 0.013 min\n",
      "2022-04-17 11:35:24 - src.train - INFO     [train.py:62] fold=15/33\n",
      "2022-04-17 11:35:24 - src.train - INFO     [train.py:63] reading cv index from data/cv_index/cv-model-test/silicate/fold_21.csv\n"
     ]
    },
    {
     "name": "stdout",
     "output_type": "stream",
     "text": [
      "[60]\ttrain's multi_logloss: 0.0185489\tvalid's multi_logloss: 0.315621\n",
      "Early stopping, best iteration is:\n",
      "[59]\ttrain's multi_logloss: 0.0194435\tvalid's multi_logloss: 0.314156\n",
      "Training until validation scores don't improve for 20 rounds\n",
      "[20]\ttrain's multi_logloss: 0.236075\tvalid's multi_logloss: 0.416639\n",
      "[40]\ttrain's multi_logloss: 0.059449\tvalid's multi_logloss: 0.278977\n",
      "[60]\ttrain's multi_logloss: 0.0191342\tvalid's multi_logloss: 0.233543\n",
      "[80]\ttrain's multi_logloss: 0.00918226\tvalid's multi_logloss: 0.220868\n",
      "[100]\ttrain's multi_logloss: 0.00601234\tvalid's multi_logloss: 0.216062\n"
     ]
    },
    {
     "name": "stderr",
     "output_type": "stream",
     "text": [
      "2022-04-17 11:35:26 - src.train - INFO     [train.py:133] elapsed training time: 0.028 min\n",
      "2022-04-17 11:35:26 - src.train - INFO     [train.py:62] fold=16/33\n",
      "2022-04-17 11:35:26 - src.train - INFO     [train.py:63] reading cv index from data/cv_index/cv-model-test/silicate/fold_22.csv\n"
     ]
    },
    {
     "name": "stdout",
     "output_type": "stream",
     "text": [
      "[120]\ttrain's multi_logloss: 0.00513819\tvalid's multi_logloss: 0.217411\n",
      "Early stopping, best iteration is:\n",
      "[103]\ttrain's multi_logloss: 0.00576721\tvalid's multi_logloss: 0.214975\n",
      "Training until validation scores don't improve for 20 rounds\n",
      "[20]\ttrain's multi_logloss: 0.232626\tvalid's multi_logloss: 0.447028\n"
     ]
    },
    {
     "name": "stderr",
     "output_type": "stream",
     "text": [
      "2022-04-17 11:35:27 - src.train - INFO     [train.py:133] elapsed training time: 0.010 min\n",
      "2022-04-17 11:35:27 - src.train - INFO     [train.py:62] fold=17/33\n",
      "2022-04-17 11:35:27 - src.train - INFO     [train.py:63] reading cv index from data/cv_index/cv-model-test/silicate/fold_23.csv\n"
     ]
    },
    {
     "name": "stdout",
     "output_type": "stream",
     "text": [
      "[40]\ttrain's multi_logloss: 0.0578054\tvalid's multi_logloss: 0.348511\n",
      "[60]\ttrain's multi_logloss: 0.0189227\tvalid's multi_logloss: 0.334448\n",
      "Early stopping, best iteration is:\n",
      "[49]\ttrain's multi_logloss: 0.0335847\tvalid's multi_logloss: 0.331019\n",
      "Training until validation scores don't improve for 20 rounds\n",
      "[20]\ttrain's multi_logloss: 0.237566\tvalid's multi_logloss: 0.374741\n",
      "[40]\ttrain's multi_logloss: 0.0591155\tvalid's multi_logloss: 0.315398\n"
     ]
    },
    {
     "name": "stderr",
     "output_type": "stream",
     "text": [
      "2022-04-17 11:35:28 - src.train - INFO     [train.py:133] elapsed training time: 0.017 min\n",
      "2022-04-17 11:35:28 - src.train - INFO     [train.py:62] fold=18/33\n",
      "2022-04-17 11:35:28 - src.train - INFO     [train.py:63] reading cv index from data/cv_index/cv-model-test/silicate/fold_24.csv\n"
     ]
    },
    {
     "name": "stdout",
     "output_type": "stream",
     "text": [
      "[60]\ttrain's multi_logloss: 0.0190523\tvalid's multi_logloss: 0.338794\n",
      "Early stopping, best iteration is:\n",
      "[40]\ttrain's multi_logloss: 0.0591155\tvalid's multi_logloss: 0.315398\n",
      "Training until validation scores don't improve for 20 rounds\n",
      "[20]\ttrain's multi_logloss: 0.230479\tvalid's multi_logloss: 0.477447\n",
      "[40]\ttrain's multi_logloss: 0.0575719\tvalid's multi_logloss: 0.3246\n",
      "[60]\ttrain's multi_logloss: 0.0188715\tvalid's multi_logloss: 0.287868\n",
      "[80]\ttrain's multi_logloss: 0.00895091\tvalid's multi_logloss: 0.274661\n",
      "[100]\ttrain's multi_logloss: 0.00597443\tvalid's multi_logloss: 0.268367\n",
      "[120]\ttrain's multi_logloss: 0.0051199\tvalid's multi_logloss: 0.264751\n"
     ]
    },
    {
     "name": "stderr",
     "output_type": "stream",
     "text": [
      "2022-04-17 11:35:30 - src.train - INFO     [train.py:133] elapsed training time: 0.037 min\n",
      "2022-04-17 11:35:30 - src.train - INFO     [train.py:62] fold=19/33\n",
      "2022-04-17 11:35:30 - src.train - INFO     [train.py:63] reading cv index from data/cv_index/cv-model-test/silicate/fold_25.csv\n"
     ]
    },
    {
     "name": "stdout",
     "output_type": "stream",
     "text": [
      "[140]\ttrain's multi_logloss: 0.00486779\tvalid's multi_logloss: 0.264765\n",
      "Early stopping, best iteration is:\n",
      "[126]\ttrain's multi_logloss: 0.00502096\tvalid's multi_logloss: 0.263386\n",
      "Training until validation scores don't improve for 20 rounds\n",
      "[20]\ttrain's multi_logloss: 0.240181\tvalid's multi_logloss: 0.384258\n",
      "[40]\ttrain's multi_logloss: 0.0605056\tvalid's multi_logloss: 0.241793\n",
      "[60]\ttrain's multi_logloss: 0.0194557\tvalid's multi_logloss: 0.225053\n"
     ]
    },
    {
     "name": "stderr",
     "output_type": "stream",
     "text": [
      "2022-04-17 11:35:31 - src.train - INFO     [train.py:133] elapsed training time: 0.014 min\n",
      "2022-04-17 11:35:31 - src.train - INFO     [train.py:62] fold=20/33\n",
      "2022-04-17 11:35:31 - src.train - INFO     [train.py:63] reading cv index from data/cv_index/cv-model-test/silicate/fold_26.csv\n"
     ]
    },
    {
     "name": "stdout",
     "output_type": "stream",
     "text": [
      "[80]\ttrain's multi_logloss: 0.00932101\tvalid's multi_logloss: 0.215547\n",
      "[100]\ttrain's multi_logloss: 0.00616681\tvalid's multi_logloss: 0.218998\n",
      "Early stopping, best iteration is:\n",
      "[83]\ttrain's multi_logloss: 0.00864073\tvalid's multi_logloss: 0.213495\n",
      "Training until validation scores don't improve for 20 rounds\n",
      "[20]\ttrain's multi_logloss: 0.234432\tvalid's multi_logloss: 0.484438\n",
      "[40]\ttrain's multi_logloss: 0.0584927\tvalid's multi_logloss: 0.341579\n"
     ]
    },
    {
     "name": "stderr",
     "output_type": "stream",
     "text": [
      "2022-04-17 11:35:32 - src.train - INFO     [train.py:133] elapsed training time: 0.013 min\n",
      "2022-04-17 11:35:32 - src.train - INFO     [train.py:62] fold=21/33\n",
      "2022-04-17 11:35:32 - src.train - INFO     [train.py:63] reading cv index from data/cv_index/cv-model-test/silicate/fold_27.csv\n"
     ]
    },
    {
     "name": "stdout",
     "output_type": "stream",
     "text": [
      "[60]\ttrain's multi_logloss: 0.0190583\tvalid's multi_logloss: 0.323532\n",
      "Early stopping, best iteration is:\n",
      "[57]\ttrain's multi_logloss: 0.0218501\tvalid's multi_logloss: 0.321441\n",
      "Training until validation scores don't improve for 20 rounds\n",
      "[20]\ttrain's multi_logloss: 0.229233\tvalid's multi_logloss: 0.466716\n"
     ]
    },
    {
     "name": "stderr",
     "output_type": "stream",
     "text": [
      "2022-04-17 11:35:33 - src.train - INFO     [train.py:133] elapsed training time: 0.009 min\n",
      "2022-04-17 11:35:33 - src.train - INFO     [train.py:62] fold=22/33\n",
      "2022-04-17 11:35:33 - src.train - INFO     [train.py:63] reading cv index from data/cv_index/cv-model-test/silicate/fold_28.csv\n"
     ]
    },
    {
     "name": "stdout",
     "output_type": "stream",
     "text": [
      "[40]\ttrain's multi_logloss: 0.0577054\tvalid's multi_logloss: 0.390463\n",
      "[60]\ttrain's multi_logloss: 0.0187736\tvalid's multi_logloss: 0.394208\n",
      "Early stopping, best iteration is:\n",
      "[40]\ttrain's multi_logloss: 0.0577054\tvalid's multi_logloss: 0.390463\n",
      "Training until validation scores don't improve for 20 rounds\n",
      "[20]\ttrain's multi_logloss: 0.234076\tvalid's multi_logloss: 0.40714\n",
      "[40]\ttrain's multi_logloss: 0.0596656\tvalid's multi_logloss: 0.275168\n",
      "[60]\ttrain's multi_logloss: 0.0189472\tvalid's multi_logloss: 0.26236\n"
     ]
    },
    {
     "name": "stderr",
     "output_type": "stream",
     "text": [
      "2022-04-17 11:35:34 - src.train - INFO     [train.py:133] elapsed training time: 0.013 min\n",
      "2022-04-17 11:35:34 - src.train - INFO     [train.py:62] fold=23/33\n",
      "2022-04-17 11:35:34 - src.train - INFO     [train.py:63] reading cv index from data/cv_index/cv-model-test/silicate/fold_29.csv\n"
     ]
    },
    {
     "name": "stdout",
     "output_type": "stream",
     "text": [
      "[80]\ttrain's multi_logloss: 0.00908864\tvalid's multi_logloss: 0.260716\n",
      "Early stopping, best iteration is:\n",
      "[67]\ttrain's multi_logloss: 0.0140793\tvalid's multi_logloss: 0.25746\n",
      "Training until validation scores don't improve for 20 rounds\n",
      "[20]\ttrain's multi_logloss: 0.234428\tvalid's multi_logloss: 0.412905\n",
      "[40]\ttrain's multi_logloss: 0.0576949\tvalid's multi_logloss: 0.285402\n",
      "[60]\ttrain's multi_logloss: 0.0187769\tvalid's multi_logloss: 0.260437\n"
     ]
    },
    {
     "name": "stderr",
     "output_type": "stream",
     "text": [
      "2022-04-17 11:35:35 - src.train - INFO     [train.py:133] elapsed training time: 0.020 min\n",
      "2022-04-17 11:35:35 - src.train - INFO     [train.py:62] fold=24/33\n",
      "2022-04-17 11:35:35 - src.train - INFO     [train.py:63] reading cv index from data/cv_index/cv-model-test/silicate/fold_3.csv\n"
     ]
    },
    {
     "name": "stdout",
     "output_type": "stream",
     "text": [
      "[80]\ttrain's multi_logloss: 0.00911679\tvalid's multi_logloss: 0.260188\n",
      "Early stopping, best iteration is:\n",
      "[63]\ttrain's multi_logloss: 0.0164036\tvalid's multi_logloss: 0.256089\n",
      "Training until validation scores don't improve for 20 rounds\n",
      "[20]\ttrain's multi_logloss: 0.236845\tvalid's multi_logloss: 0.4628\n",
      "[40]\ttrain's multi_logloss: 0.0596526\tvalid's multi_logloss: 0.298481\n",
      "[60]\ttrain's multi_logloss: 0.0192071\tvalid's multi_logloss: 0.265734\n",
      "[80]\ttrain's multi_logloss: 0.0090907\tvalid's multi_logloss: 0.262869\n"
     ]
    },
    {
     "name": "stderr",
     "output_type": "stream",
     "text": [
      "2022-04-17 11:35:36 - src.train - INFO     [train.py:133] elapsed training time: 0.011 min\n",
      "2022-04-17 11:35:36 - src.train - INFO     [train.py:62] fold=25/33\n",
      "2022-04-17 11:35:36 - src.train - INFO     [train.py:63] reading cv index from data/cv_index/cv-model-test/silicate/fold_30.csv\n"
     ]
    },
    {
     "name": "stdout",
     "output_type": "stream",
     "text": [
      "Early stopping, best iteration is:\n",
      "[67]\ttrain's multi_logloss: 0.0141644\tvalid's multi_logloss: 0.260692\n",
      "Training until validation scores don't improve for 20 rounds\n",
      "[20]\ttrain's multi_logloss: 0.239511\tvalid's multi_logloss: 0.415463\n",
      "[40]\ttrain's multi_logloss: 0.0601409\tvalid's multi_logloss: 0.286469\n"
     ]
    },
    {
     "name": "stderr",
     "output_type": "stream",
     "text": [
      "2022-04-17 11:35:36 - src.train - INFO     [train.py:133] elapsed training time: 0.011 min\n",
      "2022-04-17 11:35:36 - src.train - INFO     [train.py:62] fold=26/33\n",
      "2022-04-17 11:35:36 - src.train - INFO     [train.py:63] reading cv index from data/cv_index/cv-model-test/silicate/fold_31.csv\n"
     ]
    },
    {
     "name": "stdout",
     "output_type": "stream",
     "text": [
      "[60]\ttrain's multi_logloss: 0.0193763\tvalid's multi_logloss: 0.251019\n",
      "[80]\ttrain's multi_logloss: 0.00931754\tvalid's multi_logloss: 0.241047\n",
      "[100]\ttrain's multi_logloss: 0.00612195\tvalid's multi_logloss: 0.241178\n",
      "Early stopping, best iteration is:\n",
      "[92]\ttrain's multi_logloss: 0.00701661\tvalid's multi_logloss: 0.238606\n",
      "Training until validation scores don't improve for 20 rounds\n",
      "[20]\ttrain's multi_logloss: 0.239592\tvalid's multi_logloss: 0.478193\n",
      "[40]\ttrain's multi_logloss: 0.0599987\tvalid's multi_logloss: 0.351134\n"
     ]
    },
    {
     "name": "stderr",
     "output_type": "stream",
     "text": [
      "2022-04-17 11:35:37 - src.train - INFO     [train.py:133] elapsed training time: 0.010 min\n",
      "2022-04-17 11:35:37 - src.train - INFO     [train.py:62] fold=27/33\n",
      "2022-04-17 11:35:37 - src.train - INFO     [train.py:63] reading cv index from data/cv_index/cv-model-test/silicate/fold_32.csv\n"
     ]
    },
    {
     "name": "stdout",
     "output_type": "stream",
     "text": [
      "[60]\ttrain's multi_logloss: 0.0195942\tvalid's multi_logloss: 0.327552\n",
      "Early stopping, best iteration is:\n",
      "[52]\ttrain's multi_logloss: 0.0291533\tvalid's multi_logloss: 0.321196\n",
      "Training until validation scores don't improve for 20 rounds\n",
      "[20]\ttrain's multi_logloss: 0.232345\tvalid's multi_logloss: 0.45745\n"
     ]
    },
    {
     "name": "stderr",
     "output_type": "stream",
     "text": [
      "2022-04-17 11:35:38 - src.train - INFO     [train.py:133] elapsed training time: 0.010 min\n",
      "2022-04-17 11:35:38 - src.train - INFO     [train.py:62] fold=28/33\n",
      "2022-04-17 11:35:38 - src.train - INFO     [train.py:63] reading cv index from data/cv_index/cv-model-test/silicate/fold_4.csv\n"
     ]
    },
    {
     "name": "stdout",
     "output_type": "stream",
     "text": [
      "[40]\ttrain's multi_logloss: 0.0575559\tvalid's multi_logloss: 0.348652\n",
      "[60]\ttrain's multi_logloss: 0.018745\tvalid's multi_logloss: 0.353586\n",
      "Early stopping, best iteration is:\n",
      "[44]\ttrain's multi_logloss: 0.0443872\tvalid's multi_logloss: 0.344262\n",
      "Training until validation scores don't improve for 20 rounds\n",
      "[20]\ttrain's multi_logloss: 0.231804\tvalid's multi_logloss: 0.429355\n",
      "[40]\ttrain's multi_logloss: 0.059071\tvalid's multi_logloss: 0.302427\n",
      "[60]\ttrain's multi_logloss: 0.0190655\tvalid's multi_logloss: 0.289762\n"
     ]
    },
    {
     "name": "stderr",
     "output_type": "stream",
     "text": [
      "2022-04-17 11:35:39 - src.train - INFO     [train.py:133] elapsed training time: 0.011 min\n",
      "2022-04-17 11:35:39 - src.train - INFO     [train.py:62] fold=29/33\n",
      "2022-04-17 11:35:39 - src.train - INFO     [train.py:63] reading cv index from data/cv_index/cv-model-test/silicate/fold_5.csv\n"
     ]
    },
    {
     "name": "stdout",
     "output_type": "stream",
     "text": [
      "[80]\ttrain's multi_logloss: 0.0093245\tvalid's multi_logloss: 0.299037\n",
      "Early stopping, best iteration is:\n",
      "[65]\ttrain's multi_logloss: 0.0154579\tvalid's multi_logloss: 0.288947\n",
      "Training until validation scores don't improve for 20 rounds\n",
      "[20]\ttrain's multi_logloss: 0.23588\tvalid's multi_logloss: 0.385932\n",
      "[40]\ttrain's multi_logloss: 0.0589046\tvalid's multi_logloss: 0.24639\n",
      "[60]\ttrain's multi_logloss: 0.0190644\tvalid's multi_logloss: 0.226356\n",
      "[80]\ttrain's multi_logloss: 0.00915254\tvalid's multi_logloss: 0.217437\n"
     ]
    },
    {
     "name": "stderr",
     "output_type": "stream",
     "text": [
      "2022-04-17 11:35:40 - src.train - INFO     [train.py:133] elapsed training time: 0.024 min\n",
      "2022-04-17 11:35:40 - src.train - INFO     [train.py:62] fold=30/33\n",
      "2022-04-17 11:35:40 - src.train - INFO     [train.py:63] reading cv index from data/cv_index/cv-model-test/silicate/fold_6.csv\n"
     ]
    },
    {
     "name": "stdout",
     "output_type": "stream",
     "text": [
      "[100]\ttrain's multi_logloss: 0.00607499\tvalid's multi_logloss: 0.214779\n",
      "Early stopping, best iteration is:\n",
      "[91]\ttrain's multi_logloss: 0.00704355\tvalid's multi_logloss: 0.212703\n",
      "Training until validation scores don't improve for 20 rounds\n",
      "[20]\ttrain's multi_logloss: 0.223742\tvalid's multi_logloss: 0.486082\n",
      "[40]\ttrain's multi_logloss: 0.0557943\tvalid's multi_logloss: 0.435232\n"
     ]
    },
    {
     "name": "stderr",
     "output_type": "stream",
     "text": [
      "2022-04-17 11:35:42 - src.train - INFO     [train.py:133] elapsed training time: 0.019 min\n",
      "2022-04-17 11:35:42 - src.train - INFO     [train.py:62] fold=31/33\n",
      "2022-04-17 11:35:42 - src.train - INFO     [train.py:63] reading cv index from data/cv_index/cv-model-test/silicate/fold_7.csv\n"
     ]
    },
    {
     "name": "stdout",
     "output_type": "stream",
     "text": [
      "Early stopping, best iteration is:\n",
      "[36]\ttrain's multi_logloss: 0.0732571\tvalid's multi_logloss: 0.427511\n",
      "Training until validation scores don't improve for 20 rounds\n",
      "[20]\ttrain's multi_logloss: 0.228347\tvalid's multi_logloss: 0.396037\n",
      "[40]\ttrain's multi_logloss: 0.0574336\tvalid's multi_logloss: 0.273147\n"
     ]
    },
    {
     "name": "stderr",
     "output_type": "stream",
     "text": [
      "2022-04-17 11:35:42 - src.train - INFO     [train.py:133] elapsed training time: 0.012 min\n",
      "2022-04-17 11:35:42 - src.train - INFO     [train.py:62] fold=32/33\n",
      "2022-04-17 11:35:42 - src.train - INFO     [train.py:63] reading cv index from data/cv_index/cv-model-test/silicate/fold_8.csv\n"
     ]
    },
    {
     "name": "stdout",
     "output_type": "stream",
     "text": [
      "[60]\ttrain's multi_logloss: 0.0188079\tvalid's multi_logloss: 0.256405\n",
      "[80]\ttrain's multi_logloss: 0.00900437\tvalid's multi_logloss: 0.254433\n",
      "Early stopping, best iteration is:\n",
      "[65]\ttrain's multi_logloss: 0.0150344\tvalid's multi_logloss: 0.253126\n",
      "Training until validation scores don't improve for 20 rounds\n",
      "[20]\ttrain's multi_logloss: 0.230219\tvalid's multi_logloss: 0.419211\n",
      "[40]\ttrain's multi_logloss: 0.0569432\tvalid's multi_logloss: 0.337645\n"
     ]
    },
    {
     "name": "stderr",
     "output_type": "stream",
     "text": [
      "2022-04-17 11:35:43 - src.train - INFO     [train.py:133] elapsed training time: 0.008 min\n",
      "2022-04-17 11:35:43 - src.train - INFO     [train.py:62] fold=33/33\n",
      "2022-04-17 11:35:43 - src.train - INFO     [train.py:63] reading cv index from data/cv_index/cv-model-test/silicate/fold_9.csv\n"
     ]
    },
    {
     "name": "stdout",
     "output_type": "stream",
     "text": [
      "Early stopping, best iteration is:\n",
      "[37]\ttrain's multi_logloss: 0.06965\tvalid's multi_logloss: 0.336377\n",
      "Training until validation scores don't improve for 20 rounds\n",
      "[20]\ttrain's multi_logloss: 0.234758\tvalid's multi_logloss: 0.412118\n",
      "[40]\ttrain's multi_logloss: 0.0578031\tvalid's multi_logloss: 0.297008\n",
      "[60]\ttrain's multi_logloss: 0.0188121\tvalid's multi_logloss: 0.28529\n",
      "[80]\ttrain's multi_logloss: 0.00912783\tvalid's multi_logloss: 0.293276\n",
      "Early stopping, best iteration is:\n",
      "[61]\ttrain's multi_logloss: 0.018015\tvalid's multi_logloss: 0.285145\n"
     ]
    },
    {
     "name": "stderr",
     "output_type": "stream",
     "text": [
      "2022-04-17 11:35:44 - src.train - INFO     [train.py:133] elapsed training time: 0.011 min\n",
      "2022-04-17 11:35:44 - src.train - INFO     [train.py:62] fold=1/33\n",
      "2022-04-17 11:35:44 - src.train - INFO     [train.py:63] reading cv index from data/cv_index/cv-model-test/silicate/fold_0.csv\n"
     ]
    },
    {
     "name": "stdout",
     "output_type": "stream",
     "text": [
      "61\n"
     ]
    },
    {
     "name": "stderr",
     "output_type": "stream",
     "text": [
      "2022-04-17 11:35:44 - src.train - INFO     [train.py:28] elapsed training time: 0.010 min\n",
      "2022-04-17 11:35:44 - src.train - INFO     [train.py:62] fold=2/33\n",
      "2022-04-17 11:35:44 - src.train - INFO     [train.py:63] reading cv index from data/cv_index/cv-model-test/silicate/fold_1.csv\n",
      "2022-04-17 11:35:45 - src.train - INFO     [train.py:28] elapsed training time: 0.006 min\n",
      "2022-04-17 11:35:45 - src.train - INFO     [train.py:62] fold=3/33\n",
      "2022-04-17 11:35:45 - src.train - INFO     [train.py:63] reading cv index from data/cv_index/cv-model-test/silicate/fold_10.csv\n",
      "2022-04-17 11:35:45 - src.train - INFO     [train.py:28] elapsed training time: 0.006 min\n",
      "2022-04-17 11:35:45 - src.train - INFO     [train.py:62] fold=4/33\n",
      "2022-04-17 11:35:45 - src.train - INFO     [train.py:63] reading cv index from data/cv_index/cv-model-test/silicate/fold_11.csv\n",
      "2022-04-17 11:35:46 - src.train - INFO     [train.py:28] elapsed training time: 0.006 min\n",
      "2022-04-17 11:35:46 - src.train - INFO     [train.py:62] fold=5/33\n",
      "2022-04-17 11:35:46 - src.train - INFO     [train.py:63] reading cv index from data/cv_index/cv-model-test/silicate/fold_12.csv\n",
      "2022-04-17 11:35:47 - src.train - INFO     [train.py:28] elapsed training time: 0.008 min\n",
      "2022-04-17 11:35:47 - src.train - INFO     [train.py:62] fold=6/33\n",
      "2022-04-17 11:35:47 - src.train - INFO     [train.py:63] reading cv index from data/cv_index/cv-model-test/silicate/fold_13.csv\n",
      "2022-04-17 11:35:47 - src.train - INFO     [train.py:28] elapsed training time: 0.011 min\n",
      "2022-04-17 11:35:47 - src.train - INFO     [train.py:62] fold=7/33\n",
      "2022-04-17 11:35:47 - src.train - INFO     [train.py:63] reading cv index from data/cv_index/cv-model-test/silicate/fold_14.csv\n",
      "2022-04-17 11:35:48 - src.train - INFO     [train.py:28] elapsed training time: 0.008 min\n",
      "2022-04-17 11:35:48 - src.train - INFO     [train.py:62] fold=8/33\n",
      "2022-04-17 11:35:48 - src.train - INFO     [train.py:63] reading cv index from data/cv_index/cv-model-test/silicate/fold_15.csv\n",
      "2022-04-17 11:35:49 - src.train - INFO     [train.py:28] elapsed training time: 0.016 min\n",
      "2022-04-17 11:35:49 - src.train - INFO     [train.py:62] fold=9/33\n",
      "2022-04-17 11:35:49 - src.train - INFO     [train.py:63] reading cv index from data/cv_index/cv-model-test/silicate/fold_16.csv\n",
      "2022-04-17 11:35:50 - src.train - INFO     [train.py:28] elapsed training time: 0.012 min\n",
      "2022-04-17 11:35:50 - src.train - INFO     [train.py:62] fold=10/33\n",
      "2022-04-17 11:35:50 - src.train - INFO     [train.py:63] reading cv index from data/cv_index/cv-model-test/silicate/fold_17.csv\n",
      "2022-04-17 11:35:50 - src.train - INFO     [train.py:28] elapsed training time: 0.007 min\n",
      "2022-04-17 11:35:50 - src.train - INFO     [train.py:62] fold=11/33\n",
      "2022-04-17 11:35:50 - src.train - INFO     [train.py:63] reading cv index from data/cv_index/cv-model-test/silicate/fold_18.csv\n",
      "2022-04-17 11:35:51 - src.train - INFO     [train.py:28] elapsed training time: 0.005 min\n",
      "2022-04-17 11:35:51 - src.train - INFO     [train.py:62] fold=12/33\n",
      "2022-04-17 11:35:51 - src.train - INFO     [train.py:63] reading cv index from data/cv_index/cv-model-test/silicate/fold_19.csv\n",
      "2022-04-17 11:35:52 - src.train - INFO     [train.py:28] elapsed training time: 0.008 min\n",
      "2022-04-17 11:35:52 - src.train - INFO     [train.py:62] fold=13/33\n",
      "2022-04-17 11:35:52 - src.train - INFO     [train.py:63] reading cv index from data/cv_index/cv-model-test/silicate/fold_2.csv\n",
      "2022-04-17 11:35:53 - src.train - INFO     [train.py:28] elapsed training time: 0.019 min\n",
      "2022-04-17 11:35:53 - src.train - INFO     [train.py:62] fold=14/33\n",
      "2022-04-17 11:35:53 - src.train - INFO     [train.py:63] reading cv index from data/cv_index/cv-model-test/silicate/fold_20.csv\n",
      "2022-04-17 11:35:53 - src.train - INFO     [train.py:28] elapsed training time: 0.007 min\n",
      "2022-04-17 11:35:53 - src.train - INFO     [train.py:62] fold=15/33\n",
      "2022-04-17 11:35:53 - src.train - INFO     [train.py:63] reading cv index from data/cv_index/cv-model-test/silicate/fold_21.csv\n",
      "2022-04-17 11:35:54 - src.train - INFO     [train.py:28] elapsed training time: 0.008 min\n",
      "2022-04-17 11:35:54 - src.train - INFO     [train.py:62] fold=16/33\n",
      "2022-04-17 11:35:54 - src.train - INFO     [train.py:63] reading cv index from data/cv_index/cv-model-test/silicate/fold_22.csv\n",
      "2022-04-17 11:35:55 - src.train - INFO     [train.py:28] elapsed training time: 0.012 min\n",
      "2022-04-17 11:35:55 - src.train - INFO     [train.py:62] fold=17/33\n",
      "2022-04-17 11:35:55 - src.train - INFO     [train.py:63] reading cv index from data/cv_index/cv-model-test/silicate/fold_23.csv\n",
      "2022-04-17 11:35:55 - src.train - INFO     [train.py:28] elapsed training time: 0.006 min\n",
      "2022-04-17 11:35:55 - src.train - INFO     [train.py:62] fold=18/33\n",
      "2022-04-17 11:35:55 - src.train - INFO     [train.py:63] reading cv index from data/cv_index/cv-model-test/silicate/fold_24.csv\n",
      "2022-04-17 11:35:56 - src.train - INFO     [train.py:28] elapsed training time: 0.007 min\n",
      "2022-04-17 11:35:56 - src.train - INFO     [train.py:62] fold=19/33\n",
      "2022-04-17 11:35:56 - src.train - INFO     [train.py:63] reading cv index from data/cv_index/cv-model-test/silicate/fold_25.csv\n",
      "2022-04-17 11:35:57 - src.train - INFO     [train.py:28] elapsed training time: 0.014 min\n",
      "2022-04-17 11:35:57 - src.train - INFO     [train.py:62] fold=20/33\n",
      "2022-04-17 11:35:57 - src.train - INFO     [train.py:63] reading cv index from data/cv_index/cv-model-test/silicate/fold_26.csv\n",
      "2022-04-17 11:35:57 - src.train - INFO     [train.py:28] elapsed training time: 0.007 min\n",
      "2022-04-17 11:35:57 - src.train - INFO     [train.py:62] fold=21/33\n",
      "2022-04-17 11:35:57 - src.train - INFO     [train.py:63] reading cv index from data/cv_index/cv-model-test/silicate/fold_27.csv\n",
      "2022-04-17 11:35:58 - src.train - INFO     [train.py:28] elapsed training time: 0.006 min\n",
      "2022-04-17 11:35:58 - src.train - INFO     [train.py:62] fold=22/33\n",
      "2022-04-17 11:35:58 - src.train - INFO     [train.py:63] reading cv index from data/cv_index/cv-model-test/silicate/fold_28.csv\n",
      "2022-04-17 11:35:59 - src.train - INFO     [train.py:28] elapsed training time: 0.014 min\n",
      "2022-04-17 11:35:59 - src.train - INFO     [train.py:62] fold=23/33\n",
      "2022-04-17 11:35:59 - src.train - INFO     [train.py:63] reading cv index from data/cv_index/cv-model-test/silicate/fold_29.csv\n",
      "2022-04-17 11:36:00 - src.train - INFO     [train.py:28] elapsed training time: 0.010 min\n",
      "2022-04-17 11:36:00 - src.train - INFO     [train.py:62] fold=24/33\n",
      "2022-04-17 11:36:00 - src.train - INFO     [train.py:63] reading cv index from data/cv_index/cv-model-test/silicate/fold_3.csv\n",
      "2022-04-17 11:36:01 - src.train - INFO     [train.py:28] elapsed training time: 0.013 min\n",
      "2022-04-17 11:36:01 - src.train - INFO     [train.py:62] fold=25/33\n",
      "2022-04-17 11:36:01 - src.train - INFO     [train.py:63] reading cv index from data/cv_index/cv-model-test/silicate/fold_30.csv\n",
      "2022-04-17 11:36:01 - src.train - INFO     [train.py:28] elapsed training time: 0.006 min\n",
      "2022-04-17 11:36:01 - src.train - INFO     [train.py:62] fold=26/33\n",
      "2022-04-17 11:36:01 - src.train - INFO     [train.py:63] reading cv index from data/cv_index/cv-model-test/silicate/fold_31.csv\n",
      "2022-04-17 11:36:02 - src.train - INFO     [train.py:28] elapsed training time: 0.008 min\n",
      "2022-04-17 11:36:02 - src.train - INFO     [train.py:62] fold=27/33\n",
      "2022-04-17 11:36:02 - src.train - INFO     [train.py:63] reading cv index from data/cv_index/cv-model-test/silicate/fold_32.csv\n",
      "2022-04-17 11:36:02 - src.train - INFO     [train.py:28] elapsed training time: 0.006 min\n",
      "2022-04-17 11:36:02 - src.train - INFO     [train.py:62] fold=28/33\n",
      "2022-04-17 11:36:02 - src.train - INFO     [train.py:63] reading cv index from data/cv_index/cv-model-test/silicate/fold_4.csv\n",
      "2022-04-17 11:36:03 - src.train - INFO     [train.py:28] elapsed training time: 0.006 min\n",
      "2022-04-17 11:36:03 - src.train - INFO     [train.py:62] fold=29/33\n",
      "2022-04-17 11:36:03 - src.train - INFO     [train.py:63] reading cv index from data/cv_index/cv-model-test/silicate/fold_5.csv\n",
      "2022-04-17 11:36:03 - src.train - INFO     [train.py:28] elapsed training time: 0.008 min\n",
      "2022-04-17 11:36:03 - src.train - INFO     [train.py:62] fold=30/33\n",
      "2022-04-17 11:36:03 - src.train - INFO     [train.py:63] reading cv index from data/cv_index/cv-model-test/silicate/fold_6.csv\n"
     ]
    },
    {
     "name": "stderr",
     "output_type": "stream",
     "text": [
      "2022-04-17 11:36:04 - src.train - INFO     [train.py:28] elapsed training time: 0.009 min\n",
      "2022-04-17 11:36:04 - src.train - INFO     [train.py:62] fold=31/33\n",
      "2022-04-17 11:36:04 - src.train - INFO     [train.py:63] reading cv index from data/cv_index/cv-model-test/silicate/fold_7.csv\n",
      "2022-04-17 11:36:05 - src.train - INFO     [train.py:28] elapsed training time: 0.007 min\n",
      "2022-04-17 11:36:05 - src.train - INFO     [train.py:62] fold=32/33\n",
      "2022-04-17 11:36:05 - src.train - INFO     [train.py:63] reading cv index from data/cv_index/cv-model-test/silicate/fold_8.csv\n",
      "2022-04-17 11:36:05 - src.train - INFO     [train.py:28] elapsed training time: 0.009 min\n",
      "2022-04-17 11:36:05 - src.train - INFO     [train.py:62] fold=33/33\n",
      "2022-04-17 11:36:05 - src.train - INFO     [train.py:63] reading cv index from data/cv_index/cv-model-test/silicate/fold_9.csv\n",
      "2022-04-17 11:36:06 - src.train - INFO     [train.py:28] elapsed training time: 0.008 min\n",
      "2022-04-17 11:36:06 - src.train - INFO     [train.py:62] fold=1/33\n",
      "2022-04-17 11:36:06 - src.train - INFO     [train.py:63] reading cv index from data/cv_index/cv-model-test/sulfate/fold_0.csv\n"
     ]
    },
    {
     "name": "stdout",
     "output_type": "stream",
     "text": [
      "Training until validation scores don't improve for 20 rounds\n",
      "[20]\ttrain's multi_logloss: 0.256132\tvalid's multi_logloss: 0.488287\n",
      "[40]\ttrain's multi_logloss: 0.0683235\tvalid's multi_logloss: 0.345745\n",
      "[60]\ttrain's multi_logloss: 0.0227091\tvalid's multi_logloss: 0.316333\n"
     ]
    },
    {
     "name": "stderr",
     "output_type": "stream",
     "text": [
      "2022-04-17 11:36:07 - src.train - INFO     [train.py:133] elapsed training time: 0.021 min\n",
      "2022-04-17 11:36:07 - src.train - INFO     [train.py:62] fold=2/33\n",
      "2022-04-17 11:36:07 - src.train - INFO     [train.py:63] reading cv index from data/cv_index/cv-model-test/sulfate/fold_1.csv\n"
     ]
    },
    {
     "name": "stdout",
     "output_type": "stream",
     "text": [
      "[80]\ttrain's multi_logloss: 0.0107222\tvalid's multi_logloss: 0.31121\n",
      "Early stopping, best iteration is:\n",
      "[73]\ttrain's multi_logloss: 0.0133704\tvalid's multi_logloss: 0.309083\n",
      "Training until validation scores don't improve for 20 rounds\n",
      "[20]\ttrain's multi_logloss: 0.248208\tvalid's multi_logloss: 0.494748\n"
     ]
    },
    {
     "name": "stderr",
     "output_type": "stream",
     "text": [
      "2022-04-17 11:36:08 - src.train - INFO     [train.py:133] elapsed training time: 0.015 min\n",
      "2022-04-17 11:36:08 - src.train - INFO     [train.py:62] fold=3/33\n",
      "2022-04-17 11:36:08 - src.train - INFO     [train.py:63] reading cv index from data/cv_index/cv-model-test/sulfate/fold_10.csv\n"
     ]
    },
    {
     "name": "stdout",
     "output_type": "stream",
     "text": [
      "[40]\ttrain's multi_logloss: 0.0649588\tvalid's multi_logloss: 0.377057\n",
      "[60]\ttrain's multi_logloss: 0.0217161\tvalid's multi_logloss: 0.3768\n",
      "Early stopping, best iteration is:\n",
      "[46]\ttrain's multi_logloss: 0.0452835\tvalid's multi_logloss: 0.366701\n",
      "Training until validation scores don't improve for 20 rounds\n",
      "[20]\ttrain's multi_logloss: 0.249362\tvalid's multi_logloss: 0.52627\n",
      "[40]\ttrain's multi_logloss: 0.0663344\tvalid's multi_logloss: 0.389792\n"
     ]
    },
    {
     "name": "stderr",
     "output_type": "stream",
     "text": [
      "2022-04-17 11:36:09 - src.train - INFO     [train.py:133] elapsed training time: 0.007 min\n",
      "2022-04-17 11:36:09 - src.train - INFO     [train.py:62] fold=4/33\n",
      "2022-04-17 11:36:09 - src.train - INFO     [train.py:63] reading cv index from data/cv_index/cv-model-test/sulfate/fold_11.csv\n"
     ]
    },
    {
     "name": "stdout",
     "output_type": "stream",
     "text": [
      "[60]\ttrain's multi_logloss: 0.0221429\tvalid's multi_logloss: 0.37875\n",
      "Early stopping, best iteration is:\n",
      "[51]\ttrain's multi_logloss: 0.034545\tvalid's multi_logloss: 0.369242\n",
      "Training until validation scores don't improve for 20 rounds\n",
      "[20]\ttrain's multi_logloss: 0.233429\tvalid's multi_logloss: 0.577786\n"
     ]
    },
    {
     "name": "stderr",
     "output_type": "stream",
     "text": [
      "2022-04-17 11:36:10 - src.train - INFO     [train.py:133] elapsed training time: 0.012 min\n",
      "2022-04-17 11:36:10 - src.train - INFO     [train.py:62] fold=5/33\n",
      "2022-04-17 11:36:10 - src.train - INFO     [train.py:63] reading cv index from data/cv_index/cv-model-test/sulfate/fold_12.csv\n"
     ]
    },
    {
     "name": "stdout",
     "output_type": "stream",
     "text": [
      "[40]\ttrain's multi_logloss: 0.0610802\tvalid's multi_logloss: 0.478767\n",
      "[60]\ttrain's multi_logloss: 0.0202717\tvalid's multi_logloss: 0.478463\n",
      "Early stopping, best iteration is:\n",
      "[42]\ttrain's multi_logloss: 0.0538984\tvalid's multi_logloss: 0.473807\n",
      "Training until validation scores don't improve for 20 rounds\n",
      "[20]\ttrain's multi_logloss: 0.255567\tvalid's multi_logloss: 0.447559\n",
      "[40]\ttrain's multi_logloss: 0.0684793\tvalid's multi_logloss: 0.35883\n",
      "[60]\ttrain's multi_logloss: 0.0227847\tvalid's multi_logloss: 0.34541\n"
     ]
    },
    {
     "name": "stderr",
     "output_type": "stream",
     "text": [
      "2022-04-17 11:36:11 - src.train - INFO     [train.py:133] elapsed training time: 0.013 min\n",
      "2022-04-17 11:36:11 - src.train - INFO     [train.py:62] fold=6/33\n",
      "2022-04-17 11:36:11 - src.train - INFO     [train.py:63] reading cv index from data/cv_index/cv-model-test/sulfate/fold_13.csv\n"
     ]
    },
    {
     "name": "stdout",
     "output_type": "stream",
     "text": [
      "[80]\ttrain's multi_logloss: 0.0107389\tvalid's multi_logloss: 0.357734\n",
      "Early stopping, best iteration is:\n",
      "[65]\ttrain's multi_logloss: 0.0183686\tvalid's multi_logloss: 0.344611\n",
      "Training until validation scores don't improve for 20 rounds\n",
      "[20]\ttrain's multi_logloss: 0.243229\tvalid's multi_logloss: 0.504815\n",
      "[40]\ttrain's multi_logloss: 0.0624475\tvalid's multi_logloss: 0.39374\n"
     ]
    },
    {
     "name": "stderr",
     "output_type": "stream",
     "text": [
      "2022-04-17 11:36:11 - src.train - INFO     [train.py:133] elapsed training time: 0.008 min\n",
      "2022-04-17 11:36:11 - src.train - INFO     [train.py:62] fold=7/33\n",
      "2022-04-17 11:36:11 - src.train - INFO     [train.py:63] reading cv index from data/cv_index/cv-model-test/sulfate/fold_14.csv\n"
     ]
    },
    {
     "name": "stdout",
     "output_type": "stream",
     "text": [
      "[60]\ttrain's multi_logloss: 0.021006\tvalid's multi_logloss: 0.406028\n",
      "Early stopping, best iteration is:\n",
      "[43]\ttrain's multi_logloss: 0.0520134\tvalid's multi_logloss: 0.391237\n",
      "Training until validation scores don't improve for 20 rounds\n",
      "[20]\ttrain's multi_logloss: 0.248685\tvalid's multi_logloss: 0.564616\n",
      "[40]\ttrain's multi_logloss: 0.065765\tvalid's multi_logloss: 0.41669\n"
     ]
    },
    {
     "name": "stderr",
     "output_type": "stream",
     "text": [
      "2022-04-17 11:36:12 - src.train - INFO     [train.py:133] elapsed training time: 0.009 min\n",
      "2022-04-17 11:36:12 - src.train - INFO     [train.py:62] fold=8/33\n",
      "2022-04-17 11:36:12 - src.train - INFO     [train.py:63] reading cv index from data/cv_index/cv-model-test/sulfate/fold_15.csv\n"
     ]
    },
    {
     "name": "stdout",
     "output_type": "stream",
     "text": [
      "[60]\ttrain's multi_logloss: 0.0217759\tvalid's multi_logloss: 0.39318\n",
      "[80]\ttrain's multi_logloss: 0.0103426\tvalid's multi_logloss: 0.398207\n",
      "Early stopping, best iteration is:\n",
      "[69]\ttrain's multi_logloss: 0.0150679\tvalid's multi_logloss: 0.390267\n",
      "Training until validation scores don't improve for 20 rounds\n",
      "[20]\ttrain's multi_logloss: 0.248532\tvalid's multi_logloss: 0.498409\n",
      "[40]\ttrain's multi_logloss: 0.0662471\tvalid's multi_logloss: 0.384245\n"
     ]
    },
    {
     "name": "stderr",
     "output_type": "stream",
     "text": [
      "2022-04-17 11:36:12 - src.train - INFO     [train.py:133] elapsed training time: 0.006 min\n",
      "2022-04-17 11:36:12 - src.train - INFO     [train.py:62] fold=9/33\n",
      "2022-04-17 11:36:12 - src.train - INFO     [train.py:63] reading cv index from data/cv_index/cv-model-test/sulfate/fold_16.csv\n"
     ]
    },
    {
     "name": "stdout",
     "output_type": "stream",
     "text": [
      "[60]\ttrain's multi_logloss: 0.0221559\tvalid's multi_logloss: 0.396573\n",
      "Early stopping, best iteration is:\n",
      "[42]\ttrain's multi_logloss: 0.0586803\tvalid's multi_logloss: 0.379056\n",
      "Training until validation scores don't improve for 20 rounds\n",
      "[20]\ttrain's multi_logloss: 0.254004\tvalid's multi_logloss: 0.426173\n",
      "[40]\ttrain's multi_logloss: 0.0684244\tvalid's multi_logloss: 0.302289\n"
     ]
    },
    {
     "name": "stderr",
     "output_type": "stream",
     "text": [
      "2022-04-17 11:36:13 - src.train - INFO     [train.py:133] elapsed training time: 0.008 min\n",
      "2022-04-17 11:36:13 - src.train - INFO     [train.py:62] fold=10/33\n",
      "2022-04-17 11:36:13 - src.train - INFO     [train.py:63] reading cv index from data/cv_index/cv-model-test/sulfate/fold_17.csv\n"
     ]
    },
    {
     "name": "stdout",
     "output_type": "stream",
     "text": [
      "[60]\ttrain's multi_logloss: 0.0224977\tvalid's multi_logloss: 0.277635\n",
      "[80]\ttrain's multi_logloss: 0.0107259\tvalid's multi_logloss: 0.287717\n",
      "Early stopping, best iteration is:\n",
      "[60]\ttrain's multi_logloss: 0.0224977\tvalid's multi_logloss: 0.277635\n",
      "Training until validation scores don't improve for 20 rounds\n",
      "[20]\ttrain's multi_logloss: 0.254696\tvalid's multi_logloss: 0.414136\n",
      "[40]\ttrain's multi_logloss: 0.0679767\tvalid's multi_logloss: 0.295103\n"
     ]
    },
    {
     "name": "stderr",
     "output_type": "stream",
     "text": [
      "2022-04-17 11:36:14 - src.train - INFO     [train.py:133] elapsed training time: 0.009 min\n",
      "2022-04-17 11:36:14 - src.train - INFO     [train.py:62] fold=11/33\n",
      "2022-04-17 11:36:14 - src.train - INFO     [train.py:63] reading cv index from data/cv_index/cv-model-test/sulfate/fold_18.csv\n"
     ]
    },
    {
     "name": "stdout",
     "output_type": "stream",
     "text": [
      "[60]\ttrain's multi_logloss: 0.0228432\tvalid's multi_logloss: 0.27899\n",
      "[80]\ttrain's multi_logloss: 0.0108295\tvalid's multi_logloss: 0.28136\n",
      "Early stopping, best iteration is:\n",
      "[67]\ttrain's multi_logloss: 0.0169713\tvalid's multi_logloss: 0.277157\n",
      "Training until validation scores don't improve for 20 rounds\n",
      "[20]\ttrain's multi_logloss: 0.245335\tvalid's multi_logloss: 0.547734\n",
      "[40]\ttrain's multi_logloss: 0.0655054\tvalid's multi_logloss: 0.420213\n"
     ]
    },
    {
     "name": "stderr",
     "output_type": "stream",
     "text": [
      "2022-04-17 11:36:14 - src.train - INFO     [train.py:133] elapsed training time: 0.009 min\n",
      "2022-04-17 11:36:14 - src.train - INFO     [train.py:62] fold=12/33\n",
      "2022-04-17 11:36:14 - src.train - INFO     [train.py:63] reading cv index from data/cv_index/cv-model-test/sulfate/fold_19.csv\n"
     ]
    },
    {
     "name": "stdout",
     "output_type": "stream",
     "text": [
      "[60]\ttrain's multi_logloss: 0.0219695\tvalid's multi_logloss: 0.381177\n",
      "[80]\ttrain's multi_logloss: 0.0103083\tvalid's multi_logloss: 0.376919\n",
      "Early stopping, best iteration is:\n",
      "[75]\ttrain's multi_logloss: 0.011991\tvalid's multi_logloss: 0.374641\n",
      "Training until validation scores don't improve for 20 rounds\n",
      "[20]\ttrain's multi_logloss: 0.245785\tvalid's multi_logloss: 0.43613\n",
      "[40]\ttrain's multi_logloss: 0.065603\tvalid's multi_logloss: 0.328965\n"
     ]
    },
    {
     "name": "stderr",
     "output_type": "stream",
     "text": [
      "2022-04-17 11:36:15 - src.train - INFO     [train.py:133] elapsed training time: 0.007 min\n",
      "2022-04-17 11:36:15 - src.train - INFO     [train.py:62] fold=13/33\n",
      "2022-04-17 11:36:15 - src.train - INFO     [train.py:63] reading cv index from data/cv_index/cv-model-test/sulfate/fold_2.csv\n"
     ]
    },
    {
     "name": "stdout",
     "output_type": "stream",
     "text": [
      "[60]\ttrain's multi_logloss: 0.0220224\tvalid's multi_logloss: 0.320318\n",
      "Early stopping, best iteration is:\n",
      "[53]\ttrain's multi_logloss: 0.0310959\tvalid's multi_logloss: 0.318774\n",
      "Training until validation scores don't improve for 20 rounds\n",
      "[20]\ttrain's multi_logloss: 0.244049\tvalid's multi_logloss: 0.518825\n",
      "[40]\ttrain's multi_logloss: 0.0645144\tvalid's multi_logloss: 0.421085\n"
     ]
    },
    {
     "name": "stderr",
     "output_type": "stream",
     "text": [
      "2022-04-17 11:36:15 - src.train - INFO     [train.py:133] elapsed training time: 0.007 min\n",
      "2022-04-17 11:36:15 - src.train - INFO     [train.py:62] fold=14/33\n",
      "2022-04-17 11:36:15 - src.train - INFO     [train.py:63] reading cv index from data/cv_index/cv-model-test/sulfate/fold_20.csv\n"
     ]
    },
    {
     "name": "stdout",
     "output_type": "stream",
     "text": [
      "[60]\ttrain's multi_logloss: 0.021792\tvalid's multi_logloss: 0.410111\n",
      "Early stopping, best iteration is:\n",
      "[51]\ttrain's multi_logloss: 0.034028\tvalid's multi_logloss: 0.404484\n",
      "Training until validation scores don't improve for 20 rounds\n",
      "[20]\ttrain's multi_logloss: 0.250489\tvalid's multi_logloss: 0.491815\n",
      "[40]\ttrain's multi_logloss: 0.0661688\tvalid's multi_logloss: 0.411756\n"
     ]
    },
    {
     "name": "stderr",
     "output_type": "stream",
     "text": [
      "2022-04-17 11:36:16 - src.train - INFO     [train.py:133] elapsed training time: 0.008 min\n",
      "2022-04-17 11:36:16 - src.train - INFO     [train.py:62] fold=15/33\n",
      "2022-04-17 11:36:16 - src.train - INFO     [train.py:63] reading cv index from data/cv_index/cv-model-test/sulfate/fold_21.csv\n"
     ]
    },
    {
     "name": "stdout",
     "output_type": "stream",
     "text": [
      "[60]\ttrain's multi_logloss: 0.0217797\tvalid's multi_logloss: 0.414521\n",
      "Early stopping, best iteration is:\n",
      "[51]\ttrain's multi_logloss: 0.0345643\tvalid's multi_logloss: 0.399501\n",
      "Training until validation scores don't improve for 20 rounds\n",
      "[20]\ttrain's multi_logloss: 0.248335\tvalid's multi_logloss: 0.454396\n",
      "[40]\ttrain's multi_logloss: 0.0653943\tvalid's multi_logloss: 0.33267\n"
     ]
    },
    {
     "name": "stderr",
     "output_type": "stream",
     "text": [
      "2022-04-17 11:36:17 - src.train - INFO     [train.py:133] elapsed training time: 0.008 min\n",
      "2022-04-17 11:36:17 - src.train - INFO     [train.py:62] fold=16/33\n",
      "2022-04-17 11:36:17 - src.train - INFO     [train.py:63] reading cv index from data/cv_index/cv-model-test/sulfate/fold_22.csv\n"
     ]
    },
    {
     "name": "stdout",
     "output_type": "stream",
     "text": [
      "[60]\ttrain's multi_logloss: 0.0219362\tvalid's multi_logloss: 0.309955\n",
      "[80]\ttrain's multi_logloss: 0.0101788\tvalid's multi_logloss: 0.32351\n",
      "Early stopping, best iteration is:\n",
      "[60]\ttrain's multi_logloss: 0.0219362\tvalid's multi_logloss: 0.309955\n",
      "Training until validation scores don't improve for 20 rounds\n",
      "[20]\ttrain's multi_logloss: 0.249179\tvalid's multi_logloss: 0.443671\n",
      "[40]\ttrain's multi_logloss: 0.0670148\tvalid's multi_logloss: 0.357611\n"
     ]
    },
    {
     "name": "stderr",
     "output_type": "stream",
     "text": [
      "2022-04-17 11:36:17 - src.train - INFO     [train.py:133] elapsed training time: 0.007 min\n",
      "2022-04-17 11:36:17 - src.train - INFO     [train.py:62] fold=17/33\n",
      "2022-04-17 11:36:17 - src.train - INFO     [train.py:63] reading cv index from data/cv_index/cv-model-test/sulfate/fold_23.csv\n"
     ]
    },
    {
     "name": "stdout",
     "output_type": "stream",
     "text": [
      "[60]\ttrain's multi_logloss: 0.0222856\tvalid's multi_logloss: 0.354269\n",
      "Early stopping, best iteration is:\n",
      "[51]\ttrain's multi_logloss: 0.0349907\tvalid's multi_logloss: 0.345799\n",
      "Training until validation scores don't improve for 20 rounds\n",
      "[20]\ttrain's multi_logloss: 0.249515\tvalid's multi_logloss: 0.461371\n"
     ]
    },
    {
     "name": "stderr",
     "output_type": "stream",
     "text": [
      "2022-04-17 11:36:18 - src.train - INFO     [train.py:133] elapsed training time: 0.010 min\n",
      "2022-04-17 11:36:18 - src.train - INFO     [train.py:62] fold=18/33\n",
      "2022-04-17 11:36:18 - src.train - INFO     [train.py:63] reading cv index from data/cv_index/cv-model-test/sulfate/fold_24.csv\n"
     ]
    },
    {
     "name": "stdout",
     "output_type": "stream",
     "text": [
      "[40]\ttrain's multi_logloss: 0.0655335\tvalid's multi_logloss: 0.362201\n",
      "[60]\ttrain's multi_logloss: 0.0217579\tvalid's multi_logloss: 0.365626\n",
      "Early stopping, best iteration is:\n",
      "[41]\ttrain's multi_logloss: 0.0615952\tvalid's multi_logloss: 0.361018\n",
      "Training until validation scores don't improve for 20 rounds\n",
      "[20]\ttrain's multi_logloss: 0.24025\tvalid's multi_logloss: 0.545658\n"
     ]
    },
    {
     "name": "stderr",
     "output_type": "stream",
     "text": [
      "2022-04-17 11:36:19 - src.train - INFO     [train.py:133] elapsed training time: 0.010 min\n",
      "2022-04-17 11:36:19 - src.train - INFO     [train.py:62] fold=19/33\n",
      "2022-04-17 11:36:19 - src.train - INFO     [train.py:63] reading cv index from data/cv_index/cv-model-test/sulfate/fold_25.csv\n"
     ]
    },
    {
     "name": "stdout",
     "output_type": "stream",
     "text": [
      "[40]\ttrain's multi_logloss: 0.0632987\tvalid's multi_logloss: 0.472364\n",
      "[60]\ttrain's multi_logloss: 0.0208156\tvalid's multi_logloss: 0.498256\n",
      "Early stopping, best iteration is:\n",
      "[40]\ttrain's multi_logloss: 0.0632987\tvalid's multi_logloss: 0.472364\n",
      "Training until validation scores don't improve for 20 rounds\n",
      "[20]\ttrain's multi_logloss: 0.247333\tvalid's multi_logloss: 0.408561\n",
      "[40]\ttrain's multi_logloss: 0.0662928\tvalid's multi_logloss: 0.291672\n",
      "[60]\ttrain's multi_logloss: 0.0221818\tvalid's multi_logloss: 0.258585\n",
      "[80]\ttrain's multi_logloss: 0.0105471\tvalid's multi_logloss: 0.241467\n",
      "[100]\ttrain's multi_logloss: 0.00676049\tvalid's multi_logloss: 0.24059\n"
     ]
    },
    {
     "name": "stderr",
     "output_type": "stream",
     "text": [
      "2022-04-17 11:36:19 - src.train - INFO     [train.py:133] elapsed training time: 0.011 min\n",
      "2022-04-17 11:36:19 - src.train - INFO     [train.py:62] fold=20/33\n",
      "2022-04-17 11:36:19 - src.train - INFO     [train.py:63] reading cv index from data/cv_index/cv-model-test/sulfate/fold_26.csv\n"
     ]
    },
    {
     "name": "stdout",
     "output_type": "stream",
     "text": [
      "[120]\ttrain's multi_logloss: 0.00548527\tvalid's multi_logloss: 0.237749\n",
      "Early stopping, best iteration is:\n",
      "[109]\ttrain's multi_logloss: 0.0060341\tvalid's multi_logloss: 0.237232\n",
      "Training until validation scores don't improve for 20 rounds\n",
      "[20]\ttrain's multi_logloss: 0.253279\tvalid's multi_logloss: 0.547557\n",
      "[40]\ttrain's multi_logloss: 0.0662729\tvalid's multi_logloss: 0.388045\n",
      "[60]\ttrain's multi_logloss: 0.0217967\tvalid's multi_logloss: 0.320137\n",
      "[80]\ttrain's multi_logloss: 0.0103637\tvalid's multi_logloss: 0.304671\n",
      "[100]\ttrain's multi_logloss: 0.00673548\tvalid's multi_logloss: 0.298712\n",
      "[120]\ttrain's multi_logloss: 0.00552526\tvalid's multi_logloss: 0.294977\n",
      "[140]\ttrain's multi_logloss: 0.00515808\tvalid's multi_logloss: 0.294862\n",
      "Early stopping, best iteration is:\n",
      "[129]\ttrain's multi_logloss: 0.00531058\tvalid's multi_logloss: 0.294191\n"
     ]
    },
    {
     "name": "stderr",
     "output_type": "stream",
     "text": [
      "2022-04-17 11:36:20 - src.train - INFO     [train.py:133] elapsed training time: 0.010 min\n",
      "2022-04-17 11:36:20 - src.train - INFO     [train.py:62] fold=21/33\n",
      "2022-04-17 11:36:20 - src.train - INFO     [train.py:63] reading cv index from data/cv_index/cv-model-test/sulfate/fold_27.csv\n"
     ]
    },
    {
     "name": "stdout",
     "output_type": "stream",
     "text": [
      "Training until validation scores don't improve for 20 rounds\n",
      "[20]\ttrain's multi_logloss: 0.249756\tvalid's multi_logloss: 0.503782\n",
      "[40]\ttrain's multi_logloss: 0.0671805\tvalid's multi_logloss: 0.340747\n",
      "[60]\ttrain's multi_logloss: 0.0225227\tvalid's multi_logloss: 0.298743\n",
      "[80]\ttrain's multi_logloss: 0.0105238\tvalid's multi_logloss: 0.29878\n",
      "[100]\ttrain's multi_logloss: 0.00673266\tvalid's multi_logloss: 0.289895\n",
      "[120]\ttrain's multi_logloss: 0.00552663\tvalid's multi_logloss: 0.282352\n",
      "[140]\ttrain's multi_logloss: 0.00518567\tvalid's multi_logloss: 0.279726\n",
      "[160]\ttrain's multi_logloss: 0.00510181\tvalid's multi_logloss: 0.278867\n",
      "Early stopping, best iteration is:\n",
      "[154]\ttrain's multi_logloss: 0.00510292\tvalid's multi_logloss: 0.27864\n"
     ]
    },
    {
     "name": "stderr",
     "output_type": "stream",
     "text": [
      "2022-04-17 11:36:21 - src.train - INFO     [train.py:133] elapsed training time: 0.010 min\n",
      "2022-04-17 11:36:21 - src.train - INFO     [train.py:62] fold=22/33\n",
      "2022-04-17 11:36:21 - src.train - INFO     [train.py:63] reading cv index from data/cv_index/cv-model-test/sulfate/fold_28.csv\n"
     ]
    },
    {
     "name": "stdout",
     "output_type": "stream",
     "text": [
      "Training until validation scores don't improve for 20 rounds\n",
      "[20]\ttrain's multi_logloss: 0.248718\tvalid's multi_logloss: 0.481964\n",
      "[40]\ttrain's multi_logloss: 0.0659994\tvalid's multi_logloss: 0.392766\n"
     ]
    },
    {
     "name": "stderr",
     "output_type": "stream",
     "text": [
      "2022-04-17 11:36:22 - src.train - INFO     [train.py:133] elapsed training time: 0.010 min\n",
      "2022-04-17 11:36:22 - src.train - INFO     [train.py:62] fold=23/33\n"
     ]
    },
    {
     "name": "stdout",
     "output_type": "stream",
     "text": [
      "[60]\ttrain's multi_logloss: 0.0215676\tvalid's multi_logloss: 0.379074\n",
      "Early stopping, best iteration is:\n",
      "[55]\ttrain's multi_logloss: 0.0275582\tvalid's multi_logloss: 0.373714\n"
     ]
    },
    {
     "name": "stderr",
     "output_type": "stream",
     "text": [
      "2022-04-17 11:36:22 - src.train - INFO     [train.py:63] reading cv index from data/cv_index/cv-model-test/sulfate/fold_29.csv\n"
     ]
    },
    {
     "name": "stdout",
     "output_type": "stream",
     "text": [
      "Training until validation scores don't improve for 20 rounds\n",
      "[20]\ttrain's multi_logloss: 0.249188\tvalid's multi_logloss: 0.442982\n",
      "[40]\ttrain's multi_logloss: 0.0658646\tvalid's multi_logloss: 0.355106\n",
      "[60]\ttrain's multi_logloss: 0.0217181\tvalid's multi_logloss: 0.341501\n"
     ]
    },
    {
     "name": "stderr",
     "output_type": "stream",
     "text": [
      "2022-04-17 11:36:22 - src.train - INFO     [train.py:133] elapsed training time: 0.013 min\n",
      "2022-04-17 11:36:22 - src.train - INFO     [train.py:62] fold=24/33\n",
      "2022-04-17 11:36:23 - src.train - INFO     [train.py:63] reading cv index from data/cv_index/cv-model-test/sulfate/fold_3.csv\n"
     ]
    },
    {
     "name": "stdout",
     "output_type": "stream",
     "text": [
      "Early stopping, best iteration is:\n",
      "[49]\ttrain's multi_logloss: 0.0382939\tvalid's multi_logloss: 0.340194\n",
      "Training until validation scores don't improve for 20 rounds\n",
      "[20]\ttrain's multi_logloss: 0.249729\tvalid's multi_logloss: 0.522005\n",
      "[40]\ttrain's multi_logloss: 0.0667804\tvalid's multi_logloss: 0.388195\n",
      "[60]\ttrain's multi_logloss: 0.022023\tvalid's multi_logloss: 0.379068\n"
     ]
    },
    {
     "name": "stderr",
     "output_type": "stream",
     "text": [
      "2022-04-17 11:36:23 - src.train - INFO     [train.py:133] elapsed training time: 0.014 min\n",
      "2022-04-17 11:36:23 - src.train - INFO     [train.py:62] fold=25/33\n",
      "2022-04-17 11:36:23 - src.train - INFO     [train.py:63] reading cv index from data/cv_index/cv-model-test/sulfate/fold_30.csv\n"
     ]
    },
    {
     "name": "stdout",
     "output_type": "stream",
     "text": [
      "[80]\ttrain's multi_logloss: 0.0102998\tvalid's multi_logloss: 0.381447\n",
      "Early stopping, best iteration is:\n",
      "[70]\ttrain's multi_logloss: 0.0143468\tvalid's multi_logloss: 0.375967\n",
      "Training until validation scores don't improve for 20 rounds\n",
      "[20]\ttrain's multi_logloss: 0.249449\tvalid's multi_logloss: 0.486683\n",
      "[40]\ttrain's multi_logloss: 0.0672578\tvalid's multi_logloss: 0.32891\n",
      "[60]\ttrain's multi_logloss: 0.0226441\tvalid's multi_logloss: 0.322922\n"
     ]
    },
    {
     "name": "stderr",
     "output_type": "stream",
     "text": [
      "2022-04-17 11:36:25 - src.train - INFO     [train.py:133] elapsed training time: 0.017 min\n",
      "2022-04-17 11:36:25 - src.train - INFO     [train.py:62] fold=26/33\n",
      "2022-04-17 11:36:25 - src.train - INFO     [train.py:63] reading cv index from data/cv_index/cv-model-test/sulfate/fold_31.csv\n"
     ]
    },
    {
     "name": "stdout",
     "output_type": "stream",
     "text": [
      "Early stopping, best iteration is:\n",
      "[57]\ttrain's multi_logloss: 0.0261421\tvalid's multi_logloss: 0.317876\n",
      "Training until validation scores don't improve for 20 rounds\n",
      "[20]\ttrain's multi_logloss: 0.246968\tvalid's multi_logloss: 0.56783\n"
     ]
    },
    {
     "name": "stderr",
     "output_type": "stream",
     "text": [
      "2022-04-17 11:36:25 - src.train - INFO     [train.py:133] elapsed training time: 0.013 min\n",
      "2022-04-17 11:36:26 - src.train - INFO     [train.py:62] fold=27/33\n"
     ]
    },
    {
     "name": "stdout",
     "output_type": "stream",
     "text": [
      "[40]\ttrain's multi_logloss: 0.0643031\tvalid's multi_logloss: 0.445369\n",
      "[60]\ttrain's multi_logloss: 0.0210074\tvalid's multi_logloss: 0.444779\n",
      "Early stopping, best iteration is:\n",
      "[42]\ttrain's multi_logloss: 0.0566237\tvalid's multi_logloss: 0.440881\n"
     ]
    },
    {
     "name": "stderr",
     "output_type": "stream",
     "text": [
      "2022-04-17 11:36:26 - src.train - INFO     [train.py:63] reading cv index from data/cv_index/cv-model-test/sulfate/fold_32.csv\n"
     ]
    },
    {
     "name": "stdout",
     "output_type": "stream",
     "text": [
      "Training until validation scores don't improve for 20 rounds\n",
      "[20]\ttrain's multi_logloss: 0.253158\tvalid's multi_logloss: 0.486863\n",
      "[40]\ttrain's multi_logloss: 0.0672418\tvalid's multi_logloss: 0.345433\n",
      "[60]\ttrain's multi_logloss: 0.0224913\tvalid's multi_logloss: 0.323337\n"
     ]
    },
    {
     "name": "stderr",
     "output_type": "stream",
     "text": [
      "2022-04-17 11:36:27 - src.train - INFO     [train.py:133] elapsed training time: 0.018 min\n",
      "2022-04-17 11:36:27 - src.train - INFO     [train.py:62] fold=28/33\n",
      "2022-04-17 11:36:27 - src.train - INFO     [train.py:63] reading cv index from data/cv_index/cv-model-test/sulfate/fold_4.csv\n"
     ]
    },
    {
     "name": "stdout",
     "output_type": "stream",
     "text": [
      "Early stopping, best iteration is:\n",
      "[58]\ttrain's multi_logloss: 0.0246422\tvalid's multi_logloss: 0.319852\n",
      "Training until validation scores don't improve for 20 rounds\n",
      "[20]\ttrain's multi_logloss: 0.250065\tvalid's multi_logloss: 0.484784\n",
      "[40]\ttrain's multi_logloss: 0.0670135\tvalid's multi_logloss: 0.359558\n",
      "[60]\ttrain's multi_logloss: 0.0219779\tvalid's multi_logloss: 0.338238\n"
     ]
    },
    {
     "name": "stderr",
     "output_type": "stream",
     "text": [
      "2022-04-17 11:36:28 - src.train - INFO     [train.py:133] elapsed training time: 0.015 min\n",
      "2022-04-17 11:36:28 - src.train - INFO     [train.py:62] fold=29/33\n",
      "2022-04-17 11:36:28 - src.train - INFO     [train.py:63] reading cv index from data/cv_index/cv-model-test/sulfate/fold_5.csv\n"
     ]
    },
    {
     "name": "stdout",
     "output_type": "stream",
     "text": [
      "[80]\ttrain's multi_logloss: 0.0103143\tvalid's multi_logloss: 0.340654\n",
      "Early stopping, best iteration is:\n",
      "[62]\ttrain's multi_logloss: 0.0200525\tvalid's multi_logloss: 0.337369\n",
      "Training until validation scores don't improve for 20 rounds\n",
      "[20]\ttrain's multi_logloss: 0.24667\tvalid's multi_logloss: 0.486256\n",
      "[40]\ttrain's multi_logloss: 0.0642954\tvalid's multi_logloss: 0.370304\n",
      "[60]\ttrain's multi_logloss: 0.0211283\tvalid's multi_logloss: 0.356357\n",
      "[80]\ttrain's multi_logloss: 0.0100324\tvalid's multi_logloss: 0.355038\n"
     ]
    },
    {
     "name": "stderr",
     "output_type": "stream",
     "text": [
      "2022-04-17 11:36:29 - src.train - INFO     [train.py:133] elapsed training time: 0.012 min\n",
      "2022-04-17 11:36:29 - src.train - INFO     [train.py:62] fold=30/33\n",
      "2022-04-17 11:36:29 - src.train - INFO     [train.py:63] reading cv index from data/cv_index/cv-model-test/sulfate/fold_6.csv\n"
     ]
    },
    {
     "name": "stdout",
     "output_type": "stream",
     "text": [
      "Early stopping, best iteration is:\n",
      "[79]\ttrain's multi_logloss: 0.0103133\tvalid's multi_logloss: 0.353929\n",
      "Training until validation scores don't improve for 20 rounds\n",
      "[20]\ttrain's multi_logloss: 0.246046\tvalid's multi_logloss: 0.559456\n",
      "[40]\ttrain's multi_logloss: 0.0650318\tvalid's multi_logloss: 0.473118\n"
     ]
    },
    {
     "name": "stderr",
     "output_type": "stream",
     "text": [
      "2022-04-17 11:36:29 - src.train - INFO     [train.py:133] elapsed training time: 0.012 min\n",
      "2022-04-17 11:36:29 - src.train - INFO     [train.py:62] fold=31/33\n",
      "2022-04-17 11:36:29 - src.train - INFO     [train.py:63] reading cv index from data/cv_index/cv-model-test/sulfate/fold_7.csv\n"
     ]
    },
    {
     "name": "stdout",
     "output_type": "stream",
     "text": [
      "[60]\ttrain's multi_logloss: 0.0213776\tvalid's multi_logloss: 0.461286\n",
      "Early stopping, best iteration is:\n",
      "[54]\ttrain's multi_logloss: 0.0290651\tvalid's multi_logloss: 0.455727\n",
      "Training until validation scores don't improve for 20 rounds\n",
      "[20]\ttrain's multi_logloss: 0.250277\tvalid's multi_logloss: 0.473697\n",
      "[40]\ttrain's multi_logloss: 0.0664355\tvalid's multi_logloss: 0.322139\n",
      "[60]\ttrain's multi_logloss: 0.0221832\tvalid's multi_logloss: 0.28715\n"
     ]
    },
    {
     "name": "stderr",
     "output_type": "stream",
     "text": [
      "2022-04-17 11:36:30 - src.train - INFO     [train.py:133] elapsed training time: 0.013 min\n",
      "2022-04-17 11:36:30 - src.train - INFO     [train.py:62] fold=32/33\n",
      "2022-04-17 11:36:30 - src.train - INFO     [train.py:63] reading cv index from data/cv_index/cv-model-test/sulfate/fold_8.csv\n"
     ]
    },
    {
     "name": "stdout",
     "output_type": "stream",
     "text": [
      "[80]\ttrain's multi_logloss: 0.0105137\tvalid's multi_logloss: 0.266416\n",
      "[100]\ttrain's multi_logloss: 0.00690531\tvalid's multi_logloss: 0.265626\n",
      "[120]\ttrain's multi_logloss: 0.00561047\tvalid's multi_logloss: 0.267882\n",
      "Early stopping, best iteration is:\n",
      "[103]\ttrain's multi_logloss: 0.00663909\tvalid's multi_logloss: 0.264536\n",
      "Training until validation scores don't improve for 20 rounds\n",
      "[20]\ttrain's multi_logloss: 0.254868\tvalid's multi_logloss: 0.456113\n",
      "[40]\ttrain's multi_logloss: 0.0678255\tvalid's multi_logloss: 0.350007\n"
     ]
    },
    {
     "name": "stderr",
     "output_type": "stream",
     "text": [
      "2022-04-17 11:36:31 - src.train - INFO     [train.py:133] elapsed training time: 0.010 min\n",
      "2022-04-17 11:36:31 - src.train - INFO     [train.py:62] fold=33/33\n",
      "2022-04-17 11:36:31 - src.train - INFO     [train.py:63] reading cv index from data/cv_index/cv-model-test/sulfate/fold_9.csv\n"
     ]
    },
    {
     "name": "stdout",
     "output_type": "stream",
     "text": [
      "[60]\ttrain's multi_logloss: 0.0223422\tvalid's multi_logloss: 0.344538\n",
      "Early stopping, best iteration is:\n",
      "[59]\ttrain's multi_logloss: 0.0234382\tvalid's multi_logloss: 0.342682\n",
      "Training until validation scores don't improve for 20 rounds\n",
      "[20]\ttrain's multi_logloss: 0.251779\tvalid's multi_logloss: 0.369241\n",
      "[40]\ttrain's multi_logloss: 0.0664489\tvalid's multi_logloss: 0.269407\n",
      "[60]\ttrain's multi_logloss: 0.0220024\tvalid's multi_logloss: 0.250308\n"
     ]
    },
    {
     "name": "stderr",
     "output_type": "stream",
     "text": [
      "2022-04-17 11:36:32 - src.train - INFO     [train.py:133] elapsed training time: 0.014 min\n",
      "2022-04-17 11:36:32 - src.train - INFO     [train.py:62] fold=1/33\n",
      "2022-04-17 11:36:32 - src.train - INFO     [train.py:63] reading cv index from data/cv_index/cv-model-test/sulfate/fold_0.csv\n"
     ]
    },
    {
     "name": "stdout",
     "output_type": "stream",
     "text": [
      "[80]\ttrain's multi_logloss: 0.0102927\tvalid's multi_logloss: 0.241725\n",
      "[100]\ttrain's multi_logloss: 0.00672839\tvalid's multi_logloss: 0.247611\n",
      "Early stopping, best iteration is:\n",
      "[81]\ttrain's multi_logloss: 0.0100055\tvalid's multi_logloss: 0.241081\n",
      "64\n"
     ]
    },
    {
     "name": "stderr",
     "output_type": "stream",
     "text": [
      "2022-04-17 11:36:33 - src.train - INFO     [train.py:28] elapsed training time: 0.006 min\n",
      "2022-04-17 11:36:33 - src.train - INFO     [train.py:62] fold=2/33\n",
      "2022-04-17 11:36:33 - src.train - INFO     [train.py:63] reading cv index from data/cv_index/cv-model-test/sulfate/fold_1.csv\n",
      "2022-04-17 11:36:33 - src.train - INFO     [train.py:28] elapsed training time: 0.007 min\n",
      "2022-04-17 11:36:33 - src.train - INFO     [train.py:62] fold=3/33\n",
      "2022-04-17 11:36:33 - src.train - INFO     [train.py:63] reading cv index from data/cv_index/cv-model-test/sulfate/fold_10.csv\n",
      "2022-04-17 11:36:34 - src.train - INFO     [train.py:28] elapsed training time: 0.007 min\n",
      "2022-04-17 11:36:34 - src.train - INFO     [train.py:62] fold=4/33\n",
      "2022-04-17 11:36:34 - src.train - INFO     [train.py:63] reading cv index from data/cv_index/cv-model-test/sulfate/fold_11.csv\n",
      "2022-04-17 11:36:34 - src.train - INFO     [train.py:28] elapsed training time: 0.007 min\n",
      "2022-04-17 11:36:34 - src.train - INFO     [train.py:62] fold=5/33\n",
      "2022-04-17 11:36:34 - src.train - INFO     [train.py:63] reading cv index from data/cv_index/cv-model-test/sulfate/fold_12.csv\n",
      "2022-04-17 11:36:35 - src.train - INFO     [train.py:28] elapsed training time: 0.010 min\n",
      "2022-04-17 11:36:35 - src.train - INFO     [train.py:62] fold=6/33\n",
      "2022-04-17 11:36:35 - src.train - INFO     [train.py:63] reading cv index from data/cv_index/cv-model-test/sulfate/fold_13.csv\n",
      "2022-04-17 11:36:36 - src.train - INFO     [train.py:28] elapsed training time: 0.019 min\n",
      "2022-04-17 11:36:36 - src.train - INFO     [train.py:62] fold=7/33\n",
      "2022-04-17 11:36:36 - src.train - INFO     [train.py:63] reading cv index from data/cv_index/cv-model-test/sulfate/fold_14.csv\n",
      "2022-04-17 11:36:37 - src.train - INFO     [train.py:28] elapsed training time: 0.010 min\n",
      "2022-04-17 11:36:37 - src.train - INFO     [train.py:62] fold=8/33\n",
      "2022-04-17 11:36:37 - src.train - INFO     [train.py:63] reading cv index from data/cv_index/cv-model-test/sulfate/fold_15.csv\n",
      "2022-04-17 11:36:38 - src.train - INFO     [train.py:28] elapsed training time: 0.009 min\n",
      "2022-04-17 11:36:38 - src.train - INFO     [train.py:62] fold=9/33\n",
      "2022-04-17 11:36:38 - src.train - INFO     [train.py:63] reading cv index from data/cv_index/cv-model-test/sulfate/fold_16.csv\n",
      "2022-04-17 11:36:39 - src.train - INFO     [train.py:28] elapsed training time: 0.018 min\n",
      "2022-04-17 11:36:39 - src.train - INFO     [train.py:62] fold=10/33\n",
      "2022-04-17 11:36:39 - src.train - INFO     [train.py:63] reading cv index from data/cv_index/cv-model-test/sulfate/fold_17.csv\n",
      "2022-04-17 11:36:40 - src.train - INFO     [train.py:28] elapsed training time: 0.019 min\n",
      "2022-04-17 11:36:40 - src.train - INFO     [train.py:62] fold=11/33\n",
      "2022-04-17 11:36:40 - src.train - INFO     [train.py:63] reading cv index from data/cv_index/cv-model-test/sulfate/fold_18.csv\n",
      "2022-04-17 11:36:40 - src.train - INFO     [train.py:28] elapsed training time: 0.007 min\n",
      "2022-04-17 11:36:40 - src.train - INFO     [train.py:62] fold=12/33\n",
      "2022-04-17 11:36:40 - src.train - INFO     [train.py:63] reading cv index from data/cv_index/cv-model-test/sulfate/fold_19.csv\n",
      "2022-04-17 11:36:41 - src.train - INFO     [train.py:28] elapsed training time: 0.007 min\n",
      "2022-04-17 11:36:41 - src.train - INFO     [train.py:62] fold=13/33\n",
      "2022-04-17 11:36:41 - src.train - INFO     [train.py:63] reading cv index from data/cv_index/cv-model-test/sulfate/fold_2.csv\n",
      "2022-04-17 11:36:42 - src.train - INFO     [train.py:28] elapsed training time: 0.013 min\n",
      "2022-04-17 11:36:42 - src.train - INFO     [train.py:62] fold=14/33\n",
      "2022-04-17 11:36:42 - src.train - INFO     [train.py:63] reading cv index from data/cv_index/cv-model-test/sulfate/fold_20.csv\n",
      "2022-04-17 11:36:43 - src.train - INFO     [train.py:28] elapsed training time: 0.016 min\n",
      "2022-04-17 11:36:43 - src.train - INFO     [train.py:62] fold=15/33\n",
      "2022-04-17 11:36:43 - src.train - INFO     [train.py:63] reading cv index from data/cv_index/cv-model-test/sulfate/fold_21.csv\n",
      "2022-04-17 11:36:44 - src.train - INFO     [train.py:28] elapsed training time: 0.016 min\n",
      "2022-04-17 11:36:44 - src.train - INFO     [train.py:62] fold=16/33\n",
      "2022-04-17 11:36:44 - src.train - INFO     [train.py:63] reading cv index from data/cv_index/cv-model-test/sulfate/fold_22.csv\n",
      "2022-04-17 11:36:46 - src.train - INFO     [train.py:28] elapsed training time: 0.023 min\n",
      "2022-04-17 11:36:46 - src.train - INFO     [train.py:62] fold=17/33\n",
      "2022-04-17 11:36:46 - src.train - INFO     [train.py:63] reading cv index from data/cv_index/cv-model-test/sulfate/fold_23.csv\n",
      "2022-04-17 11:36:48 - src.train - INFO     [train.py:28] elapsed training time: 0.044 min\n",
      "2022-04-17 11:36:48 - src.train - INFO     [train.py:62] fold=18/33\n",
      "2022-04-17 11:36:48 - src.train - INFO     [train.py:63] reading cv index from data/cv_index/cv-model-test/sulfate/fold_24.csv\n",
      "2022-04-17 11:36:49 - src.train - INFO     [train.py:28] elapsed training time: 0.007 min\n",
      "2022-04-17 11:36:49 - src.train - INFO     [train.py:62] fold=19/33\n",
      "2022-04-17 11:36:49 - src.train - INFO     [train.py:63] reading cv index from data/cv_index/cv-model-test/sulfate/fold_25.csv\n",
      "2022-04-17 11:36:49 - src.train - INFO     [train.py:28] elapsed training time: 0.008 min\n",
      "2022-04-17 11:36:49 - src.train - INFO     [train.py:62] fold=20/33\n",
      "2022-04-17 11:36:49 - src.train - INFO     [train.py:63] reading cv index from data/cv_index/cv-model-test/sulfate/fold_26.csv\n",
      "2022-04-17 11:36:50 - src.train - INFO     [train.py:28] elapsed training time: 0.006 min\n",
      "2022-04-17 11:36:50 - src.train - INFO     [train.py:62] fold=21/33\n",
      "2022-04-17 11:36:50 - src.train - INFO     [train.py:63] reading cv index from data/cv_index/cv-model-test/sulfate/fold_27.csv\n",
      "2022-04-17 11:36:51 - src.train - INFO     [train.py:28] elapsed training time: 0.009 min\n",
      "2022-04-17 11:36:51 - src.train - INFO     [train.py:62] fold=22/33\n",
      "2022-04-17 11:36:51 - src.train - INFO     [train.py:63] reading cv index from data/cv_index/cv-model-test/sulfate/fold_28.csv\n",
      "2022-04-17 11:36:51 - src.train - INFO     [train.py:28] elapsed training time: 0.006 min\n",
      "2022-04-17 11:36:51 - src.train - INFO     [train.py:62] fold=23/33\n",
      "2022-04-17 11:36:51 - src.train - INFO     [train.py:63] reading cv index from data/cv_index/cv-model-test/sulfate/fold_29.csv\n",
      "2022-04-17 11:36:52 - src.train - INFO     [train.py:28] elapsed training time: 0.007 min\n",
      "2022-04-17 11:36:52 - src.train - INFO     [train.py:62] fold=24/33\n",
      "2022-04-17 11:36:52 - src.train - INFO     [train.py:63] reading cv index from data/cv_index/cv-model-test/sulfate/fold_3.csv\n",
      "2022-04-17 11:36:52 - src.train - INFO     [train.py:28] elapsed training time: 0.011 min\n",
      "2022-04-17 11:36:52 - src.train - INFO     [train.py:62] fold=25/33\n",
      "2022-04-17 11:36:52 - src.train - INFO     [train.py:63] reading cv index from data/cv_index/cv-model-test/sulfate/fold_30.csv\n",
      "2022-04-17 11:36:53 - src.train - INFO     [train.py:28] elapsed training time: 0.007 min\n",
      "2022-04-17 11:36:53 - src.train - INFO     [train.py:62] fold=26/33\n",
      "2022-04-17 11:36:53 - src.train - INFO     [train.py:63] reading cv index from data/cv_index/cv-model-test/sulfate/fold_31.csv\n",
      "2022-04-17 11:36:54 - src.train - INFO     [train.py:28] elapsed training time: 0.011 min\n",
      "2022-04-17 11:36:54 - src.train - INFO     [train.py:62] fold=27/33\n",
      "2022-04-17 11:36:54 - src.train - INFO     [train.py:63] reading cv index from data/cv_index/cv-model-test/sulfate/fold_32.csv\n",
      "2022-04-17 11:36:54 - src.train - INFO     [train.py:28] elapsed training time: 0.012 min\n",
      "2022-04-17 11:36:54 - src.train - INFO     [train.py:62] fold=28/33\n",
      "2022-04-17 11:36:54 - src.train - INFO     [train.py:63] reading cv index from data/cv_index/cv-model-test/sulfate/fold_4.csv\n",
      "2022-04-17 11:36:55 - src.train - INFO     [train.py:28] elapsed training time: 0.007 min\n",
      "2022-04-17 11:36:55 - src.train - INFO     [train.py:62] fold=29/33\n",
      "2022-04-17 11:36:55 - src.train - INFO     [train.py:63] reading cv index from data/cv_index/cv-model-test/sulfate/fold_5.csv\n",
      "2022-04-17 11:36:55 - src.train - INFO     [train.py:28] elapsed training time: 0.006 min\n",
      "2022-04-17 11:36:55 - src.train - INFO     [train.py:62] fold=30/33\n",
      "2022-04-17 11:36:55 - src.train - INFO     [train.py:63] reading cv index from data/cv_index/cv-model-test/sulfate/fold_6.csv\n"
     ]
    },
    {
     "name": "stderr",
     "output_type": "stream",
     "text": [
      "2022-04-17 11:36:56 - src.train - INFO     [train.py:28] elapsed training time: 0.007 min\n",
      "2022-04-17 11:36:56 - src.train - INFO     [train.py:62] fold=31/33\n",
      "2022-04-17 11:36:56 - src.train - INFO     [train.py:63] reading cv index from data/cv_index/cv-model-test/sulfate/fold_7.csv\n",
      "2022-04-17 11:36:57 - src.train - INFO     [train.py:28] elapsed training time: 0.008 min\n",
      "2022-04-17 11:36:57 - src.train - INFO     [train.py:62] fold=32/33\n",
      "2022-04-17 11:36:57 - src.train - INFO     [train.py:63] reading cv index from data/cv_index/cv-model-test/sulfate/fold_8.csv\n",
      "2022-04-17 11:36:57 - src.train - INFO     [train.py:28] elapsed training time: 0.007 min\n",
      "2022-04-17 11:36:57 - src.train - INFO     [train.py:62] fold=33/33\n",
      "2022-04-17 11:36:57 - src.train - INFO     [train.py:63] reading cv index from data/cv_index/cv-model-test/sulfate/fold_9.csv\n",
      "2022-04-17 11:36:58 - src.train - INFO     [train.py:28] elapsed training time: 0.006 min\n",
      "2022-04-17 11:36:58 - src.train - INFO     [train.py:62] fold=1/33\n",
      "2022-04-17 11:36:58 - src.train - INFO     [train.py:63] reading cv index from data/cv_index/cv-model-test/sulfide/fold_0.csv\n"
     ]
    },
    {
     "name": "stdout",
     "output_type": "stream",
     "text": [
      "Training until validation scores don't improve for 20 rounds\n",
      "[20]\ttrain's multi_logloss: 0.195216\tvalid's multi_logloss: 0.36608\n",
      "[40]\ttrain's multi_logloss: 0.0439995\tvalid's multi_logloss: 0.241208\n",
      "[60]\ttrain's multi_logloss: 0.0147106\tvalid's multi_logloss: 0.211639\n"
     ]
    },
    {
     "name": "stderr",
     "output_type": "stream",
     "text": [
      "2022-04-17 11:36:59 - src.train - INFO     [train.py:133] elapsed training time: 0.016 min\n",
      "2022-04-17 11:36:59 - src.train - INFO     [train.py:62] fold=2/33\n",
      "2022-04-17 11:36:59 - src.train - INFO     [train.py:63] reading cv index from data/cv_index/cv-model-test/sulfide/fold_1.csv\n"
     ]
    },
    {
     "name": "stdout",
     "output_type": "stream",
     "text": [
      "[80]\ttrain's multi_logloss: 0.00731547\tvalid's multi_logloss: 0.213089\n",
      "Early stopping, best iteration is:\n",
      "[68]\ttrain's multi_logloss: 0.0106952\tvalid's multi_logloss: 0.207645\n",
      "Training until validation scores don't improve for 20 rounds\n",
      "[20]\ttrain's multi_logloss: 0.185115\tvalid's multi_logloss: 0.336509\n",
      "[40]\ttrain's multi_logloss: 0.0417384\tvalid's multi_logloss: 0.20964\n",
      "[60]\ttrain's multi_logloss: 0.0138013\tvalid's multi_logloss: 0.194748\n"
     ]
    },
    {
     "name": "stderr",
     "output_type": "stream",
     "text": [
      "2022-04-17 11:36:59 - src.train - INFO     [train.py:133] elapsed training time: 0.008 min\n",
      "2022-04-17 11:36:59 - src.train - INFO     [train.py:62] fold=3/33\n",
      "2022-04-17 11:36:59 - src.train - INFO     [train.py:63] reading cv index from data/cv_index/cv-model-test/sulfide/fold_10.csv\n"
     ]
    },
    {
     "name": "stdout",
     "output_type": "stream",
     "text": [
      "[80]\ttrain's multi_logloss: 0.0071615\tvalid's multi_logloss: 0.193166\n",
      "Early stopping, best iteration is:\n",
      "[68]\ttrain's multi_logloss: 0.0101914\tvalid's multi_logloss: 0.191442\n",
      "Training until validation scores don't improve for 20 rounds\n",
      "[20]\ttrain's multi_logloss: 0.185013\tvalid's multi_logloss: 0.428495\n",
      "[40]\ttrain's multi_logloss: 0.042457\tvalid's multi_logloss: 0.337637\n",
      "[60]\ttrain's multi_logloss: 0.0142075\tvalid's multi_logloss: 0.332131\n",
      "Early stopping, best iteration is:\n",
      "[54]\ttrain's multi_logloss: 0.0188281\tvalid's multi_logloss: 0.328047\n"
     ]
    },
    {
     "name": "stderr",
     "output_type": "stream",
     "text": [
      "2022-04-17 11:37:00 - src.train - INFO     [train.py:133] elapsed training time: 0.010 min\n",
      "2022-04-17 11:37:00 - src.train - INFO     [train.py:62] fold=4/33\n",
      "2022-04-17 11:37:00 - src.train - INFO     [train.py:63] reading cv index from data/cv_index/cv-model-test/sulfide/fold_11.csv\n"
     ]
    },
    {
     "name": "stdout",
     "output_type": "stream",
     "text": [
      "Training until validation scores don't improve for 20 rounds\n",
      "[20]\ttrain's multi_logloss: 0.177582\tvalid's multi_logloss: 0.346432\n",
      "[40]\ttrain's multi_logloss: 0.0412351\tvalid's multi_logloss: 0.271165\n",
      "[60]\ttrain's multi_logloss: 0.0137627\tvalid's multi_logloss: 0.266286\n"
     ]
    },
    {
     "name": "stderr",
     "output_type": "stream",
     "text": [
      "2022-04-17 11:37:00 - src.train - INFO     [train.py:133] elapsed training time: 0.006 min\n",
      "2022-04-17 11:37:01 - src.train - INFO     [train.py:62] fold=5/33\n",
      "2022-04-17 11:37:01 - src.train - INFO     [train.py:63] reading cv index from data/cv_index/cv-model-test/sulfide/fold_12.csv\n"
     ]
    },
    {
     "name": "stdout",
     "output_type": "stream",
     "text": [
      "Early stopping, best iteration is:\n",
      "[52]\ttrain's multi_logloss: 0.0202762\tvalid's multi_logloss: 0.261499\n",
      "Training until validation scores don't improve for 20 rounds\n",
      "[20]\ttrain's multi_logloss: 0.190126\tvalid's multi_logloss: 0.317431\n",
      "[40]\ttrain's multi_logloss: 0.0429764\tvalid's multi_logloss: 0.232036\n"
     ]
    },
    {
     "name": "stderr",
     "output_type": "stream",
     "text": [
      "2022-04-17 11:37:01 - src.train - INFO     [train.py:133] elapsed training time: 0.008 min\n",
      "2022-04-17 11:37:01 - src.train - INFO     [train.py:62] fold=6/33\n",
      "2022-04-17 11:37:01 - src.train - INFO     [train.py:63] reading cv index from data/cv_index/cv-model-test/sulfide/fold_13.csv\n"
     ]
    },
    {
     "name": "stdout",
     "output_type": "stream",
     "text": [
      "[60]\ttrain's multi_logloss: 0.0142635\tvalid's multi_logloss: 0.232769\n",
      "Early stopping, best iteration is:\n",
      "[47]\ttrain's multi_logloss: 0.0276223\tvalid's multi_logloss: 0.224074\n",
      "Training until validation scores don't improve for 20 rounds\n",
      "[20]\ttrain's multi_logloss: 0.18405\tvalid's multi_logloss: 0.329749\n",
      "[40]\ttrain's multi_logloss: 0.0417472\tvalid's multi_logloss: 0.235181\n",
      "[60]\ttrain's multi_logloss: 0.0140271\tvalid's multi_logloss: 0.214175\n"
     ]
    },
    {
     "name": "stderr",
     "output_type": "stream",
     "text": [
      "2022-04-17 11:37:02 - src.train - INFO     [train.py:133] elapsed training time: 0.021 min\n"
     ]
    },
    {
     "name": "stdout",
     "output_type": "stream",
     "text": [
      "[80]\ttrain's multi_logloss: 0.0072766\tvalid's multi_logloss: 0.205121\n",
      "[100]\ttrain's multi_logloss: 0.00502505\tvalid's multi_logloss: 0.205136\n",
      "Early stopping, best iteration is:\n",
      "[92]\ttrain's multi_logloss: 0.00567203\tvalid's multi_logloss: 0.202173\n"
     ]
    },
    {
     "name": "stderr",
     "output_type": "stream",
     "text": [
      "2022-04-17 11:37:02 - src.train - INFO     [train.py:62] fold=7/33\n",
      "2022-04-17 11:37:02 - src.train - INFO     [train.py:63] reading cv index from data/cv_index/cv-model-test/sulfide/fold_14.csv\n"
     ]
    },
    {
     "name": "stdout",
     "output_type": "stream",
     "text": [
      "Training until validation scores don't improve for 20 rounds\n",
      "[20]\ttrain's multi_logloss: 0.182999\tvalid's multi_logloss: 0.365447\n",
      "[40]\ttrain's multi_logloss: 0.0421463\tvalid's multi_logloss: 0.242647\n"
     ]
    },
    {
     "name": "stderr",
     "output_type": "stream",
     "text": [
      "2022-04-17 11:37:03 - src.train - INFO     [train.py:133] elapsed training time: 0.009 min\n",
      "2022-04-17 11:37:03 - src.train - INFO     [train.py:62] fold=8/33\n",
      "2022-04-17 11:37:03 - src.train - INFO     [train.py:63] reading cv index from data/cv_index/cv-model-test/sulfide/fold_15.csv\n"
     ]
    },
    {
     "name": "stdout",
     "output_type": "stream",
     "text": [
      "[60]\ttrain's multi_logloss: 0.0140871\tvalid's multi_logloss: 0.22813\n",
      "[80]\ttrain's multi_logloss: 0.00719112\tvalid's multi_logloss: 0.220731\n",
      "Early stopping, best iteration is:\n",
      "[70]\ttrain's multi_logloss: 0.00970154\tvalid's multi_logloss: 0.219733\n",
      "Training until validation scores don't improve for 20 rounds\n",
      "[20]\ttrain's multi_logloss: 0.188654\tvalid's multi_logloss: 0.342546\n",
      "[40]\ttrain's multi_logloss: 0.0432522\tvalid's multi_logloss: 0.272344\n"
     ]
    },
    {
     "name": "stderr",
     "output_type": "stream",
     "text": [
      "2022-04-17 11:37:04 - src.train - INFO     [train.py:133] elapsed training time: 0.007 min\n",
      "2022-04-17 11:37:04 - src.train - INFO     [train.py:62] fold=9/33\n",
      "2022-04-17 11:37:04 - src.train - INFO     [train.py:63] reading cv index from data/cv_index/cv-model-test/sulfide/fold_16.csv\n"
     ]
    },
    {
     "name": "stdout",
     "output_type": "stream",
     "text": [
      "Early stopping, best iteration is:\n",
      "[39]\ttrain's multi_logloss: 0.0464519\tvalid's multi_logloss: 0.271337\n",
      "Training until validation scores don't improve for 20 rounds\n",
      "[20]\ttrain's multi_logloss: 0.190798\tvalid's multi_logloss: 0.252576\n",
      "[40]\ttrain's multi_logloss: 0.0427822\tvalid's multi_logloss: 0.140738\n"
     ]
    },
    {
     "name": "stderr",
     "output_type": "stream",
     "text": [
      "2022-04-17 11:37:04 - src.train - INFO     [train.py:133] elapsed training time: 0.009 min\n",
      "2022-04-17 11:37:04 - src.train - INFO     [train.py:62] fold=10/33\n",
      "2022-04-17 11:37:04 - src.train - INFO     [train.py:63] reading cv index from data/cv_index/cv-model-test/sulfide/fold_17.csv\n"
     ]
    },
    {
     "name": "stdout",
     "output_type": "stream",
     "text": [
      "[60]\ttrain's multi_logloss: 0.0144392\tvalid's multi_logloss: 0.137002\n",
      "Early stopping, best iteration is:\n",
      "[52]\ttrain's multi_logloss: 0.0209545\tvalid's multi_logloss: 0.133229\n",
      "Training until validation scores don't improve for 20 rounds\n",
      "[20]\ttrain's multi_logloss: 0.189048\tvalid's multi_logloss: 0.32594\n",
      "[40]\ttrain's multi_logloss: 0.0419\tvalid's multi_logloss: 0.266148\n"
     ]
    },
    {
     "name": "stderr",
     "output_type": "stream",
     "text": [
      "2022-04-17 11:37:05 - src.train - INFO     [train.py:133] elapsed training time: 0.010 min\n",
      "2022-04-17 11:37:05 - src.train - INFO     [train.py:62] fold=11/33\n",
      "2022-04-17 11:37:05 - src.train - INFO     [train.py:63] reading cv index from data/cv_index/cv-model-test/sulfide/fold_18.csv\n"
     ]
    },
    {
     "name": "stdout",
     "output_type": "stream",
     "text": [
      "[60]\ttrain's multi_logloss: 0.0139782\tvalid's multi_logloss: 0.260991\n",
      "[80]\ttrain's multi_logloss: 0.00716141\tvalid's multi_logloss: 0.27869\n",
      "Early stopping, best iteration is:\n",
      "[60]\ttrain's multi_logloss: 0.0139782\tvalid's multi_logloss: 0.260991\n",
      "Training until validation scores don't improve for 20 rounds\n",
      "[20]\ttrain's multi_logloss: 0.184355\tvalid's multi_logloss: 0.394182\n",
      "[40]\ttrain's multi_logloss: 0.0405805\tvalid's multi_logloss: 0.28024\n"
     ]
    },
    {
     "name": "stderr",
     "output_type": "stream",
     "text": [
      "2022-04-17 11:37:06 - src.train - INFO     [train.py:133] elapsed training time: 0.009 min\n",
      "2022-04-17 11:37:06 - src.train - INFO     [train.py:62] fold=12/33\n",
      "2022-04-17 11:37:06 - src.train - INFO     [train.py:63] reading cv index from data/cv_index/cv-model-test/sulfide/fold_19.csv\n"
     ]
    },
    {
     "name": "stdout",
     "output_type": "stream",
     "text": [
      "[60]\ttrain's multi_logloss: 0.0136889\tvalid's multi_logloss: 0.248452\n",
      "[80]\ttrain's multi_logloss: 0.00710568\tvalid's multi_logloss: 0.241049\n",
      "Early stopping, best iteration is:\n",
      "[75]\ttrain's multi_logloss: 0.00807776\tvalid's multi_logloss: 0.237417\n",
      "Training until validation scores don't improve for 20 rounds\n",
      "[20]\ttrain's multi_logloss: 0.187383\tvalid's multi_logloss: 0.306663\n",
      "[40]\ttrain's multi_logloss: 0.0407268\tvalid's multi_logloss: 0.203876\n",
      "[60]\ttrain's multi_logloss: 0.0136957\tvalid's multi_logloss: 0.1998\n"
     ]
    },
    {
     "name": "stderr",
     "output_type": "stream",
     "text": [
      "2022-04-17 11:37:06 - src.train - INFO     [train.py:133] elapsed training time: 0.011 min\n",
      "2022-04-17 11:37:06 - src.train - INFO     [train.py:62] fold=13/33\n",
      "2022-04-17 11:37:06 - src.train - INFO     [train.py:63] reading cv index from data/cv_index/cv-model-test/sulfide/fold_2.csv\n"
     ]
    },
    {
     "name": "stdout",
     "output_type": "stream",
     "text": [
      "[80]\ttrain's multi_logloss: 0.00700176\tvalid's multi_logloss: 0.20058\n",
      "Early stopping, best iteration is:\n",
      "[71]\ttrain's multi_logloss: 0.00905577\tvalid's multi_logloss: 0.196489\n",
      "Training until validation scores don't improve for 20 rounds\n",
      "[20]\ttrain's multi_logloss: 0.181966\tvalid's multi_logloss: 0.38887\n",
      "[40]\ttrain's multi_logloss: 0.0409219\tvalid's multi_logloss: 0.304839\n"
     ]
    },
    {
     "name": "stderr",
     "output_type": "stream",
     "text": [
      "2022-04-17 11:37:07 - src.train - INFO     [train.py:133] elapsed training time: 0.008 min\n",
      "2022-04-17 11:37:07 - src.train - INFO     [train.py:62] fold=14/33\n",
      "2022-04-17 11:37:07 - src.train - INFO     [train.py:63] reading cv index from data/cv_index/cv-model-test/sulfide/fold_20.csv\n"
     ]
    },
    {
     "name": "stdout",
     "output_type": "stream",
     "text": [
      "[60]\ttrain's multi_logloss: 0.0136594\tvalid's multi_logloss: 0.285177\n",
      "Early stopping, best iteration is:\n",
      "[52]\ttrain's multi_logloss: 0.0200603\tvalid's multi_logloss: 0.281474\n",
      "Training until validation scores don't improve for 20 rounds\n",
      "[20]\ttrain's multi_logloss: 0.188295\tvalid's multi_logloss: 0.351378\n",
      "[40]\ttrain's multi_logloss: 0.0426837\tvalid's multi_logloss: 0.236382\n"
     ]
    },
    {
     "name": "stderr",
     "output_type": "stream",
     "text": [
      "2022-04-17 11:37:08 - src.train - INFO     [train.py:133] elapsed training time: 0.008 min\n",
      "2022-04-17 11:37:08 - src.train - INFO     [train.py:62] fold=15/33\n",
      "2022-04-17 11:37:08 - src.train - INFO     [train.py:63] reading cv index from data/cv_index/cv-model-test/sulfide/fold_21.csv\n"
     ]
    },
    {
     "name": "stdout",
     "output_type": "stream",
     "text": [
      "[60]\ttrain's multi_logloss: 0.0142957\tvalid's multi_logloss: 0.227105\n",
      "Early stopping, best iteration is:\n",
      "[49]\ttrain's multi_logloss: 0.0248206\tvalid's multi_logloss: 0.22179\n",
      "Training until validation scores don't improve for 20 rounds\n",
      "[20]\ttrain's multi_logloss: 0.191341\tvalid's multi_logloss: 0.366009\n",
      "[40]\ttrain's multi_logloss: 0.043248\tvalid's multi_logloss: 0.229836\n"
     ]
    },
    {
     "name": "stderr",
     "output_type": "stream",
     "text": [
      "2022-04-17 11:37:08 - src.train - INFO     [train.py:133] elapsed training time: 0.010 min\n",
      "2022-04-17 11:37:08 - src.train - INFO     [train.py:62] fold=16/33\n",
      "2022-04-17 11:37:08 - src.train - INFO     [train.py:63] reading cv index from data/cv_index/cv-model-test/sulfide/fold_22.csv\n"
     ]
    },
    {
     "name": "stdout",
     "output_type": "stream",
     "text": [
      "[60]\ttrain's multi_logloss: 0.0143896\tvalid's multi_logloss: 0.208432\n",
      "[80]\ttrain's multi_logloss: 0.00744159\tvalid's multi_logloss: 0.204499\n",
      "[100]\ttrain's multi_logloss: 0.0052437\tvalid's multi_logloss: 0.20418\n",
      "Early stopping, best iteration is:\n",
      "[82]\ttrain's multi_logloss: 0.00707744\tvalid's multi_logloss: 0.202714\n",
      "Training until validation scores don't improve for 20 rounds\n",
      "[20]\ttrain's multi_logloss: 0.186586\tvalid's multi_logloss: 0.336963\n",
      "[40]\ttrain's multi_logloss: 0.0422004\tvalid's multi_logloss: 0.2498\n"
     ]
    },
    {
     "name": "stderr",
     "output_type": "stream",
     "text": [
      "2022-04-17 11:37:09 - src.train - INFO     [train.py:133] elapsed training time: 0.008 min\n",
      "2022-04-17 11:37:09 - src.train - INFO     [train.py:62] fold=17/33\n",
      "2022-04-17 11:37:09 - src.train - INFO     [train.py:63] reading cv index from data/cv_index/cv-model-test/sulfide/fold_23.csv\n"
     ]
    },
    {
     "name": "stdout",
     "output_type": "stream",
     "text": [
      "[60]\ttrain's multi_logloss: 0.0140944\tvalid's multi_logloss: 0.256768\n",
      "Early stopping, best iteration is:\n",
      "[44]\ttrain's multi_logloss: 0.0325908\tvalid's multi_logloss: 0.245658\n",
      "Training until validation scores don't improve for 20 rounds\n",
      "[20]\ttrain's multi_logloss: 0.181037\tvalid's multi_logloss: 0.346026\n"
     ]
    },
    {
     "name": "stderr",
     "output_type": "stream",
     "text": [
      "2022-04-17 11:37:09 - src.train - INFO     [train.py:133] elapsed training time: 0.009 min\n",
      "2022-04-17 11:37:09 - src.train - INFO     [train.py:62] fold=18/33\n",
      "2022-04-17 11:37:09 - src.train - INFO     [train.py:63] reading cv index from data/cv_index/cv-model-test/sulfide/fold_24.csv\n"
     ]
    },
    {
     "name": "stdout",
     "output_type": "stream",
     "text": [
      "[40]\ttrain's multi_logloss: 0.0405823\tvalid's multi_logloss: 0.284696\n",
      "[60]\ttrain's multi_logloss: 0.0135949\tvalid's multi_logloss: 0.293897\n",
      "Early stopping, best iteration is:\n",
      "[41]\ttrain's multi_logloss: 0.0380656\tvalid's multi_logloss: 0.283257\n",
      "Training until validation scores don't improve for 20 rounds\n",
      "[20]\ttrain's multi_logloss: 0.186313\tvalid's multi_logloss: 0.341775\n",
      "[40]\ttrain's multi_logloss: 0.0416328\tvalid's multi_logloss: 0.2418\n"
     ]
    },
    {
     "name": "stderr",
     "output_type": "stream",
     "text": [
      "2022-04-17 11:37:10 - src.train - INFO     [train.py:133] elapsed training time: 0.010 min\n",
      "2022-04-17 11:37:10 - src.train - INFO     [train.py:62] fold=19/33\n",
      "2022-04-17 11:37:10 - src.train - INFO     [train.py:63] reading cv index from data/cv_index/cv-model-test/sulfide/fold_25.csv\n"
     ]
    },
    {
     "name": "stdout",
     "output_type": "stream",
     "text": [
      "[60]\ttrain's multi_logloss: 0.0140343\tvalid's multi_logloss: 0.215892\n",
      "[80]\ttrain's multi_logloss: 0.00704558\tvalid's multi_logloss: 0.207602\n",
      "[100]\ttrain's multi_logloss: 0.00503177\tvalid's multi_logloss: 0.203246\n",
      "[120]\ttrain's multi_logloss: 0.00447943\tvalid's multi_logloss: 0.202073\n",
      "Early stopping, best iteration is:\n",
      "[108]\ttrain's multi_logloss: 0.00472425\tvalid's multi_logloss: 0.201775\n",
      "Training until validation scores don't improve for 20 rounds\n",
      "[20]\ttrain's multi_logloss: 0.186061\tvalid's multi_logloss: 0.336074\n",
      "[40]\ttrain's multi_logloss: 0.042014\tvalid's multi_logloss: 0.235295\n"
     ]
    },
    {
     "name": "stderr",
     "output_type": "stream",
     "text": [
      "2022-04-17 11:37:11 - src.train - INFO     [train.py:133] elapsed training time: 0.008 min\n",
      "2022-04-17 11:37:11 - src.train - INFO     [train.py:62] fold=20/33\n",
      "2022-04-17 11:37:11 - src.train - INFO     [train.py:63] reading cv index from data/cv_index/cv-model-test/sulfide/fold_26.csv\n"
     ]
    },
    {
     "name": "stdout",
     "output_type": "stream",
     "text": [
      "[60]\ttrain's multi_logloss: 0.0141909\tvalid's multi_logloss: 0.216854\n",
      "Early stopping, best iteration is:\n",
      "[59]\ttrain's multi_logloss: 0.0147777\tvalid's multi_logloss: 0.215235\n",
      "Training until validation scores don't improve for 20 rounds\n",
      "[20]\ttrain's multi_logloss: 0.191085\tvalid's multi_logloss: 0.347818\n",
      "[40]\ttrain's multi_logloss: 0.0432836\tvalid's multi_logloss: 0.236494\n",
      "[60]\ttrain's multi_logloss: 0.0147564\tvalid's multi_logloss: 0.213431\n",
      "[80]\ttrain's multi_logloss: 0.00740366\tvalid's multi_logloss: 0.208294\n"
     ]
    },
    {
     "name": "stderr",
     "output_type": "stream",
     "text": [
      "2022-04-17 11:37:12 - src.train - INFO     [train.py:133] elapsed training time: 0.012 min\n",
      "2022-04-17 11:37:12 - src.train - INFO     [train.py:62] fold=21/33\n",
      "2022-04-17 11:37:12 - src.train - INFO     [train.py:63] reading cv index from data/cv_index/cv-model-test/sulfide/fold_27.csv\n"
     ]
    },
    {
     "name": "stdout",
     "output_type": "stream",
     "text": [
      "[100]\ttrain's multi_logloss: 0.00526349\tvalid's multi_logloss: 0.210033\n",
      "Early stopping, best iteration is:\n",
      "[93]\ttrain's multi_logloss: 0.00573072\tvalid's multi_logloss: 0.207794\n",
      "Training until validation scores don't improve for 20 rounds\n",
      "[20]\ttrain's multi_logloss: 0.186538\tvalid's multi_logloss: 0.35533\n"
     ]
    },
    {
     "name": "stderr",
     "output_type": "stream",
     "text": [
      "2022-04-17 11:37:12 - src.train - INFO     [train.py:133] elapsed training time: 0.010 min\n",
      "2022-04-17 11:37:12 - src.train - INFO     [train.py:62] fold=22/33\n"
     ]
    },
    {
     "name": "stdout",
     "output_type": "stream",
     "text": [
      "[40]\ttrain's multi_logloss: 0.0422372\tvalid's multi_logloss: 0.240734\n",
      "[60]\ttrain's multi_logloss: 0.0141242\tvalid's multi_logloss: 0.229624\n",
      "[80]\ttrain's multi_logloss: 0.00735684\tvalid's multi_logloss: 0.23585\n",
      "Early stopping, best iteration is:\n",
      "[72]\ttrain's multi_logloss: 0.00917417\tvalid's multi_logloss: 0.229279\n"
     ]
    },
    {
     "name": "stderr",
     "output_type": "stream",
     "text": [
      "2022-04-17 11:37:12 - src.train - INFO     [train.py:63] reading cv index from data/cv_index/cv-model-test/sulfide/fold_28.csv\n"
     ]
    },
    {
     "name": "stdout",
     "output_type": "stream",
     "text": [
      "Training until validation scores don't improve for 20 rounds\n",
      "[20]\ttrain's multi_logloss: 0.190211\tvalid's multi_logloss: 0.33932\n",
      "[40]\ttrain's multi_logloss: 0.0430379\tvalid's multi_logloss: 0.238231\n"
     ]
    },
    {
     "name": "stderr",
     "output_type": "stream",
     "text": [
      "2022-04-17 11:37:13 - src.train - INFO     [train.py:133] elapsed training time: 0.007 min\n",
      "2022-04-17 11:37:13 - src.train - INFO     [train.py:62] fold=23/33\n",
      "2022-04-17 11:37:13 - src.train - INFO     [train.py:63] reading cv index from data/cv_index/cv-model-test/sulfide/fold_29.csv\n"
     ]
    },
    {
     "name": "stdout",
     "output_type": "stream",
     "text": [
      "[60]\ttrain's multi_logloss: 0.0142594\tvalid's multi_logloss: 0.232851\n",
      "Early stopping, best iteration is:\n",
      "[52]\ttrain's multi_logloss: 0.0208982\tvalid's multi_logloss: 0.227084\n",
      "Training until validation scores don't improve for 20 rounds\n",
      "[20]\ttrain's multi_logloss: 0.188749\tvalid's multi_logloss: 0.28387\n",
      "[40]\ttrain's multi_logloss: 0.0424935\tvalid's multi_logloss: 0.196331\n"
     ]
    },
    {
     "name": "stderr",
     "output_type": "stream",
     "text": [
      "2022-04-17 11:37:14 - src.train - INFO     [train.py:133] elapsed training time: 0.015 min\n",
      "2022-04-17 11:37:14 - src.train - INFO     [train.py:62] fold=24/33\n",
      "2022-04-17 11:37:14 - src.train - INFO     [train.py:63] reading cv index from data/cv_index/cv-model-test/sulfide/fold_3.csv\n"
     ]
    },
    {
     "name": "stdout",
     "output_type": "stream",
     "text": [
      "[60]\ttrain's multi_logloss: 0.0141182\tvalid's multi_logloss: 0.184722\n",
      "Early stopping, best iteration is:\n",
      "[53]\ttrain's multi_logloss: 0.0196933\tvalid's multi_logloss: 0.18229\n",
      "Training until validation scores don't improve for 20 rounds\n",
      "[20]\ttrain's multi_logloss: 0.190753\tvalid's multi_logloss: 0.328769\n",
      "[40]\ttrain's multi_logloss: 0.0443145\tvalid's multi_logloss: 0.179976\n",
      "[60]\ttrain's multi_logloss: 0.0148687\tvalid's multi_logloss: 0.15253\n",
      "[80]\ttrain's multi_logloss: 0.00747407\tvalid's multi_logloss: 0.143192\n"
     ]
    },
    {
     "name": "stderr",
     "output_type": "stream",
     "text": [
      "2022-04-17 11:37:15 - src.train - INFO     [train.py:133] elapsed training time: 0.012 min\n",
      "2022-04-17 11:37:15 - src.train - INFO     [train.py:62] fold=25/33\n",
      "2022-04-17 11:37:15 - src.train - INFO     [train.py:63] reading cv index from data/cv_index/cv-model-test/sulfide/fold_30.csv\n"
     ]
    },
    {
     "name": "stdout",
     "output_type": "stream",
     "text": [
      "[100]\ttrain's multi_logloss: 0.00526972\tvalid's multi_logloss: 0.141636\n",
      "[120]\ttrain's multi_logloss: 0.00459269\tvalid's multi_logloss: 0.142951\n",
      "Early stopping, best iteration is:\n",
      "[107]\ttrain's multi_logloss: 0.00493985\tvalid's multi_logloss: 0.141269\n",
      "Training until validation scores don't improve for 20 rounds\n",
      "[20]\ttrain's multi_logloss: 0.192486\tvalid's multi_logloss: 0.316093\n",
      "[40]\ttrain's multi_logloss: 0.0444999\tvalid's multi_logloss: 0.17608\n",
      "[60]\ttrain's multi_logloss: 0.0152859\tvalid's multi_logloss: 0.13457\n"
     ]
    },
    {
     "name": "stderr",
     "output_type": "stream",
     "text": [
      "2022-04-17 11:37:16 - src.train - INFO     [train.py:133] elapsed training time: 0.013 min\n",
      "2022-04-17 11:37:16 - src.train - INFO     [train.py:62] fold=26/33\n",
      "2022-04-17 11:37:16 - src.train - INFO     [train.py:63] reading cv index from data/cv_index/cv-model-test/sulfide/fold_31.csv\n"
     ]
    },
    {
     "name": "stdout",
     "output_type": "stream",
     "text": [
      "[80]\ttrain's multi_logloss: 0.00771377\tvalid's multi_logloss: 0.121927\n",
      "[100]\ttrain's multi_logloss: 0.00533127\tvalid's multi_logloss: 0.113043\n",
      "[120]\ttrain's multi_logloss: 0.00462138\tvalid's multi_logloss: 0.111709\n",
      "[140]\ttrain's multi_logloss: 0.00451127\tvalid's multi_logloss: 0.111346\n",
      "Early stopping, best iteration is:\n",
      "[128]\ttrain's multi_logloss: 0.00452047\tvalid's multi_logloss: 0.111238\n",
      "Training until validation scores don't improve for 20 rounds\n",
      "[20]\ttrain's multi_logloss: 0.194649\tvalid's multi_logloss: 0.323237\n",
      "[40]\ttrain's multi_logloss: 0.0438944\tvalid's multi_logloss: 0.203718\n"
     ]
    },
    {
     "name": "stderr",
     "output_type": "stream",
     "text": [
      "2022-04-17 11:37:16 - src.train - INFO     [train.py:133] elapsed training time: 0.009 min\n",
      "2022-04-17 11:37:16 - src.train - INFO     [train.py:62] fold=27/33\n",
      "2022-04-17 11:37:16 - src.train - INFO     [train.py:63] reading cv index from data/cv_index/cv-model-test/sulfide/fold_32.csv\n"
     ]
    },
    {
     "name": "stdout",
     "output_type": "stream",
     "text": [
      "[60]\ttrain's multi_logloss: 0.0146369\tvalid's multi_logloss: 0.180018\n",
      "[80]\ttrain's multi_logloss: 0.00742823\tvalid's multi_logloss: 0.176944\n",
      "Early stopping, best iteration is:\n",
      "[68]\ttrain's multi_logloss: 0.0106216\tvalid's multi_logloss: 0.174501\n",
      "Training until validation scores don't improve for 20 rounds\n",
      "[20]\ttrain's multi_logloss: 0.193781\tvalid's multi_logloss: 0.355314\n",
      "[40]\ttrain's multi_logloss: 0.0444708\tvalid's multi_logloss: 0.244456\n",
      "[60]\ttrain's multi_logloss: 0.0149795\tvalid's multi_logloss: 0.22801\n"
     ]
    },
    {
     "name": "stderr",
     "output_type": "stream",
     "text": [
      "2022-04-17 11:37:17 - src.train - INFO     [train.py:133] elapsed training time: 0.012 min\n",
      "2022-04-17 11:37:17 - src.train - INFO     [train.py:62] fold=28/33\n",
      "2022-04-17 11:37:17 - src.train - INFO     [train.py:63] reading cv index from data/cv_index/cv-model-test/sulfide/fold_4.csv\n"
     ]
    },
    {
     "name": "stdout",
     "output_type": "stream",
     "text": [
      "[80]\ttrain's multi_logloss: 0.007668\tvalid's multi_logloss: 0.218168\n",
      "Early stopping, best iteration is:\n",
      "[76]\ttrain's multi_logloss: 0.00850231\tvalid's multi_logloss: 0.217426\n",
      "Training until validation scores don't improve for 20 rounds\n",
      "[20]\ttrain's multi_logloss: 0.19369\tvalid's multi_logloss: 0.284337\n",
      "[40]\ttrain's multi_logloss: 0.0441101\tvalid's multi_logloss: 0.161055\n"
     ]
    },
    {
     "name": "stderr",
     "output_type": "stream",
     "text": [
      "2022-04-17 11:37:18 - src.train - INFO     [train.py:133] elapsed training time: 0.011 min\n",
      "2022-04-17 11:37:18 - src.train - INFO     [train.py:62] fold=29/33\n",
      "2022-04-17 11:37:18 - src.train - INFO     [train.py:63] reading cv index from data/cv_index/cv-model-test/sulfide/fold_5.csv\n"
     ]
    },
    {
     "name": "stdout",
     "output_type": "stream",
     "text": [
      "[60]\ttrain's multi_logloss: 0.0147003\tvalid's multi_logloss: 0.14964\n",
      "[80]\ttrain's multi_logloss: 0.00762826\tvalid's multi_logloss: 0.144691\n",
      "[100]\ttrain's multi_logloss: 0.00531767\tvalid's multi_logloss: 0.142252\n",
      "[120]\ttrain's multi_logloss: 0.0046307\tvalid's multi_logloss: 0.143783\n",
      "Early stopping, best iteration is:\n",
      "[107]\ttrain's multi_logloss: 0.00494893\tvalid's multi_logloss: 0.141608\n",
      "Training until validation scores don't improve for 20 rounds\n",
      "[20]\ttrain's multi_logloss: 0.188812\tvalid's multi_logloss: 0.39279\n",
      "[40]\ttrain's multi_logloss: 0.0416088\tvalid's multi_logloss: 0.311017\n",
      "[60]\ttrain's multi_logloss: 0.0139344\tvalid's multi_logloss: 0.312602\n",
      "[80]\ttrain's multi_logloss: 0.00707803\tvalid's multi_logloss: 0.314939\n"
     ]
    },
    {
     "name": "stderr",
     "output_type": "stream",
     "text": [
      "2022-04-17 11:37:19 - src.train - INFO     [train.py:133] elapsed training time: 0.017 min\n",
      "2022-04-17 11:37:19 - src.train - INFO     [train.py:62] fold=30/33\n",
      "2022-04-17 11:37:19 - src.train - INFO     [train.py:63] reading cv index from data/cv_index/cv-model-test/sulfide/fold_6.csv\n"
     ]
    },
    {
     "name": "stdout",
     "output_type": "stream",
     "text": [
      "Early stopping, best iteration is:\n",
      "[66]\ttrain's multi_logloss: 0.0107816\tvalid's multi_logloss: 0.306672\n",
      "Training until validation scores don't improve for 20 rounds\n",
      "[20]\ttrain's multi_logloss: 0.187573\tvalid's multi_logloss: 0.360123\n"
     ]
    },
    {
     "name": "stderr",
     "output_type": "stream",
     "text": [
      "2022-04-17 11:37:20 - src.train - INFO     [train.py:133] elapsed training time: 0.009 min\n",
      "2022-04-17 11:37:20 - src.train - INFO     [train.py:62] fold=31/33\n",
      "2022-04-17 11:37:20 - src.train - INFO     [train.py:63] reading cv index from data/cv_index/cv-model-test/sulfide/fold_7.csv\n"
     ]
    },
    {
     "name": "stdout",
     "output_type": "stream",
     "text": [
      "[40]\ttrain's multi_logloss: 0.041399\tvalid's multi_logloss: 0.294859\n",
      "[60]\ttrain's multi_logloss: 0.0136987\tvalid's multi_logloss: 0.300164\n",
      "Early stopping, best iteration is:\n",
      "[45]\ttrain's multi_logloss: 0.0299741\tvalid's multi_logloss: 0.290099\n",
      "Training until validation scores don't improve for 20 rounds\n",
      "[20]\ttrain's multi_logloss: 0.187507\tvalid's multi_logloss: 0.318059\n",
      "[40]\ttrain's multi_logloss: 0.0422562\tvalid's multi_logloss: 0.201209\n",
      "[60]\ttrain's multi_logloss: 0.0139626\tvalid's multi_logloss: 0.188242\n",
      "[80]\ttrain's multi_logloss: 0.00726224\tvalid's multi_logloss: 0.189358\n",
      "Early stopping, best iteration is:\n",
      "[70]\ttrain's multi_logloss: 0.0097267\tvalid's multi_logloss: 0.186542\n"
     ]
    },
    {
     "name": "stderr",
     "output_type": "stream",
     "text": [
      "2022-04-17 11:37:21 - src.train - INFO     [train.py:133] elapsed training time: 0.016 min\n",
      "2022-04-17 11:37:21 - src.train - INFO     [train.py:62] fold=32/33\n",
      "2022-04-17 11:37:21 - src.train - INFO     [train.py:63] reading cv index from data/cv_index/cv-model-test/sulfide/fold_8.csv\n"
     ]
    },
    {
     "name": "stdout",
     "output_type": "stream",
     "text": [
      "Training until validation scores don't improve for 20 rounds\n",
      "[20]\ttrain's multi_logloss: 0.189827\tvalid's multi_logloss: 0.260734\n",
      "[40]\ttrain's multi_logloss: 0.0435695\tvalid's multi_logloss: 0.156068\n"
     ]
    },
    {
     "name": "stderr",
     "output_type": "stream",
     "text": [
      "2022-04-17 11:37:21 - src.train - INFO     [train.py:133] elapsed training time: 0.006 min\n",
      "2022-04-17 11:37:21 - src.train - INFO     [train.py:62] fold=33/33\n",
      "2022-04-17 11:37:21 - src.train - INFO     [train.py:63] reading cv index from data/cv_index/cv-model-test/sulfide/fold_9.csv\n"
     ]
    },
    {
     "name": "stdout",
     "output_type": "stream",
     "text": [
      "[60]\ttrain's multi_logloss: 0.0147163\tvalid's multi_logloss: 0.15254\n",
      "Early stopping, best iteration is:\n",
      "[51]\ttrain's multi_logloss: 0.022601\tvalid's multi_logloss: 0.149214\n",
      "Training until validation scores don't improve for 20 rounds\n",
      "[20]\ttrain's multi_logloss: 0.188115\tvalid's multi_logloss: 0.309206\n",
      "[40]\ttrain's multi_logloss: 0.0405377\tvalid's multi_logloss: 0.251112\n",
      "Early stopping, best iteration is:\n",
      "[35]\ttrain's multi_logloss: 0.0580315\tvalid's multi_logloss: 0.249109"
     ]
    },
    {
     "name": "stderr",
     "output_type": "stream",
     "text": [
      "2022-04-17 11:37:22 - src.train - INFO     [train.py:133] elapsed training time: 0.006 min\n",
      "2022-04-17 11:37:22 - src.train - INFO     [train.py:62] fold=1/33\n",
      "2022-04-17 11:37:22 - src.train - INFO     [train.py:63] reading cv index from data/cv_index/cv-model-test/sulfide/fold_0.csv\n"
     ]
    },
    {
     "name": "stdout",
     "output_type": "stream",
     "text": [
      "\n",
      "66\n"
     ]
    },
    {
     "name": "stderr",
     "output_type": "stream",
     "text": [
      "2022-04-17 11:37:23 - src.train - INFO     [train.py:28] elapsed training time: 0.011 min\n",
      "2022-04-17 11:37:23 - src.train - INFO     [train.py:62] fold=2/33\n",
      "2022-04-17 11:37:23 - src.train - INFO     [train.py:63] reading cv index from data/cv_index/cv-model-test/sulfide/fold_1.csv\n",
      "2022-04-17 11:37:23 - src.train - INFO     [train.py:28] elapsed training time: 0.005 min\n",
      "2022-04-17 11:37:23 - src.train - INFO     [train.py:62] fold=3/33\n",
      "2022-04-17 11:37:23 - src.train - INFO     [train.py:63] reading cv index from data/cv_index/cv-model-test/sulfide/fold_10.csv\n",
      "2022-04-17 11:37:24 - src.train - INFO     [train.py:28] elapsed training time: 0.012 min\n",
      "2022-04-17 11:37:24 - src.train - INFO     [train.py:62] fold=4/33\n",
      "2022-04-17 11:37:24 - src.train - INFO     [train.py:63] reading cv index from data/cv_index/cv-model-test/sulfide/fold_11.csv\n",
      "2022-04-17 11:37:24 - src.train - INFO     [train.py:28] elapsed training time: 0.007 min\n",
      "2022-04-17 11:37:24 - src.train - INFO     [train.py:62] fold=5/33\n",
      "2022-04-17 11:37:24 - src.train - INFO     [train.py:63] reading cv index from data/cv_index/cv-model-test/sulfide/fold_12.csv\n",
      "2022-04-17 11:37:25 - src.train - INFO     [train.py:28] elapsed training time: 0.007 min\n",
      "2022-04-17 11:37:25 - src.train - INFO     [train.py:62] fold=6/33\n",
      "2022-04-17 11:37:25 - src.train - INFO     [train.py:63] reading cv index from data/cv_index/cv-model-test/sulfide/fold_13.csv\n",
      "2022-04-17 11:37:25 - src.train - INFO     [train.py:28] elapsed training time: 0.007 min\n",
      "2022-04-17 11:37:25 - src.train - INFO     [train.py:62] fold=7/33\n",
      "2022-04-17 11:37:25 - src.train - INFO     [train.py:63] reading cv index from data/cv_index/cv-model-test/sulfide/fold_14.csv\n",
      "2022-04-17 11:37:26 - src.train - INFO     [train.py:28] elapsed training time: 0.007 min\n",
      "2022-04-17 11:37:26 - src.train - INFO     [train.py:62] fold=8/33\n",
      "2022-04-17 11:37:26 - src.train - INFO     [train.py:63] reading cv index from data/cv_index/cv-model-test/sulfide/fold_15.csv\n",
      "2022-04-17 11:37:26 - src.train - INFO     [train.py:28] elapsed training time: 0.006 min\n",
      "2022-04-17 11:37:26 - src.train - INFO     [train.py:62] fold=9/33\n",
      "2022-04-17 11:37:26 - src.train - INFO     [train.py:63] reading cv index from data/cv_index/cv-model-test/sulfide/fold_16.csv\n",
      "2022-04-17 11:37:27 - src.train - INFO     [train.py:28] elapsed training time: 0.005 min\n",
      "2022-04-17 11:37:27 - src.train - INFO     [train.py:62] fold=10/33\n",
      "2022-04-17 11:37:27 - src.train - INFO     [train.py:63] reading cv index from data/cv_index/cv-model-test/sulfide/fold_17.csv\n",
      "2022-04-17 11:37:27 - src.train - INFO     [train.py:28] elapsed training time: 0.005 min\n",
      "2022-04-17 11:37:27 - src.train - INFO     [train.py:62] fold=11/33\n",
      "2022-04-17 11:37:27 - src.train - INFO     [train.py:63] reading cv index from data/cv_index/cv-model-test/sulfide/fold_18.csv\n",
      "2022-04-17 11:37:28 - src.train - INFO     [train.py:28] elapsed training time: 0.005 min\n",
      "2022-04-17 11:37:28 - src.train - INFO     [train.py:62] fold=12/33\n",
      "2022-04-17 11:37:28 - src.train - INFO     [train.py:63] reading cv index from data/cv_index/cv-model-test/sulfide/fold_19.csv\n",
      "2022-04-17 11:37:28 - src.train - INFO     [train.py:28] elapsed training time: 0.005 min\n",
      "2022-04-17 11:37:28 - src.train - INFO     [train.py:62] fold=13/33\n",
      "2022-04-17 11:37:28 - src.train - INFO     [train.py:63] reading cv index from data/cv_index/cv-model-test/sulfide/fold_2.csv\n",
      "2022-04-17 11:37:29 - src.train - INFO     [train.py:28] elapsed training time: 0.006 min\n",
      "2022-04-17 11:37:29 - src.train - INFO     [train.py:62] fold=14/33\n",
      "2022-04-17 11:37:29 - src.train - INFO     [train.py:63] reading cv index from data/cv_index/cv-model-test/sulfide/fold_20.csv\n",
      "2022-04-17 11:37:29 - src.train - INFO     [train.py:28] elapsed training time: 0.011 min\n",
      "2022-04-17 11:37:29 - src.train - INFO     [train.py:62] fold=15/33\n",
      "2022-04-17 11:37:29 - src.train - INFO     [train.py:63] reading cv index from data/cv_index/cv-model-test/sulfide/fold_21.csv\n",
      "2022-04-17 11:37:30 - src.train - INFO     [train.py:28] elapsed training time: 0.009 min\n",
      "2022-04-17 11:37:30 - src.train - INFO     [train.py:62] fold=16/33\n",
      "2022-04-17 11:37:30 - src.train - INFO     [train.py:63] reading cv index from data/cv_index/cv-model-test/sulfide/fold_22.csv\n",
      "2022-04-17 11:37:31 - src.train - INFO     [train.py:28] elapsed training time: 0.004 min\n",
      "2022-04-17 11:37:31 - src.train - INFO     [train.py:62] fold=17/33\n",
      "2022-04-17 11:37:31 - src.train - INFO     [train.py:63] reading cv index from data/cv_index/cv-model-test/sulfide/fold_23.csv\n",
      "2022-04-17 11:37:31 - src.train - INFO     [train.py:28] elapsed training time: 0.004 min\n",
      "2022-04-17 11:37:31 - src.train - INFO     [train.py:62] fold=18/33\n",
      "2022-04-17 11:37:31 - src.train - INFO     [train.py:63] reading cv index from data/cv_index/cv-model-test/sulfide/fold_24.csv\n",
      "2022-04-17 11:37:31 - src.train - INFO     [train.py:28] elapsed training time: 0.005 min\n",
      "2022-04-17 11:37:31 - src.train - INFO     [train.py:62] fold=19/33\n",
      "2022-04-17 11:37:31 - src.train - INFO     [train.py:63] reading cv index from data/cv_index/cv-model-test/sulfide/fold_25.csv\n",
      "2022-04-17 11:37:32 - src.train - INFO     [train.py:28] elapsed training time: 0.012 min\n",
      "2022-04-17 11:37:32 - src.train - INFO     [train.py:62] fold=20/33\n",
      "2022-04-17 11:37:32 - src.train - INFO     [train.py:63] reading cv index from data/cv_index/cv-model-test/sulfide/fold_26.csv\n",
      "2022-04-17 11:37:33 - src.train - INFO     [train.py:28] elapsed training time: 0.009 min\n",
      "2022-04-17 11:37:33 - src.train - INFO     [train.py:62] fold=21/33\n",
      "2022-04-17 11:37:33 - src.train - INFO     [train.py:63] reading cv index from data/cv_index/cv-model-test/sulfide/fold_27.csv\n",
      "2022-04-17 11:37:33 - src.train - INFO     [train.py:28] elapsed training time: 0.004 min\n",
      "2022-04-17 11:37:33 - src.train - INFO     [train.py:62] fold=22/33\n",
      "2022-04-17 11:37:33 - src.train - INFO     [train.py:63] reading cv index from data/cv_index/cv-model-test/sulfide/fold_28.csv\n",
      "2022-04-17 11:37:34 - src.train - INFO     [train.py:28] elapsed training time: 0.006 min\n",
      "2022-04-17 11:37:34 - src.train - INFO     [train.py:62] fold=23/33\n",
      "2022-04-17 11:37:34 - src.train - INFO     [train.py:63] reading cv index from data/cv_index/cv-model-test/sulfide/fold_29.csv\n",
      "2022-04-17 11:37:34 - src.train - INFO     [train.py:28] elapsed training time: 0.007 min\n",
      "2022-04-17 11:37:34 - src.train - INFO     [train.py:62] fold=24/33\n",
      "2022-04-17 11:37:34 - src.train - INFO     [train.py:63] reading cv index from data/cv_index/cv-model-test/sulfide/fold_3.csv\n",
      "2022-04-17 11:37:35 - src.train - INFO     [train.py:28] elapsed training time: 0.006 min\n",
      "2022-04-17 11:37:35 - src.train - INFO     [train.py:62] fold=25/33\n",
      "2022-04-17 11:37:35 - src.train - INFO     [train.py:63] reading cv index from data/cv_index/cv-model-test/sulfide/fold_30.csv\n",
      "2022-04-17 11:37:35 - src.train - INFO     [train.py:28] elapsed training time: 0.005 min\n",
      "2022-04-17 11:37:35 - src.train - INFO     [train.py:62] fold=26/33\n",
      "2022-04-17 11:37:35 - src.train - INFO     [train.py:63] reading cv index from data/cv_index/cv-model-test/sulfide/fold_31.csv\n",
      "2022-04-17 11:37:36 - src.train - INFO     [train.py:28] elapsed training time: 0.007 min\n",
      "2022-04-17 11:37:36 - src.train - INFO     [train.py:62] fold=27/33\n",
      "2022-04-17 11:37:36 - src.train - INFO     [train.py:63] reading cv index from data/cv_index/cv-model-test/sulfide/fold_32.csv\n",
      "2022-04-17 11:37:36 - src.train - INFO     [train.py:28] elapsed training time: 0.005 min\n",
      "2022-04-17 11:37:36 - src.train - INFO     [train.py:62] fold=28/33\n",
      "2022-04-17 11:37:36 - src.train - INFO     [train.py:63] reading cv index from data/cv_index/cv-model-test/sulfide/fold_4.csv\n",
      "2022-04-17 11:37:37 - src.train - INFO     [train.py:28] elapsed training time: 0.006 min\n",
      "2022-04-17 11:37:37 - src.train - INFO     [train.py:62] fold=29/33\n",
      "2022-04-17 11:37:37 - src.train - INFO     [train.py:63] reading cv index from data/cv_index/cv-model-test/sulfide/fold_5.csv\n",
      "2022-04-17 11:37:37 - src.train - INFO     [train.py:28] elapsed training time: 0.005 min\n",
      "2022-04-17 11:37:37 - src.train - INFO     [train.py:62] fold=30/33\n",
      "2022-04-17 11:37:37 - src.train - INFO     [train.py:63] reading cv index from data/cv_index/cv-model-test/sulfide/fold_6.csv\n"
     ]
    },
    {
     "name": "stderr",
     "output_type": "stream",
     "text": [
      "2022-04-17 11:37:37 - src.train - INFO     [train.py:28] elapsed training time: 0.005 min\n",
      "2022-04-17 11:37:37 - src.train - INFO     [train.py:62] fold=31/33\n",
      "2022-04-17 11:37:37 - src.train - INFO     [train.py:63] reading cv index from data/cv_index/cv-model-test/sulfide/fold_7.csv\n",
      "2022-04-17 11:37:38 - src.train - INFO     [train.py:28] elapsed training time: 0.014 min\n",
      "2022-04-17 11:37:38 - src.train - INFO     [train.py:62] fold=32/33\n",
      "2022-04-17 11:37:38 - src.train - INFO     [train.py:63] reading cv index from data/cv_index/cv-model-test/sulfide/fold_8.csv\n",
      "2022-04-17 11:37:39 - src.train - INFO     [train.py:28] elapsed training time: 0.005 min\n",
      "2022-04-17 11:37:39 - src.train - INFO     [train.py:62] fold=33/33\n",
      "2022-04-17 11:37:39 - src.train - INFO     [train.py:63] reading cv index from data/cv_index/cv-model-test/sulfide/fold_9.csv\n",
      "2022-04-17 11:37:40 - src.train - INFO     [train.py:28] elapsed training time: 0.012 min\n"
     ]
    }
   ],
   "source": [
    "models = train_one_vs_the_rest(data, model_config, feature_names)"
   ]
  },
  {
   "cell_type": "code",
   "execution_count": 23,
   "id": "f07e8b54",
   "metadata": {
    "ExecuteTime": {
     "end_time": "2022-04-17T15:37:40.287028Z",
     "start_time": "2022-04-17T15:37:40.230170Z"
    }
   },
   "outputs": [],
   "source": [
    "def predict_multiclass_fn(model, test_data):\n",
    "    probs = model.predict_proba(test_data)\n",
    "    return probs[:, 2:].sum(axis=1)"
   ]
  },
  {
   "cell_type": "code",
   "execution_count": 24,
   "id": "43d1a33c",
   "metadata": {
    "ExecuteTime": {
     "end_time": "2022-04-17T15:38:15.776180Z",
     "start_time": "2022-04-17T15:37:40.302805Z"
    }
   },
   "outputs": [],
   "source": [
    "scores = {}\n",
    "\n",
    "for target_name in cfg.TARGETS:\n",
    "    cv_paths = get_cv_paths(cv_dir, target_name)\n",
    "    model = models[target_name]\n",
    "    scores[target_name] = inference.cross_validation_inference(data, target_name, model, cv_paths, predict_multiclass_fn)\n",
    "scores = pd.DataFrame(scores)"
   ]
  },
  {
   "cell_type": "code",
   "execution_count": 25,
   "id": "f13f897b",
   "metadata": {
    "ExecuteTime": {
     "end_time": "2022-04-17T15:38:15.817466Z",
     "start_time": "2022-04-17T15:38:15.783781Z"
    }
   },
   "outputs": [],
   "source": [
    "cv_scores = scores.mean()"
   ]
  },
  {
   "cell_type": "code",
   "execution_count": 26,
   "id": "5dc7165b",
   "metadata": {
    "ExecuteTime": {
     "end_time": "2022-04-17T15:38:15.878678Z",
     "start_time": "2022-04-17T15:38:15.824170Z"
    }
   },
   "outputs": [
    {
     "data": {
      "text/plain": [
       "basalt            0.116867\n",
       "carbonate         0.074002\n",
       "chloride          0.140945\n",
       "iron_oxide        0.175919\n",
       "oxalate           0.017930\n",
       "oxychlorine       0.129319\n",
       "phyllosilicate    0.208640\n",
       "silicate          0.169070\n",
       "sulfate           0.161131\n",
       "sulfide           0.047640\n",
       "dtype: float64"
      ]
     },
     "execution_count": 26,
     "metadata": {},
     "output_type": "execute_result"
    }
   ],
   "source": [
    "cv_scores"
   ]
  },
  {
   "cell_type": "code",
   "execution_count": 27,
   "id": "07e085fc",
   "metadata": {
    "ExecuteTime": {
     "end_time": "2022-04-17T15:38:15.954755Z",
     "start_time": "2022-04-17T15:38:15.893756Z"
    }
   },
   "outputs": [],
   "source": [
    "test_dir = Path(dirs['test'])"
   ]
  },
  {
   "cell_type": "code",
   "execution_count": 28,
   "id": "2e04a13a",
   "metadata": {
    "ExecuteTime": {
     "end_time": "2022-04-17T15:38:16.134150Z",
     "start_time": "2022-04-17T15:38:15.968841Z"
    }
   },
   "outputs": [],
   "source": [
    "pd_test_agg_features = pd.read_csv(test_dir / 'mz_agg_features.csv', index_col='sample_id')\n",
    "\n",
    "pd_test_cluster_features = pd.read_csv(test_dir / 'ae_clusters.csv', index_col='sample_id')\n",
    "\n",
    "test_sample_features = pd.read_csv(test_dir / 'sample_features.csv', index_col='sample_id')\n",
    "pd_test_features = pd.concat((test_sample_features, pd_test_agg_features, pd_test_cluster_features), axis=1)"
   ]
  },
  {
   "cell_type": "code",
   "execution_count": 29,
   "id": "5136b581",
   "metadata": {
    "ExecuteTime": {
     "end_time": "2022-04-17T15:38:16.181390Z",
     "start_time": "2022-04-17T15:38:16.136095Z"
    }
   },
   "outputs": [
    {
     "data": {
      "text/html": [
       "<div>\n",
       "<style scoped>\n",
       "    .dataframe tbody tr th:only-of-type {\n",
       "        vertical-align: middle;\n",
       "    }\n",
       "\n",
       "    .dataframe tbody tr th {\n",
       "        vertical-align: top;\n",
       "    }\n",
       "\n",
       "    .dataframe thead th {\n",
       "        text-align: right;\n",
       "    }\n",
       "</style>\n",
       "<table border=\"1\" class=\"dataframe\">\n",
       "  <thead>\n",
       "    <tr style=\"text-align: right;\">\n",
       "      <th></th>\n",
       "      <th>sample_mol_ion_less99</th>\n",
       "      <th>sample_weighted_mass</th>\n",
       "      <th>sample_max_temp</th>\n",
       "      <th>sample_min_temp</th>\n",
       "      <th>sample_temp_range</th>\n",
       "      <th>sum_mz0</th>\n",
       "      <th>sum_mz1</th>\n",
       "      <th>sum_mz2</th>\n",
       "      <th>sum_mz3</th>\n",
       "      <th>sum_mz5</th>\n",
       "      <th>...</th>\n",
       "      <th>cluster_mz90</th>\n",
       "      <th>cluster_mz91</th>\n",
       "      <th>cluster_mz92</th>\n",
       "      <th>cluster_mz93</th>\n",
       "      <th>cluster_mz94</th>\n",
       "      <th>cluster_mz95</th>\n",
       "      <th>cluster_mz96</th>\n",
       "      <th>cluster_mz97</th>\n",
       "      <th>cluster_mz98</th>\n",
       "      <th>cluster_mz99</th>\n",
       "    </tr>\n",
       "    <tr>\n",
       "      <th>sample_id</th>\n",
       "      <th></th>\n",
       "      <th></th>\n",
       "      <th></th>\n",
       "      <th></th>\n",
       "      <th></th>\n",
       "      <th></th>\n",
       "      <th></th>\n",
       "      <th></th>\n",
       "      <th></th>\n",
       "      <th></th>\n",
       "      <th></th>\n",
       "      <th></th>\n",
       "      <th></th>\n",
       "      <th></th>\n",
       "      <th></th>\n",
       "      <th></th>\n",
       "      <th></th>\n",
       "      <th></th>\n",
       "      <th></th>\n",
       "      <th></th>\n",
       "      <th></th>\n",
       "    </tr>\n",
       "  </thead>\n",
       "  <tbody>\n",
       "    <tr>\n",
       "      <th>S0766</th>\n",
       "      <td>0</td>\n",
       "      <td>0.005432</td>\n",
       "      <td>0.501948</td>\n",
       "      <td>0.340250</td>\n",
       "      <td>0.505124</td>\n",
       "      <td>0.926832</td>\n",
       "      <td>0.920168</td>\n",
       "      <td>0.871866</td>\n",
       "      <td>0.897009</td>\n",
       "      <td>0.924933</td>\n",
       "      <td>...</td>\n",
       "      <td>6.0</td>\n",
       "      <td>6.0</td>\n",
       "      <td>7.0</td>\n",
       "      <td>7.0</td>\n",
       "      <td>6.0</td>\n",
       "      <td>8.0</td>\n",
       "      <td>7.0</td>\n",
       "      <td>7.0</td>\n",
       "      <td>6.0</td>\n",
       "      <td>8.0</td>\n",
       "    </tr>\n",
       "    <tr>\n",
       "      <th>S0767</th>\n",
       "      <td>0</td>\n",
       "      <td>0.065747</td>\n",
       "      <td>0.930877</td>\n",
       "      <td>0.220117</td>\n",
       "      <td>0.934335</td>\n",
       "      <td>0.875786</td>\n",
       "      <td>0.857193</td>\n",
       "      <td>0.809102</td>\n",
       "      <td>0.840202</td>\n",
       "      <td>0.874561</td>\n",
       "      <td>...</td>\n",
       "      <td>7.0</td>\n",
       "      <td>7.0</td>\n",
       "      <td>8.0</td>\n",
       "      <td>7.0</td>\n",
       "      <td>8.0</td>\n",
       "      <td>8.0</td>\n",
       "      <td>7.0</td>\n",
       "      <td>7.0</td>\n",
       "      <td>7.0</td>\n",
       "      <td>7.0</td>\n",
       "    </tr>\n",
       "    <tr>\n",
       "      <th>S0768</th>\n",
       "      <td>0</td>\n",
       "      <td>0.342944</td>\n",
       "      <td>0.849340</td>\n",
       "      <td>0.737245</td>\n",
       "      <td>0.847321</td>\n",
       "      <td>0.614612</td>\n",
       "      <td>0.576422</td>\n",
       "      <td>0.549181</td>\n",
       "      <td>0.580665</td>\n",
       "      <td>0.569098</td>\n",
       "      <td>...</td>\n",
       "      <td>7.0</td>\n",
       "      <td>8.0</td>\n",
       "      <td>7.0</td>\n",
       "      <td>0.0</td>\n",
       "      <td>7.0</td>\n",
       "      <td>7.0</td>\n",
       "      <td>8.0</td>\n",
       "      <td>6.0</td>\n",
       "      <td>7.0</td>\n",
       "      <td>6.0</td>\n",
       "    </tr>\n",
       "    <tr>\n",
       "      <th>S0769</th>\n",
       "      <td>0</td>\n",
       "      <td>0.864026</td>\n",
       "      <td>0.081626</td>\n",
       "      <td>0.962396</td>\n",
       "      <td>0.081617</td>\n",
       "      <td>0.145793</td>\n",
       "      <td>0.101693</td>\n",
       "      <td>0.068192</td>\n",
       "      <td>0.111700</td>\n",
       "      <td>0.105252</td>\n",
       "      <td>...</td>\n",
       "      <td>11.0</td>\n",
       "      <td>10.0</td>\n",
       "      <td>7.0</td>\n",
       "      <td>11.0</td>\n",
       "      <td>4.0</td>\n",
       "      <td>7.0</td>\n",
       "      <td>8.0</td>\n",
       "      <td>10.0</td>\n",
       "      <td>7.0</td>\n",
       "      <td>6.0</td>\n",
       "    </tr>\n",
       "    <tr>\n",
       "      <th>S0770</th>\n",
       "      <td>0</td>\n",
       "      <td>0.765547</td>\n",
       "      <td>0.674757</td>\n",
       "      <td>0.653061</td>\n",
       "      <td>0.675945</td>\n",
       "      <td>0.482291</td>\n",
       "      <td>0.446705</td>\n",
       "      <td>0.411472</td>\n",
       "      <td>0.443042</td>\n",
       "      <td>0.465338</td>\n",
       "      <td>...</td>\n",
       "      <td>8.0</td>\n",
       "      <td>0.0</td>\n",
       "      <td>9.0</td>\n",
       "      <td>7.0</td>\n",
       "      <td>7.0</td>\n",
       "      <td>8.0</td>\n",
       "      <td>6.0</td>\n",
       "      <td>6.0</td>\n",
       "      <td>7.0</td>\n",
       "      <td>8.0</td>\n",
       "    </tr>\n",
       "  </tbody>\n",
       "</table>\n",
       "<p>5 rows × 698 columns</p>\n",
       "</div>"
      ],
      "text/plain": [
       "           sample_mol_ion_less99  sample_weighted_mass  sample_max_temp  \\\n",
       "sample_id                                                                 \n",
       "S0766                          0              0.005432         0.501948   \n",
       "S0767                          0              0.065747         0.930877   \n",
       "S0768                          0              0.342944         0.849340   \n",
       "S0769                          0              0.864026         0.081626   \n",
       "S0770                          0              0.765547         0.674757   \n",
       "\n",
       "           sample_min_temp  sample_temp_range   sum_mz0   sum_mz1   sum_mz2  \\\n",
       "sample_id                                                                     \n",
       "S0766             0.340250           0.505124  0.926832  0.920168  0.871866   \n",
       "S0767             0.220117           0.934335  0.875786  0.857193  0.809102   \n",
       "S0768             0.737245           0.847321  0.614612  0.576422  0.549181   \n",
       "S0769             0.962396           0.081617  0.145793  0.101693  0.068192   \n",
       "S0770             0.653061           0.675945  0.482291  0.446705  0.411472   \n",
       "\n",
       "            sum_mz3   sum_mz5  ...  cluster_mz90  cluster_mz91  cluster_mz92  \\\n",
       "sample_id                      ...                                             \n",
       "S0766      0.897009  0.924933  ...           6.0           6.0           7.0   \n",
       "S0767      0.840202  0.874561  ...           7.0           7.0           8.0   \n",
       "S0768      0.580665  0.569098  ...           7.0           8.0           7.0   \n",
       "S0769      0.111700  0.105252  ...          11.0          10.0           7.0   \n",
       "S0770      0.443042  0.465338  ...           8.0           0.0           9.0   \n",
       "\n",
       "           cluster_mz93  cluster_mz94  cluster_mz95  cluster_mz96  \\\n",
       "sample_id                                                           \n",
       "S0766               7.0           6.0           8.0           7.0   \n",
       "S0767               7.0           8.0           8.0           7.0   \n",
       "S0768               0.0           7.0           7.0           8.0   \n",
       "S0769              11.0           4.0           7.0           8.0   \n",
       "S0770               7.0           7.0           8.0           6.0   \n",
       "\n",
       "           cluster_mz97  cluster_mz98  cluster_mz99  \n",
       "sample_id                                            \n",
       "S0766               7.0           6.0           8.0  \n",
       "S0767               7.0           7.0           7.0  \n",
       "S0768               6.0           7.0           6.0  \n",
       "S0769              10.0           7.0           6.0  \n",
       "S0770               6.0           7.0           8.0  \n",
       "\n",
       "[5 rows x 698 columns]"
      ]
     },
     "execution_count": 29,
     "metadata": {},
     "output_type": "execute_result"
    }
   ],
   "source": [
    "pd_test_features.head()"
   ]
  },
  {
   "cell_type": "code",
   "execution_count": 30,
   "id": "c06bba86",
   "metadata": {
    "ExecuteTime": {
     "end_time": "2022-04-17T15:38:21.474452Z",
     "start_time": "2022-04-17T15:38:16.183949Z"
    }
   },
   "outputs": [],
   "source": [
    "from src.preprocessing import post_processing_prediction\n",
    "\n",
    "test_yhat = {}\n",
    "\n",
    "for target_name in cfg.TARGETS:\n",
    "    target_models = models[target_name]\n",
    "    target_yhat = np.mean([predict_multiclass_fn(model, pd_test_features) for model in target_models], axis=0)\n",
    "    target_yhat = post_processing_prediction(pd_test_features, target_name, target_yhat)\n",
    "    test_yhat[target_name] = target_yhat\n",
    "test_yhat = pd.DataFrame(test_yhat, index=pd_test_features.index)"
   ]
  },
  {
   "cell_type": "code",
   "execution_count": null,
   "id": "31b995a7",
   "metadata": {
    "ExecuteTime": {
     "start_time": "2022-04-17T15:29:22.427Z"
    }
   },
   "outputs": [],
   "source": [
    "train_yhat = {}\n",
    "for target_name in cfg.TARGETS:\n",
    "    target_models = models[target_name]\n",
    "    cv_paths = get_cv_paths(cv_dir, target_name)\n",
    "    target_yhat = inference.compute_avg_prediction(data, target_models, cv_paths, predict_multiclass_fn)\n",
    "    train_yhat[target_name] = target_yhat\n",
    "train_yhat = pd.DataFrame(train_yhat)"
   ]
  },
  {
   "cell_type": "code",
   "execution_count": null,
   "id": "78e9a926",
   "metadata": {
    "ExecuteTime": {
     "start_time": "2022-04-17T15:29:22.429Z"
    }
   },
   "outputs": [],
   "source": [
    "sub_dir = Path(dirs['submission'])"
   ]
  },
  {
   "cell_type": "code",
   "execution_count": null,
   "id": "482a4390",
   "metadata": {
    "ExecuteTime": {
     "start_time": "2022-04-17T15:29:22.431Z"
    }
   },
   "outputs": [],
   "source": [
    "sub_dir = sub_dir.joinpath('optimized-iteration-lgbm', 'test')"
   ]
  },
  {
   "cell_type": "code",
   "execution_count": null,
   "id": "bcff8ccb",
   "metadata": {
    "ExecuteTime": {
     "start_time": "2022-04-17T15:29:22.432Z"
    }
   },
   "outputs": [],
   "source": [
    "sub_dir.mkdir(exist_ok=True, parents=True)"
   ]
  },
  {
   "cell_type": "code",
   "execution_count": null,
   "id": "4dea96d4",
   "metadata": {
    "ExecuteTime": {
     "start_time": "2022-04-17T15:29:22.434Z"
    }
   },
   "outputs": [],
   "source": [
    "test_yhat.to_csv(sub_dir / 'submission.csv', index=True)"
   ]
  },
  {
   "cell_type": "code",
   "execution_count": null,
   "id": "8cd0d68b",
   "metadata": {
    "ExecuteTime": {
     "start_time": "2022-04-17T15:29:22.435Z"
    }
   },
   "outputs": [],
   "source": [
    "train_yhat.to_csv(sub_dir / 'train.csv', index=True)"
   ]
  },
  {
   "cell_type": "code",
   "execution_count": null,
   "id": "26131413",
   "metadata": {},
   "outputs": [],
   "source": []
  }
 ],
 "metadata": {
  "kernelspec": {
   "display_name": "Python 3 (ipykernel)",
   "language": "python",
   "name": "python3"
  },
  "language_info": {
   "codemirror_mode": {
    "name": "ipython",
    "version": 3
   },
   "file_extension": ".py",
   "mimetype": "text/x-python",
   "name": "python",
   "nbconvert_exporter": "python",
   "pygments_lexer": "ipython3",
   "version": "3.8.8"
  },
  "toc": {
   "base_numbering": 1,
   "nav_menu": {},
   "number_sections": true,
   "sideBar": true,
   "skip_h1_title": false,
   "title_cell": "Table of Contents",
   "title_sidebar": "Contents",
   "toc_cell": false,
   "toc_position": {},
   "toc_section_display": true,
   "toc_window_display": false
  }
 },
 "nbformat": 4,
 "nbformat_minor": 5
}
