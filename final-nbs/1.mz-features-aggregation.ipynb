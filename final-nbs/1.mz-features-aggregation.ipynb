{
 "cells": [
  {
   "cell_type": "code",
   "execution_count": 1,
   "id": "2356f65b",
   "metadata": {
    "ExecuteTime": {
     "end_time": "2022-04-16T20:24:42.772744Z",
     "start_time": "2022-04-16T20:24:42.754415Z"
    }
   },
   "outputs": [],
   "source": [
    "%load_ext autoreload\n",
    "%autoreload 2"
   ]
  },
  {
   "cell_type": "code",
   "execution_count": 2,
   "id": "09d5bff1",
   "metadata": {
    "ExecuteTime": {
     "end_time": "2022-04-16T20:24:44.011056Z",
     "start_time": "2022-04-16T20:24:42.775502Z"
    }
   },
   "outputs": [],
   "source": [
    "from pathlib import Path\n",
    "import pandas as pd\n",
    "import numpy as np\n",
    "from matplotlib import pyplot as plt\n",
    "import seaborn as sns\n",
    "import os"
   ]
  },
  {
   "cell_type": "code",
   "execution_count": 3,
   "id": "875d884c",
   "metadata": {
    "ExecuteTime": {
     "end_time": "2022-04-16T20:24:44.028164Z",
     "start_time": "2022-04-16T20:24:44.013695Z"
    }
   },
   "outputs": [],
   "source": [
    "PROJECT_DIR = os.path.abspath('.')\n",
    "if PROJECT_DIR.endswith('final-nbs'):\n",
    "    PROJECT_DIR = os.path.abspath('../')\n",
    "    os.chdir(PROJECT_DIR)"
   ]
  },
  {
   "cell_type": "code",
   "execution_count": 4,
   "id": "44866780",
   "metadata": {
    "ExecuteTime": {
     "end_time": "2022-04-16T20:24:44.084760Z",
     "start_time": "2022-04-16T20:24:44.031176Z"
    }
   },
   "outputs": [],
   "source": [
    "import itertools\n",
    "from src.data import join_dataframe_columns\n",
    "from typing import List\n",
    "from sklearn.preprocessing import scale, minmax_scale\n",
    "from tqdm.auto import tqdm\n",
    "\n",
    "def _compute_longest_consecutive_lenght(sequence: List[bool]) -> int:\n",
    "    lenghts = [len(list(seq)) for value, seq in itertools.groupby(sequence)\n",
    "                if value]\n",
    "    return max(lenghts) if lenghts else 0\n",
    "\n",
    "def longest_consecutive_above_mean(series: pd.Series) -> int:\n",
    "    return _compute_longest_consecutive_lenght(series >= series.mean())\n",
    "\n",
    "\n",
    "def min_max_ratio(series: pd.Series):\n",
    "    return np.log1p(series.max() - series.min())\n",
    "\n",
    "def compute_temperature_peak(df: pd.DataFrame):\n",
    "    maximum_abun_index = np.argmax(df['abundance'].to_numpy())\n",
    "    return df.iloc[maximum_abun_index]['temp']\n",
    "\n",
    "def compute_features(data: pd.DataFrame) -> pd.DataFrame:\n",
    "    data['abundance'] = np.power(data['abundance'], 1/8)\n",
    "    data['rel_abun'] = data['abundance'] / data['abundance'].sum()\n",
    "    agg_quantities_abun = (data.groupby(['m/z'])['rel_abun']\n",
    "                       .agg(('sum', 'std', 'max', 'min', longest_consecutive_above_mean))\n",
    "                       .fillna(0))\n",
    "\n",
    "    temperature_peak_features = (data.groupby(['m/z'])\n",
    "                             .apply(compute_temperature_peak)\n",
    "                             .to_frame('temp_peak')\n",
    "                             .fillna(0))\n",
    "    agg_quantities_abun = pd.concat((agg_quantities_abun, temperature_peak_features), axis=1)\n",
    "    \n",
    "    return agg_quantities_abun\n",
    "\n",
    "\n",
    "\n",
    "def compute_features_from_files(files, pd_metadata: pd.DataFrame):\n",
    "    \n",
    "    _mz_features = {}\n",
    "    for sample_id in tqdm(files):\n",
    "        sample_data = pd.read_csv(files[sample_id])\n",
    "        sample_data = drop_mz_values(sample_data, remove_above_100=True)\n",
    "        if pd_metadata.loc[sample_id, 'instrument_type'] == 'sam_testbed':\n",
    "            sample_data = join_sambtest_sampling(sample_data)\n",
    "        sample_mz_features = compute_features(sample_data)\n",
    "        _mz_features[sample_id] = sample_mz_features \n",
    "    mz_features = (\n",
    "        pd.concat(_mz_features,  names=['sample_id', 'm/z'])\n",
    "    )\n",
    "    model_mz_features = mz_features.reset_index().pivot('sample_id', 'm/z')\n",
    "    join_dataframe_columns(model_mz_features)\n",
    "    return model_mz_features.fillna(0)"
   ]
  },
  {
   "cell_type": "code",
   "execution_count": 5,
   "id": "fb8a71ed",
   "metadata": {
    "ExecuteTime": {
     "end_time": "2022-04-16T20:24:44.140810Z",
     "start_time": "2022-04-16T20:24:44.086940Z"
    }
   },
   "outputs": [],
   "source": [
    "import cfg\n",
    "from src.data import get_features_path_from_metadata, join_dataframe_columns\n",
    "from src import util\n",
    "from src.data import setup_directories\n",
    "\n",
    "util.setup_logging()\n",
    "\n",
    "dirs = setup_directories(cfg.DATA_DIR, create_dirs=True)"
   ]
  },
  {
   "cell_type": "code",
   "execution_count": 6,
   "id": "fa94654a",
   "metadata": {
    "ExecuteTime": {
     "end_time": "2022-04-16T20:24:44.159578Z",
     "start_time": "2022-04-16T20:24:44.143338Z"
    }
   },
   "outputs": [],
   "source": [
    "raw_dir = Path(dirs['raw'])"
   ]
  },
  {
   "cell_type": "code",
   "execution_count": 7,
   "id": "53072b4e",
   "metadata": {
    "ExecuteTime": {
     "end_time": "2022-04-16T20:24:44.196759Z",
     "start_time": "2022-04-16T20:24:44.162963Z"
    }
   },
   "outputs": [
    {
     "data": {
      "text/html": [
       "<div>\n",
       "<style scoped>\n",
       "    .dataframe tbody tr th:only-of-type {\n",
       "        vertical-align: middle;\n",
       "    }\n",
       "\n",
       "    .dataframe tbody tr th {\n",
       "        vertical-align: top;\n",
       "    }\n",
       "\n",
       "    .dataframe thead th {\n",
       "        text-align: right;\n",
       "    }\n",
       "</style>\n",
       "<table border=\"1\" class=\"dataframe\">\n",
       "  <thead>\n",
       "    <tr style=\"text-align: right;\">\n",
       "      <th></th>\n",
       "      <th>split</th>\n",
       "      <th>instrument_type</th>\n",
       "      <th>features_path</th>\n",
       "      <th>features_md5_hash</th>\n",
       "    </tr>\n",
       "    <tr>\n",
       "      <th>sample_id</th>\n",
       "      <th></th>\n",
       "      <th></th>\n",
       "      <th></th>\n",
       "      <th></th>\n",
       "    </tr>\n",
       "  </thead>\n",
       "  <tbody>\n",
       "    <tr>\n",
       "      <th>S0000</th>\n",
       "      <td>train</td>\n",
       "      <td>commercial</td>\n",
       "      <td>train_features/S0000.csv</td>\n",
       "      <td>017b9a71a702e81a828e6242aa15f049</td>\n",
       "    </tr>\n",
       "    <tr>\n",
       "      <th>S0001</th>\n",
       "      <td>train</td>\n",
       "      <td>commercial</td>\n",
       "      <td>train_features/S0001.csv</td>\n",
       "      <td>0d09840214054d254bd49436c6a6f315</td>\n",
       "    </tr>\n",
       "    <tr>\n",
       "      <th>S0002</th>\n",
       "      <td>train</td>\n",
       "      <td>commercial</td>\n",
       "      <td>train_features/S0002.csv</td>\n",
       "      <td>3f58b3c9b001bfed6ed4e4f757083e09</td>\n",
       "    </tr>\n",
       "    <tr>\n",
       "      <th>S0003</th>\n",
       "      <td>train</td>\n",
       "      <td>commercial</td>\n",
       "      <td>train_features/S0003.csv</td>\n",
       "      <td>e9a12f96114a2fda60b36f4c0f513fb1</td>\n",
       "    </tr>\n",
       "    <tr>\n",
       "      <th>S0004</th>\n",
       "      <td>train</td>\n",
       "      <td>commercial</td>\n",
       "      <td>train_features/S0004.csv</td>\n",
       "      <td>b67603d3931897bfa796ac42cc16de78</td>\n",
       "    </tr>\n",
       "  </tbody>\n",
       "</table>\n",
       "</div>"
      ],
      "text/plain": [
       "           split instrument_type             features_path  \\\n",
       "sample_id                                                    \n",
       "S0000      train      commercial  train_features/S0000.csv   \n",
       "S0001      train      commercial  train_features/S0001.csv   \n",
       "S0002      train      commercial  train_features/S0002.csv   \n",
       "S0003      train      commercial  train_features/S0003.csv   \n",
       "S0004      train      commercial  train_features/S0004.csv   \n",
       "\n",
       "                          features_md5_hash  \n",
       "sample_id                                    \n",
       "S0000      017b9a71a702e81a828e6242aa15f049  \n",
       "S0001      0d09840214054d254bd49436c6a6f315  \n",
       "S0002      3f58b3c9b001bfed6ed4e4f757083e09  \n",
       "S0003      e9a12f96114a2fda60b36f4c0f513fb1  \n",
       "S0004      b67603d3931897bfa796ac42cc16de78  "
      ]
     },
     "execution_count": 7,
     "metadata": {},
     "output_type": "execute_result"
    }
   ],
   "source": [
    "# read metadata\n",
    "pd_metadata = pd.read_csv(raw_dir / \"metadata.csv\", index_col=\"sample_id\")\n",
    "pd_metadata.head()"
   ]
  },
  {
   "cell_type": "code",
   "execution_count": 8,
   "id": "c99b758f",
   "metadata": {
    "ExecuteTime": {
     "end_time": "2022-04-16T20:24:44.270701Z",
     "start_time": "2022-04-16T20:24:44.198542Z"
    }
   },
   "outputs": [],
   "source": [
    "train_files = get_features_path_from_metadata(pd_metadata.query(\"split == 'train'\"), raw_dir)\n",
    "valid_files = get_features_path_from_metadata(pd_metadata.query(\"split == 'val'\"), raw_dir)\n",
    "test_files = get_features_path_from_metadata(pd_metadata.query(\"split != 'train'\"), raw_dir)"
   ]
  },
  {
   "cell_type": "code",
   "execution_count": 9,
   "id": "5822e7c6",
   "metadata": {
    "ExecuteTime": {
     "end_time": "2022-04-16T20:24:44.291146Z",
     "start_time": "2022-04-16T20:24:44.273241Z"
    }
   },
   "outputs": [
    {
     "data": {
      "text/plain": [
       "(766, 293, 804)"
      ]
     },
     "execution_count": 9,
     "metadata": {},
     "output_type": "execute_result"
    }
   ],
   "source": [
    "len(train_files), len(valid_files), len(test_files)"
   ]
  },
  {
   "cell_type": "code",
   "execution_count": 10,
   "id": "3ad65788",
   "metadata": {
    "ExecuteTime": {
     "end_time": "2022-04-16T20:24:44.310181Z",
     "start_time": "2022-04-16T20:24:44.295580Z"
    }
   },
   "outputs": [],
   "source": [
    "from src.preprocessing import apply_preprocessing_fn"
   ]
  },
  {
   "cell_type": "code",
   "execution_count": 11,
   "id": "83073d60",
   "metadata": {
    "ExecuteTime": {
     "end_time": "2022-04-16T20:25:58.933166Z",
     "start_time": "2022-04-16T20:24:44.313108Z"
    }
   },
   "outputs": [
    {
     "data": {
      "application/vnd.jupyter.widget-view+json": {
       "model_id": "4404c5d49e7f455698e293d8e3e6ceba",
       "version_major": 2,
       "version_minor": 0
      },
      "text/plain": [
       "  0%|          | 0/766 [00:00<?, ?it/s]"
      ]
     },
     "metadata": {},
     "output_type": "display_data"
    }
   ],
   "source": [
    "_train_mz_features = apply_preprocessing_fn(train_files, pd_metadata, processing_fn=compute_features)\n",
    "\n",
    "train_mz_features = (\n",
    "        pd.concat(_train_mz_features,  names=['sample_id', 'm/z'])\n",
    "    )\n",
    "train_mz_features = train_mz_features.reset_index().pivot('sample_id', 'm/z')\n",
    "join_dataframe_columns(train_mz_features)\n",
    "train_mz_features = train_mz_features.fillna(0)"
   ]
  },
  {
   "cell_type": "code",
   "execution_count": 12,
   "id": "e239bc43",
   "metadata": {
    "ExecuteTime": {
     "end_time": "2022-04-16T20:26:27.412163Z",
     "start_time": "2022-04-16T20:25:58.936874Z"
    }
   },
   "outputs": [
    {
     "data": {
      "application/vnd.jupyter.widget-view+json": {
       "model_id": "4ab4c421c86f41278972e79d2db83541",
       "version_major": 2,
       "version_minor": 0
      },
      "text/plain": [
       "  0%|          | 0/293 [00:00<?, ?it/s]"
      ]
     },
     "metadata": {},
     "output_type": "display_data"
    }
   ],
   "source": [
    "_valid_mz_features = apply_preprocessing_fn(valid_files, pd_metadata, processing_fn=compute_features)\n",
    "\n",
    "valid_mz_features = (\n",
    "        pd.concat(_valid_mz_features,  names=['sample_id', 'm/z'])\n",
    "    )\n",
    "valid_mz_features = valid_mz_features.reset_index().pivot('sample_id', 'm/z')\n",
    "join_dataframe_columns(valid_mz_features)\n",
    "valid_mz_features = valid_mz_features.fillna(0)"
   ]
  },
  {
   "cell_type": "code",
   "execution_count": 13,
   "id": "d5699286",
   "metadata": {
    "ExecuteTime": {
     "end_time": "2022-04-16T20:27:57.090754Z",
     "start_time": "2022-04-16T20:26:27.415214Z"
    }
   },
   "outputs": [
    {
     "data": {
      "application/vnd.jupyter.widget-view+json": {
       "model_id": "f3f6d7e08fcd4a80987246f5a951d046",
       "version_major": 2,
       "version_minor": 0
      },
      "text/plain": [
       "  0%|          | 0/804 [00:00<?, ?it/s]"
      ]
     },
     "metadata": {},
     "output_type": "display_data"
    }
   ],
   "source": [
    "_test_mz_features = apply_preprocessing_fn(test_files, pd_metadata, processing_fn=compute_features)\n",
    "\n",
    "test_mz_features = (\n",
    "        pd.concat(_test_mz_features,  names=['sample_id', 'm/z'])\n",
    "    )\n",
    "test_mz_features = test_mz_features.reset_index().pivot('sample_id', 'm/z')\n",
    "join_dataframe_columns(test_mz_features)\n",
    "test_mz_features = test_mz_features.fillna(0)"
   ]
  },
  {
   "cell_type": "code",
   "execution_count": 14,
   "id": "935f3ba8",
   "metadata": {
    "ExecuteTime": {
     "end_time": "2022-04-16T20:27:57.138457Z",
     "start_time": "2022-04-16T20:27:57.092575Z"
    }
   },
   "outputs": [
    {
     "data": {
      "text/html": [
       "<div>\n",
       "<style scoped>\n",
       "    .dataframe tbody tr th:only-of-type {\n",
       "        vertical-align: middle;\n",
       "    }\n",
       "\n",
       "    .dataframe tbody tr th {\n",
       "        vertical-align: top;\n",
       "    }\n",
       "\n",
       "    .dataframe thead th {\n",
       "        text-align: right;\n",
       "    }\n",
       "</style>\n",
       "<table border=\"1\" class=\"dataframe\">\n",
       "  <thead>\n",
       "    <tr style=\"text-align: right;\">\n",
       "      <th></th>\n",
       "      <th>sum_mz0</th>\n",
       "      <th>sum_mz1</th>\n",
       "      <th>sum_mz2</th>\n",
       "      <th>sum_mz3</th>\n",
       "      <th>sum_mz5</th>\n",
       "      <th>sum_mz6</th>\n",
       "      <th>sum_mz7</th>\n",
       "      <th>sum_mz8</th>\n",
       "      <th>sum_mz9</th>\n",
       "      <th>sum_mz10</th>\n",
       "      <th>...</th>\n",
       "      <th>temp_peak_mz90</th>\n",
       "      <th>temp_peak_mz91</th>\n",
       "      <th>temp_peak_mz92</th>\n",
       "      <th>temp_peak_mz93</th>\n",
       "      <th>temp_peak_mz94</th>\n",
       "      <th>temp_peak_mz95</th>\n",
       "      <th>temp_peak_mz96</th>\n",
       "      <th>temp_peak_mz97</th>\n",
       "      <th>temp_peak_mz98</th>\n",
       "      <th>temp_peak_mz99</th>\n",
       "    </tr>\n",
       "    <tr>\n",
       "      <th>sample_id</th>\n",
       "      <th></th>\n",
       "      <th></th>\n",
       "      <th></th>\n",
       "      <th></th>\n",
       "      <th></th>\n",
       "      <th></th>\n",
       "      <th></th>\n",
       "      <th></th>\n",
       "      <th></th>\n",
       "      <th></th>\n",
       "      <th></th>\n",
       "      <th></th>\n",
       "      <th></th>\n",
       "      <th></th>\n",
       "      <th></th>\n",
       "      <th></th>\n",
       "      <th></th>\n",
       "      <th></th>\n",
       "      <th></th>\n",
       "      <th></th>\n",
       "      <th></th>\n",
       "    </tr>\n",
       "  </thead>\n",
       "  <tbody>\n",
       "    <tr>\n",
       "      <th>S0000</th>\n",
       "      <td>0.018374</td>\n",
       "      <td>0.018263</td>\n",
       "      <td>0.015952</td>\n",
       "      <td>0.017121</td>\n",
       "      <td>0.011513</td>\n",
       "      <td>0.009418</td>\n",
       "      <td>0.008905</td>\n",
       "      <td>0.008735</td>\n",
       "      <td>0.008364</td>\n",
       "      <td>0.008233</td>\n",
       "      <td>...</td>\n",
       "      <td>35.289</td>\n",
       "      <td>199.971</td>\n",
       "      <td>36.329</td>\n",
       "      <td>53.314</td>\n",
       "      <td>147.330</td>\n",
       "      <td>41.438</td>\n",
       "      <td>64.016</td>\n",
       "      <td>44.650</td>\n",
       "      <td>35.289</td>\n",
       "      <td>35.680</td>\n",
       "    </tr>\n",
       "    <tr>\n",
       "      <th>S0001</th>\n",
       "      <td>0.000000</td>\n",
       "      <td>0.026184</td>\n",
       "      <td>0.044014</td>\n",
       "      <td>0.033107</td>\n",
       "      <td>0.016639</td>\n",
       "      <td>0.013089</td>\n",
       "      <td>0.012260</td>\n",
       "      <td>0.011669</td>\n",
       "      <td>0.011043</td>\n",
       "      <td>0.010893</td>\n",
       "      <td>...</td>\n",
       "      <td>0.000</td>\n",
       "      <td>0.000</td>\n",
       "      <td>0.000</td>\n",
       "      <td>0.000</td>\n",
       "      <td>0.000</td>\n",
       "      <td>0.000</td>\n",
       "      <td>0.000</td>\n",
       "      <td>0.000</td>\n",
       "      <td>0.000</td>\n",
       "      <td>0.000</td>\n",
       "    </tr>\n",
       "    <tr>\n",
       "      <th>S0002</th>\n",
       "      <td>0.019023</td>\n",
       "      <td>0.020192</td>\n",
       "      <td>0.017197</td>\n",
       "      <td>0.018610</td>\n",
       "      <td>0.011999</td>\n",
       "      <td>0.009310</td>\n",
       "      <td>0.008872</td>\n",
       "      <td>0.009012</td>\n",
       "      <td>0.008478</td>\n",
       "      <td>0.008394</td>\n",
       "      <td>...</td>\n",
       "      <td>920.100</td>\n",
       "      <td>639.089</td>\n",
       "      <td>421.816</td>\n",
       "      <td>477.734</td>\n",
       "      <td>195.231</td>\n",
       "      <td>880.336</td>\n",
       "      <td>514.606</td>\n",
       "      <td>496.305</td>\n",
       "      <td>158.444</td>\n",
       "      <td>798.024</td>\n",
       "    </tr>\n",
       "    <tr>\n",
       "      <th>S0003</th>\n",
       "      <td>0.017703</td>\n",
       "      <td>0.018736</td>\n",
       "      <td>0.016254</td>\n",
       "      <td>0.017722</td>\n",
       "      <td>0.011581</td>\n",
       "      <td>0.009533</td>\n",
       "      <td>0.009090</td>\n",
       "      <td>0.009179</td>\n",
       "      <td>0.008676</td>\n",
       "      <td>0.008593</td>\n",
       "      <td>...</td>\n",
       "      <td>717.197</td>\n",
       "      <td>736.065</td>\n",
       "      <td>791.967</td>\n",
       "      <td>760.979</td>\n",
       "      <td>285.004</td>\n",
       "      <td>587.111</td>\n",
       "      <td>182.773</td>\n",
       "      <td>102.612</td>\n",
       "      <td>875.401</td>\n",
       "      <td>30.074</td>\n",
       "    </tr>\n",
       "    <tr>\n",
       "      <th>S0004</th>\n",
       "      <td>0.020583</td>\n",
       "      <td>0.021518</td>\n",
       "      <td>0.018754</td>\n",
       "      <td>0.019659</td>\n",
       "      <td>0.013848</td>\n",
       "      <td>0.009373</td>\n",
       "      <td>0.008670</td>\n",
       "      <td>0.008758</td>\n",
       "      <td>0.008244</td>\n",
       "      <td>0.008160</td>\n",
       "      <td>...</td>\n",
       "      <td>743.784</td>\n",
       "      <td>928.547</td>\n",
       "      <td>650.812</td>\n",
       "      <td>281.998</td>\n",
       "      <td>396.684</td>\n",
       "      <td>285.223</td>\n",
       "      <td>330.082</td>\n",
       "      <td>697.325</td>\n",
       "      <td>481.197</td>\n",
       "      <td>90.968</td>\n",
       "    </tr>\n",
       "  </tbody>\n",
       "</table>\n",
       "<p>5 rows × 594 columns</p>\n",
       "</div>"
      ],
      "text/plain": [
       "            sum_mz0   sum_mz1   sum_mz2   sum_mz3   sum_mz5   sum_mz6  \\\n",
       "sample_id                                                               \n",
       "S0000      0.018374  0.018263  0.015952  0.017121  0.011513  0.009418   \n",
       "S0001      0.000000  0.026184  0.044014  0.033107  0.016639  0.013089   \n",
       "S0002      0.019023  0.020192  0.017197  0.018610  0.011999  0.009310   \n",
       "S0003      0.017703  0.018736  0.016254  0.017722  0.011581  0.009533   \n",
       "S0004      0.020583  0.021518  0.018754  0.019659  0.013848  0.009373   \n",
       "\n",
       "            sum_mz7   sum_mz8   sum_mz9  sum_mz10  ...  temp_peak_mz90  \\\n",
       "sample_id                                          ...                   \n",
       "S0000      0.008905  0.008735  0.008364  0.008233  ...          35.289   \n",
       "S0001      0.012260  0.011669  0.011043  0.010893  ...           0.000   \n",
       "S0002      0.008872  0.009012  0.008478  0.008394  ...         920.100   \n",
       "S0003      0.009090  0.009179  0.008676  0.008593  ...         717.197   \n",
       "S0004      0.008670  0.008758  0.008244  0.008160  ...         743.784   \n",
       "\n",
       "           temp_peak_mz91  temp_peak_mz92  temp_peak_mz93  temp_peak_mz94  \\\n",
       "sample_id                                                                   \n",
       "S0000             199.971          36.329          53.314         147.330   \n",
       "S0001               0.000           0.000           0.000           0.000   \n",
       "S0002             639.089         421.816         477.734         195.231   \n",
       "S0003             736.065         791.967         760.979         285.004   \n",
       "S0004             928.547         650.812         281.998         396.684   \n",
       "\n",
       "           temp_peak_mz95  temp_peak_mz96  temp_peak_mz97  temp_peak_mz98  \\\n",
       "sample_id                                                                   \n",
       "S0000              41.438          64.016          44.650          35.289   \n",
       "S0001               0.000           0.000           0.000           0.000   \n",
       "S0002             880.336         514.606         496.305         158.444   \n",
       "S0003             587.111         182.773         102.612         875.401   \n",
       "S0004             285.223         330.082         697.325         481.197   \n",
       "\n",
       "           temp_peak_mz99  \n",
       "sample_id                  \n",
       "S0000              35.680  \n",
       "S0001               0.000  \n",
       "S0002             798.024  \n",
       "S0003              30.074  \n",
       "S0004              90.968  \n",
       "\n",
       "[5 rows x 594 columns]"
      ]
     },
     "execution_count": 14,
     "metadata": {},
     "output_type": "execute_result"
    }
   ],
   "source": [
    "train_mz_features.head()"
   ]
  },
  {
   "cell_type": "code",
   "execution_count": 15,
   "id": "4bd86310",
   "metadata": {
    "ExecuteTime": {
     "end_time": "2022-04-16T20:27:57.252001Z",
     "start_time": "2022-04-16T20:27:57.142664Z"
    }
   },
   "outputs": [
    {
     "data": {
      "text/html": [
       "<div>\n",
       "<style scoped>\n",
       "    .dataframe tbody tr th:only-of-type {\n",
       "        vertical-align: middle;\n",
       "    }\n",
       "\n",
       "    .dataframe tbody tr th {\n",
       "        vertical-align: top;\n",
       "    }\n",
       "\n",
       "    .dataframe thead th {\n",
       "        text-align: right;\n",
       "    }\n",
       "</style>\n",
       "<table border=\"1\" class=\"dataframe\">\n",
       "  <thead>\n",
       "    <tr style=\"text-align: right;\">\n",
       "      <th></th>\n",
       "      <th>sum_mz0</th>\n",
       "      <th>sum_mz1</th>\n",
       "      <th>sum_mz2</th>\n",
       "      <th>sum_mz3</th>\n",
       "      <th>sum_mz5</th>\n",
       "      <th>sum_mz6</th>\n",
       "      <th>sum_mz7</th>\n",
       "      <th>sum_mz8</th>\n",
       "      <th>sum_mz9</th>\n",
       "      <th>sum_mz10</th>\n",
       "      <th>...</th>\n",
       "      <th>temp_peak_mz90</th>\n",
       "      <th>temp_peak_mz91</th>\n",
       "      <th>temp_peak_mz92</th>\n",
       "      <th>temp_peak_mz93</th>\n",
       "      <th>temp_peak_mz94</th>\n",
       "      <th>temp_peak_mz95</th>\n",
       "      <th>temp_peak_mz96</th>\n",
       "      <th>temp_peak_mz97</th>\n",
       "      <th>temp_peak_mz98</th>\n",
       "      <th>temp_peak_mz99</th>\n",
       "    </tr>\n",
       "    <tr>\n",
       "      <th>sample_id</th>\n",
       "      <th></th>\n",
       "      <th></th>\n",
       "      <th></th>\n",
       "      <th></th>\n",
       "      <th></th>\n",
       "      <th></th>\n",
       "      <th></th>\n",
       "      <th></th>\n",
       "      <th></th>\n",
       "      <th></th>\n",
       "      <th></th>\n",
       "      <th></th>\n",
       "      <th></th>\n",
       "      <th></th>\n",
       "      <th></th>\n",
       "      <th></th>\n",
       "      <th></th>\n",
       "      <th></th>\n",
       "      <th></th>\n",
       "      <th></th>\n",
       "      <th></th>\n",
       "    </tr>\n",
       "  </thead>\n",
       "  <tbody>\n",
       "    <tr>\n",
       "      <th>S0766</th>\n",
       "      <td>0.024916</td>\n",
       "      <td>0.026303</td>\n",
       "      <td>0.023475</td>\n",
       "      <td>0.024980</td>\n",
       "      <td>0.018560</td>\n",
       "      <td>0.011156</td>\n",
       "      <td>0.009426</td>\n",
       "      <td>0.009422</td>\n",
       "      <td>0.008863</td>\n",
       "      <td>0.008745</td>\n",
       "      <td>...</td>\n",
       "      <td>562.875</td>\n",
       "      <td>300.042</td>\n",
       "      <td>659.468</td>\n",
       "      <td>952.507</td>\n",
       "      <td>420.425</td>\n",
       "      <td>455.383</td>\n",
       "      <td>734.049</td>\n",
       "      <td>271.438</td>\n",
       "      <td>826.645</td>\n",
       "      <td>274.640</td>\n",
       "    </tr>\n",
       "    <tr>\n",
       "      <th>S0767</th>\n",
       "      <td>0.024215</td>\n",
       "      <td>0.025515</td>\n",
       "      <td>0.022663</td>\n",
       "      <td>0.024011</td>\n",
       "      <td>0.018015</td>\n",
       "      <td>0.010826</td>\n",
       "      <td>0.009118</td>\n",
       "      <td>0.009133</td>\n",
       "      <td>0.008605</td>\n",
       "      <td>0.008486</td>\n",
       "      <td>...</td>\n",
       "      <td>269.402</td>\n",
       "      <td>488.905</td>\n",
       "      <td>658.414</td>\n",
       "      <td>1044.488</td>\n",
       "      <td>109.845</td>\n",
       "      <td>234.255</td>\n",
       "      <td>695.980</td>\n",
       "      <td>492.055</td>\n",
       "      <td>42.543</td>\n",
       "      <td>31.475</td>\n",
       "    </tr>\n",
       "    <tr>\n",
       "      <th>S0768</th>\n",
       "      <td>0.021934</td>\n",
       "      <td>0.022989</td>\n",
       "      <td>0.020159</td>\n",
       "      <td>0.021353</td>\n",
       "      <td>0.014827</td>\n",
       "      <td>0.009875</td>\n",
       "      <td>0.009149</td>\n",
       "      <td>0.009377</td>\n",
       "      <td>0.008692</td>\n",
       "      <td>0.008564</td>\n",
       "      <td>...</td>\n",
       "      <td>677.304</td>\n",
       "      <td>130.510</td>\n",
       "      <td>906.805</td>\n",
       "      <td>593.223</td>\n",
       "      <td>866.603</td>\n",
       "      <td>931.444</td>\n",
       "      <td>461.104</td>\n",
       "      <td>156.000</td>\n",
       "      <td>995.929</td>\n",
       "      <td>857.370</td>\n",
       "    </tr>\n",
       "    <tr>\n",
       "      <th>S0769</th>\n",
       "      <td>0.016174</td>\n",
       "      <td>0.016406</td>\n",
       "      <td>0.014504</td>\n",
       "      <td>0.015783</td>\n",
       "      <td>0.010845</td>\n",
       "      <td>0.009115</td>\n",
       "      <td>0.008673</td>\n",
       "      <td>0.008492</td>\n",
       "      <td>0.008182</td>\n",
       "      <td>0.008043</td>\n",
       "      <td>...</td>\n",
       "      <td>235.934</td>\n",
       "      <td>573.993</td>\n",
       "      <td>723.243</td>\n",
       "      <td>94.395</td>\n",
       "      <td>521.538</td>\n",
       "      <td>552.337</td>\n",
       "      <td>122.100</td>\n",
       "      <td>860.290</td>\n",
       "      <td>118.313</td>\n",
       "      <td>484.161</td>\n",
       "    </tr>\n",
       "    <tr>\n",
       "      <th>S0770</th>\n",
       "      <td>0.020351</td>\n",
       "      <td>0.021246</td>\n",
       "      <td>0.018574</td>\n",
       "      <td>0.019557</td>\n",
       "      <td>0.013746</td>\n",
       "      <td>0.009320</td>\n",
       "      <td>0.008660</td>\n",
       "      <td>0.008805</td>\n",
       "      <td>0.008225</td>\n",
       "      <td>0.008136</td>\n",
       "      <td>...</td>\n",
       "      <td>463.503</td>\n",
       "      <td>126.622</td>\n",
       "      <td>222.565</td>\n",
       "      <td>489.413</td>\n",
       "      <td>624.004</td>\n",
       "      <td>747.521</td>\n",
       "      <td>126.622</td>\n",
       "      <td>71.223</td>\n",
       "      <td>756.763</td>\n",
       "      <td>759.856</td>\n",
       "    </tr>\n",
       "  </tbody>\n",
       "</table>\n",
       "<p>5 rows × 594 columns</p>\n",
       "</div>"
      ],
      "text/plain": [
       "            sum_mz0   sum_mz1   sum_mz2   sum_mz3   sum_mz5   sum_mz6  \\\n",
       "sample_id                                                               \n",
       "S0766      0.024916  0.026303  0.023475  0.024980  0.018560  0.011156   \n",
       "S0767      0.024215  0.025515  0.022663  0.024011  0.018015  0.010826   \n",
       "S0768      0.021934  0.022989  0.020159  0.021353  0.014827  0.009875   \n",
       "S0769      0.016174  0.016406  0.014504  0.015783  0.010845  0.009115   \n",
       "S0770      0.020351  0.021246  0.018574  0.019557  0.013746  0.009320   \n",
       "\n",
       "            sum_mz7   sum_mz8   sum_mz9  sum_mz10  ...  temp_peak_mz90  \\\n",
       "sample_id                                          ...                   \n",
       "S0766      0.009426  0.009422  0.008863  0.008745  ...         562.875   \n",
       "S0767      0.009118  0.009133  0.008605  0.008486  ...         269.402   \n",
       "S0768      0.009149  0.009377  0.008692  0.008564  ...         677.304   \n",
       "S0769      0.008673  0.008492  0.008182  0.008043  ...         235.934   \n",
       "S0770      0.008660  0.008805  0.008225  0.008136  ...         463.503   \n",
       "\n",
       "           temp_peak_mz91  temp_peak_mz92  temp_peak_mz93  temp_peak_mz94  \\\n",
       "sample_id                                                                   \n",
       "S0766             300.042         659.468         952.507         420.425   \n",
       "S0767             488.905         658.414        1044.488         109.845   \n",
       "S0768             130.510         906.805         593.223         866.603   \n",
       "S0769             573.993         723.243          94.395         521.538   \n",
       "S0770             126.622         222.565         489.413         624.004   \n",
       "\n",
       "           temp_peak_mz95  temp_peak_mz96  temp_peak_mz97  temp_peak_mz98  \\\n",
       "sample_id                                                                   \n",
       "S0766             455.383         734.049         271.438         826.645   \n",
       "S0767             234.255         695.980         492.055          42.543   \n",
       "S0768             931.444         461.104         156.000         995.929   \n",
       "S0769             552.337         122.100         860.290         118.313   \n",
       "S0770             747.521         126.622          71.223         756.763   \n",
       "\n",
       "           temp_peak_mz99  \n",
       "sample_id                  \n",
       "S0766             274.640  \n",
       "S0767              31.475  \n",
       "S0768             857.370  \n",
       "S0769             484.161  \n",
       "S0770             759.856  \n",
       "\n",
       "[5 rows x 594 columns]"
      ]
     },
     "execution_count": 15,
     "metadata": {},
     "output_type": "execute_result"
    }
   ],
   "source": [
    "valid_mz_features.head()"
   ]
  },
  {
   "cell_type": "code",
   "execution_count": 16,
   "id": "20096ed0",
   "metadata": {
    "ExecuteTime": {
     "end_time": "2022-04-16T20:27:57.327271Z",
     "start_time": "2022-04-16T20:27:57.256389Z"
    }
   },
   "outputs": [
    {
     "data": {
      "text/html": [
       "<div>\n",
       "<style scoped>\n",
       "    .dataframe tbody tr th:only-of-type {\n",
       "        vertical-align: middle;\n",
       "    }\n",
       "\n",
       "    .dataframe tbody tr th {\n",
       "        vertical-align: top;\n",
       "    }\n",
       "\n",
       "    .dataframe thead th {\n",
       "        text-align: right;\n",
       "    }\n",
       "</style>\n",
       "<table border=\"1\" class=\"dataframe\">\n",
       "  <thead>\n",
       "    <tr style=\"text-align: right;\">\n",
       "      <th></th>\n",
       "      <th>sum_mz0</th>\n",
       "      <th>sum_mz1</th>\n",
       "      <th>sum_mz2</th>\n",
       "      <th>sum_mz3</th>\n",
       "      <th>sum_mz5</th>\n",
       "      <th>sum_mz6</th>\n",
       "      <th>sum_mz7</th>\n",
       "      <th>sum_mz8</th>\n",
       "      <th>sum_mz9</th>\n",
       "      <th>sum_mz10</th>\n",
       "      <th>...</th>\n",
       "      <th>temp_peak_mz90</th>\n",
       "      <th>temp_peak_mz91</th>\n",
       "      <th>temp_peak_mz92</th>\n",
       "      <th>temp_peak_mz93</th>\n",
       "      <th>temp_peak_mz94</th>\n",
       "      <th>temp_peak_mz95</th>\n",
       "      <th>temp_peak_mz96</th>\n",
       "      <th>temp_peak_mz97</th>\n",
       "      <th>temp_peak_mz98</th>\n",
       "      <th>temp_peak_mz99</th>\n",
       "    </tr>\n",
       "    <tr>\n",
       "      <th>sample_id</th>\n",
       "      <th></th>\n",
       "      <th></th>\n",
       "      <th></th>\n",
       "      <th></th>\n",
       "      <th></th>\n",
       "      <th></th>\n",
       "      <th></th>\n",
       "      <th></th>\n",
       "      <th></th>\n",
       "      <th></th>\n",
       "      <th></th>\n",
       "      <th></th>\n",
       "      <th></th>\n",
       "      <th></th>\n",
       "      <th></th>\n",
       "      <th></th>\n",
       "      <th></th>\n",
       "      <th></th>\n",
       "      <th></th>\n",
       "      <th></th>\n",
       "      <th></th>\n",
       "    </tr>\n",
       "  </thead>\n",
       "  <tbody>\n",
       "    <tr>\n",
       "      <th>S0766</th>\n",
       "      <td>0.024916</td>\n",
       "      <td>0.026303</td>\n",
       "      <td>0.023475</td>\n",
       "      <td>0.024980</td>\n",
       "      <td>0.018560</td>\n",
       "      <td>0.011156</td>\n",
       "      <td>0.009426</td>\n",
       "      <td>0.009422</td>\n",
       "      <td>0.008863</td>\n",
       "      <td>0.008745</td>\n",
       "      <td>...</td>\n",
       "      <td>562.875</td>\n",
       "      <td>300.042</td>\n",
       "      <td>659.468</td>\n",
       "      <td>952.507</td>\n",
       "      <td>420.425</td>\n",
       "      <td>455.383</td>\n",
       "      <td>734.049</td>\n",
       "      <td>271.438</td>\n",
       "      <td>826.645</td>\n",
       "      <td>274.640</td>\n",
       "    </tr>\n",
       "    <tr>\n",
       "      <th>S0767</th>\n",
       "      <td>0.024215</td>\n",
       "      <td>0.025515</td>\n",
       "      <td>0.022663</td>\n",
       "      <td>0.024011</td>\n",
       "      <td>0.018015</td>\n",
       "      <td>0.010826</td>\n",
       "      <td>0.009118</td>\n",
       "      <td>0.009133</td>\n",
       "      <td>0.008605</td>\n",
       "      <td>0.008486</td>\n",
       "      <td>...</td>\n",
       "      <td>269.402</td>\n",
       "      <td>488.905</td>\n",
       "      <td>658.414</td>\n",
       "      <td>1044.488</td>\n",
       "      <td>109.845</td>\n",
       "      <td>234.255</td>\n",
       "      <td>695.980</td>\n",
       "      <td>492.055</td>\n",
       "      <td>42.543</td>\n",
       "      <td>31.475</td>\n",
       "    </tr>\n",
       "    <tr>\n",
       "      <th>S0768</th>\n",
       "      <td>0.021934</td>\n",
       "      <td>0.022989</td>\n",
       "      <td>0.020159</td>\n",
       "      <td>0.021353</td>\n",
       "      <td>0.014827</td>\n",
       "      <td>0.009875</td>\n",
       "      <td>0.009149</td>\n",
       "      <td>0.009377</td>\n",
       "      <td>0.008692</td>\n",
       "      <td>0.008564</td>\n",
       "      <td>...</td>\n",
       "      <td>677.304</td>\n",
       "      <td>130.510</td>\n",
       "      <td>906.805</td>\n",
       "      <td>593.223</td>\n",
       "      <td>866.603</td>\n",
       "      <td>931.444</td>\n",
       "      <td>461.104</td>\n",
       "      <td>156.000</td>\n",
       "      <td>995.929</td>\n",
       "      <td>857.370</td>\n",
       "    </tr>\n",
       "    <tr>\n",
       "      <th>S0769</th>\n",
       "      <td>0.016174</td>\n",
       "      <td>0.016406</td>\n",
       "      <td>0.014504</td>\n",
       "      <td>0.015783</td>\n",
       "      <td>0.010845</td>\n",
       "      <td>0.009115</td>\n",
       "      <td>0.008673</td>\n",
       "      <td>0.008492</td>\n",
       "      <td>0.008182</td>\n",
       "      <td>0.008043</td>\n",
       "      <td>...</td>\n",
       "      <td>235.934</td>\n",
       "      <td>573.993</td>\n",
       "      <td>723.243</td>\n",
       "      <td>94.395</td>\n",
       "      <td>521.538</td>\n",
       "      <td>552.337</td>\n",
       "      <td>122.100</td>\n",
       "      <td>860.290</td>\n",
       "      <td>118.313</td>\n",
       "      <td>484.161</td>\n",
       "    </tr>\n",
       "    <tr>\n",
       "      <th>S0770</th>\n",
       "      <td>0.020351</td>\n",
       "      <td>0.021246</td>\n",
       "      <td>0.018574</td>\n",
       "      <td>0.019557</td>\n",
       "      <td>0.013746</td>\n",
       "      <td>0.009320</td>\n",
       "      <td>0.008660</td>\n",
       "      <td>0.008805</td>\n",
       "      <td>0.008225</td>\n",
       "      <td>0.008136</td>\n",
       "      <td>...</td>\n",
       "      <td>463.503</td>\n",
       "      <td>126.622</td>\n",
       "      <td>222.565</td>\n",
       "      <td>489.413</td>\n",
       "      <td>624.004</td>\n",
       "      <td>747.521</td>\n",
       "      <td>126.622</td>\n",
       "      <td>71.223</td>\n",
       "      <td>756.763</td>\n",
       "      <td>759.856</td>\n",
       "    </tr>\n",
       "  </tbody>\n",
       "</table>\n",
       "<p>5 rows × 594 columns</p>\n",
       "</div>"
      ],
      "text/plain": [
       "            sum_mz0   sum_mz1   sum_mz2   sum_mz3   sum_mz5   sum_mz6  \\\n",
       "sample_id                                                               \n",
       "S0766      0.024916  0.026303  0.023475  0.024980  0.018560  0.011156   \n",
       "S0767      0.024215  0.025515  0.022663  0.024011  0.018015  0.010826   \n",
       "S0768      0.021934  0.022989  0.020159  0.021353  0.014827  0.009875   \n",
       "S0769      0.016174  0.016406  0.014504  0.015783  0.010845  0.009115   \n",
       "S0770      0.020351  0.021246  0.018574  0.019557  0.013746  0.009320   \n",
       "\n",
       "            sum_mz7   sum_mz8   sum_mz9  sum_mz10  ...  temp_peak_mz90  \\\n",
       "sample_id                                          ...                   \n",
       "S0766      0.009426  0.009422  0.008863  0.008745  ...         562.875   \n",
       "S0767      0.009118  0.009133  0.008605  0.008486  ...         269.402   \n",
       "S0768      0.009149  0.009377  0.008692  0.008564  ...         677.304   \n",
       "S0769      0.008673  0.008492  0.008182  0.008043  ...         235.934   \n",
       "S0770      0.008660  0.008805  0.008225  0.008136  ...         463.503   \n",
       "\n",
       "           temp_peak_mz91  temp_peak_mz92  temp_peak_mz93  temp_peak_mz94  \\\n",
       "sample_id                                                                   \n",
       "S0766             300.042         659.468         952.507         420.425   \n",
       "S0767             488.905         658.414        1044.488         109.845   \n",
       "S0768             130.510         906.805         593.223         866.603   \n",
       "S0769             573.993         723.243          94.395         521.538   \n",
       "S0770             126.622         222.565         489.413         624.004   \n",
       "\n",
       "           temp_peak_mz95  temp_peak_mz96  temp_peak_mz97  temp_peak_mz98  \\\n",
       "sample_id                                                                   \n",
       "S0766             455.383         734.049         271.438         826.645   \n",
       "S0767             234.255         695.980         492.055          42.543   \n",
       "S0768             931.444         461.104         156.000         995.929   \n",
       "S0769             552.337         122.100         860.290         118.313   \n",
       "S0770             747.521         126.622          71.223         756.763   \n",
       "\n",
       "           temp_peak_mz99  \n",
       "sample_id                  \n",
       "S0766             274.640  \n",
       "S0767              31.475  \n",
       "S0768             857.370  \n",
       "S0769             484.161  \n",
       "S0770             759.856  \n",
       "\n",
       "[5 rows x 594 columns]"
      ]
     },
     "execution_count": 16,
     "metadata": {},
     "output_type": "execute_result"
    }
   ],
   "source": [
    "test_mz_features.head()"
   ]
  },
  {
   "cell_type": "code",
   "execution_count": 17,
   "id": "dea5ef9f",
   "metadata": {
    "ExecuteTime": {
     "end_time": "2022-04-16T20:27:57.358288Z",
     "start_time": "2022-04-16T20:27:57.330566Z"
    }
   },
   "outputs": [],
   "source": [
    "assert train_mz_features.shape[1] == valid_mz_features.shape[1]\n",
    "assert train_mz_features.shape[1] == test_mz_features.shape[1]"
   ]
  },
  {
   "cell_type": "code",
   "execution_count": 18,
   "id": "ac597acd",
   "metadata": {
    "ExecuteTime": {
     "end_time": "2022-04-16T20:27:57.384880Z",
     "start_time": "2022-04-16T20:27:57.360896Z"
    }
   },
   "outputs": [],
   "source": [
    "assert all(train_mz_features.columns == valid_mz_features.columns)\n",
    "assert all(train_mz_features.columns == test_mz_features.columns)"
   ]
  },
  {
   "cell_type": "markdown",
   "id": "db74949f",
   "metadata": {},
   "source": [
    "#### can we predict wheter is sam_tested or not? "
   ]
  },
  {
   "cell_type": "code",
   "execution_count": 19,
   "id": "ef216dfc",
   "metadata": {
    "ExecuteTime": {
     "end_time": "2022-04-16T20:27:57.431537Z",
     "start_time": "2022-04-16T20:27:57.389860Z"
    }
   },
   "outputs": [],
   "source": [
    "joined_mz_data = train_mz_features.append(test_mz_features)"
   ]
  },
  {
   "cell_type": "code",
   "execution_count": 20,
   "id": "16175b76",
   "metadata": {
    "ExecuteTime": {
     "end_time": "2022-04-16T20:27:57.461466Z",
     "start_time": "2022-04-16T20:27:57.435634Z"
    }
   },
   "outputs": [],
   "source": [
    "sam_testbed_samples = pd_metadata.index[(pd_metadata['instrument_type'] == 'sam_testbed')]"
   ]
  },
  {
   "cell_type": "code",
   "execution_count": 21,
   "id": "c226ba45",
   "metadata": {
    "ExecuteTime": {
     "end_time": "2022-04-16T20:27:57.491772Z",
     "start_time": "2022-04-16T20:27:57.464613Z"
    }
   },
   "outputs": [],
   "source": [
    "joined_mz_data['is_sam_testbed'] = joined_mz_data.index.isin(sam_testbed_samples).astype(np.int64)"
   ]
  },
  {
   "cell_type": "code",
   "execution_count": 22,
   "id": "8c210e92",
   "metadata": {
    "ExecuteTime": {
     "end_time": "2022-04-16T20:27:57.528957Z",
     "start_time": "2022-04-16T20:27:57.495116Z"
    }
   },
   "outputs": [
    {
     "data": {
      "text/plain": [
       "76"
      ]
     },
     "execution_count": 22,
     "metadata": {},
     "output_type": "execute_result"
    }
   ],
   "source": [
    "joined_mz_data['is_sam_testbed'].sum()"
   ]
  },
  {
   "cell_type": "code",
   "execution_count": 23,
   "id": "420e4efc",
   "metadata": {
    "ExecuteTime": {
     "end_time": "2022-04-16T20:27:57.559017Z",
     "start_time": "2022-04-16T20:27:57.531800Z"
    }
   },
   "outputs": [],
   "source": [
    "feature_names = train_mz_features.columns"
   ]
  },
  {
   "cell_type": "code",
   "execution_count": 24,
   "id": "1fc660a7",
   "metadata": {
    "ExecuteTime": {
     "end_time": "2022-04-16T20:27:57.591157Z",
     "start_time": "2022-04-16T20:27:57.562591Z"
    }
   },
   "outputs": [],
   "source": [
    "# we will use mutual information scores to determine if any feature could tell us something"
   ]
  },
  {
   "cell_type": "code",
   "execution_count": 25,
   "id": "9a0e7c0f",
   "metadata": {
    "ExecuteTime": {
     "end_time": "2022-04-16T20:27:57.683395Z",
     "start_time": "2022-04-16T20:27:57.594940Z"
    }
   },
   "outputs": [],
   "source": [
    "from sklearn.feature_selection import mutual_info_classif"
   ]
  },
  {
   "cell_type": "code",
   "execution_count": 26,
   "id": "f74d1627",
   "metadata": {
    "ExecuteTime": {
     "end_time": "2022-04-16T20:28:02.299342Z",
     "start_time": "2022-04-16T20:27:57.686821Z"
    }
   },
   "outputs": [],
   "source": [
    "mi_scores = mutual_info_classif(joined_mz_data[feature_names], joined_mz_data['is_sam_testbed'])"
   ]
  },
  {
   "cell_type": "code",
   "execution_count": 27,
   "id": "0e4a5fa5",
   "metadata": {
    "ExecuteTime": {
     "end_time": "2022-04-16T20:28:02.332285Z",
     "start_time": "2022-04-16T20:28:02.301231Z"
    }
   },
   "outputs": [],
   "source": [
    "mi_scores = pd.Series(mi_scores, index=feature_names, name='mi').sort_values(ascending=False)"
   ]
  },
  {
   "cell_type": "code",
   "execution_count": 28,
   "id": "15256715",
   "metadata": {
    "ExecuteTime": {
     "end_time": "2022-04-16T20:28:02.367643Z",
     "start_time": "2022-04-16T20:28:02.340465Z"
    }
   },
   "outputs": [
    {
     "data": {
      "text/plain": [
       "min_mz40                              0.187534\n",
       "min_mz14                              0.184924\n",
       "sum_mz69                              0.183214\n",
       "sum_mz21                              0.179694\n",
       "min_mz35                              0.178035\n",
       "max_mz14                              0.177412\n",
       "longest_consecutive_above_mean_mz6    0.176167\n",
       "min_mz31                              0.175954\n",
       "sum_mz6                               0.175788\n",
       "max_mz32                              0.175120\n",
       "Name: mi, dtype: float64"
      ]
     },
     "execution_count": 28,
     "metadata": {},
     "output_type": "execute_result"
    }
   ],
   "source": [
    "mi_scores.head(10) # lets look at most important feature"
   ]
  },
  {
   "cell_type": "code",
   "execution_count": 29,
   "id": "2d96fb95",
   "metadata": {
    "ExecuteTime": {
     "end_time": "2022-04-16T20:28:03.770915Z",
     "start_time": "2022-04-16T20:28:02.372922Z"
    }
   },
   "outputs": [
    {
     "data": {
      "image/png": "[encoded data removed]",
      "text/plain": [
       "<Figure size 432x288 with 1 Axes>"
      ]
     },
     "metadata": {
      "needs_background": "light"
     },
     "output_type": "display_data"
    },
    {
     "data": {
      "image/png": "[encoded data removed]",
      "text/plain": [
       "<Figure size 432x288 with 1 Axes>"
      ]
     },
     "metadata": {
      "needs_background": "light"
     },
     "output_type": "display_data"
    },
    {
     "data": {
      "image/png": "[encoded data removed]",
      "text/plain": [
       "<Figure size 432x288 with 1 Axes>"
      ]
     },
     "metadata": {
      "needs_background": "light"
     },
     "output_type": "display_data"
    },
    {
     "data": {
      "image/png": "[encoded data removed]",
      "text/plain": [
       "<Figure size 432x288 with 1 Axes>"
      ]
     },
     "metadata": {
      "needs_background": "light"
     },
     "output_type": "display_data"
    },
    {
     "data": {
      "image/png": "[encoded data removed]",
      "text/plain": [
       "<Figure size 432x288 with 1 Axes>"
      ]
     },
     "metadata": {
      "needs_background": "light"
     },
     "output_type": "display_data"
    },
    {
     "data": {
      "image/png": "[encoded data removed]",
      "text/plain": [
       "<Figure size 432x288 with 1 Axes>"
      ]
     },
     "metadata": {
      "needs_background": "light"
     },
     "output_type": "display_data"
    },
    {
     "data": {
      "image/png": "[encoded data removed]",
      "text/plain": [
       "<Figure size 432x288 with 1 Axes>"
      ]
     },
     "metadata": {
      "needs_background": "light"
     },
     "output_type": "display_data"
    },
    {
     "data": {
      "image/png": "[encoded data removed]",
      "text/plain": [
       "<Figure size 432x288 with 1 Axes>"
      ]
     },
     "metadata": {
      "needs_background": "light"
     },
     "output_type": "display_data"
    },
    {
     "data": {
      "image/png": "[encoded data removed]",
      "text/plain": [
       "<Figure size 432x288 with 1 Axes>"
      ]
     },
     "metadata": {
      "needs_background": "light"
     },
     "output_type": "display_data"
    },
    {
     "data": {
      "image/png": "[encoded data removed]",
      "text/plain": [
       "<Figure size 432x288 with 1 Axes>"
      ]
     },
     "metadata": {
      "needs_background": "light"
     },
     "output_type": "display_data"
    }
   ],
   "source": [
    "for top_feat in mi_scores.index[:10]:\n",
    "    plt.figure()\n",
    "    sns.boxenplot(data=joined_mz_data, x='is_sam_testbed', y=top_feat)"
   ]
  },
  {
   "cell_type": "markdown",
   "id": "72ddea65",
   "metadata": {},
   "source": [
    "because they are few sam tesbed observations we can surely predict if we can tell difference between one and other, but at least they are in the same scale."
   ]
  },
  {
   "cell_type": "markdown",
   "id": "66f3afb2",
   "metadata": {},
   "source": [
    "finally, normalize using quantile transformer to reduce variance in the dataset"
   ]
  },
  {
   "cell_type": "markdown",
   "id": "6197cdd6",
   "metadata": {},
   "source": [
    "### looking at correlations "
   ]
  },
  {
   "cell_type": "code",
   "execution_count": 30,
   "id": "72b54715",
   "metadata": {
    "ExecuteTime": {
     "end_time": "2022-04-16T20:28:03.800347Z",
     "start_time": "2022-04-16T20:28:03.774596Z"
    }
   },
   "outputs": [],
   "source": [
    "def get_upper_traingle(data: pd.DataFrame):\n",
    "    shape = data.shape\n",
    "    upper_tri = np.triu(np.ones(shape, dtype=np.bool_), k=1)\n",
    "    return data.where(upper_tri)"
   ]
  },
  {
   "cell_type": "code",
   "execution_count": 31,
   "id": "164c013c",
   "metadata": {
    "ExecuteTime": {
     "end_time": "2022-04-16T20:28:04.542889Z",
     "start_time": "2022-04-16T20:28:03.802908Z"
    }
   },
   "outputs": [],
   "source": [
    "corr_matrix = train_mz_features.corr()"
   ]
  },
  {
   "cell_type": "code",
   "execution_count": 32,
   "id": "e3fd3d06",
   "metadata": {
    "ExecuteTime": {
     "end_time": "2022-04-16T20:28:04.572538Z",
     "start_time": "2022-04-16T20:28:04.545206Z"
    }
   },
   "outputs": [],
   "source": [
    "utriu_corr = get_upper_traingle(corr_matrix)"
   ]
  },
  {
   "cell_type": "code",
   "execution_count": 33,
   "id": "39f7aaf6",
   "metadata": {
    "ExecuteTime": {
     "end_time": "2022-04-16T20:28:04.798927Z",
     "start_time": "2022-04-16T20:28:04.575623Z"
    }
   },
   "outputs": [],
   "source": [
    "high_correlated_features = [f for f in utriu_corr if utriu_corr[f].abs().max() >= 0.95]"
   ]
  },
  {
   "cell_type": "code",
   "execution_count": 34,
   "id": "ba6ef761",
   "metadata": {
    "ExecuteTime": {
     "end_time": "2022-04-16T20:28:04.826954Z",
     "start_time": "2022-04-16T20:28:04.800570Z"
    }
   },
   "outputs": [
    {
     "data": {
      "text/plain": [
       "243"
      ]
     },
     "execution_count": 34,
     "metadata": {},
     "output_type": "execute_result"
    }
   ],
   "source": [
    "len(high_correlated_features) # very correlated features, but what to drop???"
   ]
  },
  {
   "cell_type": "code",
   "execution_count": 35,
   "id": "1629617a",
   "metadata": {
    "ExecuteTime": {
     "end_time": "2022-04-16T20:28:04.864074Z",
     "start_time": "2022-04-16T20:28:04.829925Z"
    },
    "scrolled": false
   },
   "outputs": [
    {
     "data": {
      "text/plain": [
       "['sum_mz5',\n",
       " 'sum_mz8',\n",
       " 'sum_mz9',\n",
       " 'sum_mz10',\n",
       " 'sum_mz11',\n",
       " 'sum_mz40',\n",
       " 'sum_mz45',\n",
       " 'sum_mz46',\n",
       " 'sum_mz52',\n",
       " 'sum_mz53',\n",
       " 'sum_mz55',\n",
       " 'sum_mz56',\n",
       " 'sum_mz58',\n",
       " 'sum_mz59',\n",
       " 'sum_mz66',\n",
       " 'sum_mz68',\n",
       " 'sum_mz69',\n",
       " 'sum_mz70',\n",
       " 'sum_mz71',\n",
       " 'sum_mz72',\n",
       " 'sum_mz73',\n",
       " 'sum_mz74',\n",
       " 'sum_mz75',\n",
       " 'sum_mz76',\n",
       " 'sum_mz77',\n",
       " 'sum_mz78',\n",
       " 'sum_mz79',\n",
       " 'sum_mz80',\n",
       " 'sum_mz81',\n",
       " 'sum_mz82',\n",
       " 'sum_mz83',\n",
       " 'sum_mz84',\n",
       " 'sum_mz85',\n",
       " 'sum_mz86',\n",
       " 'sum_mz87',\n",
       " 'sum_mz88',\n",
       " 'sum_mz89',\n",
       " 'sum_mz90',\n",
       " 'sum_mz91',\n",
       " 'sum_mz92',\n",
       " 'sum_mz93',\n",
       " 'sum_mz94',\n",
       " 'sum_mz95',\n",
       " 'sum_mz96',\n",
       " 'sum_mz97',\n",
       " 'sum_mz98',\n",
       " 'sum_mz99',\n",
       " 'std_mz8',\n",
       " 'std_mz9',\n",
       " 'std_mz10',\n",
       " 'std_mz18',\n",
       " 'std_mz20',\n",
       " 'std_mz36',\n",
       " 'std_mz37',\n",
       " 'std_mz38',\n",
       " 'std_mz41',\n",
       " 'std_mz44',\n",
       " 'std_mz45',\n",
       " 'std_mz46',\n",
       " 'std_mz50',\n",
       " 'std_mz53',\n",
       " 'std_mz54',\n",
       " 'std_mz55',\n",
       " 'std_mz56',\n",
       " 'std_mz57',\n",
       " 'std_mz65',\n",
       " 'std_mz66',\n",
       " 'std_mz72',\n",
       " 'std_mz75',\n",
       " 'std_mz78',\n",
       " 'std_mz79',\n",
       " 'std_mz80',\n",
       " 'std_mz81',\n",
       " 'std_mz82',\n",
       " 'std_mz84',\n",
       " 'std_mz87',\n",
       " 'std_mz88',\n",
       " 'std_mz89',\n",
       " 'std_mz90',\n",
       " 'std_mz92',\n",
       " 'std_mz93',\n",
       " 'std_mz94',\n",
       " 'std_mz95',\n",
       " 'std_mz96',\n",
       " 'std_mz97',\n",
       " 'std_mz98',\n",
       " 'std_mz99',\n",
       " 'max_mz3',\n",
       " 'max_mz5',\n",
       " 'max_mz8',\n",
       " 'max_mz9',\n",
       " 'max_mz10',\n",
       " 'max_mz11',\n",
       " 'max_mz16',\n",
       " 'max_mz18',\n",
       " 'max_mz19',\n",
       " 'max_mz20',\n",
       " 'max_mz21',\n",
       " 'max_mz22',\n",
       " 'max_mz23',\n",
       " 'max_mz25',\n",
       " 'max_mz26',\n",
       " 'max_mz27',\n",
       " 'max_mz28',\n",
       " 'max_mz29',\n",
       " 'max_mz30',\n",
       " 'max_mz32',\n",
       " 'max_mz33',\n",
       " 'max_mz34',\n",
       " 'max_mz37',\n",
       " 'max_mz38',\n",
       " 'max_mz39',\n",
       " 'max_mz40',\n",
       " 'max_mz42',\n",
       " 'max_mz43',\n",
       " 'max_mz44',\n",
       " 'max_mz45',\n",
       " 'max_mz46',\n",
       " 'max_mz49',\n",
       " 'max_mz50',\n",
       " 'max_mz51',\n",
       " 'max_mz52',\n",
       " 'max_mz53',\n",
       " 'max_mz54',\n",
       " 'max_mz55',\n",
       " 'max_mz56',\n",
       " 'max_mz57',\n",
       " 'max_mz58',\n",
       " 'max_mz59',\n",
       " 'max_mz60',\n",
       " 'max_mz62',\n",
       " 'max_mz66',\n",
       " 'max_mz68',\n",
       " 'max_mz69',\n",
       " 'max_mz71',\n",
       " 'max_mz72',\n",
       " 'max_mz73',\n",
       " 'max_mz74',\n",
       " 'max_mz75',\n",
       " 'max_mz76',\n",
       " 'max_mz77',\n",
       " 'max_mz78',\n",
       " 'max_mz79',\n",
       " 'max_mz80',\n",
       " 'max_mz81',\n",
       " 'max_mz82',\n",
       " 'max_mz83',\n",
       " 'max_mz84',\n",
       " 'max_mz85',\n",
       " 'max_mz86',\n",
       " 'max_mz87',\n",
       " 'max_mz88',\n",
       " 'max_mz89',\n",
       " 'max_mz90',\n",
       " 'max_mz91',\n",
       " 'max_mz92',\n",
       " 'max_mz93',\n",
       " 'max_mz94',\n",
       " 'max_mz95',\n",
       " 'max_mz96',\n",
       " 'max_mz97',\n",
       " 'max_mz98',\n",
       " 'max_mz99',\n",
       " 'min_mz0',\n",
       " 'min_mz1',\n",
       " 'min_mz2',\n",
       " 'min_mz3',\n",
       " 'min_mz5',\n",
       " 'min_mz6',\n",
       " 'min_mz8',\n",
       " 'min_mz9',\n",
       " 'min_mz10',\n",
       " 'min_mz11',\n",
       " 'min_mz12',\n",
       " 'min_mz13',\n",
       " 'min_mz14',\n",
       " 'min_mz16',\n",
       " 'min_mz17',\n",
       " 'min_mz18',\n",
       " 'min_mz19',\n",
       " 'min_mz20',\n",
       " 'min_mz21',\n",
       " 'min_mz25',\n",
       " 'min_mz26',\n",
       " 'min_mz27',\n",
       " 'min_mz28',\n",
       " 'min_mz29',\n",
       " 'min_mz30',\n",
       " 'min_mz31',\n",
       " 'min_mz32',\n",
       " 'min_mz33',\n",
       " 'min_mz34',\n",
       " 'min_mz37',\n",
       " 'min_mz39',\n",
       " 'min_mz40',\n",
       " 'min_mz42',\n",
       " 'min_mz44',\n",
       " 'min_mz45',\n",
       " 'min_mz46',\n",
       " 'min_mz49',\n",
       " 'min_mz50',\n",
       " 'min_mz51',\n",
       " 'min_mz52',\n",
       " 'min_mz53',\n",
       " 'min_mz54',\n",
       " 'min_mz55',\n",
       " 'min_mz56',\n",
       " 'min_mz58',\n",
       " 'min_mz62',\n",
       " 'min_mz66',\n",
       " 'min_mz67',\n",
       " 'min_mz68',\n",
       " 'min_mz69',\n",
       " 'min_mz70',\n",
       " 'min_mz71',\n",
       " 'min_mz72',\n",
       " 'min_mz73',\n",
       " 'min_mz74',\n",
       " 'min_mz75',\n",
       " 'min_mz76',\n",
       " 'min_mz77',\n",
       " 'min_mz78',\n",
       " 'min_mz79',\n",
       " 'min_mz80',\n",
       " 'min_mz81',\n",
       " 'min_mz82',\n",
       " 'min_mz83',\n",
       " 'min_mz84',\n",
       " 'min_mz85',\n",
       " 'min_mz86',\n",
       " 'min_mz87',\n",
       " 'min_mz88',\n",
       " 'min_mz89',\n",
       " 'min_mz90',\n",
       " 'min_mz91',\n",
       " 'min_mz92',\n",
       " 'min_mz93',\n",
       " 'min_mz94',\n",
       " 'min_mz95',\n",
       " 'min_mz96',\n",
       " 'min_mz97',\n",
       " 'min_mz98',\n",
       " 'min_mz99']"
      ]
     },
     "execution_count": 35,
     "metadata": {},
     "output_type": "execute_result"
    }
   ],
   "source": [
    "high_correlated_features"
   ]
  },
  {
   "cell_type": "code",
   "execution_count": 36,
   "id": "0cd9f83c",
   "metadata": {
    "ExecuteTime": {
     "end_time": "2022-04-16T20:28:04.895849Z",
     "start_time": "2022-04-16T20:28:04.866803Z"
    }
   },
   "outputs": [],
   "source": [
    "from sklearn.preprocessing import QuantileTransformer\n",
    "from src.data import build_dataframe_as\n",
    "quantile_transformer = QuantileTransformer(n_quantiles=50)"
   ]
  },
  {
   "cell_type": "code",
   "execution_count": 37,
   "id": "165770bb",
   "metadata": {
    "ExecuteTime": {
     "end_time": "2022-04-16T20:28:05.131086Z",
     "start_time": "2022-04-16T20:28:04.898637Z"
    }
   },
   "outputs": [],
   "source": [
    "_train_mz_norm_features = quantile_transformer.fit_transform(train_mz_features)"
   ]
  },
  {
   "cell_type": "code",
   "execution_count": 38,
   "id": "5c44fac8",
   "metadata": {
    "ExecuteTime": {
     "end_time": "2022-04-16T20:28:05.207275Z",
     "start_time": "2022-04-16T20:28:05.133222Z"
    }
   },
   "outputs": [],
   "source": [
    "_valid_mz_norm_features = quantile_transformer.transform(valid_mz_features)"
   ]
  },
  {
   "cell_type": "code",
   "execution_count": 39,
   "id": "c2662da6",
   "metadata": {
    "ExecuteTime": {
     "end_time": "2022-04-16T20:28:05.312513Z",
     "start_time": "2022-04-16T20:28:05.209671Z"
    }
   },
   "outputs": [],
   "source": [
    "_test_mz_norm_features = quantile_transformer.transform(test_mz_features)"
   ]
  },
  {
   "cell_type": "code",
   "execution_count": 40,
   "id": "26f3f088",
   "metadata": {
    "ExecuteTime": {
     "end_time": "2022-04-16T20:28:05.339488Z",
     "start_time": "2022-04-16T20:28:05.314240Z"
    }
   },
   "outputs": [],
   "source": [
    "train_mz_norm_features = build_dataframe_as(_train_mz_norm_features, train_mz_features)"
   ]
  },
  {
   "cell_type": "code",
   "execution_count": 41,
   "id": "3dc4033f",
   "metadata": {
    "ExecuteTime": {
     "end_time": "2022-04-16T20:28:05.362498Z",
     "start_time": "2022-04-16T20:28:05.342125Z"
    }
   },
   "outputs": [],
   "source": [
    "valid_mz_norm_features = build_dataframe_as(_valid_mz_norm_features, valid_mz_features)"
   ]
  },
  {
   "cell_type": "code",
   "execution_count": 42,
   "id": "7f6f601a",
   "metadata": {
    "ExecuteTime": {
     "end_time": "2022-04-16T20:28:05.385845Z",
     "start_time": "2022-04-16T20:28:05.364833Z"
    }
   },
   "outputs": [],
   "source": [
    "test_mz_norm_features = build_dataframe_as(_test_mz_norm_features, test_mz_features)"
   ]
  },
  {
   "cell_type": "code",
   "execution_count": 43,
   "id": "f97ab39d",
   "metadata": {
    "ExecuteTime": {
     "end_time": "2022-04-16T20:28:05.436340Z",
     "start_time": "2022-04-16T20:28:05.389383Z"
    }
   },
   "outputs": [
    {
     "data": {
      "text/html": [
       "<div>\n",
       "<style scoped>\n",
       "    .dataframe tbody tr th:only-of-type {\n",
       "        vertical-align: middle;\n",
       "    }\n",
       "\n",
       "    .dataframe tbody tr th {\n",
       "        vertical-align: top;\n",
       "    }\n",
       "\n",
       "    .dataframe thead th {\n",
       "        text-align: right;\n",
       "    }\n",
       "</style>\n",
       "<table border=\"1\" class=\"dataframe\">\n",
       "  <thead>\n",
       "    <tr style=\"text-align: right;\">\n",
       "      <th></th>\n",
       "      <th>sum_mz0</th>\n",
       "      <th>sum_mz1</th>\n",
       "      <th>sum_mz2</th>\n",
       "      <th>sum_mz3</th>\n",
       "      <th>sum_mz5</th>\n",
       "      <th>sum_mz6</th>\n",
       "      <th>sum_mz7</th>\n",
       "      <th>sum_mz8</th>\n",
       "      <th>sum_mz9</th>\n",
       "      <th>sum_mz10</th>\n",
       "      <th>...</th>\n",
       "      <th>temp_peak_mz90</th>\n",
       "      <th>temp_peak_mz91</th>\n",
       "      <th>temp_peak_mz92</th>\n",
       "      <th>temp_peak_mz93</th>\n",
       "      <th>temp_peak_mz94</th>\n",
       "      <th>temp_peak_mz95</th>\n",
       "      <th>temp_peak_mz96</th>\n",
       "      <th>temp_peak_mz97</th>\n",
       "      <th>temp_peak_mz98</th>\n",
       "      <th>temp_peak_mz99</th>\n",
       "    </tr>\n",
       "    <tr>\n",
       "      <th>sample_id</th>\n",
       "      <th></th>\n",
       "      <th></th>\n",
       "      <th></th>\n",
       "      <th></th>\n",
       "      <th></th>\n",
       "      <th></th>\n",
       "      <th></th>\n",
       "      <th></th>\n",
       "      <th></th>\n",
       "      <th></th>\n",
       "      <th></th>\n",
       "      <th></th>\n",
       "      <th></th>\n",
       "      <th></th>\n",
       "      <th></th>\n",
       "      <th></th>\n",
       "      <th></th>\n",
       "      <th></th>\n",
       "      <th></th>\n",
       "      <th></th>\n",
       "      <th></th>\n",
       "    </tr>\n",
       "  </thead>\n",
       "  <tbody>\n",
       "    <tr>\n",
       "      <th>S0000</th>\n",
       "      <td>0.340020</td>\n",
       "      <td>0.199854</td>\n",
       "      <td>0.166877</td>\n",
       "      <td>0.200833</td>\n",
       "      <td>0.199872</td>\n",
       "      <td>0.238830</td>\n",
       "      <td>0.438316</td>\n",
       "      <td>0.211829</td>\n",
       "      <td>0.388056</td>\n",
       "      <td>0.333829</td>\n",
       "      <td>...</td>\n",
       "      <td>0.089245</td>\n",
       "      <td>0.229957</td>\n",
       "      <td>0.081612</td>\n",
       "      <td>0.124142</td>\n",
       "      <td>0.203451</td>\n",
       "      <td>0.103749</td>\n",
       "      <td>0.139557</td>\n",
       "      <td>0.104356</td>\n",
       "      <td>0.081609</td>\n",
       "      <td>0.089870</td>\n",
       "    </tr>\n",
       "    <tr>\n",
       "      <th>S0001</th>\n",
       "      <td>0.000000</td>\n",
       "      <td>0.913373</td>\n",
       "      <td>0.977375</td>\n",
       "      <td>0.979591</td>\n",
       "      <td>0.816223</td>\n",
       "      <td>0.956738</td>\n",
       "      <td>0.990920</td>\n",
       "      <td>0.978159</td>\n",
       "      <td>0.984134</td>\n",
       "      <td>0.983821</td>\n",
       "      <td>...</td>\n",
       "      <td>0.000000</td>\n",
       "      <td>0.000000</td>\n",
       "      <td>0.000000</td>\n",
       "      <td>0.000000</td>\n",
       "      <td>0.000000</td>\n",
       "      <td>0.000000</td>\n",
       "      <td>0.000000</td>\n",
       "      <td>0.000000</td>\n",
       "      <td>0.000000</td>\n",
       "      <td>0.000000</td>\n",
       "    </tr>\n",
       "    <tr>\n",
       "      <th>S0002</th>\n",
       "      <td>0.410304</td>\n",
       "      <td>0.380667</td>\n",
       "      <td>0.326579</td>\n",
       "      <td>0.354215</td>\n",
       "      <td>0.328515</td>\n",
       "      <td>0.186832</td>\n",
       "      <td>0.408898</td>\n",
       "      <td>0.403704</td>\n",
       "      <td>0.505228</td>\n",
       "      <td>0.512138</td>\n",
       "      <td>...</td>\n",
       "      <td>0.927101</td>\n",
       "      <td>0.769674</td>\n",
       "      <td>0.494778</td>\n",
       "      <td>0.535845</td>\n",
       "      <td>0.238448</td>\n",
       "      <td>0.892560</td>\n",
       "      <td>0.634800</td>\n",
       "      <td>0.596683</td>\n",
       "      <td>0.238674</td>\n",
       "      <td>0.839972</td>\n",
       "    </tr>\n",
       "    <tr>\n",
       "      <th>S0003</th>\n",
       "      <td>0.244877</td>\n",
       "      <td>0.219661</td>\n",
       "      <td>0.181182</td>\n",
       "      <td>0.234663</td>\n",
       "      <td>0.219038</td>\n",
       "      <td>0.299011</td>\n",
       "      <td>0.648236</td>\n",
       "      <td>0.552235</td>\n",
       "      <td>0.677699</td>\n",
       "      <td>0.692326</td>\n",
       "      <td>...</td>\n",
       "      <td>0.763939</td>\n",
       "      <td>0.835352</td>\n",
       "      <td>0.857590</td>\n",
       "      <td>0.816360</td>\n",
       "      <td>0.334546</td>\n",
       "      <td>0.699620</td>\n",
       "      <td>0.231548</td>\n",
       "      <td>0.182711</td>\n",
       "      <td>0.918799</td>\n",
       "      <td>0.079698</td>\n",
       "    </tr>\n",
       "    <tr>\n",
       "      <th>S0004</th>\n",
       "      <td>0.501639</td>\n",
       "      <td>0.469028</td>\n",
       "      <td>0.420880</td>\n",
       "      <td>0.452981</td>\n",
       "      <td>0.476947</td>\n",
       "      <td>0.224536</td>\n",
       "      <td>0.251611</td>\n",
       "      <td>0.229189</td>\n",
       "      <td>0.279814</td>\n",
       "      <td>0.265029</td>\n",
       "      <td>...</td>\n",
       "      <td>0.783448</td>\n",
       "      <td>0.937656</td>\n",
       "      <td>0.763923</td>\n",
       "      <td>0.347323</td>\n",
       "      <td>0.456205</td>\n",
       "      <td>0.363140</td>\n",
       "      <td>0.413243</td>\n",
       "      <td>0.762212</td>\n",
       "      <td>0.614587</td>\n",
       "      <td>0.164420</td>\n",
       "    </tr>\n",
       "  </tbody>\n",
       "</table>\n",
       "<p>5 rows × 594 columns</p>\n",
       "</div>"
      ],
      "text/plain": [
       "            sum_mz0   sum_mz1   sum_mz2   sum_mz3   sum_mz5   sum_mz6  \\\n",
       "sample_id                                                               \n",
       "S0000      0.340020  0.199854  0.166877  0.200833  0.199872  0.238830   \n",
       "S0001      0.000000  0.913373  0.977375  0.979591  0.816223  0.956738   \n",
       "S0002      0.410304  0.380667  0.326579  0.354215  0.328515  0.186832   \n",
       "S0003      0.244877  0.219661  0.181182  0.234663  0.219038  0.299011   \n",
       "S0004      0.501639  0.469028  0.420880  0.452981  0.476947  0.224536   \n",
       "\n",
       "            sum_mz7   sum_mz8   sum_mz9  sum_mz10  ...  temp_peak_mz90  \\\n",
       "sample_id                                          ...                   \n",
       "S0000      0.438316  0.211829  0.388056  0.333829  ...        0.089245   \n",
       "S0001      0.990920  0.978159  0.984134  0.983821  ...        0.000000   \n",
       "S0002      0.408898  0.403704  0.505228  0.512138  ...        0.927101   \n",
       "S0003      0.648236  0.552235  0.677699  0.692326  ...        0.763939   \n",
       "S0004      0.251611  0.229189  0.279814  0.265029  ...        0.783448   \n",
       "\n",
       "           temp_peak_mz91  temp_peak_mz92  temp_peak_mz93  temp_peak_mz94  \\\n",
       "sample_id                                                                   \n",
       "S0000            0.229957        0.081612        0.124142        0.203451   \n",
       "S0001            0.000000        0.000000        0.000000        0.000000   \n",
       "S0002            0.769674        0.494778        0.535845        0.238448   \n",
       "S0003            0.835352        0.857590        0.816360        0.334546   \n",
       "S0004            0.937656        0.763923        0.347323        0.456205   \n",
       "\n",
       "           temp_peak_mz95  temp_peak_mz96  temp_peak_mz97  temp_peak_mz98  \\\n",
       "sample_id                                                                   \n",
       "S0000            0.103749        0.139557        0.104356        0.081609   \n",
       "S0001            0.000000        0.000000        0.000000        0.000000   \n",
       "S0002            0.892560        0.634800        0.596683        0.238674   \n",
       "S0003            0.699620        0.231548        0.182711        0.918799   \n",
       "S0004            0.363140        0.413243        0.762212        0.614587   \n",
       "\n",
       "           temp_peak_mz99  \n",
       "sample_id                  \n",
       "S0000            0.089870  \n",
       "S0001            0.000000  \n",
       "S0002            0.839972  \n",
       "S0003            0.079698  \n",
       "S0004            0.164420  \n",
       "\n",
       "[5 rows x 594 columns]"
      ]
     },
     "execution_count": 43,
     "metadata": {},
     "output_type": "execute_result"
    }
   ],
   "source": [
    "train_mz_norm_features.head()"
   ]
  },
  {
   "cell_type": "code",
   "execution_count": 44,
   "id": "bd8457c9",
   "metadata": {
    "ExecuteTime": {
     "end_time": "2022-04-16T20:28:05.486243Z",
     "start_time": "2022-04-16T20:28:05.439612Z"
    }
   },
   "outputs": [
    {
     "data": {
      "text/html": [
       "<div>\n",
       "<style scoped>\n",
       "    .dataframe tbody tr th:only-of-type {\n",
       "        vertical-align: middle;\n",
       "    }\n",
       "\n",
       "    .dataframe tbody tr th {\n",
       "        vertical-align: top;\n",
       "    }\n",
       "\n",
       "    .dataframe thead th {\n",
       "        text-align: right;\n",
       "    }\n",
       "</style>\n",
       "<table border=\"1\" class=\"dataframe\">\n",
       "  <thead>\n",
       "    <tr style=\"text-align: right;\">\n",
       "      <th></th>\n",
       "      <th>sum_mz0</th>\n",
       "      <th>sum_mz1</th>\n",
       "      <th>sum_mz2</th>\n",
       "      <th>sum_mz3</th>\n",
       "      <th>sum_mz5</th>\n",
       "      <th>sum_mz6</th>\n",
       "      <th>sum_mz7</th>\n",
       "      <th>sum_mz8</th>\n",
       "      <th>sum_mz9</th>\n",
       "      <th>sum_mz10</th>\n",
       "      <th>...</th>\n",
       "      <th>temp_peak_mz90</th>\n",
       "      <th>temp_peak_mz91</th>\n",
       "      <th>temp_peak_mz92</th>\n",
       "      <th>temp_peak_mz93</th>\n",
       "      <th>temp_peak_mz94</th>\n",
       "      <th>temp_peak_mz95</th>\n",
       "      <th>temp_peak_mz96</th>\n",
       "      <th>temp_peak_mz97</th>\n",
       "      <th>temp_peak_mz98</th>\n",
       "      <th>temp_peak_mz99</th>\n",
       "    </tr>\n",
       "    <tr>\n",
       "      <th>sample_id</th>\n",
       "      <th></th>\n",
       "      <th></th>\n",
       "      <th></th>\n",
       "      <th></th>\n",
       "      <th></th>\n",
       "      <th></th>\n",
       "      <th></th>\n",
       "      <th></th>\n",
       "      <th></th>\n",
       "      <th></th>\n",
       "      <th></th>\n",
       "      <th></th>\n",
       "      <th></th>\n",
       "      <th></th>\n",
       "      <th></th>\n",
       "      <th></th>\n",
       "      <th></th>\n",
       "      <th></th>\n",
       "      <th></th>\n",
       "      <th></th>\n",
       "      <th></th>\n",
       "    </tr>\n",
       "  </thead>\n",
       "  <tbody>\n",
       "    <tr>\n",
       "      <th>S0766</th>\n",
       "      <td>0.926832</td>\n",
       "      <td>0.920168</td>\n",
       "      <td>0.871866</td>\n",
       "      <td>0.897009</td>\n",
       "      <td>0.924933</td>\n",
       "      <td>0.885182</td>\n",
       "      <td>0.889630</td>\n",
       "      <td>0.759408</td>\n",
       "      <td>0.830921</td>\n",
       "      <td>0.822919</td>\n",
       "      <td>...</td>\n",
       "      <td>0.628485</td>\n",
       "      <td>0.353115</td>\n",
       "      <td>0.771318</td>\n",
       "      <td>0.955898</td>\n",
       "      <td>0.488676</td>\n",
       "      <td>0.563696</td>\n",
       "      <td>0.793204</td>\n",
       "      <td>0.362277</td>\n",
       "      <td>0.892721</td>\n",
       "      <td>0.371154</td>\n",
       "    </tr>\n",
       "    <tr>\n",
       "      <th>S0767</th>\n",
       "      <td>0.875786</td>\n",
       "      <td>0.857193</td>\n",
       "      <td>0.809102</td>\n",
       "      <td>0.840202</td>\n",
       "      <td>0.874561</td>\n",
       "      <td>0.831915</td>\n",
       "      <td>0.680906</td>\n",
       "      <td>0.508129</td>\n",
       "      <td>0.610400</td>\n",
       "      <td>0.587853</td>\n",
       "      <td>...</td>\n",
       "      <td>0.356538</td>\n",
       "      <td>0.619688</td>\n",
       "      <td>0.770417</td>\n",
       "      <td>0.982399</td>\n",
       "      <td>0.166325</td>\n",
       "      <td>0.305998</td>\n",
       "      <td>0.754846</td>\n",
       "      <td>0.591354</td>\n",
       "      <td>0.102325</td>\n",
       "      <td>0.080559</td>\n",
       "    </tr>\n",
       "    <tr>\n",
       "      <th>S0768</th>\n",
       "      <td>0.614612</td>\n",
       "      <td>0.576422</td>\n",
       "      <td>0.549181</td>\n",
       "      <td>0.580665</td>\n",
       "      <td>0.569098</td>\n",
       "      <td>0.555131</td>\n",
       "      <td>0.708918</td>\n",
       "      <td>0.730219</td>\n",
       "      <td>0.699708</td>\n",
       "      <td>0.659404</td>\n",
       "      <td>...</td>\n",
       "      <td>0.736328</td>\n",
       "      <td>0.143316</td>\n",
       "      <td>0.924046</td>\n",
       "      <td>0.659486</td>\n",
       "      <td>0.884665</td>\n",
       "      <td>0.932888</td>\n",
       "      <td>0.576274</td>\n",
       "      <td>0.237483</td>\n",
       "      <td>0.980445</td>\n",
       "      <td>0.886740</td>\n",
       "    </tr>\n",
       "    <tr>\n",
       "      <th>S0769</th>\n",
       "      <td>0.145793</td>\n",
       "      <td>0.101693</td>\n",
       "      <td>0.068192</td>\n",
       "      <td>0.111700</td>\n",
       "      <td>0.105252</td>\n",
       "      <td>0.122069</td>\n",
       "      <td>0.253158</td>\n",
       "      <td>0.114170</td>\n",
       "      <td>0.238842</td>\n",
       "      <td>0.180948</td>\n",
       "      <td>...</td>\n",
       "      <td>0.313389</td>\n",
       "      <td>0.722597</td>\n",
       "      <td>0.815900</td>\n",
       "      <td>0.171447</td>\n",
       "      <td>0.606924</td>\n",
       "      <td>0.661438</td>\n",
       "      <td>0.194324</td>\n",
       "      <td>0.898284</td>\n",
       "      <td>0.206473</td>\n",
       "      <td>0.583219</td>\n",
       "    </tr>\n",
       "    <tr>\n",
       "      <th>S0770</th>\n",
       "      <td>0.482291</td>\n",
       "      <td>0.446705</td>\n",
       "      <td>0.411472</td>\n",
       "      <td>0.443042</td>\n",
       "      <td>0.465338</td>\n",
       "      <td>0.192720</td>\n",
       "      <td>0.245275</td>\n",
       "      <td>0.254300</td>\n",
       "      <td>0.263622</td>\n",
       "      <td>0.248114</td>\n",
       "      <td>...</td>\n",
       "      <td>0.535473</td>\n",
       "      <td>0.139230</td>\n",
       "      <td>0.283708</td>\n",
       "      <td>0.550799</td>\n",
       "      <td>0.697463</td>\n",
       "      <td>0.789558</td>\n",
       "      <td>0.196901</td>\n",
       "      <td>0.139135</td>\n",
       "      <td>0.844509</td>\n",
       "      <td>0.806671</td>\n",
       "    </tr>\n",
       "  </tbody>\n",
       "</table>\n",
       "<p>5 rows × 594 columns</p>\n",
       "</div>"
      ],
      "text/plain": [
       "            sum_mz0   sum_mz1   sum_mz2   sum_mz3   sum_mz5   sum_mz6  \\\n",
       "sample_id                                                               \n",
       "S0766      0.926832  0.920168  0.871866  0.897009  0.924933  0.885182   \n",
       "S0767      0.875786  0.857193  0.809102  0.840202  0.874561  0.831915   \n",
       "S0768      0.614612  0.576422  0.549181  0.580665  0.569098  0.555131   \n",
       "S0769      0.145793  0.101693  0.068192  0.111700  0.105252  0.122069   \n",
       "S0770      0.482291  0.446705  0.411472  0.443042  0.465338  0.192720   \n",
       "\n",
       "            sum_mz7   sum_mz8   sum_mz9  sum_mz10  ...  temp_peak_mz90  \\\n",
       "sample_id                                          ...                   \n",
       "S0766      0.889630  0.759408  0.830921  0.822919  ...        0.628485   \n",
       "S0767      0.680906  0.508129  0.610400  0.587853  ...        0.356538   \n",
       "S0768      0.708918  0.730219  0.699708  0.659404  ...        0.736328   \n",
       "S0769      0.253158  0.114170  0.238842  0.180948  ...        0.313389   \n",
       "S0770      0.245275  0.254300  0.263622  0.248114  ...        0.535473   \n",
       "\n",
       "           temp_peak_mz91  temp_peak_mz92  temp_peak_mz93  temp_peak_mz94  \\\n",
       "sample_id                                                                   \n",
       "S0766            0.353115        0.771318        0.955898        0.488676   \n",
       "S0767            0.619688        0.770417        0.982399        0.166325   \n",
       "S0768            0.143316        0.924046        0.659486        0.884665   \n",
       "S0769            0.722597        0.815900        0.171447        0.606924   \n",
       "S0770            0.139230        0.283708        0.550799        0.697463   \n",
       "\n",
       "           temp_peak_mz95  temp_peak_mz96  temp_peak_mz97  temp_peak_mz98  \\\n",
       "sample_id                                                                   \n",
       "S0766            0.563696        0.793204        0.362277        0.892721   \n",
       "S0767            0.305998        0.754846        0.591354        0.102325   \n",
       "S0768            0.932888        0.576274        0.237483        0.980445   \n",
       "S0769            0.661438        0.194324        0.898284        0.206473   \n",
       "S0770            0.789558        0.196901        0.139135        0.844509   \n",
       "\n",
       "           temp_peak_mz99  \n",
       "sample_id                  \n",
       "S0766            0.371154  \n",
       "S0767            0.080559  \n",
       "S0768            0.886740  \n",
       "S0769            0.583219  \n",
       "S0770            0.806671  \n",
       "\n",
       "[5 rows x 594 columns]"
      ]
     },
     "execution_count": 44,
     "metadata": {},
     "output_type": "execute_result"
    }
   ],
   "source": [
    "valid_mz_norm_features.head()"
   ]
  },
  {
   "cell_type": "code",
   "execution_count": 45,
   "id": "eda2981b",
   "metadata": {
    "ExecuteTime": {
     "end_time": "2022-04-16T20:28:05.552679Z",
     "start_time": "2022-04-16T20:28:05.489158Z"
    }
   },
   "outputs": [
    {
     "data": {
      "text/html": [
       "<div>\n",
       "<style scoped>\n",
       "    .dataframe tbody tr th:only-of-type {\n",
       "        vertical-align: middle;\n",
       "    }\n",
       "\n",
       "    .dataframe tbody tr th {\n",
       "        vertical-align: top;\n",
       "    }\n",
       "\n",
       "    .dataframe thead th {\n",
       "        text-align: right;\n",
       "    }\n",
       "</style>\n",
       "<table border=\"1\" class=\"dataframe\">\n",
       "  <thead>\n",
       "    <tr style=\"text-align: right;\">\n",
       "      <th></th>\n",
       "      <th>sum_mz0</th>\n",
       "      <th>sum_mz1</th>\n",
       "      <th>sum_mz2</th>\n",
       "      <th>sum_mz3</th>\n",
       "      <th>sum_mz5</th>\n",
       "      <th>sum_mz6</th>\n",
       "      <th>sum_mz7</th>\n",
       "      <th>sum_mz8</th>\n",
       "      <th>sum_mz9</th>\n",
       "      <th>sum_mz10</th>\n",
       "      <th>...</th>\n",
       "      <th>temp_peak_mz90</th>\n",
       "      <th>temp_peak_mz91</th>\n",
       "      <th>temp_peak_mz92</th>\n",
       "      <th>temp_peak_mz93</th>\n",
       "      <th>temp_peak_mz94</th>\n",
       "      <th>temp_peak_mz95</th>\n",
       "      <th>temp_peak_mz96</th>\n",
       "      <th>temp_peak_mz97</th>\n",
       "      <th>temp_peak_mz98</th>\n",
       "      <th>temp_peak_mz99</th>\n",
       "    </tr>\n",
       "    <tr>\n",
       "      <th>sample_id</th>\n",
       "      <th></th>\n",
       "      <th></th>\n",
       "      <th></th>\n",
       "      <th></th>\n",
       "      <th></th>\n",
       "      <th></th>\n",
       "      <th></th>\n",
       "      <th></th>\n",
       "      <th></th>\n",
       "      <th></th>\n",
       "      <th></th>\n",
       "      <th></th>\n",
       "      <th></th>\n",
       "      <th></th>\n",
       "      <th></th>\n",
       "      <th></th>\n",
       "      <th></th>\n",
       "      <th></th>\n",
       "      <th></th>\n",
       "      <th></th>\n",
       "      <th></th>\n",
       "    </tr>\n",
       "  </thead>\n",
       "  <tbody>\n",
       "    <tr>\n",
       "      <th>S0766</th>\n",
       "      <td>0.926832</td>\n",
       "      <td>0.920168</td>\n",
       "      <td>0.871866</td>\n",
       "      <td>0.897009</td>\n",
       "      <td>0.924933</td>\n",
       "      <td>0.885182</td>\n",
       "      <td>0.889630</td>\n",
       "      <td>0.759408</td>\n",
       "      <td>0.830921</td>\n",
       "      <td>0.822919</td>\n",
       "      <td>...</td>\n",
       "      <td>0.628485</td>\n",
       "      <td>0.353115</td>\n",
       "      <td>0.771318</td>\n",
       "      <td>0.955898</td>\n",
       "      <td>0.488676</td>\n",
       "      <td>0.563696</td>\n",
       "      <td>0.793204</td>\n",
       "      <td>0.362277</td>\n",
       "      <td>0.892721</td>\n",
       "      <td>0.371154</td>\n",
       "    </tr>\n",
       "    <tr>\n",
       "      <th>S0767</th>\n",
       "      <td>0.875786</td>\n",
       "      <td>0.857193</td>\n",
       "      <td>0.809102</td>\n",
       "      <td>0.840202</td>\n",
       "      <td>0.874561</td>\n",
       "      <td>0.831915</td>\n",
       "      <td>0.680906</td>\n",
       "      <td>0.508129</td>\n",
       "      <td>0.610400</td>\n",
       "      <td>0.587853</td>\n",
       "      <td>...</td>\n",
       "      <td>0.356538</td>\n",
       "      <td>0.619688</td>\n",
       "      <td>0.770417</td>\n",
       "      <td>0.982399</td>\n",
       "      <td>0.166325</td>\n",
       "      <td>0.305998</td>\n",
       "      <td>0.754846</td>\n",
       "      <td>0.591354</td>\n",
       "      <td>0.102325</td>\n",
       "      <td>0.080559</td>\n",
       "    </tr>\n",
       "    <tr>\n",
       "      <th>S0768</th>\n",
       "      <td>0.614612</td>\n",
       "      <td>0.576422</td>\n",
       "      <td>0.549181</td>\n",
       "      <td>0.580665</td>\n",
       "      <td>0.569098</td>\n",
       "      <td>0.555131</td>\n",
       "      <td>0.708918</td>\n",
       "      <td>0.730219</td>\n",
       "      <td>0.699708</td>\n",
       "      <td>0.659404</td>\n",
       "      <td>...</td>\n",
       "      <td>0.736328</td>\n",
       "      <td>0.143316</td>\n",
       "      <td>0.924046</td>\n",
       "      <td>0.659486</td>\n",
       "      <td>0.884665</td>\n",
       "      <td>0.932888</td>\n",
       "      <td>0.576274</td>\n",
       "      <td>0.237483</td>\n",
       "      <td>0.980445</td>\n",
       "      <td>0.886740</td>\n",
       "    </tr>\n",
       "    <tr>\n",
       "      <th>S0769</th>\n",
       "      <td>0.145793</td>\n",
       "      <td>0.101693</td>\n",
       "      <td>0.068192</td>\n",
       "      <td>0.111700</td>\n",
       "      <td>0.105252</td>\n",
       "      <td>0.122069</td>\n",
       "      <td>0.253158</td>\n",
       "      <td>0.114170</td>\n",
       "      <td>0.238842</td>\n",
       "      <td>0.180948</td>\n",
       "      <td>...</td>\n",
       "      <td>0.313389</td>\n",
       "      <td>0.722597</td>\n",
       "      <td>0.815900</td>\n",
       "      <td>0.171447</td>\n",
       "      <td>0.606924</td>\n",
       "      <td>0.661438</td>\n",
       "      <td>0.194324</td>\n",
       "      <td>0.898284</td>\n",
       "      <td>0.206473</td>\n",
       "      <td>0.583219</td>\n",
       "    </tr>\n",
       "    <tr>\n",
       "      <th>S0770</th>\n",
       "      <td>0.482291</td>\n",
       "      <td>0.446705</td>\n",
       "      <td>0.411472</td>\n",
       "      <td>0.443042</td>\n",
       "      <td>0.465338</td>\n",
       "      <td>0.192720</td>\n",
       "      <td>0.245275</td>\n",
       "      <td>0.254300</td>\n",
       "      <td>0.263622</td>\n",
       "      <td>0.248114</td>\n",
       "      <td>...</td>\n",
       "      <td>0.535473</td>\n",
       "      <td>0.139230</td>\n",
       "      <td>0.283708</td>\n",
       "      <td>0.550799</td>\n",
       "      <td>0.697463</td>\n",
       "      <td>0.789558</td>\n",
       "      <td>0.196901</td>\n",
       "      <td>0.139135</td>\n",
       "      <td>0.844509</td>\n",
       "      <td>0.806671</td>\n",
       "    </tr>\n",
       "  </tbody>\n",
       "</table>\n",
       "<p>5 rows × 594 columns</p>\n",
       "</div>"
      ],
      "text/plain": [
       "            sum_mz0   sum_mz1   sum_mz2   sum_mz3   sum_mz5   sum_mz6  \\\n",
       "sample_id                                                               \n",
       "S0766      0.926832  0.920168  0.871866  0.897009  0.924933  0.885182   \n",
       "S0767      0.875786  0.857193  0.809102  0.840202  0.874561  0.831915   \n",
       "S0768      0.614612  0.576422  0.549181  0.580665  0.569098  0.555131   \n",
       "S0769      0.145793  0.101693  0.068192  0.111700  0.105252  0.122069   \n",
       "S0770      0.482291  0.446705  0.411472  0.443042  0.465338  0.192720   \n",
       "\n",
       "            sum_mz7   sum_mz8   sum_mz9  sum_mz10  ...  temp_peak_mz90  \\\n",
       "sample_id                                          ...                   \n",
       "S0766      0.889630  0.759408  0.830921  0.822919  ...        0.628485   \n",
       "S0767      0.680906  0.508129  0.610400  0.587853  ...        0.356538   \n",
       "S0768      0.708918  0.730219  0.699708  0.659404  ...        0.736328   \n",
       "S0769      0.253158  0.114170  0.238842  0.180948  ...        0.313389   \n",
       "S0770      0.245275  0.254300  0.263622  0.248114  ...        0.535473   \n",
       "\n",
       "           temp_peak_mz91  temp_peak_mz92  temp_peak_mz93  temp_peak_mz94  \\\n",
       "sample_id                                                                   \n",
       "S0766            0.353115        0.771318        0.955898        0.488676   \n",
       "S0767            0.619688        0.770417        0.982399        0.166325   \n",
       "S0768            0.143316        0.924046        0.659486        0.884665   \n",
       "S0769            0.722597        0.815900        0.171447        0.606924   \n",
       "S0770            0.139230        0.283708        0.550799        0.697463   \n",
       "\n",
       "           temp_peak_mz95  temp_peak_mz96  temp_peak_mz97  temp_peak_mz98  \\\n",
       "sample_id                                                                   \n",
       "S0766            0.563696        0.793204        0.362277        0.892721   \n",
       "S0767            0.305998        0.754846        0.591354        0.102325   \n",
       "S0768            0.932888        0.576274        0.237483        0.980445   \n",
       "S0769            0.661438        0.194324        0.898284        0.206473   \n",
       "S0770            0.789558        0.196901        0.139135        0.844509   \n",
       "\n",
       "           temp_peak_mz99  \n",
       "sample_id                  \n",
       "S0766            0.371154  \n",
       "S0767            0.080559  \n",
       "S0768            0.886740  \n",
       "S0769            0.583219  \n",
       "S0770            0.806671  \n",
       "\n",
       "[5 rows x 594 columns]"
      ]
     },
     "execution_count": 45,
     "metadata": {},
     "output_type": "execute_result"
    }
   ],
   "source": [
    "test_mz_norm_features.head()"
   ]
  },
  {
   "cell_type": "code",
   "execution_count": 46,
   "id": "0c65a5a8",
   "metadata": {
    "ExecuteTime": {
     "end_time": "2022-04-16T20:28:05.577704Z",
     "start_time": "2022-04-16T20:28:05.555971Z"
    }
   },
   "outputs": [],
   "source": [
    "### saving"
   ]
  },
  {
   "cell_type": "code",
   "execution_count": 47,
   "id": "6e05f8db",
   "metadata": {
    "ExecuteTime": {
     "end_time": "2022-04-16T20:28:05.605636Z",
     "start_time": "2022-04-16T20:28:05.580397Z"
    }
   },
   "outputs": [],
   "source": [
    "train_dir = Path(dirs['train'])\n",
    "valid_dir = Path(dirs['valid'])\n",
    "test_dir = Path(dirs['test'])"
   ]
  },
  {
   "cell_type": "code",
   "execution_count": 48,
   "id": "8869c975",
   "metadata": {
    "ExecuteTime": {
     "end_time": "2022-04-16T20:28:06.781857Z",
     "start_time": "2022-04-16T20:28:05.609473Z"
    }
   },
   "outputs": [],
   "source": [
    "train_mz_norm_features.to_csv(train_dir / 'mz_agg_features.csv', index=True)\n",
    "(\n",
    "    train_mz_norm_features\n",
    "    .drop(high_correlated_features, axis=1)\n",
    "    .to_csv(train_dir / 'mz_agg_features_drop_correlated.csv', index=True)\n",
    ")"
   ]
  },
  {
   "cell_type": "code",
   "execution_count": 49,
   "id": "1100ddbe",
   "metadata": {
    "ExecuteTime": {
     "end_time": "2022-04-16T20:28:07.254277Z",
     "start_time": "2022-04-16T20:28:06.784846Z"
    }
   },
   "outputs": [],
   "source": [
    "valid_mz_norm_features.to_csv(valid_dir / 'mz_agg_features.csv', index=True)\n",
    "(\n",
    "    valid_mz_norm_features\n",
    "    .drop(high_correlated_features, axis=1)\n",
    "    .to_csv(valid_dir / 'mz_agg_features_drop_correlated.csv', index=True)\n",
    ")"
   ]
  },
  {
   "cell_type": "code",
   "execution_count": 50,
   "id": "b568868f",
   "metadata": {
    "ExecuteTime": {
     "end_time": "2022-04-16T20:28:08.429317Z",
     "start_time": "2022-04-16T20:28:07.257384Z"
    }
   },
   "outputs": [],
   "source": [
    "test_mz_norm_features.to_csv(test_dir / 'mz_agg_features.csv', index=True)\n",
    "(\n",
    "    test_mz_norm_features\n",
    "    .drop(high_correlated_features, axis=1)\n",
    "    .to_csv(test_dir / 'mz_agg_features_drop_correlated.csv', index=True)\n",
    ")"
   ]
  },
  {
   "cell_type": "code",
   "execution_count": null,
   "id": "ba9ec0d7",
   "metadata": {},
   "outputs": [],
   "source": []
  }
 ],
 "metadata": {
  "kernelspec": {
   "display_name": "Python 3 (ipykernel)",
   "language": "python",
   "name": "python3"
  },
  "language_info": {
   "codemirror_mode": {
    "name": "ipython",
    "version": 3
   },
   "file_extension": ".py",
   "mimetype": "text/x-python",
   "name": "python",
   "nbconvert_exporter": "python",
   "pygments_lexer": "ipython3",
   "version": "3.8.8"
  },
  "toc": {
   "base_numbering": 1,
   "nav_menu": {},
   "number_sections": true,
   "sideBar": true,
   "skip_h1_title": false,
   "title_cell": "Table of Contents",
   "title_sidebar": "Contents",
   "toc_cell": false,
   "toc_position": {},
   "toc_section_display": true,
   "toc_window_display": false
  }
 },
 "nbformat": 4,
 "nbformat_minor": 5
}
