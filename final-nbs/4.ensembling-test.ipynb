{
 "cells": [
  {
   "cell_type": "code",
   "execution_count": 1,
   "id": "2356f65b",
   "metadata": {
    "ExecuteTime": {
     "end_time": "2022-04-17T16:00:27.484526Z",
     "start_time": "2022-04-17T16:00:27.466079Z"
    }
   },
   "outputs": [],
   "source": [
    "%load_ext autoreload\n",
    "%autoreload 2"
   ]
  },
  {
   "cell_type": "code",
   "execution_count": 2,
   "id": "09d5bff1",
   "metadata": {
    "ExecuteTime": {
     "end_time": "2022-04-17T16:00:28.533903Z",
     "start_time": "2022-04-17T16:00:27.487821Z"
    }
   },
   "outputs": [],
   "source": [
    "from pathlib import Path\n",
    "import pandas as pd\n",
    "import numpy as np\n",
    "from matplotlib import pyplot as plt\n",
    "import seaborn as sns\n",
    "import os"
   ]
  },
  {
   "cell_type": "code",
   "execution_count": 3,
   "id": "875d884c",
   "metadata": {
    "ExecuteTime": {
     "end_time": "2022-04-17T16:00:28.551954Z",
     "start_time": "2022-04-17T16:00:28.536048Z"
    }
   },
   "outputs": [],
   "source": [
    "PROJECT_DIR = os.path.abspath('.')\n",
    "if PROJECT_DIR.endswith('final-nbs'):\n",
    "    PROJECT_DIR = os.path.abspath('../')\n",
    "    os.chdir(PROJECT_DIR)"
   ]
  },
  {
   "cell_type": "code",
   "execution_count": 4,
   "id": "97271405",
   "metadata": {
    "ExecuteTime": {
     "end_time": "2022-04-17T16:00:28.615706Z",
     "start_time": "2022-04-17T16:00:28.555406Z"
    }
   },
   "outputs": [],
   "source": [
    "import cfg\n",
    "from src.data import get_features_path_from_metadata, join_dataframe_columns\n",
    "from src import util\n",
    "from src.data import setup_directories\n",
    "util.setup_logging()\n",
    "\n",
    "dirs = setup_directories(cfg.DATA_DIR, create_dirs=True)"
   ]
  },
  {
   "cell_type": "code",
   "execution_count": 5,
   "id": "9eb14b97",
   "metadata": {
    "ExecuteTime": {
     "end_time": "2022-04-17T16:00:28.634689Z",
     "start_time": "2022-04-17T16:00:28.618029Z"
    }
   },
   "outputs": [],
   "source": [
    "raw_dir = Path(dirs['raw'])\n",
    "train_dir = Path(dirs['train'])\n",
    "# cv_dir = Path(dirs['cv']['test'])"
   ]
  },
  {
   "cell_type": "code",
   "execution_count": 6,
   "id": "f426d36d",
   "metadata": {
    "ExecuteTime": {
     "end_time": "2022-04-17T16:00:28.654472Z",
     "start_time": "2022-04-17T16:00:28.636671Z"
    }
   },
   "outputs": [],
   "source": [
    "sub_dir = Path(dirs['submission'])"
   ]
  },
  {
   "cell_type": "code",
   "execution_count": 7,
   "id": "a73f284a",
   "metadata": {
    "ExecuteTime": {
     "end_time": "2022-04-17T16:00:28.679993Z",
     "start_time": "2022-04-17T16:00:28.657283Z"
    }
   },
   "outputs": [],
   "source": [
    "train_target = pd.read_csv(raw_dir / 'train_labels.csv', index_col='sample_id')"
   ]
  },
  {
   "cell_type": "code",
   "execution_count": 8,
   "id": "445b87cd",
   "metadata": {
    "ExecuteTime": {
     "end_time": "2022-04-17T16:00:28.710035Z",
     "start_time": "2022-04-17T16:00:28.683347Z"
    }
   },
   "outputs": [],
   "source": [
    "train_lgbm = pd.read_csv(sub_dir.joinpath('lgbm', 'test', 'train.csv'), index_col='sample_id')\n"
   ]
  },
  {
   "cell_type": "code",
   "execution_count": 9,
   "id": "75cc379c",
   "metadata": {
    "ExecuteTime": {
     "end_time": "2022-04-17T16:00:28.739421Z",
     "start_time": "2022-04-17T16:00:28.712306Z"
    }
   },
   "outputs": [],
   "source": [
    "train_opt_lgbm = pd.read_csv(sub_dir.joinpath('optimized-iteration-lgbm', 'test', 'train.csv'), index_col='sample_id')"
   ]
  },
  {
   "cell_type": "code",
   "execution_count": 10,
   "id": "16f2096f",
   "metadata": {
    "ExecuteTime": {
     "end_time": "2022-04-17T16:00:28.770637Z",
     "start_time": "2022-04-17T16:00:28.745523Z"
    }
   },
   "outputs": [],
   "source": [
    "train_svm = pd.read_csv(sub_dir.joinpath('svm', 'test', 'train.csv'), index_col='sample_id')"
   ]
  },
  {
   "cell_type": "code",
   "execution_count": 11,
   "id": "d14294aa",
   "metadata": {
    "ExecuteTime": {
     "end_time": "2022-04-17T16:00:28.795173Z",
     "start_time": "2022-04-17T16:00:28.772264Z"
    }
   },
   "outputs": [],
   "source": [
    "train_preds = {'lgbm': train_lgbm, 'svm': train_svm, 'lgbm_opt': train_opt_lgbm}"
   ]
  },
  {
   "cell_type": "code",
   "execution_count": 12,
   "id": "e8296eee",
   "metadata": {
    "ExecuteTime": {
     "end_time": "2022-04-17T16:00:28.897362Z",
     "start_time": "2022-04-17T16:00:28.797893Z"
    }
   },
   "outputs": [],
   "source": [
    "from src.metrics import compute_scores"
   ]
  },
  {
   "cell_type": "code",
   "execution_count": 13,
   "id": "65ca48c9",
   "metadata": {
    "ExecuteTime": {
     "end_time": "2022-04-17T16:00:28.925115Z",
     "start_time": "2022-04-17T16:00:28.899669Z"
    }
   },
   "outputs": [],
   "source": [
    "valid_target = pd.read_csv(raw_dir / 'val_labels.csv', index_col='sample_id')"
   ]
  },
  {
   "cell_type": "code",
   "execution_count": 14,
   "id": "5c2fa983",
   "metadata": {
    "ExecuteTime": {
     "end_time": "2022-04-17T16:00:28.945417Z",
     "start_time": "2022-04-17T16:00:28.929555Z"
    }
   },
   "outputs": [],
   "source": [
    "train_target = train_target.append(valid_target)"
   ]
  },
  {
   "cell_type": "code",
   "execution_count": 15,
   "id": "f2b60409",
   "metadata": {
    "ExecuteTime": {
     "end_time": "2022-04-17T16:00:28.970542Z",
     "start_time": "2022-04-17T16:00:28.947855Z"
    }
   },
   "outputs": [],
   "source": [
    "valid_lgbm = pd.read_csv(sub_dir.joinpath('lgbm', 'test', 'submission.csv'), index_col='sample_id')\n",
    "valid_lgbm = valid_lgbm.loc[valid_target.index]"
   ]
  },
  {
   "cell_type": "code",
   "execution_count": 16,
   "id": "2c5fe11e",
   "metadata": {
    "ExecuteTime": {
     "end_time": "2022-04-17T16:00:28.993438Z",
     "start_time": "2022-04-17T16:00:28.972700Z"
    }
   },
   "outputs": [],
   "source": [
    "valid_svm = pd.read_csv(sub_dir.joinpath('svm', 'test', 'submission.csv'), index_col='sample_id')\n",
    "valid_svm = valid_svm.loc[valid_target.index]"
   ]
  },
  {
   "cell_type": "code",
   "execution_count": 17,
   "id": "109c00ba",
   "metadata": {
    "ExecuteTime": {
     "end_time": "2022-04-17T16:00:29.015299Z",
     "start_time": "2022-04-17T16:00:28.995362Z"
    }
   },
   "outputs": [],
   "source": [
    "valid_opt_lgbm = pd.read_csv(sub_dir.joinpath('optimized-iteration-lgbm', 'test', 'submission.csv'), index_col='sample_id')\n",
    "valid_opt_lgbm = valid_opt_lgbm.loc[valid_target.index]"
   ]
  },
  {
   "cell_type": "code",
   "execution_count": 18,
   "id": "18c0f9b8",
   "metadata": {
    "ExecuteTime": {
     "end_time": "2022-04-17T16:00:29.033370Z",
     "start_time": "2022-04-17T16:00:29.017446Z"
    }
   },
   "outputs": [],
   "source": [
    "valid_preds = {'lgbm': valid_lgbm, 'svm': valid_svm, 'lgbm_opt': valid_opt_lgbm}"
   ]
  },
  {
   "cell_type": "code",
   "execution_count": 19,
   "id": "491f25c8",
   "metadata": {
    "ExecuteTime": {
     "end_time": "2022-04-17T16:00:29.090553Z",
     "start_time": "2022-04-17T16:00:29.035594Z"
    }
   },
   "outputs": [],
   "source": [
    "train_scores = {model: compute_scores(train_target.loc[pred.index], pred) for model, pred in train_preds.items()}\n",
    "train_scores = pd.DataFrame(train_scores).T.sort_values(by=['avg_loss'])"
   ]
  },
  {
   "cell_type": "code",
   "execution_count": 20,
   "id": "6e8f9707",
   "metadata": {
    "ExecuteTime": {
     "end_time": "2022-04-17T16:00:29.131774Z",
     "start_time": "2022-04-17T16:00:29.092600Z"
    }
   },
   "outputs": [],
   "source": [
    "valid_scores = {model: compute_scores(valid_target, pred) for model, pred in valid_preds.items()}\n",
    "valid_scores = pd.DataFrame(valid_scores).T.sort_values(by=['avg_loss'])"
   ]
  },
  {
   "cell_type": "code",
   "execution_count": 21,
   "id": "8c7044f0",
   "metadata": {
    "ExecuteTime": {
     "end_time": "2022-04-17T16:00:29.164397Z",
     "start_time": "2022-04-17T16:00:29.133835Z"
    }
   },
   "outputs": [
    {
     "data": {
      "text/html": [
       "<div>\n",
       "<style scoped>\n",
       "    .dataframe tbody tr th:only-of-type {\n",
       "        vertical-align: middle;\n",
       "    }\n",
       "\n",
       "    .dataframe tbody tr th {\n",
       "        vertical-align: top;\n",
       "    }\n",
       "\n",
       "    .dataframe thead th {\n",
       "        text-align: right;\n",
       "    }\n",
       "</style>\n",
       "<table border=\"1\" class=\"dataframe\">\n",
       "  <thead>\n",
       "    <tr style=\"text-align: right;\">\n",
       "      <th></th>\n",
       "      <th>avg_loss</th>\n",
       "      <th>basalt</th>\n",
       "      <th>carbonate</th>\n",
       "      <th>chloride</th>\n",
       "      <th>iron_oxide</th>\n",
       "      <th>oxalate</th>\n",
       "      <th>oxychlorine</th>\n",
       "      <th>phyllosilicate</th>\n",
       "      <th>silicate</th>\n",
       "      <th>sulfate</th>\n",
       "      <th>sulfide</th>\n",
       "    </tr>\n",
       "  </thead>\n",
       "  <tbody>\n",
       "    <tr>\n",
       "      <th>lgbm</th>\n",
       "      <td>0.123033</td>\n",
       "      <td>0.112934</td>\n",
       "      <td>0.075054</td>\n",
       "      <td>0.142676</td>\n",
       "      <td>0.171334</td>\n",
       "      <td>0.019852</td>\n",
       "      <td>0.122836</td>\n",
       "      <td>0.203351</td>\n",
       "      <td>0.165224</td>\n",
       "      <td>0.164438</td>\n",
       "      <td>0.052632</td>\n",
       "    </tr>\n",
       "    <tr>\n",
       "      <th>lgbm_opt</th>\n",
       "      <td>0.124146</td>\n",
       "      <td>0.116908</td>\n",
       "      <td>0.073997</td>\n",
       "      <td>0.140968</td>\n",
       "      <td>0.175924</td>\n",
       "      <td>0.017923</td>\n",
       "      <td>0.129259</td>\n",
       "      <td>0.208687</td>\n",
       "      <td>0.169079</td>\n",
       "      <td>0.161119</td>\n",
       "      <td>0.047599</td>\n",
       "    </tr>\n",
       "    <tr>\n",
       "      <th>svm</th>\n",
       "      <td>0.129573</td>\n",
       "      <td>0.112703</td>\n",
       "      <td>0.070896</td>\n",
       "      <td>0.142835</td>\n",
       "      <td>0.184871</td>\n",
       "      <td>0.020418</td>\n",
       "      <td>0.149817</td>\n",
       "      <td>0.220952</td>\n",
       "      <td>0.168192</td>\n",
       "      <td>0.169584</td>\n",
       "      <td>0.055462</td>\n",
       "    </tr>\n",
       "  </tbody>\n",
       "</table>\n",
       "</div>"
      ],
      "text/plain": [
       "          avg_loss    basalt  carbonate  chloride  iron_oxide   oxalate  \\\n",
       "lgbm      0.123033  0.112934   0.075054  0.142676    0.171334  0.019852   \n",
       "lgbm_opt  0.124146  0.116908   0.073997  0.140968    0.175924  0.017923   \n",
       "svm       0.129573  0.112703   0.070896  0.142835    0.184871  0.020418   \n",
       "\n",
       "          oxychlorine  phyllosilicate  silicate   sulfate   sulfide  \n",
       "lgbm         0.122836        0.203351  0.165224  0.164438  0.052632  \n",
       "lgbm_opt     0.129259        0.208687  0.169079  0.161119  0.047599  \n",
       "svm          0.149817        0.220952  0.168192  0.169584  0.055462  "
      ]
     },
     "execution_count": 21,
     "metadata": {},
     "output_type": "execute_result"
    }
   ],
   "source": [
    "train_scores"
   ]
  },
  {
   "cell_type": "code",
   "execution_count": 22,
   "id": "4d9dbc5f",
   "metadata": {
    "ExecuteTime": {
     "end_time": "2022-04-17T16:00:29.194261Z",
     "start_time": "2022-04-17T16:00:29.166739Z"
    }
   },
   "outputs": [
    {
     "data": {
      "text/html": [
       "<div>\n",
       "<style scoped>\n",
       "    .dataframe tbody tr th:only-of-type {\n",
       "        vertical-align: middle;\n",
       "    }\n",
       "\n",
       "    .dataframe tbody tr th {\n",
       "        vertical-align: top;\n",
       "    }\n",
       "\n",
       "    .dataframe thead th {\n",
       "        text-align: right;\n",
       "    }\n",
       "</style>\n",
       "<table border=\"1\" class=\"dataframe\">\n",
       "  <thead>\n",
       "    <tr style=\"text-align: right;\">\n",
       "      <th></th>\n",
       "      <th>avg_loss</th>\n",
       "      <th>basalt</th>\n",
       "      <th>carbonate</th>\n",
       "      <th>chloride</th>\n",
       "      <th>iron_oxide</th>\n",
       "      <th>oxalate</th>\n",
       "      <th>oxychlorine</th>\n",
       "      <th>phyllosilicate</th>\n",
       "      <th>silicate</th>\n",
       "      <th>sulfate</th>\n",
       "      <th>sulfide</th>\n",
       "    </tr>\n",
       "  </thead>\n",
       "  <tbody>\n",
       "    <tr>\n",
       "      <th>lgbm</th>\n",
       "      <td>0.011356</td>\n",
       "      <td>0.009279</td>\n",
       "      <td>0.008047</td>\n",
       "      <td>0.012732</td>\n",
       "      <td>0.018075</td>\n",
       "      <td>0.003405</td>\n",
       "      <td>0.012662</td>\n",
       "      <td>0.019244</td>\n",
       "      <td>0.013331</td>\n",
       "      <td>0.012231</td>\n",
       "      <td>0.004557</td>\n",
       "    </tr>\n",
       "    <tr>\n",
       "      <th>lgbm_opt</th>\n",
       "      <td>0.012527</td>\n",
       "      <td>0.010552</td>\n",
       "      <td>0.008443</td>\n",
       "      <td>0.013987</td>\n",
       "      <td>0.018131</td>\n",
       "      <td>0.002112</td>\n",
       "      <td>0.014116</td>\n",
       "      <td>0.020631</td>\n",
       "      <td>0.017538</td>\n",
       "      <td>0.014867</td>\n",
       "      <td>0.004896</td>\n",
       "    </tr>\n",
       "    <tr>\n",
       "      <th>svm</th>\n",
       "      <td>0.020796</td>\n",
       "      <td>0.016009</td>\n",
       "      <td>0.011276</td>\n",
       "      <td>0.019781</td>\n",
       "      <td>0.029791</td>\n",
       "      <td>0.004125</td>\n",
       "      <td>0.021299</td>\n",
       "      <td>0.033165</td>\n",
       "      <td>0.037267</td>\n",
       "      <td>0.026093</td>\n",
       "      <td>0.009156</td>\n",
       "    </tr>\n",
       "  </tbody>\n",
       "</table>\n",
       "</div>"
      ],
      "text/plain": [
       "          avg_loss    basalt  carbonate  chloride  iron_oxide   oxalate  \\\n",
       "lgbm      0.011356  0.009279   0.008047  0.012732    0.018075  0.003405   \n",
       "lgbm_opt  0.012527  0.010552   0.008443  0.013987    0.018131  0.002112   \n",
       "svm       0.020796  0.016009   0.011276  0.019781    0.029791  0.004125   \n",
       "\n",
       "          oxychlorine  phyllosilicate  silicate   sulfate   sulfide  \n",
       "lgbm         0.012662        0.019244  0.013331  0.012231  0.004557  \n",
       "lgbm_opt     0.014116        0.020631  0.017538  0.014867  0.004896  \n",
       "svm          0.021299        0.033165  0.037267  0.026093  0.009156  "
      ]
     },
     "execution_count": 22,
     "metadata": {},
     "output_type": "execute_result"
    }
   ],
   "source": [
    "valid_scores"
   ]
  },
  {
   "cell_type": "code",
   "execution_count": 23,
   "id": "c1b850d7",
   "metadata": {
    "ExecuteTime": {
     "end_time": "2022-04-17T16:00:29.221426Z",
     "start_time": "2022-04-17T16:00:29.197042Z"
    }
   },
   "outputs": [],
   "source": [
    "joined_scores = train_scores.assign(set_type='train').append(valid_scores.assign(set_type='valid'))\n",
    "\n",
    "joined_scores = (\n",
    "    joined_scores\n",
    "    .reset_index()\n",
    "    .rename(columns={'index': 'model'})\n",
    "    .pivot('model', 'set_type')\n",
    ")"
   ]
  },
  {
   "cell_type": "code",
   "execution_count": 24,
   "id": "6b23c56c",
   "metadata": {
    "ExecuteTime": {
     "end_time": "2022-04-17T16:00:29.257194Z",
     "start_time": "2022-04-17T16:00:29.223793Z"
    }
   },
   "outputs": [
    {
     "data": {
      "text/html": [
       "<div>\n",
       "<style scoped>\n",
       "    .dataframe tbody tr th:only-of-type {\n",
       "        vertical-align: middle;\n",
       "    }\n",
       "\n",
       "    .dataframe tbody tr th {\n",
       "        vertical-align: top;\n",
       "    }\n",
       "\n",
       "    .dataframe thead th {\n",
       "        text-align: right;\n",
       "    }\n",
       "</style>\n",
       "<table border=\"1\" class=\"dataframe\">\n",
       "  <thead>\n",
       "    <tr style=\"text-align: right;\">\n",
       "      <th></th>\n",
       "      <th>model</th>\n",
       "      <th>lgbm</th>\n",
       "      <th>lgbm_opt</th>\n",
       "      <th>svm</th>\n",
       "    </tr>\n",
       "    <tr>\n",
       "      <th></th>\n",
       "      <th>set_type</th>\n",
       "      <th></th>\n",
       "      <th></th>\n",
       "      <th></th>\n",
       "    </tr>\n",
       "  </thead>\n",
       "  <tbody>\n",
       "    <tr>\n",
       "      <th rowspan=\"2\" valign=\"top\">avg_loss</th>\n",
       "      <th>train</th>\n",
       "      <td>0.123033</td>\n",
       "      <td>0.124146</td>\n",
       "      <td>0.129573</td>\n",
       "    </tr>\n",
       "    <tr>\n",
       "      <th>valid</th>\n",
       "      <td>0.011356</td>\n",
       "      <td>0.012527</td>\n",
       "      <td>0.020796</td>\n",
       "    </tr>\n",
       "    <tr>\n",
       "      <th rowspan=\"2\" valign=\"top\">basalt</th>\n",
       "      <th>train</th>\n",
       "      <td>0.112934</td>\n",
       "      <td>0.116908</td>\n",
       "      <td>0.112703</td>\n",
       "    </tr>\n",
       "    <tr>\n",
       "      <th>valid</th>\n",
       "      <td>0.009279</td>\n",
       "      <td>0.010552</td>\n",
       "      <td>0.016009</td>\n",
       "    </tr>\n",
       "    <tr>\n",
       "      <th rowspan=\"2\" valign=\"top\">carbonate</th>\n",
       "      <th>train</th>\n",
       "      <td>0.075054</td>\n",
       "      <td>0.073997</td>\n",
       "      <td>0.070896</td>\n",
       "    </tr>\n",
       "    <tr>\n",
       "      <th>valid</th>\n",
       "      <td>0.008047</td>\n",
       "      <td>0.008443</td>\n",
       "      <td>0.011276</td>\n",
       "    </tr>\n",
       "    <tr>\n",
       "      <th rowspan=\"2\" valign=\"top\">chloride</th>\n",
       "      <th>train</th>\n",
       "      <td>0.142676</td>\n",
       "      <td>0.140968</td>\n",
       "      <td>0.142835</td>\n",
       "    </tr>\n",
       "    <tr>\n",
       "      <th>valid</th>\n",
       "      <td>0.012732</td>\n",
       "      <td>0.013987</td>\n",
       "      <td>0.019781</td>\n",
       "    </tr>\n",
       "    <tr>\n",
       "      <th rowspan=\"2\" valign=\"top\">iron_oxide</th>\n",
       "      <th>train</th>\n",
       "      <td>0.171334</td>\n",
       "      <td>0.175924</td>\n",
       "      <td>0.184871</td>\n",
       "    </tr>\n",
       "    <tr>\n",
       "      <th>valid</th>\n",
       "      <td>0.018075</td>\n",
       "      <td>0.018131</td>\n",
       "      <td>0.029791</td>\n",
       "    </tr>\n",
       "    <tr>\n",
       "      <th rowspan=\"2\" valign=\"top\">oxalate</th>\n",
       "      <th>train</th>\n",
       "      <td>0.019852</td>\n",
       "      <td>0.017923</td>\n",
       "      <td>0.020418</td>\n",
       "    </tr>\n",
       "    <tr>\n",
       "      <th>valid</th>\n",
       "      <td>0.003405</td>\n",
       "      <td>0.002112</td>\n",
       "      <td>0.004125</td>\n",
       "    </tr>\n",
       "    <tr>\n",
       "      <th rowspan=\"2\" valign=\"top\">oxychlorine</th>\n",
       "      <th>train</th>\n",
       "      <td>0.122836</td>\n",
       "      <td>0.129259</td>\n",
       "      <td>0.149817</td>\n",
       "    </tr>\n",
       "    <tr>\n",
       "      <th>valid</th>\n",
       "      <td>0.012662</td>\n",
       "      <td>0.014116</td>\n",
       "      <td>0.021299</td>\n",
       "    </tr>\n",
       "    <tr>\n",
       "      <th rowspan=\"2\" valign=\"top\">phyllosilicate</th>\n",
       "      <th>train</th>\n",
       "      <td>0.203351</td>\n",
       "      <td>0.208687</td>\n",
       "      <td>0.220952</td>\n",
       "    </tr>\n",
       "    <tr>\n",
       "      <th>valid</th>\n",
       "      <td>0.019244</td>\n",
       "      <td>0.020631</td>\n",
       "      <td>0.033165</td>\n",
       "    </tr>\n",
       "    <tr>\n",
       "      <th rowspan=\"2\" valign=\"top\">silicate</th>\n",
       "      <th>train</th>\n",
       "      <td>0.165224</td>\n",
       "      <td>0.169079</td>\n",
       "      <td>0.168192</td>\n",
       "    </tr>\n",
       "    <tr>\n",
       "      <th>valid</th>\n",
       "      <td>0.013331</td>\n",
       "      <td>0.017538</td>\n",
       "      <td>0.037267</td>\n",
       "    </tr>\n",
       "    <tr>\n",
       "      <th rowspan=\"2\" valign=\"top\">sulfate</th>\n",
       "      <th>train</th>\n",
       "      <td>0.164438</td>\n",
       "      <td>0.161119</td>\n",
       "      <td>0.169584</td>\n",
       "    </tr>\n",
       "    <tr>\n",
       "      <th>valid</th>\n",
       "      <td>0.012231</td>\n",
       "      <td>0.014867</td>\n",
       "      <td>0.026093</td>\n",
       "    </tr>\n",
       "    <tr>\n",
       "      <th rowspan=\"2\" valign=\"top\">sulfide</th>\n",
       "      <th>train</th>\n",
       "      <td>0.052632</td>\n",
       "      <td>0.047599</td>\n",
       "      <td>0.055462</td>\n",
       "    </tr>\n",
       "    <tr>\n",
       "      <th>valid</th>\n",
       "      <td>0.004557</td>\n",
       "      <td>0.004896</td>\n",
       "      <td>0.009156</td>\n",
       "    </tr>\n",
       "  </tbody>\n",
       "</table>\n",
       "</div>"
      ],
      "text/plain": [
       "model                        lgbm  lgbm_opt       svm\n",
       "               set_type                              \n",
       "avg_loss       train     0.123033  0.124146  0.129573\n",
       "               valid     0.011356  0.012527  0.020796\n",
       "basalt         train     0.112934  0.116908  0.112703\n",
       "               valid     0.009279  0.010552  0.016009\n",
       "carbonate      train     0.075054  0.073997  0.070896\n",
       "               valid     0.008047  0.008443  0.011276\n",
       "chloride       train     0.142676  0.140968  0.142835\n",
       "               valid     0.012732  0.013987  0.019781\n",
       "iron_oxide     train     0.171334  0.175924  0.184871\n",
       "               valid     0.018075  0.018131  0.029791\n",
       "oxalate        train     0.019852  0.017923  0.020418\n",
       "               valid     0.003405  0.002112  0.004125\n",
       "oxychlorine    train     0.122836  0.129259  0.149817\n",
       "               valid     0.012662  0.014116  0.021299\n",
       "phyllosilicate train     0.203351  0.208687  0.220952\n",
       "               valid     0.019244  0.020631  0.033165\n",
       "silicate       train     0.165224  0.169079  0.168192\n",
       "               valid     0.013331  0.017538  0.037267\n",
       "sulfate        train     0.164438  0.161119  0.169584\n",
       "               valid     0.012231  0.014867  0.026093\n",
       "sulfide        train     0.052632  0.047599  0.055462\n",
       "               valid     0.004557  0.004896  0.009156"
      ]
     },
     "execution_count": 24,
     "metadata": {},
     "output_type": "execute_result"
    }
   ],
   "source": [
    "joined_scores.T"
   ]
  },
  {
   "cell_type": "markdown",
   "id": "78a24cc1",
   "metadata": {},
   "source": [
    "opt model makes to much overfit, lets drop it"
   ]
  },
  {
   "cell_type": "code",
   "execution_count": 25,
   "id": "dd665812",
   "metadata": {
    "ExecuteTime": {
     "end_time": "2022-04-17T16:00:29.293063Z",
     "start_time": "2022-04-17T16:00:29.262421Z"
    }
   },
   "outputs": [
    {
     "data": {
      "text/html": [
       "<div>\n",
       "<style scoped>\n",
       "    .dataframe tbody tr th:only-of-type {\n",
       "        vertical-align: middle;\n",
       "    }\n",
       "\n",
       "    .dataframe tbody tr th {\n",
       "        vertical-align: top;\n",
       "    }\n",
       "\n",
       "    .dataframe thead th {\n",
       "        text-align: right;\n",
       "    }\n",
       "</style>\n",
       "<table border=\"1\" class=\"dataframe\">\n",
       "  <thead>\n",
       "    <tr style=\"text-align: right;\">\n",
       "      <th></th>\n",
       "      <th>avg_loss</th>\n",
       "      <th>basalt</th>\n",
       "      <th>carbonate</th>\n",
       "      <th>chloride</th>\n",
       "      <th>iron_oxide</th>\n",
       "      <th>oxalate</th>\n",
       "      <th>oxychlorine</th>\n",
       "      <th>phyllosilicate</th>\n",
       "      <th>silicate</th>\n",
       "      <th>sulfate</th>\n",
       "      <th>sulfide</th>\n",
       "    </tr>\n",
       "  </thead>\n",
       "  <tbody>\n",
       "    <tr>\n",
       "      <th>lgbm</th>\n",
       "      <td>0.123033</td>\n",
       "      <td>0.112934</td>\n",
       "      <td>0.075054</td>\n",
       "      <td>0.142676</td>\n",
       "      <td>0.171334</td>\n",
       "      <td>0.019852</td>\n",
       "      <td>0.122836</td>\n",
       "      <td>0.203351</td>\n",
       "      <td>0.165224</td>\n",
       "      <td>0.164438</td>\n",
       "      <td>0.052632</td>\n",
       "    </tr>\n",
       "    <tr>\n",
       "      <th>lgbm_opt</th>\n",
       "      <td>0.124146</td>\n",
       "      <td>0.116908</td>\n",
       "      <td>0.073997</td>\n",
       "      <td>0.140968</td>\n",
       "      <td>0.175924</td>\n",
       "      <td>0.017923</td>\n",
       "      <td>0.129259</td>\n",
       "      <td>0.208687</td>\n",
       "      <td>0.169079</td>\n",
       "      <td>0.161119</td>\n",
       "      <td>0.047599</td>\n",
       "    </tr>\n",
       "    <tr>\n",
       "      <th>svm</th>\n",
       "      <td>0.129573</td>\n",
       "      <td>0.112703</td>\n",
       "      <td>0.070896</td>\n",
       "      <td>0.142835</td>\n",
       "      <td>0.184871</td>\n",
       "      <td>0.020418</td>\n",
       "      <td>0.149817</td>\n",
       "      <td>0.220952</td>\n",
       "      <td>0.168192</td>\n",
       "      <td>0.169584</td>\n",
       "      <td>0.055462</td>\n",
       "    </tr>\n",
       "  </tbody>\n",
       "</table>\n",
       "</div>"
      ],
      "text/plain": [
       "          avg_loss    basalt  carbonate  chloride  iron_oxide   oxalate  \\\n",
       "lgbm      0.123033  0.112934   0.075054  0.142676    0.171334  0.019852   \n",
       "lgbm_opt  0.124146  0.116908   0.073997  0.140968    0.175924  0.017923   \n",
       "svm       0.129573  0.112703   0.070896  0.142835    0.184871  0.020418   \n",
       "\n",
       "          oxychlorine  phyllosilicate  silicate   sulfate   sulfide  \n",
       "lgbm         0.122836        0.203351  0.165224  0.164438  0.052632  \n",
       "lgbm_opt     0.129259        0.208687  0.169079  0.161119  0.047599  \n",
       "svm          0.149817        0.220952  0.168192  0.169584  0.055462  "
      ]
     },
     "execution_count": 25,
     "metadata": {},
     "output_type": "execute_result"
    }
   ],
   "source": [
    "train_scores"
   ]
  },
  {
   "cell_type": "code",
   "execution_count": 26,
   "id": "ab4beeb2",
   "metadata": {
    "ExecuteTime": {
     "end_time": "2022-04-17T16:00:29.316274Z",
     "start_time": "2022-04-17T16:00:29.296550Z"
    }
   },
   "outputs": [],
   "source": [
    "def ensemble_prediction(preds, weights):\n",
    "    yhat = np.zeros(preds[0].shape)\n",
    "    \n",
    "    for i in range(len(preds)):\n",
    "        yhat += preds[i] * weights[i]\n",
    "    \n",
    "    return yhat"
   ]
  },
  {
   "cell_type": "code",
   "execution_count": 27,
   "id": "458e152e",
   "metadata": {
    "ExecuteTime": {
     "end_time": "2022-04-17T16:00:29.338063Z",
     "start_time": "2022-04-17T16:00:29.318501Z"
    }
   },
   "outputs": [],
   "source": [
    "ensembles = {\n",
    "    'lgbm_45_lgbm_opt_45_svm_10': [0.45, 0.45, 0.1],\n",
    "    'lgbm_40_lgbm_opt_40_svm_20': [0.4, 0.4, 0.2],\n",
    "    'lgbm_70_svm_30': [0.7, 0., 0.3],\n",
    "    \n",
    "    \n",
    "}"
   ]
  },
  {
   "cell_type": "code",
   "execution_count": 28,
   "id": "2a9bd088",
   "metadata": {
    "ExecuteTime": {
     "end_time": "2022-04-17T16:00:29.382747Z",
     "start_time": "2022-04-17T16:00:29.344453Z"
    }
   },
   "outputs": [],
   "source": [
    "for ensemble_name, weights in ensembles.items():\n",
    "    train_preds[ensemble_name] = ensemble_prediction([train_lgbm, train_opt_lgbm, train_svm], weights)\n",
    "    valid_preds[ensemble_name] = ensemble_prediction([valid_lgbm, valid_opt_lgbm, valid_svm], weights)"
   ]
  },
  {
   "cell_type": "code",
   "execution_count": 29,
   "id": "121729bb",
   "metadata": {
    "ExecuteTime": {
     "end_time": "2022-04-17T16:00:29.481745Z",
     "start_time": "2022-04-17T16:00:29.385322Z"
    }
   },
   "outputs": [],
   "source": [
    "train_scores = {model: compute_scores(train_target.loc[pred.index], pred) for model, pred in train_preds.items()}\n",
    "train_scores = pd.DataFrame(train_scores).T.sort_values(by=['avg_loss'])"
   ]
  },
  {
   "cell_type": "code",
   "execution_count": 30,
   "id": "8f6dbc87",
   "metadata": {
    "ExecuteTime": {
     "end_time": "2022-04-17T16:00:29.543626Z",
     "start_time": "2022-04-17T16:00:29.483434Z"
    }
   },
   "outputs": [],
   "source": [
    "valid_scores = {model: compute_scores(valid_target, pred) for model, pred in valid_preds.items()}\n",
    "valid_scores = pd.DataFrame(valid_scores).T.sort_values(by=['avg_loss'])"
   ]
  },
  {
   "cell_type": "code",
   "execution_count": 31,
   "id": "ec69266b",
   "metadata": {
    "ExecuteTime": {
     "end_time": "2022-04-17T16:00:29.570928Z",
     "start_time": "2022-04-17T16:00:29.546108Z"
    }
   },
   "outputs": [
    {
     "data": {
      "text/html": [
       "<div>\n",
       "<style scoped>\n",
       "    .dataframe tbody tr th:only-of-type {\n",
       "        vertical-align: middle;\n",
       "    }\n",
       "\n",
       "    .dataframe tbody tr th {\n",
       "        vertical-align: top;\n",
       "    }\n",
       "\n",
       "    .dataframe thead th {\n",
       "        text-align: right;\n",
       "    }\n",
       "</style>\n",
       "<table border=\"1\" class=\"dataframe\">\n",
       "  <thead>\n",
       "    <tr style=\"text-align: right;\">\n",
       "      <th></th>\n",
       "      <th>avg_loss</th>\n",
       "      <th>basalt</th>\n",
       "      <th>carbonate</th>\n",
       "      <th>chloride</th>\n",
       "      <th>iron_oxide</th>\n",
       "      <th>oxalate</th>\n",
       "      <th>oxychlorine</th>\n",
       "      <th>phyllosilicate</th>\n",
       "      <th>silicate</th>\n",
       "      <th>sulfate</th>\n",
       "      <th>sulfide</th>\n",
       "    </tr>\n",
       "  </thead>\n",
       "  <tbody>\n",
       "    <tr>\n",
       "      <th>lgbm_40_lgbm_opt_40_svm_20</th>\n",
       "      <td>0.116749</td>\n",
       "      <td>0.107533</td>\n",
       "      <td>0.068912</td>\n",
       "      <td>0.132408</td>\n",
       "      <td>0.162114</td>\n",
       "      <td>0.018329</td>\n",
       "      <td>0.122803</td>\n",
       "      <td>0.196917</td>\n",
       "      <td>0.154670</td>\n",
       "      <td>0.155729</td>\n",
       "      <td>0.048076</td>\n",
       "    </tr>\n",
       "    <tr>\n",
       "      <th>lgbm_70_svm_30</th>\n",
       "      <td>0.116884</td>\n",
       "      <td>0.105761</td>\n",
       "      <td>0.068958</td>\n",
       "      <td>0.132906</td>\n",
       "      <td>0.162199</td>\n",
       "      <td>0.019110</td>\n",
       "      <td>0.122942</td>\n",
       "      <td>0.197600</td>\n",
       "      <td>0.152223</td>\n",
       "      <td>0.156898</td>\n",
       "      <td>0.050247</td>\n",
       "    </tr>\n",
       "    <tr>\n",
       "      <th>lgbm_45_lgbm_opt_45_svm_10</th>\n",
       "      <td>0.117960</td>\n",
       "      <td>0.109354</td>\n",
       "      <td>0.070381</td>\n",
       "      <td>0.134362</td>\n",
       "      <td>0.164071</td>\n",
       "      <td>0.018414</td>\n",
       "      <td>0.122395</td>\n",
       "      <td>0.198214</td>\n",
       "      <td>0.157495</td>\n",
       "      <td>0.156963</td>\n",
       "      <td>0.047951</td>\n",
       "    </tr>\n",
       "    <tr>\n",
       "      <th>lgbm</th>\n",
       "      <td>0.123033</td>\n",
       "      <td>0.112934</td>\n",
       "      <td>0.075054</td>\n",
       "      <td>0.142676</td>\n",
       "      <td>0.171334</td>\n",
       "      <td>0.019852</td>\n",
       "      <td>0.122836</td>\n",
       "      <td>0.203351</td>\n",
       "      <td>0.165224</td>\n",
       "      <td>0.164438</td>\n",
       "      <td>0.052632</td>\n",
       "    </tr>\n",
       "    <tr>\n",
       "      <th>lgbm_opt</th>\n",
       "      <td>0.124146</td>\n",
       "      <td>0.116908</td>\n",
       "      <td>0.073997</td>\n",
       "      <td>0.140968</td>\n",
       "      <td>0.175924</td>\n",
       "      <td>0.017923</td>\n",
       "      <td>0.129259</td>\n",
       "      <td>0.208687</td>\n",
       "      <td>0.169079</td>\n",
       "      <td>0.161119</td>\n",
       "      <td>0.047599</td>\n",
       "    </tr>\n",
       "    <tr>\n",
       "      <th>svm</th>\n",
       "      <td>0.129573</td>\n",
       "      <td>0.112703</td>\n",
       "      <td>0.070896</td>\n",
       "      <td>0.142835</td>\n",
       "      <td>0.184871</td>\n",
       "      <td>0.020418</td>\n",
       "      <td>0.149817</td>\n",
       "      <td>0.220952</td>\n",
       "      <td>0.168192</td>\n",
       "      <td>0.169584</td>\n",
       "      <td>0.055462</td>\n",
       "    </tr>\n",
       "  </tbody>\n",
       "</table>\n",
       "</div>"
      ],
      "text/plain": [
       "                            avg_loss    basalt  carbonate  chloride  \\\n",
       "lgbm_40_lgbm_opt_40_svm_20  0.116749  0.107533   0.068912  0.132408   \n",
       "lgbm_70_svm_30              0.116884  0.105761   0.068958  0.132906   \n",
       "lgbm_45_lgbm_opt_45_svm_10  0.117960  0.109354   0.070381  0.134362   \n",
       "lgbm                        0.123033  0.112934   0.075054  0.142676   \n",
       "lgbm_opt                    0.124146  0.116908   0.073997  0.140968   \n",
       "svm                         0.129573  0.112703   0.070896  0.142835   \n",
       "\n",
       "                            iron_oxide   oxalate  oxychlorine  phyllosilicate  \\\n",
       "lgbm_40_lgbm_opt_40_svm_20    0.162114  0.018329     0.122803        0.196917   \n",
       "lgbm_70_svm_30                0.162199  0.019110     0.122942        0.197600   \n",
       "lgbm_45_lgbm_opt_45_svm_10    0.164071  0.018414     0.122395        0.198214   \n",
       "lgbm                          0.171334  0.019852     0.122836        0.203351   \n",
       "lgbm_opt                      0.175924  0.017923     0.129259        0.208687   \n",
       "svm                           0.184871  0.020418     0.149817        0.220952   \n",
       "\n",
       "                            silicate   sulfate   sulfide  \n",
       "lgbm_40_lgbm_opt_40_svm_20  0.154670  0.155729  0.048076  \n",
       "lgbm_70_svm_30              0.152223  0.156898  0.050247  \n",
       "lgbm_45_lgbm_opt_45_svm_10  0.157495  0.156963  0.047951  \n",
       "lgbm                        0.165224  0.164438  0.052632  \n",
       "lgbm_opt                    0.169079  0.161119  0.047599  \n",
       "svm                         0.168192  0.169584  0.055462  "
      ]
     },
     "execution_count": 31,
     "metadata": {},
     "output_type": "execute_result"
    }
   ],
   "source": [
    "train_scores"
   ]
  },
  {
   "cell_type": "code",
   "execution_count": 32,
   "id": "590606ec",
   "metadata": {
    "ExecuteTime": {
     "end_time": "2022-04-17T16:00:29.603771Z",
     "start_time": "2022-04-17T16:00:29.572957Z"
    }
   },
   "outputs": [
    {
     "data": {
      "text/html": [
       "<div>\n",
       "<style scoped>\n",
       "    .dataframe tbody tr th:only-of-type {\n",
       "        vertical-align: middle;\n",
       "    }\n",
       "\n",
       "    .dataframe tbody tr th {\n",
       "        vertical-align: top;\n",
       "    }\n",
       "\n",
       "    .dataframe thead th {\n",
       "        text-align: right;\n",
       "    }\n",
       "</style>\n",
       "<table border=\"1\" class=\"dataframe\">\n",
       "  <thead>\n",
       "    <tr style=\"text-align: right;\">\n",
       "      <th></th>\n",
       "      <th>avg_loss</th>\n",
       "      <th>basalt</th>\n",
       "      <th>carbonate</th>\n",
       "      <th>chloride</th>\n",
       "      <th>iron_oxide</th>\n",
       "      <th>oxalate</th>\n",
       "      <th>oxychlorine</th>\n",
       "      <th>phyllosilicate</th>\n",
       "      <th>silicate</th>\n",
       "      <th>sulfate</th>\n",
       "      <th>sulfide</th>\n",
       "    </tr>\n",
       "  </thead>\n",
       "  <tbody>\n",
       "    <tr>\n",
       "      <th>lgbm</th>\n",
       "      <td>0.011356</td>\n",
       "      <td>0.009279</td>\n",
       "      <td>0.008047</td>\n",
       "      <td>0.012732</td>\n",
       "      <td>0.018075</td>\n",
       "      <td>0.003405</td>\n",
       "      <td>0.012662</td>\n",
       "      <td>0.019244</td>\n",
       "      <td>0.013331</td>\n",
       "      <td>0.012231</td>\n",
       "      <td>0.004557</td>\n",
       "    </tr>\n",
       "    <tr>\n",
       "      <th>lgbm_opt</th>\n",
       "      <td>0.012527</td>\n",
       "      <td>0.010552</td>\n",
       "      <td>0.008443</td>\n",
       "      <td>0.013987</td>\n",
       "      <td>0.018131</td>\n",
       "      <td>0.002112</td>\n",
       "      <td>0.014116</td>\n",
       "      <td>0.020631</td>\n",
       "      <td>0.017538</td>\n",
       "      <td>0.014867</td>\n",
       "      <td>0.004896</td>\n",
       "    </tr>\n",
       "    <tr>\n",
       "      <th>lgbm_45_lgbm_opt_45_svm_10</th>\n",
       "      <td>0.012769</td>\n",
       "      <td>0.010516</td>\n",
       "      <td>0.008540</td>\n",
       "      <td>0.013983</td>\n",
       "      <td>0.019171</td>\n",
       "      <td>0.002893</td>\n",
       "      <td>0.014164</td>\n",
       "      <td>0.021234</td>\n",
       "      <td>0.017241</td>\n",
       "      <td>0.014786</td>\n",
       "      <td>0.005163</td>\n",
       "    </tr>\n",
       "    <tr>\n",
       "      <th>lgbm_40_lgbm_opt_40_svm_20</th>\n",
       "      <td>0.013609</td>\n",
       "      <td>0.011120</td>\n",
       "      <td>0.008838</td>\n",
       "      <td>0.014615</td>\n",
       "      <td>0.020261</td>\n",
       "      <td>0.003028</td>\n",
       "      <td>0.014947</td>\n",
       "      <td>0.022540</td>\n",
       "      <td>0.019107</td>\n",
       "      <td>0.016032</td>\n",
       "      <td>0.005603</td>\n",
       "    </tr>\n",
       "    <tr>\n",
       "      <th>lgbm_70_svm_30</th>\n",
       "      <td>0.014046</td>\n",
       "      <td>0.011280</td>\n",
       "      <td>0.009003</td>\n",
       "      <td>0.014812</td>\n",
       "      <td>0.021350</td>\n",
       "      <td>0.003617</td>\n",
       "      <td>0.015228</td>\n",
       "      <td>0.023366</td>\n",
       "      <td>0.019521</td>\n",
       "      <td>0.016359</td>\n",
       "      <td>0.005928</td>\n",
       "    </tr>\n",
       "    <tr>\n",
       "      <th>svm</th>\n",
       "      <td>0.020796</td>\n",
       "      <td>0.016009</td>\n",
       "      <td>0.011276</td>\n",
       "      <td>0.019781</td>\n",
       "      <td>0.029791</td>\n",
       "      <td>0.004125</td>\n",
       "      <td>0.021299</td>\n",
       "      <td>0.033165</td>\n",
       "      <td>0.037267</td>\n",
       "      <td>0.026093</td>\n",
       "      <td>0.009156</td>\n",
       "    </tr>\n",
       "  </tbody>\n",
       "</table>\n",
       "</div>"
      ],
      "text/plain": [
       "                            avg_loss    basalt  carbonate  chloride  \\\n",
       "lgbm                        0.011356  0.009279   0.008047  0.012732   \n",
       "lgbm_opt                    0.012527  0.010552   0.008443  0.013987   \n",
       "lgbm_45_lgbm_opt_45_svm_10  0.012769  0.010516   0.008540  0.013983   \n",
       "lgbm_40_lgbm_opt_40_svm_20  0.013609  0.011120   0.008838  0.014615   \n",
       "lgbm_70_svm_30              0.014046  0.011280   0.009003  0.014812   \n",
       "svm                         0.020796  0.016009   0.011276  0.019781   \n",
       "\n",
       "                            iron_oxide   oxalate  oxychlorine  phyllosilicate  \\\n",
       "lgbm                          0.018075  0.003405     0.012662        0.019244   \n",
       "lgbm_opt                      0.018131  0.002112     0.014116        0.020631   \n",
       "lgbm_45_lgbm_opt_45_svm_10    0.019171  0.002893     0.014164        0.021234   \n",
       "lgbm_40_lgbm_opt_40_svm_20    0.020261  0.003028     0.014947        0.022540   \n",
       "lgbm_70_svm_30                0.021350  0.003617     0.015228        0.023366   \n",
       "svm                           0.029791  0.004125     0.021299        0.033165   \n",
       "\n",
       "                            silicate   sulfate   sulfide  \n",
       "lgbm                        0.013331  0.012231  0.004557  \n",
       "lgbm_opt                    0.017538  0.014867  0.004896  \n",
       "lgbm_45_lgbm_opt_45_svm_10  0.017241  0.014786  0.005163  \n",
       "lgbm_40_lgbm_opt_40_svm_20  0.019107  0.016032  0.005603  \n",
       "lgbm_70_svm_30              0.019521  0.016359  0.005928  \n",
       "svm                         0.037267  0.026093  0.009156  "
      ]
     },
     "execution_count": 32,
     "metadata": {},
     "output_type": "execute_result"
    }
   ],
   "source": [
    "valid_scores"
   ]
  },
  {
   "cell_type": "code",
   "execution_count": 33,
   "id": "81a8fd01",
   "metadata": {
    "ExecuteTime": {
     "end_time": "2022-04-17T16:00:29.621323Z",
     "start_time": "2022-04-17T16:00:29.605816Z"
    }
   },
   "outputs": [],
   "source": [
    "# reading test set"
   ]
  },
  {
   "cell_type": "code",
   "execution_count": 34,
   "id": "ac8ca185",
   "metadata": {
    "ExecuteTime": {
     "end_time": "2022-04-17T16:00:29.656256Z",
     "start_time": "2022-04-17T16:00:29.623173Z"
    }
   },
   "outputs": [],
   "source": [
    "test_lgbm = pd.read_csv(sub_dir.joinpath('lgbm', 'test', 'submission.csv'), index_col='sample_id')\n",
    "\n",
    "test_svm = pd.read_csv(sub_dir.joinpath('svm', 'test', 'submission.csv'), index_col='sample_id')\n",
    "\n",
    "test_opt_lgbm = pd.read_csv(sub_dir.joinpath('optimized-iteration-lgbm', 'test', 'submission.csv'), index_col='sample_id')"
   ]
  },
  {
   "cell_type": "code",
   "execution_count": 35,
   "id": "7fdf0a4a",
   "metadata": {
    "ExecuteTime": {
     "end_time": "2022-04-17T16:00:29.677076Z",
     "start_time": "2022-04-17T16:00:29.660680Z"
    }
   },
   "outputs": [],
   "source": [
    "assert len(np.unique(map(len, [test_lgbm, test_svm, test_opt_lgbm]))) == 1"
   ]
  },
  {
   "cell_type": "code",
   "execution_count": 36,
   "id": "8032cf4f",
   "metadata": {
    "ExecuteTime": {
     "end_time": "2022-04-17T16:00:29.701880Z",
     "start_time": "2022-04-17T16:00:29.679460Z"
    }
   },
   "outputs": [],
   "source": [
    "assert all(test_lgbm.index == test_svm.index)\n",
    "assert all(test_lgbm.index == test_opt_lgbm.index)"
   ]
  },
  {
   "cell_type": "code",
   "execution_count": 37,
   "id": "580151f7",
   "metadata": {
    "ExecuteTime": {
     "end_time": "2022-04-17T16:00:29.720242Z",
     "start_time": "2022-04-17T16:00:29.704190Z"
    }
   },
   "outputs": [],
   "source": [
    "test_preds = {'lgbm': test_lgbm, 'svm': test_svm, 'lgbm_opt': test_opt_lgbm}"
   ]
  },
  {
   "cell_type": "code",
   "execution_count": 38,
   "id": "7b66fc88",
   "metadata": {
    "ExecuteTime": {
     "end_time": "2022-04-17T16:00:29.746509Z",
     "start_time": "2022-04-17T16:00:29.722088Z"
    }
   },
   "outputs": [],
   "source": [
    "for ensemble_name, weights in ensembles.items():\n",
    "    test_preds[ensemble_name] = ensemble_prediction([test_lgbm, test_opt_lgbm, test_svm], weights)"
   ]
  },
  {
   "cell_type": "code",
   "execution_count": 39,
   "id": "d2eaf97d",
   "metadata": {
    "ExecuteTime": {
     "end_time": "2022-04-17T16:00:29.769344Z",
     "start_time": "2022-04-17T16:00:29.749034Z"
    }
   },
   "outputs": [
    {
     "data": {
      "text/plain": [
       "{'lgbm_45_lgbm_opt_45_svm_10': [0.45, 0.45, 0.1],\n",
       " 'lgbm_40_lgbm_opt_40_svm_20': [0.4, 0.4, 0.2],\n",
       " 'lgbm_70_svm_30': [0.7, 0.0, 0.3]}"
      ]
     },
     "execution_count": 39,
     "metadata": {},
     "output_type": "execute_result"
    }
   ],
   "source": [
    "ensembles"
   ]
  },
  {
   "cell_type": "code",
   "execution_count": 40,
   "id": "6dcdeae2",
   "metadata": {
    "ExecuteTime": {
     "end_time": "2022-04-17T16:00:29.789825Z",
     "start_time": "2022-04-17T16:00:29.771594Z"
    }
   },
   "outputs": [],
   "source": [
    "ensemble_dir = sub_dir.joinpath('ensembles')\n",
    "ensemble_dir.mkdir(exist_ok=True, parents=True)"
   ]
  },
  {
   "cell_type": "code",
   "execution_count": 41,
   "id": "2c711525",
   "metadata": {
    "ExecuteTime": {
     "end_time": "2022-04-17T16:00:29.854753Z",
     "start_time": "2022-04-17T16:00:29.793268Z"
    }
   },
   "outputs": [],
   "source": [
    "for ensemble_name in ensembles.keys():\n",
    "    ensemble_pred = test_preds[ensemble_name]\n",
    "    ensemble_pred.to_csv(ensemble_dir / f'{ensemble_name}.csv', index=True)"
   ]
  },
  {
   "cell_type": "code",
   "execution_count": 42,
   "id": "3ca67ccd",
   "metadata": {
    "ExecuteTime": {
     "end_time": "2022-04-17T16:00:29.992163Z",
     "start_time": "2022-04-17T16:00:29.856379Z"
    }
   },
   "outputs": [
    {
     "name": "stdout",
     "output_type": "stream",
     "text": [
      "lgbm_40_lgbm_opt_40_svm_20.csv\tlgbm_70_svm_30.csv\r\n",
      "lgbm_45_lgbm_opt_45_svm_10.csv\r\n"
     ]
    }
   ],
   "source": [
    "!ls {ensemble_dir}"
   ]
  },
  {
   "cell_type": "code",
   "execution_count": null,
   "id": "cbd25ed9",
   "metadata": {},
   "outputs": [],
   "source": []
  }
 ],
 "metadata": {
  "kernelspec": {
   "display_name": "Python 3 (ipykernel)",
   "language": "python",
   "name": "python3"
  },
  "language_info": {
   "codemirror_mode": {
    "name": "ipython",
    "version": 3
   },
   "file_extension": ".py",
   "mimetype": "text/x-python",
   "name": "python",
   "nbconvert_exporter": "python",
   "pygments_lexer": "ipython3",
   "version": "3.8.8"
  },
  "toc": {
   "base_numbering": 1,
   "nav_menu": {},
   "number_sections": true,
   "sideBar": true,
   "skip_h1_title": false,
   "title_cell": "Table of Contents",
   "title_sidebar": "Contents",
   "toc_cell": false,
   "toc_position": {},
   "toc_section_display": true,
   "toc_window_display": false
  }
 },
 "nbformat": 4,
 "nbformat_minor": 5
}
