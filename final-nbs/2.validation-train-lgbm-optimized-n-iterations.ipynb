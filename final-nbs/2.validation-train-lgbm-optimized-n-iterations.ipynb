{
 "cells": [
  {
   "cell_type": "code",
   "execution_count": 1,
   "id": "2356f65b",
   "metadata": {
    "ExecuteTime": {
     "end_time": "2022-04-17T15:23:02.600657Z",
     "start_time": "2022-04-17T15:23:02.582621Z"
    }
   },
   "outputs": [],
   "source": [
    "%load_ext autoreload\n",
    "%autoreload 2"
   ]
  },
  {
   "cell_type": "code",
   "execution_count": 2,
   "id": "09d5bff1",
   "metadata": {
    "ExecuteTime": {
     "end_time": "2022-04-17T15:23:03.744286Z",
     "start_time": "2022-04-17T15:23:02.603777Z"
    }
   },
   "outputs": [],
   "source": [
    "from pathlib import Path\n",
    "import pandas as pd\n",
    "import numpy as np\n",
    "from matplotlib import pyplot as plt\n",
    "import seaborn as sns\n",
    "import os"
   ]
  },
  {
   "cell_type": "code",
   "execution_count": 3,
   "id": "875d884c",
   "metadata": {
    "ExecuteTime": {
     "end_time": "2022-04-17T15:23:03.764274Z",
     "start_time": "2022-04-17T15:23:03.747980Z"
    }
   },
   "outputs": [],
   "source": [
    "PROJECT_DIR = os.path.abspath('.')\n",
    "if PROJECT_DIR.endswith('final-nbs'):\n",
    "    PROJECT_DIR = os.path.abspath('../')\n",
    "    os.chdir(PROJECT_DIR)"
   ]
  },
  {
   "cell_type": "code",
   "execution_count": 4,
   "id": "97271405",
   "metadata": {
    "ExecuteTime": {
     "end_time": "2022-04-17T15:23:03.822957Z",
     "start_time": "2022-04-17T15:23:03.767606Z"
    }
   },
   "outputs": [],
   "source": [
    "import cfg\n",
    "from src.data import get_features_path_from_metadata, join_dataframe_columns\n",
    "from src import util\n",
    "from src.data import setup_directories\n",
    "util.setup_logging()\n",
    "\n",
    "dirs = setup_directories(cfg.DATA_DIR, create_dirs=True)"
   ]
  },
  {
   "cell_type": "code",
   "execution_count": 5,
   "id": "9eb14b97",
   "metadata": {
    "ExecuteTime": {
     "end_time": "2022-04-17T15:23:03.839481Z",
     "start_time": "2022-04-17T15:23:03.825198Z"
    }
   },
   "outputs": [],
   "source": [
    "raw_dir = Path(dirs['raw'])\n",
    "train_dir = Path(dirs['train'])\n",
    "cv_dir = Path(dirs['cv']['final-validation'])"
   ]
  },
  {
   "cell_type": "code",
   "execution_count": 6,
   "id": "97f13502",
   "metadata": {
    "ExecuteTime": {
     "end_time": "2022-04-17T15:23:03.873041Z",
     "start_time": "2022-04-17T15:23:03.841298Z"
    }
   },
   "outputs": [
    {
     "data": {
      "text/html": [
       "<div>\n",
       "<style scoped>\n",
       "    .dataframe tbody tr th:only-of-type {\n",
       "        vertical-align: middle;\n",
       "    }\n",
       "\n",
       "    .dataframe tbody tr th {\n",
       "        vertical-align: top;\n",
       "    }\n",
       "\n",
       "    .dataframe thead th {\n",
       "        text-align: right;\n",
       "    }\n",
       "</style>\n",
       "<table border=\"1\" class=\"dataframe\">\n",
       "  <thead>\n",
       "    <tr style=\"text-align: right;\">\n",
       "      <th></th>\n",
       "      <th>split</th>\n",
       "      <th>instrument_type</th>\n",
       "      <th>features_path</th>\n",
       "      <th>features_md5_hash</th>\n",
       "    </tr>\n",
       "    <tr>\n",
       "      <th>sample_id</th>\n",
       "      <th></th>\n",
       "      <th></th>\n",
       "      <th></th>\n",
       "      <th></th>\n",
       "    </tr>\n",
       "  </thead>\n",
       "  <tbody>\n",
       "    <tr>\n",
       "      <th>S0000</th>\n",
       "      <td>train</td>\n",
       "      <td>commercial</td>\n",
       "      <td>train_features/S0000.csv</td>\n",
       "      <td>017b9a71a702e81a828e6242aa15f049</td>\n",
       "    </tr>\n",
       "    <tr>\n",
       "      <th>S0001</th>\n",
       "      <td>train</td>\n",
       "      <td>commercial</td>\n",
       "      <td>train_features/S0001.csv</td>\n",
       "      <td>0d09840214054d254bd49436c6a6f315</td>\n",
       "    </tr>\n",
       "    <tr>\n",
       "      <th>S0002</th>\n",
       "      <td>train</td>\n",
       "      <td>commercial</td>\n",
       "      <td>train_features/S0002.csv</td>\n",
       "      <td>3f58b3c9b001bfed6ed4e4f757083e09</td>\n",
       "    </tr>\n",
       "    <tr>\n",
       "      <th>S0003</th>\n",
       "      <td>train</td>\n",
       "      <td>commercial</td>\n",
       "      <td>train_features/S0003.csv</td>\n",
       "      <td>e9a12f96114a2fda60b36f4c0f513fb1</td>\n",
       "    </tr>\n",
       "    <tr>\n",
       "      <th>S0004</th>\n",
       "      <td>train</td>\n",
       "      <td>commercial</td>\n",
       "      <td>train_features/S0004.csv</td>\n",
       "      <td>b67603d3931897bfa796ac42cc16de78</td>\n",
       "    </tr>\n",
       "  </tbody>\n",
       "</table>\n",
       "</div>"
      ],
      "text/plain": [
       "           split instrument_type             features_path  \\\n",
       "sample_id                                                    \n",
       "S0000      train      commercial  train_features/S0000.csv   \n",
       "S0001      train      commercial  train_features/S0001.csv   \n",
       "S0002      train      commercial  train_features/S0002.csv   \n",
       "S0003      train      commercial  train_features/S0003.csv   \n",
       "S0004      train      commercial  train_features/S0004.csv   \n",
       "\n",
       "                          features_md5_hash  \n",
       "sample_id                                    \n",
       "S0000      017b9a71a702e81a828e6242aa15f049  \n",
       "S0001      0d09840214054d254bd49436c6a6f315  \n",
       "S0002      3f58b3c9b001bfed6ed4e4f757083e09  \n",
       "S0003      e9a12f96114a2fda60b36f4c0f513fb1  \n",
       "S0004      b67603d3931897bfa796ac42cc16de78  "
      ]
     },
     "execution_count": 6,
     "metadata": {},
     "output_type": "execute_result"
    }
   ],
   "source": [
    "# read metadata\n",
    "pd_metadata = pd.read_csv(raw_dir / \"metadata.csv\", index_col=\"sample_id\")\n",
    "pd_metadata.head()"
   ]
  },
  {
   "cell_type": "code",
   "execution_count": 7,
   "id": "dac5bc7e",
   "metadata": {
    "ExecuteTime": {
     "end_time": "2022-04-17T15:23:03.893609Z",
     "start_time": "2022-04-17T15:23:03.875394Z"
    }
   },
   "outputs": [],
   "source": [
    "# read train labels\n",
    "pd_train_target = pd.read_csv(raw_dir / 'train_labels.csv', index_col='sample_id')"
   ]
  },
  {
   "cell_type": "code",
   "execution_count": 8,
   "id": "d2ff0a07",
   "metadata": {
    "ExecuteTime": {
     "end_time": "2022-04-17T15:23:03.914773Z",
     "start_time": "2022-04-17T15:23:03.896550Z"
    }
   },
   "outputs": [],
   "source": [
    "# read train labels\n",
    "pd_multclass_target = pd.read_csv(train_dir / 'multiclass.csv', index_col='sample_id')"
   ]
  },
  {
   "cell_type": "code",
   "execution_count": 9,
   "id": "2a4945f8",
   "metadata": {
    "ExecuteTime": {
     "end_time": "2022-04-17T15:23:04.002687Z",
     "start_time": "2022-04-17T15:23:03.916761Z"
    }
   },
   "outputs": [],
   "source": [
    "pd_agg_features = pd.read_csv(train_dir / 'mz_agg_features_drop_correlated.csv', index_col='sample_id')"
   ]
  },
  {
   "cell_type": "code",
   "execution_count": 10,
   "id": "4921099e",
   "metadata": {
    "ExecuteTime": {
     "end_time": "2022-04-17T15:23:04.048098Z",
     "start_time": "2022-04-17T15:23:04.006824Z"
    }
   },
   "outputs": [
    {
     "data": {
      "text/html": [
       "<div>\n",
       "<style scoped>\n",
       "    .dataframe tbody tr th:only-of-type {\n",
       "        vertical-align: middle;\n",
       "    }\n",
       "\n",
       "    .dataframe tbody tr th {\n",
       "        vertical-align: top;\n",
       "    }\n",
       "\n",
       "    .dataframe thead th {\n",
       "        text-align: right;\n",
       "    }\n",
       "</style>\n",
       "<table border=\"1\" class=\"dataframe\">\n",
       "  <thead>\n",
       "    <tr style=\"text-align: right;\">\n",
       "      <th></th>\n",
       "      <th>sum_mz0</th>\n",
       "      <th>sum_mz1</th>\n",
       "      <th>sum_mz2</th>\n",
       "      <th>sum_mz3</th>\n",
       "      <th>sum_mz6</th>\n",
       "      <th>sum_mz7</th>\n",
       "      <th>sum_mz12</th>\n",
       "      <th>sum_mz13</th>\n",
       "      <th>sum_mz14</th>\n",
       "      <th>sum_mz15</th>\n",
       "      <th>...</th>\n",
       "      <th>temp_peak_mz90</th>\n",
       "      <th>temp_peak_mz91</th>\n",
       "      <th>temp_peak_mz92</th>\n",
       "      <th>temp_peak_mz93</th>\n",
       "      <th>temp_peak_mz94</th>\n",
       "      <th>temp_peak_mz95</th>\n",
       "      <th>temp_peak_mz96</th>\n",
       "      <th>temp_peak_mz97</th>\n",
       "      <th>temp_peak_mz98</th>\n",
       "      <th>temp_peak_mz99</th>\n",
       "    </tr>\n",
       "    <tr>\n",
       "      <th>sample_id</th>\n",
       "      <th></th>\n",
       "      <th></th>\n",
       "      <th></th>\n",
       "      <th></th>\n",
       "      <th></th>\n",
       "      <th></th>\n",
       "      <th></th>\n",
       "      <th></th>\n",
       "      <th></th>\n",
       "      <th></th>\n",
       "      <th></th>\n",
       "      <th></th>\n",
       "      <th></th>\n",
       "      <th></th>\n",
       "      <th></th>\n",
       "      <th></th>\n",
       "      <th></th>\n",
       "      <th></th>\n",
       "      <th></th>\n",
       "      <th></th>\n",
       "      <th></th>\n",
       "    </tr>\n",
       "  </thead>\n",
       "  <tbody>\n",
       "    <tr>\n",
       "      <th>S0000</th>\n",
       "      <td>0.340020</td>\n",
       "      <td>0.199854</td>\n",
       "      <td>0.166877</td>\n",
       "      <td>0.200833</td>\n",
       "      <td>0.238830</td>\n",
       "      <td>0.438316</td>\n",
       "      <td>0.766372</td>\n",
       "      <td>0.868359</td>\n",
       "      <td>0.890791</td>\n",
       "      <td>0.863902</td>\n",
       "      <td>...</td>\n",
       "      <td>0.089245</td>\n",
       "      <td>0.229957</td>\n",
       "      <td>0.081612</td>\n",
       "      <td>0.124142</td>\n",
       "      <td>0.203451</td>\n",
       "      <td>0.103749</td>\n",
       "      <td>0.139557</td>\n",
       "      <td>0.104356</td>\n",
       "      <td>0.081609</td>\n",
       "      <td>0.089870</td>\n",
       "    </tr>\n",
       "    <tr>\n",
       "      <th>S0001</th>\n",
       "      <td>0.000000</td>\n",
       "      <td>0.913373</td>\n",
       "      <td>0.977375</td>\n",
       "      <td>0.979591</td>\n",
       "      <td>0.956738</td>\n",
       "      <td>0.990920</td>\n",
       "      <td>0.980405</td>\n",
       "      <td>0.963030</td>\n",
       "      <td>0.979561</td>\n",
       "      <td>0.965443</td>\n",
       "      <td>...</td>\n",
       "      <td>0.000000</td>\n",
       "      <td>0.000000</td>\n",
       "      <td>0.000000</td>\n",
       "      <td>0.000000</td>\n",
       "      <td>0.000000</td>\n",
       "      <td>0.000000</td>\n",
       "      <td>0.000000</td>\n",
       "      <td>0.000000</td>\n",
       "      <td>0.000000</td>\n",
       "      <td>0.000000</td>\n",
       "    </tr>\n",
       "    <tr>\n",
       "      <th>S0002</th>\n",
       "      <td>0.410304</td>\n",
       "      <td>0.380667</td>\n",
       "      <td>0.326579</td>\n",
       "      <td>0.354215</td>\n",
       "      <td>0.186832</td>\n",
       "      <td>0.408898</td>\n",
       "      <td>0.452858</td>\n",
       "      <td>0.069050</td>\n",
       "      <td>0.259936</td>\n",
       "      <td>0.569445</td>\n",
       "      <td>...</td>\n",
       "      <td>0.927101</td>\n",
       "      <td>0.769674</td>\n",
       "      <td>0.494778</td>\n",
       "      <td>0.535845</td>\n",
       "      <td>0.238448</td>\n",
       "      <td>0.892560</td>\n",
       "      <td>0.634800</td>\n",
       "      <td>0.596683</td>\n",
       "      <td>0.238674</td>\n",
       "      <td>0.839972</td>\n",
       "    </tr>\n",
       "    <tr>\n",
       "      <th>S0003</th>\n",
       "      <td>0.244877</td>\n",
       "      <td>0.219661</td>\n",
       "      <td>0.181182</td>\n",
       "      <td>0.234663</td>\n",
       "      <td>0.299011</td>\n",
       "      <td>0.648236</td>\n",
       "      <td>0.836375</td>\n",
       "      <td>0.547981</td>\n",
       "      <td>0.601476</td>\n",
       "      <td>0.124742</td>\n",
       "      <td>...</td>\n",
       "      <td>0.763939</td>\n",
       "      <td>0.835352</td>\n",
       "      <td>0.857590</td>\n",
       "      <td>0.816360</td>\n",
       "      <td>0.334546</td>\n",
       "      <td>0.699620</td>\n",
       "      <td>0.231548</td>\n",
       "      <td>0.182711</td>\n",
       "      <td>0.918799</td>\n",
       "      <td>0.079698</td>\n",
       "    </tr>\n",
       "    <tr>\n",
       "      <th>S0004</th>\n",
       "      <td>0.501639</td>\n",
       "      <td>0.469028</td>\n",
       "      <td>0.420880</td>\n",
       "      <td>0.452981</td>\n",
       "      <td>0.224536</td>\n",
       "      <td>0.251611</td>\n",
       "      <td>0.563269</td>\n",
       "      <td>0.440885</td>\n",
       "      <td>0.481131</td>\n",
       "      <td>0.533506</td>\n",
       "      <td>...</td>\n",
       "      <td>0.783448</td>\n",
       "      <td>0.937656</td>\n",
       "      <td>0.763923</td>\n",
       "      <td>0.347323</td>\n",
       "      <td>0.456205</td>\n",
       "      <td>0.363140</td>\n",
       "      <td>0.413243</td>\n",
       "      <td>0.762212</td>\n",
       "      <td>0.614587</td>\n",
       "      <td>0.164420</td>\n",
       "    </tr>\n",
       "  </tbody>\n",
       "</table>\n",
       "<p>5 rows × 351 columns</p>\n",
       "</div>"
      ],
      "text/plain": [
       "            sum_mz0   sum_mz1   sum_mz2   sum_mz3   sum_mz6   sum_mz7  \\\n",
       "sample_id                                                               \n",
       "S0000      0.340020  0.199854  0.166877  0.200833  0.238830  0.438316   \n",
       "S0001      0.000000  0.913373  0.977375  0.979591  0.956738  0.990920   \n",
       "S0002      0.410304  0.380667  0.326579  0.354215  0.186832  0.408898   \n",
       "S0003      0.244877  0.219661  0.181182  0.234663  0.299011  0.648236   \n",
       "S0004      0.501639  0.469028  0.420880  0.452981  0.224536  0.251611   \n",
       "\n",
       "           sum_mz12  sum_mz13  sum_mz14  sum_mz15  ...  temp_peak_mz90  \\\n",
       "sample_id                                          ...                   \n",
       "S0000      0.766372  0.868359  0.890791  0.863902  ...        0.089245   \n",
       "S0001      0.980405  0.963030  0.979561  0.965443  ...        0.000000   \n",
       "S0002      0.452858  0.069050  0.259936  0.569445  ...        0.927101   \n",
       "S0003      0.836375  0.547981  0.601476  0.124742  ...        0.763939   \n",
       "S0004      0.563269  0.440885  0.481131  0.533506  ...        0.783448   \n",
       "\n",
       "           temp_peak_mz91  temp_peak_mz92  temp_peak_mz93  temp_peak_mz94  \\\n",
       "sample_id                                                                   \n",
       "S0000            0.229957        0.081612        0.124142        0.203451   \n",
       "S0001            0.000000        0.000000        0.000000        0.000000   \n",
       "S0002            0.769674        0.494778        0.535845        0.238448   \n",
       "S0003            0.835352        0.857590        0.816360        0.334546   \n",
       "S0004            0.937656        0.763923        0.347323        0.456205   \n",
       "\n",
       "           temp_peak_mz95  temp_peak_mz96  temp_peak_mz97  temp_peak_mz98  \\\n",
       "sample_id                                                                   \n",
       "S0000            0.103749        0.139557        0.104356        0.081609   \n",
       "S0001            0.000000        0.000000        0.000000        0.000000   \n",
       "S0002            0.892560        0.634800        0.596683        0.238674   \n",
       "S0003            0.699620        0.231548        0.182711        0.918799   \n",
       "S0004            0.363140        0.413243        0.762212        0.614587   \n",
       "\n",
       "           temp_peak_mz99  \n",
       "sample_id                  \n",
       "S0000            0.089870  \n",
       "S0001            0.000000  \n",
       "S0002            0.839972  \n",
       "S0003            0.079698  \n",
       "S0004            0.164420  \n",
       "\n",
       "[5 rows x 351 columns]"
      ]
     },
     "execution_count": 10,
     "metadata": {},
     "output_type": "execute_result"
    }
   ],
   "source": [
    "pd_agg_features.head()"
   ]
  },
  {
   "cell_type": "code",
   "execution_count": 11,
   "id": "8eccd64f",
   "metadata": {
    "ExecuteTime": {
     "end_time": "2022-04-17T15:23:04.083525Z",
     "start_time": "2022-04-17T15:23:04.050209Z"
    }
   },
   "outputs": [],
   "source": [
    "pd_cluster_features = pd.read_csv(train_dir / 'ae_clusters.csv', index_col='sample_id')"
   ]
  },
  {
   "cell_type": "code",
   "execution_count": 12,
   "id": "31744c30",
   "metadata": {
    "ExecuteTime": {
     "end_time": "2022-04-17T15:23:04.132744Z",
     "start_time": "2022-04-17T15:23:04.087036Z"
    }
   },
   "outputs": [
    {
     "data": {
      "text/html": [
       "<div>\n",
       "<style scoped>\n",
       "    .dataframe tbody tr th:only-of-type {\n",
       "        vertical-align: middle;\n",
       "    }\n",
       "\n",
       "    .dataframe tbody tr th {\n",
       "        vertical-align: top;\n",
       "    }\n",
       "\n",
       "    .dataframe thead th {\n",
       "        text-align: right;\n",
       "    }\n",
       "</style>\n",
       "<table border=\"1\" class=\"dataframe\">\n",
       "  <thead>\n",
       "    <tr style=\"text-align: right;\">\n",
       "      <th></th>\n",
       "      <th>cluster_mz0</th>\n",
       "      <th>cluster_mz1</th>\n",
       "      <th>cluster_mz2</th>\n",
       "      <th>cluster_mz3</th>\n",
       "      <th>cluster_mz5</th>\n",
       "      <th>cluster_mz6</th>\n",
       "      <th>cluster_mz7</th>\n",
       "      <th>cluster_mz8</th>\n",
       "      <th>cluster_mz9</th>\n",
       "      <th>cluster_mz10</th>\n",
       "      <th>...</th>\n",
       "      <th>cluster_mz90</th>\n",
       "      <th>cluster_mz91</th>\n",
       "      <th>cluster_mz92</th>\n",
       "      <th>cluster_mz93</th>\n",
       "      <th>cluster_mz94</th>\n",
       "      <th>cluster_mz95</th>\n",
       "      <th>cluster_mz96</th>\n",
       "      <th>cluster_mz97</th>\n",
       "      <th>cluster_mz98</th>\n",
       "      <th>cluster_mz99</th>\n",
       "    </tr>\n",
       "    <tr>\n",
       "      <th>sample_id</th>\n",
       "      <th></th>\n",
       "      <th></th>\n",
       "      <th></th>\n",
       "      <th></th>\n",
       "      <th></th>\n",
       "      <th></th>\n",
       "      <th></th>\n",
       "      <th></th>\n",
       "      <th></th>\n",
       "      <th></th>\n",
       "      <th></th>\n",
       "      <th></th>\n",
       "      <th></th>\n",
       "      <th></th>\n",
       "      <th></th>\n",
       "      <th></th>\n",
       "      <th></th>\n",
       "      <th></th>\n",
       "      <th></th>\n",
       "      <th></th>\n",
       "      <th></th>\n",
       "    </tr>\n",
       "  </thead>\n",
       "  <tbody>\n",
       "    <tr>\n",
       "      <th>S0000</th>\n",
       "      <td>9.0</td>\n",
       "      <td>9.0</td>\n",
       "      <td>9.0</td>\n",
       "      <td>9.0</td>\n",
       "      <td>9.0</td>\n",
       "      <td>7.0</td>\n",
       "      <td>7.0</td>\n",
       "      <td>7.0</td>\n",
       "      <td>7.0</td>\n",
       "      <td>7.0</td>\n",
       "      <td>...</td>\n",
       "      <td>9.0</td>\n",
       "      <td>7.0</td>\n",
       "      <td>4.0</td>\n",
       "      <td>9.0</td>\n",
       "      <td>9.0</td>\n",
       "      <td>9.0</td>\n",
       "      <td>9.0</td>\n",
       "      <td>7.0</td>\n",
       "      <td>7.0</td>\n",
       "      <td>9.0</td>\n",
       "    </tr>\n",
       "    <tr>\n",
       "      <th>S0001</th>\n",
       "      <td>-1.0</td>\n",
       "      <td>4.0</td>\n",
       "      <td>7.0</td>\n",
       "      <td>9.0</td>\n",
       "      <td>4.0</td>\n",
       "      <td>7.0</td>\n",
       "      <td>7.0</td>\n",
       "      <td>4.0</td>\n",
       "      <td>9.0</td>\n",
       "      <td>9.0</td>\n",
       "      <td>...</td>\n",
       "      <td>-1.0</td>\n",
       "      <td>-1.0</td>\n",
       "      <td>-1.0</td>\n",
       "      <td>-1.0</td>\n",
       "      <td>-1.0</td>\n",
       "      <td>-1.0</td>\n",
       "      <td>-1.0</td>\n",
       "      <td>-1.0</td>\n",
       "      <td>-1.0</td>\n",
       "      <td>-1.0</td>\n",
       "    </tr>\n",
       "    <tr>\n",
       "      <th>S0002</th>\n",
       "      <td>9.0</td>\n",
       "      <td>9.0</td>\n",
       "      <td>9.0</td>\n",
       "      <td>9.0</td>\n",
       "      <td>9.0</td>\n",
       "      <td>7.0</td>\n",
       "      <td>6.0</td>\n",
       "      <td>6.0</td>\n",
       "      <td>6.0</td>\n",
       "      <td>7.0</td>\n",
       "      <td>...</td>\n",
       "      <td>6.0</td>\n",
       "      <td>7.0</td>\n",
       "      <td>6.0</td>\n",
       "      <td>7.0</td>\n",
       "      <td>6.0</td>\n",
       "      <td>6.0</td>\n",
       "      <td>7.0</td>\n",
       "      <td>8.0</td>\n",
       "      <td>8.0</td>\n",
       "      <td>1.0</td>\n",
       "    </tr>\n",
       "    <tr>\n",
       "      <th>S0003</th>\n",
       "      <td>9.0</td>\n",
       "      <td>9.0</td>\n",
       "      <td>3.0</td>\n",
       "      <td>9.0</td>\n",
       "      <td>9.0</td>\n",
       "      <td>6.0</td>\n",
       "      <td>7.0</td>\n",
       "      <td>10.0</td>\n",
       "      <td>6.0</td>\n",
       "      <td>11.0</td>\n",
       "      <td>...</td>\n",
       "      <td>6.0</td>\n",
       "      <td>6.0</td>\n",
       "      <td>8.0</td>\n",
       "      <td>6.0</td>\n",
       "      <td>0.0</td>\n",
       "      <td>7.0</td>\n",
       "      <td>8.0</td>\n",
       "      <td>7.0</td>\n",
       "      <td>7.0</td>\n",
       "      <td>8.0</td>\n",
       "    </tr>\n",
       "    <tr>\n",
       "      <th>S0004</th>\n",
       "      <td>9.0</td>\n",
       "      <td>9.0</td>\n",
       "      <td>9.0</td>\n",
       "      <td>9.0</td>\n",
       "      <td>9.0</td>\n",
       "      <td>9.0</td>\n",
       "      <td>9.0</td>\n",
       "      <td>6.0</td>\n",
       "      <td>9.0</td>\n",
       "      <td>0.0</td>\n",
       "      <td>...</td>\n",
       "      <td>7.0</td>\n",
       "      <td>7.0</td>\n",
       "      <td>7.0</td>\n",
       "      <td>6.0</td>\n",
       "      <td>7.0</td>\n",
       "      <td>7.0</td>\n",
       "      <td>6.0</td>\n",
       "      <td>8.0</td>\n",
       "      <td>6.0</td>\n",
       "      <td>8.0</td>\n",
       "    </tr>\n",
       "  </tbody>\n",
       "</table>\n",
       "<p>5 rows × 99 columns</p>\n",
       "</div>"
      ],
      "text/plain": [
       "           cluster_mz0  cluster_mz1  cluster_mz2  cluster_mz3  cluster_mz5  \\\n",
       "sample_id                                                                    \n",
       "S0000              9.0          9.0          9.0          9.0          9.0   \n",
       "S0001             -1.0          4.0          7.0          9.0          4.0   \n",
       "S0002              9.0          9.0          9.0          9.0          9.0   \n",
       "S0003              9.0          9.0          3.0          9.0          9.0   \n",
       "S0004              9.0          9.0          9.0          9.0          9.0   \n",
       "\n",
       "           cluster_mz6  cluster_mz7  cluster_mz8  cluster_mz9  cluster_mz10  \\\n",
       "sample_id                                                                     \n",
       "S0000              7.0          7.0          7.0          7.0           7.0   \n",
       "S0001              7.0          7.0          4.0          9.0           9.0   \n",
       "S0002              7.0          6.0          6.0          6.0           7.0   \n",
       "S0003              6.0          7.0         10.0          6.0          11.0   \n",
       "S0004              9.0          9.0          6.0          9.0           0.0   \n",
       "\n",
       "           ...  cluster_mz90  cluster_mz91  cluster_mz92  cluster_mz93  \\\n",
       "sample_id  ...                                                           \n",
       "S0000      ...           9.0           7.0           4.0           9.0   \n",
       "S0001      ...          -1.0          -1.0          -1.0          -1.0   \n",
       "S0002      ...           6.0           7.0           6.0           7.0   \n",
       "S0003      ...           6.0           6.0           8.0           6.0   \n",
       "S0004      ...           7.0           7.0           7.0           6.0   \n",
       "\n",
       "           cluster_mz94  cluster_mz95  cluster_mz96  cluster_mz97  \\\n",
       "sample_id                                                           \n",
       "S0000               9.0           9.0           9.0           7.0   \n",
       "S0001              -1.0          -1.0          -1.0          -1.0   \n",
       "S0002               6.0           6.0           7.0           8.0   \n",
       "S0003               0.0           7.0           8.0           7.0   \n",
       "S0004               7.0           7.0           6.0           8.0   \n",
       "\n",
       "           cluster_mz98  cluster_mz99  \n",
       "sample_id                              \n",
       "S0000               7.0           9.0  \n",
       "S0001              -1.0          -1.0  \n",
       "S0002               8.0           1.0  \n",
       "S0003               7.0           8.0  \n",
       "S0004               6.0           8.0  \n",
       "\n",
       "[5 rows x 99 columns]"
      ]
     },
     "execution_count": 12,
     "metadata": {},
     "output_type": "execute_result"
    }
   ],
   "source": [
    "pd_cluster_features.head()"
   ]
  },
  {
   "cell_type": "code",
   "execution_count": 13,
   "id": "fce21382",
   "metadata": {
    "ExecuteTime": {
     "end_time": "2022-04-17T15:23:04.155307Z",
     "start_time": "2022-04-17T15:23:04.135015Z"
    }
   },
   "outputs": [],
   "source": [
    "pd_sample_features = pd.read_csv(train_dir / 'sample_features.csv', index_col='sample_id')"
   ]
  },
  {
   "cell_type": "code",
   "execution_count": 14,
   "id": "1201f35e",
   "metadata": {
    "ExecuteTime": {
     "end_time": "2022-04-17T15:23:04.184143Z",
     "start_time": "2022-04-17T15:23:04.158066Z"
    }
   },
   "outputs": [],
   "source": [
    "pd_features = pd.concat((pd_sample_features, pd_agg_features, pd_cluster_features), axis=1)"
   ]
  },
  {
   "cell_type": "code",
   "execution_count": 15,
   "id": "26c1bc54",
   "metadata": {
    "ExecuteTime": {
     "end_time": "2022-04-17T15:23:04.204210Z",
     "start_time": "2022-04-17T15:23:04.186984Z"
    }
   },
   "outputs": [],
   "source": [
    "feature_names = pd_features.columns.to_list()"
   ]
  },
  {
   "cell_type": "code",
   "execution_count": 16,
   "id": "5ea78c4a",
   "metadata": {
    "ExecuteTime": {
     "end_time": "2022-04-17T15:23:04.225657Z",
     "start_time": "2022-04-17T15:23:04.206056Z"
    }
   },
   "outputs": [],
   "source": [
    "from src import util"
   ]
  },
  {
   "cell_type": "code",
   "execution_count": 17,
   "id": "a0dac217",
   "metadata": {
    "ExecuteTime": {
     "end_time": "2022-04-17T15:23:04.252691Z",
     "start_time": "2022-04-17T15:23:04.230258Z"
    }
   },
   "outputs": [],
   "source": [
    "data = pd.concat((pd_train_target, pd_multclass_target, pd_features), axis=1)"
   ]
  },
  {
   "cell_type": "code",
   "execution_count": 18,
   "id": "98f2e6f8",
   "metadata": {
    "ExecuteTime": {
     "end_time": "2022-04-17T15:23:04.289379Z",
     "start_time": "2022-04-17T15:23:04.254824Z"
    }
   },
   "outputs": [
    {
     "data": {
      "text/html": [
       "<div>\n",
       "<style scoped>\n",
       "    .dataframe tbody tr th:only-of-type {\n",
       "        vertical-align: middle;\n",
       "    }\n",
       "\n",
       "    .dataframe tbody tr th {\n",
       "        vertical-align: top;\n",
       "    }\n",
       "\n",
       "    .dataframe thead th {\n",
       "        text-align: right;\n",
       "    }\n",
       "</style>\n",
       "<table border=\"1\" class=\"dataframe\">\n",
       "  <thead>\n",
       "    <tr style=\"text-align: right;\">\n",
       "      <th></th>\n",
       "      <th>basalt</th>\n",
       "      <th>carbonate</th>\n",
       "      <th>chloride</th>\n",
       "      <th>iron_oxide</th>\n",
       "      <th>oxalate</th>\n",
       "      <th>oxychlorine</th>\n",
       "      <th>phyllosilicate</th>\n",
       "      <th>silicate</th>\n",
       "      <th>sulfate</th>\n",
       "      <th>sulfide</th>\n",
       "      <th>...</th>\n",
       "      <th>cluster_mz90</th>\n",
       "      <th>cluster_mz91</th>\n",
       "      <th>cluster_mz92</th>\n",
       "      <th>cluster_mz93</th>\n",
       "      <th>cluster_mz94</th>\n",
       "      <th>cluster_mz95</th>\n",
       "      <th>cluster_mz96</th>\n",
       "      <th>cluster_mz97</th>\n",
       "      <th>cluster_mz98</th>\n",
       "      <th>cluster_mz99</th>\n",
       "    </tr>\n",
       "    <tr>\n",
       "      <th>sample_id</th>\n",
       "      <th></th>\n",
       "      <th></th>\n",
       "      <th></th>\n",
       "      <th></th>\n",
       "      <th></th>\n",
       "      <th></th>\n",
       "      <th></th>\n",
       "      <th></th>\n",
       "      <th></th>\n",
       "      <th></th>\n",
       "      <th></th>\n",
       "      <th></th>\n",
       "      <th></th>\n",
       "      <th></th>\n",
       "      <th></th>\n",
       "      <th></th>\n",
       "      <th></th>\n",
       "      <th></th>\n",
       "      <th></th>\n",
       "      <th></th>\n",
       "      <th></th>\n",
       "    </tr>\n",
       "  </thead>\n",
       "  <tbody>\n",
       "    <tr>\n",
       "      <th>S0000</th>\n",
       "      <td>0</td>\n",
       "      <td>0</td>\n",
       "      <td>0</td>\n",
       "      <td>0</td>\n",
       "      <td>0</td>\n",
       "      <td>0</td>\n",
       "      <td>0</td>\n",
       "      <td>0</td>\n",
       "      <td>1</td>\n",
       "      <td>0</td>\n",
       "      <td>...</td>\n",
       "      <td>9.0</td>\n",
       "      <td>7.0</td>\n",
       "      <td>4.0</td>\n",
       "      <td>9.0</td>\n",
       "      <td>9.0</td>\n",
       "      <td>9.0</td>\n",
       "      <td>9.0</td>\n",
       "      <td>7.0</td>\n",
       "      <td>7.0</td>\n",
       "      <td>9.0</td>\n",
       "    </tr>\n",
       "    <tr>\n",
       "      <th>S0001</th>\n",
       "      <td>0</td>\n",
       "      <td>1</td>\n",
       "      <td>0</td>\n",
       "      <td>0</td>\n",
       "      <td>0</td>\n",
       "      <td>0</td>\n",
       "      <td>0</td>\n",
       "      <td>0</td>\n",
       "      <td>0</td>\n",
       "      <td>0</td>\n",
       "      <td>...</td>\n",
       "      <td>-1.0</td>\n",
       "      <td>-1.0</td>\n",
       "      <td>-1.0</td>\n",
       "      <td>-1.0</td>\n",
       "      <td>-1.0</td>\n",
       "      <td>-1.0</td>\n",
       "      <td>-1.0</td>\n",
       "      <td>-1.0</td>\n",
       "      <td>-1.0</td>\n",
       "      <td>-1.0</td>\n",
       "    </tr>\n",
       "    <tr>\n",
       "      <th>S0002</th>\n",
       "      <td>0</td>\n",
       "      <td>0</td>\n",
       "      <td>0</td>\n",
       "      <td>0</td>\n",
       "      <td>0</td>\n",
       "      <td>1</td>\n",
       "      <td>0</td>\n",
       "      <td>0</td>\n",
       "      <td>0</td>\n",
       "      <td>0</td>\n",
       "      <td>...</td>\n",
       "      <td>6.0</td>\n",
       "      <td>7.0</td>\n",
       "      <td>6.0</td>\n",
       "      <td>7.0</td>\n",
       "      <td>6.0</td>\n",
       "      <td>6.0</td>\n",
       "      <td>7.0</td>\n",
       "      <td>8.0</td>\n",
       "      <td>8.0</td>\n",
       "      <td>1.0</td>\n",
       "    </tr>\n",
       "    <tr>\n",
       "      <th>S0003</th>\n",
       "      <td>0</td>\n",
       "      <td>1</td>\n",
       "      <td>0</td>\n",
       "      <td>1</td>\n",
       "      <td>0</td>\n",
       "      <td>0</td>\n",
       "      <td>0</td>\n",
       "      <td>0</td>\n",
       "      <td>1</td>\n",
       "      <td>0</td>\n",
       "      <td>...</td>\n",
       "      <td>6.0</td>\n",
       "      <td>6.0</td>\n",
       "      <td>8.0</td>\n",
       "      <td>6.0</td>\n",
       "      <td>0.0</td>\n",
       "      <td>7.0</td>\n",
       "      <td>8.0</td>\n",
       "      <td>7.0</td>\n",
       "      <td>7.0</td>\n",
       "      <td>8.0</td>\n",
       "    </tr>\n",
       "    <tr>\n",
       "      <th>S0004</th>\n",
       "      <td>0</td>\n",
       "      <td>0</td>\n",
       "      <td>0</td>\n",
       "      <td>1</td>\n",
       "      <td>0</td>\n",
       "      <td>1</td>\n",
       "      <td>1</td>\n",
       "      <td>0</td>\n",
       "      <td>0</td>\n",
       "      <td>0</td>\n",
       "      <td>...</td>\n",
       "      <td>7.0</td>\n",
       "      <td>7.0</td>\n",
       "      <td>7.0</td>\n",
       "      <td>6.0</td>\n",
       "      <td>7.0</td>\n",
       "      <td>7.0</td>\n",
       "      <td>6.0</td>\n",
       "      <td>8.0</td>\n",
       "      <td>6.0</td>\n",
       "      <td>8.0</td>\n",
       "    </tr>\n",
       "  </tbody>\n",
       "</table>\n",
       "<p>5 rows × 475 columns</p>\n",
       "</div>"
      ],
      "text/plain": [
       "           basalt  carbonate  chloride  iron_oxide  oxalate  oxychlorine  \\\n",
       "sample_id                                                                  \n",
       "S0000           0          0         0           0        0            0   \n",
       "S0001           0          1         0           0        0            0   \n",
       "S0002           0          0         0           0        0            1   \n",
       "S0003           0          1         0           1        0            0   \n",
       "S0004           0          0         0           1        0            1   \n",
       "\n",
       "           phyllosilicate  silicate  sulfate  sulfide  ...  cluster_mz90  \\\n",
       "sample_id                                              ...                 \n",
       "S0000                   0         0        1        0  ...           9.0   \n",
       "S0001                   0         0        0        0  ...          -1.0   \n",
       "S0002                   0         0        0        0  ...           6.0   \n",
       "S0003                   0         0        1        0  ...           6.0   \n",
       "S0004                   1         0        0        0  ...           7.0   \n",
       "\n",
       "           cluster_mz91  cluster_mz92  cluster_mz93  cluster_mz94  \\\n",
       "sample_id                                                           \n",
       "S0000               7.0           4.0           9.0           9.0   \n",
       "S0001              -1.0          -1.0          -1.0          -1.0   \n",
       "S0002               7.0           6.0           7.0           6.0   \n",
       "S0003               6.0           8.0           6.0           0.0   \n",
       "S0004               7.0           7.0           6.0           7.0   \n",
       "\n",
       "           cluster_mz95  cluster_mz96  cluster_mz97  cluster_mz98  \\\n",
       "sample_id                                                           \n",
       "S0000               9.0           9.0           7.0           7.0   \n",
       "S0001              -1.0          -1.0          -1.0          -1.0   \n",
       "S0002               6.0           7.0           8.0           8.0   \n",
       "S0003               7.0           8.0           7.0           7.0   \n",
       "S0004               7.0           6.0           8.0           6.0   \n",
       "\n",
       "           cluster_mz99  \n",
       "sample_id                \n",
       "S0000               9.0  \n",
       "S0001              -1.0  \n",
       "S0002               1.0  \n",
       "S0003               8.0  \n",
       "S0004               8.0  \n",
       "\n",
       "[5 rows x 475 columns]"
      ]
     },
     "execution_count": 18,
     "metadata": {},
     "output_type": "execute_result"
    }
   ],
   "source": [
    "data.head()"
   ]
  },
  {
   "cell_type": "code",
   "execution_count": 19,
   "id": "4dacfbda",
   "metadata": {
    "ExecuteTime": {
     "end_time": "2022-04-17T15:23:04.487299Z",
     "start_time": "2022-04-17T15:23:04.291740Z"
    },
    "scrolled": true
   },
   "outputs": [],
   "source": [
    "from src.model_selection import get_train_test_tuple_from_split\n",
    "from src.data import get_cv_paths\n",
    "from sklearn.linear_model import LogisticRegression\n",
    "from xgboost import XGBRFClassifier\n",
    "from lightgbm import LGBMClassifier\n",
    "from sklearn.svm import SVC"
   ]
  },
  {
   "cell_type": "code",
   "execution_count": 20,
   "id": "6dff9e63",
   "metadata": {
    "ExecuteTime": {
     "end_time": "2022-04-17T15:23:04.509881Z",
     "start_time": "2022-04-17T15:23:04.491055Z"
    }
   },
   "outputs": [],
   "source": [
    "model_config = {'model': 'lgbm',\n",
    "                'parameters':\n",
    "               {'class_weight': 'balanced',\n",
    "                'num_leaves': 16,\n",
    "                'min_split_gain': 1e-3,\n",
    "                'subsample_for_bin': 100,\n",
    "                'n_estimators': 200,\n",
    "                'colsample_bytree': 0.3,\n",
    "                'reg_lambda': 0.1, \n",
    "                'reg_alpha': 0.1}}"
   ]
  },
  {
   "cell_type": "code",
   "execution_count": 21,
   "id": "500ce4b7",
   "metadata": {
    "ExecuteTime": {
     "end_time": "2022-04-17T15:23:04.576091Z",
     "start_time": "2022-04-17T15:23:04.513593Z"
    }
   },
   "outputs": [],
   "source": [
    "from src import train, inference"
   ]
  },
  {
   "cell_type": "code",
   "execution_count": 22,
   "id": "43297953",
   "metadata": {
    "ExecuteTime": {
     "end_time": "2022-04-17T15:23:04.598761Z",
     "start_time": "2022-04-17T15:23:04.580089Z"
    }
   },
   "outputs": [],
   "source": [
    "from copy import deepcopy"
   ]
  },
  {
   "cell_type": "code",
   "execution_count": 23,
   "id": "d4a589e2",
   "metadata": {
    "ExecuteTime": {
     "end_time": "2022-04-17T15:23:04.625123Z",
     "start_time": "2022-04-17T15:23:04.601250Z"
    }
   },
   "outputs": [],
   "source": [
    "def train_one_vs_the_rest(data: pd.DataFrame, model_config, feature_names):\n",
    "    \n",
    "    models = {}\n",
    "    \n",
    "    for target_name in cfg.TARGETS:\n",
    "        cv_paths = get_cv_paths(cv_dir, target_name)\n",
    "        multiclass_target_name = f'{target_name}_multiclass'\n",
    "        opt_tree_models = train.train_cv_from_config(data, model_config,\n",
    "                                    feature_names,\n",
    "                                    multiclass_target_name,\n",
    "                                    cv_paths=cv_paths,\n",
    "                                    train_model_fn=train.train_lgbm,\n",
    "                                    use_early_stopping=True\n",
    "                                )\n",
    "        opt_model_config = deepcopy(model_config)\n",
    "        avg_estimators = int(np.mean([model['model'].best_iteration_ for model in opt_tree_models]))\n",
    "        opt_model_config['parameters']['n_estimators'] = avg_estimators\n",
    "        \n",
    "        print(avg_estimators)\n",
    "        models[target_name] = train.train_cv_from_config(data, opt_model_config, feature_names, multiclass_target_name, cv_paths=cv_paths)\n",
    "    return models"
   ]
  },
  {
   "cell_type": "code",
   "execution_count": 24,
   "id": "5e1a5c64",
   "metadata": {
    "ExecuteTime": {
     "end_time": "2022-04-17T15:27:41.626522Z",
     "start_time": "2022-04-17T15:23:04.628824Z"
    },
    "scrolled": true
   },
   "outputs": [
    {
     "name": "stderr",
     "output_type": "stream",
     "text": [
      "2022-04-17 11:23:04 - src.train - INFO     [train.py:62] fold=1/24\n",
      "2022-04-17 11:23:04 - src.train - INFO     [train.py:63] reading cv index from data/cv_index/cv-model/basalt/fold_0.csv\n"
     ]
    },
    {
     "name": "stdout",
     "output_type": "stream",
     "text": [
      "Training until validation scores don't improve for 20 rounds\n",
      "[20]\ttrain's multi_logloss: 0.204584\tvalid's multi_logloss: 0.380632\n",
      "[40]\ttrain's multi_logloss: 0.046379\tvalid's multi_logloss: 0.257349\n",
      "[60]\ttrain's multi_logloss: 0.0156225\tvalid's multi_logloss: 0.233007\n"
     ]
    },
    {
     "name": "stderr",
     "output_type": "stream",
     "text": [
      "2022-04-17 11:23:05 - src.train - INFO     [train.py:133] elapsed training time: 0.017 min\n",
      "2022-04-17 11:23:05 - src.train - INFO     [train.py:62] fold=2/24\n",
      "2022-04-17 11:23:05 - src.train - INFO     [train.py:63] reading cv index from data/cv_index/cv-model/basalt/fold_1.csv\n"
     ]
    },
    {
     "name": "stdout",
     "output_type": "stream",
     "text": [
      "[80]\ttrain's multi_logloss: 0.00840932\tvalid's multi_logloss: 0.2383\n",
      "Early stopping, best iteration is:\n",
      "[60]\ttrain's multi_logloss: 0.0156225\tvalid's multi_logloss: 0.233007\n",
      "Training until validation scores don't improve for 20 rounds\n",
      "[20]\ttrain's multi_logloss: 0.206569\tvalid's multi_logloss: 0.469381\n",
      "[40]\ttrain's multi_logloss: 0.0473941\tvalid's multi_logloss: 0.377212\n",
      "[60]\ttrain's multi_logloss: 0.0159766\tvalid's multi_logloss: 0.380247\n",
      "Early stopping, best iteration is:\n",
      "[52]\ttrain's multi_logloss: 0.0233435\tvalid's multi_logloss: 0.369087\n"
     ]
    },
    {
     "name": "stderr",
     "output_type": "stream",
     "text": [
      "2022-04-17 11:23:06 - src.train - INFO     [train.py:133] elapsed training time: 0.013 min\n",
      "2022-04-17 11:23:06 - src.train - INFO     [train.py:62] fold=3/24\n",
      "2022-04-17 11:23:06 - src.train - INFO     [train.py:63] reading cv index from data/cv_index/cv-model/basalt/fold_10.csv\n"
     ]
    },
    {
     "name": "stdout",
     "output_type": "stream",
     "text": [
      "Training until validation scores don't improve for 20 rounds\n",
      "[20]\ttrain's multi_logloss: 0.200203\tvalid's multi_logloss: 0.429014\n",
      "[40]\ttrain's multi_logloss: 0.045526\tvalid's multi_logloss: 0.345646\n"
     ]
    },
    {
     "name": "stderr",
     "output_type": "stream",
     "text": [
      "2022-04-17 11:23:07 - src.train - INFO     [train.py:133] elapsed training time: 0.010 min\n",
      "2022-04-17 11:23:07 - src.train - INFO     [train.py:62] fold=4/24\n",
      "2022-04-17 11:23:07 - src.train - INFO     [train.py:63] reading cv index from data/cv_index/cv-model/basalt/fold_11.csv\n"
     ]
    },
    {
     "name": "stdout",
     "output_type": "stream",
     "text": [
      "[60]\ttrain's multi_logloss: 0.015\tvalid's multi_logloss: 0.345092\n",
      "Early stopping, best iteration is:\n",
      "[51]\ttrain's multi_logloss: 0.0231384\tvalid's multi_logloss: 0.342112\n",
      "Training until validation scores don't improve for 20 rounds\n",
      "[20]\ttrain's multi_logloss: 0.204709\tvalid's multi_logloss: 0.468761\n",
      "[40]\ttrain's multi_logloss: 0.0461548\tvalid's multi_logloss: 0.341042\n",
      "[60]\ttrain's multi_logloss: 0.0150504\tvalid's multi_logloss: 0.316107\n"
     ]
    },
    {
     "name": "stderr",
     "output_type": "stream",
     "text": [
      "2022-04-17 11:23:07 - src.train - INFO     [train.py:133] elapsed training time: 0.006 min\n",
      "2022-04-17 11:23:07 - src.train - INFO     [train.py:62] fold=5/24\n",
      "2022-04-17 11:23:07 - src.train - INFO     [train.py:63] reading cv index from data/cv_index/cv-model/basalt/fold_12.csv\n"
     ]
    },
    {
     "name": "stdout",
     "output_type": "stream",
     "text": [
      "[80]\ttrain's multi_logloss: 0.00802431\tvalid's multi_logloss: 0.325407\n",
      "Early stopping, best iteration is:\n",
      "[61]\ttrain's multi_logloss: 0.0144351\tvalid's multi_logloss: 0.315712\n",
      "Training until validation scores don't improve for 20 rounds\n"
     ]
    },
    {
     "name": "stderr",
     "output_type": "stream",
     "text": [
      "2022-04-17 11:23:08 - src.train - INFO     [train.py:133] elapsed training time: 0.005 min\n",
      "2022-04-17 11:23:08 - src.train - INFO     [train.py:62] fold=6/24\n",
      "2022-04-17 11:23:08 - src.train - INFO     [train.py:63] reading cv index from data/cv_index/cv-model/basalt/fold_13.csv\n"
     ]
    },
    {
     "name": "stdout",
     "output_type": "stream",
     "text": [
      "[20]\ttrain's multi_logloss: 0.212261\tvalid's multi_logloss: 0.42505\n",
      "[40]\ttrain's multi_logloss: 0.0478845\tvalid's multi_logloss: 0.313232\n",
      "[60]\ttrain's multi_logloss: 0.0160828\tvalid's multi_logloss: 0.294357\n",
      "[80]\ttrain's multi_logloss: 0.00838618\tvalid's multi_logloss: 0.299156\n",
      "Early stopping, best iteration is:\n",
      "[65]\ttrain's multi_logloss: 0.0132536\tvalid's multi_logloss: 0.292504\n",
      "Training until validation scores don't improve for 20 rounds\n",
      "[20]\ttrain's multi_logloss: 0.198409\tvalid's multi_logloss: 0.446195\n",
      "[40]\ttrain's multi_logloss: 0.0447413\tvalid's multi_logloss: 0.37313\n",
      "[60]\ttrain's multi_logloss: 0.0148597\tvalid's multi_logloss: 0.383893\n",
      "Early stopping, best iteration is:\n",
      "[49]\ttrain's multi_logloss: 0.0257129\tvalid's multi_logloss: 0.366856\n"
     ]
    },
    {
     "name": "stderr",
     "output_type": "stream",
     "text": [
      "2022-04-17 11:23:08 - src.train - INFO     [train.py:133] elapsed training time: 0.005 min\n",
      "2022-04-17 11:23:08 - src.train - INFO     [train.py:62] fold=7/24\n",
      "2022-04-17 11:23:08 - src.train - INFO     [train.py:63] reading cv index from data/cv_index/cv-model/basalt/fold_14.csv\n",
      "2022-04-17 11:23:09 - src.train - INFO     [train.py:133] elapsed training time: 0.004 min\n",
      "2022-04-17 11:23:09 - src.train - INFO     [train.py:62] fold=8/24\n",
      "2022-04-17 11:23:09 - src.train - INFO     [train.py:63] reading cv index from data/cv_index/cv-model/basalt/fold_15.csv\n"
     ]
    },
    {
     "name": "stdout",
     "output_type": "stream",
     "text": [
      "Training until validation scores don't improve for 20 rounds\n",
      "[20]\ttrain's multi_logloss: 0.204622\tvalid's multi_logloss: 0.455116\n",
      "[40]\ttrain's multi_logloss: 0.0461501\tvalid's multi_logloss: 0.347383\n",
      "[60]\ttrain's multi_logloss: 0.015824\tvalid's multi_logloss: 0.351239\n",
      "Early stopping, best iteration is:\n",
      "[43]\ttrain's multi_logloss: 0.0377663\tvalid's multi_logloss: 0.344018\n",
      "Training until validation scores don't improve for 20 rounds\n",
      "[20]\ttrain's multi_logloss: 0.2066\tvalid's multi_logloss: 0.369427\n",
      "[40]\ttrain's multi_logloss: 0.0466187\tvalid's multi_logloss: 0.274765\n"
     ]
    },
    {
     "name": "stderr",
     "output_type": "stream",
     "text": [
      "2022-04-17 11:23:09 - src.train - INFO     [train.py:133] elapsed training time: 0.006 min\n",
      "2022-04-17 11:23:09 - src.train - INFO     [train.py:62] fold=9/24\n",
      "2022-04-17 11:23:09 - src.train - INFO     [train.py:63] reading cv index from data/cv_index/cv-model/basalt/fold_16.csv\n"
     ]
    },
    {
     "name": "stdout",
     "output_type": "stream",
     "text": [
      "Early stopping, best iteration is:\n",
      "[37]\ttrain's multi_logloss: 0.0569574\tvalid's multi_logloss: 0.27215\n",
      "Training until validation scores don't improve for 20 rounds\n",
      "[20]\ttrain's multi_logloss: 0.202582\tvalid's multi_logloss: 0.407695\n",
      "[40]\ttrain's multi_logloss: 0.0457682\tvalid's multi_logloss: 0.296826\n"
     ]
    },
    {
     "name": "stderr",
     "output_type": "stream",
     "text": [
      "2022-04-17 11:23:10 - src.train - INFO     [train.py:133] elapsed training time: 0.008 min\n",
      "2022-04-17 11:23:10 - src.train - INFO     [train.py:62] fold=10/24\n",
      "2022-04-17 11:23:10 - src.train - INFO     [train.py:63] reading cv index from data/cv_index/cv-model/basalt/fold_17.csv\n"
     ]
    },
    {
     "name": "stdout",
     "output_type": "stream",
     "text": [
      "[60]\ttrain's multi_logloss: 0.0155378\tvalid's multi_logloss: 0.297075\n",
      "Early stopping, best iteration is:\n",
      "[48]\ttrain's multi_logloss: 0.0280801\tvalid's multi_logloss: 0.29324\n",
      "Training until validation scores don't improve for 20 rounds\n",
      "[20]\ttrain's multi_logloss: 0.205053\tvalid's multi_logloss: 0.407042\n",
      "[40]\ttrain's multi_logloss: 0.0465978\tvalid's multi_logloss: 0.283603\n",
      "[60]\ttrain's multi_logloss: 0.0157468\tvalid's multi_logloss: 0.270787\n"
     ]
    },
    {
     "name": "stderr",
     "output_type": "stream",
     "text": [
      "2022-04-17 11:23:10 - src.train - INFO     [train.py:133] elapsed training time: 0.006 min\n",
      "2022-04-17 11:23:10 - src.train - INFO     [train.py:62] fold=11/24\n",
      "2022-04-17 11:23:10 - src.train - INFO     [train.py:63] reading cv index from data/cv_index/cv-model/basalt/fold_18.csv\n"
     ]
    },
    {
     "name": "stdout",
     "output_type": "stream",
     "text": [
      "Early stopping, best iteration is:\n",
      "[58]\ttrain's multi_logloss: 0.0172943\tvalid's multi_logloss: 0.269256\n",
      "Training until validation scores don't improve for 20 rounds\n",
      "[20]\ttrain's multi_logloss: 0.193096\tvalid's multi_logloss: 0.539384\n",
      "[40]\ttrain's multi_logloss: 0.0418262\tvalid's multi_logloss: 0.478832\n"
     ]
    },
    {
     "name": "stderr",
     "output_type": "stream",
     "text": [
      "2022-04-17 11:23:11 - src.train - INFO     [train.py:133] elapsed training time: 0.010 min\n",
      "2022-04-17 11:23:11 - src.train - INFO     [train.py:62] fold=12/24\n",
      "2022-04-17 11:23:11 - src.train - INFO     [train.py:63] reading cv index from data/cv_index/cv-model/basalt/fold_19.csv\n"
     ]
    },
    {
     "name": "stdout",
     "output_type": "stream",
     "text": [
      "[60]\ttrain's multi_logloss: 0.0137878\tvalid's multi_logloss: 0.503493\n",
      "Early stopping, best iteration is:\n",
      "[41]\ttrain's multi_logloss: 0.039095\tvalid's multi_logloss: 0.475806\n"
     ]
    },
    {
     "name": "stderr",
     "output_type": "stream",
     "text": [
      "2022-04-17 11:23:11 - src.train - INFO     [train.py:133] elapsed training time: 0.005 min\n"
     ]
    },
    {
     "name": "stdout",
     "output_type": "stream",
     "text": [
      "Training until validation scores don't improve for 20 rounds\n",
      "[20]\ttrain's multi_logloss: 0.208127\tvalid's multi_logloss: 0.473679\n",
      "[40]\ttrain's multi_logloss: 0.0468991\tvalid's multi_logloss: 0.395315\n",
      "Early stopping, best iteration is:\n",
      "[36]\ttrain's multi_logloss: 0.0622056\tvalid's multi_logloss: 0.390461\n"
     ]
    },
    {
     "name": "stderr",
     "output_type": "stream",
     "text": [
      "2022-04-17 11:23:11 - src.train - INFO     [train.py:62] fold=13/24\n",
      "2022-04-17 11:23:11 - src.train - INFO     [train.py:63] reading cv index from data/cv_index/cv-model/basalt/fold_2.csv\n"
     ]
    },
    {
     "name": "stdout",
     "output_type": "stream",
     "text": [
      "Training until validation scores don't improve for 20 rounds\n",
      "[20]\ttrain's multi_logloss: 0.201495\tvalid's multi_logloss: 0.369525\n",
      "[40]\ttrain's multi_logloss: 0.0442606\tvalid's multi_logloss: 0.282854\n",
      "Early stopping, best iteration is:\n",
      "[39]\ttrain's multi_logloss: 0.0477077\tvalid's multi_logloss: 0.28171\n"
     ]
    },
    {
     "name": "stderr",
     "output_type": "stream",
     "text": [
      "2022-04-17 11:23:12 - src.train - INFO     [train.py:133] elapsed training time: 0.011 min\n",
      "2022-04-17 11:23:12 - src.train - INFO     [train.py:62] fold=14/24\n",
      "2022-04-17 11:23:12 - src.train - INFO     [train.py:63] reading cv index from data/cv_index/cv-model/basalt/fold_20.csv\n"
     ]
    },
    {
     "name": "stdout",
     "output_type": "stream",
     "text": [
      "Training until validation scores don't improve for 20 rounds\n",
      "[20]\ttrain's multi_logloss: 0.20244\tvalid's multi_logloss: 0.421715\n",
      "[40]\ttrain's multi_logloss: 0.0464597\tvalid's multi_logloss: 0.328625\n"
     ]
    },
    {
     "name": "stderr",
     "output_type": "stream",
     "text": [
      "2022-04-17 11:23:13 - src.train - INFO     [train.py:133] elapsed training time: 0.006 min\n",
      "2022-04-17 11:23:13 - src.train - INFO     [train.py:62] fold=15/24\n",
      "2022-04-17 11:23:13 - src.train - INFO     [train.py:63] reading cv index from data/cv_index/cv-model/basalt/fold_21.csv\n"
     ]
    },
    {
     "name": "stdout",
     "output_type": "stream",
     "text": [
      "[60]\ttrain's multi_logloss: 0.0154458\tvalid's multi_logloss: 0.340142\n",
      "Early stopping, best iteration is:\n",
      "[40]\ttrain's multi_logloss: 0.0464597\tvalid's multi_logloss: 0.328625\n",
      "Training until validation scores don't improve for 20 rounds\n"
     ]
    },
    {
     "name": "stderr",
     "output_type": "stream",
     "text": [
      "2022-04-17 11:23:13 - src.train - INFO     [train.py:133] elapsed training time: 0.006 min\n"
     ]
    },
    {
     "name": "stdout",
     "output_type": "stream",
     "text": [
      "[20]\ttrain's multi_logloss: 0.205225\tvalid's multi_logloss: 0.393346\n",
      "[40]\ttrain's multi_logloss: 0.0479062\tvalid's multi_logloss: 0.278394\n",
      "[60]\ttrain's multi_logloss: 0.0160313\tvalid's multi_logloss: 0.258365\n",
      "Early stopping, best iteration is:\n",
      "[59]\ttrain's multi_logloss: 0.0167734\tvalid's multi_logloss: 0.256585\n"
     ]
    },
    {
     "name": "stderr",
     "output_type": "stream",
     "text": [
      "2022-04-17 11:23:13 - src.train - INFO     [train.py:62] fold=16/24\n",
      "2022-04-17 11:23:13 - src.train - INFO     [train.py:63] reading cv index from data/cv_index/cv-model/basalt/fold_22.csv\n"
     ]
    },
    {
     "name": "stdout",
     "output_type": "stream",
     "text": [
      "Training until validation scores don't improve for 20 rounds\n",
      "[20]\ttrain's multi_logloss: 0.211685\tvalid's multi_logloss: 0.378161\n"
     ]
    },
    {
     "name": "stderr",
     "output_type": "stream",
     "text": [
      "2022-04-17 11:23:14 - src.train - INFO     [train.py:133] elapsed training time: 0.007 min\n",
      "2022-04-17 11:23:14 - src.train - INFO     [train.py:62] fold=17/24\n",
      "2022-04-17 11:23:14 - src.train - INFO     [train.py:63] reading cv index from data/cv_index/cv-model/basalt/fold_23.csv\n"
     ]
    },
    {
     "name": "stdout",
     "output_type": "stream",
     "text": [
      "[40]\ttrain's multi_logloss: 0.0474545\tvalid's multi_logloss: 0.272316\n",
      "[60]\ttrain's multi_logloss: 0.0157688\tvalid's multi_logloss: 0.273996\n",
      "Early stopping, best iteration is:\n",
      "[55]\ttrain's multi_logloss: 0.019769\tvalid's multi_logloss: 0.267947\n",
      "Training until validation scores don't improve for 20 rounds\n",
      "[20]\ttrain's multi_logloss: 0.208054\tvalid's multi_logloss: 0.379942\n",
      "[40]\ttrain's multi_logloss: 0.0477811\tvalid's multi_logloss: 0.27188\n"
     ]
    },
    {
     "name": "stderr",
     "output_type": "stream",
     "text": [
      "2022-04-17 11:23:15 - src.train - INFO     [train.py:133] elapsed training time: 0.018 min\n",
      "2022-04-17 11:23:15 - src.train - INFO     [train.py:62] fold=18/24\n",
      "2022-04-17 11:23:15 - src.train - INFO     [train.py:63] reading cv index from data/cv_index/cv-model/basalt/fold_3.csv\n"
     ]
    },
    {
     "name": "stdout",
     "output_type": "stream",
     "text": [
      "[60]\ttrain's multi_logloss: 0.0161949\tvalid's multi_logloss: 0.262208\n",
      "Early stopping, best iteration is:\n",
      "[49]\ttrain's multi_logloss: 0.0275237\tvalid's multi_logloss: 0.2553\n",
      "Training until validation scores don't improve for 20 rounds\n",
      "[20]\ttrain's multi_logloss: 0.203236\tvalid's multi_logloss: 0.411614\n",
      "[40]\ttrain's multi_logloss: 0.0458487\tvalid's multi_logloss: 0.272231\n",
      "[60]\ttrain's multi_logloss: 0.0154767\tvalid's multi_logloss: 0.246452\n"
     ]
    },
    {
     "name": "stderr",
     "output_type": "stream",
     "text": [
      "2022-04-17 11:23:15 - src.train - INFO     [train.py:133] elapsed training time: 0.007 min\n",
      "2022-04-17 11:23:15 - src.train - INFO     [train.py:62] fold=19/24\n",
      "2022-04-17 11:23:15 - src.train - INFO     [train.py:63] reading cv index from data/cv_index/cv-model/basalt/fold_4.csv\n"
     ]
    },
    {
     "name": "stdout",
     "output_type": "stream",
     "text": [
      "[80]\ttrain's multi_logloss: 0.00825673\tvalid's multi_logloss: 0.247238\n",
      "Early stopping, best iteration is:\n",
      "[61]\ttrain's multi_logloss: 0.0148933\tvalid's multi_logloss: 0.244821\n",
      "Training until validation scores don't improve for 20 rounds\n",
      "[20]\ttrain's multi_logloss: 0.207709\tvalid's multi_logloss: 0.462782\n"
     ]
    },
    {
     "name": "stderr",
     "output_type": "stream",
     "text": [
      "2022-04-17 11:23:16 - src.train - INFO     [train.py:133] elapsed training time: 0.015 min\n"
     ]
    },
    {
     "name": "stdout",
     "output_type": "stream",
     "text": [
      "[40]\ttrain's multi_logloss: 0.0469073\tvalid's multi_logloss: 0.348479\n",
      "[60]\ttrain's multi_logloss: 0.015697\tvalid's multi_logloss: 0.339017\n",
      "Early stopping, best iteration is:\n",
      "[46]\ttrain's multi_logloss: 0.0320542\tvalid's multi_logloss: 0.33829\n"
     ]
    },
    {
     "name": "stderr",
     "output_type": "stream",
     "text": [
      "2022-04-17 11:23:16 - src.train - INFO     [train.py:62] fold=20/24\n",
      "2022-04-17 11:23:16 - src.train - INFO     [train.py:63] reading cv index from data/cv_index/cv-model/basalt/fold_5.csv\n"
     ]
    },
    {
     "name": "stdout",
     "output_type": "stream",
     "text": [
      "Training until validation scores don't improve for 20 rounds\n",
      "[20]\ttrain's multi_logloss: 0.212131\tvalid's multi_logloss: 0.491493\n",
      "[40]\ttrain's multi_logloss: 0.0481249\tvalid's multi_logloss: 0.386839\n",
      "[60]\ttrain's multi_logloss: 0.015647\tvalid's multi_logloss: 0.35138\n",
      "[80]\ttrain's multi_logloss: 0.00825928\tvalid's multi_logloss: 0.343873\n"
     ]
    },
    {
     "name": "stderr",
     "output_type": "stream",
     "text": [
      "2022-04-17 11:23:17 - src.train - INFO     [train.py:133] elapsed training time: 0.011 min\n",
      "2022-04-17 11:23:17 - src.train - INFO     [train.py:62] fold=21/24\n",
      "2022-04-17 11:23:17 - src.train - INFO     [train.py:63] reading cv index from data/cv_index/cv-model/basalt/fold_6.csv\n"
     ]
    },
    {
     "name": "stdout",
     "output_type": "stream",
     "text": [
      "Early stopping, best iteration is:\n",
      "[78]\ttrain's multi_logloss: 0.00869898\tvalid's multi_logloss: 0.343005\n",
      "Training until validation scores don't improve for 20 rounds\n",
      "[20]\ttrain's multi_logloss: 0.193978\tvalid's multi_logloss: 0.467154\n",
      "[40]\ttrain's multi_logloss: 0.0428458\tvalid's multi_logloss: 0.422351\n"
     ]
    },
    {
     "name": "stderr",
     "output_type": "stream",
     "text": [
      "2022-04-17 11:23:18 - src.train - INFO     [train.py:133] elapsed training time: 0.006 min\n",
      "2022-04-17 11:23:18 - src.train - INFO     [train.py:62] fold=22/24\n",
      "2022-04-17 11:23:18 - src.train - INFO     [train.py:63] reading cv index from data/cv_index/cv-model/basalt/fold_7.csv\n"
     ]
    },
    {
     "name": "stdout",
     "output_type": "stream",
     "text": [
      "Early stopping, best iteration is:\n",
      "[37]\ttrain's multi_logloss: 0.0524836\tvalid's multi_logloss: 0.416519\n",
      "Training until validation scores don't improve for 20 rounds\n"
     ]
    },
    {
     "name": "stderr",
     "output_type": "stream",
     "text": [
      "2022-04-17 11:23:18 - src.train - INFO     [train.py:133] elapsed training time: 0.007 min\n",
      "2022-04-17 11:23:18 - src.train - INFO     [train.py:62] fold=23/24\n",
      "2022-04-17 11:23:18 - src.train - INFO     [train.py:63] reading cv index from data/cv_index/cv-model/basalt/fold_8.csv\n"
     ]
    },
    {
     "name": "stdout",
     "output_type": "stream",
     "text": [
      "[20]\ttrain's multi_logloss: 0.209548\tvalid's multi_logloss: 0.397091\n",
      "[40]\ttrain's multi_logloss: 0.0483609\tvalid's multi_logloss: 0.30392\n",
      "[60]\ttrain's multi_logloss: 0.0161528\tvalid's multi_logloss: 0.296628\n",
      "Early stopping, best iteration is:\n",
      "[50]\ttrain's multi_logloss: 0.0260493\tvalid's multi_logloss: 0.293904\n",
      "Training until validation scores don't improve for 20 rounds\n",
      "[20]\ttrain's multi_logloss: 0.208956\tvalid's multi_logloss: 0.414792\n",
      "[40]\ttrain's multi_logloss: 0.0468401\tvalid's multi_logloss: 0.308281\n",
      "[60]\ttrain's multi_logloss: 0.0157421\tvalid's multi_logloss: 0.309435\n"
     ]
    },
    {
     "name": "stderr",
     "output_type": "stream",
     "text": [
      "2022-04-17 11:23:19 - src.train - INFO     [train.py:133] elapsed training time: 0.006 min\n",
      "2022-04-17 11:23:19 - src.train - INFO     [train.py:62] fold=24/24\n",
      "2022-04-17 11:23:19 - src.train - INFO     [train.py:63] reading cv index from data/cv_index/cv-model/basalt/fold_9.csv\n"
     ]
    },
    {
     "name": "stdout",
     "output_type": "stream",
     "text": [
      "Early stopping, best iteration is:\n",
      "[50]\ttrain's multi_logloss: 0.0252508\tvalid's multi_logloss: 0.304435\n",
      "Training until validation scores don't improve for 20 rounds\n",
      "[20]\ttrain's multi_logloss: 0.211493\tvalid's multi_logloss: 0.454718\n"
     ]
    },
    {
     "name": "stderr",
     "output_type": "stream",
     "text": [
      "2022-04-17 11:23:19 - src.train - INFO     [train.py:133] elapsed training time: 0.009 min\n",
      "2022-04-17 11:23:19 - src.train - INFO     [train.py:62] fold=1/24\n",
      "2022-04-17 11:23:19 - src.train - INFO     [train.py:63] reading cv index from data/cv_index/cv-model/basalt/fold_0.csv\n"
     ]
    },
    {
     "name": "stdout",
     "output_type": "stream",
     "text": [
      "[40]\ttrain's multi_logloss: 0.0487202\tvalid's multi_logloss: 0.354358\n",
      "[60]\ttrain's multi_logloss: 0.0161014\tvalid's multi_logloss: 0.359273\n",
      "Early stopping, best iteration is:\n",
      "[47]\ttrain's multi_logloss: 0.0310395\tvalid's multi_logloss: 0.34877\n",
      "50\n"
     ]
    },
    {
     "name": "stderr",
     "output_type": "stream",
     "text": [
      "2022-04-17 11:23:20 - src.train - INFO     [train.py:28] elapsed training time: 0.006 min\n",
      "2022-04-17 11:23:20 - src.train - INFO     [train.py:62] fold=2/24\n",
      "2022-04-17 11:23:20 - src.train - INFO     [train.py:63] reading cv index from data/cv_index/cv-model/basalt/fold_1.csv\n",
      "2022-04-17 11:23:20 - src.train - INFO     [train.py:28] elapsed training time: 0.003 min\n",
      "2022-04-17 11:23:20 - src.train - INFO     [train.py:62] fold=3/24\n",
      "2022-04-17 11:23:20 - src.train - INFO     [train.py:63] reading cv index from data/cv_index/cv-model/basalt/fold_10.csv\n",
      "2022-04-17 11:23:21 - src.train - INFO     [train.py:28] elapsed training time: 0.004 min\n",
      "2022-04-17 11:23:21 - src.train - INFO     [train.py:62] fold=4/24\n",
      "2022-04-17 11:23:21 - src.train - INFO     [train.py:63] reading cv index from data/cv_index/cv-model/basalt/fold_11.csv\n",
      "2022-04-17 11:23:21 - src.train - INFO     [train.py:28] elapsed training time: 0.009 min\n",
      "2022-04-17 11:23:21 - src.train - INFO     [train.py:62] fold=5/24\n",
      "2022-04-17 11:23:21 - src.train - INFO     [train.py:63] reading cv index from data/cv_index/cv-model/basalt/fold_12.csv\n",
      "2022-04-17 11:23:22 - src.train - INFO     [train.py:28] elapsed training time: 0.005 min\n",
      "2022-04-17 11:23:22 - src.train - INFO     [train.py:62] fold=6/24\n",
      "2022-04-17 11:23:22 - src.train - INFO     [train.py:63] reading cv index from data/cv_index/cv-model/basalt/fold_13.csv\n",
      "2022-04-17 11:23:22 - src.train - INFO     [train.py:28] elapsed training time: 0.004 min\n",
      "2022-04-17 11:23:22 - src.train - INFO     [train.py:62] fold=7/24\n",
      "2022-04-17 11:23:22 - src.train - INFO     [train.py:63] reading cv index from data/cv_index/cv-model/basalt/fold_14.csv\n",
      "2022-04-17 11:23:22 - src.train - INFO     [train.py:28] elapsed training time: 0.003 min\n",
      "2022-04-17 11:23:22 - src.train - INFO     [train.py:62] fold=8/24\n",
      "2022-04-17 11:23:22 - src.train - INFO     [train.py:63] reading cv index from data/cv_index/cv-model/basalt/fold_15.csv\n",
      "2022-04-17 11:23:23 - src.train - INFO     [train.py:28] elapsed training time: 0.005 min\n",
      "2022-04-17 11:23:23 - src.train - INFO     [train.py:62] fold=9/24\n",
      "2022-04-17 11:23:23 - src.train - INFO     [train.py:63] reading cv index from data/cv_index/cv-model/basalt/fold_16.csv\n",
      "2022-04-17 11:23:23 - src.train - INFO     [train.py:28] elapsed training time: 0.003 min\n",
      "2022-04-17 11:23:23 - src.train - INFO     [train.py:62] fold=10/24\n",
      "2022-04-17 11:23:23 - src.train - INFO     [train.py:63] reading cv index from data/cv_index/cv-model/basalt/fold_17.csv\n",
      "2022-04-17 11:23:23 - src.train - INFO     [train.py:28] elapsed training time: 0.004 min\n",
      "2022-04-17 11:23:23 - src.train - INFO     [train.py:62] fold=11/24\n",
      "2022-04-17 11:23:23 - src.train - INFO     [train.py:63] reading cv index from data/cv_index/cv-model/basalt/fold_18.csv\n",
      "2022-04-17 11:23:24 - src.train - INFO     [train.py:28] elapsed training time: 0.003 min\n",
      "2022-04-17 11:23:24 - src.train - INFO     [train.py:62] fold=12/24\n",
      "2022-04-17 11:23:24 - src.train - INFO     [train.py:63] reading cv index from data/cv_index/cv-model/basalt/fold_19.csv\n",
      "2022-04-17 11:23:24 - src.train - INFO     [train.py:28] elapsed training time: 0.003 min\n",
      "2022-04-17 11:23:24 - src.train - INFO     [train.py:62] fold=13/24\n",
      "2022-04-17 11:23:24 - src.train - INFO     [train.py:63] reading cv index from data/cv_index/cv-model/basalt/fold_2.csv\n",
      "2022-04-17 11:23:24 - src.train - INFO     [train.py:28] elapsed training time: 0.004 min\n",
      "2022-04-17 11:23:24 - src.train - INFO     [train.py:62] fold=14/24\n",
      "2022-04-17 11:23:24 - src.train - INFO     [train.py:63] reading cv index from data/cv_index/cv-model/basalt/fold_20.csv\n",
      "2022-04-17 11:23:25 - src.train - INFO     [train.py:28] elapsed training time: 0.003 min\n",
      "2022-04-17 11:23:25 - src.train - INFO     [train.py:62] fold=15/24\n",
      "2022-04-17 11:23:25 - src.train - INFO     [train.py:63] reading cv index from data/cv_index/cv-model/basalt/fold_21.csv\n",
      "2022-04-17 11:23:25 - src.train - INFO     [train.py:28] elapsed training time: 0.003 min\n",
      "2022-04-17 11:23:25 - src.train - INFO     [train.py:62] fold=16/24\n",
      "2022-04-17 11:23:25 - src.train - INFO     [train.py:63] reading cv index from data/cv_index/cv-model/basalt/fold_22.csv\n",
      "2022-04-17 11:23:25 - src.train - INFO     [train.py:28] elapsed training time: 0.003 min\n",
      "2022-04-17 11:23:25 - src.train - INFO     [train.py:62] fold=17/24\n",
      "2022-04-17 11:23:25 - src.train - INFO     [train.py:63] reading cv index from data/cv_index/cv-model/basalt/fold_23.csv\n",
      "2022-04-17 11:23:26 - src.train - INFO     [train.py:28] elapsed training time: 0.004 min\n",
      "2022-04-17 11:23:26 - src.train - INFO     [train.py:62] fold=18/24\n",
      "2022-04-17 11:23:26 - src.train - INFO     [train.py:63] reading cv index from data/cv_index/cv-model/basalt/fold_3.csv\n",
      "2022-04-17 11:23:26 - src.train - INFO     [train.py:28] elapsed training time: 0.004 min\n",
      "2022-04-17 11:23:26 - src.train - INFO     [train.py:62] fold=19/24\n",
      "2022-04-17 11:23:26 - src.train - INFO     [train.py:63] reading cv index from data/cv_index/cv-model/basalt/fold_4.csv\n",
      "2022-04-17 11:23:26 - src.train - INFO     [train.py:28] elapsed training time: 0.004 min\n",
      "2022-04-17 11:23:26 - src.train - INFO     [train.py:62] fold=20/24\n",
      "2022-04-17 11:23:26 - src.train - INFO     [train.py:63] reading cv index from data/cv_index/cv-model/basalt/fold_5.csv\n",
      "2022-04-17 11:23:27 - src.train - INFO     [train.py:28] elapsed training time: 0.007 min\n",
      "2022-04-17 11:23:27 - src.train - INFO     [train.py:62] fold=21/24\n",
      "2022-04-17 11:23:27 - src.train - INFO     [train.py:63] reading cv index from data/cv_index/cv-model/basalt/fold_6.csv\n",
      "2022-04-17 11:23:27 - src.train - INFO     [train.py:28] elapsed training time: 0.005 min\n",
      "2022-04-17 11:23:27 - src.train - INFO     [train.py:62] fold=22/24\n",
      "2022-04-17 11:23:27 - src.train - INFO     [train.py:63] reading cv index from data/cv_index/cv-model/basalt/fold_7.csv\n",
      "2022-04-17 11:23:28 - src.train - INFO     [train.py:28] elapsed training time: 0.004 min\n",
      "2022-04-17 11:23:28 - src.train - INFO     [train.py:62] fold=23/24\n",
      "2022-04-17 11:23:28 - src.train - INFO     [train.py:63] reading cv index from data/cv_index/cv-model/basalt/fold_8.csv\n",
      "2022-04-17 11:23:28 - src.train - INFO     [train.py:28] elapsed training time: 0.003 min\n",
      "2022-04-17 11:23:28 - src.train - INFO     [train.py:62] fold=24/24\n",
      "2022-04-17 11:23:28 - src.train - INFO     [train.py:63] reading cv index from data/cv_index/cv-model/basalt/fold_9.csv\n",
      "2022-04-17 11:23:28 - src.train - INFO     [train.py:28] elapsed training time: 0.003 min\n",
      "2022-04-17 11:23:28 - src.train - INFO     [train.py:62] fold=1/24\n",
      "2022-04-17 11:23:28 - src.train - INFO     [train.py:63] reading cv index from data/cv_index/cv-model/carbonate/fold_0.csv\n"
     ]
    },
    {
     "name": "stdout",
     "output_type": "stream",
     "text": [
      "Training until validation scores don't improve for 20 rounds\n",
      "[20]\ttrain's multi_logloss: 0.196557\tvalid's multi_logloss: 0.41248\n"
     ]
    },
    {
     "name": "stderr",
     "output_type": "stream",
     "text": [
      "2022-04-17 11:23:29 - src.train - INFO     [train.py:133] elapsed training time: 0.009 min\n",
      "2022-04-17 11:23:29 - src.train - INFO     [train.py:62] fold=2/24\n",
      "2022-04-17 11:23:29 - src.train - INFO     [train.py:63] reading cv index from data/cv_index/cv-model/carbonate/fold_1.csv\n"
     ]
    },
    {
     "name": "stdout",
     "output_type": "stream",
     "text": [
      "[40]\ttrain's multi_logloss: 0.0433334\tvalid's multi_logloss: 0.354717\n",
      "Early stopping, best iteration is:\n",
      "[36]\ttrain's multi_logloss: 0.0570371\tvalid's multi_logloss: 0.350716\n",
      "Training until validation scores don't improve for 20 rounds\n",
      "[20]\ttrain's multi_logloss: 0.203554\tvalid's multi_logloss: 0.331388\n",
      "[40]\ttrain's multi_logloss: 0.0455556\tvalid's multi_logloss: 0.22302\n"
     ]
    },
    {
     "name": "stderr",
     "output_type": "stream",
     "text": [
      "2022-04-17 11:23:29 - src.train - INFO     [train.py:133] elapsed training time: 0.007 min\n",
      "2022-04-17 11:23:29 - src.train - INFO     [train.py:62] fold=3/24\n",
      "2022-04-17 11:23:29 - src.train - INFO     [train.py:63] reading cv index from data/cv_index/cv-model/carbonate/fold_10.csv\n"
     ]
    },
    {
     "name": "stdout",
     "output_type": "stream",
     "text": [
      "[60]\ttrain's multi_logloss: 0.0154309\tvalid's multi_logloss: 0.207357\n",
      "Early stopping, best iteration is:\n",
      "[57]\ttrain's multi_logloss: 0.0176116\tvalid's multi_logloss: 0.204431\n",
      "Training until validation scores don't improve for 20 rounds\n",
      "[20]\ttrain's multi_logloss: 0.201059\tvalid's multi_logloss: 0.427199\n",
      "[40]\ttrain's multi_logloss: 0.0434919\tvalid's multi_logloss: 0.341813\n"
     ]
    },
    {
     "name": "stderr",
     "output_type": "stream",
     "text": [
      "2022-04-17 11:23:30 - src.train - INFO     [train.py:133] elapsed training time: 0.007 min\n",
      "2022-04-17 11:23:30 - src.train - INFO     [train.py:62] fold=4/24\n",
      "2022-04-17 11:23:30 - src.train - INFO     [train.py:63] reading cv index from data/cv_index/cv-model/carbonate/fold_11.csv\n"
     ]
    },
    {
     "name": "stdout",
     "output_type": "stream",
     "text": [
      "[60]\ttrain's multi_logloss: 0.0139943\tvalid's multi_logloss: 0.358884\n",
      "Early stopping, best iteration is:\n",
      "[48]\ttrain's multi_logloss: 0.0257572\tvalid's multi_logloss: 0.338065\n",
      "Training until validation scores don't improve for 20 rounds\n",
      "[20]\ttrain's multi_logloss: 0.193014\tvalid's multi_logloss: 0.428058\n",
      "[40]\ttrain's multi_logloss: 0.0440685\tvalid's multi_logloss: 0.319844\n",
      "[60]\ttrain's multi_logloss: 0.0143048\tvalid's multi_logloss: 0.278032\n",
      "[80]\ttrain's multi_logloss: 0.00769883\tvalid's multi_logloss: 0.274215\n",
      "[100]\ttrain's multi_logloss: 0.0057813\tvalid's multi_logloss: 0.272757\n"
     ]
    },
    {
     "name": "stderr",
     "output_type": "stream",
     "text": [
      "2022-04-17 11:23:32 - src.train - INFO     [train.py:133] elapsed training time: 0.027 min\n",
      "2022-04-17 11:23:32 - src.train - INFO     [train.py:62] fold=5/24\n",
      "2022-04-17 11:23:32 - src.train - INFO     [train.py:63] reading cv index from data/cv_index/cv-model/carbonate/fold_12.csv\n"
     ]
    },
    {
     "name": "stdout",
     "output_type": "stream",
     "text": [
      "Early stopping, best iteration is:\n",
      "[97]\ttrain's multi_logloss: 0.00592691\tvalid's multi_logloss: 0.272122\n",
      "Training until validation scores don't improve for 20 rounds\n",
      "[20]\ttrain's multi_logloss: 0.202895\tvalid's multi_logloss: 0.410673\n",
      "[40]\ttrain's multi_logloss: 0.0451007\tvalid's multi_logloss: 0.277355\n",
      "[60]\ttrain's multi_logloss: 0.0148062\tvalid's multi_logloss: 0.252102\n"
     ]
    },
    {
     "name": "stderr",
     "output_type": "stream",
     "text": [
      "2022-04-17 11:23:32 - src.train - INFO     [train.py:133] elapsed training time: 0.007 min\n",
      "2022-04-17 11:23:32 - src.train - INFO     [train.py:62] fold=6/24\n",
      "2022-04-17 11:23:32 - src.train - INFO     [train.py:63] reading cv index from data/cv_index/cv-model/carbonate/fold_13.csv\n"
     ]
    },
    {
     "name": "stdout",
     "output_type": "stream",
     "text": [
      "[80]\ttrain's multi_logloss: 0.00785189\tvalid's multi_logloss: 0.252589\n",
      "Early stopping, best iteration is:\n",
      "[67]\ttrain's multi_logloss: 0.0113151\tvalid's multi_logloss: 0.249552\n"
     ]
    },
    {
     "name": "stderr",
     "output_type": "stream",
     "text": [
      "2022-04-17 11:23:33 - src.train - INFO     [train.py:133] elapsed training time: 0.005 min\n",
      "2022-04-17 11:23:33 - src.train - INFO     [train.py:62] fold=7/24\n",
      "2022-04-17 11:23:33 - src.train - INFO     [train.py:63] reading cv index from data/cv_index/cv-model/carbonate/fold_14.csv\n"
     ]
    },
    {
     "name": "stdout",
     "output_type": "stream",
     "text": [
      "Training until validation scores don't improve for 20 rounds\n",
      "[20]\ttrain's multi_logloss: 0.194945\tvalid's multi_logloss: 0.443205\n",
      "[40]\ttrain's multi_logloss: 0.0436518\tvalid's multi_logloss: 0.353511\n",
      "Early stopping, best iteration is:\n",
      "[39]\ttrain's multi_logloss: 0.0465039\tvalid's multi_logloss: 0.350485\n",
      "Training until validation scores don't improve for 20 rounds\n",
      "[20]\ttrain's multi_logloss: 0.200587\tvalid's multi_logloss: 0.408421\n",
      "[40]\ttrain's multi_logloss: 0.0449461\tvalid's multi_logloss: 0.299181\n",
      "[60]\ttrain's multi_logloss: 0.0148891\tvalid's multi_logloss: 0.281801\n",
      "Early stopping, best iteration is:\n",
      "[58]\ttrain's multi_logloss: 0.0163069\tvalid's multi_logloss: 0.281388\n"
     ]
    },
    {
     "name": "stderr",
     "output_type": "stream",
     "text": [
      "2022-04-17 11:23:33 - src.train - INFO     [train.py:133] elapsed training time: 0.005 min\n",
      "2022-04-17 11:23:33 - src.train - INFO     [train.py:62] fold=8/24\n",
      "2022-04-17 11:23:33 - src.train - INFO     [train.py:63] reading cv index from data/cv_index/cv-model/carbonate/fold_15.csv\n"
     ]
    },
    {
     "name": "stdout",
     "output_type": "stream",
     "text": [
      "Training until validation scores don't improve for 20 rounds\n",
      "[20]\ttrain's multi_logloss: 0.201734\tvalid's multi_logloss: 0.346742\n",
      "[40]\ttrain's multi_logloss: 0.0455955\tvalid's multi_logloss: 0.204222\n",
      "[60]\ttrain's multi_logloss: 0.0152456\tvalid's multi_logloss: 0.179961\n"
     ]
    },
    {
     "name": "stderr",
     "output_type": "stream",
     "text": [
      "2022-04-17 11:23:33 - src.train - INFO     [train.py:133] elapsed training time: 0.007 min\n",
      "2022-04-17 11:23:33 - src.train - INFO     [train.py:62] fold=9/24\n",
      "2022-04-17 11:23:33 - src.train - INFO     [train.py:63] reading cv index from data/cv_index/cv-model/carbonate/fold_16.csv\n"
     ]
    },
    {
     "name": "stdout",
     "output_type": "stream",
     "text": [
      "[80]\ttrain's multi_logloss: 0.0081167\tvalid's multi_logloss: 0.175665\n",
      "[100]\ttrain's multi_logloss: 0.00604788\tvalid's multi_logloss: 0.173436\n",
      "Early stopping, best iteration is:\n",
      "[97]\ttrain's multi_logloss: 0.00623598\tvalid's multi_logloss: 0.172784\n",
      "Training until validation scores don't improve for 20 rounds\n",
      "[20]\ttrain's multi_logloss: 0.202092\tvalid's multi_logloss: 0.407542\n",
      "[40]\ttrain's multi_logloss: 0.0457586\tvalid's multi_logloss: 0.280035\n",
      "[60]\ttrain's multi_logloss: 0.0152839\tvalid's multi_logloss: 0.256402\n",
      "[80]\ttrain's multi_logloss: 0.00795912\tvalid's multi_logloss: 0.250652\n"
     ]
    },
    {
     "name": "stderr",
     "output_type": "stream",
     "text": [
      "2022-04-17 11:23:34 - src.train - INFO     [train.py:133] elapsed training time: 0.006 min\n",
      "2022-04-17 11:23:34 - src.train - INFO     [train.py:62] fold=10/24\n",
      "2022-04-17 11:23:34 - src.train - INFO     [train.py:63] reading cv index from data/cv_index/cv-model/carbonate/fold_17.csv\n"
     ]
    },
    {
     "name": "stdout",
     "output_type": "stream",
     "text": [
      "[100]\ttrain's multi_logloss: 0.00594517\tvalid's multi_logloss: 0.246306\n",
      "Early stopping, best iteration is:\n",
      "[95]\ttrain's multi_logloss: 0.00620164\tvalid's multi_logloss: 0.244813\n",
      "Training until validation scores don't improve for 20 rounds\n",
      "[20]\ttrain's multi_logloss: 0.198019\tvalid's multi_logloss: 0.400343\n",
      "[40]\ttrain's multi_logloss: 0.043998\tvalid's multi_logloss: 0.280917\n"
     ]
    },
    {
     "name": "stderr",
     "output_type": "stream",
     "text": [
      "2022-04-17 11:23:34 - src.train - INFO     [train.py:133] elapsed training time: 0.008 min\n",
      "2022-04-17 11:23:34 - src.train - INFO     [train.py:62] fold=11/24\n",
      "2022-04-17 11:23:35 - src.train - INFO     [train.py:63] reading cv index from data/cv_index/cv-model/carbonate/fold_18.csv\n"
     ]
    },
    {
     "name": "stdout",
     "output_type": "stream",
     "text": [
      "[60]\ttrain's multi_logloss: 0.0145737\tvalid's multi_logloss: 0.266579\n",
      "[80]\ttrain's multi_logloss: 0.007873\tvalid's multi_logloss: 0.259764\n",
      "[100]\ttrain's multi_logloss: 0.00587084\tvalid's multi_logloss: 0.259464\n",
      "Early stopping, best iteration is:\n",
      "[89]\ttrain's multi_logloss: 0.00670731\tvalid's multi_logloss: 0.258228\n"
     ]
    },
    {
     "name": "stderr",
     "output_type": "stream",
     "text": [
      "2022-04-17 11:23:35 - src.train - INFO     [train.py:133] elapsed training time: 0.004 min\n",
      "2022-04-17 11:23:35 - src.train - INFO     [train.py:62] fold=12/24\n",
      "2022-04-17 11:23:35 - src.train - INFO     [train.py:63] reading cv index from data/cv_index/cv-model/carbonate/fold_19.csv\n"
     ]
    },
    {
     "name": "stdout",
     "output_type": "stream",
     "text": [
      "Training until validation scores don't improve for 20 rounds\n",
      "[20]\ttrain's multi_logloss: 0.188303\tvalid's multi_logloss: 0.451624\n",
      "[40]\ttrain's multi_logloss: 0.0403526\tvalid's multi_logloss: 0.378263\n",
      "[60]\ttrain's multi_logloss: 0.0134278\tvalid's multi_logloss: 0.384492\n",
      "Early stopping, best iteration is:\n",
      "[43]\ttrain's multi_logloss: 0.0328899\tvalid's multi_logloss: 0.376497\n"
     ]
    },
    {
     "name": "stderr",
     "output_type": "stream",
     "text": [
      "2022-04-17 11:23:35 - src.train - INFO     [train.py:133] elapsed training time: 0.004 min\n",
      "2022-04-17 11:23:35 - src.train - INFO     [train.py:62] fold=13/24\n",
      "2022-04-17 11:23:35 - src.train - INFO     [train.py:63] reading cv index from data/cv_index/cv-model/carbonate/fold_2.csv\n"
     ]
    },
    {
     "name": "stdout",
     "output_type": "stream",
     "text": [
      "Training until validation scores don't improve for 20 rounds\n",
      "[20]\ttrain's multi_logloss: 0.194199\tvalid's multi_logloss: 0.576806\n",
      "[40]\ttrain's multi_logloss: 0.0415798\tvalid's multi_logloss: 0.474174\n",
      "[60]\ttrain's multi_logloss: 0.0137371\tvalid's multi_logloss: 0.481883\n",
      "Early stopping, best iteration is:\n",
      "[43]\ttrain's multi_logloss: 0.0342133\tvalid's multi_logloss: 0.470995\n",
      "Training until validation scores don't improve for 20 rounds\n",
      "[20]\ttrain's multi_logloss: 0.194387\tvalid's multi_logloss: 0.382159\n"
     ]
    },
    {
     "name": "stderr",
     "output_type": "stream",
     "text": [
      "2022-04-17 11:23:36 - src.train - INFO     [train.py:133] elapsed training time: 0.008 min\n",
      "2022-04-17 11:23:36 - src.train - INFO     [train.py:62] fold=14/24\n",
      "2022-04-17 11:23:36 - src.train - INFO     [train.py:63] reading cv index from data/cv_index/cv-model/carbonate/fold_20.csv\n"
     ]
    },
    {
     "name": "stdout",
     "output_type": "stream",
     "text": [
      "[40]\ttrain's multi_logloss: 0.0426544\tvalid's multi_logloss: 0.28968\n",
      "[60]\ttrain's multi_logloss: 0.0140218\tvalid's multi_logloss: 0.281591\n",
      "Early stopping, best iteration is:\n",
      "[53]\ttrain's multi_logloss: 0.019575\tvalid's multi_logloss: 0.27661\n"
     ]
    },
    {
     "name": "stderr",
     "output_type": "stream",
     "text": [
      "2022-04-17 11:23:36 - src.train - INFO     [train.py:133] elapsed training time: 0.005 min\n",
      "2022-04-17 11:23:36 - src.train - INFO     [train.py:62] fold=15/24\n",
      "2022-04-17 11:23:36 - src.train - INFO     [train.py:63] reading cv index from data/cv_index/cv-model/carbonate/fold_21.csv\n"
     ]
    },
    {
     "name": "stdout",
     "output_type": "stream",
     "text": [
      "Training until validation scores don't improve for 20 rounds\n",
      "[20]\ttrain's multi_logloss: 0.198\tvalid's multi_logloss: 0.381316\n",
      "[40]\ttrain's multi_logloss: 0.0435602\tvalid's multi_logloss: 0.274348\n",
      "[60]\ttrain's multi_logloss: 0.0145949\tvalid's multi_logloss: 0.281505\n",
      "Early stopping, best iteration is:\n",
      "[40]\ttrain's multi_logloss: 0.0435602\tvalid's multi_logloss: 0.274348\n",
      "Training until validation scores don't improve for 20 rounds\n",
      "[20]\ttrain's multi_logloss: 0.200788\tvalid's multi_logloss: 0.347872\n",
      "[40]\ttrain's multi_logloss: 0.0453825\tvalid's multi_logloss: 0.211619\n",
      "[60]\ttrain's multi_logloss: 0.0149197\tvalid's multi_logloss: 0.18726\n"
     ]
    },
    {
     "name": "stderr",
     "output_type": "stream",
     "text": [
      "2022-04-17 11:23:37 - src.train - INFO     [train.py:133] elapsed training time: 0.007 min\n",
      "2022-04-17 11:23:37 - src.train - INFO     [train.py:62] fold=16/24\n",
      "2022-04-17 11:23:37 - src.train - INFO     [train.py:63] reading cv index from data/cv_index/cv-model/carbonate/fold_22.csv\n"
     ]
    },
    {
     "name": "stdout",
     "output_type": "stream",
     "text": [
      "[80]\ttrain's multi_logloss: 0.0080457\tvalid's multi_logloss: 0.18821\n",
      "Early stopping, best iteration is:\n",
      "[60]\ttrain's multi_logloss: 0.0149197\tvalid's multi_logloss: 0.18726\n",
      "Training until validation scores don't improve for 20 rounds\n",
      "[20]\ttrain's multi_logloss: 0.203823\tvalid's multi_logloss: 0.345357\n",
      "[40]\ttrain's multi_logloss: 0.0450461\tvalid's multi_logloss: 0.22018\n"
     ]
    },
    {
     "name": "stderr",
     "output_type": "stream",
     "text": [
      "2022-04-17 11:23:37 - src.train - INFO     [train.py:133] elapsed training time: 0.007 min\n",
      "2022-04-17 11:23:37 - src.train - INFO     [train.py:62] fold=17/24\n",
      "2022-04-17 11:23:37 - src.train - INFO     [train.py:63] reading cv index from data/cv_index/cv-model/carbonate/fold_23.csv\n"
     ]
    },
    {
     "name": "stdout",
     "output_type": "stream",
     "text": [
      "[60]\ttrain's multi_logloss: 0.0148549\tvalid's multi_logloss: 0.212334\n",
      "Early stopping, best iteration is:\n",
      "[56]\ttrain's multi_logloss: 0.017779\tvalid's multi_logloss: 0.206476\n",
      "Training until validation scores don't improve for 20 rounds\n",
      "[20]\ttrain's multi_logloss: 0.206538\tvalid's multi_logloss: 0.337032\n",
      "[40]\ttrain's multi_logloss: 0.0464215\tvalid's multi_logloss: 0.204784\n"
     ]
    },
    {
     "name": "stderr",
     "output_type": "stream",
     "text": [
      "2022-04-17 11:23:38 - src.train - INFO     [train.py:133] elapsed training time: 0.007 min\n",
      "2022-04-17 11:23:38 - src.train - INFO     [train.py:62] fold=18/24\n",
      "2022-04-17 11:23:38 - src.train - INFO     [train.py:63] reading cv index from data/cv_index/cv-model/carbonate/fold_3.csv\n"
     ]
    },
    {
     "name": "stdout",
     "output_type": "stream",
     "text": [
      "[60]\ttrain's multi_logloss: 0.0154821\tvalid's multi_logloss: 0.167883\n",
      "[80]\ttrain's multi_logloss: 0.00822112\tvalid's multi_logloss: 0.160382\n",
      "[100]\ttrain's multi_logloss: 0.00610284\tvalid's multi_logloss: 0.153975\n",
      "[120]\ttrain's multi_logloss: 0.00549226\tvalid's multi_logloss: 0.151144\n",
      "[140]\ttrain's multi_logloss: 0.00531694\tvalid's multi_logloss: 0.151201\n",
      "Early stopping, best iteration is:\n",
      "[131]\ttrain's multi_logloss: 0.0053618\tvalid's multi_logloss: 0.150874\n",
      "Training until validation scores don't improve for 20 rounds\n",
      "[20]\ttrain's multi_logloss: 0.199171\tvalid's multi_logloss: 0.397048\n",
      "[40]\ttrain's multi_logloss: 0.0453211\tvalid's multi_logloss: 0.295095\n",
      "[60]\ttrain's multi_logloss: 0.015157\tvalid's multi_logloss: 0.280635\n"
     ]
    },
    {
     "name": "stderr",
     "output_type": "stream",
     "text": [
      "2022-04-17 11:23:38 - src.train - INFO     [train.py:133] elapsed training time: 0.006 min\n",
      "2022-04-17 11:23:38 - src.train - INFO     [train.py:62] fold=19/24\n",
      "2022-04-17 11:23:38 - src.train - INFO     [train.py:63] reading cv index from data/cv_index/cv-model/carbonate/fold_4.csv\n"
     ]
    },
    {
     "name": "stdout",
     "output_type": "stream",
     "text": [
      "Early stopping, best iteration is:\n",
      "[54]\ttrain's multi_logloss: 0.019868\tvalid's multi_logloss: 0.278019\n",
      "Training until validation scores don't improve for 20 rounds\n",
      "[20]\ttrain's multi_logloss: 0.20549\tvalid's multi_logloss: 0.445383\n",
      "[40]\ttrain's multi_logloss: 0.0470536\tvalid's multi_logloss: 0.297232\n",
      "[60]\ttrain's multi_logloss: 0.0153319\tvalid's multi_logloss: 0.260345\n"
     ]
    },
    {
     "name": "stderr",
     "output_type": "stream",
     "text": [
      "2022-04-17 11:23:39 - src.train - INFO     [train.py:133] elapsed training time: 0.015 min\n",
      "2022-04-17 11:23:39 - src.train - INFO     [train.py:62] fold=20/24\n",
      "2022-04-17 11:23:39 - src.train - INFO     [train.py:63] reading cv index from data/cv_index/cv-model/carbonate/fold_5.csv\n"
     ]
    },
    {
     "name": "stdout",
     "output_type": "stream",
     "text": [
      "[80]\ttrain's multi_logloss: 0.00804281\tvalid's multi_logloss: 0.251812\n",
      "[100]\ttrain's multi_logloss: 0.00595668\tvalid's multi_logloss: 0.253574\n",
      "Early stopping, best iteration is:\n",
      "[85]\ttrain's multi_logloss: 0.0072427\tvalid's multi_logloss: 0.249084\n",
      "Training until validation scores don't improve for 20 rounds\n",
      "[20]\ttrain's multi_logloss: 0.19355\tvalid's multi_logloss: 0.480031\n",
      "[40]\ttrain's multi_logloss: 0.0425851\tvalid's multi_logloss: 0.334579\n"
     ]
    },
    {
     "name": "stderr",
     "output_type": "stream",
     "text": [
      "2022-04-17 11:23:40 - src.train - INFO     [train.py:133] elapsed training time: 0.006 min\n",
      "2022-04-17 11:23:40 - src.train - INFO     [train.py:62] fold=21/24\n",
      "2022-04-17 11:23:40 - src.train - INFO     [train.py:63] reading cv index from data/cv_index/cv-model/carbonate/fold_6.csv\n"
     ]
    },
    {
     "name": "stdout",
     "output_type": "stream",
     "text": [
      "[60]\ttrain's multi_logloss: 0.0140315\tvalid's multi_logloss: 0.309334\n",
      "[80]\ttrain's multi_logloss: 0.00759603\tvalid's multi_logloss: 0.309708\n",
      "Early stopping, best iteration is:\n",
      "[64]\ttrain's multi_logloss: 0.0118617\tvalid's multi_logloss: 0.305327\n",
      "Training until validation scores don't improve for 20 rounds\n",
      "[20]\ttrain's multi_logloss: 0.191159\tvalid's multi_logloss: 0.445382\n"
     ]
    },
    {
     "name": "stderr",
     "output_type": "stream",
     "text": [
      "2022-04-17 11:23:40 - src.train - INFO     [train.py:133] elapsed training time: 0.007 min\n",
      "2022-04-17 11:23:40 - src.train - INFO     [train.py:62] fold=22/24\n",
      "2022-04-17 11:23:40 - src.train - INFO     [train.py:63] reading cv index from data/cv_index/cv-model/carbonate/fold_7.csv\n"
     ]
    },
    {
     "name": "stdout",
     "output_type": "stream",
     "text": [
      "[40]\ttrain's multi_logloss: 0.0412072\tvalid's multi_logloss: 0.408498\n",
      "Early stopping, best iteration is:\n",
      "[31]\ttrain's multi_logloss: 0.0795368\tvalid's multi_logloss: 0.407314\n",
      "Training until validation scores don't improve for 20 rounds\n",
      "[20]\ttrain's multi_logloss: 0.210564\tvalid's multi_logloss: 0.411589\n",
      "[40]\ttrain's multi_logloss: 0.046322\tvalid's multi_logloss: 0.279693\n"
     ]
    },
    {
     "name": "stderr",
     "output_type": "stream",
     "text": [
      "2022-04-17 11:23:41 - src.train - INFO     [train.py:133] elapsed training time: 0.008 min\n",
      "2022-04-17 11:23:41 - src.train - INFO     [train.py:62] fold=23/24\n",
      "2022-04-17 11:23:41 - src.train - INFO     [train.py:63] reading cv index from data/cv_index/cv-model/carbonate/fold_8.csv\n"
     ]
    },
    {
     "name": "stdout",
     "output_type": "stream",
     "text": [
      "[60]\ttrain's multi_logloss: 0.0149619\tvalid's multi_logloss: 0.25281\n",
      "[80]\ttrain's multi_logloss: 0.00796325\tvalid's multi_logloss: 0.24446\n",
      "[100]\ttrain's multi_logloss: 0.00599068\tvalid's multi_logloss: 0.241908\n",
      "[120]\ttrain's multi_logloss: 0.00543824\tvalid's multi_logloss: 0.241142\n",
      "Early stopping, best iteration is:\n",
      "[119]\ttrain's multi_logloss: 0.00545845\tvalid's multi_logloss: 0.240954\n",
      "Training until validation scores don't improve for 20 rounds\n",
      "[20]\ttrain's multi_logloss: 0.198839\tvalid's multi_logloss: 0.362715\n",
      "[40]\ttrain's multi_logloss: 0.0436812\tvalid's multi_logloss: 0.266925\n",
      "[60]\ttrain's multi_logloss: 0.0145794\tvalid's multi_logloss: 0.269169\n"
     ]
    },
    {
     "name": "stderr",
     "output_type": "stream",
     "text": [
      "2022-04-17 11:23:41 - src.train - INFO     [train.py:133] elapsed training time: 0.005 min\n",
      "2022-04-17 11:23:41 - src.train - INFO     [train.py:62] fold=24/24\n",
      "2022-04-17 11:23:41 - src.train - INFO     [train.py:63] reading cv index from data/cv_index/cv-model/carbonate/fold_9.csv\n"
     ]
    },
    {
     "name": "stdout",
     "output_type": "stream",
     "text": [
      "Early stopping, best iteration is:\n",
      "[47]\ttrain's multi_logloss: 0.0277839\tvalid's multi_logloss: 0.262361\n",
      "Training until validation scores don't improve for 20 rounds\n",
      "[20]\ttrain's multi_logloss: 0.20143\tvalid's multi_logloss: 0.446203\n",
      "[40]\ttrain's multi_logloss: 0.0437226\tvalid's multi_logloss: 0.345168\n"
     ]
    },
    {
     "name": "stderr",
     "output_type": "stream",
     "text": [
      "2022-04-17 11:23:42 - src.train - INFO     [train.py:133] elapsed training time: 0.007 min\n",
      "2022-04-17 11:23:42 - src.train - INFO     [train.py:62] fold=1/24\n",
      "2022-04-17 11:23:42 - src.train - INFO     [train.py:63] reading cv index from data/cv_index/cv-model/carbonate/fold_0.csv\n"
     ]
    },
    {
     "name": "stdout",
     "output_type": "stream",
     "text": [
      "[60]\ttrain's multi_logloss: 0.0143789\tvalid's multi_logloss: 0.340268\n",
      "Early stopping, best iteration is:\n",
      "[56]\ttrain's multi_logloss: 0.0172044\tvalid's multi_logloss: 0.337871\n",
      "65\n"
     ]
    },
    {
     "name": "stderr",
     "output_type": "stream",
     "text": [
      "2022-04-17 11:23:42 - src.train - INFO     [train.py:28] elapsed training time: 0.004 min\n",
      "2022-04-17 11:23:42 - src.train - INFO     [train.py:62] fold=2/24\n",
      "2022-04-17 11:23:42 - src.train - INFO     [train.py:63] reading cv index from data/cv_index/cv-model/carbonate/fold_1.csv\n",
      "2022-04-17 11:23:43 - src.train - INFO     [train.py:28] elapsed training time: 0.004 min\n",
      "2022-04-17 11:23:43 - src.train - INFO     [train.py:62] fold=3/24\n",
      "2022-04-17 11:23:43 - src.train - INFO     [train.py:63] reading cv index from data/cv_index/cv-model/carbonate/fold_10.csv\n",
      "2022-04-17 11:23:43 - src.train - INFO     [train.py:28] elapsed training time: 0.004 min\n",
      "2022-04-17 11:23:43 - src.train - INFO     [train.py:62] fold=4/24\n",
      "2022-04-17 11:23:43 - src.train - INFO     [train.py:63] reading cv index from data/cv_index/cv-model/carbonate/fold_11.csv\n",
      "2022-04-17 11:23:43 - src.train - INFO     [train.py:28] elapsed training time: 0.004 min\n",
      "2022-04-17 11:23:43 - src.train - INFO     [train.py:62] fold=5/24\n",
      "2022-04-17 11:23:43 - src.train - INFO     [train.py:63] reading cv index from data/cv_index/cv-model/carbonate/fold_12.csv\n",
      "2022-04-17 11:23:44 - src.train - INFO     [train.py:28] elapsed training time: 0.004 min\n",
      "2022-04-17 11:23:44 - src.train - INFO     [train.py:62] fold=6/24\n",
      "2022-04-17 11:23:44 - src.train - INFO     [train.py:63] reading cv index from data/cv_index/cv-model/carbonate/fold_13.csv\n",
      "2022-04-17 11:23:44 - src.train - INFO     [train.py:28] elapsed training time: 0.004 min\n",
      "2022-04-17 11:23:44 - src.train - INFO     [train.py:62] fold=7/24\n",
      "2022-04-17 11:23:44 - src.train - INFO     [train.py:63] reading cv index from data/cv_index/cv-model/carbonate/fold_14.csv\n",
      "2022-04-17 11:23:44 - src.train - INFO     [train.py:28] elapsed training time: 0.005 min\n",
      "2022-04-17 11:23:44 - src.train - INFO     [train.py:62] fold=8/24\n",
      "2022-04-17 11:23:44 - src.train - INFO     [train.py:63] reading cv index from data/cv_index/cv-model/carbonate/fold_15.csv\n",
      "2022-04-17 11:23:45 - src.train - INFO     [train.py:28] elapsed training time: 0.004 min\n",
      "2022-04-17 11:23:45 - src.train - INFO     [train.py:62] fold=9/24\n",
      "2022-04-17 11:23:45 - src.train - INFO     [train.py:63] reading cv index from data/cv_index/cv-model/carbonate/fold_16.csv\n",
      "2022-04-17 11:23:45 - src.train - INFO     [train.py:28] elapsed training time: 0.004 min\n",
      "2022-04-17 11:23:45 - src.train - INFO     [train.py:62] fold=10/24\n",
      "2022-04-17 11:23:45 - src.train - INFO     [train.py:63] reading cv index from data/cv_index/cv-model/carbonate/fold_17.csv\n",
      "2022-04-17 11:23:45 - src.train - INFO     [train.py:28] elapsed training time: 0.004 min\n",
      "2022-04-17 11:23:45 - src.train - INFO     [train.py:62] fold=11/24\n",
      "2022-04-17 11:23:45 - src.train - INFO     [train.py:63] reading cv index from data/cv_index/cv-model/carbonate/fold_18.csv\n",
      "2022-04-17 11:23:46 - src.train - INFO     [train.py:28] elapsed training time: 0.004 min\n",
      "2022-04-17 11:23:46 - src.train - INFO     [train.py:62] fold=12/24\n",
      "2022-04-17 11:23:46 - src.train - INFO     [train.py:63] reading cv index from data/cv_index/cv-model/carbonate/fold_19.csv\n",
      "2022-04-17 11:23:46 - src.train - INFO     [train.py:28] elapsed training time: 0.004 min\n",
      "2022-04-17 11:23:46 - src.train - INFO     [train.py:62] fold=13/24\n",
      "2022-04-17 11:23:46 - src.train - INFO     [train.py:63] reading cv index from data/cv_index/cv-model/carbonate/fold_2.csv\n",
      "2022-04-17 11:23:47 - src.train - INFO     [train.py:28] elapsed training time: 0.004 min\n",
      "2022-04-17 11:23:47 - src.train - INFO     [train.py:62] fold=14/24\n",
      "2022-04-17 11:23:47 - src.train - INFO     [train.py:63] reading cv index from data/cv_index/cv-model/carbonate/fold_20.csv\n",
      "2022-04-17 11:23:47 - src.train - INFO     [train.py:28] elapsed training time: 0.005 min\n",
      "2022-04-17 11:23:47 - src.train - INFO     [train.py:62] fold=15/24\n",
      "2022-04-17 11:23:47 - src.train - INFO     [train.py:63] reading cv index from data/cv_index/cv-model/carbonate/fold_21.csv\n",
      "2022-04-17 11:23:47 - src.train - INFO     [train.py:28] elapsed training time: 0.004 min\n",
      "2022-04-17 11:23:47 - src.train - INFO     [train.py:62] fold=16/24\n",
      "2022-04-17 11:23:47 - src.train - INFO     [train.py:63] reading cv index from data/cv_index/cv-model/carbonate/fold_22.csv\n",
      "2022-04-17 11:23:48 - src.train - INFO     [train.py:28] elapsed training time: 0.004 min\n",
      "2022-04-17 11:23:48 - src.train - INFO     [train.py:62] fold=17/24\n",
      "2022-04-17 11:23:48 - src.train - INFO     [train.py:63] reading cv index from data/cv_index/cv-model/carbonate/fold_23.csv\n",
      "2022-04-17 11:23:48 - src.train - INFO     [train.py:28] elapsed training time: 0.004 min\n",
      "2022-04-17 11:23:48 - src.train - INFO     [train.py:62] fold=18/24\n",
      "2022-04-17 11:23:48 - src.train - INFO     [train.py:63] reading cv index from data/cv_index/cv-model/carbonate/fold_3.csv\n",
      "2022-04-17 11:23:48 - src.train - INFO     [train.py:28] elapsed training time: 0.004 min\n",
      "2022-04-17 11:23:48 - src.train - INFO     [train.py:62] fold=19/24\n",
      "2022-04-17 11:23:48 - src.train - INFO     [train.py:63] reading cv index from data/cv_index/cv-model/carbonate/fold_4.csv\n",
      "2022-04-17 11:23:49 - src.train - INFO     [train.py:28] elapsed training time: 0.004 min\n",
      "2022-04-17 11:23:49 - src.train - INFO     [train.py:62] fold=20/24\n",
      "2022-04-17 11:23:49 - src.train - INFO     [train.py:63] reading cv index from data/cv_index/cv-model/carbonate/fold_5.csv\n",
      "2022-04-17 11:23:49 - src.train - INFO     [train.py:28] elapsed training time: 0.004 min\n",
      "2022-04-17 11:23:49 - src.train - INFO     [train.py:62] fold=21/24\n",
      "2022-04-17 11:23:49 - src.train - INFO     [train.py:63] reading cv index from data/cv_index/cv-model/carbonate/fold_6.csv\n",
      "2022-04-17 11:23:49 - src.train - INFO     [train.py:28] elapsed training time: 0.005 min\n",
      "2022-04-17 11:23:49 - src.train - INFO     [train.py:62] fold=22/24\n",
      "2022-04-17 11:23:49 - src.train - INFO     [train.py:63] reading cv index from data/cv_index/cv-model/carbonate/fold_7.csv\n",
      "2022-04-17 11:23:50 - src.train - INFO     [train.py:28] elapsed training time: 0.004 min\n",
      "2022-04-17 11:23:50 - src.train - INFO     [train.py:62] fold=23/24\n",
      "2022-04-17 11:23:50 - src.train - INFO     [train.py:63] reading cv index from data/cv_index/cv-model/carbonate/fold_8.csv\n",
      "2022-04-17 11:23:50 - src.train - INFO     [train.py:28] elapsed training time: 0.004 min\n",
      "2022-04-17 11:23:50 - src.train - INFO     [train.py:62] fold=24/24\n",
      "2022-04-17 11:23:50 - src.train - INFO     [train.py:63] reading cv index from data/cv_index/cv-model/carbonate/fold_9.csv\n",
      "2022-04-17 11:23:50 - src.train - INFO     [train.py:28] elapsed training time: 0.004 min\n",
      "2022-04-17 11:23:50 - src.train - INFO     [train.py:62] fold=1/24\n",
      "2022-04-17 11:23:50 - src.train - INFO     [train.py:63] reading cv index from data/cv_index/cv-model/chloride/fold_0.csv\n"
     ]
    },
    {
     "name": "stdout",
     "output_type": "stream",
     "text": [
      "Training until validation scores don't improve for 20 rounds\n",
      "[20]\ttrain's multi_logloss: 0.238546\tvalid's multi_logloss: 0.385405\n",
      "[40]\ttrain's multi_logloss: 0.0555945\tvalid's multi_logloss: 0.232611\n"
     ]
    },
    {
     "name": "stderr",
     "output_type": "stream",
     "text": [
      "2022-04-17 11:23:51 - src.train - INFO     [train.py:133] elapsed training time: 0.008 min\n",
      "2022-04-17 11:23:51 - src.train - INFO     [train.py:62] fold=2/24\n",
      "2022-04-17 11:23:51 - src.train - INFO     [train.py:63] reading cv index from data/cv_index/cv-model/chloride/fold_1.csv\n"
     ]
    },
    {
     "name": "stdout",
     "output_type": "stream",
     "text": [
      "[60]\ttrain's multi_logloss: 0.018295\tvalid's multi_logloss: 0.192766\n",
      "[80]\ttrain's multi_logloss: 0.00947933\tvalid's multi_logloss: 0.186742\n",
      "[100]\ttrain's multi_logloss: 0.00703014\tvalid's multi_logloss: 0.183536\n",
      "[120]\ttrain's multi_logloss: 0.00624046\tvalid's multi_logloss: 0.181813\n",
      "[140]\ttrain's multi_logloss: 0.00586925\tvalid's multi_logloss: 0.181556\n",
      "Early stopping, best iteration is:\n",
      "[125]\ttrain's multi_logloss: 0.00612542\tvalid's multi_logloss: 0.180996\n",
      "Training until validation scores don't improve for 20 rounds\n",
      "[20]\ttrain's multi_logloss: 0.230787\tvalid's multi_logloss: 0.474984\n",
      "[40]\ttrain's multi_logloss: 0.0540602\tvalid's multi_logloss: 0.302175\n",
      "[60]\ttrain's multi_logloss: 0.0181344\tvalid's multi_logloss: 0.245641\n"
     ]
    },
    {
     "name": "stderr",
     "output_type": "stream",
     "text": [
      "2022-04-17 11:23:52 - src.train - INFO     [train.py:133] elapsed training time: 0.008 min\n",
      "2022-04-17 11:23:52 - src.train - INFO     [train.py:62] fold=3/24\n",
      "2022-04-17 11:23:52 - src.train - INFO     [train.py:63] reading cv index from data/cv_index/cv-model/chloride/fold_10.csv\n"
     ]
    },
    {
     "name": "stdout",
     "output_type": "stream",
     "text": [
      "[80]\ttrain's multi_logloss: 0.00952288\tvalid's multi_logloss: 0.221861\n",
      "[100]\ttrain's multi_logloss: 0.00703502\tvalid's multi_logloss: 0.211655\n",
      "[120]\ttrain's multi_logloss: 0.00634643\tvalid's multi_logloss: 0.213491\n",
      "Early stopping, best iteration is:\n",
      "[103]\ttrain's multi_logloss: 0.00685249\tvalid's multi_logloss: 0.211367\n",
      "Training until validation scores don't improve for 20 rounds\n",
      "[20]\ttrain's multi_logloss: 0.214915\tvalid's multi_logloss: 0.534242\n",
      "[40]\ttrain's multi_logloss: 0.0486148\tvalid's multi_logloss: 0.49155\n"
     ]
    },
    {
     "name": "stderr",
     "output_type": "stream",
     "text": [
      "2022-04-17 11:23:52 - src.train - INFO     [train.py:133] elapsed training time: 0.006 min\n",
      "2022-04-17 11:23:52 - src.train - INFO     [train.py:62] fold=4/24\n",
      "2022-04-17 11:23:52 - src.train - INFO     [train.py:63] reading cv index from data/cv_index/cv-model/chloride/fold_11.csv\n"
     ]
    },
    {
     "name": "stdout",
     "output_type": "stream",
     "text": [
      "Early stopping, best iteration is:\n",
      "[35]\ttrain's multi_logloss: 0.0684766\tvalid's multi_logloss: 0.484683\n",
      "Training until validation scores don't improve for 20 rounds\n",
      "[20]\ttrain's multi_logloss: 0.232438\tvalid's multi_logloss: 0.47504\n",
      "[40]\ttrain's multi_logloss: 0.0541777\tvalid's multi_logloss: 0.330528\n",
      "[60]\ttrain's multi_logloss: 0.0180176\tvalid's multi_logloss: 0.311489\n"
     ]
    },
    {
     "name": "stderr",
     "output_type": "stream",
     "text": [
      "2022-04-17 11:23:53 - src.train - INFO     [train.py:133] elapsed training time: 0.007 min\n",
      "2022-04-17 11:23:53 - src.train - INFO     [train.py:62] fold=5/24\n",
      "2022-04-17 11:23:53 - src.train - INFO     [train.py:63] reading cv index from data/cv_index/cv-model/chloride/fold_12.csv\n"
     ]
    },
    {
     "name": "stdout",
     "output_type": "stream",
     "text": [
      "[80]\ttrain's multi_logloss: 0.00935303\tvalid's multi_logloss: 0.302252\n",
      "[100]\ttrain's multi_logloss: 0.00675785\tvalid's multi_logloss: 0.303951\n",
      "Early stopping, best iteration is:\n",
      "[93]\ttrain's multi_logloss: 0.00733437\tvalid's multi_logloss: 0.301999\n"
     ]
    },
    {
     "name": "stderr",
     "output_type": "stream",
     "text": [
      "2022-04-17 11:23:53 - src.train - INFO     [train.py:133] elapsed training time: 0.005 min\n",
      "2022-04-17 11:23:53 - src.train - INFO     [train.py:62] fold=6/24\n",
      "2022-04-17 11:23:53 - src.train - INFO     [train.py:63] reading cv index from data/cv_index/cv-model/chloride/fold_13.csv\n"
     ]
    },
    {
     "name": "stdout",
     "output_type": "stream",
     "text": [
      "Training until validation scores don't improve for 20 rounds\n",
      "[20]\ttrain's multi_logloss: 0.23411\tvalid's multi_logloss: 0.476263\n",
      "[40]\ttrain's multi_logloss: 0.0540655\tvalid's multi_logloss: 0.393591\n",
      "[60]\ttrain's multi_logloss: 0.0183617\tvalid's multi_logloss: 0.401618\n",
      "Early stopping, best iteration is:\n",
      "[43]\ttrain's multi_logloss: 0.0450391\tvalid's multi_logloss: 0.390458\n"
     ]
    },
    {
     "name": "stderr",
     "output_type": "stream",
     "text": [
      "2022-04-17 11:23:53 - src.train - INFO     [train.py:133] elapsed training time: 0.005 min\n",
      "2022-04-17 11:23:53 - src.train - INFO     [train.py:62] fold=7/24\n",
      "2022-04-17 11:23:53 - src.train - INFO     [train.py:63] reading cv index from data/cv_index/cv-model/chloride/fold_14.csv\n"
     ]
    },
    {
     "name": "stdout",
     "output_type": "stream",
     "text": [
      "Training until validation scores don't improve for 20 rounds\n",
      "[20]\ttrain's multi_logloss: 0.217514\tvalid's multi_logloss: 0.460676\n",
      "[40]\ttrain's multi_logloss: 0.0504603\tvalid's multi_logloss: 0.386155\n",
      "Early stopping, best iteration is:\n",
      "[38]\ttrain's multi_logloss: 0.0574143\tvalid's multi_logloss: 0.384742\n",
      "Training until validation scores don't improve for 20 rounds\n",
      "[20]\ttrain's multi_logloss: 0.230606\tvalid's multi_logloss: 0.445126\n",
      "[40]\ttrain's multi_logloss: 0.05434\tvalid's multi_logloss: 0.308478\n",
      "[60]\ttrain's multi_logloss: 0.0186062\tvalid's multi_logloss: 0.301214\n"
     ]
    },
    {
     "name": "stderr",
     "output_type": "stream",
     "text": [
      "2022-04-17 11:23:54 - src.train - INFO     [train.py:133] elapsed training time: 0.005 min\n",
      "2022-04-17 11:23:54 - src.train - INFO     [train.py:62] fold=8/24\n",
      "2022-04-17 11:23:54 - src.train - INFO     [train.py:63] reading cv index from data/cv_index/cv-model/chloride/fold_15.csv\n"
     ]
    },
    {
     "name": "stdout",
     "output_type": "stream",
     "text": [
      "Early stopping, best iteration is:\n",
      "[48]\ttrain's multi_logloss: 0.0335358\tvalid's multi_logloss: 0.294367\n",
      "Training until validation scores don't improve for 20 rounds\n",
      "[20]\ttrain's multi_logloss: 0.23199\tvalid's multi_logloss: 0.434444\n"
     ]
    },
    {
     "name": "stderr",
     "output_type": "stream",
     "text": [
      "2022-04-17 11:23:54 - src.train - INFO     [train.py:133] elapsed training time: 0.009 min\n",
      "2022-04-17 11:23:54 - src.train - INFO     [train.py:62] fold=9/24\n",
      "2022-04-17 11:23:54 - src.train - INFO     [train.py:63] reading cv index from data/cv_index/cv-model/chloride/fold_16.csv\n"
     ]
    },
    {
     "name": "stdout",
     "output_type": "stream",
     "text": [
      "[40]\ttrain's multi_logloss: 0.0548848\tvalid's multi_logloss: 0.302992\n",
      "[60]\ttrain's multi_logloss: 0.0185041\tvalid's multi_logloss: 0.290599\n",
      "[80]\ttrain's multi_logloss: 0.00965752\tvalid's multi_logloss: 0.284065\n",
      "Early stopping, best iteration is:\n",
      "[75]\ttrain's multi_logloss: 0.0110321\tvalid's multi_logloss: 0.282252\n",
      "Training until validation scores don't improve for 20 rounds\n",
      "[20]\ttrain's multi_logloss: 0.229374\tvalid's multi_logloss: 0.43972\n",
      "[40]\ttrain's multi_logloss: 0.0546606\tvalid's multi_logloss: 0.30934\n",
      "[60]\ttrain's multi_logloss: 0.0183155\tvalid's multi_logloss: 0.299686\n"
     ]
    },
    {
     "name": "stderr",
     "output_type": "stream",
     "text": [
      "2022-04-17 11:23:55 - src.train - INFO     [train.py:133] elapsed training time: 0.006 min\n",
      "2022-04-17 11:23:55 - src.train - INFO     [train.py:62] fold=10/24\n",
      "2022-04-17 11:23:55 - src.train - INFO     [train.py:63] reading cv index from data/cv_index/cv-model/chloride/fold_17.csv\n"
     ]
    },
    {
     "name": "stdout",
     "output_type": "stream",
     "text": [
      "[80]\ttrain's multi_logloss: 0.00950864\tvalid's multi_logloss: 0.299207\n",
      "Early stopping, best iteration is:\n",
      "[76]\ttrain's multi_logloss: 0.0105308\tvalid's multi_logloss: 0.296386\n",
      "Training until validation scores don't improve for 20 rounds\n",
      "[20]\ttrain's multi_logloss: 0.226271\tvalid's multi_logloss: 0.464377\n",
      "[40]\ttrain's multi_logloss: 0.0530551\tvalid's multi_logloss: 0.339748\n",
      "[60]\ttrain's multi_logloss: 0.0175172\tvalid's multi_logloss: 0.331055\n"
     ]
    },
    {
     "name": "stderr",
     "output_type": "stream",
     "text": [
      "2022-04-17 11:23:55 - src.train - INFO     [train.py:133] elapsed training time: 0.006 min\n",
      "2022-04-17 11:23:55 - src.train - INFO     [train.py:62] fold=11/24\n",
      "2022-04-17 11:23:55 - src.train - INFO     [train.py:63] reading cv index from data/cv_index/cv-model/chloride/fold_18.csv\n"
     ]
    },
    {
     "name": "stdout",
     "output_type": "stream",
     "text": [
      "Early stopping, best iteration is:\n",
      "[52]\ttrain's multi_logloss: 0.0260547\tvalid's multi_logloss: 0.32788\n"
     ]
    },
    {
     "name": "stderr",
     "output_type": "stream",
     "text": [
      "2022-04-17 11:23:56 - src.train - INFO     [train.py:133] elapsed training time: 0.005 min\n",
      "2022-04-17 11:23:56 - src.train - INFO     [train.py:62] fold=12/24\n"
     ]
    },
    {
     "name": "stdout",
     "output_type": "stream",
     "text": [
      "Training until validation scores don't improve for 20 rounds\n",
      "[20]\ttrain's multi_logloss: 0.218893\tvalid's multi_logloss: 0.567462\n",
      "[40]\ttrain's multi_logloss: 0.0492806\tvalid's multi_logloss: 0.536895\n",
      "Early stopping, best iteration is:\n",
      "[34]\ttrain's multi_logloss: 0.0741525\tvalid's multi_logloss: 0.525423\n"
     ]
    },
    {
     "name": "stderr",
     "output_type": "stream",
     "text": [
      "2022-04-17 11:23:56 - src.train - INFO     [train.py:63] reading cv index from data/cv_index/cv-model/chloride/fold_19.csv\n"
     ]
    },
    {
     "name": "stdout",
     "output_type": "stream",
     "text": [
      "Training until validation scores don't improve for 20 rounds\n",
      "[20]\ttrain's multi_logloss: 0.221409\tvalid's multi_logloss: 0.526717\n",
      "[40]\ttrain's multi_logloss: 0.050238\tvalid's multi_logloss: 0.469803\n"
     ]
    },
    {
     "name": "stderr",
     "output_type": "stream",
     "text": [
      "2022-04-17 11:23:56 - src.train - INFO     [train.py:133] elapsed training time: 0.006 min\n",
      "2022-04-17 11:23:56 - src.train - INFO     [train.py:62] fold=13/24\n",
      "2022-04-17 11:23:56 - src.train - INFO     [train.py:63] reading cv index from data/cv_index/cv-model/chloride/fold_2.csv\n"
     ]
    },
    {
     "name": "stdout",
     "output_type": "stream",
     "text": [
      "[60]\ttrain's multi_logloss: 0.0168056\tvalid's multi_logloss: 0.521319\n",
      "Early stopping, best iteration is:\n",
      "[41]\ttrain's multi_logloss: 0.0470654\tvalid's multi_logloss: 0.46758\n",
      "Training until validation scores don't improve for 20 rounds\n",
      "[20]\ttrain's multi_logloss: 0.224215\tvalid's multi_logloss: 0.539998\n",
      "[40]\ttrain's multi_logloss: 0.0505912\tvalid's multi_logloss: 0.450871\n",
      "[60]\ttrain's multi_logloss: 0.0168477\tvalid's multi_logloss: 0.459796\n",
      "Early stopping, best iteration is:\n",
      "[44]\ttrain's multi_logloss: 0.0392973\tvalid's multi_logloss: 0.448174\n"
     ]
    },
    {
     "name": "stderr",
     "output_type": "stream",
     "text": [
      "2022-04-17 11:23:57 - src.train - INFO     [train.py:133] elapsed training time: 0.005 min\n",
      "2022-04-17 11:23:57 - src.train - INFO     [train.py:62] fold=14/24\n",
      "2022-04-17 11:23:57 - src.train - INFO     [train.py:63] reading cv index from data/cv_index/cv-model/chloride/fold_20.csv\n"
     ]
    },
    {
     "name": "stdout",
     "output_type": "stream",
     "text": [
      "Training until validation scores don't improve for 20 rounds\n",
      "[20]\ttrain's multi_logloss: 0.225145\tvalid's multi_logloss: 0.554997\n",
      "[40]\ttrain's multi_logloss: 0.0518286\tvalid's multi_logloss: 0.391086\n",
      "[60]\ttrain's multi_logloss: 0.0176585\tvalid's multi_logloss: 0.350344\n"
     ]
    },
    {
     "name": "stderr",
     "output_type": "stream",
     "text": [
      "2022-04-17 11:23:57 - src.train - INFO     [train.py:133] elapsed training time: 0.007 min\n",
      "2022-04-17 11:23:57 - src.train - INFO     [train.py:62] fold=15/24\n",
      "2022-04-17 11:23:57 - src.train - INFO     [train.py:63] reading cv index from data/cv_index/cv-model/chloride/fold_21.csv\n"
     ]
    },
    {
     "name": "stdout",
     "output_type": "stream",
     "text": [
      "[80]\ttrain's multi_logloss: 0.00932373\tvalid's multi_logloss: 0.346655\n",
      "Early stopping, best iteration is:\n",
      "[63]\ttrain's multi_logloss: 0.0155079\tvalid's multi_logloss: 0.344589\n",
      "Training until validation scores don't improve for 20 rounds\n",
      "[20]\ttrain's multi_logloss: 0.231448\tvalid's multi_logloss: 0.479982\n",
      "[40]\ttrain's multi_logloss: 0.0540788\tvalid's multi_logloss: 0.319407\n",
      "[60]\ttrain's multi_logloss: 0.0182066\tvalid's multi_logloss: 0.297338\n"
     ]
    },
    {
     "name": "stderr",
     "output_type": "stream",
     "text": [
      "2022-04-17 11:23:58 - src.train - INFO     [train.py:133] elapsed training time: 0.006 min\n",
      "2022-04-17 11:23:58 - src.train - INFO     [train.py:62] fold=16/24\n",
      "2022-04-17 11:23:58 - src.train - INFO     [train.py:63] reading cv index from data/cv_index/cv-model/chloride/fold_22.csv\n"
     ]
    },
    {
     "name": "stdout",
     "output_type": "stream",
     "text": [
      "Early stopping, best iteration is:\n",
      "[57]\ttrain's multi_logloss: 0.0206941\tvalid's multi_logloss: 0.292294\n",
      "Training until validation scores don't improve for 20 rounds\n",
      "[20]\ttrain's multi_logloss: 0.237533\tvalid's multi_logloss: 0.380654\n",
      "[40]\ttrain's multi_logloss: 0.0563062\tvalid's multi_logloss: 0.233427\n",
      "[60]\ttrain's multi_logloss: 0.019033\tvalid's multi_logloss: 0.211222\n"
     ]
    },
    {
     "name": "stderr",
     "output_type": "stream",
     "text": [
      "2022-04-17 11:23:58 - src.train - INFO     [train.py:133] elapsed training time: 0.007 min\n",
      "2022-04-17 11:23:58 - src.train - INFO     [train.py:62] fold=17/24\n",
      "2022-04-17 11:23:58 - src.train - INFO     [train.py:63] reading cv index from data/cv_index/cv-model/chloride/fold_23.csv\n"
     ]
    },
    {
     "name": "stdout",
     "output_type": "stream",
     "text": [
      "[80]\ttrain's multi_logloss: 0.00975693\tvalid's multi_logloss: 0.20013\n",
      "[100]\ttrain's multi_logloss: 0.00708691\tvalid's multi_logloss: 0.200066\n",
      "Early stopping, best iteration is:\n",
      "[90]\ttrain's multi_logloss: 0.00803306\tvalid's multi_logloss: 0.198986\n",
      "Training until validation scores don't improve for 20 rounds\n",
      "[20]\ttrain's multi_logloss: 0.23779\tvalid's multi_logloss: 0.452506\n",
      "[40]\ttrain's multi_logloss: 0.0544379\tvalid's multi_logloss: 0.304095\n",
      "[60]\ttrain's multi_logloss: 0.0182522\tvalid's multi_logloss: 0.267457\n"
     ]
    },
    {
     "name": "stderr",
     "output_type": "stream",
     "text": [
      "2022-04-17 11:23:59 - src.train - INFO     [train.py:133] elapsed training time: 0.008 min\n",
      "2022-04-17 11:23:59 - src.train - INFO     [train.py:62] fold=18/24\n",
      "2022-04-17 11:23:59 - src.train - INFO     [train.py:63] reading cv index from data/cv_index/cv-model/chloride/fold_3.csv\n"
     ]
    },
    {
     "name": "stdout",
     "output_type": "stream",
     "text": [
      "[80]\ttrain's multi_logloss: 0.00934588\tvalid's multi_logloss: 0.251923\n",
      "[100]\ttrain's multi_logloss: 0.00695037\tvalid's multi_logloss: 0.245844\n",
      "Early stopping, best iteration is:\n",
      "[96]\ttrain's multi_logloss: 0.0072437\tvalid's multi_logloss: 0.245404\n",
      "Training until validation scores don't improve for 20 rounds\n",
      "[20]\ttrain's multi_logloss: 0.225594\tvalid's multi_logloss: 0.489583\n",
      "[40]\ttrain's multi_logloss: 0.0536394\tvalid's multi_logloss: 0.330585\n"
     ]
    },
    {
     "name": "stderr",
     "output_type": "stream",
     "text": [
      "2022-04-17 11:23:59 - src.train - INFO     [train.py:133] elapsed training time: 0.007 min\n",
      "2022-04-17 11:23:59 - src.train - INFO     [train.py:62] fold=19/24\n",
      "2022-04-17 11:23:59 - src.train - INFO     [train.py:63] reading cv index from data/cv_index/cv-model/chloride/fold_4.csv\n"
     ]
    },
    {
     "name": "stdout",
     "output_type": "stream",
     "text": [
      "[60]\ttrain's multi_logloss: 0.0184116\tvalid's multi_logloss: 0.305374\n",
      "[80]\ttrain's multi_logloss: 0.00949573\tvalid's multi_logloss: 0.306995\n",
      "Early stopping, best iteration is:\n",
      "[65]\ttrain's multi_logloss: 0.0150284\tvalid's multi_logloss: 0.302397\n"
     ]
    },
    {
     "name": "stderr",
     "output_type": "stream",
     "text": [
      "2022-04-17 11:24:00 - src.train - INFO     [train.py:133] elapsed training time: 0.005 min\n",
      "2022-04-17 11:24:00 - src.train - INFO     [train.py:62] fold=20/24\n",
      "2022-04-17 11:24:00 - src.train - INFO     [train.py:63] reading cv index from data/cv_index/cv-model/chloride/fold_5.csv\n"
     ]
    },
    {
     "name": "stdout",
     "output_type": "stream",
     "text": [
      "Training until validation scores don't improve for 20 rounds\n",
      "[20]\ttrain's multi_logloss: 0.230474\tvalid's multi_logloss: 0.475703\n",
      "[40]\ttrain's multi_logloss: 0.0535002\tvalid's multi_logloss: 0.378561\n",
      "[60]\ttrain's multi_logloss: 0.017824\tvalid's multi_logloss: 0.40158\n",
      "Early stopping, best iteration is:\n",
      "[42]\ttrain's multi_logloss: 0.0469334\tvalid's multi_logloss: 0.375746\n",
      "Training until validation scores don't improve for 20 rounds\n",
      "[20]\ttrain's multi_logloss: 0.226978\tvalid's multi_logloss: 0.553714\n",
      "[40]\ttrain's multi_logloss: 0.0517231\tvalid's multi_logloss: 0.46896\n",
      "[60]\ttrain's multi_logloss: 0.0172443\tvalid's multi_logloss: 0.48646\n"
     ]
    },
    {
     "name": "stderr",
     "output_type": "stream",
     "text": [
      "2022-04-17 11:24:00 - src.train - INFO     [train.py:133] elapsed training time: 0.005 min\n",
      "2022-04-17 11:24:00 - src.train - INFO     [train.py:62] fold=21/24\n",
      "2022-04-17 11:24:00 - src.train - INFO     [train.py:63] reading cv index from data/cv_index/cv-model/chloride/fold_6.csv\n"
     ]
    },
    {
     "name": "stdout",
     "output_type": "stream",
     "text": [
      "Early stopping, best iteration is:\n",
      "[42]\ttrain's multi_logloss: 0.0454913\tvalid's multi_logloss: 0.467844\n"
     ]
    },
    {
     "name": "stderr",
     "output_type": "stream",
     "text": [
      "2022-04-17 11:24:01 - src.train - INFO     [train.py:133] elapsed training time: 0.005 min\n"
     ]
    },
    {
     "name": "stdout",
     "output_type": "stream",
     "text": [
      "Training until validation scores don't improve for 20 rounds\n",
      "[20]\ttrain's multi_logloss: 0.220617\tvalid's multi_logloss: 0.466332\n",
      "[40]\ttrain's multi_logloss: 0.0514592\tvalid's multi_logloss: 0.428312\n",
      "Early stopping, best iteration is:\n",
      "[35]\ttrain's multi_logloss: 0.0727703\tvalid's multi_logloss: 0.417595\n"
     ]
    },
    {
     "name": "stderr",
     "output_type": "stream",
     "text": [
      "2022-04-17 11:24:01 - src.train - INFO     [train.py:62] fold=22/24\n",
      "2022-04-17 11:24:01 - src.train - INFO     [train.py:63] reading cv index from data/cv_index/cv-model/chloride/fold_7.csv\n"
     ]
    },
    {
     "name": "stdout",
     "output_type": "stream",
     "text": [
      "Training until validation scores don't improve for 20 rounds\n",
      "[20]\ttrain's multi_logloss: 0.229099\tvalid's multi_logloss: 0.403438\n",
      "[40]\ttrain's multi_logloss: 0.0553613\tvalid's multi_logloss: 0.300133\n",
      "[60]\ttrain's multi_logloss: 0.0184282\tvalid's multi_logloss: 0.284484\n"
     ]
    },
    {
     "name": "stderr",
     "output_type": "stream",
     "text": [
      "2022-04-17 11:24:01 - src.train - INFO     [train.py:133] elapsed training time: 0.006 min\n",
      "2022-04-17 11:24:01 - src.train - INFO     [train.py:62] fold=23/24\n",
      "2022-04-17 11:24:01 - src.train - INFO     [train.py:63] reading cv index from data/cv_index/cv-model/chloride/fold_8.csv\n"
     ]
    },
    {
     "name": "stdout",
     "output_type": "stream",
     "text": [
      "Early stopping, best iteration is:\n",
      "[58]\ttrain's multi_logloss: 0.0201986\tvalid's multi_logloss: 0.283789\n",
      "Training until validation scores don't improve for 20 rounds\n",
      "[20]\ttrain's multi_logloss: 0.231216\tvalid's multi_logloss: 0.474319\n",
      "[40]\ttrain's multi_logloss: 0.0553151\tvalid's multi_logloss: 0.348179\n"
     ]
    },
    {
     "name": "stderr",
     "output_type": "stream",
     "text": [
      "2022-04-17 11:24:02 - src.train - INFO     [train.py:133] elapsed training time: 0.007 min\n",
      "2022-04-17 11:24:02 - src.train - INFO     [train.py:62] fold=24/24\n",
      "2022-04-17 11:24:02 - src.train - INFO     [train.py:63] reading cv index from data/cv_index/cv-model/chloride/fold_9.csv\n"
     ]
    },
    {
     "name": "stdout",
     "output_type": "stream",
     "text": [
      "[60]\ttrain's multi_logloss: 0.0180921\tvalid's multi_logloss: 0.341776\n",
      "Early stopping, best iteration is:\n",
      "[50]\ttrain's multi_logloss: 0.0293341\tvalid's multi_logloss: 0.339067\n",
      "Training until validation scores don't improve for 20 rounds\n",
      "[20]\ttrain's multi_logloss: 0.221103\tvalid's multi_logloss: 0.564248\n",
      "[40]\ttrain's multi_logloss: 0.0516425\tvalid's multi_logloss: 0.412983\n"
     ]
    },
    {
     "name": "stderr",
     "output_type": "stream",
     "text": [
      "2022-04-17 11:24:02 - src.train - INFO     [train.py:133] elapsed training time: 0.007 min\n",
      "2022-04-17 11:24:02 - src.train - INFO     [train.py:62] fold=1/24\n",
      "2022-04-17 11:24:02 - src.train - INFO     [train.py:63] reading cv index from data/cv_index/cv-model/chloride/fold_0.csv\n"
     ]
    },
    {
     "name": "stdout",
     "output_type": "stream",
     "text": [
      "[60]\ttrain's multi_logloss: 0.0173156\tvalid's multi_logloss: 0.394349\n",
      "Early stopping, best iteration is:\n",
      "[55]\ttrain's multi_logloss: 0.0217996\tvalid's multi_logloss: 0.392824\n",
      "60\n"
     ]
    },
    {
     "name": "stderr",
     "output_type": "stream",
     "text": [
      "2022-04-17 11:24:03 - src.train - INFO     [train.py:28] elapsed training time: 0.004 min\n",
      "2022-04-17 11:24:03 - src.train - INFO     [train.py:62] fold=2/24\n",
      "2022-04-17 11:24:03 - src.train - INFO     [train.py:63] reading cv index from data/cv_index/cv-model/chloride/fold_1.csv\n",
      "2022-04-17 11:24:03 - src.train - INFO     [train.py:28] elapsed training time: 0.004 min\n",
      "2022-04-17 11:24:03 - src.train - INFO     [train.py:62] fold=3/24\n",
      "2022-04-17 11:24:03 - src.train - INFO     [train.py:63] reading cv index from data/cv_index/cv-model/chloride/fold_10.csv\n",
      "2022-04-17 11:24:03 - src.train - INFO     [train.py:28] elapsed training time: 0.003 min\n",
      "2022-04-17 11:24:03 - src.train - INFO     [train.py:62] fold=4/24\n",
      "2022-04-17 11:24:03 - src.train - INFO     [train.py:63] reading cv index from data/cv_index/cv-model/chloride/fold_11.csv\n",
      "2022-04-17 11:24:04 - src.train - INFO     [train.py:28] elapsed training time: 0.004 min\n",
      "2022-04-17 11:24:04 - src.train - INFO     [train.py:62] fold=5/24\n",
      "2022-04-17 11:24:04 - src.train - INFO     [train.py:63] reading cv index from data/cv_index/cv-model/chloride/fold_12.csv\n",
      "2022-04-17 11:24:04 - src.train - INFO     [train.py:28] elapsed training time: 0.006 min\n",
      "2022-04-17 11:24:04 - src.train - INFO     [train.py:62] fold=6/24\n",
      "2022-04-17 11:24:04 - src.train - INFO     [train.py:63] reading cv index from data/cv_index/cv-model/chloride/fold_13.csv\n",
      "2022-04-17 11:24:04 - src.train - INFO     [train.py:28] elapsed training time: 0.004 min\n",
      "2022-04-17 11:24:04 - src.train - INFO     [train.py:62] fold=7/24\n",
      "2022-04-17 11:24:04 - src.train - INFO     [train.py:63] reading cv index from data/cv_index/cv-model/chloride/fold_14.csv\n",
      "2022-04-17 11:24:05 - src.train - INFO     [train.py:28] elapsed training time: 0.004 min\n",
      "2022-04-17 11:24:05 - src.train - INFO     [train.py:62] fold=8/24\n",
      "2022-04-17 11:24:05 - src.train - INFO     [train.py:63] reading cv index from data/cv_index/cv-model/chloride/fold_15.csv\n",
      "2022-04-17 11:24:05 - src.train - INFO     [train.py:28] elapsed training time: 0.004 min\n",
      "2022-04-17 11:24:05 - src.train - INFO     [train.py:62] fold=9/24\n",
      "2022-04-17 11:24:05 - src.train - INFO     [train.py:63] reading cv index from data/cv_index/cv-model/chloride/fold_16.csv\n",
      "2022-04-17 11:24:05 - src.train - INFO     [train.py:28] elapsed training time: 0.003 min\n",
      "2022-04-17 11:24:05 - src.train - INFO     [train.py:62] fold=10/24\n",
      "2022-04-17 11:24:05 - src.train - INFO     [train.py:63] reading cv index from data/cv_index/cv-model/chloride/fold_17.csv\n",
      "2022-04-17 11:24:06 - src.train - INFO     [train.py:28] elapsed training time: 0.004 min\n",
      "2022-04-17 11:24:06 - src.train - INFO     [train.py:62] fold=11/24\n",
      "2022-04-17 11:24:06 - src.train - INFO     [train.py:63] reading cv index from data/cv_index/cv-model/chloride/fold_18.csv\n",
      "2022-04-17 11:24:06 - src.train - INFO     [train.py:28] elapsed training time: 0.004 min\n",
      "2022-04-17 11:24:06 - src.train - INFO     [train.py:62] fold=12/24\n",
      "2022-04-17 11:24:06 - src.train - INFO     [train.py:63] reading cv index from data/cv_index/cv-model/chloride/fold_19.csv\n",
      "2022-04-17 11:24:06 - src.train - INFO     [train.py:28] elapsed training time: 0.004 min\n",
      "2022-04-17 11:24:06 - src.train - INFO     [train.py:62] fold=13/24\n",
      "2022-04-17 11:24:06 - src.train - INFO     [train.py:63] reading cv index from data/cv_index/cv-model/chloride/fold_2.csv\n",
      "2022-04-17 11:24:07 - src.train - INFO     [train.py:28] elapsed training time: 0.004 min\n",
      "2022-04-17 11:24:07 - src.train - INFO     [train.py:62] fold=14/24\n",
      "2022-04-17 11:24:07 - src.train - INFO     [train.py:63] reading cv index from data/cv_index/cv-model/chloride/fold_20.csv\n",
      "2022-04-17 11:24:07 - src.train - INFO     [train.py:28] elapsed training time: 0.004 min\n",
      "2022-04-17 11:24:07 - src.train - INFO     [train.py:62] fold=15/24\n",
      "2022-04-17 11:24:07 - src.train - INFO     [train.py:63] reading cv index from data/cv_index/cv-model/chloride/fold_21.csv\n",
      "2022-04-17 11:24:07 - src.train - INFO     [train.py:28] elapsed training time: 0.004 min\n",
      "2022-04-17 11:24:07 - src.train - INFO     [train.py:62] fold=16/24\n",
      "2022-04-17 11:24:07 - src.train - INFO     [train.py:63] reading cv index from data/cv_index/cv-model/chloride/fold_22.csv\n",
      "2022-04-17 11:24:08 - src.train - INFO     [train.py:28] elapsed training time: 0.004 min\n",
      "2022-04-17 11:24:08 - src.train - INFO     [train.py:62] fold=17/24\n",
      "2022-04-17 11:24:08 - src.train - INFO     [train.py:63] reading cv index from data/cv_index/cv-model/chloride/fold_23.csv\n",
      "2022-04-17 11:24:08 - src.train - INFO     [train.py:28] elapsed training time: 0.004 min\n",
      "2022-04-17 11:24:08 - src.train - INFO     [train.py:62] fold=18/24\n",
      "2022-04-17 11:24:08 - src.train - INFO     [train.py:63] reading cv index from data/cv_index/cv-model/chloride/fold_3.csv\n",
      "2022-04-17 11:24:08 - src.train - INFO     [train.py:28] elapsed training time: 0.004 min\n",
      "2022-04-17 11:24:08 - src.train - INFO     [train.py:62] fold=19/24\n",
      "2022-04-17 11:24:08 - src.train - INFO     [train.py:63] reading cv index from data/cv_index/cv-model/chloride/fold_4.csv\n",
      "2022-04-17 11:24:09 - src.train - INFO     [train.py:28] elapsed training time: 0.004 min\n",
      "2022-04-17 11:24:09 - src.train - INFO     [train.py:62] fold=20/24\n",
      "2022-04-17 11:24:09 - src.train - INFO     [train.py:63] reading cv index from data/cv_index/cv-model/chloride/fold_5.csv\n",
      "2022-04-17 11:24:09 - src.train - INFO     [train.py:28] elapsed training time: 0.004 min\n",
      "2022-04-17 11:24:09 - src.train - INFO     [train.py:62] fold=21/24\n",
      "2022-04-17 11:24:09 - src.train - INFO     [train.py:63] reading cv index from data/cv_index/cv-model/chloride/fold_6.csv\n",
      "2022-04-17 11:24:09 - src.train - INFO     [train.py:28] elapsed training time: 0.004 min\n",
      "2022-04-17 11:24:09 - src.train - INFO     [train.py:62] fold=22/24\n",
      "2022-04-17 11:24:09 - src.train - INFO     [train.py:63] reading cv index from data/cv_index/cv-model/chloride/fold_7.csv\n",
      "2022-04-17 11:24:10 - src.train - INFO     [train.py:28] elapsed training time: 0.006 min\n",
      "2022-04-17 11:24:10 - src.train - INFO     [train.py:62] fold=23/24\n",
      "2022-04-17 11:24:10 - src.train - INFO     [train.py:63] reading cv index from data/cv_index/cv-model/chloride/fold_8.csv\n",
      "2022-04-17 11:24:11 - src.train - INFO     [train.py:28] elapsed training time: 0.011 min\n",
      "2022-04-17 11:24:11 - src.train - INFO     [train.py:62] fold=24/24\n",
      "2022-04-17 11:24:11 - src.train - INFO     [train.py:63] reading cv index from data/cv_index/cv-model/chloride/fold_9.csv\n",
      "2022-04-17 11:24:11 - src.train - INFO     [train.py:28] elapsed training time: 0.009 min\n",
      "2022-04-17 11:24:11 - src.train - INFO     [train.py:62] fold=1/24\n",
      "2022-04-17 11:24:11 - src.train - INFO     [train.py:63] reading cv index from data/cv_index/cv-model/iron_oxide/fold_0.csv\n"
     ]
    },
    {
     "name": "stdout",
     "output_type": "stream",
     "text": [
      "Training until validation scores don't improve for 20 rounds\n",
      "[20]\ttrain's multi_logloss: 0.260214\tvalid's multi_logloss: 0.524668\n",
      "[40]\ttrain's multi_logloss: 0.0659074\tvalid's multi_logloss: 0.407536\n"
     ]
    },
    {
     "name": "stderr",
     "output_type": "stream",
     "text": [
      "2022-04-17 11:24:12 - src.train - INFO     [train.py:133] elapsed training time: 0.006 min\n",
      "2022-04-17 11:24:12 - src.train - INFO     [train.py:62] fold=2/24\n",
      "2022-04-17 11:24:12 - src.train - INFO     [train.py:63] reading cv index from data/cv_index/cv-model/iron_oxide/fold_1.csv\n"
     ]
    },
    {
     "name": "stdout",
     "output_type": "stream",
     "text": [
      "[60]\ttrain's multi_logloss: 0.0229456\tvalid's multi_logloss: 0.40974\n",
      "Early stopping, best iteration is:\n",
      "[43]\ttrain's multi_logloss: 0.0554845\tvalid's multi_logloss: 0.401994\n",
      "Training until validation scores don't improve for 20 rounds\n",
      "[20]\ttrain's multi_logloss: 0.267687\tvalid's multi_logloss: 0.532299\n",
      "[40]\ttrain's multi_logloss: 0.0686885\tvalid's multi_logloss: 0.361366\n"
     ]
    },
    {
     "name": "stderr",
     "output_type": "stream",
     "text": [
      "2022-04-17 11:24:12 - src.train - INFO     [train.py:133] elapsed training time: 0.009 min\n",
      "2022-04-17 11:24:13 - src.train - INFO     [train.py:62] fold=3/24\n",
      "2022-04-17 11:24:13 - src.train - INFO     [train.py:63] reading cv index from data/cv_index/cv-model/iron_oxide/fold_10.csv\n"
     ]
    },
    {
     "name": "stdout",
     "output_type": "stream",
     "text": [
      "[60]\ttrain's multi_logloss: 0.0241234\tvalid's multi_logloss: 0.321984\n",
      "[80]\ttrain's multi_logloss: 0.0120804\tvalid's multi_logloss: 0.310664\n",
      "[100]\ttrain's multi_logloss: 0.00837038\tvalid's multi_logloss: 0.30686\n",
      "[120]\ttrain's multi_logloss: 0.00724599\tvalid's multi_logloss: 0.303167\n",
      "[140]\ttrain's multi_logloss: 0.00686494\tvalid's multi_logloss: 0.303295\n",
      "Early stopping, best iteration is:\n",
      "[129]\ttrain's multi_logloss: 0.00705447\tvalid's multi_logloss: 0.302202\n",
      "Training until validation scores don't improve for 20 rounds\n",
      "[20]\ttrain's multi_logloss: 0.25482\tvalid's multi_logloss: 0.525236\n",
      "[40]\ttrain's multi_logloss: 0.064275\tvalid's multi_logloss: 0.423323\n"
     ]
    },
    {
     "name": "stderr",
     "output_type": "stream",
     "text": [
      "2022-04-17 11:24:13 - src.train - INFO     [train.py:133] elapsed training time: 0.006 min\n",
      "2022-04-17 11:24:13 - src.train - INFO     [train.py:62] fold=4/24\n",
      "2022-04-17 11:24:13 - src.train - INFO     [train.py:63] reading cv index from data/cv_index/cv-model/iron_oxide/fold_11.csv\n"
     ]
    },
    {
     "name": "stdout",
     "output_type": "stream",
     "text": [
      "[60]\ttrain's multi_logloss: 0.0220162\tvalid's multi_logloss: 0.427962\n",
      "Early stopping, best iteration is:\n",
      "[50]\ttrain's multi_logloss: 0.0357104\tvalid's multi_logloss: 0.416765\n",
      "Training until validation scores don't improve for 20 rounds\n",
      "[20]\ttrain's multi_logloss: 0.257727\tvalid's multi_logloss: 0.569182\n",
      "[40]\ttrain's multi_logloss: 0.0660833\tvalid's multi_logloss: 0.424315\n",
      "[60]\ttrain's multi_logloss: 0.0231485\tvalid's multi_logloss: 0.411277\n"
     ]
    },
    {
     "name": "stderr",
     "output_type": "stream",
     "text": [
      "2022-04-17 11:24:13 - src.train - INFO     [train.py:133] elapsed training time: 0.007 min\n",
      "2022-04-17 11:24:13 - src.train - INFO     [train.py:62] fold=5/24\n",
      "2022-04-17 11:24:13 - src.train - INFO     [train.py:63] reading cv index from data/cv_index/cv-model/iron_oxide/fold_12.csv\n"
     ]
    },
    {
     "name": "stdout",
     "output_type": "stream",
     "text": [
      "[80]\ttrain's multi_logloss: 0.011674\tvalid's multi_logloss: 0.414484\n",
      "Early stopping, best iteration is:\n",
      "[70]\ttrain's multi_logloss: 0.0157527\tvalid's multi_logloss: 0.407327\n",
      "Training until validation scores don't improve for 20 rounds\n",
      "[20]\ttrain's multi_logloss: 0.263502\tvalid's multi_logloss: 0.543896\n",
      "[40]\ttrain's multi_logloss: 0.067826\tvalid's multi_logloss: 0.385554\n",
      "[60]\ttrain's multi_logloss: 0.0237247\tvalid's multi_logloss: 0.356152\n"
     ]
    },
    {
     "name": "stderr",
     "output_type": "stream",
     "text": [
      "2022-04-17 11:24:14 - src.train - INFO     [train.py:133] elapsed training time: 0.007 min\n",
      "2022-04-17 11:24:14 - src.train - INFO     [train.py:62] fold=6/24\n",
      "2022-04-17 11:24:14 - src.train - INFO     [train.py:63] reading cv index from data/cv_index/cv-model/iron_oxide/fold_13.csv\n"
     ]
    },
    {
     "name": "stdout",
     "output_type": "stream",
     "text": [
      "[80]\ttrain's multi_logloss: 0.0120168\tvalid's multi_logloss: 0.358613\n",
      "Early stopping, best iteration is:\n",
      "[65]\ttrain's multi_logloss: 0.0193081\tvalid's multi_logloss: 0.354317\n",
      "Training until validation scores don't improve for 20 rounds\n",
      "[20]\ttrain's multi_logloss: 0.25528\tvalid's multi_logloss: 0.57062\n",
      "[40]\ttrain's multi_logloss: 0.0647902\tvalid's multi_logloss: 0.459288\n"
     ]
    },
    {
     "name": "stderr",
     "output_type": "stream",
     "text": [
      "2022-04-17 11:24:15 - src.train - INFO     [train.py:133] elapsed training time: 0.008 min\n",
      "2022-04-17 11:24:15 - src.train - INFO     [train.py:62] fold=7/24\n",
      "2022-04-17 11:24:15 - src.train - INFO     [train.py:63] reading cv index from data/cv_index/cv-model/iron_oxide/fold_14.csv\n"
     ]
    },
    {
     "name": "stdout",
     "output_type": "stream",
     "text": [
      "[60]\ttrain's multi_logloss: 0.022588\tvalid's multi_logloss: 0.453034\n",
      "Early stopping, best iteration is:\n",
      "[52]\ttrain's multi_logloss: 0.0330022\tvalid's multi_logloss: 0.450494\n",
      "Training until validation scores don't improve for 20 rounds\n",
      "[20]\ttrain's multi_logloss: 0.258798\tvalid's multi_logloss: 0.538575\n",
      "[40]\ttrain's multi_logloss: 0.0663503\tvalid's multi_logloss: 0.377025\n",
      "[60]\ttrain's multi_logloss: 0.0232666\tvalid's multi_logloss: 0.333832\n"
     ]
    },
    {
     "name": "stderr",
     "output_type": "stream",
     "text": [
      "2022-04-17 11:24:15 - src.train - INFO     [train.py:133] elapsed training time: 0.007 min\n",
      "2022-04-17 11:24:15 - src.train - INFO     [train.py:62] fold=8/24\n",
      "2022-04-17 11:24:15 - src.train - INFO     [train.py:63] reading cv index from data/cv_index/cv-model/iron_oxide/fold_15.csv\n"
     ]
    },
    {
     "name": "stdout",
     "output_type": "stream",
     "text": [
      "[80]\ttrain's multi_logloss: 0.0117354\tvalid's multi_logloss: 0.330445\n",
      "Early stopping, best iteration is:\n",
      "[68]\ttrain's multi_logloss: 0.0170528\tvalid's multi_logloss: 0.32752\n",
      "Training until validation scores don't improve for 20 rounds\n",
      "[20]\ttrain's multi_logloss: 0.265452\tvalid's multi_logloss: 0.491762\n",
      "[40]\ttrain's multi_logloss: 0.0685516\tvalid's multi_logloss: 0.322056\n",
      "[60]\ttrain's multi_logloss: 0.0239242\tvalid's multi_logloss: 0.293083\n"
     ]
    },
    {
     "name": "stderr",
     "output_type": "stream",
     "text": [
      "2022-04-17 11:24:16 - src.train - INFO     [train.py:133] elapsed training time: 0.007 min\n",
      "2022-04-17 11:24:16 - src.train - INFO     [train.py:62] fold=9/24\n",
      "2022-04-17 11:24:16 - src.train - INFO     [train.py:63] reading cv index from data/cv_index/cv-model/iron_oxide/fold_16.csv\n"
     ]
    },
    {
     "name": "stdout",
     "output_type": "stream",
     "text": [
      "[80]\ttrain's multi_logloss: 0.0123223\tvalid's multi_logloss: 0.288123\n",
      "Early stopping, best iteration is:\n",
      "[69]\ttrain's multi_logloss: 0.0170371\tvalid's multi_logloss: 0.285177\n",
      "Training until validation scores don't improve for 20 rounds\n",
      "[20]\ttrain's multi_logloss: 0.266881\tvalid's multi_logloss: 0.522747\n",
      "[40]\ttrain's multi_logloss: 0.069994\tvalid's multi_logloss: 0.38697\n"
     ]
    },
    {
     "name": "stderr",
     "output_type": "stream",
     "text": [
      "2022-04-17 11:24:16 - src.train - INFO     [train.py:133] elapsed training time: 0.007 min\n",
      "2022-04-17 11:24:16 - src.train - INFO     [train.py:62] fold=10/24\n",
      "2022-04-17 11:24:16 - src.train - INFO     [train.py:63] reading cv index from data/cv_index/cv-model/iron_oxide/fold_17.csv\n"
     ]
    },
    {
     "name": "stdout",
     "output_type": "stream",
     "text": [
      "[60]\ttrain's multi_logloss: 0.024491\tvalid's multi_logloss: 0.365798\n",
      "Early stopping, best iteration is:\n",
      "[56]\ttrain's multi_logloss: 0.0295739\tvalid's multi_logloss: 0.363095\n",
      "Training until validation scores don't improve for 20 rounds\n",
      "[20]\ttrain's multi_logloss: 0.264442\tvalid's multi_logloss: 0.556633\n",
      "[40]\ttrain's multi_logloss: 0.068208\tvalid's multi_logloss: 0.424055\n"
     ]
    },
    {
     "name": "stderr",
     "output_type": "stream",
     "text": [
      "2022-04-17 11:24:17 - src.train - INFO     [train.py:133] elapsed training time: 0.007 min\n",
      "2022-04-17 11:24:17 - src.train - INFO     [train.py:62] fold=11/24\n",
      "2022-04-17 11:24:17 - src.train - INFO     [train.py:63] reading cv index from data/cv_index/cv-model/iron_oxide/fold_18.csv\n"
     ]
    },
    {
     "name": "stdout",
     "output_type": "stream",
     "text": [
      "[60]\ttrain's multi_logloss: 0.0234805\tvalid's multi_logloss: 0.416665\n",
      "Early stopping, best iteration is:\n",
      "[51]\ttrain's multi_logloss: 0.0360116\tvalid's multi_logloss: 0.405908\n",
      "Training until validation scores don't improve for 20 rounds\n",
      "[20]\ttrain's multi_logloss: 0.250942\tvalid's multi_logloss: 0.592756\n",
      "[40]\ttrain's multi_logloss: 0.0637266\tvalid's multi_logloss: 0.566922\n"
     ]
    },
    {
     "name": "stderr",
     "output_type": "stream",
     "text": [
      "2022-04-17 11:24:17 - src.train - INFO     [train.py:133] elapsed training time: 0.006 min\n",
      "2022-04-17 11:24:17 - src.train - INFO     [train.py:62] fold=12/24\n",
      "2022-04-17 11:24:17 - src.train - INFO     [train.py:63] reading cv index from data/cv_index/cv-model/iron_oxide/fold_19.csv\n"
     ]
    },
    {
     "name": "stdout",
     "output_type": "stream",
     "text": [
      "Early stopping, best iteration is:\n",
      "[32]\ttrain's multi_logloss: 0.108818\tvalid's multi_logloss: 0.554955\n",
      "Training until validation scores don't improve for 20 rounds\n",
      "[20]\ttrain's multi_logloss: 0.257207\tvalid's multi_logloss: 0.582871\n",
      "[40]\ttrain's multi_logloss: 0.065771\tvalid's multi_logloss: 0.489311\n",
      "[60]\ttrain's multi_logloss: 0.0231016\tvalid's multi_logloss: 0.52152\n",
      "Early stopping, best iteration is:\n",
      "[41]\ttrain's multi_logloss: 0.0618331\tvalid's multi_logloss: 0.488143\n"
     ]
    },
    {
     "name": "stderr",
     "output_type": "stream",
     "text": [
      "2022-04-17 11:24:18 - src.train - INFO     [train.py:133] elapsed training time: 0.005 min\n",
      "2022-04-17 11:24:18 - src.train - INFO     [train.py:62] fold=13/24\n",
      "2022-04-17 11:24:18 - src.train - INFO     [train.py:63] reading cv index from data/cv_index/cv-model/iron_oxide/fold_2.csv\n"
     ]
    },
    {
     "name": "stdout",
     "output_type": "stream",
     "text": [
      "Training until validation scores don't improve for 20 rounds\n",
      "[20]\ttrain's multi_logloss: 0.26438\tvalid's multi_logloss: 0.53781\n",
      "[40]\ttrain's multi_logloss: 0.068605\tvalid's multi_logloss: 0.405922\n",
      "[60]\ttrain's multi_logloss: 0.0236961\tvalid's multi_logloss: 0.415384\n"
     ]
    },
    {
     "name": "stderr",
     "output_type": "stream",
     "text": [
      "2022-04-17 11:24:18 - src.train - INFO     [train.py:133] elapsed training time: 0.011 min\n",
      "2022-04-17 11:24:18 - src.train - INFO     [train.py:62] fold=14/24\n",
      "2022-04-17 11:24:18 - src.train - INFO     [train.py:63] reading cv index from data/cv_index/cv-model/iron_oxide/fold_20.csv\n"
     ]
    },
    {
     "name": "stdout",
     "output_type": "stream",
     "text": [
      "Early stopping, best iteration is:\n",
      "[48]\ttrain's multi_logloss: 0.0428434\tvalid's multi_logloss: 0.398564\n",
      "Training until validation scores don't improve for 20 rounds\n",
      "[20]\ttrain's multi_logloss: 0.263619\tvalid's multi_logloss: 0.571222\n",
      "[40]\ttrain's multi_logloss: 0.0685209\tvalid's multi_logloss: 0.403977\n"
     ]
    },
    {
     "name": "stderr",
     "output_type": "stream",
     "text": [
      "2022-04-17 11:24:19 - src.train - INFO     [train.py:133] elapsed training time: 0.010 min\n",
      "2022-04-17 11:24:19 - src.train - INFO     [train.py:62] fold=15/24\n",
      "2022-04-17 11:24:19 - src.train - INFO     [train.py:63] reading cv index from data/cv_index/cv-model/iron_oxide/fold_21.csv\n"
     ]
    },
    {
     "name": "stdout",
     "output_type": "stream",
     "text": [
      "[60]\ttrain's multi_logloss: 0.023897\tvalid's multi_logloss: 0.373408\n",
      "[80]\ttrain's multi_logloss: 0.0120353\tvalid's multi_logloss: 0.356927\n",
      "[100]\ttrain's multi_logloss: 0.00832627\tvalid's multi_logloss: 0.34793\n",
      "[120]\ttrain's multi_logloss: 0.00716118\tvalid's multi_logloss: 0.343502\n",
      "[140]\ttrain's multi_logloss: 0.00673124\tvalid's multi_logloss: 0.344006\n",
      "[160]\ttrain's multi_logloss: 0.00664666\tvalid's multi_logloss: 0.34373\n",
      "Early stopping, best iteration is:\n",
      "[145]\ttrain's multi_logloss: 0.00666613\tvalid's multi_logloss: 0.343312\n",
      "Training until validation scores don't improve for 20 rounds\n",
      "[20]\ttrain's multi_logloss: 0.262639\tvalid's multi_logloss: 0.439064\n",
      "[40]\ttrain's multi_logloss: 0.0680465\tvalid's multi_logloss: 0.283029\n"
     ]
    },
    {
     "name": "stderr",
     "output_type": "stream",
     "text": [
      "2022-04-17 11:24:20 - src.train - INFO     [train.py:133] elapsed training time: 0.009 min\n",
      "2022-04-17 11:24:20 - src.train - INFO     [train.py:62] fold=16/24\n",
      "2022-04-17 11:24:20 - src.train - INFO     [train.py:63] reading cv index from data/cv_index/cv-model/iron_oxide/fold_22.csv\n"
     ]
    },
    {
     "name": "stdout",
     "output_type": "stream",
     "text": [
      "[60]\ttrain's multi_logloss: 0.0236888\tvalid's multi_logloss: 0.253884\n",
      "[80]\ttrain's multi_logloss: 0.0120566\tvalid's multi_logloss: 0.244967\n",
      "Early stopping, best iteration is:\n",
      "[74]\ttrain's multi_logloss: 0.0141852\tvalid's multi_logloss: 0.241973\n",
      "Training until validation scores don't improve for 20 rounds\n",
      "[20]\ttrain's multi_logloss: 0.263471\tvalid's multi_logloss: 0.521076\n",
      "[40]\ttrain's multi_logloss: 0.0682284\tvalid's multi_logloss: 0.374616\n"
     ]
    },
    {
     "name": "stderr",
     "output_type": "stream",
     "text": [
      "2022-04-17 11:24:20 - src.train - INFO     [train.py:133] elapsed training time: 0.006 min\n",
      "2022-04-17 11:24:20 - src.train - INFO     [train.py:62] fold=17/24\n",
      "2022-04-17 11:24:20 - src.train - INFO     [train.py:63] reading cv index from data/cv_index/cv-model/iron_oxide/fold_23.csv\n"
     ]
    },
    {
     "name": "stdout",
     "output_type": "stream",
     "text": [
      "[60]\ttrain's multi_logloss: 0.0242473\tvalid's multi_logloss: 0.36067\n",
      "Early stopping, best iteration is:\n",
      "[49]\ttrain's multi_logloss: 0.0411499\tvalid's multi_logloss: 0.354346\n",
      "Training until validation scores don't improve for 20 rounds\n",
      "[20]\ttrain's multi_logloss: 0.268245\tvalid's multi_logloss: 0.53785\n",
      "[40]\ttrain's multi_logloss: 0.0699969\tvalid's multi_logloss: 0.382335\n"
     ]
    },
    {
     "name": "stderr",
     "output_type": "stream",
     "text": [
      "2022-04-17 11:24:21 - src.train - INFO     [train.py:133] elapsed training time: 0.008 min\n",
      "2022-04-17 11:24:21 - src.train - INFO     [train.py:62] fold=18/24\n",
      "2022-04-17 11:24:21 - src.train - INFO     [train.py:63] reading cv index from data/cv_index/cv-model/iron_oxide/fold_3.csv\n"
     ]
    },
    {
     "name": "stdout",
     "output_type": "stream",
     "text": [
      "[60]\ttrain's multi_logloss: 0.0245787\tvalid's multi_logloss: 0.335618\n",
      "[80]\ttrain's multi_logloss: 0.0124788\tvalid's multi_logloss: 0.319572\n",
      "[100]\ttrain's multi_logloss: 0.00850697\tvalid's multi_logloss: 0.318103\n",
      "Early stopping, best iteration is:\n",
      "[86]\ttrain's multi_logloss: 0.0107653\tvalid's multi_logloss: 0.317197\n",
      "Training until validation scores don't improve for 20 rounds\n",
      "[20]\ttrain's multi_logloss: 0.264541\tvalid's multi_logloss: 0.486243\n",
      "[40]\ttrain's multi_logloss: 0.0667935\tvalid's multi_logloss: 0.320507\n"
     ]
    },
    {
     "name": "stderr",
     "output_type": "stream",
     "text": [
      "2022-04-17 11:24:21 - src.train - INFO     [train.py:133] elapsed training time: 0.007 min\n",
      "2022-04-17 11:24:21 - src.train - INFO     [train.py:62] fold=19/24\n",
      "2022-04-17 11:24:21 - src.train - INFO     [train.py:63] reading cv index from data/cv_index/cv-model/iron_oxide/fold_4.csv\n"
     ]
    },
    {
     "name": "stdout",
     "output_type": "stream",
     "text": [
      "[60]\ttrain's multi_logloss: 0.0233148\tvalid's multi_logloss: 0.292338\n",
      "[80]\ttrain's multi_logloss: 0.011783\tvalid's multi_logloss: 0.295697\n",
      "Early stopping, best iteration is:\n",
      "[62]\ttrain's multi_logloss: 0.0214851\tvalid's multi_logloss: 0.290517\n",
      "Training until validation scores don't improve for 20 rounds\n",
      "[20]\ttrain's multi_logloss: 0.26011\tvalid's multi_logloss: 0.566205\n",
      "[40]\ttrain's multi_logloss: 0.0662581\tvalid's multi_logloss: 0.391857\n"
     ]
    },
    {
     "name": "stderr",
     "output_type": "stream",
     "text": [
      "2022-04-17 11:24:22 - src.train - INFO     [train.py:133] elapsed training time: 0.008 min\n",
      "2022-04-17 11:24:22 - src.train - INFO     [train.py:62] fold=20/24\n",
      "2022-04-17 11:24:22 - src.train - INFO     [train.py:63] reading cv index from data/cv_index/cv-model/iron_oxide/fold_5.csv\n"
     ]
    },
    {
     "name": "stdout",
     "output_type": "stream",
     "text": [
      "[60]\ttrain's multi_logloss: 0.0225159\tvalid's multi_logloss: 0.364038\n",
      "[80]\ttrain's multi_logloss: 0.0116043\tvalid's multi_logloss: 0.367078\n",
      "Early stopping, best iteration is:\n",
      "[69]\ttrain's multi_logloss: 0.0161039\tvalid's multi_logloss: 0.360876\n",
      "Training until validation scores don't improve for 20 rounds\n",
      "[20]\ttrain's multi_logloss: 0.267219\tvalid's multi_logloss: 0.59015\n",
      "[40]\ttrain's multi_logloss: 0.0685864\tvalid's multi_logloss: 0.502441\n"
     ]
    },
    {
     "name": "stderr",
     "output_type": "stream",
     "text": [
      "2022-04-17 11:24:22 - src.train - INFO     [train.py:133] elapsed training time: 0.006 min\n",
      "2022-04-17 11:24:22 - src.train - INFO     [train.py:62] fold=21/24\n",
      "2022-04-17 11:24:22 - src.train - INFO     [train.py:63] reading cv index from data/cv_index/cv-model/iron_oxide/fold_6.csv\n"
     ]
    },
    {
     "name": "stdout",
     "output_type": "stream",
     "text": [
      "[60]\ttrain's multi_logloss: 0.0240633\tvalid's multi_logloss: 0.51933\n",
      "Early stopping, best iteration is:\n",
      "[40]\ttrain's multi_logloss: 0.0685864\tvalid's multi_logloss: 0.502441\n",
      "Training until validation scores don't improve for 20 rounds\n",
      "[20]\ttrain's multi_logloss: 0.266398\tvalid's multi_logloss: 0.50916\n",
      "[40]\ttrain's multi_logloss: 0.0701629\tvalid's multi_logloss: 0.393204\n"
     ]
    },
    {
     "name": "stderr",
     "output_type": "stream",
     "text": [
      "2022-04-17 11:24:23 - src.train - INFO     [train.py:133] elapsed training time: 0.006 min\n",
      "2022-04-17 11:24:23 - src.train - INFO     [train.py:62] fold=22/24\n",
      "2022-04-17 11:24:23 - src.train - INFO     [train.py:63] reading cv index from data/cv_index/cv-model/iron_oxide/fold_7.csv\n"
     ]
    },
    {
     "name": "stdout",
     "output_type": "stream",
     "text": [
      "[60]\ttrain's multi_logloss: 0.024048\tvalid's multi_logloss: 0.399612\n",
      "Early stopping, best iteration is:\n",
      "[44]\ttrain's multi_logloss: 0.0552487\tvalid's multi_logloss: 0.385228\n",
      "Training until validation scores don't improve for 20 rounds\n",
      "[20]\ttrain's multi_logloss: 0.267919\tvalid's multi_logloss: 0.585284\n",
      "[40]\ttrain's multi_logloss: 0.0681435\tvalid's multi_logloss: 0.433998\n"
     ]
    },
    {
     "name": "stderr",
     "output_type": "stream",
     "text": [
      "2022-04-17 11:24:23 - src.train - INFO     [train.py:133] elapsed training time: 0.007 min\n",
      "2022-04-17 11:24:23 - src.train - INFO     [train.py:62] fold=23/24\n",
      "2022-04-17 11:24:23 - src.train - INFO     [train.py:63] reading cv index from data/cv_index/cv-model/iron_oxide/fold_8.csv\n"
     ]
    },
    {
     "name": "stdout",
     "output_type": "stream",
     "text": [
      "[60]\ttrain's multi_logloss: 0.024232\tvalid's multi_logloss: 0.421823\n",
      "[80]\ttrain's multi_logloss: 0.0122515\tvalid's multi_logloss: 0.421521\n",
      "Early stopping, best iteration is:\n",
      "[76]\ttrain's multi_logloss: 0.0136246\tvalid's multi_logloss: 0.418357\n",
      "Training until validation scores don't improve for 20 rounds\n",
      "[20]\ttrain's multi_logloss: 0.26459\tvalid's multi_logloss: 0.508547\n",
      "[40]\ttrain's multi_logloss: 0.0684489\tvalid's multi_logloss: 0.364649\n",
      "[60]\ttrain's multi_logloss: 0.0237035\tvalid's multi_logloss: 0.346124\n"
     ]
    },
    {
     "name": "stderr",
     "output_type": "stream",
     "text": [
      "2022-04-17 11:24:24 - src.train - INFO     [train.py:133] elapsed training time: 0.006 min\n",
      "2022-04-17 11:24:24 - src.train - INFO     [train.py:62] fold=24/24\n",
      "2022-04-17 11:24:24 - src.train - INFO     [train.py:63] reading cv index from data/cv_index/cv-model/iron_oxide/fold_9.csv\n"
     ]
    },
    {
     "name": "stdout",
     "output_type": "stream",
     "text": [
      "Early stopping, best iteration is:\n",
      "[58]\ttrain's multi_logloss: 0.0259411\tvalid's multi_logloss: 0.343941\n",
      "Training until validation scores don't improve for 20 rounds\n",
      "[20]\ttrain's multi_logloss: 0.269192\tvalid's multi_logloss: 0.52826\n",
      "[40]\ttrain's multi_logloss: 0.0698296\tvalid's multi_logloss: 0.376482\n",
      "[60]\ttrain's multi_logloss: 0.0248112\tvalid's multi_logloss: 0.355253\n"
     ]
    },
    {
     "name": "stderr",
     "output_type": "stream",
     "text": [
      "2022-04-17 11:24:25 - src.train - INFO     [train.py:133] elapsed training time: 0.011 min\n",
      "2022-04-17 11:24:25 - src.train - INFO     [train.py:62] fold=1/24\n",
      "2022-04-17 11:24:25 - src.train - INFO     [train.py:63] reading cv index from data/cv_index/cv-model/iron_oxide/fold_0.csv\n"
     ]
    },
    {
     "name": "stdout",
     "output_type": "stream",
     "text": [
      "[80]\ttrain's multi_logloss: 0.0122586\tvalid's multi_logloss: 0.352254\n",
      "Early stopping, best iteration is:\n",
      "[63]\ttrain's multi_logloss: 0.0218127\tvalid's multi_logloss: 0.347597\n",
      "64\n"
     ]
    },
    {
     "name": "stderr",
     "output_type": "stream",
     "text": [
      "2022-04-17 11:24:25 - src.train - INFO     [train.py:28] elapsed training time: 0.008 min\n",
      "2022-04-17 11:24:25 - src.train - INFO     [train.py:62] fold=2/24\n",
      "2022-04-17 11:24:25 - src.train - INFO     [train.py:63] reading cv index from data/cv_index/cv-model/iron_oxide/fold_1.csv\n",
      "2022-04-17 11:24:26 - src.train - INFO     [train.py:28] elapsed training time: 0.009 min\n",
      "2022-04-17 11:24:26 - src.train - INFO     [train.py:62] fold=3/24\n",
      "2022-04-17 11:24:26 - src.train - INFO     [train.py:63] reading cv index from data/cv_index/cv-model/iron_oxide/fold_10.csv\n",
      "2022-04-17 11:24:27 - src.train - INFO     [train.py:28] elapsed training time: 0.022 min\n",
      "2022-04-17 11:24:27 - src.train - INFO     [train.py:62] fold=4/24\n",
      "2022-04-17 11:24:27 - src.train - INFO     [train.py:63] reading cv index from data/cv_index/cv-model/iron_oxide/fold_11.csv\n",
      "2022-04-17 11:24:28 - src.train - INFO     [train.py:28] elapsed training time: 0.009 min\n",
      "2022-04-17 11:24:28 - src.train - INFO     [train.py:62] fold=5/24\n",
      "2022-04-17 11:24:28 - src.train - INFO     [train.py:63] reading cv index from data/cv_index/cv-model/iron_oxide/fold_12.csv\n",
      "2022-04-17 11:24:29 - src.train - INFO     [train.py:28] elapsed training time: 0.009 min\n",
      "2022-04-17 11:24:29 - src.train - INFO     [train.py:62] fold=6/24\n",
      "2022-04-17 11:24:29 - src.train - INFO     [train.py:63] reading cv index from data/cv_index/cv-model/iron_oxide/fold_13.csv\n",
      "2022-04-17 11:24:29 - src.train - INFO     [train.py:28] elapsed training time: 0.005 min\n",
      "2022-04-17 11:24:29 - src.train - INFO     [train.py:62] fold=7/24\n",
      "2022-04-17 11:24:29 - src.train - INFO     [train.py:63] reading cv index from data/cv_index/cv-model/iron_oxide/fold_14.csv\n",
      "2022-04-17 11:24:30 - src.train - INFO     [train.py:28] elapsed training time: 0.010 min\n",
      "2022-04-17 11:24:30 - src.train - INFO     [train.py:62] fold=8/24\n",
      "2022-04-17 11:24:30 - src.train - INFO     [train.py:63] reading cv index from data/cv_index/cv-model/iron_oxide/fold_15.csv\n",
      "2022-04-17 11:24:30 - src.train - INFO     [train.py:28] elapsed training time: 0.007 min\n",
      "2022-04-17 11:24:30 - src.train - INFO     [train.py:62] fold=9/24\n",
      "2022-04-17 11:24:30 - src.train - INFO     [train.py:63] reading cv index from data/cv_index/cv-model/iron_oxide/fold_16.csv\n",
      "2022-04-17 11:24:31 - src.train - INFO     [train.py:28] elapsed training time: 0.007 min\n",
      "2022-04-17 11:24:31 - src.train - INFO     [train.py:62] fold=10/24\n",
      "2022-04-17 11:24:31 - src.train - INFO     [train.py:63] reading cv index from data/cv_index/cv-model/iron_oxide/fold_17.csv\n",
      "2022-04-17 11:24:32 - src.train - INFO     [train.py:28] elapsed training time: 0.008 min\n",
      "2022-04-17 11:24:32 - src.train - INFO     [train.py:62] fold=11/24\n",
      "2022-04-17 11:24:32 - src.train - INFO     [train.py:63] reading cv index from data/cv_index/cv-model/iron_oxide/fold_18.csv\n",
      "2022-04-17 11:24:33 - src.train - INFO     [train.py:28] elapsed training time: 0.016 min\n",
      "2022-04-17 11:24:33 - src.train - INFO     [train.py:62] fold=12/24\n",
      "2022-04-17 11:24:33 - src.train - INFO     [train.py:63] reading cv index from data/cv_index/cv-model/iron_oxide/fold_19.csv\n",
      "2022-04-17 11:24:33 - src.train - INFO     [train.py:28] elapsed training time: 0.004 min\n",
      "2022-04-17 11:24:33 - src.train - INFO     [train.py:62] fold=13/24\n",
      "2022-04-17 11:24:33 - src.train - INFO     [train.py:63] reading cv index from data/cv_index/cv-model/iron_oxide/fold_2.csv\n",
      "2022-04-17 11:24:34 - src.train - INFO     [train.py:28] elapsed training time: 0.006 min\n",
      "2022-04-17 11:24:34 - src.train - INFO     [train.py:62] fold=14/24\n",
      "2022-04-17 11:24:34 - src.train - INFO     [train.py:63] reading cv index from data/cv_index/cv-model/iron_oxide/fold_20.csv\n",
      "2022-04-17 11:24:34 - src.train - INFO     [train.py:28] elapsed training time: 0.004 min\n",
      "2022-04-17 11:24:34 - src.train - INFO     [train.py:62] fold=15/24\n",
      "2022-04-17 11:24:34 - src.train - INFO     [train.py:63] reading cv index from data/cv_index/cv-model/iron_oxide/fold_21.csv\n",
      "2022-04-17 11:24:34 - src.train - INFO     [train.py:28] elapsed training time: 0.005 min\n",
      "2022-04-17 11:24:34 - src.train - INFO     [train.py:62] fold=16/24\n",
      "2022-04-17 11:24:34 - src.train - INFO     [train.py:63] reading cv index from data/cv_index/cv-model/iron_oxide/fold_22.csv\n",
      "2022-04-17 11:24:35 - src.train - INFO     [train.py:28] elapsed training time: 0.005 min\n",
      "2022-04-17 11:24:35 - src.train - INFO     [train.py:62] fold=17/24\n",
      "2022-04-17 11:24:35 - src.train - INFO     [train.py:63] reading cv index from data/cv_index/cv-model/iron_oxide/fold_23.csv\n",
      "2022-04-17 11:24:35 - src.train - INFO     [train.py:28] elapsed training time: 0.005 min\n",
      "2022-04-17 11:24:35 - src.train - INFO     [train.py:62] fold=18/24\n",
      "2022-04-17 11:24:35 - src.train - INFO     [train.py:63] reading cv index from data/cv_index/cv-model/iron_oxide/fold_3.csv\n",
      "2022-04-17 11:24:36 - src.train - INFO     [train.py:28] elapsed training time: 0.008 min\n",
      "2022-04-17 11:24:36 - src.train - INFO     [train.py:62] fold=19/24\n",
      "2022-04-17 11:24:36 - src.train - INFO     [train.py:63] reading cv index from data/cv_index/cv-model/iron_oxide/fold_4.csv\n",
      "2022-04-17 11:24:36 - src.train - INFO     [train.py:28] elapsed training time: 0.005 min\n",
      "2022-04-17 11:24:36 - src.train - INFO     [train.py:62] fold=20/24\n",
      "2022-04-17 11:24:36 - src.train - INFO     [train.py:63] reading cv index from data/cv_index/cv-model/iron_oxide/fold_5.csv\n",
      "2022-04-17 11:24:37 - src.train - INFO     [train.py:28] elapsed training time: 0.008 min\n",
      "2022-04-17 11:24:37 - src.train - INFO     [train.py:62] fold=21/24\n",
      "2022-04-17 11:24:37 - src.train - INFO     [train.py:63] reading cv index from data/cv_index/cv-model/iron_oxide/fold_6.csv\n",
      "2022-04-17 11:24:37 - src.train - INFO     [train.py:28] elapsed training time: 0.007 min\n",
      "2022-04-17 11:24:37 - src.train - INFO     [train.py:62] fold=22/24\n",
      "2022-04-17 11:24:37 - src.train - INFO     [train.py:63] reading cv index from data/cv_index/cv-model/iron_oxide/fold_7.csv\n",
      "2022-04-17 11:24:38 - src.train - INFO     [train.py:28] elapsed training time: 0.005 min\n",
      "2022-04-17 11:24:38 - src.train - INFO     [train.py:62] fold=23/24\n",
      "2022-04-17 11:24:38 - src.train - INFO     [train.py:63] reading cv index from data/cv_index/cv-model/iron_oxide/fold_8.csv\n",
      "2022-04-17 11:24:39 - src.train - INFO     [train.py:28] elapsed training time: 0.012 min\n",
      "2022-04-17 11:24:39 - src.train - INFO     [train.py:62] fold=24/24\n",
      "2022-04-17 11:24:39 - src.train - INFO     [train.py:63] reading cv index from data/cv_index/cv-model/iron_oxide/fold_9.csv\n",
      "2022-04-17 11:24:39 - src.train - INFO     [train.py:28] elapsed training time: 0.006 min\n",
      "2022-04-17 11:24:39 - src.train - INFO     [train.py:62] fold=1/24\n",
      "2022-04-17 11:24:39 - src.train - INFO     [train.py:63] reading cv index from data/cv_index/cv-model/oxalate/fold_0.csv\n"
     ]
    },
    {
     "name": "stdout",
     "output_type": "stream",
     "text": [
      "Training until validation scores don't improve for 20 rounds\n",
      "[20]\ttrain's multi_logloss: 0.159064\tvalid's multi_logloss: 0.287228\n",
      "[40]\ttrain's multi_logloss: 0.0355947\tvalid's multi_logloss: 0.19491\n"
     ]
    },
    {
     "name": "stderr",
     "output_type": "stream",
     "text": [
      "2022-04-17 11:24:40 - src.train - INFO     [train.py:133] elapsed training time: 0.022 min\n",
      "2022-04-17 11:24:40 - src.train - INFO     [train.py:62] fold=2/24\n",
      "2022-04-17 11:24:40 - src.train - INFO     [train.py:63] reading cv index from data/cv_index/cv-model/oxalate/fold_1.csv\n"
     ]
    },
    {
     "name": "stdout",
     "output_type": "stream",
     "text": [
      "[60]\ttrain's multi_logloss: 0.0118632\tvalid's multi_logloss: 0.179238\n",
      "Early stopping, best iteration is:\n",
      "[54]\ttrain's multi_logloss: 0.0157559\tvalid's multi_logloss: 0.17534\n",
      "Training until validation scores don't improve for 20 rounds\n",
      "[20]\ttrain's multi_logloss: 0.171234\tvalid's multi_logloss: 0.232843\n",
      "[40]\ttrain's multi_logloss: 0.0396698\tvalid's multi_logloss: 0.119492\n",
      "[60]\ttrain's multi_logloss: 0.012694\tvalid's multi_logloss: 0.0921818\n"
     ]
    },
    {
     "name": "stderr",
     "output_type": "stream",
     "text": [
      "2022-04-17 11:24:44 - src.train - INFO     [train.py:133] elapsed training time: 0.062 min\n",
      "2022-04-17 11:24:44 - src.train - INFO     [train.py:62] fold=3/24\n",
      "2022-04-17 11:24:44 - src.train - INFO     [train.py:63] reading cv index from data/cv_index/cv-model/oxalate/fold_10.csv\n"
     ]
    },
    {
     "name": "stdout",
     "output_type": "stream",
     "text": [
      "[80]\ttrain's multi_logloss: 0.00618484\tvalid's multi_logloss: 0.0844156\n",
      "Early stopping, best iteration is:\n",
      "[74]\ttrain's multi_logloss: 0.00742648\tvalid's multi_logloss: 0.0842859\n",
      "Training until validation scores don't improve for 20 rounds\n",
      "[20]\ttrain's multi_logloss: 0.162329\tvalid's multi_logloss: 0.301911\n",
      "[40]\ttrain's multi_logloss: 0.0351282\tvalid's multi_logloss: 0.259471\n"
     ]
    },
    {
     "name": "stderr",
     "output_type": "stream",
     "text": [
      "2022-04-17 11:24:45 - src.train - INFO     [train.py:133] elapsed training time: 0.011 min\n",
      "2022-04-17 11:24:45 - src.train - INFO     [train.py:62] fold=4/24\n",
      "2022-04-17 11:24:45 - src.train - INFO     [train.py:63] reading cv index from data/cv_index/cv-model/oxalate/fold_11.csv\n"
     ]
    },
    {
     "name": "stdout",
     "output_type": "stream",
     "text": [
      "Early stopping, best iteration is:\n",
      "[34]\ttrain's multi_logloss: 0.0541747\tvalid's multi_logloss: 0.253315\n",
      "Training until validation scores don't improve for 20 rounds\n",
      "[20]\ttrain's multi_logloss: 0.167337\tvalid's multi_logloss: 0.319732\n",
      "[40]\ttrain's multi_logloss: 0.0373933\tvalid's multi_logloss: 0.226349\n"
     ]
    },
    {
     "name": "stderr",
     "output_type": "stream",
     "text": [
      "2022-04-17 11:24:46 - src.train - INFO     [train.py:133] elapsed training time: 0.014 min\n",
      "2022-04-17 11:24:46 - src.train - INFO     [train.py:62] fold=5/24\n",
      "2022-04-17 11:24:46 - src.train - INFO     [train.py:63] reading cv index from data/cv_index/cv-model/oxalate/fold_12.csv\n"
     ]
    },
    {
     "name": "stdout",
     "output_type": "stream",
     "text": [
      "[60]\ttrain's multi_logloss: 0.0117385\tvalid's multi_logloss: 0.21663\n",
      "Early stopping, best iteration is:\n",
      "[52]\ttrain's multi_logloss: 0.0176163\tvalid's multi_logloss: 0.213493\n",
      "Training until validation scores don't improve for 20 rounds\n",
      "[20]\ttrain's multi_logloss: 0.162109\tvalid's multi_logloss: 0.304375\n"
     ]
    },
    {
     "name": "stderr",
     "output_type": "stream",
     "text": [
      "2022-04-17 11:24:47 - src.train - INFO     [train.py:133] elapsed training time: 0.012 min\n",
      "2022-04-17 11:24:47 - src.train - INFO     [train.py:62] fold=6/24\n",
      "2022-04-17 11:24:47 - src.train - INFO     [train.py:63] reading cv index from data/cv_index/cv-model/oxalate/fold_13.csv\n"
     ]
    },
    {
     "name": "stdout",
     "output_type": "stream",
     "text": [
      "[40]\ttrain's multi_logloss: 0.0374791\tvalid's multi_logloss: 0.212951\n",
      "[60]\ttrain's multi_logloss: 0.0123922\tvalid's multi_logloss: 0.215757\n",
      "Early stopping, best iteration is:\n",
      "[43]\ttrain's multi_logloss: 0.0307428\tvalid's multi_logloss: 0.209286\n",
      "Training until validation scores don't improve for 20 rounds\n",
      "[20]\ttrain's multi_logloss: 0.157791\tvalid's multi_logloss: 0.348909\n",
      "[40]\ttrain's multi_logloss: 0.0338136\tvalid's multi_logloss: 0.31056\n"
     ]
    },
    {
     "name": "stderr",
     "output_type": "stream",
     "text": [
      "2022-04-17 11:24:48 - src.train - INFO     [train.py:133] elapsed training time: 0.010 min\n",
      "2022-04-17 11:24:48 - src.train - INFO     [train.py:62] fold=7/24\n",
      "2022-04-17 11:24:48 - src.train - INFO     [train.py:63] reading cv index from data/cv_index/cv-model/oxalate/fold_14.csv\n"
     ]
    },
    {
     "name": "stdout",
     "output_type": "stream",
     "text": [
      "[60]\ttrain's multi_logloss: 0.0106747\tvalid's multi_logloss: 0.331489\n",
      "Early stopping, best iteration is:\n",
      "[42]\ttrain's multi_logloss: 0.0292632\tvalid's multi_logloss: 0.307048\n",
      "Training until validation scores don't improve for 20 rounds\n",
      "[20]\ttrain's multi_logloss: 0.168109\tvalid's multi_logloss: 0.257331\n",
      "[40]\ttrain's multi_logloss: 0.0392252\tvalid's multi_logloss: 0.135124\n",
      "[60]\ttrain's multi_logloss: 0.0129135\tvalid's multi_logloss: 0.10378\n",
      "[80]\ttrain's multi_logloss: 0.00633637\tvalid's multi_logloss: 0.0888254\n",
      "[100]\ttrain's multi_logloss: 0.00441638\tvalid's multi_logloss: 0.085779\n"
     ]
    },
    {
     "name": "stderr",
     "output_type": "stream",
     "text": [
      "2022-04-17 11:24:48 - src.train - INFO     [train.py:133] elapsed training time: 0.013 min\n",
      "2022-04-17 11:24:48 - src.train - INFO     [train.py:62] fold=8/24\n",
      "2022-04-17 11:24:48 - src.train - INFO     [train.py:63] reading cv index from data/cv_index/cv-model/oxalate/fold_15.csv\n"
     ]
    },
    {
     "name": "stdout",
     "output_type": "stream",
     "text": [
      "[120]\ttrain's multi_logloss: 0.0038214\tvalid's multi_logloss: 0.0853141\n",
      "Early stopping, best iteration is:\n",
      "[107]\ttrain's multi_logloss: 0.00410623\tvalid's multi_logloss: 0.0850811\n",
      "Training until validation scores don't improve for 20 rounds\n",
      "[20]\ttrain's multi_logloss: 0.163071\tvalid's multi_logloss: 0.257893\n",
      "[40]\ttrain's multi_logloss: 0.0374012\tvalid's multi_logloss: 0.161891\n",
      "[60]\ttrain's multi_logloss: 0.0121967\tvalid's multi_logloss: 0.146666\n",
      "[80]\ttrain's multi_logloss: 0.00602629\tvalid's multi_logloss: 0.147067\n",
      "Early stopping, best iteration is:\n",
      "[64]\ttrain's multi_logloss: 0.010295\tvalid's multi_logloss: 0.145807\n"
     ]
    },
    {
     "name": "stderr",
     "output_type": "stream",
     "text": [
      "2022-04-17 11:24:49 - src.train - INFO     [train.py:133] elapsed training time: 0.005 min\n",
      "2022-04-17 11:24:49 - src.train - INFO     [train.py:62] fold=9/24\n",
      "2022-04-17 11:24:49 - src.train - INFO     [train.py:63] reading cv index from data/cv_index/cv-model/oxalate/fold_16.csv\n"
     ]
    },
    {
     "name": "stdout",
     "output_type": "stream",
     "text": [
      "Training until validation scores don't improve for 20 rounds\n",
      "[20]\ttrain's multi_logloss: 0.158172\tvalid's multi_logloss: 0.272283\n",
      "[40]\ttrain's multi_logloss: 0.0357536\tvalid's multi_logloss: 0.191283\n"
     ]
    },
    {
     "name": "stderr",
     "output_type": "stream",
     "text": [
      "2022-04-17 11:24:50 - src.train - INFO     [train.py:133] elapsed training time: 0.012 min\n"
     ]
    },
    {
     "name": "stdout",
     "output_type": "stream",
     "text": [
      "[60]\ttrain's multi_logloss: 0.0118752\tvalid's multi_logloss: 0.179152\n",
      "[80]\ttrain's multi_logloss: 0.00584495\tvalid's multi_logloss: 0.174482\n",
      "[100]\ttrain's multi_logloss: 0.00412257\tvalid's multi_logloss: 0.175756\n",
      "Early stopping, best iteration is:\n",
      "[80]\ttrain's multi_logloss: 0.00584495\tvalid's multi_logloss: 0.174482\n"
     ]
    },
    {
     "name": "stderr",
     "output_type": "stream",
     "text": [
      "2022-04-17 11:24:50 - src.train - INFO     [train.py:62] fold=10/24\n",
      "2022-04-17 11:24:50 - src.train - INFO     [train.py:63] reading cv index from data/cv_index/cv-model/oxalate/fold_17.csv\n"
     ]
    },
    {
     "name": "stdout",
     "output_type": "stream",
     "text": [
      "Training until validation scores don't improve for 20 rounds\n",
      "[20]\ttrain's multi_logloss: 0.169011\tvalid's multi_logloss: 0.307583\n",
      "[40]\ttrain's multi_logloss: 0.0378615\tvalid's multi_logloss: 0.234098\n"
     ]
    },
    {
     "name": "stderr",
     "output_type": "stream",
     "text": [
      "2022-04-17 11:24:50 - src.train - INFO     [train.py:133] elapsed training time: 0.008 min\n",
      "2022-04-17 11:24:50 - src.train - INFO     [train.py:62] fold=11/24\n",
      "2022-04-17 11:24:50 - src.train - INFO     [train.py:63] reading cv index from data/cv_index/cv-model/oxalate/fold_18.csv\n"
     ]
    },
    {
     "name": "stdout",
     "output_type": "stream",
     "text": [
      "[60]\ttrain's multi_logloss: 0.0120702\tvalid's multi_logloss: 0.228809\n",
      "[80]\ttrain's multi_logloss: 0.00593885\tvalid's multi_logloss: 0.225428\n",
      "[100]\ttrain's multi_logloss: 0.00427085\tvalid's multi_logloss: 0.22692\n",
      "Early stopping, best iteration is:\n",
      "[83]\ttrain's multi_logloss: 0.00550301\tvalid's multi_logloss: 0.222814\n",
      "Training until validation scores don't improve for 20 rounds\n",
      "[20]\ttrain's multi_logloss: 0.155946\tvalid's multi_logloss: 0.358303\n"
     ]
    },
    {
     "name": "stderr",
     "output_type": "stream",
     "text": [
      "2022-04-17 11:24:51 - src.train - INFO     [train.py:133] elapsed training time: 0.010 min\n",
      "2022-04-17 11:24:51 - src.train - INFO     [train.py:62] fold=12/24\n",
      "2022-04-17 11:24:51 - src.train - INFO     [train.py:63] reading cv index from data/cv_index/cv-model/oxalate/fold_19.csv\n"
     ]
    },
    {
     "name": "stdout",
     "output_type": "stream",
     "text": [
      "[40]\ttrain's multi_logloss: 0.0332814\tvalid's multi_logloss: 0.323263\n",
      "Early stopping, best iteration is:\n",
      "[35]\ttrain's multi_logloss: 0.0476583\tvalid's multi_logloss: 0.31866\n",
      "Training until validation scores don't improve for 20 rounds\n",
      "[20]\ttrain's multi_logloss: 0.162224\tvalid's multi_logloss: 0.367963\n",
      "[40]\ttrain's multi_logloss: 0.035729\tvalid's multi_logloss: 0.290681\n"
     ]
    },
    {
     "name": "stderr",
     "output_type": "stream",
     "text": [
      "2022-04-17 11:24:52 - src.train - INFO     [train.py:133] elapsed training time: 0.007 min\n",
      "2022-04-17 11:24:52 - src.train - INFO     [train.py:62] fold=13/24\n",
      "2022-04-17 11:24:52 - src.train - INFO     [train.py:63] reading cv index from data/cv_index/cv-model/oxalate/fold_2.csv\n"
     ]
    },
    {
     "name": "stdout",
     "output_type": "stream",
     "text": [
      "[60]\ttrain's multi_logloss: 0.0113803\tvalid's multi_logloss: 0.314035\n",
      "Early stopping, best iteration is:\n",
      "[40]\ttrain's multi_logloss: 0.035729\tvalid's multi_logloss: 0.290681\n",
      "Training until validation scores don't improve for 20 rounds\n",
      "[20]\ttrain's multi_logloss: 0.16111\tvalid's multi_logloss: 0.317201\n",
      "[40]\ttrain's multi_logloss: 0.0349555\tvalid's multi_logloss: 0.239124\n"
     ]
    },
    {
     "name": "stderr",
     "output_type": "stream",
     "text": [
      "2022-04-17 11:24:52 - src.train - INFO     [train.py:133] elapsed training time: 0.006 min\n",
      "2022-04-17 11:24:52 - src.train - INFO     [train.py:62] fold=14/24\n",
      "2022-04-17 11:24:52 - src.train - INFO     [train.py:63] reading cv index from data/cv_index/cv-model/oxalate/fold_20.csv\n"
     ]
    },
    {
     "name": "stdout",
     "output_type": "stream",
     "text": [
      "[60]\ttrain's multi_logloss: 0.01102\tvalid's multi_logloss: 0.238283\n",
      "Early stopping, best iteration is:\n",
      "[43]\ttrain's multi_logloss: 0.0285894\tvalid's multi_logloss: 0.235745\n",
      "Training until validation scores don't improve for 20 rounds\n",
      "[20]\ttrain's multi_logloss: 0.165331\tvalid's multi_logloss: 0.246658\n",
      "[40]\ttrain's multi_logloss: 0.0375209\tvalid's multi_logloss: 0.149842\n",
      "[60]\ttrain's multi_logloss: 0.0120211\tvalid's multi_logloss: 0.13393\n"
     ]
    },
    {
     "name": "stderr",
     "output_type": "stream",
     "text": [
      "2022-04-17 11:24:53 - src.train - INFO     [train.py:133] elapsed training time: 0.006 min\n",
      "2022-04-17 11:24:53 - src.train - INFO     [train.py:62] fold=15/24\n",
      "2022-04-17 11:24:53 - src.train - INFO     [train.py:63] reading cv index from data/cv_index/cv-model/oxalate/fold_21.csv\n"
     ]
    },
    {
     "name": "stdout",
     "output_type": "stream",
     "text": [
      "[80]\ttrain's multi_logloss: 0.00597185\tvalid's multi_logloss: 0.13253\n",
      "Early stopping, best iteration is:\n",
      "[70]\ttrain's multi_logloss: 0.00800089\tvalid's multi_logloss: 0.129069\n",
      "Training until validation scores don't improve for 20 rounds\n",
      "[20]\ttrain's multi_logloss: 0.164592\tvalid's multi_logloss: 0.275781\n"
     ]
    },
    {
     "name": "stderr",
     "output_type": "stream",
     "text": [
      "2022-04-17 11:24:53 - src.train - INFO     [train.py:133] elapsed training time: 0.009 min\n",
      "2022-04-17 11:24:53 - src.train - INFO     [train.py:62] fold=16/24\n",
      "2022-04-17 11:24:53 - src.train - INFO     [train.py:63] reading cv index from data/cv_index/cv-model/oxalate/fold_22.csv\n"
     ]
    },
    {
     "name": "stdout",
     "output_type": "stream",
     "text": [
      "[40]\ttrain's multi_logloss: 0.0373142\tvalid's multi_logloss: 0.161332\n",
      "[60]\ttrain's multi_logloss: 0.0118602\tvalid's multi_logloss: 0.141902\n",
      "[80]\ttrain's multi_logloss: 0.00577551\tvalid's multi_logloss: 0.137229\n",
      "Early stopping, best iteration is:\n",
      "[79]\ttrain's multi_logloss: 0.00593407\tvalid's multi_logloss: 0.137221\n",
      "Training until validation scores don't improve for 20 rounds\n",
      "[20]\ttrain's multi_logloss: 0.16699\tvalid's multi_logloss: 0.241972\n",
      "[40]\ttrain's multi_logloss: 0.0386776\tvalid's multi_logloss: 0.154622\n",
      "[60]\ttrain's multi_logloss: 0.0123983\tvalid's multi_logloss: 0.148217\n",
      "Early stopping, best iteration is:\n",
      "[50]\ttrain's multi_logloss: 0.0205839\tvalid's multi_logloss: 0.14672\n"
     ]
    },
    {
     "name": "stderr",
     "output_type": "stream",
     "text": [
      "2022-04-17 11:24:54 - src.train - INFO     [train.py:133] elapsed training time: 0.005 min\n",
      "2022-04-17 11:24:54 - src.train - INFO     [train.py:62] fold=17/24\n",
      "2022-04-17 11:24:54 - src.train - INFO     [train.py:63] reading cv index from data/cv_index/cv-model/oxalate/fold_23.csv\n"
     ]
    },
    {
     "name": "stdout",
     "output_type": "stream",
     "text": [
      "Training until validation scores don't improve for 20 rounds\n",
      "[20]\ttrain's multi_logloss: 0.166362\tvalid's multi_logloss: 0.274335\n",
      "[40]\ttrain's multi_logloss: 0.0369106\tvalid's multi_logloss: 0.149679\n",
      "[60]\ttrain's multi_logloss: 0.012235\tvalid's multi_logloss: 0.11558\n"
     ]
    },
    {
     "name": "stderr",
     "output_type": "stream",
     "text": [
      "2022-04-17 11:24:54 - src.train - INFO     [train.py:133] elapsed training time: 0.008 min\n",
      "2022-04-17 11:24:54 - src.train - INFO     [train.py:62] fold=18/24\n",
      "2022-04-17 11:24:54 - src.train - INFO     [train.py:63] reading cv index from data/cv_index/cv-model/oxalate/fold_3.csv\n"
     ]
    },
    {
     "name": "stdout",
     "output_type": "stream",
     "text": [
      "[80]\ttrain's multi_logloss: 0.00604523\tvalid's multi_logloss: 0.0989217\n",
      "[100]\ttrain's multi_logloss: 0.00422896\tvalid's multi_logloss: 0.0909364\n",
      "[120]\ttrain's multi_logloss: 0.00374695\tvalid's multi_logloss: 0.0904225\n",
      "[140]\ttrain's multi_logloss: 0.00364194\tvalid's multi_logloss: 0.0906022\n",
      "Early stopping, best iteration is:\n",
      "[127]\ttrain's multi_logloss: 0.00369098\tvalid's multi_logloss: 0.0901948\n",
      "Training until validation scores don't improve for 20 rounds\n",
      "[20]\ttrain's multi_logloss: 0.165907\tvalid's multi_logloss: 0.253404\n",
      "[40]\ttrain's multi_logloss: 0.0390138\tvalid's multi_logloss: 0.135887\n",
      "[60]\ttrain's multi_logloss: 0.0128281\tvalid's multi_logloss: 0.10753\n",
      "[80]\ttrain's multi_logloss: 0.00629276\tvalid's multi_logloss: 0.101417\n"
     ]
    },
    {
     "name": "stderr",
     "output_type": "stream",
     "text": [
      "2022-04-17 11:24:55 - src.train - INFO     [train.py:133] elapsed training time: 0.016 min\n",
      "2022-04-17 11:24:55 - src.train - INFO     [train.py:62] fold=19/24\n",
      "2022-04-17 11:24:55 - src.train - INFO     [train.py:63] reading cv index from data/cv_index/cv-model/oxalate/fold_4.csv\n"
     ]
    },
    {
     "name": "stdout",
     "output_type": "stream",
     "text": [
      "[100]\ttrain's multi_logloss: 0.00441769\tvalid's multi_logloss: 0.100825\n",
      "Early stopping, best iteration is:\n",
      "[89]\ttrain's multi_logloss: 0.00510806\tvalid's multi_logloss: 0.0990329\n",
      "Training until validation scores don't improve for 20 rounds\n"
     ]
    },
    {
     "name": "stderr",
     "output_type": "stream",
     "text": [
      "2022-04-17 11:24:56 - src.train - INFO     [train.py:133] elapsed training time: 0.008 min\n",
      "2022-04-17 11:24:56 - src.train - INFO     [train.py:62] fold=20/24\n",
      "2022-04-17 11:24:56 - src.train - INFO     [train.py:63] reading cv index from data/cv_index/cv-model/oxalate/fold_5.csv\n"
     ]
    },
    {
     "name": "stdout",
     "output_type": "stream",
     "text": [
      "[20]\ttrain's multi_logloss: 0.164601\tvalid's multi_logloss: 0.267861\n",
      "[40]\ttrain's multi_logloss: 0.036921\tvalid's multi_logloss: 0.18371\n",
      "[60]\ttrain's multi_logloss: 0.0119627\tvalid's multi_logloss: 0.180584\n",
      "Early stopping, best iteration is:\n",
      "[53]\ttrain's multi_logloss: 0.016957\tvalid's multi_logloss: 0.177475\n",
      "Training until validation scores don't improve for 20 rounds\n",
      "[20]\ttrain's multi_logloss: 0.163473\tvalid's multi_logloss: 0.343174\n",
      "[40]\ttrain's multi_logloss: 0.0358311\tvalid's multi_logloss: 0.269211\n"
     ]
    },
    {
     "name": "stderr",
     "output_type": "stream",
     "text": [
      "2022-04-17 11:24:57 - src.train - INFO     [train.py:133] elapsed training time: 0.011 min\n",
      "2022-04-17 11:24:57 - src.train - INFO     [train.py:62] fold=21/24\n",
      "2022-04-17 11:24:57 - src.train - INFO     [train.py:63] reading cv index from data/cv_index/cv-model/oxalate/fold_6.csv\n"
     ]
    },
    {
     "name": "stdout",
     "output_type": "stream",
     "text": [
      "Early stopping, best iteration is:\n",
      "[37]\ttrain's multi_logloss: 0.0441524\tvalid's multi_logloss: 0.266126\n",
      "Training until validation scores don't improve for 20 rounds\n",
      "[20]\ttrain's multi_logloss: 0.156531\tvalid's multi_logloss: 0.327874\n",
      "[40]\ttrain's multi_logloss: 0.0341273\tvalid's multi_logloss: 0.280245\n"
     ]
    },
    {
     "name": "stderr",
     "output_type": "stream",
     "text": [
      "2022-04-17 11:24:57 - src.train - INFO     [train.py:133] elapsed training time: 0.007 min\n",
      "2022-04-17 11:24:57 - src.train - INFO     [train.py:62] fold=22/24\n",
      "2022-04-17 11:24:57 - src.train - INFO     [train.py:63] reading cv index from data/cv_index/cv-model/oxalate/fold_7.csv\n"
     ]
    },
    {
     "name": "stdout",
     "output_type": "stream",
     "text": [
      "Early stopping, best iteration is:\n",
      "[39]\ttrain's multi_logloss: 0.0365855\tvalid's multi_logloss: 0.279662\n",
      "Training until validation scores don't improve for 20 rounds\n",
      "[20]\ttrain's multi_logloss: 0.165476\tvalid's multi_logloss: 0.310226\n",
      "[40]\ttrain's multi_logloss: 0.0366502\tvalid's multi_logloss: 0.219704\n",
      "[60]\ttrain's multi_logloss: 0.0115974\tvalid's multi_logloss: 0.207665\n",
      "[80]\ttrain's multi_logloss: 0.00574953\tvalid's multi_logloss: 0.203261\n"
     ]
    },
    {
     "name": "stderr",
     "output_type": "stream",
     "text": [
      "2022-04-17 11:24:58 - src.train - INFO     [train.py:133] elapsed training time: 0.006 min\n",
      "2022-04-17 11:24:58 - src.train - INFO     [train.py:62] fold=23/24\n",
      "2022-04-17 11:24:58 - src.train - INFO     [train.py:63] reading cv index from data/cv_index/cv-model/oxalate/fold_8.csv\n"
     ]
    },
    {
     "name": "stdout",
     "output_type": "stream",
     "text": [
      "[100]\ttrain's multi_logloss: 0.00407538\tvalid's multi_logloss: 0.206632\n",
      "Early stopping, best iteration is:\n",
      "[86]\ttrain's multi_logloss: 0.00500806\tvalid's multi_logloss: 0.201602\n",
      "Training until validation scores don't improve for 20 rounds\n",
      "[20]\ttrain's multi_logloss: 0.162258\tvalid's multi_logloss: 0.277154\n",
      "[40]\ttrain's multi_logloss: 0.0364655\tvalid's multi_logloss: 0.198384\n",
      "[60]\ttrain's multi_logloss: 0.0117563\tvalid's multi_logloss: 0.196609"
     ]
    },
    {
     "name": "stderr",
     "output_type": "stream",
     "text": [
      "2022-04-17 11:24:58 - src.train - INFO     [train.py:133] elapsed training time: 0.006 min\n",
      "2022-04-17 11:24:58 - src.train - INFO     [train.py:62] fold=24/24\n",
      "2022-04-17 11:24:58 - src.train - INFO     [train.py:63] reading cv index from data/cv_index/cv-model/oxalate/fold_9.csv\n"
     ]
    },
    {
     "name": "stdout",
     "output_type": "stream",
     "text": [
      "\n",
      "Early stopping, best iteration is:\n",
      "[56]\ttrain's multi_logloss: 0.0143154\tvalid's multi_logloss: 0.196006\n",
      "Training until validation scores don't improve for 20 rounds\n",
      "[20]\ttrain's multi_logloss: 0.166971\tvalid's multi_logloss: 0.254514\n",
      "[40]\ttrain's multi_logloss: 0.0381103\tvalid's multi_logloss: 0.1559\n",
      "[60]\ttrain's multi_logloss: 0.0125558\tvalid's multi_logloss: 0.13855\n",
      "[80]\ttrain's multi_logloss: 0.00612735\tvalid's multi_logloss: 0.129208\n"
     ]
    },
    {
     "name": "stderr",
     "output_type": "stream",
     "text": [
      "2022-04-17 11:25:00 - src.train - INFO     [train.py:133] elapsed training time: 0.038 min\n",
      "2022-04-17 11:25:00 - src.train - INFO     [train.py:62] fold=1/24\n",
      "2022-04-17 11:25:00 - src.train - INFO     [train.py:63] reading cv index from data/cv_index/cv-model/oxalate/fold_0.csv\n"
     ]
    },
    {
     "name": "stdout",
     "output_type": "stream",
     "text": [
      "Early stopping, best iteration is:\n",
      "[78]\ttrain's multi_logloss: 0.00645133\tvalid's multi_logloss: 0.127923\n",
      "63\n"
     ]
    },
    {
     "name": "stderr",
     "output_type": "stream",
     "text": [
      "2022-04-17 11:25:01 - src.train - INFO     [train.py:28] elapsed training time: 0.011 min\n",
      "2022-04-17 11:25:01 - src.train - INFO     [train.py:62] fold=2/24\n",
      "2022-04-17 11:25:01 - src.train - INFO     [train.py:63] reading cv index from data/cv_index/cv-model/oxalate/fold_1.csv\n",
      "2022-04-17 11:25:02 - src.train - INFO     [train.py:28] elapsed training time: 0.011 min\n",
      "2022-04-17 11:25:02 - src.train - INFO     [train.py:62] fold=3/24\n",
      "2022-04-17 11:25:02 - src.train - INFO     [train.py:63] reading cv index from data/cv_index/cv-model/oxalate/fold_10.csv\n",
      "2022-04-17 11:25:03 - src.train - INFO     [train.py:28] elapsed training time: 0.015 min\n",
      "2022-04-17 11:25:03 - src.train - INFO     [train.py:62] fold=4/24\n",
      "2022-04-17 11:25:03 - src.train - INFO     [train.py:63] reading cv index from data/cv_index/cv-model/oxalate/fold_11.csv\n",
      "2022-04-17 11:25:04 - src.train - INFO     [train.py:28] elapsed training time: 0.010 min\n",
      "2022-04-17 11:25:04 - src.train - INFO     [train.py:62] fold=5/24\n",
      "2022-04-17 11:25:04 - src.train - INFO     [train.py:63] reading cv index from data/cv_index/cv-model/oxalate/fold_12.csv\n",
      "2022-04-17 11:25:04 - src.train - INFO     [train.py:28] elapsed training time: 0.010 min\n",
      "2022-04-17 11:25:04 - src.train - INFO     [train.py:62] fold=6/24\n",
      "2022-04-17 11:25:04 - src.train - INFO     [train.py:63] reading cv index from data/cv_index/cv-model/oxalate/fold_13.csv\n",
      "2022-04-17 11:25:05 - src.train - INFO     [train.py:28] elapsed training time: 0.009 min\n",
      "2022-04-17 11:25:05 - src.train - INFO     [train.py:62] fold=7/24\n",
      "2022-04-17 11:25:05 - src.train - INFO     [train.py:63] reading cv index from data/cv_index/cv-model/oxalate/fold_14.csv\n",
      "2022-04-17 11:25:06 - src.train - INFO     [train.py:28] elapsed training time: 0.006 min\n",
      "2022-04-17 11:25:06 - src.train - INFO     [train.py:62] fold=8/24\n",
      "2022-04-17 11:25:06 - src.train - INFO     [train.py:63] reading cv index from data/cv_index/cv-model/oxalate/fold_15.csv\n",
      "2022-04-17 11:25:06 - src.train - INFO     [train.py:28] elapsed training time: 0.004 min\n",
      "2022-04-17 11:25:06 - src.train - INFO     [train.py:62] fold=9/24\n",
      "2022-04-17 11:25:06 - src.train - INFO     [train.py:63] reading cv index from data/cv_index/cv-model/oxalate/fold_16.csv\n",
      "2022-04-17 11:25:06 - src.train - INFO     [train.py:28] elapsed training time: 0.004 min\n",
      "2022-04-17 11:25:06 - src.train - INFO     [train.py:62] fold=10/24\n",
      "2022-04-17 11:25:06 - src.train - INFO     [train.py:63] reading cv index from data/cv_index/cv-model/oxalate/fold_17.csv\n",
      "2022-04-17 11:25:07 - src.train - INFO     [train.py:28] elapsed training time: 0.004 min\n",
      "2022-04-17 11:25:07 - src.train - INFO     [train.py:62] fold=11/24\n",
      "2022-04-17 11:25:07 - src.train - INFO     [train.py:63] reading cv index from data/cv_index/cv-model/oxalate/fold_18.csv\n",
      "2022-04-17 11:25:07 - src.train - INFO     [train.py:28] elapsed training time: 0.004 min\n",
      "2022-04-17 11:25:07 - src.train - INFO     [train.py:62] fold=12/24\n",
      "2022-04-17 11:25:07 - src.train - INFO     [train.py:63] reading cv index from data/cv_index/cv-model/oxalate/fold_19.csv\n",
      "2022-04-17 11:25:08 - src.train - INFO     [train.py:28] elapsed training time: 0.010 min\n",
      "2022-04-17 11:25:08 - src.train - INFO     [train.py:62] fold=13/24\n",
      "2022-04-17 11:25:08 - src.train - INFO     [train.py:63] reading cv index from data/cv_index/cv-model/oxalate/fold_2.csv\n",
      "2022-04-17 11:25:08 - src.train - INFO     [train.py:28] elapsed training time: 0.003 min\n",
      "2022-04-17 11:25:08 - src.train - INFO     [train.py:62] fold=14/24\n",
      "2022-04-17 11:25:08 - src.train - INFO     [train.py:63] reading cv index from data/cv_index/cv-model/oxalate/fold_20.csv\n",
      "2022-04-17 11:25:08 - src.train - INFO     [train.py:28] elapsed training time: 0.003 min\n",
      "2022-04-17 11:25:08 - src.train - INFO     [train.py:62] fold=15/24\n",
      "2022-04-17 11:25:08 - src.train - INFO     [train.py:63] reading cv index from data/cv_index/cv-model/oxalate/fold_21.csv\n",
      "2022-04-17 11:25:09 - src.train - INFO     [train.py:28] elapsed training time: 0.003 min\n",
      "2022-04-17 11:25:09 - src.train - INFO     [train.py:62] fold=16/24\n",
      "2022-04-17 11:25:09 - src.train - INFO     [train.py:63] reading cv index from data/cv_index/cv-model/oxalate/fold_22.csv\n",
      "2022-04-17 11:25:09 - src.train - INFO     [train.py:28] elapsed training time: 0.007 min\n",
      "2022-04-17 11:25:09 - src.train - INFO     [train.py:62] fold=17/24\n",
      "2022-04-17 11:25:09 - src.train - INFO     [train.py:63] reading cv index from data/cv_index/cv-model/oxalate/fold_23.csv\n",
      "2022-04-17 11:25:09 - src.train - INFO     [train.py:28] elapsed training time: 0.004 min\n",
      "2022-04-17 11:25:09 - src.train - INFO     [train.py:62] fold=18/24\n",
      "2022-04-17 11:25:09 - src.train - INFO     [train.py:63] reading cv index from data/cv_index/cv-model/oxalate/fold_3.csv\n",
      "2022-04-17 11:25:10 - src.train - INFO     [train.py:28] elapsed training time: 0.004 min\n",
      "2022-04-17 11:25:10 - src.train - INFO     [train.py:62] fold=19/24\n",
      "2022-04-17 11:25:10 - src.train - INFO     [train.py:63] reading cv index from data/cv_index/cv-model/oxalate/fold_4.csv\n",
      "2022-04-17 11:25:10 - src.train - INFO     [train.py:28] elapsed training time: 0.003 min\n",
      "2022-04-17 11:25:10 - src.train - INFO     [train.py:62] fold=20/24\n",
      "2022-04-17 11:25:10 - src.train - INFO     [train.py:63] reading cv index from data/cv_index/cv-model/oxalate/fold_5.csv\n",
      "2022-04-17 11:25:10 - src.train - INFO     [train.py:28] elapsed training time: 0.003 min\n",
      "2022-04-17 11:25:10 - src.train - INFO     [train.py:62] fold=21/24\n",
      "2022-04-17 11:25:10 - src.train - INFO     [train.py:63] reading cv index from data/cv_index/cv-model/oxalate/fold_6.csv\n",
      "2022-04-17 11:25:11 - src.train - INFO     [train.py:28] elapsed training time: 0.003 min\n",
      "2022-04-17 11:25:11 - src.train - INFO     [train.py:62] fold=22/24\n",
      "2022-04-17 11:25:11 - src.train - INFO     [train.py:63] reading cv index from data/cv_index/cv-model/oxalate/fold_7.csv\n",
      "2022-04-17 11:25:11 - src.train - INFO     [train.py:28] elapsed training time: 0.004 min\n",
      "2022-04-17 11:25:11 - src.train - INFO     [train.py:62] fold=23/24\n",
      "2022-04-17 11:25:11 - src.train - INFO     [train.py:63] reading cv index from data/cv_index/cv-model/oxalate/fold_8.csv\n",
      "2022-04-17 11:25:11 - src.train - INFO     [train.py:28] elapsed training time: 0.004 min\n",
      "2022-04-17 11:25:11 - src.train - INFO     [train.py:62] fold=24/24\n",
      "2022-04-17 11:25:11 - src.train - INFO     [train.py:63] reading cv index from data/cv_index/cv-model/oxalate/fold_9.csv\n",
      "2022-04-17 11:25:12 - src.train - INFO     [train.py:28] elapsed training time: 0.003 min\n",
      "2022-04-17 11:25:12 - src.train - INFO     [train.py:62] fold=1/24\n",
      "2022-04-17 11:25:12 - src.train - INFO     [train.py:63] reading cv index from data/cv_index/cv-model/oxychlorine/fold_0.csv\n"
     ]
    },
    {
     "name": "stdout",
     "output_type": "stream",
     "text": [
      "Training until validation scores don't improve for 20 rounds\n",
      "[20]\ttrain's multi_logloss: 0.23006\tvalid's multi_logloss: 0.587346\n",
      "[40]\ttrain's multi_logloss: 0.0549284\tvalid's multi_logloss: 0.501374\n"
     ]
    },
    {
     "name": "stderr",
     "output_type": "stream",
     "text": [
      "2022-04-17 11:25:12 - src.train - INFO     [train.py:133] elapsed training time: 0.006 min\n",
      "2022-04-17 11:25:12 - src.train - INFO     [train.py:62] fold=2/24\n",
      "2022-04-17 11:25:12 - src.train - INFO     [train.py:63] reading cv index from data/cv_index/cv-model/oxychlorine/fold_1.csv\n"
     ]
    },
    {
     "name": "stdout",
     "output_type": "stream",
     "text": [
      "Early stopping, best iteration is:\n",
      "[39]\ttrain's multi_logloss: 0.0585792\tvalid's multi_logloss: 0.501142\n",
      "Training until validation scores don't improve for 20 rounds\n",
      "[20]\ttrain's multi_logloss: 0.239624\tvalid's multi_logloss: 0.451103\n",
      "[40]\ttrain's multi_logloss: 0.0590873\tvalid's multi_logloss: 0.28761\n",
      "[60]\ttrain's multi_logloss: 0.0194968\tvalid's multi_logloss: 0.26665\n"
     ]
    },
    {
     "name": "stderr",
     "output_type": "stream",
     "text": [
      "2022-04-17 11:25:13 - src.train - INFO     [train.py:133] elapsed training time: 0.015 min\n",
      "2022-04-17 11:25:13 - src.train - INFO     [train.py:62] fold=3/24\n",
      "2022-04-17 11:25:13 - src.train - INFO     [train.py:63] reading cv index from data/cv_index/cv-model/oxychlorine/fold_10.csv\n"
     ]
    },
    {
     "name": "stdout",
     "output_type": "stream",
     "text": [
      "[80]\ttrain's multi_logloss: 0.00987147\tvalid's multi_logloss: 0.269845\n",
      "Early stopping, best iteration is:\n",
      "[66]\ttrain's multi_logloss: 0.0152329\tvalid's multi_logloss: 0.264653\n",
      "Training until validation scores don't improve for 20 rounds\n",
      "[20]\ttrain's multi_logloss: 0.232774\tvalid's multi_logloss: 0.535513\n",
      "[40]\ttrain's multi_logloss: 0.0549157\tvalid's multi_logloss: 0.388499\n",
      "[60]\ttrain's multi_logloss: 0.0188002\tvalid's multi_logloss: 0.377612\n"
     ]
    },
    {
     "name": "stderr",
     "output_type": "stream",
     "text": [
      "2022-04-17 11:25:14 - src.train - INFO     [train.py:133] elapsed training time: 0.007 min\n",
      "2022-04-17 11:25:14 - src.train - INFO     [train.py:62] fold=4/24\n",
      "2022-04-17 11:25:14 - src.train - INFO     [train.py:63] reading cv index from data/cv_index/cv-model/oxychlorine/fold_11.csv\n"
     ]
    },
    {
     "name": "stdout",
     "output_type": "stream",
     "text": [
      "[80]\ttrain's multi_logloss: 0.00954831\tvalid's multi_logloss: 0.378218\n",
      "Early stopping, best iteration is:\n",
      "[67]\ttrain's multi_logloss: 0.0141913\tvalid's multi_logloss: 0.374205\n",
      "Training until validation scores don't improve for 20 rounds\n",
      "[20]\ttrain's multi_logloss: 0.231808\tvalid's multi_logloss: 0.49659\n",
      "[40]\ttrain's multi_logloss: 0.0552575\tvalid's multi_logloss: 0.374361\n",
      "[60]\ttrain's multi_logloss: 0.0183405\tvalid's multi_logloss: 0.361608\n"
     ]
    },
    {
     "name": "stderr",
     "output_type": "stream",
     "text": [
      "2022-04-17 11:25:14 - src.train - INFO     [train.py:133] elapsed training time: 0.008 min\n",
      "2022-04-17 11:25:14 - src.train - INFO     [train.py:62] fold=5/24\n",
      "2022-04-17 11:25:14 - src.train - INFO     [train.py:63] reading cv index from data/cv_index/cv-model/oxychlorine/fold_12.csv\n"
     ]
    },
    {
     "name": "stdout",
     "output_type": "stream",
     "text": [
      "[80]\ttrain's multi_logloss: 0.00945088\tvalid's multi_logloss: 0.356489\n",
      "Early stopping, best iteration is:\n",
      "[77]\ttrain's multi_logloss: 0.0102535\tvalid's multi_logloss: 0.354314\n",
      "Training until validation scores don't improve for 20 rounds\n",
      "[20]\ttrain's multi_logloss: 0.223636\tvalid's multi_logloss: 0.54461\n",
      "[40]\ttrain's multi_logloss: 0.0522324\tvalid's multi_logloss: 0.489166\n"
     ]
    },
    {
     "name": "stderr",
     "output_type": "stream",
     "text": [
      "2022-04-17 11:25:15 - src.train - INFO     [train.py:133] elapsed training time: 0.006 min\n",
      "2022-04-17 11:25:15 - src.train - INFO     [train.py:62] fold=6/24\n",
      "2022-04-17 11:25:15 - src.train - INFO     [train.py:63] reading cv index from data/cv_index/cv-model/oxychlorine/fold_13.csv\n"
     ]
    },
    {
     "name": "stdout",
     "output_type": "stream",
     "text": [
      "Early stopping, best iteration is:\n",
      "[30]\ttrain's multi_logloss: 0.105006\tvalid's multi_logloss: 0.482388\n",
      "Training until validation scores don't improve for 20 rounds\n",
      "[20]\ttrain's multi_logloss: 0.228549\tvalid's multi_logloss: 0.529273\n",
      "[40]\ttrain's multi_logloss: 0.0538226\tvalid's multi_logloss: 0.44796\n"
     ]
    },
    {
     "name": "stderr",
     "output_type": "stream",
     "text": [
      "2022-04-17 11:25:15 - src.train - INFO     [train.py:133] elapsed training time: 0.006 min\n",
      "2022-04-17 11:25:15 - src.train - INFO     [train.py:62] fold=7/24\n",
      "2022-04-17 11:25:15 - src.train - INFO     [train.py:63] reading cv index from data/cv_index/cv-model/oxychlorine/fold_14.csv\n"
     ]
    },
    {
     "name": "stdout",
     "output_type": "stream",
     "text": [
      "[60]\ttrain's multi_logloss: 0.0182378\tvalid's multi_logloss: 0.451686\n",
      "Early stopping, best iteration is:\n",
      "[46]\ttrain's multi_logloss: 0.0372481\tvalid's multi_logloss: 0.442236\n",
      "Training until validation scores don't improve for 20 rounds\n",
      "[20]\ttrain's multi_logloss: 0.230444\tvalid's multi_logloss: 0.512533\n",
      "[40]\ttrain's multi_logloss: 0.0564002\tvalid's multi_logloss: 0.386905\n"
     ]
    },
    {
     "name": "stderr",
     "output_type": "stream",
     "text": [
      "2022-04-17 11:25:16 - src.train - INFO     [train.py:133] elapsed training time: 0.007 min\n",
      "2022-04-17 11:25:16 - src.train - INFO     [train.py:62] fold=8/24\n",
      "2022-04-17 11:25:16 - src.train - INFO     [train.py:63] reading cv index from data/cv_index/cv-model/oxychlorine/fold_15.csv\n"
     ]
    },
    {
     "name": "stdout",
     "output_type": "stream",
     "text": [
      "[60]\ttrain's multi_logloss: 0.0192688\tvalid's multi_logloss: 0.378604\n",
      "Early stopping, best iteration is:\n",
      "[56]\ttrain's multi_logloss: 0.023037\tvalid's multi_logloss: 0.371801\n",
      "Training until validation scores don't improve for 20 rounds\n",
      "[20]\ttrain's multi_logloss: 0.244248\tvalid's multi_logloss: 0.408983\n",
      "[40]\ttrain's multi_logloss: 0.0601094\tvalid's multi_logloss: 0.274725\n"
     ]
    },
    {
     "name": "stderr",
     "output_type": "stream",
     "text": [
      "2022-04-17 11:25:16 - src.train - INFO     [train.py:133] elapsed training time: 0.008 min\n",
      "2022-04-17 11:25:16 - src.train - INFO     [train.py:62] fold=9/24\n",
      "2022-04-17 11:25:16 - src.train - INFO     [train.py:63] reading cv index from data/cv_index/cv-model/oxychlorine/fold_16.csv\n"
     ]
    },
    {
     "name": "stdout",
     "output_type": "stream",
     "text": [
      "[60]\ttrain's multi_logloss: 0.0205688\tvalid's multi_logloss: 0.243727\n",
      "[80]\ttrain's multi_logloss: 0.0103043\tvalid's multi_logloss: 0.236068\n",
      "Early stopping, best iteration is:\n",
      "[74]\ttrain's multi_logloss: 0.0121891\tvalid's multi_logloss: 0.235061\n",
      "Training until validation scores don't improve for 20 rounds\n",
      "[20]\ttrain's multi_logloss: 0.241093\tvalid's multi_logloss: 0.492292\n",
      "[40]\ttrain's multi_logloss: 0.0585113\tvalid's multi_logloss: 0.342473\n"
     ]
    },
    {
     "name": "stderr",
     "output_type": "stream",
     "text": [
      "2022-04-17 11:25:17 - src.train - INFO     [train.py:133] elapsed training time: 0.008 min\n",
      "2022-04-17 11:25:17 - src.train - INFO     [train.py:62] fold=10/24\n",
      "2022-04-17 11:25:17 - src.train - INFO     [train.py:63] reading cv index from data/cv_index/cv-model/oxychlorine/fold_17.csv\n"
     ]
    },
    {
     "name": "stdout",
     "output_type": "stream",
     "text": [
      "[60]\ttrain's multi_logloss: 0.0195865\tvalid's multi_logloss: 0.303163\n",
      "[80]\ttrain's multi_logloss: 0.0100577\tvalid's multi_logloss: 0.299585\n",
      "[100]\ttrain's multi_logloss: 0.00698417\tvalid's multi_logloss: 0.305747\n",
      "Early stopping, best iteration is:\n",
      "[80]\ttrain's multi_logloss: 0.0100577\tvalid's multi_logloss: 0.299585\n",
      "Training until validation scores don't improve for 20 rounds\n",
      "[20]\ttrain's multi_logloss: 0.235929\tvalid's multi_logloss: 0.419475\n",
      "[40]\ttrain's multi_logloss: 0.0582358\tvalid's multi_logloss: 0.308357\n"
     ]
    },
    {
     "name": "stderr",
     "output_type": "stream",
     "text": [
      "2022-04-17 11:25:18 - src.train - INFO     [train.py:133] elapsed training time: 0.007 min\n",
      "2022-04-17 11:25:18 - src.train - INFO     [train.py:62] fold=11/24\n",
      "2022-04-17 11:25:18 - src.train - INFO     [train.py:63] reading cv index from data/cv_index/cv-model/oxychlorine/fold_18.csv\n"
     ]
    },
    {
     "name": "stdout",
     "output_type": "stream",
     "text": [
      "[60]\ttrain's multi_logloss: 0.0197324\tvalid's multi_logloss: 0.290619\n",
      "Early stopping, best iteration is:\n",
      "[56]\ttrain's multi_logloss: 0.0235474\tvalid's multi_logloss: 0.288976\n",
      "Training until validation scores don't improve for 20 rounds\n",
      "[20]\ttrain's multi_logloss: 0.231842\tvalid's multi_logloss: 0.549107\n",
      "[40]\ttrain's multi_logloss: 0.0551998\tvalid's multi_logloss: 0.430721\n"
     ]
    },
    {
     "name": "stderr",
     "output_type": "stream",
     "text": [
      "2022-04-17 11:25:18 - src.train - INFO     [train.py:133] elapsed training time: 0.007 min\n",
      "2022-04-17 11:25:18 - src.train - INFO     [train.py:62] fold=12/24\n",
      "2022-04-17 11:25:18 - src.train - INFO     [train.py:63] reading cv index from data/cv_index/cv-model/oxychlorine/fold_19.csv\n"
     ]
    },
    {
     "name": "stdout",
     "output_type": "stream",
     "text": [
      "[60]\ttrain's multi_logloss: 0.0183125\tvalid's multi_logloss: 0.424977\n",
      "[80]\ttrain's multi_logloss: 0.00908882\tvalid's multi_logloss: 0.428232\n",
      "Early stopping, best iteration is:\n",
      "[66]\ttrain's multi_logloss: 0.014295\tvalid's multi_logloss: 0.421312\n"
     ]
    },
    {
     "name": "stderr",
     "output_type": "stream",
     "text": [
      "2022-04-17 11:25:18 - src.train - INFO     [train.py:133] elapsed training time: 0.005 min\n",
      "2022-04-17 11:25:18 - src.train - INFO     [train.py:62] fold=13/24\n",
      "2022-04-17 11:25:18 - src.train - INFO     [train.py:63] reading cv index from data/cv_index/cv-model/oxychlorine/fold_2.csv\n"
     ]
    },
    {
     "name": "stdout",
     "output_type": "stream",
     "text": [
      "Training until validation scores don't improve for 20 rounds\n",
      "[20]\ttrain's multi_logloss: 0.232335\tvalid's multi_logloss: 0.587186\n",
      "[40]\ttrain's multi_logloss: 0.0566333\tvalid's multi_logloss: 0.55117\n",
      "Early stopping, best iteration is:\n",
      "[35]\ttrain's multi_logloss: 0.0783755\tvalid's multi_logloss: 0.54154\n",
      "Training until validation scores don't improve for 20 rounds\n",
      "[20]\ttrain's multi_logloss: 0.235267\tvalid's multi_logloss: 0.443816\n",
      "[40]\ttrain's multi_logloss: 0.0562409\tvalid's multi_logloss: 0.328768\n"
     ]
    },
    {
     "name": "stderr",
     "output_type": "stream",
     "text": [
      "2022-04-17 11:25:19 - src.train - INFO     [train.py:133] elapsed training time: 0.007 min\n",
      "2022-04-17 11:25:19 - src.train - INFO     [train.py:62] fold=14/24\n",
      "2022-04-17 11:25:19 - src.train - INFO     [train.py:63] reading cv index from data/cv_index/cv-model/oxychlorine/fold_20.csv\n"
     ]
    },
    {
     "name": "stdout",
     "output_type": "stream",
     "text": [
      "[60]\ttrain's multi_logloss: 0.0192428\tvalid's multi_logloss: 0.328096\n",
      "Early stopping, best iteration is:\n",
      "[50]\ttrain's multi_logloss: 0.0310944\tvalid's multi_logloss: 0.315769\n",
      "Training until validation scores don't improve for 20 rounds\n",
      "[20]\ttrain's multi_logloss: 0.230906\tvalid's multi_logloss: 0.482092\n",
      "[40]\ttrain's multi_logloss: 0.0544911\tvalid's multi_logloss: 0.366847\n",
      "[60]\ttrain's multi_logloss: 0.0184276\tvalid's multi_logloss: 0.34232\n"
     ]
    },
    {
     "name": "stderr",
     "output_type": "stream",
     "text": [
      "2022-04-17 11:25:20 - src.train - INFO     [train.py:133] elapsed training time: 0.014 min\n",
      "2022-04-17 11:25:20 - src.train - INFO     [train.py:62] fold=15/24\n",
      "2022-04-17 11:25:20 - src.train - INFO     [train.py:63] reading cv index from data/cv_index/cv-model/oxychlorine/fold_21.csv\n"
     ]
    },
    {
     "name": "stdout",
     "output_type": "stream",
     "text": [
      "[80]\ttrain's multi_logloss: 0.00943105\tvalid's multi_logloss: 0.349376\n",
      "Early stopping, best iteration is:\n",
      "[64]\ttrain's multi_logloss: 0.0157567\tvalid's multi_logloss: 0.339059\n",
      "Training until validation scores don't improve for 20 rounds\n",
      "[20]\ttrain's multi_logloss: 0.231761\tvalid's multi_logloss: 0.47622\n",
      "[40]\ttrain's multi_logloss: 0.0571913\tvalid's multi_logloss: 0.309908\n",
      "[60]\ttrain's multi_logloss: 0.019655\tvalid's multi_logloss: 0.268178\n",
      "[80]\ttrain's multi_logloss: 0.0099693\tvalid's multi_logloss: 0.254333\n",
      "[100]\ttrain's multi_logloss: 0.00689207\tvalid's multi_logloss: 0.253384\n",
      "[120]\ttrain's multi_logloss: 0.00601672\tvalid's multi_logloss: 0.251215\n"
     ]
    },
    {
     "name": "stderr",
     "output_type": "stream",
     "text": [
      "2022-04-17 11:25:21 - src.train - INFO     [train.py:133] elapsed training time: 0.016 min\n",
      "2022-04-17 11:25:21 - src.train - INFO     [train.py:62] fold=16/24\n",
      "2022-04-17 11:25:21 - src.train - INFO     [train.py:63] reading cv index from data/cv_index/cv-model/oxychlorine/fold_22.csv\n"
     ]
    },
    {
     "name": "stdout",
     "output_type": "stream",
     "text": [
      "[140]\ttrain's multi_logloss: 0.00581641\tvalid's multi_logloss: 0.250798\n",
      "Early stopping, best iteration is:\n",
      "[128]\ttrain's multi_logloss: 0.0058901\tvalid's multi_logloss: 0.250662\n",
      "Training until validation scores don't improve for 20 rounds\n",
      "[20]\ttrain's multi_logloss: 0.238026\tvalid's multi_logloss: 0.404551\n",
      "[40]\ttrain's multi_logloss: 0.0577267\tvalid's multi_logloss: 0.283592\n",
      "[60]\ttrain's multi_logloss: 0.0192446\tvalid's multi_logloss: 0.275478\n"
     ]
    },
    {
     "name": "stderr",
     "output_type": "stream",
     "text": [
      "2022-04-17 11:25:22 - src.train - INFO     [train.py:133] elapsed training time: 0.012 min\n",
      "2022-04-17 11:25:22 - src.train - INFO     [train.py:62] fold=17/24\n",
      "2022-04-17 11:25:22 - src.train - INFO     [train.py:63] reading cv index from data/cv_index/cv-model/oxychlorine/fold_23.csv\n"
     ]
    },
    {
     "name": "stdout",
     "output_type": "stream",
     "text": [
      "Early stopping, best iteration is:\n",
      "[59]\ttrain's multi_logloss: 0.02013\tvalid's multi_logloss: 0.27357\n",
      "Training until validation scores don't improve for 20 rounds\n",
      "[20]\ttrain's multi_logloss: 0.236511\tvalid's multi_logloss: 0.532447\n",
      "[40]\ttrain's multi_logloss: 0.0556357\tvalid's multi_logloss: 0.411245\n"
     ]
    },
    {
     "name": "stderr",
     "output_type": "stream",
     "text": [
      "2022-04-17 11:25:22 - src.train - INFO     [train.py:133] elapsed training time: 0.007 min\n",
      "2022-04-17 11:25:22 - src.train - INFO     [train.py:62] fold=18/24\n",
      "2022-04-17 11:25:22 - src.train - INFO     [train.py:63] reading cv index from data/cv_index/cv-model/oxychlorine/fold_3.csv\n"
     ]
    },
    {
     "name": "stdout",
     "output_type": "stream",
     "text": [
      "[60]\ttrain's multi_logloss: 0.0187537\tvalid's multi_logloss: 0.394878\n",
      "Early stopping, best iteration is:\n",
      "[55]\ttrain's multi_logloss: 0.0235908\tvalid's multi_logloss: 0.389194\n",
      "Training until validation scores don't improve for 20 rounds\n",
      "[20]\ttrain's multi_logloss: 0.235756\tvalid's multi_logloss: 0.462827\n",
      "[40]\ttrain's multi_logloss: 0.0570085\tvalid's multi_logloss: 0.334135\n",
      "[60]\ttrain's multi_logloss: 0.019339\tvalid's multi_logloss: 0.32285\n"
     ]
    },
    {
     "name": "stderr",
     "output_type": "stream",
     "text": [
      "2022-04-17 11:25:23 - src.train - INFO     [train.py:133] elapsed training time: 0.007 min\n",
      "2022-04-17 11:25:23 - src.train - INFO     [train.py:62] fold=19/24\n",
      "2022-04-17 11:25:23 - src.train - INFO     [train.py:63] reading cv index from data/cv_index/cv-model/oxychlorine/fold_4.csv\n"
     ]
    },
    {
     "name": "stdout",
     "output_type": "stream",
     "text": [
      "[80]\ttrain's multi_logloss: 0.00984762\tvalid's multi_logloss: 0.322561\n",
      "Early stopping, best iteration is:\n",
      "[65]\ttrain's multi_logloss: 0.0157\tvalid's multi_logloss: 0.319233\n",
      "Training until validation scores don't improve for 20 rounds\n",
      "[20]\ttrain's multi_logloss: 0.22608\tvalid's multi_logloss: 0.547309\n",
      "[40]\ttrain's multi_logloss: 0.0552092\tvalid's multi_logloss: 0.390676\n"
     ]
    },
    {
     "name": "stderr",
     "output_type": "stream",
     "text": [
      "2022-04-17 11:25:23 - src.train - INFO     [train.py:133] elapsed training time: 0.007 min\n",
      "2022-04-17 11:25:23 - src.train - INFO     [train.py:62] fold=20/24\n",
      "2022-04-17 11:25:23 - src.train - INFO     [train.py:63] reading cv index from data/cv_index/cv-model/oxychlorine/fold_5.csv\n"
     ]
    },
    {
     "name": "stdout",
     "output_type": "stream",
     "text": [
      "[60]\ttrain's multi_logloss: 0.018671\tvalid's multi_logloss: 0.383392\n",
      "Early stopping, best iteration is:\n",
      "[52]\ttrain's multi_logloss: 0.0274128\tvalid's multi_logloss: 0.376757\n",
      "Training until validation scores don't improve for 20 rounds\n",
      "[20]\ttrain's multi_logloss: 0.229544\tvalid's multi_logloss: 0.608086\n",
      "[40]\ttrain's multi_logloss: 0.0550186\tvalid's multi_logloss: 0.510687\n"
     ]
    },
    {
     "name": "stderr",
     "output_type": "stream",
     "text": [
      "2022-04-17 11:25:24 - src.train - INFO     [train.py:133] elapsed training time: 0.008 min\n",
      "2022-04-17 11:25:24 - src.train - INFO     [train.py:62] fold=21/24\n",
      "2022-04-17 11:25:24 - src.train - INFO     [train.py:63] reading cv index from data/cv_index/cv-model/oxychlorine/fold_6.csv\n"
     ]
    },
    {
     "name": "stdout",
     "output_type": "stream",
     "text": [
      "[60]\ttrain's multi_logloss: 0.0185992\tvalid's multi_logloss: 0.486177\n",
      "[80]\ttrain's multi_logloss: 0.00938968\tvalid's multi_logloss: 0.495703\n",
      "Early stopping, best iteration is:\n",
      "[67]\ttrain's multi_logloss: 0.0139543\tvalid's multi_logloss: 0.479988\n",
      "Training until validation scores don't improve for 20 rounds\n",
      "[20]\ttrain's multi_logloss: 0.232697\tvalid's multi_logloss: 0.524524\n",
      "[40]\ttrain's multi_logloss: 0.0552328\tvalid's multi_logloss: 0.425498\n"
     ]
    },
    {
     "name": "stderr",
     "output_type": "stream",
     "text": [
      "2022-04-17 11:25:25 - src.train - INFO     [train.py:133] elapsed training time: 0.007 min\n",
      "2022-04-17 11:25:25 - src.train - INFO     [train.py:62] fold=22/24\n",
      "2022-04-17 11:25:25 - src.train - INFO     [train.py:63] reading cv index from data/cv_index/cv-model/oxychlorine/fold_7.csv\n"
     ]
    },
    {
     "name": "stdout",
     "output_type": "stream",
     "text": [
      "[60]\ttrain's multi_logloss: 0.0184997\tvalid's multi_logloss: 0.432404\n",
      "Early stopping, best iteration is:\n",
      "[48]\ttrain's multi_logloss: 0.033776\tvalid's multi_logloss: 0.421992\n",
      "Training until validation scores don't improve for 20 rounds\n",
      "[20]\ttrain's multi_logloss: 0.238816\tvalid's multi_logloss: 0.484431\n",
      "[40]\ttrain's multi_logloss: 0.0573553\tvalid's multi_logloss: 0.375317\n"
     ]
    },
    {
     "name": "stderr",
     "output_type": "stream",
     "text": [
      "2022-04-17 11:25:25 - src.train - INFO     [train.py:133] elapsed training time: 0.007 min\n",
      "2022-04-17 11:25:25 - src.train - INFO     [train.py:62] fold=23/24\n",
      "2022-04-17 11:25:25 - src.train - INFO     [train.py:63] reading cv index from data/cv_index/cv-model/oxychlorine/fold_8.csv\n"
     ]
    },
    {
     "name": "stdout",
     "output_type": "stream",
     "text": [
      "[60]\ttrain's multi_logloss: 0.0192978\tvalid's multi_logloss: 0.370137\n",
      "Early stopping, best iteration is:\n",
      "[47]\ttrain's multi_logloss: 0.0376651\tvalid's multi_logloss: 0.366452\n",
      "Training until validation scores don't improve for 20 rounds\n",
      "[20]\ttrain's multi_logloss: 0.234519\tvalid's multi_logloss: 0.536061\n",
      "[40]\ttrain's multi_logloss: 0.0560898\tvalid's multi_logloss: 0.456718\n"
     ]
    },
    {
     "name": "stderr",
     "output_type": "stream",
     "text": [
      "2022-04-17 11:25:26 - src.train - INFO     [train.py:133] elapsed training time: 0.007 min\n",
      "2022-04-17 11:25:26 - src.train - INFO     [train.py:62] fold=24/24\n",
      "2022-04-17 11:25:26 - src.train - INFO     [train.py:63] reading cv index from data/cv_index/cv-model/oxychlorine/fold_9.csv\n"
     ]
    },
    {
     "name": "stdout",
     "output_type": "stream",
     "text": [
      "[60]\ttrain's multi_logloss: 0.0185994\tvalid's multi_logloss: 0.458459\n",
      "Early stopping, best iteration is:\n",
      "[57]\ttrain's multi_logloss: 0.0213602\tvalid's multi_logloss: 0.450954\n",
      "Training until validation scores don't improve for 20 rounds\n",
      "[20]\ttrain's multi_logloss: 0.245057\tvalid's multi_logloss: 0.504301\n",
      "[40]\ttrain's multi_logloss: 0.0596928\tvalid's multi_logloss: 0.343588\n"
     ]
    },
    {
     "name": "stderr",
     "output_type": "stream",
     "text": [
      "2022-04-17 11:25:26 - src.train - INFO     [train.py:133] elapsed training time: 0.009 min\n",
      "2022-04-17 11:25:26 - src.train - INFO     [train.py:62] fold=1/24\n",
      "2022-04-17 11:25:26 - src.train - INFO     [train.py:63] reading cv index from data/cv_index/cv-model/oxychlorine/fold_0.csv\n"
     ]
    },
    {
     "name": "stdout",
     "output_type": "stream",
     "text": [
      "[60]\ttrain's multi_logloss: 0.0199659\tvalid's multi_logloss: 0.313494\n",
      "[80]\ttrain's multi_logloss: 0.010101\tvalid's multi_logloss: 0.305865\n",
      "[100]\ttrain's multi_logloss: 0.00701249\tvalid's multi_logloss: 0.306579\n",
      "Early stopping, best iteration is:\n",
      "[83]\ttrain's multi_logloss: 0.00936707\tvalid's multi_logloss: 0.303235\n",
      "61\n"
     ]
    },
    {
     "name": "stderr",
     "output_type": "stream",
     "text": [
      "2022-04-17 11:25:27 - src.train - INFO     [train.py:28] elapsed training time: 0.005 min\n",
      "2022-04-17 11:25:27 - src.train - INFO     [train.py:62] fold=2/24\n",
      "2022-04-17 11:25:27 - src.train - INFO     [train.py:63] reading cv index from data/cv_index/cv-model/oxychlorine/fold_1.csv\n",
      "2022-04-17 11:25:27 - src.train - INFO     [train.py:28] elapsed training time: 0.005 min\n",
      "2022-04-17 11:25:27 - src.train - INFO     [train.py:62] fold=3/24\n",
      "2022-04-17 11:25:27 - src.train - INFO     [train.py:63] reading cv index from data/cv_index/cv-model/oxychlorine/fold_10.csv\n",
      "2022-04-17 11:25:27 - src.train - INFO     [train.py:28] elapsed training time: 0.005 min\n",
      "2022-04-17 11:25:27 - src.train - INFO     [train.py:62] fold=4/24\n",
      "2022-04-17 11:25:27 - src.train - INFO     [train.py:63] reading cv index from data/cv_index/cv-model/oxychlorine/fold_11.csv\n",
      "2022-04-17 11:25:29 - src.train - INFO     [train.py:28] elapsed training time: 0.015 min\n",
      "2022-04-17 11:25:29 - src.train - INFO     [train.py:62] fold=5/24\n",
      "2022-04-17 11:25:29 - src.train - INFO     [train.py:63] reading cv index from data/cv_index/cv-model/oxychlorine/fold_12.csv\n",
      "2022-04-17 11:25:29 - src.train - INFO     [train.py:28] elapsed training time: 0.007 min\n",
      "2022-04-17 11:25:29 - src.train - INFO     [train.py:62] fold=6/24\n",
      "2022-04-17 11:25:29 - src.train - INFO     [train.py:63] reading cv index from data/cv_index/cv-model/oxychlorine/fold_13.csv\n",
      "2022-04-17 11:25:30 - src.train - INFO     [train.py:28] elapsed training time: 0.005 min\n",
      "2022-04-17 11:25:30 - src.train - INFO     [train.py:62] fold=7/24\n",
      "2022-04-17 11:25:30 - src.train - INFO     [train.py:63] reading cv index from data/cv_index/cv-model/oxychlorine/fold_14.csv\n",
      "2022-04-17 11:25:30 - src.train - INFO     [train.py:28] elapsed training time: 0.005 min\n",
      "2022-04-17 11:25:30 - src.train - INFO     [train.py:62] fold=8/24\n",
      "2022-04-17 11:25:30 - src.train - INFO     [train.py:63] reading cv index from data/cv_index/cv-model/oxychlorine/fold_15.csv\n",
      "2022-04-17 11:25:30 - src.train - INFO     [train.py:28] elapsed training time: 0.004 min\n",
      "2022-04-17 11:25:30 - src.train - INFO     [train.py:62] fold=9/24\n",
      "2022-04-17 11:25:30 - src.train - INFO     [train.py:63] reading cv index from data/cv_index/cv-model/oxychlorine/fold_16.csv\n",
      "2022-04-17 11:25:31 - src.train - INFO     [train.py:28] elapsed training time: 0.004 min\n",
      "2022-04-17 11:25:31 - src.train - INFO     [train.py:62] fold=10/24\n",
      "2022-04-17 11:25:31 - src.train - INFO     [train.py:63] reading cv index from data/cv_index/cv-model/oxychlorine/fold_17.csv\n",
      "2022-04-17 11:25:31 - src.train - INFO     [train.py:28] elapsed training time: 0.005 min\n",
      "2022-04-17 11:25:31 - src.train - INFO     [train.py:62] fold=11/24\n",
      "2022-04-17 11:25:31 - src.train - INFO     [train.py:63] reading cv index from data/cv_index/cv-model/oxychlorine/fold_18.csv\n",
      "2022-04-17 11:25:31 - src.train - INFO     [train.py:28] elapsed training time: 0.005 min\n",
      "2022-04-17 11:25:31 - src.train - INFO     [train.py:62] fold=12/24\n",
      "2022-04-17 11:25:31 - src.train - INFO     [train.py:63] reading cv index from data/cv_index/cv-model/oxychlorine/fold_19.csv\n",
      "2022-04-17 11:25:32 - src.train - INFO     [train.py:28] elapsed training time: 0.004 min\n",
      "2022-04-17 11:25:32 - src.train - INFO     [train.py:62] fold=13/24\n",
      "2022-04-17 11:25:32 - src.train - INFO     [train.py:63] reading cv index from data/cv_index/cv-model/oxychlorine/fold_2.csv\n",
      "2022-04-17 11:25:32 - src.train - INFO     [train.py:28] elapsed training time: 0.005 min\n",
      "2022-04-17 11:25:32 - src.train - INFO     [train.py:62] fold=14/24\n",
      "2022-04-17 11:25:32 - src.train - INFO     [train.py:63] reading cv index from data/cv_index/cv-model/oxychlorine/fold_20.csv\n",
      "2022-04-17 11:25:33 - src.train - INFO     [train.py:28] elapsed training time: 0.004 min\n",
      "2022-04-17 11:25:33 - src.train - INFO     [train.py:62] fold=15/24\n",
      "2022-04-17 11:25:33 - src.train - INFO     [train.py:63] reading cv index from data/cv_index/cv-model/oxychlorine/fold_21.csv\n",
      "2022-04-17 11:25:33 - src.train - INFO     [train.py:28] elapsed training time: 0.004 min\n",
      "2022-04-17 11:25:33 - src.train - INFO     [train.py:62] fold=16/24\n",
      "2022-04-17 11:25:33 - src.train - INFO     [train.py:63] reading cv index from data/cv_index/cv-model/oxychlorine/fold_22.csv\n",
      "2022-04-17 11:25:33 - src.train - INFO     [train.py:28] elapsed training time: 0.004 min\n",
      "2022-04-17 11:25:33 - src.train - INFO     [train.py:62] fold=17/24\n",
      "2022-04-17 11:25:33 - src.train - INFO     [train.py:63] reading cv index from data/cv_index/cv-model/oxychlorine/fold_23.csv\n",
      "2022-04-17 11:25:34 - src.train - INFO     [train.py:28] elapsed training time: 0.005 min\n",
      "2022-04-17 11:25:34 - src.train - INFO     [train.py:62] fold=18/24\n",
      "2022-04-17 11:25:34 - src.train - INFO     [train.py:63] reading cv index from data/cv_index/cv-model/oxychlorine/fold_3.csv\n",
      "2022-04-17 11:25:34 - src.train - INFO     [train.py:28] elapsed training time: 0.005 min\n",
      "2022-04-17 11:25:34 - src.train - INFO     [train.py:62] fold=19/24\n",
      "2022-04-17 11:25:34 - src.train - INFO     [train.py:63] reading cv index from data/cv_index/cv-model/oxychlorine/fold_4.csv\n",
      "2022-04-17 11:25:34 - src.train - INFO     [train.py:28] elapsed training time: 0.005 min\n",
      "2022-04-17 11:25:34 - src.train - INFO     [train.py:62] fold=20/24\n",
      "2022-04-17 11:25:34 - src.train - INFO     [train.py:63] reading cv index from data/cv_index/cv-model/oxychlorine/fold_5.csv\n",
      "2022-04-17 11:25:35 - src.train - INFO     [train.py:28] elapsed training time: 0.005 min\n",
      "2022-04-17 11:25:35 - src.train - INFO     [train.py:62] fold=21/24\n",
      "2022-04-17 11:25:35 - src.train - INFO     [train.py:63] reading cv index from data/cv_index/cv-model/oxychlorine/fold_6.csv\n",
      "2022-04-17 11:25:35 - src.train - INFO     [train.py:28] elapsed training time: 0.004 min\n",
      "2022-04-17 11:25:35 - src.train - INFO     [train.py:62] fold=22/24\n",
      "2022-04-17 11:25:35 - src.train - INFO     [train.py:63] reading cv index from data/cv_index/cv-model/oxychlorine/fold_7.csv\n",
      "2022-04-17 11:25:36 - src.train - INFO     [train.py:28] elapsed training time: 0.006 min\n",
      "2022-04-17 11:25:36 - src.train - INFO     [train.py:62] fold=23/24\n",
      "2022-04-17 11:25:36 - src.train - INFO     [train.py:63] reading cv index from data/cv_index/cv-model/oxychlorine/fold_8.csv\n",
      "2022-04-17 11:25:36 - src.train - INFO     [train.py:28] elapsed training time: 0.008 min\n",
      "2022-04-17 11:25:36 - src.train - INFO     [train.py:62] fold=24/24\n",
      "2022-04-17 11:25:36 - src.train - INFO     [train.py:63] reading cv index from data/cv_index/cv-model/oxychlorine/fold_9.csv\n",
      "2022-04-17 11:25:37 - src.train - INFO     [train.py:28] elapsed training time: 0.005 min\n",
      "2022-04-17 11:25:37 - src.train - INFO     [train.py:62] fold=1/24\n",
      "2022-04-17 11:25:37 - src.train - INFO     [train.py:63] reading cv index from data/cv_index/cv-model/phyllosilicate/fold_0.csv\n"
     ]
    },
    {
     "name": "stdout",
     "output_type": "stream",
     "text": [
      "Training until validation scores don't improve for 20 rounds\n",
      "[20]\ttrain's multi_logloss: 0.279285\tvalid's multi_logloss: 0.62425\n"
     ]
    },
    {
     "name": "stderr",
     "output_type": "stream",
     "text": [
      "2022-04-17 11:25:37 - src.train - INFO     [train.py:133] elapsed training time: 0.008 min\n",
      "2022-04-17 11:25:37 - src.train - INFO     [train.py:62] fold=2/24\n",
      "2022-04-17 11:25:37 - src.train - INFO     [train.py:63] reading cv index from data/cv_index/cv-model/phyllosilicate/fold_1.csv\n"
     ]
    },
    {
     "name": "stdout",
     "output_type": "stream",
     "text": [
      "[40]\ttrain's multi_logloss: 0.0740802\tvalid's multi_logloss: 0.513225\n",
      "[60]\ttrain's multi_logloss: 0.0254272\tvalid's multi_logloss: 0.518976\n",
      "Early stopping, best iteration is:\n",
      "[45]\ttrain's multi_logloss: 0.0548478\tvalid's multi_logloss: 0.508417\n",
      "Training until validation scores don't improve for 20 rounds\n",
      "[20]\ttrain's multi_logloss: 0.278193\tvalid's multi_logloss: 0.608969\n",
      "[40]\ttrain's multi_logloss: 0.0749954\tvalid's multi_logloss: 0.452854\n"
     ]
    },
    {
     "name": "stderr",
     "output_type": "stream",
     "text": [
      "2022-04-17 11:25:38 - src.train - INFO     [train.py:133] elapsed training time: 0.008 min\n",
      "2022-04-17 11:25:38 - src.train - INFO     [train.py:62] fold=3/24\n",
      "2022-04-17 11:25:38 - src.train - INFO     [train.py:63] reading cv index from data/cv_index/cv-model/phyllosilicate/fold_10.csv\n"
     ]
    },
    {
     "name": "stdout",
     "output_type": "stream",
     "text": [
      "[60]\ttrain's multi_logloss: 0.0263592\tvalid's multi_logloss: 0.419381\n",
      "[80]\ttrain's multi_logloss: 0.0128218\tvalid's multi_logloss: 0.40653\n",
      "[100]\ttrain's multi_logloss: 0.008549\tvalid's multi_logloss: 0.407179\n",
      "Early stopping, best iteration is:\n",
      "[80]\ttrain's multi_logloss: 0.0128218\tvalid's multi_logloss: 0.40653\n",
      "Training until validation scores don't improve for 20 rounds\n",
      "[20]\ttrain's multi_logloss: 0.281578\tvalid's multi_logloss: 0.565366\n",
      "[40]\ttrain's multi_logloss: 0.0758967\tvalid's multi_logloss: 0.463808\n",
      "[60]\ttrain's multi_logloss: 0.0264962\tvalid's multi_logloss: 0.470368\n"
     ]
    },
    {
     "name": "stderr",
     "output_type": "stream",
     "text": [
      "2022-04-17 11:25:38 - src.train - INFO     [train.py:133] elapsed training time: 0.005 min\n",
      "2022-04-17 11:25:38 - src.train - INFO     [train.py:62] fold=4/24\n",
      "2022-04-17 11:25:38 - src.train - INFO     [train.py:63] reading cv index from data/cv_index/cv-model/phyllosilicate/fold_11.csv\n"
     ]
    },
    {
     "name": "stdout",
     "output_type": "stream",
     "text": [
      "Early stopping, best iteration is:\n",
      "[46]\ttrain's multi_logloss: 0.0532079\tvalid's multi_logloss: 0.455305\n",
      "Training until validation scores don't improve for 20 rounds\n",
      "[20]\ttrain's multi_logloss: 0.28232\tvalid's multi_logloss: 0.623707\n",
      "[40]\ttrain's multi_logloss: 0.0761786\tvalid's multi_logloss: 0.470793\n",
      "[60]\ttrain's multi_logloss: 0.0263758\tvalid's multi_logloss: 0.417076\n"
     ]
    },
    {
     "name": "stderr",
     "output_type": "stream",
     "text": [
      "2022-04-17 11:25:39 - src.train - INFO     [train.py:133] elapsed training time: 0.007 min\n",
      "2022-04-17 11:25:39 - src.train - INFO     [train.py:62] fold=5/24\n",
      "2022-04-17 11:25:39 - src.train - INFO     [train.py:63] reading cv index from data/cv_index/cv-model/phyllosilicate/fold_12.csv\n"
     ]
    },
    {
     "name": "stdout",
     "output_type": "stream",
     "text": [
      "[80]\ttrain's multi_logloss: 0.0129311\tvalid's multi_logloss: 0.411664\n",
      "Early stopping, best iteration is:\n",
      "[67]\ttrain's multi_logloss: 0.0198647\tvalid's multi_logloss: 0.408807\n",
      "Training until validation scores don't improve for 20 rounds\n",
      "[20]\ttrain's multi_logloss: 0.284053\tvalid's multi_logloss: 0.601032\n"
     ]
    },
    {
     "name": "stderr",
     "output_type": "stream",
     "text": [
      "2022-04-17 11:25:39 - src.train - INFO     [train.py:133] elapsed training time: 0.008 min\n",
      "2022-04-17 11:25:39 - src.train - INFO     [train.py:62] fold=6/24\n",
      "2022-04-17 11:25:39 - src.train - INFO     [train.py:63] reading cv index from data/cv_index/cv-model/phyllosilicate/fold_13.csv\n"
     ]
    },
    {
     "name": "stdout",
     "output_type": "stream",
     "text": [
      "[40]\ttrain's multi_logloss: 0.075592\tvalid's multi_logloss: 0.478228\n",
      "[60]\ttrain's multi_logloss: 0.0261495\tvalid's multi_logloss: 0.462987\n",
      "Early stopping, best iteration is:\n",
      "[50]\ttrain's multi_logloss: 0.0423933\tvalid's multi_logloss: 0.456094\n",
      "Training until validation scores don't improve for 20 rounds\n",
      "[20]\ttrain's multi_logloss: 0.272661\tvalid's multi_logloss: 0.64819\n"
     ]
    },
    {
     "name": "stderr",
     "output_type": "stream",
     "text": [
      "2022-04-17 11:25:40 - src.train - INFO     [train.py:133] elapsed training time: 0.007 min\n",
      "2022-04-17 11:25:40 - src.train - INFO     [train.py:62] fold=7/24\n",
      "2022-04-17 11:25:40 - src.train - INFO     [train.py:63] reading cv index from data/cv_index/cv-model/phyllosilicate/fold_14.csv\n"
     ]
    },
    {
     "name": "stdout",
     "output_type": "stream",
     "text": [
      "[40]\ttrain's multi_logloss: 0.0741915\tvalid's multi_logloss: 0.589653\n",
      "Early stopping, best iteration is:\n",
      "[34]\ttrain's multi_logloss: 0.107909\tvalid's multi_logloss: 0.585998\n",
      "Training until validation scores don't improve for 20 rounds\n",
      "[20]\ttrain's multi_logloss: 0.28949\tvalid's multi_logloss: 0.574634\n",
      "[40]\ttrain's multi_logloss: 0.0786166\tvalid's multi_logloss: 0.394517\n"
     ]
    },
    {
     "name": "stderr",
     "output_type": "stream",
     "text": [
      "2022-04-17 11:25:41 - src.train - INFO     [train.py:133] elapsed training time: 0.008 min\n",
      "2022-04-17 11:25:41 - src.train - INFO     [train.py:62] fold=8/24\n",
      "2022-04-17 11:25:41 - src.train - INFO     [train.py:63] reading cv index from data/cv_index/cv-model/phyllosilicate/fold_15.csv\n"
     ]
    },
    {
     "name": "stdout",
     "output_type": "stream",
     "text": [
      "[60]\ttrain's multi_logloss: 0.0270752\tvalid's multi_logloss: 0.35548\n",
      "[80]\ttrain's multi_logloss: 0.0130224\tvalid's multi_logloss: 0.353134\n",
      "Early stopping, best iteration is:\n",
      "[71]\ttrain's multi_logloss: 0.0173572\tvalid's multi_logloss: 0.348523\n",
      "Training until validation scores don't improve for 20 rounds\n",
      "[20]\ttrain's multi_logloss: 0.281785\tvalid's multi_logloss: 0.575784\n",
      "[40]\ttrain's multi_logloss: 0.0759127\tvalid's multi_logloss: 0.412902\n"
     ]
    },
    {
     "name": "stderr",
     "output_type": "stream",
     "text": [
      "2022-04-17 11:25:41 - src.train - INFO     [train.py:133] elapsed training time: 0.008 min\n",
      "2022-04-17 11:25:41 - src.train - INFO     [train.py:62] fold=9/24\n",
      "2022-04-17 11:25:41 - src.train - INFO     [train.py:63] reading cv index from data/cv_index/cv-model/phyllosilicate/fold_16.csv\n"
     ]
    },
    {
     "name": "stdout",
     "output_type": "stream",
     "text": [
      "[60]\ttrain's multi_logloss: 0.0264135\tvalid's multi_logloss: 0.384491\n",
      "[80]\ttrain's multi_logloss: 0.0129043\tvalid's multi_logloss: 0.386691\n",
      "Early stopping, best iteration is:\n",
      "[63]\ttrain's multi_logloss: 0.0231693\tvalid's multi_logloss: 0.381901\n",
      "Training until validation scores don't improve for 20 rounds\n",
      "[20]\ttrain's multi_logloss: 0.280683\tvalid's multi_logloss: 0.543658\n",
      "[40]\ttrain's multi_logloss: 0.077286\tvalid's multi_logloss: 0.369464\n",
      "[60]\ttrain's multi_logloss: 0.0270601\tvalid's multi_logloss: 0.318995\n"
     ]
    },
    {
     "name": "stderr",
     "output_type": "stream",
     "text": [
      "2022-04-17 11:25:42 - src.train - INFO     [train.py:133] elapsed training time: 0.011 min\n",
      "2022-04-17 11:25:42 - src.train - INFO     [train.py:62] fold=10/24\n",
      "2022-04-17 11:25:42 - src.train - INFO     [train.py:63] reading cv index from data/cv_index/cv-model/phyllosilicate/fold_17.csv\n"
     ]
    },
    {
     "name": "stdout",
     "output_type": "stream",
     "text": [
      "[80]\ttrain's multi_logloss: 0.0133258\tvalid's multi_logloss: 0.297049\n",
      "[100]\ttrain's multi_logloss: 0.00879853\tvalid's multi_logloss: 0.29903\n",
      "Early stopping, best iteration is:\n",
      "[93]\ttrain's multi_logloss: 0.00987056\tvalid's multi_logloss: 0.294411\n",
      "Training until validation scores don't improve for 20 rounds\n",
      "[20]\ttrain's multi_logloss: 0.288112\tvalid's multi_logloss: 0.596396\n",
      "[40]\ttrain's multi_logloss: 0.0766093\tvalid's multi_logloss: 0.452526\n"
     ]
    },
    {
     "name": "stderr",
     "output_type": "stream",
     "text": [
      "2022-04-17 11:25:43 - src.train - INFO     [train.py:133] elapsed training time: 0.008 min\n",
      "2022-04-17 11:25:43 - src.train - INFO     [train.py:62] fold=11/24\n",
      "2022-04-17 11:25:43 - src.train - INFO     [train.py:63] reading cv index from data/cv_index/cv-model/phyllosilicate/fold_18.csv\n"
     ]
    },
    {
     "name": "stdout",
     "output_type": "stream",
     "text": [
      "[60]\ttrain's multi_logloss: 0.0264171\tvalid's multi_logloss: 0.422104\n",
      "[80]\ttrain's multi_logloss: 0.0128577\tvalid's multi_logloss: 0.4139\n",
      "Early stopping, best iteration is:\n",
      "[79]\ttrain's multi_logloss: 0.0132154\tvalid's multi_logloss: 0.413351\n",
      "Training until validation scores don't improve for 20 rounds\n",
      "[20]\ttrain's multi_logloss: 0.274926\tvalid's multi_logloss: 0.746305\n",
      "[40]\ttrain's multi_logloss: 0.0721685\tvalid's multi_logloss: 0.694678\n"
     ]
    },
    {
     "name": "stderr",
     "output_type": "stream",
     "text": [
      "2022-04-17 11:25:43 - src.train - INFO     [train.py:133] elapsed training time: 0.006 min\n",
      "2022-04-17 11:25:43 - src.train - INFO     [train.py:62] fold=12/24\n",
      "2022-04-17 11:25:43 - src.train - INFO     [train.py:63] reading cv index from data/cv_index/cv-model/phyllosilicate/fold_19.csv\n"
     ]
    },
    {
     "name": "stdout",
     "output_type": "stream",
     "text": [
      "Early stopping, best iteration is:\n",
      "[37]\ttrain's multi_logloss: 0.0874333\tvalid's multi_logloss: 0.686468\n",
      "Training until validation scores don't improve for 20 rounds\n",
      "[20]\ttrain's multi_logloss: 0.274344\tvalid's multi_logloss: 0.758682\n",
      "[40]\ttrain's multi_logloss: 0.0722021\tvalid's multi_logloss: 0.671454\n"
     ]
    },
    {
     "name": "stderr",
     "output_type": "stream",
     "text": [
      "2022-04-17 11:25:44 - src.train - INFO     [train.py:133] elapsed training time: 0.007 min\n",
      "2022-04-17 11:25:44 - src.train - INFO     [train.py:62] fold=13/24\n",
      "2022-04-17 11:25:44 - src.train - INFO     [train.py:63] reading cv index from data/cv_index/cv-model/phyllosilicate/fold_2.csv\n"
     ]
    },
    {
     "name": "stdout",
     "output_type": "stream",
     "text": [
      "[60]\ttrain's multi_logloss: 0.0249125\tvalid's multi_logloss: 0.693474\n",
      "Early stopping, best iteration is:\n",
      "[48]\ttrain's multi_logloss: 0.0457465\tvalid's multi_logloss: 0.66804\n",
      "Training until validation scores don't improve for 20 rounds\n",
      "[20]\ttrain's multi_logloss: 0.282848\tvalid's multi_logloss: 0.599191\n",
      "[40]\ttrain's multi_logloss: 0.0752959\tvalid's multi_logloss: 0.505699\n"
     ]
    },
    {
     "name": "stderr",
     "output_type": "stream",
     "text": [
      "2022-04-17 11:25:45 - src.train - INFO     [train.py:133] elapsed training time: 0.017 min\n",
      "2022-04-17 11:25:45 - src.train - INFO     [train.py:62] fold=14/24\n",
      "2022-04-17 11:25:45 - src.train - INFO     [train.py:63] reading cv index from data/cv_index/cv-model/phyllosilicate/fold_20.csv\n"
     ]
    },
    {
     "name": "stdout",
     "output_type": "stream",
     "text": [
      "[60]\ttrain's multi_logloss: 0.0260094\tvalid's multi_logloss: 0.518759\n",
      "Early stopping, best iteration is:\n",
      "[44]\ttrain's multi_logloss: 0.0591955\tvalid's multi_logloss: 0.502507\n",
      "Training until validation scores don't improve for 20 rounds\n",
      "[20]\ttrain's multi_logloss: 0.282264\tvalid's multi_logloss: 0.614355\n",
      "[40]\ttrain's multi_logloss: 0.0756554\tvalid's multi_logloss: 0.486112\n"
     ]
    },
    {
     "name": "stderr",
     "output_type": "stream",
     "text": [
      "2022-04-17 11:25:45 - src.train - INFO     [train.py:133] elapsed training time: 0.007 min\n",
      "2022-04-17 11:25:45 - src.train - INFO     [train.py:62] fold=15/24\n",
      "2022-04-17 11:25:45 - src.train - INFO     [train.py:63] reading cv index from data/cv_index/cv-model/phyllosilicate/fold_21.csv\n"
     ]
    },
    {
     "name": "stdout",
     "output_type": "stream",
     "text": [
      "[60]\ttrain's multi_logloss: 0.0262215\tvalid's multi_logloss: 0.465833\n",
      "[80]\ttrain's multi_logloss: 0.0128019\tvalid's multi_logloss: 0.470069\n",
      "Early stopping, best iteration is:\n",
      "[65]\ttrain's multi_logloss: 0.0211788\tvalid's multi_logloss: 0.463303\n",
      "Training until validation scores don't improve for 20 rounds\n",
      "[20]\ttrain's multi_logloss: 0.286239\tvalid's multi_logloss: 0.536565\n",
      "[40]\ttrain's multi_logloss: 0.0780455\tvalid's multi_logloss: 0.371174\n"
     ]
    },
    {
     "name": "stderr",
     "output_type": "stream",
     "text": [
      "2022-04-17 11:25:46 - src.train - INFO     [train.py:133] elapsed training time: 0.008 min\n",
      "2022-04-17 11:25:46 - src.train - INFO     [train.py:62] fold=16/24\n",
      "2022-04-17 11:25:46 - src.train - INFO     [train.py:63] reading cv index from data/cv_index/cv-model/phyllosilicate/fold_22.csv\n"
     ]
    },
    {
     "name": "stdout",
     "output_type": "stream",
     "text": [
      "[60]\ttrain's multi_logloss: 0.0270658\tvalid's multi_logloss: 0.334907\n",
      "[80]\ttrain's multi_logloss: 0.0132119\tvalid's multi_logloss: 0.327242\n",
      "[100]\ttrain's multi_logloss: 0.00872976\tvalid's multi_logloss: 0.324623\n",
      "Early stopping, best iteration is:\n",
      "[92]\ttrain's multi_logloss: 0.0100055\tvalid's multi_logloss: 0.322695\n",
      "Training until validation scores don't improve for 20 rounds\n",
      "[20]\ttrain's multi_logloss: 0.279873\tvalid's multi_logloss: 0.541545\n",
      "[40]\ttrain's multi_logloss: 0.0755583\tvalid's multi_logloss: 0.397836\n"
     ]
    },
    {
     "name": "stderr",
     "output_type": "stream",
     "text": [
      "2022-04-17 11:25:46 - src.train - INFO     [train.py:133] elapsed training time: 0.008 min\n",
      "2022-04-17 11:25:46 - src.train - INFO     [train.py:62] fold=17/24\n",
      "2022-04-17 11:25:46 - src.train - INFO     [train.py:63] reading cv index from data/cv_index/cv-model/phyllosilicate/fold_23.csv\n"
     ]
    },
    {
     "name": "stdout",
     "output_type": "stream",
     "text": [
      "[60]\ttrain's multi_logloss: 0.026509\tvalid's multi_logloss: 0.368702\n",
      "[80]\ttrain's multi_logloss: 0.0129519\tvalid's multi_logloss: 0.374725\n",
      "Early stopping, best iteration is:\n",
      "[65]\ttrain's multi_logloss: 0.0215573\tvalid's multi_logloss: 0.363889\n",
      "Training until validation scores don't improve for 20 rounds\n",
      "[20]\ttrain's multi_logloss: 0.281015\tvalid's multi_logloss: 0.55321\n",
      "[40]\ttrain's multi_logloss: 0.0771498\tvalid's multi_logloss: 0.392044\n",
      "[60]\ttrain's multi_logloss: 0.0267331\tvalid's multi_logloss: 0.344311\n",
      "[80]\ttrain's multi_logloss: 0.0131018\tvalid's multi_logloss: 0.332676\n",
      "[100]\ttrain's multi_logloss: 0.0086293\tvalid's multi_logloss: 0.32716\n",
      "[120]\ttrain's multi_logloss: 0.00721704\tvalid's multi_logloss: 0.32496\n"
     ]
    },
    {
     "name": "stderr",
     "output_type": "stream",
     "text": [
      "2022-04-17 11:25:47 - src.train - INFO     [train.py:133] elapsed training time: 0.010 min\n",
      "2022-04-17 11:25:47 - src.train - INFO     [train.py:62] fold=18/24\n",
      "2022-04-17 11:25:47 - src.train - INFO     [train.py:63] reading cv index from data/cv_index/cv-model/phyllosilicate/fold_3.csv\n"
     ]
    },
    {
     "name": "stdout",
     "output_type": "stream",
     "text": [
      "Early stopping, best iteration is:\n",
      "[117]\ttrain's multi_logloss: 0.00731206\tvalid's multi_logloss: 0.324158\n",
      "Training until validation scores don't improve for 20 rounds\n",
      "[20]\ttrain's multi_logloss: 0.280668\tvalid's multi_logloss: 0.603626\n",
      "[40]\ttrain's multi_logloss: 0.0755356\tvalid's multi_logloss: 0.42742\n"
     ]
    },
    {
     "name": "stderr",
     "output_type": "stream",
     "text": [
      "2022-04-17 11:25:48 - src.train - INFO     [train.py:133] elapsed training time: 0.009 min\n",
      "2022-04-17 11:25:48 - src.train - INFO     [train.py:62] fold=19/24\n",
      "2022-04-17 11:25:48 - src.train - INFO     [train.py:63] reading cv index from data/cv_index/cv-model/phyllosilicate/fold_4.csv\n"
     ]
    },
    {
     "name": "stdout",
     "output_type": "stream",
     "text": [
      "[60]\ttrain's multi_logloss: 0.0266344\tvalid's multi_logloss: 0.381678\n",
      "[80]\ttrain's multi_logloss: 0.0131321\tvalid's multi_logloss: 0.364856\n",
      "[100]\ttrain's multi_logloss: 0.00861749\tvalid's multi_logloss: 0.363277\n",
      "[120]\ttrain's multi_logloss: 0.00714934\tvalid's multi_logloss: 0.366578\n",
      "Early stopping, best iteration is:\n",
      "[102]\ttrain's multi_logloss: 0.00834502\tvalid's multi_logloss: 0.362008\n",
      "Training until validation scores don't improve for 20 rounds\n",
      "[20]\ttrain's multi_logloss: 0.281103\tvalid's multi_logloss: 0.582831\n",
      "[40]\ttrain's multi_logloss: 0.0775014\tvalid's multi_logloss: 0.409965\n"
     ]
    },
    {
     "name": "stderr",
     "output_type": "stream",
     "text": [
      "2022-04-17 11:25:48 - src.train - INFO     [train.py:133] elapsed training time: 0.008 min\n",
      "2022-04-17 11:25:48 - src.train - INFO     [train.py:62] fold=20/24\n",
      "2022-04-17 11:25:48 - src.train - INFO     [train.py:63] reading cv index from data/cv_index/cv-model/phyllosilicate/fold_5.csv\n"
     ]
    },
    {
     "name": "stdout",
     "output_type": "stream",
     "text": [
      "[60]\ttrain's multi_logloss: 0.0269199\tvalid's multi_logloss: 0.38062\n",
      "[80]\ttrain's multi_logloss: 0.0132949\tvalid's multi_logloss: 0.382929\n",
      "Early stopping, best iteration is:\n",
      "[68]\ttrain's multi_logloss: 0.0196185\tvalid's multi_logloss: 0.377279\n",
      "Training until validation scores don't improve for 20 rounds\n",
      "[20]\ttrain's multi_logloss: 0.282513\tvalid's multi_logloss: 0.68892\n",
      "[40]\ttrain's multi_logloss: 0.0767399\tvalid's multi_logloss: 0.579653\n"
     ]
    },
    {
     "name": "stderr",
     "output_type": "stream",
     "text": [
      "2022-04-17 11:25:49 - src.train - INFO     [train.py:133] elapsed training time: 0.007 min\n",
      "2022-04-17 11:25:49 - src.train - INFO     [train.py:62] fold=21/24\n",
      "2022-04-17 11:25:49 - src.train - INFO     [train.py:63] reading cv index from data/cv_index/cv-model/phyllosilicate/fold_6.csv\n"
     ]
    },
    {
     "name": "stdout",
     "output_type": "stream",
     "text": [
      "[60]\ttrain's multi_logloss: 0.0267877\tvalid's multi_logloss: 0.596295\n",
      "Early stopping, best iteration is:\n",
      "[41]\ttrain's multi_logloss: 0.0724393\tvalid's multi_logloss: 0.578892\n",
      "Training until validation scores don't improve for 20 rounds\n",
      "[20]\ttrain's multi_logloss: 0.273372\tvalid's multi_logloss: 0.598911\n",
      "[40]\ttrain's multi_logloss: 0.0726118\tvalid's multi_logloss: 0.515011\n"
     ]
    },
    {
     "name": "stderr",
     "output_type": "stream",
     "text": [
      "2022-04-17 11:25:50 - src.train - INFO     [train.py:133] elapsed training time: 0.007 min\n",
      "2022-04-17 11:25:50 - src.train - INFO     [train.py:62] fold=22/24\n",
      "2022-04-17 11:25:50 - src.train - INFO     [train.py:63] reading cv index from data/cv_index/cv-model/phyllosilicate/fold_7.csv\n"
     ]
    },
    {
     "name": "stdout",
     "output_type": "stream",
     "text": [
      "[60]\ttrain's multi_logloss: 0.0250652\tvalid's multi_logloss: 0.523473\n",
      "Early stopping, best iteration is:\n",
      "[50]\ttrain's multi_logloss: 0.0409002\tvalid's multi_logloss: 0.509213\n",
      "Training until validation scores don't improve for 20 rounds\n",
      "[20]\ttrain's multi_logloss: 0.285958\tvalid's multi_logloss: 0.58327\n",
      "[40]\ttrain's multi_logloss: 0.0794633\tvalid's multi_logloss: 0.445947\n"
     ]
    },
    {
     "name": "stderr",
     "output_type": "stream",
     "text": [
      "2022-04-17 11:25:50 - src.train - INFO     [train.py:133] elapsed training time: 0.009 min\n",
      "2022-04-17 11:25:50 - src.train - INFO     [train.py:62] fold=23/24\n",
      "2022-04-17 11:25:50 - src.train - INFO     [train.py:63] reading cv index from data/cv_index/cv-model/phyllosilicate/fold_8.csv\n"
     ]
    },
    {
     "name": "stdout",
     "output_type": "stream",
     "text": [
      "[60]\ttrain's multi_logloss: 0.0271548\tvalid's multi_logloss: 0.430647\n",
      "[80]\ttrain's multi_logloss: 0.0132032\tvalid's multi_logloss: 0.423324\n",
      "[100]\ttrain's multi_logloss: 0.00867792\tvalid's multi_logloss: 0.422866\n",
      "Early stopping, best iteration is:\n",
      "[89]\ttrain's multi_logloss: 0.0106005\tvalid's multi_logloss: 0.419948\n",
      "Training until validation scores don't improve for 20 rounds\n",
      "[20]\ttrain's multi_logloss: 0.284512\tvalid's multi_logloss: 0.551968\n",
      "[40]\ttrain's multi_logloss: 0.0773487\tvalid's multi_logloss: 0.413297\n"
     ]
    },
    {
     "name": "stderr",
     "output_type": "stream",
     "text": [
      "2022-04-17 11:25:51 - src.train - INFO     [train.py:133] elapsed training time: 0.008 min\n",
      "2022-04-17 11:25:51 - src.train - INFO     [train.py:62] fold=24/24\n",
      "2022-04-17 11:25:51 - src.train - INFO     [train.py:63] reading cv index from data/cv_index/cv-model/phyllosilicate/fold_9.csv\n"
     ]
    },
    {
     "name": "stdout",
     "output_type": "stream",
     "text": [
      "[60]\ttrain's multi_logloss: 0.0267247\tvalid's multi_logloss: 0.386992\n",
      "[80]\ttrain's multi_logloss: 0.0132388\tvalid's multi_logloss: 0.375668\n",
      "[100]\ttrain's multi_logloss: 0.00874217\tvalid's multi_logloss: 0.376664\n",
      "Early stopping, best iteration is:\n",
      "[93]\ttrain's multi_logloss: 0.009823\tvalid's multi_logloss: 0.373167\n",
      "Training until validation scores don't improve for 20 rounds\n",
      "[20]\ttrain's multi_logloss: 0.281338\tvalid's multi_logloss: 0.641817\n",
      "[40]\ttrain's multi_logloss: 0.0754236\tvalid's multi_logloss: 0.522853\n"
     ]
    },
    {
     "name": "stderr",
     "output_type": "stream",
     "text": [
      "2022-04-17 11:25:51 - src.train - INFO     [train.py:133] elapsed training time: 0.007 min\n",
      "2022-04-17 11:25:51 - src.train - INFO     [train.py:62] fold=1/24\n",
      "2022-04-17 11:25:51 - src.train - INFO     [train.py:63] reading cv index from data/cv_index/cv-model/phyllosilicate/fold_0.csv\n"
     ]
    },
    {
     "name": "stdout",
     "output_type": "stream",
     "text": [
      "[60]\ttrain's multi_logloss: 0.0260249\tvalid's multi_logloss: 0.520287\n",
      "Early stopping, best iteration is:\n",
      "[52]\ttrain's multi_logloss: 0.0382105\tvalid's multi_logloss: 0.510366\n",
      "66\n"
     ]
    },
    {
     "name": "stderr",
     "output_type": "stream",
     "text": [
      "2022-04-17 11:25:52 - src.train - INFO     [train.py:28] elapsed training time: 0.005 min\n",
      "2022-04-17 11:25:52 - src.train - INFO     [train.py:62] fold=2/24\n",
      "2022-04-17 11:25:52 - src.train - INFO     [train.py:63] reading cv index from data/cv_index/cv-model/phyllosilicate/fold_1.csv\n",
      "2022-04-17 11:25:52 - src.train - INFO     [train.py:28] elapsed training time: 0.005 min\n",
      "2022-04-17 11:25:52 - src.train - INFO     [train.py:62] fold=3/24\n",
      "2022-04-17 11:25:52 - src.train - INFO     [train.py:63] reading cv index from data/cv_index/cv-model/phyllosilicate/fold_10.csv\n",
      "2022-04-17 11:25:53 - src.train - INFO     [train.py:28] elapsed training time: 0.005 min\n",
      "2022-04-17 11:25:53 - src.train - INFO     [train.py:62] fold=4/24\n",
      "2022-04-17 11:25:53 - src.train - INFO     [train.py:63] reading cv index from data/cv_index/cv-model/phyllosilicate/fold_11.csv\n",
      "2022-04-17 11:25:53 - src.train - INFO     [train.py:28] elapsed training time: 0.005 min\n",
      "2022-04-17 11:25:53 - src.train - INFO     [train.py:62] fold=5/24\n",
      "2022-04-17 11:25:53 - src.train - INFO     [train.py:63] reading cv index from data/cv_index/cv-model/phyllosilicate/fold_12.csv\n",
      "2022-04-17 11:25:53 - src.train - INFO     [train.py:28] elapsed training time: 0.005 min\n",
      "2022-04-17 11:25:53 - src.train - INFO     [train.py:62] fold=6/24\n",
      "2022-04-17 11:25:53 - src.train - INFO     [train.py:63] reading cv index from data/cv_index/cv-model/phyllosilicate/fold_13.csv\n",
      "2022-04-17 11:25:54 - src.train - INFO     [train.py:28] elapsed training time: 0.005 min\n",
      "2022-04-17 11:25:54 - src.train - INFO     [train.py:62] fold=7/24\n",
      "2022-04-17 11:25:54 - src.train - INFO     [train.py:63] reading cv index from data/cv_index/cv-model/phyllosilicate/fold_14.csv\n",
      "2022-04-17 11:25:55 - src.train - INFO     [train.py:28] elapsed training time: 0.010 min\n",
      "2022-04-17 11:25:55 - src.train - INFO     [train.py:62] fold=8/24\n",
      "2022-04-17 11:25:55 - src.train - INFO     [train.py:63] reading cv index from data/cv_index/cv-model/phyllosilicate/fold_15.csv\n",
      "2022-04-17 11:25:55 - src.train - INFO     [train.py:28] elapsed training time: 0.006 min\n",
      "2022-04-17 11:25:55 - src.train - INFO     [train.py:62] fold=9/24\n",
      "2022-04-17 11:25:55 - src.train - INFO     [train.py:63] reading cv index from data/cv_index/cv-model/phyllosilicate/fold_16.csv\n",
      "2022-04-17 11:25:56 - src.train - INFO     [train.py:28] elapsed training time: 0.009 min\n",
      "2022-04-17 11:25:56 - src.train - INFO     [train.py:62] fold=10/24\n",
      "2022-04-17 11:25:56 - src.train - INFO     [train.py:63] reading cv index from data/cv_index/cv-model/phyllosilicate/fold_17.csv\n",
      "2022-04-17 11:25:56 - src.train - INFO     [train.py:28] elapsed training time: 0.006 min\n",
      "2022-04-17 11:25:56 - src.train - INFO     [train.py:62] fold=11/24\n",
      "2022-04-17 11:25:56 - src.train - INFO     [train.py:63] reading cv index from data/cv_index/cv-model/phyllosilicate/fold_18.csv\n",
      "2022-04-17 11:25:57 - src.train - INFO     [train.py:28] elapsed training time: 0.006 min\n",
      "2022-04-17 11:25:57 - src.train - INFO     [train.py:62] fold=12/24\n",
      "2022-04-17 11:25:57 - src.train - INFO     [train.py:63] reading cv index from data/cv_index/cv-model/phyllosilicate/fold_19.csv\n",
      "2022-04-17 11:25:57 - src.train - INFO     [train.py:28] elapsed training time: 0.006 min\n",
      "2022-04-17 11:25:57 - src.train - INFO     [train.py:62] fold=13/24\n",
      "2022-04-17 11:25:57 - src.train - INFO     [train.py:63] reading cv index from data/cv_index/cv-model/phyllosilicate/fold_2.csv\n",
      "2022-04-17 11:25:58 - src.train - INFO     [train.py:28] elapsed training time: 0.006 min\n",
      "2022-04-17 11:25:58 - src.train - INFO     [train.py:62] fold=14/24\n",
      "2022-04-17 11:25:58 - src.train - INFO     [train.py:63] reading cv index from data/cv_index/cv-model/phyllosilicate/fold_20.csv\n",
      "2022-04-17 11:25:58 - src.train - INFO     [train.py:28] elapsed training time: 0.005 min\n",
      "2022-04-17 11:25:58 - src.train - INFO     [train.py:62] fold=15/24\n",
      "2022-04-17 11:25:58 - src.train - INFO     [train.py:63] reading cv index from data/cv_index/cv-model/phyllosilicate/fold_21.csv\n",
      "2022-04-17 11:25:59 - src.train - INFO     [train.py:28] elapsed training time: 0.006 min\n",
      "2022-04-17 11:25:59 - src.train - INFO     [train.py:62] fold=16/24\n",
      "2022-04-17 11:25:59 - src.train - INFO     [train.py:63] reading cv index from data/cv_index/cv-model/phyllosilicate/fold_22.csv\n",
      "2022-04-17 11:25:59 - src.train - INFO     [train.py:28] elapsed training time: 0.005 min\n",
      "2022-04-17 11:25:59 - src.train - INFO     [train.py:62] fold=17/24\n",
      "2022-04-17 11:25:59 - src.train - INFO     [train.py:63] reading cv index from data/cv_index/cv-model/phyllosilicate/fold_23.csv\n",
      "2022-04-17 11:25:59 - src.train - INFO     [train.py:28] elapsed training time: 0.006 min\n",
      "2022-04-17 11:25:59 - src.train - INFO     [train.py:62] fold=18/24\n",
      "2022-04-17 11:25:59 - src.train - INFO     [train.py:63] reading cv index from data/cv_index/cv-model/phyllosilicate/fold_3.csv\n",
      "2022-04-17 11:26:00 - src.train - INFO     [train.py:28] elapsed training time: 0.010 min\n",
      "2022-04-17 11:26:00 - src.train - INFO     [train.py:62] fold=19/24\n",
      "2022-04-17 11:26:00 - src.train - INFO     [train.py:63] reading cv index from data/cv_index/cv-model/phyllosilicate/fold_4.csv\n",
      "2022-04-17 11:26:01 - src.train - INFO     [train.py:28] elapsed training time: 0.006 min\n",
      "2022-04-17 11:26:01 - src.train - INFO     [train.py:62] fold=20/24\n",
      "2022-04-17 11:26:01 - src.train - INFO     [train.py:63] reading cv index from data/cv_index/cv-model/phyllosilicate/fold_5.csv\n",
      "2022-04-17 11:26:01 - src.train - INFO     [train.py:28] elapsed training time: 0.005 min\n",
      "2022-04-17 11:26:01 - src.train - INFO     [train.py:62] fold=21/24\n",
      "2022-04-17 11:26:01 - src.train - INFO     [train.py:63] reading cv index from data/cv_index/cv-model/phyllosilicate/fold_6.csv\n",
      "2022-04-17 11:26:02 - src.train - INFO     [train.py:28] elapsed training time: 0.006 min\n",
      "2022-04-17 11:26:02 - src.train - INFO     [train.py:62] fold=22/24\n",
      "2022-04-17 11:26:02 - src.train - INFO     [train.py:63] reading cv index from data/cv_index/cv-model/phyllosilicate/fold_7.csv\n",
      "2022-04-17 11:26:02 - src.train - INFO     [train.py:28] elapsed training time: 0.007 min\n",
      "2022-04-17 11:26:02 - src.train - INFO     [train.py:62] fold=23/24\n",
      "2022-04-17 11:26:02 - src.train - INFO     [train.py:63] reading cv index from data/cv_index/cv-model/phyllosilicate/fold_8.csv\n",
      "2022-04-17 11:26:03 - src.train - INFO     [train.py:28] elapsed training time: 0.007 min\n",
      "2022-04-17 11:26:03 - src.train - INFO     [train.py:62] fold=24/24\n",
      "2022-04-17 11:26:03 - src.train - INFO     [train.py:63] reading cv index from data/cv_index/cv-model/phyllosilicate/fold_9.csv\n",
      "2022-04-17 11:26:03 - src.train - INFO     [train.py:28] elapsed training time: 0.005 min\n",
      "2022-04-17 11:26:03 - src.train - INFO     [train.py:62] fold=1/24\n",
      "2022-04-17 11:26:03 - src.train - INFO     [train.py:63] reading cv index from data/cv_index/cv-model/silicate/fold_0.csv\n"
     ]
    },
    {
     "name": "stdout",
     "output_type": "stream",
     "text": [
      "Training until validation scores don't improve for 20 rounds\n",
      "[20]\ttrain's multi_logloss: 0.226776\tvalid's multi_logloss: 0.46729\n",
      "[40]\ttrain's multi_logloss: 0.0504739\tvalid's multi_logloss: 0.365526\n",
      "[60]\ttrain's multi_logloss: 0.016346\tvalid's multi_logloss: 0.353661\n",
      "Early stopping, best iteration is:\n",
      "[47]\ttrain's multi_logloss: 0.0321695\tvalid's multi_logloss: 0.349448\n"
     ]
    },
    {
     "name": "stderr",
     "output_type": "stream",
     "text": [
      "2022-04-17 11:26:04 - src.train - INFO     [train.py:133] elapsed training time: 0.010 min\n",
      "2022-04-17 11:26:04 - src.train - INFO     [train.py:62] fold=2/24\n",
      "2022-04-17 11:26:04 - src.train - INFO     [train.py:63] reading cv index from data/cv_index/cv-model/silicate/fold_1.csv\n"
     ]
    },
    {
     "name": "stdout",
     "output_type": "stream",
     "text": [
      "Training until validation scores don't improve for 20 rounds\n",
      "[20]\ttrain's multi_logloss: 0.226162\tvalid's multi_logloss: 0.423576\n",
      "[40]\ttrain's multi_logloss: 0.0524684\tvalid's multi_logloss: 0.264765\n",
      "[60]\ttrain's multi_logloss: 0.0171729\tvalid's multi_logloss: 0.238066\n",
      "[80]\ttrain's multi_logloss: 0.00880391\tvalid's multi_logloss: 0.229622\n",
      "[100]\ttrain's multi_logloss: 0.00647954\tvalid's multi_logloss: 0.225638\n",
      "[120]\ttrain's multi_logloss: 0.00591587\tvalid's multi_logloss: 0.224083\n",
      "[140]\ttrain's multi_logloss: 0.00570203\tvalid's multi_logloss: 0.22321\n",
      "Early stopping, best iteration is:\n",
      "[132]\ttrain's multi_logloss: 0.00578214\tvalid's multi_logloss: 0.222938\n"
     ]
    },
    {
     "name": "stderr",
     "output_type": "stream",
     "text": [
      "2022-04-17 11:26:04 - src.train - INFO     [train.py:133] elapsed training time: 0.009 min\n",
      "2022-04-17 11:26:04 - src.train - INFO     [train.py:62] fold=3/24\n",
      "2022-04-17 11:26:04 - src.train - INFO     [train.py:63] reading cv index from data/cv_index/cv-model/silicate/fold_10.csv\n"
     ]
    },
    {
     "name": "stdout",
     "output_type": "stream",
     "text": [
      "Training until validation scores don't improve for 20 rounds\n",
      "[20]\ttrain's multi_logloss: 0.219736\tvalid's multi_logloss: 0.499709\n",
      "[40]\ttrain's multi_logloss: 0.0503583\tvalid's multi_logloss: 0.408132\n"
     ]
    },
    {
     "name": "stderr",
     "output_type": "stream",
     "text": [
      "2022-04-17 11:26:05 - src.train - INFO     [train.py:133] elapsed training time: 0.008 min\n",
      "2022-04-17 11:26:05 - src.train - INFO     [train.py:62] fold=4/24\n",
      "2022-04-17 11:26:05 - src.train - INFO     [train.py:63] reading cv index from data/cv_index/cv-model/silicate/fold_11.csv\n"
     ]
    },
    {
     "name": "stdout",
     "output_type": "stream",
     "text": [
      "[60]\ttrain's multi_logloss: 0.0162697\tvalid's multi_logloss: 0.409222\n",
      "Early stopping, best iteration is:\n",
      "[55]\ttrain's multi_logloss: 0.0205568\tvalid's multi_logloss: 0.402197\n",
      "Training until validation scores don't improve for 20 rounds\n",
      "[20]\ttrain's multi_logloss: 0.229967\tvalid's multi_logloss: 0.427122\n",
      "[40]\ttrain's multi_logloss: 0.053603\tvalid's multi_logloss: 0.303535\n",
      "[60]\ttrain's multi_logloss: 0.0175145\tvalid's multi_logloss: 0.280272\n"
     ]
    },
    {
     "name": "stderr",
     "output_type": "stream",
     "text": [
      "2022-04-17 11:26:06 - src.train - INFO     [train.py:133] elapsed training time: 0.011 min\n",
      "2022-04-17 11:26:06 - src.train - INFO     [train.py:62] fold=5/24\n",
      "2022-04-17 11:26:06 - src.train - INFO     [train.py:63] reading cv index from data/cv_index/cv-model/silicate/fold_12.csv\n"
     ]
    },
    {
     "name": "stdout",
     "output_type": "stream",
     "text": [
      "Early stopping, best iteration is:\n",
      "[58]\ttrain's multi_logloss: 0.0191464\tvalid's multi_logloss: 0.279338\n",
      "Training until validation scores don't improve for 20 rounds\n",
      "[20]\ttrain's multi_logloss: 0.220643\tvalid's multi_logloss: 0.54164\n",
      "[40]\ttrain's multi_logloss: 0.0508487\tvalid's multi_logloss: 0.432662\n"
     ]
    },
    {
     "name": "stderr",
     "output_type": "stream",
     "text": [
      "2022-04-17 11:26:06 - src.train - INFO     [train.py:133] elapsed training time: 0.008 min\n",
      "2022-04-17 11:26:06 - src.train - INFO     [train.py:62] fold=6/24\n",
      "2022-04-17 11:26:06 - src.train - INFO     [train.py:63] reading cv index from data/cv_index/cv-model/silicate/fold_13.csv\n"
     ]
    },
    {
     "name": "stdout",
     "output_type": "stream",
     "text": [
      "[60]\ttrain's multi_logloss: 0.01615\tvalid's multi_logloss: 0.416226\n",
      "[80]\ttrain's multi_logloss: 0.00826459\tvalid's multi_logloss: 0.416092\n",
      "Early stopping, best iteration is:\n",
      "[65]\ttrain's multi_logloss: 0.0132517\tvalid's multi_logloss: 0.410319\n",
      "Training until validation scores don't improve for 20 rounds\n",
      "[20]\ttrain's multi_logloss: 0.223105\tvalid's multi_logloss: 0.47948\n"
     ]
    },
    {
     "name": "stderr",
     "output_type": "stream",
     "text": [
      "2022-04-17 11:26:07 - src.train - INFO     [train.py:133] elapsed training time: 0.009 min\n",
      "2022-04-17 11:26:07 - src.train - INFO     [train.py:62] fold=7/24\n",
      "2022-04-17 11:26:07 - src.train - INFO     [train.py:63] reading cv index from data/cv_index/cv-model/silicate/fold_14.csv\n"
     ]
    },
    {
     "name": "stdout",
     "output_type": "stream",
     "text": [
      "[40]\ttrain's multi_logloss: 0.0493711\tvalid's multi_logloss: 0.360903\n",
      "[60]\ttrain's multi_logloss: 0.0159223\tvalid's multi_logloss: 0.35516\n",
      "Early stopping, best iteration is:\n",
      "[53]\ttrain's multi_logloss: 0.0223979\tvalid's multi_logloss: 0.354114\n",
      "Training until validation scores don't improve for 20 rounds\n",
      "[20]\ttrain's multi_logloss: 0.22193\tvalid's multi_logloss: 0.48781\n",
      "[40]\ttrain's multi_logloss: 0.0528086\tvalid's multi_logloss: 0.346359\n"
     ]
    },
    {
     "name": "stderr",
     "output_type": "stream",
     "text": [
      "2022-04-17 11:26:07 - src.train - INFO     [train.py:133] elapsed training time: 0.008 min\n",
      "2022-04-17 11:26:08 - src.train - INFO     [train.py:62] fold=8/24\n",
      "2022-04-17 11:26:08 - src.train - INFO     [train.py:63] reading cv index from data/cv_index/cv-model/silicate/fold_15.csv\n"
     ]
    },
    {
     "name": "stdout",
     "output_type": "stream",
     "text": [
      "[60]\ttrain's multi_logloss: 0.0169605\tvalid's multi_logloss: 0.331094\n",
      "[80]\ttrain's multi_logloss: 0.00880035\tvalid's multi_logloss: 0.334674\n",
      "Early stopping, best iteration is:\n",
      "[67]\ttrain's multi_logloss: 0.0128438\tvalid's multi_logloss: 0.330242\n",
      "Training until validation scores don't improve for 20 rounds\n",
      "[20]\ttrain's multi_logloss: 0.22163\tvalid's multi_logloss: 0.436148\n",
      "[40]\ttrain's multi_logloss: 0.0515439\tvalid's multi_logloss: 0.300982\n"
     ]
    },
    {
     "name": "stderr",
     "output_type": "stream",
     "text": [
      "2022-04-17 11:26:08 - src.train - INFO     [train.py:133] elapsed training time: 0.007 min\n",
      "2022-04-17 11:26:08 - src.train - INFO     [train.py:62] fold=9/24\n",
      "2022-04-17 11:26:08 - src.train - INFO     [train.py:63] reading cv index from data/cv_index/cv-model/silicate/fold_16.csv\n"
     ]
    },
    {
     "name": "stdout",
     "output_type": "stream",
     "text": [
      "[60]\ttrain's multi_logloss: 0.0169758\tvalid's multi_logloss: 0.287532\n",
      "[80]\ttrain's multi_logloss: 0.00891987\tvalid's multi_logloss: 0.277279\n",
      "Early stopping, best iteration is:\n",
      "[75]\ttrain's multi_logloss: 0.0100157\tvalid's multi_logloss: 0.276002\n",
      "Training until validation scores don't improve for 20 rounds\n",
      "[20]\ttrain's multi_logloss: 0.230418\tvalid's multi_logloss: 0.433978\n",
      "[40]\ttrain's multi_logloss: 0.0547514\tvalid's multi_logloss: 0.296771\n"
     ]
    },
    {
     "name": "stderr",
     "output_type": "stream",
     "text": [
      "2022-04-17 11:26:09 - src.train - INFO     [train.py:133] elapsed training time: 0.006 min\n",
      "2022-04-17 11:26:09 - src.train - INFO     [train.py:62] fold=10/24\n",
      "2022-04-17 11:26:09 - src.train - INFO     [train.py:63] reading cv index from data/cv_index/cv-model/silicate/fold_17.csv\n"
     ]
    },
    {
     "name": "stdout",
     "output_type": "stream",
     "text": [
      "[60]\ttrain's multi_logloss: 0.017744\tvalid's multi_logloss: 0.28183\n",
      "Early stopping, best iteration is:\n",
      "[54]\ttrain's multi_logloss: 0.0237306\tvalid's multi_logloss: 0.280047\n",
      "Training until validation scores don't improve for 20 rounds\n",
      "[20]\ttrain's multi_logloss: 0.231345\tvalid's multi_logloss: 0.425307\n",
      "[40]\ttrain's multi_logloss: 0.0540897\tvalid's multi_logloss: 0.278249\n"
     ]
    },
    {
     "name": "stderr",
     "output_type": "stream",
     "text": [
      "2022-04-17 11:26:09 - src.train - INFO     [train.py:133] elapsed training time: 0.009 min\n",
      "2022-04-17 11:26:09 - src.train - INFO     [train.py:62] fold=11/24\n",
      "2022-04-17 11:26:09 - src.train - INFO     [train.py:63] reading cv index from data/cv_index/cv-model/silicate/fold_18.csv\n"
     ]
    },
    {
     "name": "stdout",
     "output_type": "stream",
     "text": [
      "[60]\ttrain's multi_logloss: 0.0177839\tvalid's multi_logloss: 0.244854\n",
      "[80]\ttrain's multi_logloss: 0.00905639\tvalid's multi_logloss: 0.246393\n",
      "[100]\ttrain's multi_logloss: 0.00659377\tvalid's multi_logloss: 0.241353\n",
      "[120]\ttrain's multi_logloss: 0.00589009\tvalid's multi_logloss: 0.239469\n",
      "[140]\ttrain's multi_logloss: 0.00570651\tvalid's multi_logloss: 0.238724\n",
      "[160]\ttrain's multi_logloss: 0.0056577\tvalid's multi_logloss: 0.238802\n",
      "Early stopping, best iteration is:\n",
      "[141]\ttrain's multi_logloss: 0.0057038\tvalid's multi_logloss: 0.238641\n",
      "Training until validation scores don't improve for 20 rounds\n",
      "[20]\ttrain's multi_logloss: 0.216941\tvalid's multi_logloss: 0.480333\n",
      "[40]\ttrain's multi_logloss: 0.0493429\tvalid's multi_logloss: 0.392451\n"
     ]
    },
    {
     "name": "stderr",
     "output_type": "stream",
     "text": [
      "2022-04-17 11:26:10 - src.train - INFO     [train.py:133] elapsed training time: 0.014 min\n",
      "2022-04-17 11:26:10 - src.train - INFO     [train.py:62] fold=12/24\n",
      "2022-04-17 11:26:10 - src.train - INFO     [train.py:63] reading cv index from data/cv_index/cv-model/silicate/fold_19.csv\n"
     ]
    },
    {
     "name": "stdout",
     "output_type": "stream",
     "text": [
      "[60]\ttrain's multi_logloss: 0.0161512\tvalid's multi_logloss: 0.392235\n",
      "Early stopping, best iteration is:\n",
      "[50]\ttrain's multi_logloss: 0.026797\tvalid's multi_logloss: 0.382096\n",
      "Training until validation scores don't improve for 20 rounds\n",
      "[20]\ttrain's multi_logloss: 0.213103\tvalid's multi_logloss: 0.614512\n",
      "[40]\ttrain's multi_logloss: 0.0487439\tvalid's multi_logloss: 0.505585\n"
     ]
    },
    {
     "name": "stderr",
     "output_type": "stream",
     "text": [
      "2022-04-17 11:26:11 - src.train - INFO     [train.py:133] elapsed training time: 0.015 min\n",
      "2022-04-17 11:26:11 - src.train - INFO     [train.py:62] fold=13/24\n",
      "2022-04-17 11:26:11 - src.train - INFO     [train.py:63] reading cv index from data/cv_index/cv-model/silicate/fold_2.csv\n"
     ]
    },
    {
     "name": "stdout",
     "output_type": "stream",
     "text": [
      "[60]\ttrain's multi_logloss: 0.0153877\tvalid's multi_logloss: 0.508062\n",
      "Early stopping, best iteration is:\n",
      "[47]\ttrain's multi_logloss: 0.0304431\tvalid's multi_logloss: 0.49763\n",
      "Training until validation scores don't improve for 20 rounds\n",
      "[20]\ttrain's multi_logloss: 0.22045\tvalid's multi_logloss: 0.508788\n"
     ]
    },
    {
     "name": "stderr",
     "output_type": "stream",
     "text": [
      "2022-04-17 11:26:12 - src.train - INFO     [train.py:133] elapsed training time: 0.009 min\n",
      "2022-04-17 11:26:12 - src.train - INFO     [train.py:62] fold=14/24\n",
      "2022-04-17 11:26:12 - src.train - INFO     [train.py:63] reading cv index from data/cv_index/cv-model/silicate/fold_20.csv\n"
     ]
    },
    {
     "name": "stdout",
     "output_type": "stream",
     "text": [
      "[40]\ttrain's multi_logloss: 0.0504001\tvalid's multi_logloss: 0.406053\n",
      "[60]\ttrain's multi_logloss: 0.016687\tvalid's multi_logloss: 0.403726\n",
      "Early stopping, best iteration is:\n",
      "[50]\ttrain's multi_logloss: 0.0271344\tvalid's multi_logloss: 0.394045\n",
      "Training until validation scores don't improve for 20 rounds\n",
      "[20]\ttrain's multi_logloss: 0.223071\tvalid's multi_logloss: 0.473757\n",
      "[40]\ttrain's multi_logloss: 0.0506355\tvalid's multi_logloss: 0.417712\n"
     ]
    },
    {
     "name": "stderr",
     "output_type": "stream",
     "text": [
      "2022-04-17 11:26:12 - src.train - INFO     [train.py:133] elapsed training time: 0.006 min\n",
      "2022-04-17 11:26:12 - src.train - INFO     [train.py:62] fold=15/24\n",
      "2022-04-17 11:26:12 - src.train - INFO     [train.py:63] reading cv index from data/cv_index/cv-model/silicate/fold_21.csv\n"
     ]
    },
    {
     "name": "stdout",
     "output_type": "stream",
     "text": [
      "Early stopping, best iteration is:\n",
      "[36]\ttrain's multi_logloss: 0.0674212\tvalid's multi_logloss: 0.41324\n",
      "Training until validation scores don't improve for 20 rounds\n",
      "[20]\ttrain's multi_logloss: 0.230045\tvalid's multi_logloss: 0.385732\n",
      "[40]\ttrain's multi_logloss: 0.0537334\tvalid's multi_logloss: 0.2168\n",
      "[60]\ttrain's multi_logloss: 0.0176795\tvalid's multi_logloss: 0.175563\n",
      "[80]\ttrain's multi_logloss: 0.0092728\tvalid's multi_logloss: 0.164772\n",
      "[100]\ttrain's multi_logloss: 0.00665287\tvalid's multi_logloss: 0.156184\n"
     ]
    },
    {
     "name": "stderr",
     "output_type": "stream",
     "text": [
      "2022-04-17 11:26:13 - src.train - INFO     [train.py:133] elapsed training time: 0.011 min\n",
      "2022-04-17 11:26:13 - src.train - INFO     [train.py:62] fold=16/24\n",
      "2022-04-17 11:26:13 - src.train - INFO     [train.py:63] reading cv index from data/cv_index/cv-model/silicate/fold_22.csv\n"
     ]
    },
    {
     "name": "stdout",
     "output_type": "stream",
     "text": [
      "[120]\ttrain's multi_logloss: 0.00598947\tvalid's multi_logloss: 0.156483\n",
      "Early stopping, best iteration is:\n",
      "[107]\ttrain's multi_logloss: 0.00633786\tvalid's multi_logloss: 0.155005\n",
      "Training until validation scores don't improve for 20 rounds\n",
      "[20]\ttrain's multi_logloss: 0.221836\tvalid's multi_logloss: 0.394339\n",
      "[40]\ttrain's multi_logloss: 0.0507717\tvalid's multi_logloss: 0.32249\n"
     ]
    },
    {
     "name": "stderr",
     "output_type": "stream",
     "text": [
      "2022-04-17 11:26:14 - src.train - INFO     [train.py:133] elapsed training time: 0.007 min\n",
      "2022-04-17 11:26:14 - src.train - INFO     [train.py:62] fold=17/24\n",
      "2022-04-17 11:26:14 - src.train - INFO     [train.py:63] reading cv index from data/cv_index/cv-model/silicate/fold_23.csv\n"
     ]
    },
    {
     "name": "stdout",
     "output_type": "stream",
     "text": [
      "Early stopping, best iteration is:\n",
      "[39]\ttrain's multi_logloss: 0.0543025\tvalid's multi_logloss: 0.320944\n",
      "Training until validation scores don't improve for 20 rounds\n",
      "[20]\ttrain's multi_logloss: 0.226086\tvalid's multi_logloss: 0.392656\n",
      "[40]\ttrain's multi_logloss: 0.0524825\tvalid's multi_logloss: 0.274483\n"
     ]
    },
    {
     "name": "stderr",
     "output_type": "stream",
     "text": [
      "2022-04-17 11:26:14 - src.train - INFO     [train.py:133] elapsed training time: 0.008 min\n",
      "2022-04-17 11:26:14 - src.train - INFO     [train.py:62] fold=18/24\n",
      "2022-04-17 11:26:14 - src.train - INFO     [train.py:63] reading cv index from data/cv_index/cv-model/silicate/fold_3.csv\n"
     ]
    },
    {
     "name": "stdout",
     "output_type": "stream",
     "text": [
      "[60]\ttrain's multi_logloss: 0.0170623\tvalid's multi_logloss: 0.256434\n",
      "Early stopping, best iteration is:\n",
      "[55]\ttrain's multi_logloss: 0.021491\tvalid's multi_logloss: 0.25452\n",
      "Training until validation scores don't improve for 20 rounds\n",
      "[20]\ttrain's multi_logloss: 0.228733\tvalid's multi_logloss: 0.43852\n",
      "[40]\ttrain's multi_logloss: 0.051545\tvalid's multi_logloss: 0.320785\n"
     ]
    },
    {
     "name": "stderr",
     "output_type": "stream",
     "text": [
      "2022-04-17 11:26:15 - src.train - INFO     [train.py:133] elapsed training time: 0.009 min\n",
      "2022-04-17 11:26:15 - src.train - INFO     [train.py:62] fold=19/24\n",
      "2022-04-17 11:26:15 - src.train - INFO     [train.py:63] reading cv index from data/cv_index/cv-model/silicate/fold_4.csv\n"
     ]
    },
    {
     "name": "stdout",
     "output_type": "stream",
     "text": [
      "[60]\ttrain's multi_logloss: 0.0170883\tvalid's multi_logloss: 0.311375\n",
      "Early stopping, best iteration is:\n",
      "[58]\ttrain's multi_logloss: 0.0187191\tvalid's multi_logloss: 0.310998\n",
      "Training until validation scores don't improve for 20 rounds\n",
      "[20]\ttrain's multi_logloss: 0.220806\tvalid's multi_logloss: 0.44623\n",
      "[40]\ttrain's multi_logloss: 0.0492809\tvalid's multi_logloss: 0.347649\n"
     ]
    },
    {
     "name": "stderr",
     "output_type": "stream",
     "text": [
      "2022-04-17 11:26:15 - src.train - INFO     [train.py:133] elapsed training time: 0.006 min\n",
      "2022-04-17 11:26:15 - src.train - INFO     [train.py:62] fold=20/24\n",
      "2022-04-17 11:26:15 - src.train - INFO     [train.py:63] reading cv index from data/cv_index/cv-model/silicate/fold_5.csv\n"
     ]
    },
    {
     "name": "stdout",
     "output_type": "stream",
     "text": [
      "[60]\ttrain's multi_logloss: 0.0161664\tvalid's multi_logloss: 0.356342\n",
      "Early stopping, best iteration is:\n",
      "[41]\ttrain's multi_logloss: 0.0459654\tvalid's multi_logloss: 0.347046\n",
      "Training until validation scores don't improve for 20 rounds\n",
      "[20]\ttrain's multi_logloss: 0.226019\tvalid's multi_logloss: 0.460721\n",
      "[40]\ttrain's multi_logloss: 0.0524285\tvalid's multi_logloss: 0.314323\n"
     ]
    },
    {
     "name": "stderr",
     "output_type": "stream",
     "text": [
      "2022-04-17 11:26:16 - src.train - INFO     [train.py:133] elapsed training time: 0.008 min\n",
      "2022-04-17 11:26:16 - src.train - INFO     [train.py:62] fold=21/24\n",
      "2022-04-17 11:26:16 - src.train - INFO     [train.py:63] reading cv index from data/cv_index/cv-model/silicate/fold_6.csv\n"
     ]
    },
    {
     "name": "stdout",
     "output_type": "stream",
     "text": [
      "[60]\ttrain's multi_logloss: 0.0172378\tvalid's multi_logloss: 0.288715\n",
      "[80]\ttrain's multi_logloss: 0.00884726\tvalid's multi_logloss: 0.287739\n",
      "Early stopping, best iteration is:\n",
      "[64]\ttrain's multi_logloss: 0.0145654\tvalid's multi_logloss: 0.285939\n",
      "Training until validation scores don't improve for 20 rounds\n",
      "[20]\ttrain's multi_logloss: 0.220392\tvalid's multi_logloss: 0.547292\n"
     ]
    },
    {
     "name": "stderr",
     "output_type": "stream",
     "text": [
      "2022-04-17 11:26:17 - src.train - INFO     [train.py:133] elapsed training time: 0.008 min\n",
      "2022-04-17 11:26:17 - src.train - INFO     [train.py:62] fold=22/24\n",
      "2022-04-17 11:26:17 - src.train - INFO     [train.py:63] reading cv index from data/cv_index/cv-model/silicate/fold_7.csv\n"
     ]
    },
    {
     "name": "stdout",
     "output_type": "stream",
     "text": [
      "[40]\ttrain's multi_logloss: 0.0494165\tvalid's multi_logloss: 0.492948\n",
      "[60]\ttrain's multi_logloss: 0.0159431\tvalid's multi_logloss: 0.50347\n",
      "Early stopping, best iteration is:\n",
      "[43]\ttrain's multi_logloss: 0.0403153\tvalid's multi_logloss: 0.489714\n",
      "Training until validation scores don't improve for 20 rounds\n",
      "[20]\ttrain's multi_logloss: 0.224795\tvalid's multi_logloss: 0.428889\n"
     ]
    },
    {
     "name": "stderr",
     "output_type": "stream",
     "text": [
      "2022-04-17 11:26:17 - src.train - INFO     [train.py:133] elapsed training time: 0.009 min\n",
      "2022-04-17 11:26:17 - src.train - INFO     [train.py:62] fold=23/24\n",
      "2022-04-17 11:26:17 - src.train - INFO     [train.py:63] reading cv index from data/cv_index/cv-model/silicate/fold_8.csv\n"
     ]
    },
    {
     "name": "stdout",
     "output_type": "stream",
     "text": [
      "[40]\ttrain's multi_logloss: 0.0512717\tvalid's multi_logloss: 0.332067\n",
      "[60]\ttrain's multi_logloss: 0.0169717\tvalid's multi_logloss: 0.321611\n",
      "Early stopping, best iteration is:\n",
      "[59]\ttrain's multi_logloss: 0.017673\tvalid's multi_logloss: 0.318668\n",
      "Training until validation scores don't improve for 20 rounds\n",
      "[20]\ttrain's multi_logloss: 0.224506\tvalid's multi_logloss: 0.474293\n",
      "[40]\ttrain's multi_logloss: 0.0531187\tvalid's multi_logloss: 0.400942\n"
     ]
    },
    {
     "name": "stderr",
     "output_type": "stream",
     "text": [
      "2022-04-17 11:26:18 - src.train - INFO     [train.py:133] elapsed training time: 0.007 min\n",
      "2022-04-17 11:26:18 - src.train - INFO     [train.py:62] fold=24/24\n",
      "2022-04-17 11:26:18 - src.train - INFO     [train.py:63] reading cv index from data/cv_index/cv-model/silicate/fold_9.csv\n"
     ]
    },
    {
     "name": "stdout",
     "output_type": "stream",
     "text": [
      "[60]\ttrain's multi_logloss: 0.0174014\tvalid's multi_logloss: 0.398425\n",
      "Early stopping, best iteration is:\n",
      "[47]\ttrain's multi_logloss: 0.0344173\tvalid's multi_logloss: 0.390874\n",
      "Training until validation scores don't improve for 20 rounds\n",
      "[20]\ttrain's multi_logloss: 0.230152\tvalid's multi_logloss: 0.362192\n",
      "[40]\ttrain's multi_logloss: 0.0545608\tvalid's multi_logloss: 0.249327\n"
     ]
    },
    {
     "name": "stderr",
     "output_type": "stream",
     "text": [
      "2022-04-17 11:26:18 - src.train - INFO     [train.py:133] elapsed training time: 0.008 min\n",
      "2022-04-17 11:26:18 - src.train - INFO     [train.py:62] fold=1/24\n",
      "2022-04-17 11:26:18 - src.train - INFO     [train.py:63] reading cv index from data/cv_index/cv-model/silicate/fold_0.csv\n"
     ]
    },
    {
     "name": "stdout",
     "output_type": "stream",
     "text": [
      "[60]\ttrain's multi_logloss: 0.0179837\tvalid's multi_logloss: 0.23336\n",
      "[80]\ttrain's multi_logloss: 0.00920582\tvalid's multi_logloss: 0.235621\n",
      "Early stopping, best iteration is:\n",
      "[63]\ttrain's multi_logloss: 0.0158687\tvalid's multi_logloss: 0.229927\n",
      "62\n"
     ]
    },
    {
     "name": "stderr",
     "output_type": "stream",
     "text": [
      "2022-04-17 11:26:19 - src.train - INFO     [train.py:28] elapsed training time: 0.005 min\n",
      "2022-04-17 11:26:19 - src.train - INFO     [train.py:62] fold=2/24\n",
      "2022-04-17 11:26:19 - src.train - INFO     [train.py:63] reading cv index from data/cv_index/cv-model/silicate/fold_1.csv\n",
      "2022-04-17 11:26:19 - src.train - INFO     [train.py:28] elapsed training time: 0.006 min\n",
      "2022-04-17 11:26:19 - src.train - INFO     [train.py:62] fold=3/24\n",
      "2022-04-17 11:26:19 - src.train - INFO     [train.py:63] reading cv index from data/cv_index/cv-model/silicate/fold_10.csv\n",
      "2022-04-17 11:26:20 - src.train - INFO     [train.py:28] elapsed training time: 0.005 min\n",
      "2022-04-17 11:26:20 - src.train - INFO     [train.py:62] fold=4/24\n",
      "2022-04-17 11:26:20 - src.train - INFO     [train.py:63] reading cv index from data/cv_index/cv-model/silicate/fold_11.csv\n",
      "2022-04-17 11:26:20 - src.train - INFO     [train.py:28] elapsed training time: 0.006 min\n",
      "2022-04-17 11:26:20 - src.train - INFO     [train.py:62] fold=5/24\n",
      "2022-04-17 11:26:20 - src.train - INFO     [train.py:63] reading cv index from data/cv_index/cv-model/silicate/fold_12.csv\n",
      "2022-04-17 11:26:20 - src.train - INFO     [train.py:28] elapsed training time: 0.005 min\n",
      "2022-04-17 11:26:20 - src.train - INFO     [train.py:62] fold=6/24\n",
      "2022-04-17 11:26:20 - src.train - INFO     [train.py:63] reading cv index from data/cv_index/cv-model/silicate/fold_13.csv\n",
      "2022-04-17 11:26:21 - src.train - INFO     [train.py:28] elapsed training time: 0.005 min\n",
      "2022-04-17 11:26:21 - src.train - INFO     [train.py:62] fold=7/24\n",
      "2022-04-17 11:26:21 - src.train - INFO     [train.py:63] reading cv index from data/cv_index/cv-model/silicate/fold_14.csv\n",
      "2022-04-17 11:26:21 - src.train - INFO     [train.py:28] elapsed training time: 0.006 min\n",
      "2022-04-17 11:26:21 - src.train - INFO     [train.py:62] fold=8/24\n",
      "2022-04-17 11:26:21 - src.train - INFO     [train.py:63] reading cv index from data/cv_index/cv-model/silicate/fold_15.csv\n",
      "2022-04-17 11:26:22 - src.train - INFO     [train.py:28] elapsed training time: 0.010 min\n",
      "2022-04-17 11:26:22 - src.train - INFO     [train.py:62] fold=9/24\n",
      "2022-04-17 11:26:22 - src.train - INFO     [train.py:63] reading cv index from data/cv_index/cv-model/silicate/fold_16.csv\n",
      "2022-04-17 11:26:23 - src.train - INFO     [train.py:28] elapsed training time: 0.006 min\n",
      "2022-04-17 11:26:23 - src.train - INFO     [train.py:62] fold=10/24\n",
      "2022-04-17 11:26:23 - src.train - INFO     [train.py:63] reading cv index from data/cv_index/cv-model/silicate/fold_17.csv\n",
      "2022-04-17 11:26:23 - src.train - INFO     [train.py:28] elapsed training time: 0.010 min\n",
      "2022-04-17 11:26:23 - src.train - INFO     [train.py:62] fold=11/24\n",
      "2022-04-17 11:26:23 - src.train - INFO     [train.py:63] reading cv index from data/cv_index/cv-model/silicate/fold_18.csv\n",
      "2022-04-17 11:26:24 - src.train - INFO     [train.py:28] elapsed training time: 0.005 min\n",
      "2022-04-17 11:26:24 - src.train - INFO     [train.py:62] fold=12/24\n",
      "2022-04-17 11:26:24 - src.train - INFO     [train.py:63] reading cv index from data/cv_index/cv-model/silicate/fold_19.csv\n",
      "2022-04-17 11:26:24 - src.train - INFO     [train.py:28] elapsed training time: 0.006 min\n",
      "2022-04-17 11:26:24 - src.train - INFO     [train.py:62] fold=13/24\n",
      "2022-04-17 11:26:24 - src.train - INFO     [train.py:63] reading cv index from data/cv_index/cv-model/silicate/fold_2.csv\n",
      "2022-04-17 11:26:25 - src.train - INFO     [train.py:28] elapsed training time: 0.014 min\n",
      "2022-04-17 11:26:25 - src.train - INFO     [train.py:62] fold=14/24\n",
      "2022-04-17 11:26:25 - src.train - INFO     [train.py:63] reading cv index from data/cv_index/cv-model/silicate/fold_20.csv\n",
      "2022-04-17 11:26:25 - src.train - INFO     [train.py:28] elapsed training time: 0.005 min\n",
      "2022-04-17 11:26:25 - src.train - INFO     [train.py:62] fold=15/24\n",
      "2022-04-17 11:26:26 - src.train - INFO     [train.py:63] reading cv index from data/cv_index/cv-model/silicate/fold_21.csv\n",
      "2022-04-17 11:26:26 - src.train - INFO     [train.py:28] elapsed training time: 0.006 min\n",
      "2022-04-17 11:26:26 - src.train - INFO     [train.py:62] fold=16/24\n",
      "2022-04-17 11:26:26 - src.train - INFO     [train.py:63] reading cv index from data/cv_index/cv-model/silicate/fold_22.csv\n",
      "2022-04-17 11:26:26 - src.train - INFO     [train.py:28] elapsed training time: 0.006 min\n",
      "2022-04-17 11:26:26 - src.train - INFO     [train.py:62] fold=17/24\n",
      "2022-04-17 11:26:26 - src.train - INFO     [train.py:63] reading cv index from data/cv_index/cv-model/silicate/fold_23.csv\n",
      "2022-04-17 11:26:27 - src.train - INFO     [train.py:28] elapsed training time: 0.006 min\n",
      "2022-04-17 11:26:27 - src.train - INFO     [train.py:62] fold=18/24\n",
      "2022-04-17 11:26:27 - src.train - INFO     [train.py:63] reading cv index from data/cv_index/cv-model/silicate/fold_3.csv\n",
      "2022-04-17 11:26:27 - src.train - INFO     [train.py:28] elapsed training time: 0.007 min\n",
      "2022-04-17 11:26:27 - src.train - INFO     [train.py:62] fold=19/24\n",
      "2022-04-17 11:26:27 - src.train - INFO     [train.py:63] reading cv index from data/cv_index/cv-model/silicate/fold_4.csv\n",
      "2022-04-17 11:26:28 - src.train - INFO     [train.py:28] elapsed training time: 0.010 min\n",
      "2022-04-17 11:26:28 - src.train - INFO     [train.py:62] fold=20/24\n",
      "2022-04-17 11:26:28 - src.train - INFO     [train.py:63] reading cv index from data/cv_index/cv-model/silicate/fold_5.csv\n",
      "2022-04-17 11:26:29 - src.train - INFO     [train.py:28] elapsed training time: 0.006 min\n",
      "2022-04-17 11:26:29 - src.train - INFO     [train.py:62] fold=21/24\n",
      "2022-04-17 11:26:29 - src.train - INFO     [train.py:63] reading cv index from data/cv_index/cv-model/silicate/fold_6.csv\n",
      "2022-04-17 11:26:29 - src.train - INFO     [train.py:28] elapsed training time: 0.007 min\n",
      "2022-04-17 11:26:29 - src.train - INFO     [train.py:62] fold=22/24\n",
      "2022-04-17 11:26:29 - src.train - INFO     [train.py:63] reading cv index from data/cv_index/cv-model/silicate/fold_7.csv\n",
      "2022-04-17 11:26:30 - src.train - INFO     [train.py:28] elapsed training time: 0.007 min\n",
      "2022-04-17 11:26:30 - src.train - INFO     [train.py:62] fold=23/24\n",
      "2022-04-17 11:26:30 - src.train - INFO     [train.py:63] reading cv index from data/cv_index/cv-model/silicate/fold_8.csv\n",
      "2022-04-17 11:26:30 - src.train - INFO     [train.py:28] elapsed training time: 0.006 min\n",
      "2022-04-17 11:26:30 - src.train - INFO     [train.py:62] fold=24/24\n",
      "2022-04-17 11:26:30 - src.train - INFO     [train.py:63] reading cv index from data/cv_index/cv-model/silicate/fold_9.csv\n",
      "2022-04-17 11:26:31 - src.train - INFO     [train.py:28] elapsed training time: 0.006 min\n",
      "2022-04-17 11:26:31 - src.train - INFO     [train.py:62] fold=1/24\n",
      "2022-04-17 11:26:31 - src.train - INFO     [train.py:63] reading cv index from data/cv_index/cv-model/sulfate/fold_0.csv\n"
     ]
    },
    {
     "name": "stdout",
     "output_type": "stream",
     "text": [
      "Training until validation scores don't improve for 20 rounds\n",
      "[20]\ttrain's multi_logloss: 0.232216\tvalid's multi_logloss: 0.44654\n",
      "[40]\ttrain's multi_logloss: 0.0554344\tvalid's multi_logloss: 0.292809\n",
      "[60]\ttrain's multi_logloss: 0.0180792\tvalid's multi_logloss: 0.26892\n"
     ]
    },
    {
     "name": "stderr",
     "output_type": "stream",
     "text": [
      "2022-04-17 11:26:32 - src.train - INFO     [train.py:133] elapsed training time: 0.015 min\n",
      "2022-04-17 11:26:32 - src.train - INFO     [train.py:62] fold=2/24\n",
      "2022-04-17 11:26:32 - src.train - INFO     [train.py:63] reading cv index from data/cv_index/cv-model/sulfate/fold_1.csv\n"
     ]
    },
    {
     "name": "stdout",
     "output_type": "stream",
     "text": [
      "[80]\ttrain's multi_logloss: 0.00913173\tvalid's multi_logloss: 0.261233\n",
      "[100]\ttrain's multi_logloss: 0.00655162\tvalid's multi_logloss: 0.258464\n",
      "Early stopping, best iteration is:\n",
      "[94]\ttrain's multi_logloss: 0.00705877\tvalid's multi_logloss: 0.25725\n",
      "Training until validation scores don't improve for 20 rounds\n",
      "[20]\ttrain's multi_logloss: 0.232774\tvalid's multi_logloss: 0.464905\n",
      "[40]\ttrain's multi_logloss: 0.0559472\tvalid's multi_logloss: 0.348189\n",
      "[60]\ttrain's multi_logloss: 0.0188168\tvalid's multi_logloss: 0.328743\n"
     ]
    },
    {
     "name": "stderr",
     "output_type": "stream",
     "text": [
      "2022-04-17 11:26:32 - src.train - INFO     [train.py:133] elapsed training time: 0.010 min\n",
      "2022-04-17 11:26:32 - src.train - INFO     [train.py:62] fold=3/24\n",
      "2022-04-17 11:26:32 - src.train - INFO     [train.py:63] reading cv index from data/cv_index/cv-model/sulfate/fold_10.csv\n"
     ]
    },
    {
     "name": "stdout",
     "output_type": "stream",
     "text": [
      "[80]\ttrain's multi_logloss: 0.00953745\tvalid's multi_logloss: 0.329932\n",
      "Early stopping, best iteration is:\n",
      "[70]\ttrain's multi_logloss: 0.0127194\tvalid's multi_logloss: 0.32613\n",
      "Training until validation scores don't improve for 20 rounds\n",
      "[20]\ttrain's multi_logloss: 0.234506\tvalid's multi_logloss: 0.480434\n"
     ]
    },
    {
     "name": "stderr",
     "output_type": "stream",
     "text": [
      "2022-04-17 11:26:33 - src.train - INFO     [train.py:133] elapsed training time: 0.007 min\n",
      "2022-04-17 11:26:33 - src.train - INFO     [train.py:62] fold=4/24\n",
      "2022-04-17 11:26:33 - src.train - INFO     [train.py:63] reading cv index from data/cv_index/cv-model/sulfate/fold_11.csv\n"
     ]
    },
    {
     "name": "stdout",
     "output_type": "stream",
     "text": [
      "[40]\ttrain's multi_logloss: 0.0556648\tvalid's multi_logloss: 0.395742\n",
      "Early stopping, best iteration is:\n",
      "[36]\ttrain's multi_logloss: 0.0729282\tvalid's multi_logloss: 0.390539\n",
      "Training until validation scores don't improve for 20 rounds\n",
      "[20]\ttrain's multi_logloss: 0.227572\tvalid's multi_logloss: 0.520834\n",
      "[40]\ttrain's multi_logloss: 0.0545601\tvalid's multi_logloss: 0.433235\n"
     ]
    },
    {
     "name": "stderr",
     "output_type": "stream",
     "text": [
      "2022-04-17 11:26:34 - src.train - INFO     [train.py:133] elapsed training time: 0.018 min\n",
      "2022-04-17 11:26:34 - src.train - INFO     [train.py:62] fold=5/24\n",
      "2022-04-17 11:26:34 - src.train - INFO     [train.py:63] reading cv index from data/cv_index/cv-model/sulfate/fold_12.csv\n"
     ]
    },
    {
     "name": "stdout",
     "output_type": "stream",
     "text": [
      "[60]\ttrain's multi_logloss: 0.0180988\tvalid's multi_logloss: 0.418179\n",
      "Early stopping, best iteration is:\n",
      "[58]\ttrain's multi_logloss: 0.0198479\tvalid's multi_logloss: 0.413709\n",
      "Training until validation scores don't improve for 20 rounds\n",
      "[20]\ttrain's multi_logloss: 0.228187\tvalid's multi_logloss: 0.527896\n"
     ]
    },
    {
     "name": "stderr",
     "output_type": "stream",
     "text": [
      "2022-04-17 11:26:35 - src.train - INFO     [train.py:133] elapsed training time: 0.010 min\n",
      "2022-04-17 11:26:35 - src.train - INFO     [train.py:62] fold=6/24\n",
      "2022-04-17 11:26:35 - src.train - INFO     [train.py:63] reading cv index from data/cv_index/cv-model/sulfate/fold_13.csv\n"
     ]
    },
    {
     "name": "stdout",
     "output_type": "stream",
     "text": [
      "[40]\ttrain's multi_logloss: 0.0536299\tvalid's multi_logloss: 0.433619\n",
      "[60]\ttrain's multi_logloss: 0.017523\tvalid's multi_logloss: 0.43202\n",
      "Early stopping, best iteration is:\n",
      "[48]\ttrain's multi_logloss: 0.0324268\tvalid's multi_logloss: 0.423122\n",
      "Training until validation scores don't improve for 20 rounds\n",
      "[20]\ttrain's multi_logloss: 0.231714\tvalid's multi_logloss: 0.507021\n",
      "[40]\ttrain's multi_logloss: 0.0554286\tvalid's multi_logloss: 0.424158\n"
     ]
    },
    {
     "name": "stderr",
     "output_type": "stream",
     "text": [
      "2022-04-17 11:26:36 - src.train - INFO     [train.py:133] elapsed training time: 0.010 min\n",
      "2022-04-17 11:26:36 - src.train - INFO     [train.py:62] fold=7/24\n",
      "2022-04-17 11:26:36 - src.train - INFO     [train.py:63] reading cv index from data/cv_index/cv-model/sulfate/fold_14.csv\n"
     ]
    },
    {
     "name": "stdout",
     "output_type": "stream",
     "text": [
      "[60]\ttrain's multi_logloss: 0.0177273\tvalid's multi_logloss: 0.434164\n",
      "Early stopping, best iteration is:\n",
      "[50]\ttrain's multi_logloss: 0.0294197\tvalid's multi_logloss: 0.419755\n",
      "Training until validation scores don't improve for 20 rounds\n",
      "[20]\ttrain's multi_logloss: 0.228297\tvalid's multi_logloss: 0.518775\n",
      "[40]\ttrain's multi_logloss: 0.0538455\tvalid's multi_logloss: 0.373361\n",
      "[60]\ttrain's multi_logloss: 0.0179219\tvalid's multi_logloss: 0.344929\n"
     ]
    },
    {
     "name": "stderr",
     "output_type": "stream",
     "text": [
      "2022-04-17 11:26:37 - src.train - INFO     [train.py:133] elapsed training time: 0.011 min\n",
      "2022-04-17 11:26:37 - src.train - INFO     [train.py:62] fold=8/24\n",
      "2022-04-17 11:26:37 - src.train - INFO     [train.py:63] reading cv index from data/cv_index/cv-model/sulfate/fold_15.csv\n"
     ]
    },
    {
     "name": "stdout",
     "output_type": "stream",
     "text": [
      "[80]\ttrain's multi_logloss: 0.00916344\tvalid's multi_logloss: 0.341248\n",
      "Early stopping, best iteration is:\n",
      "[66]\ttrain's multi_logloss: 0.0140934\tvalid's multi_logloss: 0.338459\n",
      "Training until validation scores don't improve for 20 rounds\n",
      "[20]\ttrain's multi_logloss: 0.226914\tvalid's multi_logloss: 0.460509\n"
     ]
    },
    {
     "name": "stderr",
     "output_type": "stream",
     "text": [
      "2022-04-17 11:26:37 - src.train - INFO     [train.py:133] elapsed training time: 0.010 min\n",
      "2022-04-17 11:26:37 - src.train - INFO     [train.py:62] fold=9/24\n",
      "2022-04-17 11:26:37 - src.train - INFO     [train.py:63] reading cv index from data/cv_index/cv-model/sulfate/fold_16.csv\n"
     ]
    },
    {
     "name": "stdout",
     "output_type": "stream",
     "text": [
      "[40]\ttrain's multi_logloss: 0.0537669\tvalid's multi_logloss: 0.336332\n",
      "[60]\ttrain's multi_logloss: 0.0179415\tvalid's multi_logloss: 0.322765\n",
      "[80]\ttrain's multi_logloss: 0.00918885\tvalid's multi_logloss: 0.335226\n",
      "Early stopping, best iteration is:\n",
      "[60]\ttrain's multi_logloss: 0.0179415\tvalid's multi_logloss: 0.322765\n",
      "Training until validation scores don't improve for 20 rounds\n",
      "[20]\ttrain's multi_logloss: 0.23948\tvalid's multi_logloss: 0.41024\n",
      "[40]\ttrain's multi_logloss: 0.0590599\tvalid's multi_logloss: 0.263597\n",
      "[60]\ttrain's multi_logloss: 0.0193917\tvalid's multi_logloss: 0.226898\n"
     ]
    },
    {
     "name": "stderr",
     "output_type": "stream",
     "text": [
      "2022-04-17 11:26:38 - src.train - INFO     [train.py:133] elapsed training time: 0.014 min\n",
      "2022-04-17 11:26:38 - src.train - INFO     [train.py:62] fold=10/24\n",
      "2022-04-17 11:26:38 - src.train - INFO     [train.py:63] reading cv index from data/cv_index/cv-model/sulfate/fold_17.csv\n"
     ]
    },
    {
     "name": "stdout",
     "output_type": "stream",
     "text": [
      "[80]\ttrain's multi_logloss: 0.00985049\tvalid's multi_logloss: 0.220263\n",
      "[100]\ttrain's multi_logloss: 0.00695213\tvalid's multi_logloss: 0.216254\n",
      "[120]\ttrain's multi_logloss: 0.00616782\tvalid's multi_logloss: 0.216275\n",
      "Early stopping, best iteration is:\n",
      "[109]\ttrain's multi_logloss: 0.00644371\tvalid's multi_logloss: 0.214551\n",
      "Training until validation scores don't improve for 20 rounds\n",
      "[20]\ttrain's multi_logloss: 0.238265\tvalid's multi_logloss: 0.437952\n",
      "[40]\ttrain's multi_logloss: 0.0577865\tvalid's multi_logloss: 0.328063\n",
      "[60]\ttrain's multi_logloss: 0.0186688\tvalid's multi_logloss: 0.312893\n",
      "[80]\ttrain's multi_logloss: 0.00946799\tvalid's multi_logloss: 0.300794\n",
      "[100]\ttrain's multi_logloss: 0.00679804\tvalid's multi_logloss: 0.297389\n",
      "[120]\ttrain's multi_logloss: 0.00605178\tvalid's multi_logloss: 0.2952\n"
     ]
    },
    {
     "name": "stderr",
     "output_type": "stream",
     "text": [
      "2022-04-17 11:26:39 - src.train - INFO     [train.py:133] elapsed training time: 0.012 min\n",
      "2022-04-17 11:26:39 - src.train - INFO     [train.py:62] fold=11/24\n",
      "2022-04-17 11:26:39 - src.train - INFO     [train.py:63] reading cv index from data/cv_index/cv-model/sulfate/fold_18.csv\n"
     ]
    },
    {
     "name": "stdout",
     "output_type": "stream",
     "text": [
      "[140]\ttrain's multi_logloss: 0.00576952\tvalid's multi_logloss: 0.293241\n",
      "Early stopping, best iteration is:\n",
      "[135]\ttrain's multi_logloss: 0.00580596\tvalid's multi_logloss: 0.293064\n",
      "Training until validation scores don't improve for 20 rounds\n",
      "[20]\ttrain's multi_logloss: 0.221353\tvalid's multi_logloss: 0.540396\n"
     ]
    },
    {
     "name": "stderr",
     "output_type": "stream",
     "text": [
      "2022-04-17 11:26:40 - src.train - INFO     [train.py:133] elapsed training time: 0.009 min\n",
      "2022-04-17 11:26:40 - src.train - INFO     [train.py:62] fold=12/24\n",
      "2022-04-17 11:26:40 - src.train - INFO     [train.py:63] reading cv index from data/cv_index/cv-model/sulfate/fold_19.csv\n"
     ]
    },
    {
     "name": "stdout",
     "output_type": "stream",
     "text": [
      "[40]\ttrain's multi_logloss: 0.0516971\tvalid's multi_logloss: 0.493095\n",
      "Early stopping, best iteration is:\n",
      "[29]\ttrain's multi_logloss: 0.112073\tvalid's multi_logloss: 0.488816\n",
      "Training until validation scores don't improve for 20 rounds\n",
      "[20]\ttrain's multi_logloss: 0.235702\tvalid's multi_logloss: 0.567251\n"
     ]
    },
    {
     "name": "stderr",
     "output_type": "stream",
     "text": [
      "2022-04-17 11:26:40 - src.train - INFO     [train.py:133] elapsed training time: 0.008 min\n",
      "2022-04-17 11:26:40 - src.train - INFO     [train.py:62] fold=13/24\n",
      "2022-04-17 11:26:40 - src.train - INFO     [train.py:63] reading cv index from data/cv_index/cv-model/sulfate/fold_2.csv\n"
     ]
    },
    {
     "name": "stdout",
     "output_type": "stream",
     "text": [
      "[40]\ttrain's multi_logloss: 0.0543485\tvalid's multi_logloss: 0.446191\n",
      "Early stopping, best iteration is:\n",
      "[39]\ttrain's multi_logloss: 0.0583763\tvalid's multi_logloss: 0.445035\n",
      "Training until validation scores don't improve for 20 rounds\n",
      "[20]\ttrain's multi_logloss: 0.231398\tvalid's multi_logloss: 0.527514\n"
     ]
    },
    {
     "name": "stderr",
     "output_type": "stream",
     "text": [
      "2022-04-17 11:26:41 - src.train - INFO     [train.py:133] elapsed training time: 0.008 min\n",
      "2022-04-17 11:26:41 - src.train - INFO     [train.py:62] fold=14/24\n",
      "2022-04-17 11:26:41 - src.train - INFO     [train.py:63] reading cv index from data/cv_index/cv-model/sulfate/fold_20.csv\n"
     ]
    },
    {
     "name": "stdout",
     "output_type": "stream",
     "text": [
      "[40]\ttrain's multi_logloss: 0.0542415\tvalid's multi_logloss: 0.455509\n",
      "[60]\ttrain's multi_logloss: 0.0177487\tvalid's multi_logloss: 0.474458\n",
      "Early stopping, best iteration is:\n",
      "[40]\ttrain's multi_logloss: 0.0542415\tvalid's multi_logloss: 0.455509\n",
      "Training until validation scores don't improve for 20 rounds\n",
      "[20]\ttrain's multi_logloss: 0.228251\tvalid's multi_logloss: 0.540595\n",
      "[40]\ttrain's multi_logloss: 0.0533256\tvalid's multi_logloss: 0.449778\n",
      "[60]\ttrain's multi_logloss: 0.0174612\tvalid's multi_logloss: 0.443269\n",
      "Early stopping, best iteration is:\n",
      "[53]\ttrain's multi_logloss: 0.0246741\tvalid's multi_logloss: 0.441359\n"
     ]
    },
    {
     "name": "stderr",
     "output_type": "stream",
     "text": [
      "2022-04-17 11:26:42 - src.train - INFO     [train.py:133] elapsed training time: 0.010 min\n",
      "2022-04-17 11:26:42 - src.train - INFO     [train.py:62] fold=15/24\n",
      "2022-04-17 11:26:42 - src.train - INFO     [train.py:63] reading cv index from data/cv_index/cv-model/sulfate/fold_21.csv\n"
     ]
    },
    {
     "name": "stdout",
     "output_type": "stream",
     "text": [
      "Training until validation scores don't improve for 20 rounds\n",
      "[20]\ttrain's multi_logloss: 0.227294\tvalid's multi_logloss: 0.550911\n"
     ]
    },
    {
     "name": "stderr",
     "output_type": "stream",
     "text": [
      "2022-04-17 11:26:42 - src.train - INFO     [train.py:133] elapsed training time: 0.010 min\n",
      "2022-04-17 11:26:42 - src.train - INFO     [train.py:62] fold=16/24\n",
      "2022-04-17 11:26:42 - src.train - INFO     [train.py:63] reading cv index from data/cv_index/cv-model/sulfate/fold_22.csv\n"
     ]
    },
    {
     "name": "stdout",
     "output_type": "stream",
     "text": [
      "[40]\ttrain's multi_logloss: 0.0549622\tvalid's multi_logloss: 0.437978\n",
      "[60]\ttrain's multi_logloss: 0.0181005\tvalid's multi_logloss: 0.439995\n",
      "Early stopping, best iteration is:\n",
      "[40]\ttrain's multi_logloss: 0.0549622\tvalid's multi_logloss: 0.437978\n",
      "Training until validation scores don't improve for 20 rounds\n",
      "[20]\ttrain's multi_logloss: 0.243616\tvalid's multi_logloss: 0.418602\n"
     ]
    },
    {
     "name": "stderr",
     "output_type": "stream",
     "text": [
      "2022-04-17 11:26:43 - src.train - INFO     [train.py:133] elapsed training time: 0.010 min\n"
     ]
    },
    {
     "name": "stdout",
     "output_type": "stream",
     "text": [
      "[40]\ttrain's multi_logloss: 0.0586031\tvalid's multi_logloss: 0.298353\n",
      "[60]\ttrain's multi_logloss: 0.0194405\tvalid's multi_logloss: 0.291148\n",
      "Early stopping, best iteration is:\n",
      "[50]\ttrain's multi_logloss: 0.0320096\tvalid's multi_logloss: 0.28348\n"
     ]
    },
    {
     "name": "stderr",
     "output_type": "stream",
     "text": [
      "2022-04-17 11:26:43 - src.train - INFO     [train.py:62] fold=17/24\n",
      "2022-04-17 11:26:43 - src.train - INFO     [train.py:63] reading cv index from data/cv_index/cv-model/sulfate/fold_23.csv\n"
     ]
    },
    {
     "name": "stdout",
     "output_type": "stream",
     "text": [
      "Training until validation scores don't improve for 20 rounds\n",
      "[20]\ttrain's multi_logloss: 0.232771\tvalid's multi_logloss: 0.522787\n",
      "[40]\ttrain's multi_logloss: 0.0544027\tvalid's multi_logloss: 0.352428\n",
      "[60]\ttrain's multi_logloss: 0.0179347\tvalid's multi_logloss: 0.318555\n",
      "[80]\ttrain's multi_logloss: 0.00917919\tvalid's multi_logloss: 0.315485\n"
     ]
    },
    {
     "name": "stderr",
     "output_type": "stream",
     "text": [
      "2022-04-17 11:26:44 - src.train - INFO     [train.py:133] elapsed training time: 0.012 min\n",
      "2022-04-17 11:26:44 - src.train - INFO     [train.py:62] fold=18/24\n",
      "2022-04-17 11:26:44 - src.train - INFO     [train.py:63] reading cv index from data/cv_index/cv-model/sulfate/fold_3.csv\n"
     ]
    },
    {
     "name": "stdout",
     "output_type": "stream",
     "text": [
      "[100]\ttrain's multi_logloss: 0.00674209\tvalid's multi_logloss: 0.315846\n",
      "Early stopping, best iteration is:\n",
      "[86]\ttrain's multi_logloss: 0.00817844\tvalid's multi_logloss: 0.313463\n",
      "Training until validation scores don't improve for 20 rounds\n",
      "[20]\ttrain's multi_logloss: 0.227492\tvalid's multi_logloss: 0.497882\n"
     ]
    },
    {
     "name": "stderr",
     "output_type": "stream",
     "text": [
      "2022-04-17 11:26:45 - src.train - INFO     [train.py:133] elapsed training time: 0.008 min\n",
      "2022-04-17 11:26:45 - src.train - INFO     [train.py:62] fold=19/24\n",
      "2022-04-17 11:26:45 - src.train - INFO     [train.py:63] reading cv index from data/cv_index/cv-model/sulfate/fold_4.csv\n"
     ]
    },
    {
     "name": "stdout",
     "output_type": "stream",
     "text": [
      "[40]\ttrain's multi_logloss: 0.0550524\tvalid's multi_logloss: 0.41587\n",
      "Early stopping, best iteration is:\n",
      "[37]\ttrain's multi_logloss: 0.0670293\tvalid's multi_logloss: 0.412508\n",
      "Training until validation scores don't improve for 20 rounds\n",
      "[20]\ttrain's multi_logloss: 0.236564\tvalid's multi_logloss: 0.431396\n",
      "[40]\ttrain's multi_logloss: 0.0568727\tvalid's multi_logloss: 0.267654\n",
      "[60]\ttrain's multi_logloss: 0.0183623\tvalid's multi_logloss: 0.229369\n"
     ]
    },
    {
     "name": "stderr",
     "output_type": "stream",
     "text": [
      "2022-04-17 11:26:46 - src.train - INFO     [train.py:133] elapsed training time: 0.012 min\n",
      "2022-04-17 11:26:46 - src.train - INFO     [train.py:62] fold=20/24\n",
      "2022-04-17 11:26:46 - src.train - INFO     [train.py:63] reading cv index from data/cv_index/cv-model/sulfate/fold_5.csv\n"
     ]
    },
    {
     "name": "stdout",
     "output_type": "stream",
     "text": [
      "[80]\ttrain's multi_logloss: 0.00933656\tvalid's multi_logloss: 0.220786\n",
      "Early stopping, best iteration is:\n",
      "[79]\ttrain's multi_logloss: 0.00956646\tvalid's multi_logloss: 0.219253\n",
      "Training until validation scores don't improve for 20 rounds\n",
      "[20]\ttrain's multi_logloss: 0.235034\tvalid's multi_logloss: 0.584441\n"
     ]
    },
    {
     "name": "stderr",
     "output_type": "stream",
     "text": [
      "2022-04-17 11:26:46 - src.train - INFO     [train.py:133] elapsed training time: 0.010 min\n",
      "2022-04-17 11:26:46 - src.train - INFO     [train.py:62] fold=21/24\n",
      "2022-04-17 11:26:46 - src.train - INFO     [train.py:63] reading cv index from data/cv_index/cv-model/sulfate/fold_6.csv\n"
     ]
    },
    {
     "name": "stdout",
     "output_type": "stream",
     "text": [
      "[40]\ttrain's multi_logloss: 0.055853\tvalid's multi_logloss: 0.474775\n",
      "[60]\ttrain's multi_logloss: 0.0183666\tvalid's multi_logloss: 0.463976\n",
      "Early stopping, best iteration is:\n",
      "[46]\ttrain's multi_logloss: 0.0382506\tvalid's multi_logloss: 0.462135\n",
      "Training until validation scores don't improve for 20 rounds\n",
      "[20]\ttrain's multi_logloss: 0.222691\tvalid's multi_logloss: 0.577779\n"
     ]
    },
    {
     "name": "stderr",
     "output_type": "stream",
     "text": [
      "2022-04-17 11:26:47 - src.train - INFO     [train.py:133] elapsed training time: 0.009 min\n",
      "2022-04-17 11:26:47 - src.train - INFO     [train.py:62] fold=22/24\n",
      "2022-04-17 11:26:47 - src.train - INFO     [train.py:63] reading cv index from data/cv_index/cv-model/sulfate/fold_7.csv\n"
     ]
    },
    {
     "name": "stdout",
     "output_type": "stream",
     "text": [
      "[40]\ttrain's multi_logloss: 0.0519968\tvalid's multi_logloss: 0.546708\n",
      "Early stopping, best iteration is:\n",
      "[37]\ttrain's multi_logloss: 0.063761\tvalid's multi_logloss: 0.542711\n",
      "Training until validation scores don't improve for 20 rounds\n",
      "[20]\ttrain's multi_logloss: 0.242901\tvalid's multi_logloss: 0.494503\n",
      "[40]\ttrain's multi_logloss: 0.0568574\tvalid's multi_logloss: 0.35018\n",
      "[60]\ttrain's multi_logloss: 0.0185357\tvalid's multi_logloss: 0.337063\n"
     ]
    },
    {
     "name": "stderr",
     "output_type": "stream",
     "text": [
      "2022-04-17 11:26:48 - src.train - INFO     [train.py:133] elapsed training time: 0.011 min\n",
      "2022-04-17 11:26:48 - src.train - INFO     [train.py:62] fold=23/24\n",
      "2022-04-17 11:26:48 - src.train - INFO     [train.py:63] reading cv index from data/cv_index/cv-model/sulfate/fold_8.csv\n"
     ]
    },
    {
     "name": "stdout",
     "output_type": "stream",
     "text": [
      "[80]\ttrain's multi_logloss: 0.00944089\tvalid's multi_logloss: 0.343951\n",
      "Early stopping, best iteration is:\n",
      "[63]\ttrain's multi_logloss: 0.0163673\tvalid's multi_logloss: 0.334798\n",
      "Training until validation scores don't improve for 20 rounds\n",
      "[20]\ttrain's multi_logloss: 0.230622\tvalid's multi_logloss: 0.538402\n",
      "[40]\ttrain's multi_logloss: 0.0534727\tvalid's multi_logloss: 0.432787\n",
      "[60]\ttrain's multi_logloss: 0.0176163\tvalid's multi_logloss: 0.431121\n",
      "[80]\ttrain's multi_logloss: 0.00908154\tvalid's multi_logloss: 0.431442\n"
     ]
    },
    {
     "name": "stderr",
     "output_type": "stream",
     "text": [
      "2022-04-17 11:26:49 - src.train - INFO     [train.py:133] elapsed training time: 0.011 min\n",
      "2022-04-17 11:26:49 - src.train - INFO     [train.py:62] fold=24/24\n",
      "2022-04-17 11:26:49 - src.train - INFO     [train.py:63] reading cv index from data/cv_index/cv-model/sulfate/fold_9.csv\n"
     ]
    },
    {
     "name": "stdout",
     "output_type": "stream",
     "text": [
      "Early stopping, best iteration is:\n",
      "[67]\ttrain's multi_logloss: 0.0133881\tvalid's multi_logloss: 0.427619\n",
      "Training until validation scores don't improve for 20 rounds\n",
      "[20]\ttrain's multi_logloss: 0.230557\tvalid's multi_logloss: 0.514215\n",
      "[40]\ttrain's multi_logloss: 0.0546971\tvalid's multi_logloss: 0.375213\n",
      "[60]\ttrain's multi_logloss: 0.0182638\tvalid's multi_logloss: 0.367668\n"
     ]
    },
    {
     "name": "stderr",
     "output_type": "stream",
     "text": [
      "2022-04-17 11:26:49 - src.train - INFO     [train.py:133] elapsed training time: 0.012 min\n",
      "2022-04-17 11:26:49 - src.train - INFO     [train.py:62] fold=1/24\n",
      "2022-04-17 11:26:49 - src.train - INFO     [train.py:63] reading cv index from data/cv_index/cv-model/sulfate/fold_0.csv\n"
     ]
    },
    {
     "name": "stdout",
     "output_type": "stream",
     "text": [
      "[80]\ttrain's multi_logloss: 0.00941971\tvalid's multi_logloss: 0.361258\n",
      "Early stopping, best iteration is:\n",
      "[74]\ttrain's multi_logloss: 0.0109685\tvalid's multi_logloss: 0.358306\n",
      "61\n"
     ]
    },
    {
     "name": "stderr",
     "output_type": "stream",
     "text": [
      "2022-04-17 11:26:50 - src.train - INFO     [train.py:28] elapsed training time: 0.010 min\n",
      "2022-04-17 11:26:50 - src.train - INFO     [train.py:62] fold=2/24\n",
      "2022-04-17 11:26:50 - src.train - INFO     [train.py:63] reading cv index from data/cv_index/cv-model/sulfate/fold_1.csv\n",
      "2022-04-17 11:26:51 - src.train - INFO     [train.py:28] elapsed training time: 0.006 min\n",
      "2022-04-17 11:26:51 - src.train - INFO     [train.py:62] fold=3/24\n",
      "2022-04-17 11:26:51 - src.train - INFO     [train.py:63] reading cv index from data/cv_index/cv-model/sulfate/fold_10.csv\n",
      "2022-04-17 11:26:51 - src.train - INFO     [train.py:28] elapsed training time: 0.006 min\n",
      "2022-04-17 11:26:51 - src.train - INFO     [train.py:62] fold=4/24\n",
      "2022-04-17 11:26:51 - src.train - INFO     [train.py:63] reading cv index from data/cv_index/cv-model/sulfate/fold_11.csv\n",
      "2022-04-17 11:26:52 - src.train - INFO     [train.py:28] elapsed training time: 0.008 min\n",
      "2022-04-17 11:26:52 - src.train - INFO     [train.py:62] fold=5/24\n",
      "2022-04-17 11:26:52 - src.train - INFO     [train.py:63] reading cv index from data/cv_index/cv-model/sulfate/fold_12.csv\n",
      "2022-04-17 11:26:52 - src.train - INFO     [train.py:28] elapsed training time: 0.008 min\n",
      "2022-04-17 11:26:52 - src.train - INFO     [train.py:62] fold=6/24\n",
      "2022-04-17 11:26:52 - src.train - INFO     [train.py:63] reading cv index from data/cv_index/cv-model/sulfate/fold_13.csv\n",
      "2022-04-17 11:26:54 - src.train - INFO     [train.py:28] elapsed training time: 0.017 min\n",
      "2022-04-17 11:26:54 - src.train - INFO     [train.py:62] fold=7/24\n",
      "2022-04-17 11:26:54 - src.train - INFO     [train.py:63] reading cv index from data/cv_index/cv-model/sulfate/fold_14.csv\n",
      "2022-04-17 11:26:54 - src.train - INFO     [train.py:28] elapsed training time: 0.007 min\n",
      "2022-04-17 11:26:54 - src.train - INFO     [train.py:62] fold=8/24\n",
      "2022-04-17 11:26:54 - src.train - INFO     [train.py:63] reading cv index from data/cv_index/cv-model/sulfate/fold_15.csv\n",
      "2022-04-17 11:26:55 - src.train - INFO     [train.py:28] elapsed training time: 0.007 min\n",
      "2022-04-17 11:26:55 - src.train - INFO     [train.py:62] fold=9/24\n",
      "2022-04-17 11:26:55 - src.train - INFO     [train.py:63] reading cv index from data/cv_index/cv-model/sulfate/fold_16.csv\n",
      "2022-04-17 11:26:55 - src.train - INFO     [train.py:28] elapsed training time: 0.008 min\n",
      "2022-04-17 11:26:55 - src.train - INFO     [train.py:62] fold=10/24\n",
      "2022-04-17 11:26:55 - src.train - INFO     [train.py:63] reading cv index from data/cv_index/cv-model/sulfate/fold_17.csv\n",
      "2022-04-17 11:26:56 - src.train - INFO     [train.py:28] elapsed training time: 0.007 min\n",
      "2022-04-17 11:26:56 - src.train - INFO     [train.py:62] fold=11/24\n",
      "2022-04-17 11:26:56 - src.train - INFO     [train.py:63] reading cv index from data/cv_index/cv-model/sulfate/fold_18.csv\n",
      "2022-04-17 11:26:56 - src.train - INFO     [train.py:28] elapsed training time: 0.009 min\n",
      "2022-04-17 11:26:56 - src.train - INFO     [train.py:62] fold=12/24\n",
      "2022-04-17 11:26:56 - src.train - INFO     [train.py:63] reading cv index from data/cv_index/cv-model/sulfate/fold_19.csv\n",
      "2022-04-17 11:26:57 - src.train - INFO     [train.py:28] elapsed training time: 0.007 min\n",
      "2022-04-17 11:26:57 - src.train - INFO     [train.py:62] fold=13/24\n",
      "2022-04-17 11:26:57 - src.train - INFO     [train.py:63] reading cv index from data/cv_index/cv-model/sulfate/fold_2.csv\n",
      "2022-04-17 11:26:58 - src.train - INFO     [train.py:28] elapsed training time: 0.012 min\n",
      "2022-04-17 11:26:58 - src.train - INFO     [train.py:62] fold=14/24\n",
      "2022-04-17 11:26:58 - src.train - INFO     [train.py:63] reading cv index from data/cv_index/cv-model/sulfate/fold_20.csv\n",
      "2022-04-17 11:26:59 - src.train - INFO     [train.py:28] elapsed training time: 0.010 min\n",
      "2022-04-17 11:26:59 - src.train - INFO     [train.py:62] fold=15/24\n",
      "2022-04-17 11:26:59 - src.train - INFO     [train.py:63] reading cv index from data/cv_index/cv-model/sulfate/fold_21.csv\n",
      "2022-04-17 11:27:00 - src.train - INFO     [train.py:28] elapsed training time: 0.019 min\n",
      "2022-04-17 11:27:00 - src.train - INFO     [train.py:62] fold=16/24\n",
      "2022-04-17 11:27:00 - src.train - INFO     [train.py:63] reading cv index from data/cv_index/cv-model/sulfate/fold_22.csv\n",
      "2022-04-17 11:27:01 - src.train - INFO     [train.py:28] elapsed training time: 0.024 min\n",
      "2022-04-17 11:27:01 - src.train - INFO     [train.py:62] fold=17/24\n",
      "2022-04-17 11:27:01 - src.train - INFO     [train.py:63] reading cv index from data/cv_index/cv-model/sulfate/fold_23.csv\n",
      "2022-04-17 11:27:03 - src.train - INFO     [train.py:28] elapsed training time: 0.031 min\n",
      "2022-04-17 11:27:03 - src.train - INFO     [train.py:62] fold=18/24\n",
      "2022-04-17 11:27:03 - src.train - INFO     [train.py:63] reading cv index from data/cv_index/cv-model/sulfate/fold_3.csv\n",
      "2022-04-17 11:27:04 - src.train - INFO     [train.py:28] elapsed training time: 0.007 min\n",
      "2022-04-17 11:27:04 - src.train - INFO     [train.py:62] fold=19/24\n",
      "2022-04-17 11:27:04 - src.train - INFO     [train.py:63] reading cv index from data/cv_index/cv-model/sulfate/fold_4.csv\n",
      "2022-04-17 11:27:04 - src.train - INFO     [train.py:28] elapsed training time: 0.009 min\n",
      "2022-04-17 11:27:04 - src.train - INFO     [train.py:62] fold=20/24\n",
      "2022-04-17 11:27:04 - src.train - INFO     [train.py:63] reading cv index from data/cv_index/cv-model/sulfate/fold_5.csv\n",
      "2022-04-17 11:27:05 - src.train - INFO     [train.py:28] elapsed training time: 0.007 min\n",
      "2022-04-17 11:27:05 - src.train - INFO     [train.py:62] fold=21/24\n",
      "2022-04-17 11:27:05 - src.train - INFO     [train.py:63] reading cv index from data/cv_index/cv-model/sulfate/fold_6.csv\n",
      "2022-04-17 11:27:06 - src.train - INFO     [train.py:28] elapsed training time: 0.007 min\n",
      "2022-04-17 11:27:06 - src.train - INFO     [train.py:62] fold=22/24\n",
      "2022-04-17 11:27:06 - src.train - INFO     [train.py:63] reading cv index from data/cv_index/cv-model/sulfate/fold_7.csv\n",
      "2022-04-17 11:27:06 - src.train - INFO     [train.py:28] elapsed training time: 0.007 min\n",
      "2022-04-17 11:27:06 - src.train - INFO     [train.py:62] fold=23/24\n",
      "2022-04-17 11:27:06 - src.train - INFO     [train.py:63] reading cv index from data/cv_index/cv-model/sulfate/fold_8.csv\n",
      "2022-04-17 11:27:07 - src.train - INFO     [train.py:28] elapsed training time: 0.010 min\n",
      "2022-04-17 11:27:07 - src.train - INFO     [train.py:62] fold=24/24\n",
      "2022-04-17 11:27:07 - src.train - INFO     [train.py:63] reading cv index from data/cv_index/cv-model/sulfate/fold_9.csv\n",
      "2022-04-17 11:27:07 - src.train - INFO     [train.py:28] elapsed training time: 0.009 min\n",
      "2022-04-17 11:27:07 - src.train - INFO     [train.py:62] fold=1/24\n",
      "2022-04-17 11:27:07 - src.train - INFO     [train.py:63] reading cv index from data/cv_index/cv-model/sulfide/fold_0.csv\n"
     ]
    },
    {
     "name": "stdout",
     "output_type": "stream",
     "text": [
      "Training until validation scores don't improve for 20 rounds\n",
      "[20]\ttrain's multi_logloss: 0.17707\tvalid's multi_logloss: 0.326145\n"
     ]
    },
    {
     "name": "stderr",
     "output_type": "stream",
     "text": [
      "2022-04-17 11:27:08 - src.train - INFO     [train.py:133] elapsed training time: 0.008 min\n",
      "2022-04-17 11:27:08 - src.train - INFO     [train.py:62] fold=2/24\n",
      "2022-04-17 11:27:08 - src.train - INFO     [train.py:63] reading cv index from data/cv_index/cv-model/sulfide/fold_1.csv\n"
     ]
    },
    {
     "name": "stdout",
     "output_type": "stream",
     "text": [
      "[40]\ttrain's multi_logloss: 0.0369873\tvalid's multi_logloss: 0.203057\n",
      "[60]\ttrain's multi_logloss: 0.0125555\tvalid's multi_logloss: 0.199774\n",
      "Early stopping, best iteration is:\n",
      "[58]\ttrain's multi_logloss: 0.0135962\tvalid's multi_logloss: 0.198566\n",
      "Training until validation scores don't improve for 20 rounds\n",
      "[20]\ttrain's multi_logloss: 0.179144\tvalid's multi_logloss: 0.289542\n",
      "[40]\ttrain's multi_logloss: 0.0382682\tvalid's multi_logloss: 0.161586\n",
      "[60]\ttrain's multi_logloss: 0.0134534\tvalid's multi_logloss: 0.141611\n",
      "[80]\ttrain's multi_logloss: 0.00731351\tvalid's multi_logloss: 0.138394\n",
      "[100]\ttrain's multi_logloss: 0.00566599\tvalid's multi_logloss: 0.135677\n",
      "[120]\ttrain's multi_logloss: 0.00536067\tvalid's multi_logloss: 0.135526\n",
      "Early stopping, best iteration is:\n",
      "[106]\ttrain's multi_logloss: 0.00547058\tvalid's multi_logloss: 0.134715\n"
     ]
    },
    {
     "name": "stderr",
     "output_type": "stream",
     "text": [
      "2022-04-17 11:27:09 - src.train - INFO     [train.py:133] elapsed training time: 0.011 min\n",
      "2022-04-17 11:27:09 - src.train - INFO     [train.py:62] fold=3/24\n",
      "2022-04-17 11:27:09 - src.train - INFO     [train.py:63] reading cv index from data/cv_index/cv-model/sulfide/fold_10.csv\n"
     ]
    },
    {
     "name": "stdout",
     "output_type": "stream",
     "text": [
      "Training until validation scores don't improve for 20 rounds\n",
      "[20]\ttrain's multi_logloss: 0.172905\tvalid's multi_logloss: 0.352351\n"
     ]
    },
    {
     "name": "stderr",
     "output_type": "stream",
     "text": [
      "2022-04-17 11:27:09 - src.train - INFO     [train.py:133] elapsed training time: 0.008 min\n",
      "2022-04-17 11:27:09 - src.train - INFO     [train.py:62] fold=4/24\n",
      "2022-04-17 11:27:09 - src.train - INFO     [train.py:63] reading cv index from data/cv_index/cv-model/sulfide/fold_11.csv\n"
     ]
    },
    {
     "name": "stdout",
     "output_type": "stream",
     "text": [
      "[40]\ttrain's multi_logloss: 0.0357789\tvalid's multi_logloss: 0.275527\n",
      "[60]\ttrain's multi_logloss: 0.0121348\tvalid's multi_logloss: 0.282861\n",
      "Early stopping, best iteration is:\n",
      "[47]\ttrain's multi_logloss: 0.0228684\tvalid's multi_logloss: 0.273256\n",
      "Training until validation scores don't improve for 20 rounds\n",
      "[20]\ttrain's multi_logloss: 0.174433\tvalid's multi_logloss: 0.435358\n",
      "[40]\ttrain's multi_logloss: 0.0364574\tvalid's multi_logloss: 0.375355\n"
     ]
    },
    {
     "name": "stderr",
     "output_type": "stream",
     "text": [
      "2022-04-17 11:27:10 - src.train - INFO     [train.py:133] elapsed training time: 0.008 min\n",
      "2022-04-17 11:27:10 - src.train - INFO     [train.py:62] fold=5/24\n",
      "2022-04-17 11:27:10 - src.train - INFO     [train.py:63] reading cv index from data/cv_index/cv-model/sulfide/fold_12.csv\n"
     ]
    },
    {
     "name": "stdout",
     "output_type": "stream",
     "text": [
      "Early stopping, best iteration is:\n",
      "[37]\ttrain's multi_logloss: 0.0449363\tvalid's multi_logloss: 0.370316\n",
      "Training until validation scores don't improve for 20 rounds\n",
      "[20]\ttrain's multi_logloss: 0.177298\tvalid's multi_logloss: 0.378826\n",
      "[40]\ttrain's multi_logloss: 0.0376757\tvalid's multi_logloss: 0.316204\n"
     ]
    },
    {
     "name": "stderr",
     "output_type": "stream",
     "text": [
      "2022-04-17 11:27:11 - src.train - INFO     [train.py:133] elapsed training time: 0.011 min\n",
      "2022-04-17 11:27:11 - src.train - INFO     [train.py:62] fold=6/24\n",
      "2022-04-17 11:27:11 - src.train - INFO     [train.py:63] reading cv index from data/cv_index/cv-model/sulfide/fold_13.csv\n"
     ]
    },
    {
     "name": "stdout",
     "output_type": "stream",
     "text": [
      "[60]\ttrain's multi_logloss: 0.0126044\tvalid's multi_logloss: 0.318022\n",
      "Early stopping, best iteration is:\n",
      "[49]\ttrain's multi_logloss: 0.0213686\tvalid's multi_logloss: 0.311898\n",
      "Training until validation scores don't improve for 20 rounds\n",
      "[20]\ttrain's multi_logloss: 0.179648\tvalid's multi_logloss: 0.374278\n"
     ]
    },
    {
     "name": "stderr",
     "output_type": "stream",
     "text": [
      "2022-04-17 11:27:12 - src.train - INFO     [train.py:133] elapsed training time: 0.008 min\n",
      "2022-04-17 11:27:12 - src.train - INFO     [train.py:62] fold=7/24\n",
      "2022-04-17 11:27:12 - src.train - INFO     [train.py:63] reading cv index from data/cv_index/cv-model/sulfide/fold_14.csv\n"
     ]
    },
    {
     "name": "stdout",
     "output_type": "stream",
     "text": [
      "[40]\ttrain's multi_logloss: 0.0357132\tvalid's multi_logloss: 0.3043\n",
      "Early stopping, best iteration is:\n",
      "[38]\ttrain's multi_logloss: 0.0412942\tvalid's multi_logloss: 0.302442\n",
      "Training until validation scores don't improve for 20 rounds\n",
      "[20]\ttrain's multi_logloss: 0.183753\tvalid's multi_logloss: 0.348199\n",
      "[40]\ttrain's multi_logloss: 0.0391176\tvalid's multi_logloss: 0.210521\n",
      "[60]\ttrain's multi_logloss: 0.0133185\tvalid's multi_logloss: 0.179282\n",
      "[80]\ttrain's multi_logloss: 0.00738445\tvalid's multi_logloss: 0.176102\n"
     ]
    },
    {
     "name": "stderr",
     "output_type": "stream",
     "text": [
      "2022-04-17 11:27:12 - src.train - INFO     [train.py:133] elapsed training time: 0.010 min\n",
      "2022-04-17 11:27:12 - src.train - INFO     [train.py:62] fold=8/24\n",
      "2022-04-17 11:27:12 - src.train - INFO     [train.py:63] reading cv index from data/cv_index/cv-model/sulfide/fold_15.csv\n"
     ]
    },
    {
     "name": "stdout",
     "output_type": "stream",
     "text": [
      "Early stopping, best iteration is:\n",
      "[72]\ttrain's multi_logloss: 0.00889349\tvalid's multi_logloss: 0.174967\n",
      "Training until validation scores don't improve for 20 rounds\n",
      "[20]\ttrain's multi_logloss: 0.182825\tvalid's multi_logloss: 0.320708\n",
      "[40]\ttrain's multi_logloss: 0.0385484\tvalid's multi_logloss: 0.199094\n"
     ]
    },
    {
     "name": "stderr",
     "output_type": "stream",
     "text": [
      "2022-04-17 11:27:13 - src.train - INFO     [train.py:133] elapsed training time: 0.012 min\n",
      "2022-04-17 11:27:13 - src.train - INFO     [train.py:62] fold=9/24\n",
      "2022-04-17 11:27:13 - src.train - INFO     [train.py:63] reading cv index from data/cv_index/cv-model/sulfide/fold_16.csv\n"
     ]
    },
    {
     "name": "stdout",
     "output_type": "stream",
     "text": [
      "[60]\ttrain's multi_logloss: 0.0131095\tvalid's multi_logloss: 0.17854\n",
      "[80]\ttrain's multi_logloss: 0.00725712\tvalid's multi_logloss: 0.174885\n",
      "Early stopping, best iteration is:\n",
      "[76]\ttrain's multi_logloss: 0.0078956\tvalid's multi_logloss: 0.172457\n",
      "Training until validation scores don't improve for 20 rounds\n",
      "[20]\ttrain's multi_logloss: 0.189631\tvalid's multi_logloss: 0.280807\n",
      "[40]\ttrain's multi_logloss: 0.0405928\tvalid's multi_logloss: 0.137272\n",
      "[60]\ttrain's multi_logloss: 0.013953\tvalid's multi_logloss: 0.115158\n"
     ]
    },
    {
     "name": "stderr",
     "output_type": "stream",
     "text": [
      "2022-04-17 11:27:14 - src.train - INFO     [train.py:133] elapsed training time: 0.014 min\n",
      "2022-04-17 11:27:14 - src.train - INFO     [train.py:62] fold=10/24\n",
      "2022-04-17 11:27:14 - src.train - INFO     [train.py:63] reading cv index from data/cv_index/cv-model/sulfide/fold_17.csv\n"
     ]
    },
    {
     "name": "stdout",
     "output_type": "stream",
     "text": [
      "[80]\ttrain's multi_logloss: 0.00752716\tvalid's multi_logloss: 0.106093\n",
      "[100]\ttrain's multi_logloss: 0.00580792\tvalid's multi_logloss: 0.10316\n",
      "Early stopping, best iteration is:\n",
      "[98]\ttrain's multi_logloss: 0.00587948\tvalid's multi_logloss: 0.102859\n",
      "Training until validation scores don't improve for 20 rounds\n",
      "[20]\ttrain's multi_logloss: 0.182018\tvalid's multi_logloss: 0.310183\n",
      "[40]\ttrain's multi_logloss: 0.0384143\tvalid's multi_logloss: 0.226621\n"
     ]
    },
    {
     "name": "stderr",
     "output_type": "stream",
     "text": [
      "2022-04-17 11:27:15 - src.train - INFO     [train.py:133] elapsed training time: 0.009 min\n",
      "2022-04-17 11:27:15 - src.train - INFO     [train.py:62] fold=11/24\n",
      "2022-04-17 11:27:15 - src.train - INFO     [train.py:63] reading cv index from data/cv_index/cv-model/sulfide/fold_18.csv\n"
     ]
    },
    {
     "name": "stdout",
     "output_type": "stream",
     "text": [
      "[60]\ttrain's multi_logloss: 0.0129327\tvalid's multi_logloss: 0.222862\n",
      "Early stopping, best iteration is:\n",
      "[51]\ttrain's multi_logloss: 0.0196457\tvalid's multi_logloss: 0.219642\n",
      "Training until validation scores don't improve for 20 rounds\n",
      "[20]\ttrain's multi_logloss: 0.167068\tvalid's multi_logloss: 0.428087\n"
     ]
    },
    {
     "name": "stderr",
     "output_type": "stream",
     "text": [
      "2022-04-17 11:27:15 - src.train - INFO     [train.py:133] elapsed training time: 0.008 min\n",
      "2022-04-17 11:27:15 - src.train - INFO     [train.py:62] fold=12/24\n",
      "2022-04-17 11:27:15 - src.train - INFO     [train.py:63] reading cv index from data/cv_index/cv-model/sulfide/fold_19.csv\n"
     ]
    },
    {
     "name": "stdout",
     "output_type": "stream",
     "text": [
      "[40]\ttrain's multi_logloss: 0.0343117\tvalid's multi_logloss: 0.374025\n",
      "Early stopping, best iteration is:\n",
      "[36]\ttrain's multi_logloss: 0.045417\tvalid's multi_logloss: 0.368887\n",
      "Training until validation scores don't improve for 20 rounds\n",
      "[20]\ttrain's multi_logloss: 0.174265\tvalid's multi_logloss: 0.439772\n",
      "[40]\ttrain's multi_logloss: 0.0362577\tvalid's multi_logloss: 0.384401\n"
     ]
    },
    {
     "name": "stderr",
     "output_type": "stream",
     "text": [
      "2022-04-17 11:27:16 - src.train - INFO     [train.py:133] elapsed training time: 0.007 min\n",
      "2022-04-17 11:27:16 - src.train - INFO     [train.py:62] fold=13/24\n",
      "2022-04-17 11:27:16 - src.train - INFO     [train.py:63] reading cv index from data/cv_index/cv-model/sulfide/fold_2.csv\n"
     ]
    },
    {
     "name": "stdout",
     "output_type": "stream",
     "text": [
      "Early stopping, best iteration is:\n",
      "[38]\ttrain's multi_logloss: 0.0415217\tvalid's multi_logloss: 0.381844\n",
      "Training until validation scores don't improve for 20 rounds\n",
      "[20]\ttrain's multi_logloss: 0.175115\tvalid's multi_logloss: 0.386177\n"
     ]
    },
    {
     "name": "stderr",
     "output_type": "stream",
     "text": [
      "2022-04-17 11:27:17 - src.train - INFO     [train.py:133] elapsed training time: 0.009 min\n",
      "2022-04-17 11:27:17 - src.train - INFO     [train.py:62] fold=14/24\n",
      "2022-04-17 11:27:17 - src.train - INFO     [train.py:63] reading cv index from data/cv_index/cv-model/sulfide/fold_20.csv\n"
     ]
    },
    {
     "name": "stdout",
     "output_type": "stream",
     "text": [
      "[40]\ttrain's multi_logloss: 0.0359725\tvalid's multi_logloss: 0.298409\n",
      "[60]\ttrain's multi_logloss: 0.0118128\tvalid's multi_logloss: 0.298183\n",
      "Early stopping, best iteration is:\n",
      "[44]\ttrain's multi_logloss: 0.0272317\tvalid's multi_logloss: 0.293183\n",
      "Training until validation scores don't improve for 20 rounds\n",
      "[20]\ttrain's multi_logloss: 0.179352\tvalid's multi_logloss: 0.332794\n",
      "[40]\ttrain's multi_logloss: 0.0374326\tvalid's multi_logloss: 0.225379\n",
      "[60]\ttrain's multi_logloss: 0.0126552\tvalid's multi_logloss: 0.209085\n"
     ]
    },
    {
     "name": "stderr",
     "output_type": "stream",
     "text": [
      "2022-04-17 11:27:17 - src.train - INFO     [train.py:133] elapsed training time: 0.013 min\n",
      "2022-04-17 11:27:17 - src.train - INFO     [train.py:62] fold=15/24\n",
      "2022-04-17 11:27:17 - src.train - INFO     [train.py:63] reading cv index from data/cv_index/cv-model/sulfide/fold_21.csv\n"
     ]
    },
    {
     "name": "stdout",
     "output_type": "stream",
     "text": [
      "Early stopping, best iteration is:\n",
      "[54]\ttrain's multi_logloss: 0.0165519\tvalid's multi_logloss: 0.208417\n",
      "Training until validation scores don't improve for 20 rounds\n",
      "[20]\ttrain's multi_logloss: 0.180618\tvalid's multi_logloss: 0.325279\n"
     ]
    },
    {
     "name": "stderr",
     "output_type": "stream",
     "text": [
      "2022-04-17 11:27:18 - src.train - INFO     [train.py:133] elapsed training time: 0.011 min\n",
      "2022-04-17 11:27:18 - src.train - INFO     [train.py:62] fold=16/24\n",
      "2022-04-17 11:27:18 - src.train - INFO     [train.py:63] reading cv index from data/cv_index/cv-model/sulfide/fold_22.csv\n"
     ]
    },
    {
     "name": "stdout",
     "output_type": "stream",
     "text": [
      "[40]\ttrain's multi_logloss: 0.0381657\tvalid's multi_logloss: 0.206148\n",
      "[60]\ttrain's multi_logloss: 0.0128236\tvalid's multi_logloss: 0.203283\n",
      "Early stopping, best iteration is:\n",
      "[51]\ttrain's multi_logloss: 0.0197044\tvalid's multi_logloss: 0.199073\n",
      "Training until validation scores don't improve for 20 rounds\n",
      "[20]\ttrain's multi_logloss: 0.176025\tvalid's multi_logloss: 0.304374\n",
      "[40]\ttrain's multi_logloss: 0.0369001\tvalid's multi_logloss: 0.213811\n"
     ]
    },
    {
     "name": "stderr",
     "output_type": "stream",
     "text": [
      "2022-04-17 11:27:19 - src.train - INFO     [train.py:133] elapsed training time: 0.008 min\n",
      "2022-04-17 11:27:19 - src.train - INFO     [train.py:62] fold=17/24\n",
      "2022-04-17 11:27:19 - src.train - INFO     [train.py:63] reading cv index from data/cv_index/cv-model/sulfide/fold_23.csv\n"
     ]
    },
    {
     "name": "stdout",
     "output_type": "stream",
     "text": [
      "[60]\ttrain's multi_logloss: 0.01261\tvalid's multi_logloss: 0.221373\n",
      "Early stopping, best iteration is:\n",
      "[44]\ttrain's multi_logloss: 0.0284595\tvalid's multi_logloss: 0.208233\n",
      "Training until validation scores don't improve for 20 rounds\n",
      "[20]\ttrain's multi_logloss: 0.180636\tvalid's multi_logloss: 0.384947\n",
      "[40]\ttrain's multi_logloss: 0.0382419\tvalid's multi_logloss: 0.270299\n",
      "[60]\ttrain's multi_logloss: 0.0127075\tvalid's multi_logloss: 0.249267\n"
     ]
    },
    {
     "name": "stderr",
     "output_type": "stream",
     "text": [
      "2022-04-17 11:27:20 - src.train - INFO     [train.py:133] elapsed training time: 0.011 min\n",
      "2022-04-17 11:27:20 - src.train - INFO     [train.py:62] fold=18/24\n",
      "2022-04-17 11:27:20 - src.train - INFO     [train.py:63] reading cv index from data/cv_index/cv-model/sulfide/fold_3.csv\n"
     ]
    },
    {
     "name": "stdout",
     "output_type": "stream",
     "text": [
      "[80]\ttrain's multi_logloss: 0.00706231\tvalid's multi_logloss: 0.253193\n",
      "Early stopping, best iteration is:\n",
      "[65]\ttrain's multi_logloss: 0.0105399\tvalid's multi_logloss: 0.246563\n",
      "Training until validation scores don't improve for 20 rounds\n",
      "[20]\ttrain's multi_logloss: 0.187272\tvalid's multi_logloss: 0.316623\n",
      "[40]\ttrain's multi_logloss: 0.0405513\tvalid's multi_logloss: 0.213239\n",
      "[60]\ttrain's multi_logloss: 0.013639\tvalid's multi_logloss: 0.194359\n",
      "[80]\ttrain's multi_logloss: 0.00742112\tvalid's multi_logloss: 0.194791\n",
      "Early stopping, best iteration is:\n",
      "[61]\ttrain's multi_logloss: 0.0130922\tvalid's multi_logloss: 0.192968\n"
     ]
    },
    {
     "name": "stderr",
     "output_type": "stream",
     "text": [
      "2022-04-17 11:27:20 - src.train - INFO     [train.py:133] elapsed training time: 0.011 min\n",
      "2022-04-17 11:27:20 - src.train - INFO     [train.py:62] fold=19/24\n",
      "2022-04-17 11:27:20 - src.train - INFO     [train.py:63] reading cv index from data/cv_index/cv-model/sulfide/fold_4.csv\n"
     ]
    },
    {
     "name": "stdout",
     "output_type": "stream",
     "text": [
      "Training until validation scores don't improve for 20 rounds\n",
      "[20]\ttrain's multi_logloss: 0.182352\tvalid's multi_logloss: 0.296827\n",
      "[40]\ttrain's multi_logloss: 0.0388775\tvalid's multi_logloss: 0.179473\n",
      "[60]\ttrain's multi_logloss: 0.0130348\tvalid's multi_logloss: 0.152346\n",
      "[80]\ttrain's multi_logloss: 0.00712821\tvalid's multi_logloss: 0.145236\n",
      "[100]\ttrain's multi_logloss: 0.00555579\tvalid's multi_logloss: 0.144512\n",
      "[120]\ttrain's multi_logloss: 0.00519621\tvalid's multi_logloss: 0.144457\n",
      "Early stopping, best iteration is:\n",
      "[105]\ttrain's multi_logloss: 0.00539094\tvalid's multi_logloss: 0.14279\n"
     ]
    },
    {
     "name": "stderr",
     "output_type": "stream",
     "text": [
      "2022-04-17 11:27:22 - src.train - INFO     [train.py:133] elapsed training time: 0.020 min\n",
      "2022-04-17 11:27:22 - src.train - INFO     [train.py:62] fold=20/24\n",
      "2022-04-17 11:27:22 - src.train - INFO     [train.py:63] reading cv index from data/cv_index/cv-model/sulfide/fold_5.csv\n"
     ]
    },
    {
     "name": "stdout",
     "output_type": "stream",
     "text": [
      "Training until validation scores don't improve for 20 rounds\n",
      "[20]\ttrain's multi_logloss: 0.174396\tvalid's multi_logloss: 0.425441\n",
      "[40]\ttrain's multi_logloss: 0.0363696\tvalid's multi_logloss: 0.339521\n"
     ]
    },
    {
     "name": "stderr",
     "output_type": "stream",
     "text": [
      "2022-04-17 11:27:23 - src.train - INFO     [train.py:133] elapsed training time: 0.019 min\n",
      "2022-04-17 11:27:23 - src.train - INFO     [train.py:62] fold=21/24\n",
      "2022-04-17 11:27:23 - src.train - INFO     [train.py:63] reading cv index from data/cv_index/cv-model/sulfide/fold_6.csv\n"
     ]
    },
    {
     "name": "stdout",
     "output_type": "stream",
     "text": [
      "[60]\ttrain's multi_logloss: 0.0121877\tvalid's multi_logloss: 0.339152\n",
      "Early stopping, best iteration is:\n",
      "[48]\ttrain's multi_logloss: 0.0219637\tvalid's multi_logloss: 0.335595\n",
      "Training until validation scores don't improve for 20 rounds\n",
      "[20]\ttrain's multi_logloss: 0.173352\tvalid's multi_logloss: 0.403215\n"
     ]
    },
    {
     "name": "stderr",
     "output_type": "stream",
     "text": [
      "2022-04-17 11:27:24 - src.train - INFO     [train.py:133] elapsed training time: 0.009 min\n",
      "2022-04-17 11:27:24 - src.train - INFO     [train.py:62] fold=22/24\n",
      "2022-04-17 11:27:24 - src.train - INFO     [train.py:63] reading cv index from data/cv_index/cv-model/sulfide/fold_7.csv\n"
     ]
    },
    {
     "name": "stdout",
     "output_type": "stream",
     "text": [
      "[40]\ttrain's multi_logloss: 0.0351722\tvalid's multi_logloss: 0.397798\n",
      "Early stopping, best iteration is:\n",
      "[30]\ttrain's multi_logloss: 0.0751293\tvalid's multi_logloss: 0.37338\n",
      "Training until validation scores don't improve for 20 rounds\n",
      "[20]\ttrain's multi_logloss: 0.171387\tvalid's multi_logloss: 0.362638\n",
      "[40]\ttrain's multi_logloss: 0.0362468\tvalid's multi_logloss: 0.262172\n",
      "[60]\ttrain's multi_logloss: 0.012359\tvalid's multi_logloss: 0.250215\n"
     ]
    },
    {
     "name": "stderr",
     "output_type": "stream",
     "text": [
      "2022-04-17 11:27:24 - src.train - INFO     [train.py:133] elapsed training time: 0.010 min\n",
      "2022-04-17 11:27:24 - src.train - INFO     [train.py:62] fold=23/24\n",
      "2022-04-17 11:27:24 - src.train - INFO     [train.py:63] reading cv index from data/cv_index/cv-model/sulfide/fold_8.csv\n"
     ]
    },
    {
     "name": "stdout",
     "output_type": "stream",
     "text": [
      "Early stopping, best iteration is:\n",
      "[50]\ttrain's multi_logloss: 0.0194779\tvalid's multi_logloss: 0.248005\n",
      "Training until validation scores don't improve for 20 rounds\n",
      "[20]\ttrain's multi_logloss: 0.173437\tvalid's multi_logloss: 0.326703\n",
      "[40]\ttrain's multi_logloss: 0.0366052\tvalid's multi_logloss: 0.211332\n"
     ]
    },
    {
     "name": "stderr",
     "output_type": "stream",
     "text": [
      "2022-04-17 11:27:26 - src.train - INFO     [train.py:133] elapsed training time: 0.018 min\n",
      "2022-04-17 11:27:26 - src.train - INFO     [train.py:62] fold=24/24\n",
      "2022-04-17 11:27:26 - src.train - INFO     [train.py:63] reading cv index from data/cv_index/cv-model/sulfide/fold_9.csv\n"
     ]
    },
    {
     "name": "stdout",
     "output_type": "stream",
     "text": [
      "[60]\ttrain's multi_logloss: 0.0123744\tvalid's multi_logloss: 0.205613\n",
      "Early stopping, best iteration is:\n",
      "[47]\ttrain's multi_logloss: 0.023361\tvalid's multi_logloss: 0.200018\n",
      "Training until validation scores don't improve for 20 rounds\n",
      "[20]\ttrain's multi_logloss: 0.179388\tvalid's multi_logloss: 0.336662\n",
      "[40]\ttrain's multi_logloss: 0.0390461\tvalid's multi_logloss: 0.211734\n",
      "[60]\ttrain's multi_logloss: 0.0130781\tvalid's multi_logloss: 0.187207\n",
      "[80]\ttrain's multi_logloss: 0.00721728\tvalid's multi_logloss: 0.182682\n",
      "Early stopping, best iteration is:\n",
      "[77]\ttrain's multi_logloss: 0.00776191\tvalid's multi_logloss: 0.181787\n"
     ]
    },
    {
     "name": "stderr",
     "output_type": "stream",
     "text": [
      "2022-04-17 11:27:27 - src.train - INFO     [train.py:133] elapsed training time: 0.015 min\n",
      "2022-04-17 11:27:27 - src.train - INFO     [train.py:62] fold=1/24\n",
      "2022-04-17 11:27:27 - src.train - INFO     [train.py:63] reading cv index from data/cv_index/cv-model/sulfide/fold_0.csv\n"
     ]
    },
    {
     "name": "stdout",
     "output_type": "stream",
     "text": [
      "57\n"
     ]
    },
    {
     "name": "stderr",
     "output_type": "stream",
     "text": [
      "2022-04-17 11:27:27 - src.train - INFO     [train.py:28] elapsed training time: 0.007 min\n",
      "2022-04-17 11:27:27 - src.train - INFO     [train.py:62] fold=2/24\n",
      "2022-04-17 11:27:27 - src.train - INFO     [train.py:63] reading cv index from data/cv_index/cv-model/sulfide/fold_1.csv\n",
      "2022-04-17 11:27:28 - src.train - INFO     [train.py:28] elapsed training time: 0.007 min\n",
      "2022-04-17 11:27:28 - src.train - INFO     [train.py:62] fold=3/24\n",
      "2022-04-17 11:27:28 - src.train - INFO     [train.py:63] reading cv index from data/cv_index/cv-model/sulfide/fold_10.csv\n",
      "2022-04-17 11:27:28 - src.train - INFO     [train.py:28] elapsed training time: 0.007 min\n",
      "2022-04-17 11:27:28 - src.train - INFO     [train.py:62] fold=4/24\n",
      "2022-04-17 11:27:28 - src.train - INFO     [train.py:63] reading cv index from data/cv_index/cv-model/sulfide/fold_11.csv\n",
      "2022-04-17 11:27:29 - src.train - INFO     [train.py:28] elapsed training time: 0.007 min\n",
      "2022-04-17 11:27:29 - src.train - INFO     [train.py:62] fold=5/24\n",
      "2022-04-17 11:27:29 - src.train - INFO     [train.py:63] reading cv index from data/cv_index/cv-model/sulfide/fold_12.csv\n",
      "2022-04-17 11:27:30 - src.train - INFO     [train.py:28] elapsed training time: 0.008 min\n",
      "2022-04-17 11:27:30 - src.train - INFO     [train.py:62] fold=6/24\n",
      "2022-04-17 11:27:30 - src.train - INFO     [train.py:63] reading cv index from data/cv_index/cv-model/sulfide/fold_13.csv\n",
      "2022-04-17 11:27:30 - src.train - INFO     [train.py:28] elapsed training time: 0.007 min\n",
      "2022-04-17 11:27:30 - src.train - INFO     [train.py:62] fold=7/24\n",
      "2022-04-17 11:27:30 - src.train - INFO     [train.py:63] reading cv index from data/cv_index/cv-model/sulfide/fold_14.csv\n",
      "2022-04-17 11:27:31 - src.train - INFO     [train.py:28] elapsed training time: 0.006 min\n",
      "2022-04-17 11:27:31 - src.train - INFO     [train.py:62] fold=8/24\n",
      "2022-04-17 11:27:31 - src.train - INFO     [train.py:63] reading cv index from data/cv_index/cv-model/sulfide/fold_15.csv\n",
      "2022-04-17 11:27:32 - src.train - INFO     [train.py:28] elapsed training time: 0.014 min\n",
      "2022-04-17 11:27:32 - src.train - INFO     [train.py:62] fold=9/24\n",
      "2022-04-17 11:27:32 - src.train - INFO     [train.py:63] reading cv index from data/cv_index/cv-model/sulfide/fold_16.csv\n",
      "2022-04-17 11:27:32 - src.train - INFO     [train.py:28] elapsed training time: 0.008 min\n",
      "2022-04-17 11:27:32 - src.train - INFO     [train.py:62] fold=10/24\n",
      "2022-04-17 11:27:32 - src.train - INFO     [train.py:63] reading cv index from data/cv_index/cv-model/sulfide/fold_17.csv\n",
      "2022-04-17 11:27:33 - src.train - INFO     [train.py:28] elapsed training time: 0.013 min\n",
      "2022-04-17 11:27:33 - src.train - INFO     [train.py:62] fold=11/24\n",
      "2022-04-17 11:27:33 - src.train - INFO     [train.py:63] reading cv index from data/cv_index/cv-model/sulfide/fold_18.csv\n",
      "2022-04-17 11:27:33 - src.train - INFO     [train.py:28] elapsed training time: 0.006 min\n",
      "2022-04-17 11:27:33 - src.train - INFO     [train.py:62] fold=12/24\n",
      "2022-04-17 11:27:33 - src.train - INFO     [train.py:63] reading cv index from data/cv_index/cv-model/sulfide/fold_19.csv\n",
      "2022-04-17 11:27:34 - src.train - INFO     [train.py:28] elapsed training time: 0.014 min\n",
      "2022-04-17 11:27:34 - src.train - INFO     [train.py:62] fold=13/24\n",
      "2022-04-17 11:27:34 - src.train - INFO     [train.py:63] reading cv index from data/cv_index/cv-model/sulfide/fold_2.csv\n",
      "2022-04-17 11:27:35 - src.train - INFO     [train.py:28] elapsed training time: 0.006 min\n",
      "2022-04-17 11:27:35 - src.train - INFO     [train.py:62] fold=14/24\n",
      "2022-04-17 11:27:35 - src.train - INFO     [train.py:63] reading cv index from data/cv_index/cv-model/sulfide/fold_20.csv\n",
      "2022-04-17 11:27:35 - src.train - INFO     [train.py:28] elapsed training time: 0.008 min\n",
      "2022-04-17 11:27:35 - src.train - INFO     [train.py:62] fold=15/24\n",
      "2022-04-17 11:27:35 - src.train - INFO     [train.py:63] reading cv index from data/cv_index/cv-model/sulfide/fold_21.csv\n",
      "2022-04-17 11:27:36 - src.train - INFO     [train.py:28] elapsed training time: 0.007 min\n",
      "2022-04-17 11:27:36 - src.train - INFO     [train.py:62] fold=16/24\n",
      "2022-04-17 11:27:36 - src.train - INFO     [train.py:63] reading cv index from data/cv_index/cv-model/sulfide/fold_22.csv\n",
      "2022-04-17 11:27:37 - src.train - INFO     [train.py:28] elapsed training time: 0.008 min\n",
      "2022-04-17 11:27:37 - src.train - INFO     [train.py:62] fold=17/24\n",
      "2022-04-17 11:27:37 - src.train - INFO     [train.py:63] reading cv index from data/cv_index/cv-model/sulfide/fold_23.csv\n",
      "2022-04-17 11:27:37 - src.train - INFO     [train.py:28] elapsed training time: 0.008 min\n",
      "2022-04-17 11:27:37 - src.train - INFO     [train.py:62] fold=18/24\n",
      "2022-04-17 11:27:37 - src.train - INFO     [train.py:63] reading cv index from data/cv_index/cv-model/sulfide/fold_3.csv\n",
      "2022-04-17 11:27:38 - src.train - INFO     [train.py:28] elapsed training time: 0.007 min\n",
      "2022-04-17 11:27:38 - src.train - INFO     [train.py:62] fold=19/24\n",
      "2022-04-17 11:27:38 - src.train - INFO     [train.py:63] reading cv index from data/cv_index/cv-model/sulfide/fold_4.csv\n",
      "2022-04-17 11:27:38 - src.train - INFO     [train.py:28] elapsed training time: 0.006 min\n",
      "2022-04-17 11:27:38 - src.train - INFO     [train.py:62] fold=20/24\n",
      "2022-04-17 11:27:38 - src.train - INFO     [train.py:63] reading cv index from data/cv_index/cv-model/sulfide/fold_5.csv\n",
      "2022-04-17 11:27:39 - src.train - INFO     [train.py:28] elapsed training time: 0.006 min\n",
      "2022-04-17 11:27:39 - src.train - INFO     [train.py:62] fold=21/24\n",
      "2022-04-17 11:27:39 - src.train - INFO     [train.py:63] reading cv index from data/cv_index/cv-model/sulfide/fold_6.csv\n",
      "2022-04-17 11:27:39 - src.train - INFO     [train.py:28] elapsed training time: 0.005 min\n",
      "2022-04-17 11:27:39 - src.train - INFO     [train.py:62] fold=22/24\n",
      "2022-04-17 11:27:39 - src.train - INFO     [train.py:63] reading cv index from data/cv_index/cv-model/sulfide/fold_7.csv\n",
      "2022-04-17 11:27:40 - src.train - INFO     [train.py:28] elapsed training time: 0.006 min\n",
      "2022-04-17 11:27:40 - src.train - INFO     [train.py:62] fold=23/24\n",
      "2022-04-17 11:27:40 - src.train - INFO     [train.py:63] reading cv index from data/cv_index/cv-model/sulfide/fold_8.csv\n",
      "2022-04-17 11:27:40 - src.train - INFO     [train.py:28] elapsed training time: 0.007 min\n",
      "2022-04-17 11:27:40 - src.train - INFO     [train.py:62] fold=24/24\n",
      "2022-04-17 11:27:40 - src.train - INFO     [train.py:63] reading cv index from data/cv_index/cv-model/sulfide/fold_9.csv\n",
      "2022-04-17 11:27:41 - src.train - INFO     [train.py:28] elapsed training time: 0.013 min\n"
     ]
    }
   ],
   "source": [
    "models = train_one_vs_the_rest(data, model_config, feature_names)"
   ]
  },
  {
   "cell_type": "code",
   "execution_count": 25,
   "id": "f07e8b54",
   "metadata": {
    "ExecuteTime": {
     "end_time": "2022-04-17T15:27:41.681715Z",
     "start_time": "2022-04-17T15:27:41.632493Z"
    }
   },
   "outputs": [],
   "source": [
    "def predict_multiclass_fn(model, test_data):\n",
    "    probs = model.predict_proba(test_data)\n",
    "    return probs[:, 2:].sum(axis=1)"
   ]
  },
  {
   "cell_type": "code",
   "execution_count": 26,
   "id": "43d1a33c",
   "metadata": {
    "ExecuteTime": {
     "end_time": "2022-04-17T15:28:07.491150Z",
     "start_time": "2022-04-17T15:27:41.683782Z"
    }
   },
   "outputs": [],
   "source": [
    "scores = {}\n",
    "\n",
    "for target_name in cfg.TARGETS:\n",
    "    cv_paths = get_cv_paths(cv_dir, target_name)\n",
    "    model = models[target_name]\n",
    "    scores[target_name] = inference.cross_validation_inference(data, target_name, model, cv_paths, predict_multiclass_fn)\n",
    "scores = pd.DataFrame(scores)"
   ]
  },
  {
   "cell_type": "code",
   "execution_count": 27,
   "id": "f13f897b",
   "metadata": {
    "ExecuteTime": {
     "end_time": "2022-04-17T15:28:07.548463Z",
     "start_time": "2022-04-17T15:28:07.493558Z"
    }
   },
   "outputs": [],
   "source": [
    "cv_scores = scores.mean()"
   ]
  },
  {
   "cell_type": "code",
   "execution_count": 28,
   "id": "5dc7165b",
   "metadata": {
    "ExecuteTime": {
     "end_time": "2022-04-17T15:28:07.619622Z",
     "start_time": "2022-04-17T15:28:07.555509Z"
    }
   },
   "outputs": [
    {
     "data": {
      "text/plain": [
       "basalt            0.152756\n",
       "carbonate         0.107894\n",
       "chloride          0.168266\n",
       "iron_oxide        0.201910\n",
       "oxalate           0.027786\n",
       "oxychlorine       0.157219\n",
       "phyllosilicate    0.256776\n",
       "silicate          0.179252\n",
       "sulfate           0.186406\n",
       "sulfide           0.058878\n",
       "dtype: float64"
      ]
     },
     "execution_count": 28,
     "metadata": {},
     "output_type": "execute_result"
    }
   ],
   "source": [
    "cv_scores"
   ]
  },
  {
   "cell_type": "code",
   "execution_count": 29,
   "id": "07e085fc",
   "metadata": {
    "ExecuteTime": {
     "end_time": "2022-04-17T15:28:07.675805Z",
     "start_time": "2022-04-17T15:28:07.622549Z"
    }
   },
   "outputs": [],
   "source": [
    "test_dir = Path(dirs['test'])"
   ]
  },
  {
   "cell_type": "code",
   "execution_count": 30,
   "id": "2e04a13a",
   "metadata": {
    "ExecuteTime": {
     "end_time": "2022-04-17T15:28:08.059814Z",
     "start_time": "2022-04-17T15:28:07.680824Z"
    }
   },
   "outputs": [],
   "source": [
    "pd_test_agg_features = pd.read_csv(test_dir / 'mz_agg_features.csv', index_col='sample_id')\n",
    "\n",
    "pd_test_cluster_features = pd.read_csv(test_dir / 'ae_clusters.csv', index_col='sample_id')\n",
    "\n",
    "test_sample_features = pd.read_csv(test_dir / 'sample_features.csv', index_col='sample_id')\n",
    "pd_test_features = pd.concat((test_sample_features, pd_test_agg_features, pd_test_cluster_features), axis=1)"
   ]
  },
  {
   "cell_type": "code",
   "execution_count": 31,
   "id": "5136b581",
   "metadata": {
    "ExecuteTime": {
     "end_time": "2022-04-17T15:28:08.146221Z",
     "start_time": "2022-04-17T15:28:08.064729Z"
    }
   },
   "outputs": [
    {
     "data": {
      "text/html": [
       "<div>\n",
       "<style scoped>\n",
       "    .dataframe tbody tr th:only-of-type {\n",
       "        vertical-align: middle;\n",
       "    }\n",
       "\n",
       "    .dataframe tbody tr th {\n",
       "        vertical-align: top;\n",
       "    }\n",
       "\n",
       "    .dataframe thead th {\n",
       "        text-align: right;\n",
       "    }\n",
       "</style>\n",
       "<table border=\"1\" class=\"dataframe\">\n",
       "  <thead>\n",
       "    <tr style=\"text-align: right;\">\n",
       "      <th></th>\n",
       "      <th>sample_mol_ion_less99</th>\n",
       "      <th>sample_weighted_mass</th>\n",
       "      <th>sample_max_temp</th>\n",
       "      <th>sample_min_temp</th>\n",
       "      <th>sample_temp_range</th>\n",
       "      <th>sum_mz0</th>\n",
       "      <th>sum_mz1</th>\n",
       "      <th>sum_mz2</th>\n",
       "      <th>sum_mz3</th>\n",
       "      <th>sum_mz5</th>\n",
       "      <th>...</th>\n",
       "      <th>cluster_mz90</th>\n",
       "      <th>cluster_mz91</th>\n",
       "      <th>cluster_mz92</th>\n",
       "      <th>cluster_mz93</th>\n",
       "      <th>cluster_mz94</th>\n",
       "      <th>cluster_mz95</th>\n",
       "      <th>cluster_mz96</th>\n",
       "      <th>cluster_mz97</th>\n",
       "      <th>cluster_mz98</th>\n",
       "      <th>cluster_mz99</th>\n",
       "    </tr>\n",
       "    <tr>\n",
       "      <th>sample_id</th>\n",
       "      <th></th>\n",
       "      <th></th>\n",
       "      <th></th>\n",
       "      <th></th>\n",
       "      <th></th>\n",
       "      <th></th>\n",
       "      <th></th>\n",
       "      <th></th>\n",
       "      <th></th>\n",
       "      <th></th>\n",
       "      <th></th>\n",
       "      <th></th>\n",
       "      <th></th>\n",
       "      <th></th>\n",
       "      <th></th>\n",
       "      <th></th>\n",
       "      <th></th>\n",
       "      <th></th>\n",
       "      <th></th>\n",
       "      <th></th>\n",
       "      <th></th>\n",
       "    </tr>\n",
       "  </thead>\n",
       "  <tbody>\n",
       "    <tr>\n",
       "      <th>S0766</th>\n",
       "      <td>0</td>\n",
       "      <td>0.005432</td>\n",
       "      <td>0.501948</td>\n",
       "      <td>0.340250</td>\n",
       "      <td>0.505124</td>\n",
       "      <td>0.926832</td>\n",
       "      <td>0.920168</td>\n",
       "      <td>0.871866</td>\n",
       "      <td>0.897009</td>\n",
       "      <td>0.924933</td>\n",
       "      <td>...</td>\n",
       "      <td>6.0</td>\n",
       "      <td>6.0</td>\n",
       "      <td>7.0</td>\n",
       "      <td>7.0</td>\n",
       "      <td>6.0</td>\n",
       "      <td>8.0</td>\n",
       "      <td>7.0</td>\n",
       "      <td>7.0</td>\n",
       "      <td>6.0</td>\n",
       "      <td>8.0</td>\n",
       "    </tr>\n",
       "    <tr>\n",
       "      <th>S0767</th>\n",
       "      <td>0</td>\n",
       "      <td>0.065747</td>\n",
       "      <td>0.930877</td>\n",
       "      <td>0.220117</td>\n",
       "      <td>0.934335</td>\n",
       "      <td>0.875786</td>\n",
       "      <td>0.857193</td>\n",
       "      <td>0.809102</td>\n",
       "      <td>0.840202</td>\n",
       "      <td>0.874561</td>\n",
       "      <td>...</td>\n",
       "      <td>7.0</td>\n",
       "      <td>7.0</td>\n",
       "      <td>8.0</td>\n",
       "      <td>7.0</td>\n",
       "      <td>8.0</td>\n",
       "      <td>8.0</td>\n",
       "      <td>7.0</td>\n",
       "      <td>7.0</td>\n",
       "      <td>7.0</td>\n",
       "      <td>7.0</td>\n",
       "    </tr>\n",
       "    <tr>\n",
       "      <th>S0768</th>\n",
       "      <td>0</td>\n",
       "      <td>0.342944</td>\n",
       "      <td>0.849340</td>\n",
       "      <td>0.737245</td>\n",
       "      <td>0.847321</td>\n",
       "      <td>0.614612</td>\n",
       "      <td>0.576422</td>\n",
       "      <td>0.549181</td>\n",
       "      <td>0.580665</td>\n",
       "      <td>0.569098</td>\n",
       "      <td>...</td>\n",
       "      <td>7.0</td>\n",
       "      <td>8.0</td>\n",
       "      <td>7.0</td>\n",
       "      <td>0.0</td>\n",
       "      <td>7.0</td>\n",
       "      <td>7.0</td>\n",
       "      <td>8.0</td>\n",
       "      <td>6.0</td>\n",
       "      <td>7.0</td>\n",
       "      <td>6.0</td>\n",
       "    </tr>\n",
       "    <tr>\n",
       "      <th>S0769</th>\n",
       "      <td>0</td>\n",
       "      <td>0.864026</td>\n",
       "      <td>0.081626</td>\n",
       "      <td>0.962396</td>\n",
       "      <td>0.081617</td>\n",
       "      <td>0.145793</td>\n",
       "      <td>0.101693</td>\n",
       "      <td>0.068192</td>\n",
       "      <td>0.111700</td>\n",
       "      <td>0.105252</td>\n",
       "      <td>...</td>\n",
       "      <td>11.0</td>\n",
       "      <td>10.0</td>\n",
       "      <td>7.0</td>\n",
       "      <td>11.0</td>\n",
       "      <td>4.0</td>\n",
       "      <td>7.0</td>\n",
       "      <td>8.0</td>\n",
       "      <td>10.0</td>\n",
       "      <td>7.0</td>\n",
       "      <td>6.0</td>\n",
       "    </tr>\n",
       "    <tr>\n",
       "      <th>S0770</th>\n",
       "      <td>0</td>\n",
       "      <td>0.765547</td>\n",
       "      <td>0.674757</td>\n",
       "      <td>0.653061</td>\n",
       "      <td>0.675945</td>\n",
       "      <td>0.482291</td>\n",
       "      <td>0.446705</td>\n",
       "      <td>0.411472</td>\n",
       "      <td>0.443042</td>\n",
       "      <td>0.465338</td>\n",
       "      <td>...</td>\n",
       "      <td>8.0</td>\n",
       "      <td>0.0</td>\n",
       "      <td>9.0</td>\n",
       "      <td>7.0</td>\n",
       "      <td>7.0</td>\n",
       "      <td>8.0</td>\n",
       "      <td>6.0</td>\n",
       "      <td>6.0</td>\n",
       "      <td>7.0</td>\n",
       "      <td>8.0</td>\n",
       "    </tr>\n",
       "  </tbody>\n",
       "</table>\n",
       "<p>5 rows × 698 columns</p>\n",
       "</div>"
      ],
      "text/plain": [
       "           sample_mol_ion_less99  sample_weighted_mass  sample_max_temp  \\\n",
       "sample_id                                                                 \n",
       "S0766                          0              0.005432         0.501948   \n",
       "S0767                          0              0.065747         0.930877   \n",
       "S0768                          0              0.342944         0.849340   \n",
       "S0769                          0              0.864026         0.081626   \n",
       "S0770                          0              0.765547         0.674757   \n",
       "\n",
       "           sample_min_temp  sample_temp_range   sum_mz0   sum_mz1   sum_mz2  \\\n",
       "sample_id                                                                     \n",
       "S0766             0.340250           0.505124  0.926832  0.920168  0.871866   \n",
       "S0767             0.220117           0.934335  0.875786  0.857193  0.809102   \n",
       "S0768             0.737245           0.847321  0.614612  0.576422  0.549181   \n",
       "S0769             0.962396           0.081617  0.145793  0.101693  0.068192   \n",
       "S0770             0.653061           0.675945  0.482291  0.446705  0.411472   \n",
       "\n",
       "            sum_mz3   sum_mz5  ...  cluster_mz90  cluster_mz91  cluster_mz92  \\\n",
       "sample_id                      ...                                             \n",
       "S0766      0.897009  0.924933  ...           6.0           6.0           7.0   \n",
       "S0767      0.840202  0.874561  ...           7.0           7.0           8.0   \n",
       "S0768      0.580665  0.569098  ...           7.0           8.0           7.0   \n",
       "S0769      0.111700  0.105252  ...          11.0          10.0           7.0   \n",
       "S0770      0.443042  0.465338  ...           8.0           0.0           9.0   \n",
       "\n",
       "           cluster_mz93  cluster_mz94  cluster_mz95  cluster_mz96  \\\n",
       "sample_id                                                           \n",
       "S0766               7.0           6.0           8.0           7.0   \n",
       "S0767               7.0           8.0           8.0           7.0   \n",
       "S0768               0.0           7.0           7.0           8.0   \n",
       "S0769              11.0           4.0           7.0           8.0   \n",
       "S0770               7.0           7.0           8.0           6.0   \n",
       "\n",
       "           cluster_mz97  cluster_mz98  cluster_mz99  \n",
       "sample_id                                            \n",
       "S0766               7.0           6.0           8.0  \n",
       "S0767               7.0           7.0           7.0  \n",
       "S0768               6.0           7.0           6.0  \n",
       "S0769              10.0           7.0           6.0  \n",
       "S0770               6.0           7.0           8.0  \n",
       "\n",
       "[5 rows x 698 columns]"
      ]
     },
     "execution_count": 31,
     "metadata": {},
     "output_type": "execute_result"
    }
   ],
   "source": [
    "pd_test_features.head()"
   ]
  },
  {
   "cell_type": "code",
   "execution_count": 32,
   "id": "c06bba86",
   "metadata": {
    "ExecuteTime": {
     "end_time": "2022-04-17T15:28:13.381724Z",
     "start_time": "2022-04-17T15:28:08.152449Z"
    }
   },
   "outputs": [],
   "source": [
    "from src.preprocessing import post_processing_prediction\n",
    "\n",
    "test_yhat = {}\n",
    "\n",
    "for target_name in cfg.TARGETS:\n",
    "    target_models = models[target_name]\n",
    "    target_yhat = np.mean([predict_multiclass_fn(model, pd_test_features) for model in target_models], axis=0)\n",
    "    target_yhat = post_processing_prediction(pd_test_features, target_name, target_yhat)\n",
    "    test_yhat[target_name] = target_yhat\n",
    "test_yhat = pd.DataFrame(test_yhat, index=pd_test_features.index)"
   ]
  },
  {
   "cell_type": "code",
   "execution_count": 33,
   "id": "31b995a7",
   "metadata": {
    "ExecuteTime": {
     "end_time": "2022-04-17T15:28:37.961493Z",
     "start_time": "2022-04-17T15:28:13.389962Z"
    }
   },
   "outputs": [],
   "source": [
    "train_yhat = {}\n",
    "for target_name in cfg.TARGETS:\n",
    "    target_models = models[target_name]\n",
    "    cv_paths = get_cv_paths(cv_dir, target_name)\n",
    "    target_yhat = inference.compute_avg_prediction(data, target_models, cv_paths, predict_multiclass_fn)\n",
    "    train_yhat[target_name] = target_yhat\n",
    "train_yhat = pd.DataFrame(train_yhat)"
   ]
  },
  {
   "cell_type": "code",
   "execution_count": 34,
   "id": "78e9a926",
   "metadata": {
    "ExecuteTime": {
     "end_time": "2022-04-17T15:28:38.011287Z",
     "start_time": "2022-04-17T15:28:37.963440Z"
    }
   },
   "outputs": [],
   "source": [
    "sub_dir = Path(dirs['submission'])"
   ]
  },
  {
   "cell_type": "code",
   "execution_count": 35,
   "id": "482a4390",
   "metadata": {
    "ExecuteTime": {
     "end_time": "2022-04-17T15:28:38.080676Z",
     "start_time": "2022-04-17T15:28:38.015095Z"
    }
   },
   "outputs": [],
   "source": [
    "sub_dir = sub_dir.joinpath('optimized-iteration-lgbm', 'validation')"
   ]
  },
  {
   "cell_type": "code",
   "execution_count": 36,
   "id": "bcff8ccb",
   "metadata": {
    "ExecuteTime": {
     "end_time": "2022-04-17T15:28:38.138336Z",
     "start_time": "2022-04-17T15:28:38.087943Z"
    }
   },
   "outputs": [],
   "source": [
    "sub_dir.mkdir(exist_ok=True, parents=True)"
   ]
  },
  {
   "cell_type": "code",
   "execution_count": 37,
   "id": "4dea96d4",
   "metadata": {
    "ExecuteTime": {
     "end_time": "2022-04-17T15:28:38.202236Z",
     "start_time": "2022-04-17T15:28:38.144871Z"
    }
   },
   "outputs": [],
   "source": [
    "test_yhat.to_csv(sub_dir / 'submission.csv', index=True)"
   ]
  },
  {
   "cell_type": "code",
   "execution_count": 38,
   "id": "8cd0d68b",
   "metadata": {
    "ExecuteTime": {
     "end_time": "2022-04-17T15:28:38.297750Z",
     "start_time": "2022-04-17T15:28:38.206207Z"
    }
   },
   "outputs": [],
   "source": [
    "train_yhat.to_csv(sub_dir / 'train.csv', index=True)"
   ]
  },
  {
   "cell_type": "code",
   "execution_count": null,
   "id": "26131413",
   "metadata": {},
   "outputs": [],
   "source": []
  }
 ],
 "metadata": {
  "kernelspec": {
   "display_name": "Python 3 (ipykernel)",
   "language": "python",
   "name": "python3"
  },
  "language_info": {
   "codemirror_mode": {
    "name": "ipython",
    "version": 3
   },
   "file_extension": ".py",
   "mimetype": "text/x-python",
   "name": "python",
   "nbconvert_exporter": "python",
   "pygments_lexer": "ipython3",
   "version": "3.8.8"
  },
  "toc": {
   "base_numbering": 1,
   "nav_menu": {},
   "number_sections": true,
   "sideBar": true,
   "skip_h1_title": false,
   "title_cell": "Table of Contents",
   "title_sidebar": "Contents",
   "toc_cell": false,
   "toc_position": {},
   "toc_section_display": true,
   "toc_window_display": false
  }
 },
 "nbformat": 4,
 "nbformat_minor": 5
}
