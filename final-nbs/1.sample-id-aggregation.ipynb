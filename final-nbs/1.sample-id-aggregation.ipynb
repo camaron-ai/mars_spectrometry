{
 "cells": [
  {
   "cell_type": "code",
   "execution_count": 1,
   "id": "2356f65b",
   "metadata": {
    "ExecuteTime": {
     "end_time": "2022-04-16T20:28:23.715722Z",
     "start_time": "2022-04-16T20:28:23.686390Z"
    }
   },
   "outputs": [],
   "source": [
    "%load_ext autoreload\n",
    "%autoreload 2"
   ]
  },
  {
   "cell_type": "code",
   "execution_count": 2,
   "id": "09d5bff1",
   "metadata": {
    "ExecuteTime": {
     "end_time": "2022-04-16T20:28:25.410753Z",
     "start_time": "2022-04-16T20:28:23.720169Z"
    }
   },
   "outputs": [],
   "source": [
    "from pathlib import Path\n",
    "import pandas as pd\n",
    "import numpy as np\n",
    "from matplotlib import pyplot as plt\n",
    "import seaborn as sns\n",
    "import os"
   ]
  },
  {
   "cell_type": "code",
   "execution_count": 3,
   "id": "875d884c",
   "metadata": {
    "ExecuteTime": {
     "end_time": "2022-04-16T20:28:25.433201Z",
     "start_time": "2022-04-16T20:28:25.413844Z"
    }
   },
   "outputs": [],
   "source": [
    "PROJECT_DIR = os.path.abspath('.')\n",
    "if PROJECT_DIR.endswith('final-nbs'):\n",
    "    PROJECT_DIR = os.path.abspath('../')\n",
    "    os.chdir(PROJECT_DIR)"
   ]
  },
  {
   "cell_type": "code",
   "execution_count": 4,
   "id": "fb8a71ed",
   "metadata": {
    "ExecuteTime": {
     "end_time": "2022-04-16T20:28:25.516935Z",
     "start_time": "2022-04-16T20:28:25.438747Z"
    }
   },
   "outputs": [],
   "source": [
    "import cfg\n",
    "from src.data import get_features_path_from_metadata, join_dataframe_columns\n",
    "from src import util\n",
    "from src.data import setup_directories\n",
    "\n",
    "util.setup_logging()\n",
    "\n",
    "dirs = setup_directories(cfg.DATA_DIR, create_dirs=True)"
   ]
  },
  {
   "cell_type": "code",
   "execution_count": 5,
   "id": "fa94654a",
   "metadata": {
    "ExecuteTime": {
     "end_time": "2022-04-16T20:28:25.541714Z",
     "start_time": "2022-04-16T20:28:25.520229Z"
    }
   },
   "outputs": [],
   "source": [
    "raw_dir = Path(dirs['raw'])"
   ]
  },
  {
   "cell_type": "code",
   "execution_count": 6,
   "id": "53072b4e",
   "metadata": {
    "ExecuteTime": {
     "end_time": "2022-04-16T20:28:25.585562Z",
     "start_time": "2022-04-16T20:28:25.544917Z"
    }
   },
   "outputs": [
    {
     "data": {
      "text/html": [
       "<div>\n",
       "<style scoped>\n",
       "    .dataframe tbody tr th:only-of-type {\n",
       "        vertical-align: middle;\n",
       "    }\n",
       "\n",
       "    .dataframe tbody tr th {\n",
       "        vertical-align: top;\n",
       "    }\n",
       "\n",
       "    .dataframe thead th {\n",
       "        text-align: right;\n",
       "    }\n",
       "</style>\n",
       "<table border=\"1\" class=\"dataframe\">\n",
       "  <thead>\n",
       "    <tr style=\"text-align: right;\">\n",
       "      <th></th>\n",
       "      <th>split</th>\n",
       "      <th>instrument_type</th>\n",
       "      <th>features_path</th>\n",
       "      <th>features_md5_hash</th>\n",
       "    </tr>\n",
       "    <tr>\n",
       "      <th>sample_id</th>\n",
       "      <th></th>\n",
       "      <th></th>\n",
       "      <th></th>\n",
       "      <th></th>\n",
       "    </tr>\n",
       "  </thead>\n",
       "  <tbody>\n",
       "    <tr>\n",
       "      <th>S0000</th>\n",
       "      <td>train</td>\n",
       "      <td>commercial</td>\n",
       "      <td>train_features/S0000.csv</td>\n",
       "      <td>017b9a71a702e81a828e6242aa15f049</td>\n",
       "    </tr>\n",
       "    <tr>\n",
       "      <th>S0001</th>\n",
       "      <td>train</td>\n",
       "      <td>commercial</td>\n",
       "      <td>train_features/S0001.csv</td>\n",
       "      <td>0d09840214054d254bd49436c6a6f315</td>\n",
       "    </tr>\n",
       "    <tr>\n",
       "      <th>S0002</th>\n",
       "      <td>train</td>\n",
       "      <td>commercial</td>\n",
       "      <td>train_features/S0002.csv</td>\n",
       "      <td>3f58b3c9b001bfed6ed4e4f757083e09</td>\n",
       "    </tr>\n",
       "    <tr>\n",
       "      <th>S0003</th>\n",
       "      <td>train</td>\n",
       "      <td>commercial</td>\n",
       "      <td>train_features/S0003.csv</td>\n",
       "      <td>e9a12f96114a2fda60b36f4c0f513fb1</td>\n",
       "    </tr>\n",
       "    <tr>\n",
       "      <th>S0004</th>\n",
       "      <td>train</td>\n",
       "      <td>commercial</td>\n",
       "      <td>train_features/S0004.csv</td>\n",
       "      <td>b67603d3931897bfa796ac42cc16de78</td>\n",
       "    </tr>\n",
       "  </tbody>\n",
       "</table>\n",
       "</div>"
      ],
      "text/plain": [
       "           split instrument_type             features_path  \\\n",
       "sample_id                                                    \n",
       "S0000      train      commercial  train_features/S0000.csv   \n",
       "S0001      train      commercial  train_features/S0001.csv   \n",
       "S0002      train      commercial  train_features/S0002.csv   \n",
       "S0003      train      commercial  train_features/S0003.csv   \n",
       "S0004      train      commercial  train_features/S0004.csv   \n",
       "\n",
       "                          features_md5_hash  \n",
       "sample_id                                    \n",
       "S0000      017b9a71a702e81a828e6242aa15f049  \n",
       "S0001      0d09840214054d254bd49436c6a6f315  \n",
       "S0002      3f58b3c9b001bfed6ed4e4f757083e09  \n",
       "S0003      e9a12f96114a2fda60b36f4c0f513fb1  \n",
       "S0004      b67603d3931897bfa796ac42cc16de78  "
      ]
     },
     "execution_count": 6,
     "metadata": {},
     "output_type": "execute_result"
    }
   ],
   "source": [
    "# read metadata\n",
    "pd_metadata = pd.read_csv(raw_dir / \"metadata.csv\", index_col=\"sample_id\")\n",
    "pd_metadata.head()"
   ]
  },
  {
   "cell_type": "code",
   "execution_count": 7,
   "id": "c99b758f",
   "metadata": {
    "ExecuteTime": {
     "end_time": "2022-04-16T20:28:25.635801Z",
     "start_time": "2022-04-16T20:28:25.588892Z"
    }
   },
   "outputs": [],
   "source": [
    "train_files = get_features_path_from_metadata(pd_metadata.query(\"split == 'train'\"), raw_dir)\n",
    "valid_files = get_features_path_from_metadata(pd_metadata.query(\"split == 'val'\"), raw_dir)\n",
    "test_files = get_features_path_from_metadata(pd_metadata.query(\"split != 'train'\"), raw_dir)"
   ]
  },
  {
   "cell_type": "code",
   "execution_count": 8,
   "id": "5822e7c6",
   "metadata": {
    "ExecuteTime": {
     "end_time": "2022-04-16T20:28:25.672419Z",
     "start_time": "2022-04-16T20:28:25.639960Z"
    }
   },
   "outputs": [
    {
     "data": {
      "text/plain": [
       "(766, 293, 804)"
      ]
     },
     "execution_count": 8,
     "metadata": {},
     "output_type": "execute_result"
    }
   ],
   "source": [
    "len(train_files), len(valid_files), len(test_files)"
   ]
  },
  {
   "cell_type": "code",
   "execution_count": 9,
   "id": "3ad65788",
   "metadata": {
    "ExecuteTime": {
     "end_time": "2022-04-16T20:28:25.719644Z",
     "start_time": "2022-04-16T20:28:25.675769Z"
    }
   },
   "outputs": [],
   "source": [
    "from src.preprocessing import apply_preprocessing_fn"
   ]
  },
  {
   "cell_type": "code",
   "execution_count": 10,
   "id": "df0ddd97",
   "metadata": {
    "ExecuteTime": {
     "end_time": "2022-04-16T20:28:25.767987Z",
     "start_time": "2022-04-16T20:28:25.726295Z"
    }
   },
   "outputs": [],
   "source": [
    "def compute_weighted_mass(sample_data: pd.DataFrame):\n",
    "    mz_abun_sum = (sample_data.groupby(['m/z'])['abundance']\n",
    "                   .sum()\n",
    "                   .to_frame('abun_sum')\n",
    "                   .reset_index())\n",
    "    total_abun = mz_abun_sum['abun_sum'].sum()\n",
    "    \n",
    "    return mz_abun_sum[['m/z', 'abun_sum']].prod(axis=1).sum() / total_abun\n",
    "    \n",
    "    \n",
    "def compute_sample_features(sample_data: pd.DataFrame) -> pd.DataFrame:\n",
    "    output = {}\n",
    "    # molecular ion\n",
    "    output['mol_ion_less99'] = int(sample_data['m/z'].max() < 99)\n",
    "    # abundance sum could tell us about\n",
    "    output['weighted_mass'] = compute_weighted_mass(sample_data)\n",
    "    output['max_temp'] = sample_data['temp'].max()\n",
    "    output['min_temp'] = sample_data['temp'].min()\n",
    "    output['temp_range'] = output['max_temp'] - output['min_temp']\n",
    "    return pd.DataFrame([output]).add_prefix('sample_')\n",
    "    "
   ]
  },
  {
   "cell_type": "code",
   "execution_count": 11,
   "id": "e16548e9",
   "metadata": {
    "ExecuteTime": {
     "end_time": "2022-04-16T20:28:59.301099Z",
     "start_time": "2022-04-16T20:28:25.771506Z"
    }
   },
   "outputs": [
    {
     "data": {
      "application/vnd.jupyter.widget-view+json": {
       "model_id": "47e6fc528a174968b566843cce895ee7",
       "version_major": 2,
       "version_minor": 0
      },
      "text/plain": [
       "  0%|          | 0/766 [00:00<?, ?it/s]"
      ]
     },
     "metadata": {},
     "output_type": "display_data"
    }
   ],
   "source": [
    "_train_sample_features = apply_preprocessing_fn(train_files, pd_metadata, processing_fn=compute_sample_features)\n",
    "\n",
    "train_sample_features = pd.concat(\n",
    "    _train_sample_features, names=['sample_id', 'dummy_index']\n",
    "    ).reset_index(level='dummy_index', drop=True)"
   ]
  },
  {
   "cell_type": "code",
   "execution_count": 12,
   "id": "352eae36",
   "metadata": {
    "ExecuteTime": {
     "end_time": "2022-04-16T20:29:10.045654Z",
     "start_time": "2022-04-16T20:28:59.303241Z"
    }
   },
   "outputs": [
    {
     "data": {
      "application/vnd.jupyter.widget-view+json": {
       "model_id": "5cf0a7a8bda14fadbab398d20ba3eeb4",
       "version_major": 2,
       "version_minor": 0
      },
      "text/plain": [
       "  0%|          | 0/293 [00:00<?, ?it/s]"
      ]
     },
     "metadata": {},
     "output_type": "display_data"
    }
   ],
   "source": [
    "_valid_sample_features = apply_preprocessing_fn(valid_files, pd_metadata, processing_fn=compute_sample_features)\n",
    "\n",
    "valid_sample_features = pd.concat(\n",
    "    _valid_sample_features, names=['sample_id', 'dummy_index']\n",
    "    ).reset_index(level='dummy_index', drop=True)"
   ]
  },
  {
   "cell_type": "code",
   "execution_count": 13,
   "id": "d5699286",
   "metadata": {
    "ExecuteTime": {
     "end_time": "2022-04-16T20:29:49.202351Z",
     "start_time": "2022-04-16T20:29:10.049628Z"
    }
   },
   "outputs": [
    {
     "data": {
      "application/vnd.jupyter.widget-view+json": {
       "model_id": "ad24d9ffae494e5aa528b08cb5bea7fa",
       "version_major": 2,
       "version_minor": 0
      },
      "text/plain": [
       "  0%|          | 0/804 [00:00<?, ?it/s]"
      ]
     },
     "metadata": {},
     "output_type": "display_data"
    }
   ],
   "source": [
    "_test_sample_features = apply_preprocessing_fn(test_files, pd_metadata, processing_fn=compute_sample_features)\n",
    "\n",
    "test_sample_features = pd.concat(\n",
    "    _test_sample_features, names=['sample_id', 'dummy_index']\n",
    "    ).reset_index(level='dummy_index', drop=True)"
   ]
  },
  {
   "cell_type": "code",
   "execution_count": 14,
   "id": "986923d7",
   "metadata": {
    "ExecuteTime": {
     "end_time": "2022-04-16T20:29:49.224669Z",
     "start_time": "2022-04-16T20:29:49.205928Z"
    }
   },
   "outputs": [],
   "source": [
    "train_dir = Path(dirs['train'])\n",
    "valid_dir = Path(dirs['valid'])\n",
    "test_dir = Path(dirs['test'])"
   ]
  },
  {
   "cell_type": "code",
   "execution_count": 15,
   "id": "7fbd925b",
   "metadata": {
    "ExecuteTime": {
     "end_time": "2022-04-16T20:29:49.349421Z",
     "start_time": "2022-04-16T20:29:49.227677Z"
    }
   },
   "outputs": [],
   "source": [
    "from sklearn.preprocessing import QuantileTransformer\n",
    "\n",
    "\n",
    "for feature in train_sample_features.columns.drop('sample_mol_ion_less99'):\n",
    "    quantile_transformer = QuantileTransformer(n_quantiles=50).fit(train_sample_features[[feature]])\n",
    "    train_sample_features[[feature]] = quantile_transformer.transform(train_sample_features[[feature]])\n",
    "    valid_sample_features[[feature]] = quantile_transformer.transform(valid_sample_features[[feature]])\n",
    "    test_sample_features[[feature]] = quantile_transformer.transform(test_sample_features[[feature]])\n",
    "    "
   ]
  },
  {
   "cell_type": "code",
   "execution_count": 16,
   "id": "b7c67077",
   "metadata": {
    "ExecuteTime": {
     "end_time": "2022-04-16T20:29:49.400813Z",
     "start_time": "2022-04-16T20:29:49.357453Z"
    }
   },
   "outputs": [
    {
     "data": {
      "text/html": [
       "<div>\n",
       "<style scoped>\n",
       "    .dataframe tbody tr th:only-of-type {\n",
       "        vertical-align: middle;\n",
       "    }\n",
       "\n",
       "    .dataframe tbody tr th {\n",
       "        vertical-align: top;\n",
       "    }\n",
       "\n",
       "    .dataframe thead th {\n",
       "        text-align: right;\n",
       "    }\n",
       "</style>\n",
       "<table border=\"1\" class=\"dataframe\">\n",
       "  <thead>\n",
       "    <tr style=\"text-align: right;\">\n",
       "      <th></th>\n",
       "      <th>sample_mol_ion_less99</th>\n",
       "      <th>sample_weighted_mass</th>\n",
       "      <th>sample_max_temp</th>\n",
       "      <th>sample_min_temp</th>\n",
       "      <th>sample_temp_range</th>\n",
       "    </tr>\n",
       "    <tr>\n",
       "      <th>sample_id</th>\n",
       "      <th></th>\n",
       "      <th></th>\n",
       "      <th></th>\n",
       "      <th></th>\n",
       "      <th></th>\n",
       "    </tr>\n",
       "  </thead>\n",
       "  <tbody>\n",
       "    <tr>\n",
       "      <th>S0000</th>\n",
       "      <td>0</td>\n",
       "      <td>0.518489</td>\n",
       "      <td>0.005352</td>\n",
       "      <td>0.880821</td>\n",
       "      <td>0.006048</td>\n",
       "    </tr>\n",
       "    <tr>\n",
       "      <th>S0001</th>\n",
       "      <td>1</td>\n",
       "      <td>0.469380</td>\n",
       "      <td>0.040891</td>\n",
       "      <td>0.018339</td>\n",
       "      <td>0.041015</td>\n",
       "    </tr>\n",
       "    <tr>\n",
       "      <th>S0002</th>\n",
       "      <td>0</td>\n",
       "      <td>0.581730</td>\n",
       "      <td>0.190760</td>\n",
       "      <td>0.078410</td>\n",
       "      <td>0.193533</td>\n",
       "    </tr>\n",
       "    <tr>\n",
       "      <th>S0003</th>\n",
       "      <td>0</td>\n",
       "      <td>0.896246</td>\n",
       "      <td>0.482619</td>\n",
       "      <td>0.233902</td>\n",
       "      <td>0.489582</td>\n",
       "    </tr>\n",
       "    <tr>\n",
       "      <th>S0004</th>\n",
       "      <td>0</td>\n",
       "      <td>0.549664</td>\n",
       "      <td>0.593211</td>\n",
       "      <td>0.614802</td>\n",
       "      <td>0.586967</td>\n",
       "    </tr>\n",
       "  </tbody>\n",
       "</table>\n",
       "</div>"
      ],
      "text/plain": [
       "           sample_mol_ion_less99  sample_weighted_mass  sample_max_temp  \\\n",
       "sample_id                                                                 \n",
       "S0000                          0              0.518489         0.005352   \n",
       "S0001                          1              0.469380         0.040891   \n",
       "S0002                          0              0.581730         0.190760   \n",
       "S0003                          0              0.896246         0.482619   \n",
       "S0004                          0              0.549664         0.593211   \n",
       "\n",
       "           sample_min_temp  sample_temp_range  \n",
       "sample_id                                      \n",
       "S0000             0.880821           0.006048  \n",
       "S0001             0.018339           0.041015  \n",
       "S0002             0.078410           0.193533  \n",
       "S0003             0.233902           0.489582  \n",
       "S0004             0.614802           0.586967  "
      ]
     },
     "execution_count": 16,
     "metadata": {},
     "output_type": "execute_result"
    }
   ],
   "source": [
    "train_sample_features.head()"
   ]
  },
  {
   "cell_type": "code",
   "execution_count": 17,
   "id": "452d593e",
   "metadata": {
    "ExecuteTime": {
     "end_time": "2022-04-16T20:29:49.433891Z",
     "start_time": "2022-04-16T20:29:49.404014Z"
    }
   },
   "outputs": [
    {
     "data": {
      "text/html": [
       "<div>\n",
       "<style scoped>\n",
       "    .dataframe tbody tr th:only-of-type {\n",
       "        vertical-align: middle;\n",
       "    }\n",
       "\n",
       "    .dataframe tbody tr th {\n",
       "        vertical-align: top;\n",
       "    }\n",
       "\n",
       "    .dataframe thead th {\n",
       "        text-align: right;\n",
       "    }\n",
       "</style>\n",
       "<table border=\"1\" class=\"dataframe\">\n",
       "  <thead>\n",
       "    <tr style=\"text-align: right;\">\n",
       "      <th></th>\n",
       "      <th>sample_mol_ion_less99</th>\n",
       "      <th>sample_weighted_mass</th>\n",
       "      <th>sample_max_temp</th>\n",
       "      <th>sample_min_temp</th>\n",
       "      <th>sample_temp_range</th>\n",
       "    </tr>\n",
       "    <tr>\n",
       "      <th>sample_id</th>\n",
       "      <th></th>\n",
       "      <th></th>\n",
       "      <th></th>\n",
       "      <th></th>\n",
       "      <th></th>\n",
       "    </tr>\n",
       "  </thead>\n",
       "  <tbody>\n",
       "    <tr>\n",
       "      <th>S0766</th>\n",
       "      <td>0</td>\n",
       "      <td>0.005432</td>\n",
       "      <td>0.501948</td>\n",
       "      <td>0.340250</td>\n",
       "      <td>0.505124</td>\n",
       "    </tr>\n",
       "    <tr>\n",
       "      <th>S0767</th>\n",
       "      <td>0</td>\n",
       "      <td>0.065747</td>\n",
       "      <td>0.930877</td>\n",
       "      <td>0.220117</td>\n",
       "      <td>0.934335</td>\n",
       "    </tr>\n",
       "    <tr>\n",
       "      <th>S0768</th>\n",
       "      <td>0</td>\n",
       "      <td>0.342944</td>\n",
       "      <td>0.849340</td>\n",
       "      <td>0.737245</td>\n",
       "      <td>0.847321</td>\n",
       "    </tr>\n",
       "    <tr>\n",
       "      <th>S0769</th>\n",
       "      <td>0</td>\n",
       "      <td>0.864026</td>\n",
       "      <td>0.081626</td>\n",
       "      <td>0.962396</td>\n",
       "      <td>0.081617</td>\n",
       "    </tr>\n",
       "    <tr>\n",
       "      <th>S0770</th>\n",
       "      <td>0</td>\n",
       "      <td>0.765547</td>\n",
       "      <td>0.674757</td>\n",
       "      <td>0.653061</td>\n",
       "      <td>0.675945</td>\n",
       "    </tr>\n",
       "  </tbody>\n",
       "</table>\n",
       "</div>"
      ],
      "text/plain": [
       "           sample_mol_ion_less99  sample_weighted_mass  sample_max_temp  \\\n",
       "sample_id                                                                 \n",
       "S0766                          0              0.005432         0.501948   \n",
       "S0767                          0              0.065747         0.930877   \n",
       "S0768                          0              0.342944         0.849340   \n",
       "S0769                          0              0.864026         0.081626   \n",
       "S0770                          0              0.765547         0.674757   \n",
       "\n",
       "           sample_min_temp  sample_temp_range  \n",
       "sample_id                                      \n",
       "S0766             0.340250           0.505124  \n",
       "S0767             0.220117           0.934335  \n",
       "S0768             0.737245           0.847321  \n",
       "S0769             0.962396           0.081617  \n",
       "S0770             0.653061           0.675945  "
      ]
     },
     "execution_count": 17,
     "metadata": {},
     "output_type": "execute_result"
    }
   ],
   "source": [
    "valid_sample_features.head()"
   ]
  },
  {
   "cell_type": "code",
   "execution_count": 18,
   "id": "81107403",
   "metadata": {
    "ExecuteTime": {
     "end_time": "2022-04-16T20:29:49.477235Z",
     "start_time": "2022-04-16T20:29:49.437511Z"
    }
   },
   "outputs": [
    {
     "data": {
      "text/html": [
       "<div>\n",
       "<style scoped>\n",
       "    .dataframe tbody tr th:only-of-type {\n",
       "        vertical-align: middle;\n",
       "    }\n",
       "\n",
       "    .dataframe tbody tr th {\n",
       "        vertical-align: top;\n",
       "    }\n",
       "\n",
       "    .dataframe thead th {\n",
       "        text-align: right;\n",
       "    }\n",
       "</style>\n",
       "<table border=\"1\" class=\"dataframe\">\n",
       "  <thead>\n",
       "    <tr style=\"text-align: right;\">\n",
       "      <th></th>\n",
       "      <th>sample_mol_ion_less99</th>\n",
       "      <th>sample_weighted_mass</th>\n",
       "      <th>sample_max_temp</th>\n",
       "      <th>sample_min_temp</th>\n",
       "      <th>sample_temp_range</th>\n",
       "    </tr>\n",
       "    <tr>\n",
       "      <th>sample_id</th>\n",
       "      <th></th>\n",
       "      <th></th>\n",
       "      <th></th>\n",
       "      <th></th>\n",
       "      <th></th>\n",
       "    </tr>\n",
       "  </thead>\n",
       "  <tbody>\n",
       "    <tr>\n",
       "      <th>S0766</th>\n",
       "      <td>0</td>\n",
       "      <td>0.005432</td>\n",
       "      <td>0.501948</td>\n",
       "      <td>0.340250</td>\n",
       "      <td>0.505124</td>\n",
       "    </tr>\n",
       "    <tr>\n",
       "      <th>S0767</th>\n",
       "      <td>0</td>\n",
       "      <td>0.065747</td>\n",
       "      <td>0.930877</td>\n",
       "      <td>0.220117</td>\n",
       "      <td>0.934335</td>\n",
       "    </tr>\n",
       "    <tr>\n",
       "      <th>S0768</th>\n",
       "      <td>0</td>\n",
       "      <td>0.342944</td>\n",
       "      <td>0.849340</td>\n",
       "      <td>0.737245</td>\n",
       "      <td>0.847321</td>\n",
       "    </tr>\n",
       "    <tr>\n",
       "      <th>S0769</th>\n",
       "      <td>0</td>\n",
       "      <td>0.864026</td>\n",
       "      <td>0.081626</td>\n",
       "      <td>0.962396</td>\n",
       "      <td>0.081617</td>\n",
       "    </tr>\n",
       "    <tr>\n",
       "      <th>S0770</th>\n",
       "      <td>0</td>\n",
       "      <td>0.765547</td>\n",
       "      <td>0.674757</td>\n",
       "      <td>0.653061</td>\n",
       "      <td>0.675945</td>\n",
       "    </tr>\n",
       "  </tbody>\n",
       "</table>\n",
       "</div>"
      ],
      "text/plain": [
       "           sample_mol_ion_less99  sample_weighted_mass  sample_max_temp  \\\n",
       "sample_id                                                                 \n",
       "S0766                          0              0.005432         0.501948   \n",
       "S0767                          0              0.065747         0.930877   \n",
       "S0768                          0              0.342944         0.849340   \n",
       "S0769                          0              0.864026         0.081626   \n",
       "S0770                          0              0.765547         0.674757   \n",
       "\n",
       "           sample_min_temp  sample_temp_range  \n",
       "sample_id                                      \n",
       "S0766             0.340250           0.505124  \n",
       "S0767             0.220117           0.934335  \n",
       "S0768             0.737245           0.847321  \n",
       "S0769             0.962396           0.081617  \n",
       "S0770             0.653061           0.675945  "
      ]
     },
     "execution_count": 18,
     "metadata": {},
     "output_type": "execute_result"
    }
   ],
   "source": [
    "test_sample_features.head()"
   ]
  },
  {
   "cell_type": "code",
   "execution_count": 19,
   "id": "b1a441d0",
   "metadata": {
    "ExecuteTime": {
     "end_time": "2022-04-16T20:29:49.521401Z",
     "start_time": "2022-04-16T20:29:49.481012Z"
    }
   },
   "outputs": [],
   "source": [
    "train_sample_features.to_csv(train_dir / 'sample_features.csv', index=True)"
   ]
  },
  {
   "cell_type": "code",
   "execution_count": 20,
   "id": "d9a7cabb",
   "metadata": {
    "ExecuteTime": {
     "end_time": "2022-04-16T20:29:49.553328Z",
     "start_time": "2022-04-16T20:29:49.526352Z"
    }
   },
   "outputs": [],
   "source": [
    "valid_sample_features.to_csv(valid_dir / 'sample_features.csv', index=True)"
   ]
  },
  {
   "cell_type": "code",
   "execution_count": 21,
   "id": "2bc4e724",
   "metadata": {
    "ExecuteTime": {
     "end_time": "2022-04-16T20:29:49.593536Z",
     "start_time": "2022-04-16T20:29:49.558295Z"
    }
   },
   "outputs": [],
   "source": [
    "test_sample_features.to_csv(test_dir / 'sample_features.csv', index=True)"
   ]
  },
  {
   "cell_type": "markdown",
   "id": "cf611185",
   "metadata": {},
   "source": [
    "### analysis "
   ]
  },
  {
   "cell_type": "code",
   "execution_count": 22,
   "id": "cf75d3fc",
   "metadata": {
    "ExecuteTime": {
     "end_time": "2022-04-16T20:29:49.620902Z",
     "start_time": "2022-04-16T20:29:49.597231Z"
    }
   },
   "outputs": [],
   "source": [
    "# pd_train_target = pd.read_csv(train_dir / 'multiclass.csv', index_col='sample_id')\n",
    "# train_sample_features = train_sample_features.join(pd_train_target)"
   ]
  },
  {
   "cell_type": "code",
   "execution_count": 23,
   "id": "e9d78077",
   "metadata": {
    "ExecuteTime": {
     "end_time": "2022-04-16T20:29:49.652462Z",
     "start_time": "2022-04-16T20:29:49.625796Z"
    }
   },
   "outputs": [],
   "source": [
    "# pd_valid_target = pd.read_csv(train_dir / 'multiclass.csv', index_col='sample_id')\n",
    "# valid_sample_features = valid_sample_features.join(pd_valid_target)"
   ]
  },
  {
   "cell_type": "code",
   "execution_count": 24,
   "id": "935f3ba8",
   "metadata": {
    "ExecuteTime": {
     "end_time": "2022-04-16T20:29:49.686087Z",
     "start_time": "2022-04-16T20:29:49.657312Z"
    }
   },
   "outputs": [],
   "source": [
    "# train_sample_features['is_sam_testbed'] = train_sample_features.index.map(pd_metadata['instrument_type']) == 'sam_testbed'\n",
    "\n",
    "# test_sample_features['is_sam_testbed'] = test_sample_features.index.map(pd_metadata['instrument_type']) == 'sam_testbed'\n",
    "\n",
    "# train_sample_features.groupby(train_sample_features['sample_max_mz'] < 99)['is_sam_testbed'].sum()\n",
    "\n",
    "# test_sample_features.groupby(test_sample_features['sample_max_mz'] < 99)['is_sam_testbed'].sum()\n",
    "\n",
    "# for target_name in pd_train_target.columns:\n",
    "    \n",
    "#     display((train_sample_features.groupby(train_sample_features['sample_max_mz'] < 99)\n",
    "#      [target_name]\n",
    "#      .value_counts()\n",
    "#      .to_frame('count')\n",
    "#      .sort_index() \n",
    "#     ))\n",
    "\n",
    "# train_sample_features.groupby(train_sample_features['sample_max_mz'] < 99)[cfg.TARGETS].mean()\n",
    "\n",
    "# valid_sample_features.groupby(valid_sample_features['sample_max_mz'] < 99)[cfg.TARGETS].mean()\n",
    "\n",
    "# train_mass_under99 = train_sample_features[train_sample_features['sample_max_mz'] < 99].copy()\n",
    "\n",
    "# # none of the max smple < 99 is samtestbed, so we can conclude that is right\n",
    "# # for the test set, there is 7 observations that are sam testbed which are less than 99\n",
    "\n",
    "# # it makes sense that if the molecular ion is less than 99 is because the molecule has a small mass\n",
    "# # so it can not be a molecule with higher mass\n",
    "\n",
    "# # for the train set and valid set it is the same, chloride can not have a mass of less than 99\n",
    "\n",
    "# train_sample_features.groupby(train_sample_features['sample_min_mz'] > 1)['is_sam_testbed'].sum()\n",
    "# # all of them are from sam testbed, so we can conclude anything\n",
    "\n",
    "# train_sample_features.groupby(train_sample_features['sample_min_mz'] > 1)['is_sam_testbed'].mean()\n",
    "\n",
    "# test_sample_features.groupby(test_sample_features['sample_min_mz'] > 1)['is_sam_testbed'].sum()\n",
    "# # all of them are from sam testbed, so we can conclude anything\n",
    "# # ok, any of the sam tesbed include hydrogen, whyyyyyy?\n",
    "\n",
    "# (train_sample_features['sample_min_mz'] > 1).agg(('sum', 'mean'))\n",
    "\n",
    "# (test_sample_features['sample_min_mz'] > 1).agg(('sum', 'mean'))\n",
    "\n",
    "# test_sample_features['is_sam_testbed'].mean() # ok"
   ]
  },
  {
   "cell_type": "code",
   "execution_count": null,
   "id": "f1fda727",
   "metadata": {},
   "outputs": [],
   "source": []
  }
 ],
 "metadata": {
  "kernelspec": {
   "display_name": "Python 3 (ipykernel)",
   "language": "python",
   "name": "python3"
  },
  "language_info": {
   "codemirror_mode": {
    "name": "ipython",
    "version": 3
   },
   "file_extension": ".py",
   "mimetype": "text/x-python",
   "name": "python",
   "nbconvert_exporter": "python",
   "pygments_lexer": "ipython3",
   "version": "3.8.8"
  },
  "toc": {
   "base_numbering": 1,
   "nav_menu": {},
   "number_sections": true,
   "sideBar": true,
   "skip_h1_title": false,
   "title_cell": "Table of Contents",
   "title_sidebar": "Contents",
   "toc_cell": false,
   "toc_position": {},
   "toc_section_display": true,
   "toc_window_display": false
  }
 },
 "nbformat": 4,
 "nbformat_minor": 5
}
